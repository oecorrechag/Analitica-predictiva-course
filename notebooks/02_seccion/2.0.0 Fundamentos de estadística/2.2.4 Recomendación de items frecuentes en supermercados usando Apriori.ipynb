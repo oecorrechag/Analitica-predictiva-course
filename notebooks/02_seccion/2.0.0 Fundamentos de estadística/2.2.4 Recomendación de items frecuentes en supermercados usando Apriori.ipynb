{
 "cells": [
  {
   "cell_type": "markdown",
   "id": "6bfc8fc6",
   "metadata": {},
   "source": [
    "# 2.2.4 Recomendación de items frecuentes en supermercados usando Apriori"
   ]
  },
  {
   "cell_type": "code",
   "execution_count": 1,
   "id": "53b57b40",
   "metadata": {},
   "outputs": [],
   "source": [
    "%load_ext autoreload\n",
    "%autoreload 2"
   ]
  },
  {
   "cell_type": "code",
   "execution_count": 2,
   "id": "5fb86f3c",
   "metadata": {},
   "outputs": [],
   "source": [
    "import pandas as pd\n",
    "import numpy as np\n",
    "import matplotlib.pyplot as plt\n",
    "\n",
    "from sklearn.metrics import confusion_matrix\n",
    "\n",
    "pd.set_option('display.max_columns', None)\n",
    "pd.set_option('display.max_rows', None)\n",
    "import warnings\n",
    "warnings.filterwarnings(\"ignore\")"
   ]
  },
  {
   "cell_type": "markdown",
   "id": "88342a20",
   "metadata": {},
   "source": [
    "En este ejemplo se desarrolla un sistema de reglas de asociación usando el algoritmo Apriori para realizar recomendaciones a clientes a partir de su compra actual.\n",
    "\n",
    "### Descripción del problema\n",
    "\n",
    "Una cadena de supermercados desea construir un sistema de recomendación para su página web que sugiera a un comprador otros productos que podrían interesarle dependiendo de la búsqueda o la selección de productos que haya realizado en el momento de realizar la selección.\n",
    "\n",
    "Se tiene una base de datos de 9835 transacciones recolectadas de forma continua durante 12 días para un supermercado relativamente pequeño. Para hacer este problema manejable no se tuvieron en cuenta las posibles marcas de un mismo producto ni los distintos tipos de presentaciones. De esta forma, se tienen registros de 169 tipos de productos como chicken, frozen meals, margarine, etc. El objetivo en términos de los datos consiste en determinar los grupos de productos que se compran frecuentemente juntos con el fin de que cuando un cliente seleccione uno o más items de un determinado grupo, los restantes elementos le sean sugeridos automáticamente por el sistema.\n",
    "\n",
    "### Preparación\n",
    "\n",
    "El archivo anterior contiene una transacción por fila, y los items comprados por transacción aparecen separados por coma:\n",
    "\n",
    "citrus fruit,semi-finished bread,margarine,ready soups\n",
    "tropical fruit,yogurt,coffee\n",
    "whole milk\n",
    "pip fruit,yogurt,cream cheese ,meat spreads\n",
    "other vegetables,whole milk,condensed milk,long life bakery product\n",
    "whole milk,butter,yogurt,rice,abrasive cleaner\n",
    "rolls/buns\n",
    "other vegetables,UHT-milk,rolls/buns,bottled beer,liquor (appetizer)\n",
    "pot plants\n",
    "whole milk,cereals\n",
    "\n",
    "Una de las dificultades para manejar esta información es que cada fila puede contener un número diferente de elementos por lo que no es posible usar directamente un data.frame y se utiliza una matriz esparcida.\n",
    "\n",
    "### Análisis exploratorio\n",
    "\n",
    "En el archivo R studio : 2.2.4 Recomendación de items frecuentes en supermercados usando Apriori.Rmd"
   ]
  },
  {
   "cell_type": "code",
   "execution_count": 3,
   "id": "55e0489e",
   "metadata": {},
   "outputs": [
    {
     "name": "stdout",
     "output_type": "stream",
     "text": [
      "ok_\n"
     ]
    }
   ],
   "source": [
    "print('ok_')"
   ]
  }
 ],
 "metadata": {
  "kernelspec": {
   "display_name": "Python 3 (ipykernel)",
   "language": "python",
   "name": "python3"
  },
  "language_info": {
   "codemirror_mode": {
    "name": "ipython",
    "version": 3
   },
   "file_extension": ".py",
   "mimetype": "text/x-python",
   "name": "python",
   "nbconvert_exporter": "python",
   "pygments_lexer": "ipython3",
   "version": "3.11.4"
  }
 },
 "nbformat": 4,
 "nbformat_minor": 5
}
