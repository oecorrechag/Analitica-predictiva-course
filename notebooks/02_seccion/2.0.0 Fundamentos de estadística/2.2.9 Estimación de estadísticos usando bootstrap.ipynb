{
 "cells": [
  {
   "cell_type": "markdown",
   "id": "6bfc8fc6",
   "metadata": {},
   "source": [
    "# 2.2.9 Estimación de estadísticos usando bootstrap"
   ]
  },
  {
   "cell_type": "code",
   "execution_count": 1,
   "id": "bbeefcb2",
   "metadata": {},
   "outputs": [],
   "source": [
    "%load_ext autoreload\n",
    "%autoreload 2"
   ]
  },
  {
   "cell_type": "code",
   "execution_count": 2,
   "id": "dcce2c19",
   "metadata": {},
   "outputs": [],
   "source": [
    "import pandas as pd\n",
    "\n",
    "from scipy.stats import norm, lognorm\n",
    "\n",
    "pd.set_option('display.max_columns', None)\n",
    "pd.set_option('display.max_rows', None)\n",
    "import warnings\n",
    "warnings.filterwarnings(\"ignore\")"
   ]
  },
  {
   "cell_type": "code",
   "execution_count": 3,
   "id": "0a715b38",
   "metadata": {},
   "outputs": [],
   "source": [
    "import sys\n",
    "sys.path.append(\"../../../\") \n",
    "\n",
    "from utils.paths import make_dir_line\n",
    "\n",
    "modality = 'u'\n",
    "project = 'Analitica predictiva'\n",
    "data = make_dir_line(modality, project)\n",
    "\n",
    "raw = data('raw')"
   ]
  },
  {
   "cell_type": "markdown",
   "id": "64d5a1aa",
   "metadata": {},
   "source": [
    "La estimación de la distribución de probabilidades (y sus propiedades) de un estadístico suele ser dificil debido a que solo unos pocos estadísticos siguen una distribución de probabilidades conocida. El bootstrap es un método numérico para realizar está estimación a partir de una muestra de datos. Uno de sus usos más importantes es la estimación del error promedio de pronóstico en modelos predictivos comúnmente usados en analítica.\n",
    "\n",
    "## Descripción del problema\n",
    "\n",
    "Se tiene la siguiente muestra de datos, obtenida de un experimento. Se desea estimar la media de la población."
   ]
  },
  {
   "cell_type": "code",
   "execution_count": 4,
   "id": "e347114f",
   "metadata": {},
   "outputs": [],
   "source": [
    "x = [0.09, 0.15, 0.18, 0.16, 0.23, 0.35, 0.49, 0.68, 0.71, 0.85, 0.96, 0.98, 0.27]"
   ]
  },
  {
   "cell_type": "markdown",
   "id": "6fcb992c",
   "metadata": {},
   "source": [
    "## Conceptos básicos\n",
    "\n",
    "A continuación se presentan las principales definiciones asociadas al concepto de bootstrap.\n",
    "\n",
    "![Alt text](images/bootstrap_1.png)\n",
    "\n",
    "**Población:** Colección de objetos o individuos sobre los cuales se desea obtener información de interés.\n",
    "\n",
    "**Muestra:** Grupo obtenido aleatoriamente que es representativo de la población.\n",
    "\n",
    "**Parámetro:** Un valor que resume una propiedad o característica de la población entera.\n",
    "\n",
    "**Muestreo sin reemplazo:** Cuando una observación es seleccionada ya no está disponible en adelante.\n",
    "\n",
    "**Muestreo con reemplazo:** Cada observación es devuelta a la población después de ser seleccionada.\n",
    "\n",
    "**Muestreo aleatorio:** Muestreo de elementos de forma aleatoria tal que cada miembro de la población tiene igual probabilidad de ser seleccionado.\n",
    "\n",
    "**Muestreo estratificado:** División de la población en estratos y muestreo aleatorio de cada estrato.\n",
    "\n",
    "**Muestra aleatoria simple:** Muestra que resulta de muestrear la población sin estratificar.\n",
    "\n",
    "**Muestra sesgada:** Muestra que no representa la población.\n",
    "\n",
    "**Sesgo estadístico:** Errores de muestreo o medición que son sistemáticos y producidos por la medición o el muestreo mismo.\n",
    "\n",
    "**Estadístico:** Un número que resume una propiedad o característica de la muestra.\n",
    "\n",
    "**Estadístico muestral:** Una métrica calculada para una muestra de datos obtenida de forma aleatoria de la población.\n",
    "\n",
    "**Distribución muestral:** Es la distribución de probabilidad de un estadístico muestral calculado sobre muchas muestras o remuestreos.\n",
    "\n",
    "**Error estándar:** Es la desviación estándar del estadístico muestral sobre muchas muestras.\n",
    "\n",
    "Para estimar el valor de un parámetro de la población mediante un estadístico calculado sobre la muestra, se deben tener en cuenta alguna de las dos siguientes opciones:\n",
    "\n",
    "- Pruebas de hipótesis (se caracterizaron en el módulo de análisis exploratorio).\n",
    "- Estimación de intervalos de confianza.\n",
    "\n",
    "El problema abordado aquí radica en que el estadístico calculado (la media de la muestra) es una aproximación al parámetro real de la población (la media de la población); si se obtienen diferentes muestras de datos, y se calcula el estadístico de interés, se obtendrán distintos valores (distintas medias); entonces, la pregunta es cómo aproximar la media de la población a partir de la muestra de datos. Esta es la utilidad del bootstrapping.\n",
    "\n",
    "## Bootstrapping\n",
    "\n",
    "El bootstrap se usa cuando no es posible derivar ecuaciones que permitan aproximar la distribución de probabilidades de un estadístico. El bootstrap se basa en el remuestreo de los datos para poder obtener una muestra del estadístico que se está calculado.\n",
    "\n",
    "Suponga que tiene una muestra de ocho ejemplos:\n",
    "\n",
    "$$\n",
    "\n",
    "\\{x1,x2,x3,x4,x5,x6,x7,x8\\}\n",
    "\n",
    "$$\n",
    "\n",
    "Una muestra bootstap se obtiene de la muestra original, seleccionando ocho elementos de forma aleatoria con reemplazo. Por ejemplo, una muestra bootstrap podría ser:\n",
    "\n",
    "$$\n",
    "\n",
    "\\{x1,x2,x2,x2,x4,x1,x7,x7\\}\n",
    "\n",
    "$$\n",
    "\n",
    "Nóte que los elementos pueden repetirse. Sobre cada muestra bootstrap obtenida, se realiza el proceso de cómputo y se obtiene el estadístico de interés. Si este procedimiento se repite, por ejemplo, 500 veces para calcular el estadístico de interés, se tendrían 500 valores posibles de éste. Así, una estimación mucho mejor del valor del estadístico, sería calcular su valor promedio a partir de la muestra de 500 valores. Más aún, podría calcularse el histograma o la distribución de probabilidades de dicho estadístico, lo cual es mucho más informativo.\n",
    "\n",
    "## Algoritmo bootstrap no paramétrico\n",
    "\n",
    "- Se tiene la muestra $x=\\{xi;1,...,n\\}$, que en ese caso es $\\{x1,x2,x3,x4,x5,x6,x7,x8\\}$ con n=8.\n",
    "- Se seleccionan B muestras bootstrap independientes $x∗^1,...,x∗^B$ cada una de n elementos obtenidos de la muestra original. Por ejemplo:\n",
    "\n",
    "$$x∗^1=\\{x1,x2,x2,x2,x4,x1,x7,x7\\}$$\n",
    "\n",
    "$$x∗^2=\\{x4,x1,x2,x4,x8,x3,x1,x1\\}$$\n",
    "\n",
    "$$x∗^3=\\{x7,x7,x1,x3,x6,x1,x4,x8\\}$$\n",
    "\n",
    "y así sucesivamente."
   ]
  },
  {
   "cell_type": "code",
   "execution_count": null,
   "id": "460c4568",
   "metadata": {},
   "outputs": [],
   "source": []
  },
  {
   "cell_type": "code",
   "execution_count": 5,
   "id": "55e0489e",
   "metadata": {},
   "outputs": [
    {
     "name": "stdout",
     "output_type": "stream",
     "text": [
      "ok_\n"
     ]
    }
   ],
   "source": [
    "print('ok_')"
   ]
  }
 ],
 "metadata": {
  "kernelspec": {
   "display_name": "Python 3 (ipykernel)",
   "language": "python",
   "name": "python3"
  },
  "language_info": {
   "codemirror_mode": {
    "name": "ipython",
    "version": 3
   },
   "file_extension": ".py",
   "mimetype": "text/x-python",
   "name": "python",
   "nbconvert_exporter": "python",
   "pygments_lexer": "ipython3",
   "version": "3.11.4"
  }
 },
 "nbformat": 4,
 "nbformat_minor": 5
}
