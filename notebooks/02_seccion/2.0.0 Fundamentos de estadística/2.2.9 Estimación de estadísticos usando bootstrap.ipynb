{
 "cells": [
  {
   "cell_type": "markdown",
   "id": "6bfc8fc6",
   "metadata": {},
   "source": [
    "# 2.2.9 Estimación de estadísticos usando bootstrap"
   ]
  },
  {
   "cell_type": "code",
   "execution_count": 1,
   "id": "bbeefcb2",
   "metadata": {},
   "outputs": [],
   "source": [
    "%load_ext autoreload\n",
    "%autoreload 2"
   ]
  },
  {
   "cell_type": "code",
   "execution_count": 2,
   "id": "dcce2c19",
   "metadata": {},
   "outputs": [],
   "source": [
    "import pandas as pd\n",
    "import numpy as np\n",
    "\n",
    "import matplotlib.pyplot as plt\n",
    "import seaborn as sns\n",
    "\n",
    "from sklearn.utils import resample\n",
    "\n",
    "from scipy import stats\n",
    "\n",
    "pd.set_option('display.max_columns', None)\n",
    "pd.set_option('display.max_rows', None)\n",
    "import warnings\n",
    "warnings.filterwarnings(\"ignore\")"
   ]
  },
  {
   "cell_type": "code",
   "execution_count": 3,
   "id": "0a715b38",
   "metadata": {},
   "outputs": [],
   "source": [
    "import sys\n",
    "sys.path.append(\"../../../\") \n",
    "\n",
    "from utils.paths import make_dir_line\n",
    "\n",
    "modality = 'u'\n",
    "project = 'Analitica predictiva'\n",
    "data = make_dir_line(modality, project)\n",
    "\n",
    "raw = data('raw')"
   ]
  },
  {
   "cell_type": "markdown",
   "id": "64d5a1aa",
   "metadata": {},
   "source": [
    "La estimación de la distribución de probabilidades (y sus propiedades) de un estadístico suele ser dificil debido a que solo unos pocos estadísticos siguen una distribución de probabilidades conocida. El bootstrap es un método numérico para realizar está estimación a partir de una muestra de datos. Uno de sus usos más importantes es la estimación del error promedio de pronóstico en modelos predictivos comúnmente usados en analítica.\n",
    "\n",
    "## Descripción del problema\n",
    "\n",
    "Se tiene la siguiente muestra de datos, obtenida de un experimento. Se desea estimar la media de la población."
   ]
  },
  {
   "cell_type": "code",
   "execution_count": 4,
   "id": "e347114f",
   "metadata": {},
   "outputs": [],
   "source": [
    "x = [0.09, 0.15, 0.18, 0.16, 0.23, 0.35, 0.49, 0.68, 0.71, 0.85, 0.96, 0.98, 0.27]"
   ]
  },
  {
   "cell_type": "markdown",
   "id": "6fcb992c",
   "metadata": {},
   "source": [
    "## Conceptos básicos\n",
    "\n",
    "A continuación se presentan las principales definiciones asociadas al concepto de bootstrap.\n",
    "\n",
    "![Alt text](images/bootstrap_1.png)\n",
    "\n",
    "**Población:** Colección de objetos o individuos sobre los cuales se desea obtener información de interés.\n",
    "\n",
    "**Muestra:** Grupo obtenido aleatoriamente que es representativo de la población.\n",
    "\n",
    "**Parámetro:** Un valor que resume una propiedad o característica de la población entera.\n",
    "\n",
    "**Muestreo sin reemplazo:** Cuando una observación es seleccionada ya no está disponible en adelante.\n",
    "\n",
    "**Muestreo con reemplazo:** Cada observación es devuelta a la población después de ser seleccionada.\n",
    "\n",
    "**Muestreo aleatorio:** Muestreo de elementos de forma aleatoria tal que cada miembro de la población tiene igual probabilidad de ser seleccionado.\n",
    "\n",
    "**Muestreo estratificado:** División de la población en estratos y muestreo aleatorio de cada estrato.\n",
    "\n",
    "**Muestra aleatoria simple:** Muestra que resulta de muestrear la población sin estratificar.\n",
    "\n",
    "**Muestra sesgada:** Muestra que no representa la población.\n",
    "\n",
    "**Sesgo estadístico:** Errores de muestreo o medición que son sistemáticos y producidos por la medición o el muestreo mismo.\n",
    "\n",
    "**Estadístico:** Un número que resume una propiedad o característica de la muestra.\n",
    "\n",
    "**Estadístico muestral:** Una métrica calculada para una muestra de datos obtenida de forma aleatoria de la población.\n",
    "\n",
    "**Distribución muestral:** Es la distribución de probabilidad de un estadístico muestral calculado sobre muchas muestras o remuestreos.\n",
    "\n",
    "**Error estándar:** Es la desviación estándar del estadístico muestral sobre muchas muestras.\n",
    "\n",
    "Para estimar el valor de un parámetro de la población mediante un estadístico calculado sobre la muestra, se deben tener en cuenta alguna de las dos siguientes opciones:\n",
    "\n",
    "- Pruebas de hipótesis (se caracterizaron en el módulo de análisis exploratorio).\n",
    "- Estimación de intervalos de confianza.\n",
    "\n",
    "El problema abordado aquí radica en que el estadístico calculado (la media de la muestra) es una aproximación al parámetro real de la población (la media de la población); si se obtienen diferentes muestras de datos, y se calcula el estadístico de interés, se obtendrán distintos valores (distintas medias); entonces, la pregunta es cómo aproximar la media de la población a partir de la muestra de datos. Esta es la utilidad del bootstrapping.\n",
    "\n",
    "## Bootstrapping\n",
    "\n",
    "El bootstrap se usa cuando no es posible derivar ecuaciones que permitan aproximar la distribución de probabilidades de un estadístico. El bootstrap se basa en el remuestreo de los datos para poder obtener una muestra del estadístico que se está calculado.\n",
    "\n",
    "Suponga que tiene una muestra de ocho ejemplos:\n",
    "\n",
    "$$\n",
    "\n",
    "\\{x1,x2,x3,x4,x5,x6,x7,x8\\}\n",
    "\n",
    "$$\n",
    "\n",
    "Una muestra bootstap se obtiene de la muestra original, seleccionando ocho elementos de forma aleatoria con reemplazo. Por ejemplo, una muestra bootstrap podría ser:\n",
    "\n",
    "$$\n",
    "\n",
    "\\{x1,x2,x2,x2,x4,x1,x7,x7\\}\n",
    "\n",
    "$$\n",
    "\n",
    "Nóte que los elementos pueden repetirse. Sobre cada muestra bootstrap obtenida, se realiza el proceso de cómputo y se obtiene el estadístico de interés. Si este procedimiento se repite, por ejemplo, 500 veces para calcular el estadístico de interés, se tendrían 500 valores posibles de éste. Así, una estimación mucho mejor del valor del estadístico, sería calcular su valor promedio a partir de la muestra de 500 valores. Más aún, podría calcularse el histograma o la distribución de probabilidades de dicho estadístico, lo cual es mucho más informativo.\n",
    "\n",
    "## Algoritmo bootstrap no paramétrico\n",
    "\n",
    "- Se tiene la muestra $x=\\{xi;1,...,n\\}$, que en ese caso es $\\{x1,x2,x3,x4,x5,x6,x7,x8\\}$ con n=8.\n",
    "- Se seleccionan B muestras bootstrap independientes $x∗^1,...,x∗^B$ cada una de n elementos obtenidos de la muestra original. Por ejemplo:\n",
    "\n",
    "$$x∗^1=\\{x_1,x_2,x_2,x_2,x_4,x_1,x_7,x_7\\}$$\n",
    "\n",
    "$$x∗^2=\\{x_4,x_1,x_2,x_4,x_8,x_3,x_1,x_1\\}$$\n",
    "\n",
    "$$x∗^3=\\{x_7,x_7,x_1,x_3,x_6,x_1,x_4,x_8\\}$$\n",
    "\n",
    "y así sucesivamente.\n",
    "\n",
    "- Para cada muestra bootstap se calcula el estadístico de interes: $θ(b)=t(x∗b)$. Es decir:\n",
    "\n",
    "$$θ(1)=t(x∗^1)=t(\\{x_1,x_2,x_2,x_2,x_4,x_1,x_7,x_7\\})$$\n",
    "\n",
    "$$θ(2)=t(x∗^2)=t(\\{x_4,x_1,x_2,x_4,x_8,x_3,x_1,x_1\\})$$\n",
    "\n",
    "$$θ(3)=t(x∗^3)=t(\\{x_7,x_7,x_1,x_3,x_6,x_1,x_4,x_8\\})$$\n",
    "\n",
    "y así sucesivamente.\n",
    "\n",
    "- La muestra $θ(1),...,θ(B)$ representa la distribución de probabilidades de θ y puede calcularsele valor esperado, desviación estándar, etc. El valor buscado sería:\n",
    "\n",
    "\n",
    "$$ \\bar{θ}(∙) = \\frac{1}{B}\\sum_{b=1}^{B}θ(b) $$\n",
    "\n",
    "El error estándar se puede calcular como:\n",
    "\n",
    "$$ se_B=\\left \\{\\frac{1}{B−1} \\sum_{b=1}^{B} [θ(b)−\\bar{θ}(∙)]^2 \\right \\}^{1/2} $$"
   ]
  },
  {
   "cell_type": "markdown",
   "id": "dbb486cd",
   "metadata": {},
   "source": [
    "## Cómputo en Python\n",
    "\n",
    "A continuación se presenta la solución del problema usando Python."
   ]
  },
  {
   "cell_type": "code",
   "execution_count": 12,
   "id": "460c4568",
   "metadata": {},
   "outputs": [
    {
     "data": {
      "text/plain": [
       "[0.16, 0.18, 0.85, 0.96, 0.96, 0.85, 0.96, 0.16, 0.27, 0.27, 0.96, 0.15, 0.15]"
      ]
     },
     "execution_count": 12,
     "metadata": {},
     "output_type": "execute_result"
    }
   ],
   "source": [
    "#\n",
    "# La función resample permite hacer un muestreo con reemplazo.\n",
    "#\n",
    "boot = resample(\n",
    "    x,  # muestra\n",
    "    replace=True,  # reemplazo?\n",
    "    n_samples=len(x),  # longitud de la nueva muestra\n",
    "    random_state=None,\n",
    ")  # generador de aleatorios\n",
    "\n",
    "boot"
   ]
  },
  {
   "cell_type": "code",
   "execution_count": 13,
   "id": "c6a1e5e5",
   "metadata": {},
   "outputs": [
    {
     "data": {
      "text/plain": [
       "[[0.68,\n",
       "  0.85,\n",
       "  0.09,\n",
       "  0.09,\n",
       "  0.85,\n",
       "  0.68,\n",
       "  0.18,\n",
       "  0.09,\n",
       "  0.27,\n",
       "  0.96,\n",
       "  0.18,\n",
       "  0.71,\n",
       "  0.71],\n",
       " [0.49,\n",
       "  0.23,\n",
       "  0.49,\n",
       "  0.35,\n",
       "  0.98,\n",
       "  0.35,\n",
       "  0.27,\n",
       "  0.15,\n",
       "  0.16,\n",
       "  0.16,\n",
       "  0.09,\n",
       "  0.15,\n",
       "  0.35]]"
      ]
     },
     "execution_count": 13,
     "metadata": {},
     "output_type": "execute_result"
    }
   ],
   "source": [
    "##\n",
    "## Se generan 500 muestras bootstrap\n",
    "##\n",
    "sample = [resample(x, replace=True, n_samples=len(x)) for _ in range(500)]\n",
    "sample[0:2]"
   ]
  },
  {
   "cell_type": "code",
   "execution_count": 14,
   "id": "142beabd",
   "metadata": {},
   "outputs": [
    {
     "data": {
      "text/plain": [
       "[0.4876923076923077,\n",
       " 0.3246153846153846,\n",
       " 0.46923076923076923,\n",
       " 0.5084615384615384,\n",
       " 0.5384615384615384]"
      ]
     },
     "execution_count": 14,
     "metadata": {},
     "output_type": "execute_result"
    }
   ],
   "source": [
    "#\n",
    "# Se computa la media para cada muestra bootstrap\n",
    "#\n",
    "stat = [np.mean(s) for s in sample]\n",
    "stat[0:5]"
   ]
  },
  {
   "cell_type": "code",
   "execution_count": 15,
   "id": "0f763804",
   "metadata": {},
   "outputs": [
    {
     "data": {
      "text/plain": [
       "0.47389692307692305"
      ]
     },
     "execution_count": 15,
     "metadata": {},
     "output_type": "execute_result"
    }
   ],
   "source": [
    "#\n",
    "# Estimado de la media de la población\n",
    "#\n",
    "np.mean(stat)"
   ]
  },
  {
   "cell_type": "code",
   "execution_count": 16,
   "id": "6f49fa64",
   "metadata": {},
   "outputs": [
    {
     "data": {
      "image/png": "[encoded data removed]",
      "text/plain": [
       "<Figure size 640x480 with 1 Axes>"
      ]
     },
     "metadata": {},
     "output_type": "display_data"
    }
   ],
   "source": [
    "#\n",
    "# Histograma de las medias calculadas\n",
    "#\n",
    "sns.set(color_codes=True)\n",
    "sns.distplot(stat, rug=True)\n",
    "plt.show()"
   ]
  },
  {
   "cell_type": "code",
   "execution_count": 17,
   "id": "b3b3dedc",
   "metadata": {},
   "outputs": [
    {
     "data": {
      "text/plain": [
       "0.08095446029355095"
      ]
     },
     "execution_count": 17,
     "metadata": {},
     "output_type": "execute_result"
    }
   ],
   "source": [
    "#\n",
    "# Error estándar (desviación estándar) para\n",
    "# el valor computado de la media\n",
    "#\n",
    "np.std(stat)"
   ]
  },
  {
   "cell_type": "markdown",
   "id": "bc82d084",
   "metadata": {},
   "source": [
    "## Distribución de probabilidades del estadístico boostrap\n",
    "\n",
    "Se obtiene aplicando el teorema del Límite Central.\n",
    "\n",
    "Si $s_1 ,…, s_n$ es una muestra aleatoria donde las observaciones si son independientes e identicamente distribuidas de una distribución con media μ y varianza finita $\\sigma^2$, entonces:\n",
    "\n",
    "$$ \\bar{S}(∙) = \\frac{1}{n}\\sum_{i=1}^{n}s_i $$\n",
    "\n",
    "sigue una distribución normal con media $\\mu$ y varianza $(\\sigma_s)^2=\\frac{\\sigma^2}{n}$.\n",
    "\n",
    "Note que no se hace ningún supuesto sobre la distribución que siguen las observaciones $s_i$\n",
    "\n",
    "En este caso, $s_i=θ(i)$, lo que quiere decir que $\\theta(i)$ sigue una distribución normal $N(\\mu, \\sigma^2)$ con:\n",
    "\n",
    "$$ \\mu=\\bar{θ}(∙) =\\frac{1}{B} \\sum_{b=1}^{B} θ(b) $$\n",
    "\n",
    "y\n",
    "\n",
    "$$ \\sigma = se_B=\\left \\{\\frac{1}{B−1} \\sum_{b=1}^{B} [θ(b)−\\bar{θ}(∙)]^2 \\right \\}^{1/2}$$"
   ]
  },
  {
   "cell_type": "code",
   "execution_count": 18,
   "id": "f6cd69ac",
   "metadata": {},
   "outputs": [
    {
     "data": {
      "image/png": "[encoded data removed]",
      "text/plain": [
       "<Figure size 640x480 with 1 Axes>"
      ]
     },
     "metadata": {},
     "output_type": "display_data"
    }
   ],
   "source": [
    "#\n",
    "# Distribución normal teórica\n",
    "#\n",
    "sns.set(color_codes=True)\n",
    "sns.distplot(stat, rug=True, fit=stats.norm)\n",
    "plt.show()"
   ]
  },
  {
   "cell_type": "code",
   "execution_count": 19,
   "id": "92cd17dd",
   "metadata": {},
   "outputs": [
    {
     "data": {
      "text/plain": [
       "[0.31198800248982117, 0.6358058436640249]"
      ]
     },
     "execution_count": 19,
     "metadata": {},
     "output_type": "execute_result"
    }
   ],
   "source": [
    "#\n",
    "# Intervalos de confianza para +/- 2 sigma\n",
    "# aprox el 95% de confianza\n",
    "#\n",
    "[np.mean(stat) - 2 * np.std(stat), np.mean(stat) + 2 * np.std(stat)]"
   ]
  },
  {
   "cell_type": "markdown",
   "id": "0b2a822b",
   "metadata": {},
   "source": [
    "## Jacknife\n",
    "\n",
    "Se obtiene al dejar un solo elemento fuera de la muestra de datos.\n",
    "\n",
    "- Se tiene la muestra $x=\\{x_i;1,...,n\\}$, que en ese caso es $\\{x_1,x_2,x_3,x_4,x_5,x_6,x_7,x_8\\}$ con n=8.\n",
    "- Se obtienen n muestras jackknife $x(i), i=1,...,n$, donde:\n",
    "\n",
    "$$ x_{(i)}=(x_1,x_2,...,x_{i−1},x_{i+1},...,x_n)$$\n",
    "\n",
    "Es decir:\n",
    "\n",
    "$$x_{(1)}=(x_2,x_3,x_4,...,x_7,x_8)$$\n",
    "\n",
    "$$x_{(2)}=(x_1,x_3,x_4,...,x_7,x_8)$$\n",
    "\n",
    "$$x_{(3)}=(x_1,x_2,x_4,...,x_7,x_8)$$\n",
    "\n",
    "$$...$$\n",
    "\n",
    "$$x_{(8)}=(x_1,x_2,x_3,...,x_6,x_7)$$\n",
    "\n",
    "- Se calcula el estadístico para la muestra jackknife:\n",
    "\n",
    "$$ θ_{(i)}=t(x_{(i)}) $$\n",
    "\n",
    "que para la muestra actual es:\n",
    "\n",
    "$$θ_{(1)}=t(x_{(1)})$$\n",
    "\n",
    "$$θ_{(2)}=t(x_{(2)})$$\n",
    "\n",
    "$$...$$\n",
    "\n",
    "$$θ_{(8)}=t(x_{(8)})$$\n",
    "\n",
    "El error estándar se obtiene como:\n",
    "\n",
    "$$ se_{jack} = \\left \\{\\frac{n+1}{n} \\sum_{i=1}^{n} [θ(i)−{θ}(∙)]^2 \\right \\}^{1/2}$$\n",
    "\n",
    "$$ \\bar{θ}(∙) =\\frac{1}{n} \\sum_{i=1}^{n} θ_{(i)} $$"
   ]
  },
  {
   "cell_type": "code",
   "execution_count": 6,
   "id": "55e0489e",
   "metadata": {},
   "outputs": [
    {
     "name": "stdout",
     "output_type": "stream",
     "text": [
      "ok_\n"
     ]
    }
   ],
   "source": [
    "print('ok_')"
   ]
  }
 ],
 "metadata": {
  "kernelspec": {
   "display_name": "Python 3 (ipykernel)",
   "language": "python",
   "name": "python3"
  },
  "language_info": {
   "codemirror_mode": {
    "name": "ipython",
    "version": 3
   },
   "file_extension": ".py",
   "mimetype": "text/x-python",
   "name": "python",
   "nbconvert_exporter": "python",
   "pygments_lexer": "ipython3",
   "version": "3.11.5"
  }
 },
 "nbformat": 4,
 "nbformat_minor": 5
}
