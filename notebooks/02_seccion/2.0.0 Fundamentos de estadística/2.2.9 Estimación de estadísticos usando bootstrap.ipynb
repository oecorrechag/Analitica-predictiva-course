{
 "cells": [
  {
   "cell_type": "markdown",
   "id": "6bfc8fc6",
   "metadata": {},
   "source": [
    "# 2.2.8 Pruebas de Hipótesis"
   ]
  },
  {
   "cell_type": "code",
   "execution_count": 2,
   "id": "bbeefcb2",
   "metadata": {},
   "outputs": [],
   "source": [
    "%load_ext autoreload\n",
    "%autoreload 2"
   ]
  },
  {
   "cell_type": "code",
   "execution_count": 19,
   "id": "dcce2c19",
   "metadata": {},
   "outputs": [],
   "source": [
    "import pandas as pd\n",
    "\n",
    "from scipy.stats import norm, lognorm\n",
    "\n",
    "pd.set_option('display.max_columns', None)\n",
    "pd.set_option('display.max_rows', None)\n",
    "import warnings\n",
    "warnings.filterwarnings(\"ignore\")"
   ]
  },
  {
   "cell_type": "code",
   "execution_count": 4,
   "id": "0a715b38",
   "metadata": {},
   "outputs": [],
   "source": [
    "import sys\n",
    "sys.path.append(\"../../../\") \n",
    "\n",
    "from utils.paths import make_dir_line\n",
    "\n",
    "modality = 'u'\n",
    "project = 'Analitica predictiva'\n",
    "data = make_dir_line(modality, project)\n",
    "\n",
    "raw = data('raw')"
   ]
  },
  {
   "cell_type": "markdown",
   "id": "88342a20",
   "metadata": {},
   "source": [
    "Una de las aplicaciones más importantes de las funciones teóricas de probabilidad es la prueba de hipótesis. En este tipo de problemas se quiere determinar si un valor observado (estadístico) proviene de una determinada distribución de probabilidades, con el fin de aceptar o rechazar una hipótesis sobre los datos. El uso de las pruebas de hipótesis es uno de los elementos fundamentales en la construcción de modelos de aprendizaje estadístico.\n",
    "\n",
    "## Definición\n",
    "\n",
    "Este es un tipo de prueba que tiene como fin probar una hipótesis (o supuesto), $H_0$, sobre un parámetro o característica de la población versus una hipótesis alternativa complementaria $H_a$, a partir de una muestra de la población.\n",
    "\n",
    "Si θ denota un estadístico de la muestra, entonces una prueba de hipótesis es una regla que indica cuando aceptar o rechazar la hipótesis nula:"
   ]
  },
  {
   "cell_type": "markdown",
   "id": "a1c95a52",
   "metadata": {},
   "source": [
    "![Alt text](image.png)"
   ]
  },
  {
   "cell_type": "markdown",
   "id": "f50e32d8",
   "metadata": {},
   "source": [
    "## Tipos de errores\n",
    "\n",
    "Se puede dar una de las siguientes situaciones:\n",
    "\n",
    "![Alt text](image-1.png)"
   ]
  },
  {
   "cell_type": "markdown",
   "id": "30ae4c00",
   "metadata": {},
   "source": [
    "**-> Revisar por que aun no la entiendo**\n",
    "\n",
    "- Aceptar $H_0$ cuando $H_0$ es verdadera: Ok!.\n",
    "- Rechazar $H_0$ cuando $H_0$ es falsa: Ok!.\n",
    "- Rechazar $H_0$ cuando $H_0$ es verdadera: Error Tipo I.\n",
    "- Aceptar $H_0$ cuando $H_0$ es falsa: Error Tipo II.\n",
    "\n",
    "Estos cuatro casos están estrechamente relacionados con las matrices de confusión en clasificadores. Por ejemplo, cuando se acepta $H_0$ y $H_0$ es verdadera se tiene un verdadero positivo. Los demás casos se interpretan igual.\n",
    "\n",
    "En los tres casos, se desea saber si el valor a está en la región blanca o en la región sombreada de las siguientes figuras. En el caso de la cola a la izquierda, se espera que si a realmente no pertenece a la distribución de probabilidades estipulada, se encuentre ubicado en la región gris y por tanto se pueda rechazar la hipotesis nula; si se supone que a = 1.75, entonces como está ubicado en la región blanca se acepta.\n"
   ]
  },
  {
   "cell_type": "markdown",
   "id": "b775a778",
   "metadata": {},
   "source": [
    "![Alt text](image-2.png)"
   ]
  },
  {
   "cell_type": "markdown",
   "id": "525e1a6d",
   "metadata": {},
   "source": [
    "## Prueba usando valores críticos\n",
    "\n",
    "En esta aproximación:\n",
    "\n",
    "- Se definen las hipótesis nula y alternativa.\n",
    "- Se computa el estadístico a partir de la muestra (el valor de a).\n",
    "- Se determina el valor crítico α a partir del nivel de confianza de la prueba usando la distribución conocida que sigue el estadístico; el valor crítico es un valor pequeño, típicamente el nivel de confianza es igual a 0.01, 0.05 o 0.10. El valor critico permite definir el tamaño de la región o regiones sombreadas en la figura anterior.\n",
    "\n",
    "Si el valor del estadístico es más crítico que el valor crítico calculado se rechaza H0; en caso contrario se acepta $H_0$ como verdadera.\n",
    "\n",
    "Ejemplo.— El estadístico θ computado a partir de la muestra de datos es 1.75. Determine si la hipótesis nula se acepta o se rechaza para un nivel de confianza de 5% cuando:\n",
    "\n",
    "- θ∼N(0,1) con cola a la izquierda.\n",
    "- θ∼N(0,1) con dos colas.\n",
    "- θ∼N(0,1) con cola a la derecha.\n",
    "\n",
    "Para la cola a la izquierda se obtiene el valor de z tal que el área sombreada bajo la curva sea de 0.05 (nivel de confianza); esto es, z=−1.6449. Esto es lo mismo que decir que el estadístico de interés caerá el 95% de las veces en el área blanca. Como θ=1.75 está en la región no sombreada, se acepta $H_0$."
   ]
  },
  {
   "cell_type": "code",
   "execution_count": 5,
   "id": "858eec11",
   "metadata": {},
   "outputs": [
    {
     "data": {
      "text/plain": [
       "-1.6448536269514729"
      ]
     },
     "execution_count": 5,
     "metadata": {},
     "output_type": "execute_result"
    }
   ],
   "source": [
    "#\n",
    "# Area entre -inf y z tal que el area sea 5%\n",
    "#\n",
    "norm.ppf(0.05)"
   ]
  },
  {
   "cell_type": "markdown",
   "id": "7737c816",
   "metadata": {},
   "source": [
    "Para el caso de dos colas, el área sombreada total debe ser igual a 0.05, es decir, cada una de las dos regiones sombreadas debe tener un área de 0.025. En este caso, z=±1.9600. Ya que para una confianza de 0.05, ocurre que −1.96≤θ≤1.96 el 95% de las veces, se acepta $H_0$ para θ=1.75."
   ]
  },
  {
   "cell_type": "code",
   "execution_count": 7,
   "id": "8309f359",
   "metadata": {},
   "outputs": [
    {
     "data": {
      "text/plain": [
       "-1.9599639845400545"
      ]
     },
     "execution_count": 7,
     "metadata": {},
     "output_type": "execute_result"
    }
   ],
   "source": [
    "#\n",
    "# Area entre -inf y z tal que el area sea 5%/2\n",
    "# los puntos +/- z son simétricos respecto al origen\n",
    "#\n",
    "norm.ppf(0.05 / 2)"
   ]
  },
  {
   "cell_type": "markdown",
   "id": "bb8bc307",
   "metadata": {},
   "source": [
    "Para el caso de la cola a la derecha, el área sombreada debe ser igual a 0.05; esto ocurre cuando z=1.6449. Es decir, el 95% de las veces ocurrirá que −∞≤θ≤1.6449, entonces se rechaza $H_0$."
   ]
  },
  {
   "cell_type": "code",
   "execution_count": 8,
   "id": "857a715a",
   "metadata": {},
   "outputs": [
    {
     "data": {
      "text/plain": [
       "1.6448536269514722"
      ]
     },
     "execution_count": 8,
     "metadata": {},
     "output_type": "execute_result"
    }
   ],
   "source": [
    "#\n",
    "# Area entre -inf y z tal que el area sea 95%\n",
    "#\n",
    "norm.ppf(0.95)"
   ]
  },
  {
   "cell_type": "code",
   "execution_count": 9,
   "id": "08e0b901",
   "metadata": {},
   "outputs": [
    {
     "name": "stdout",
     "output_type": "stream",
     "text": [
      "-1.2815515655446004\n",
      "-1.6448536269514729\n",
      "1.2815515655446004\n"
     ]
    }
   ],
   "source": [
    "#\n",
    "# Mismo ejercicio con 90% \n",
    "#\n",
    "print(norm.ppf(0.1))\n",
    "print(norm.ppf(0.1 / 2))\n",
    "print(norm.ppf(0.90))"
   ]
  },
  {
   "cell_type": "code",
   "execution_count": 10,
   "id": "60509bb2",
   "metadata": {},
   "outputs": [
    {
     "name": "stdout",
     "output_type": "stream",
     "text": [
      "-2.3263478740408408\n",
      "-2.575829303548901\n",
      "2.3263478740408408\n"
     ]
    }
   ],
   "source": [
    "#\n",
    "# Mismo ejercicio con 99% \n",
    "#\n",
    "print(norm.ppf(0.01))\n",
    "print(norm.ppf(0.01 / 2))\n",
    "print(norm.ppf(0.99))"
   ]
  },
  {
   "cell_type": "markdown",
   "id": "47892b72",
   "metadata": {},
   "source": [
    "## Prueba usando el valor-P\n",
    "\n",
    "En esta aproximación:\n",
    "\n",
    "- Se definen las hipótesis nula y alternativa.\n",
    "- Se computa el estadístico a partir de la muestra.\n",
    "- Se calcula el valor-P usando la distribución conocida que sigue el estadístico. Este es el valor del área de la distribución de probabilidades en que se rechaza la hipótesis nula.\n",
    "- Se establece el nivel de significancia α (típicamente 0.01, 0.05 o 0.10) y se compara con el valor-α.\n",
    "- Si el valor-P es menor o igual a α se rechaza $H_0$; en caso contario se acepta.\n",
    "\n",
    "El estadístico θ computado a partir de la muestra de datos es 1.75. Determine si la hipótesis nula se acepta o se rechaza para un nivel de confianza de 0.05 cuando:\n",
    "\n",
    "- θ∼N(0,1) con cola a la izquierda.\n",
    "- θ∼N(0,1) con dos colas.\n",
    "- θ∼N(0,1) con cola a la derecha.\n",
    "\n",
    "- Para la cola a la izquierda se obtiene el valor-P para θ=1.75, es decir, el área sombreada bajo la curva, o valor-P\n",
    "    = 0.9599. Ya que el valor-P\n",
    "    = 0.9599 > 0.05 (nivel de confianza) se acepta $H_0$\n"
   ]
  },
  {
   "cell_type": "code",
   "execution_count": 11,
   "id": "f3fa6b34",
   "metadata": {},
   "outputs": [
    {
     "data": {
      "text/plain": [
       "0.9599408431361829"
      ]
     },
     "execution_count": 11,
     "metadata": {},
     "output_type": "execute_result"
    }
   ],
   "source": [
    "#\n",
    "# Area entre -inf y 1.75\n",
    "#\n",
    "norm.cdf(1.75)"
   ]
  },
  {
   "cell_type": "markdown",
   "id": "c1db5169",
   "metadata": {},
   "source": [
    "Para el caso de dos colas, el área sombreada bajo la curva es 0.0801 (valor-P); ya que 0.0801 > 0.05 (nivel de confianza), entonces se acepta $H_0$"
   ]
  },
  {
   "cell_type": "code",
   "execution_count": 12,
   "id": "abc84753",
   "metadata": {},
   "outputs": [
    {
     "data": {
      "text/plain": [
       "0.08011831372763417"
      ]
     },
     "execution_count": 12,
     "metadata": {},
     "output_type": "execute_result"
    }
   ],
   "source": [
    "#\n",
    "# Area entre -inf y -1.75 mas 1.75 e +inf, simétricas\n",
    "#\n",
    "2 * norm.cdf(-1.75)"
   ]
  },
  {
   "cell_type": "markdown",
   "id": "e7f4d645",
   "metadata": {},
   "source": [
    "Para el caso de la cola a la derecha, el área sombreada es 0.0401; ya que valor-P = 0.0401 < 0.05 se rechaza $H_0$"
   ]
  },
  {
   "cell_type": "code",
   "execution_count": 13,
   "id": "ac1aea5e",
   "metadata": {},
   "outputs": [
    {
     "data": {
      "text/plain": [
       "0.040059156863817114"
      ]
     },
     "execution_count": 13,
     "metadata": {},
     "output_type": "execute_result"
    }
   ],
   "source": [
    "#\n",
    "# Area entre 1.75 e +inf =\n",
    "#   1.0 - area entre -inf y 1.75\n",
    "#\n",
    "1.0 - norm.cdf(1.75)"
   ]
  },
  {
   "cell_type": "markdown",
   "id": "46db0461",
   "metadata": {},
   "source": [
    "![Alt text](image-3.png)"
   ]
  },
  {
   "cell_type": "code",
   "execution_count": 23,
   "id": "cc795f7e",
   "metadata": {},
   "outputs": [
    {
     "name": "stdout",
     "output_type": "stream",
     "text": [
      "0.13743340759498635\n",
      "Se acepta H0 para la cola a la derecha (p-value = 0.13743340759498635)\n"
     ]
    }
   ],
   "source": [
    "# Definir los parámetros de la distribución log-normal\n",
    "mu = 0  # Media\n",
    "sigma = 1  # Desviación estándar\n",
    "\n",
    "# Valor observado\n",
    "theta = 2.98\n",
    "\n",
    "# Calcular la probabilidad acumulativa (CDF) para el valor observado\n",
    "p_value = 1 - lognorm.cdf(theta, s=sigma, scale=2**mu)\n",
    "\n",
    "# Nivel de significancia (alfa)\n",
    "alpha = 0.05\n",
    "\n",
    "# Comprobar si se rechaza o se acepta H0\n",
    "if p_value < alpha:\n",
    "    print(f\"Se rechaza H0 para la cola a la derecha (p-value = {p_value})\")\n",
    "else:\n",
    "    print(f\"Se acepta H0 para la cola a la derecha (p-value = {p_value})\")\n"
   ]
  },
  {
   "cell_type": "code",
   "execution_count": 25,
   "id": "4c2938b3",
   "metadata": {},
   "outputs": [
    {
     "data": {
      "text/plain": [
       "0.13743340759498635"
      ]
     },
     "execution_count": 25,
     "metadata": {},
     "output_type": "execute_result"
    }
   ],
   "source": [
    "#\n",
    "# Area entre 1.75 e +inf =\n",
    "#   1.0 - area entre -inf y 1.75\n",
    "#\n",
    "1.0 - lognorm.cdf(theta, s=sigma, scale=2**mu)"
   ]
  },
  {
   "cell_type": "code",
   "execution_count": 6,
   "id": "55e0489e",
   "metadata": {},
   "outputs": [
    {
     "name": "stdout",
     "output_type": "stream",
     "text": [
      "ok_\n"
     ]
    }
   ],
   "source": [
    "print('ok_')"
   ]
  }
 ],
 "metadata": {
  "kernelspec": {
   "display_name": "Python 3 (ipykernel)",
   "language": "python",
   "name": "python3"
  },
  "language_info": {
   "codemirror_mode": {
    "name": "ipython",
    "version": 3
   },
   "file_extension": ".py",
   "mimetype": "text/x-python",
   "name": "python",
   "nbconvert_exporter": "python",
   "pygments_lexer": "ipython3",
   "version": "3.11.4"
  }
 },
 "nbformat": 4,
 "nbformat_minor": 5
}
