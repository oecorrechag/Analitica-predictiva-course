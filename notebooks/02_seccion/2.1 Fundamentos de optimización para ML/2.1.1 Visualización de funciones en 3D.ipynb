{
 "cells": [
  {
   "cell_type": "markdown",
   "id": "6bfc8fc6",
   "metadata": {},
   "source": [
    "# 2.1.1 Visualización de funciones en 3D"
   ]
  },
  {
   "cell_type": "code",
   "execution_count": null,
   "id": "53b57b40",
   "metadata": {},
   "outputs": [],
   "source": [
    "%load_ext autoreload\n",
    "%autoreload 2"
   ]
  },
  {
   "cell_type": "code",
   "execution_count": null,
   "id": "5fb86f3c",
   "metadata": {},
   "outputs": [],
   "source": [
    "import pandas as pd\n",
    "import numpy as np\n",
    "import matplotlib.pyplot as plt\n",
    "\n",
    "pd.set_option('display.max_columns', None)\n",
    "pd.set_option('display.max_rows', None)\n",
    "import warnings\n",
    "warnings.filterwarnings(\"ignore\")"
   ]
  },
  {
   "cell_type": "markdown",
   "id": "8513e901",
   "metadata": {},
   "source": [
    "## 2.1.1.1 Función de Rosenbrock\n",
    "\n",
    "$$ f(x,y) = 100 * (x^2 − y)^2 + (1 − x)^2 $$\n",
    "$$ x \\ \\epsilon [−2.048,2.048]  $$\n",
    "$$ y \\ \\epsilon [-1,4]  $$\n",
    "$$ f(1,1) = 0 $$"
   ]
  },
  {
   "cell_type": "code",
   "execution_count": null,
   "id": "028a6daa",
   "metadata": {},
   "outputs": [],
   "source": [
    "def f(x, y):\n",
    "    return 100 * (x ** 2 - y) ** 2 + (1 - x) ** 2"
   ]
  },
  {
   "cell_type": "code",
   "execution_count": null,
   "id": "44f74ec7",
   "metadata": {},
   "outputs": [],
   "source": [
    "#\n",
    "# Generación de un vector de 10 puntos para x\n",
    "#\n",
    "X = np.linspace(start=-2.048, stop=2.048, num=10)\n",
    "X"
   ]
  },
  {
   "cell_type": "code",
   "execution_count": null,
   "id": "05115e95",
   "metadata": {},
   "outputs": [],
   "source": [
    "#\n",
    "# Generación de un vector de 10 puntos para y\n",
    "#\n",
    "Y = np.linspace(start=-0.1, stop=4.0, num=10)\n",
    "Y"
   ]
  },
  {
   "cell_type": "code",
   "execution_count": null,
   "id": "7d6741a3",
   "metadata": {},
   "outputs": [],
   "source": [
    "#\n",
    "# Generación de una matriz para representar\n",
    "# una malla de puntos\n",
    "#\n",
    "X, Y = np.meshgrid(X, Y)\n",
    "display(X, Y)"
   ]
  },
  {
   "cell_type": "code",
   "execution_count": null,
   "id": "6e0e75b9",
   "metadata": {},
   "outputs": [],
   "source": [
    "plt.figure(figsize=(8, 8))\n",
    "plt.scatter(X, Y)\n",
    "plt.show()"
   ]
  },
  {
   "cell_type": "markdown",
   "id": "2a8adbfa",
   "metadata": {},
   "source": [
    "### Evaluación de la función (x, y)"
   ]
  },
  {
   "cell_type": "code",
   "execution_count": null,
   "id": "ba13f59f",
   "metadata": {},
   "outputs": [],
   "source": [
    "#\n",
    "# Generación de una matriz con los valores de f(x, y)\n",
    "#\n",
    "Z = f(X, Y)\n",
    "Z"
   ]
  },
  {
   "cell_type": "markdown",
   "id": "22a5e329",
   "metadata": {},
   "source": [
    "### Projection 3d"
   ]
  },
  {
   "cell_type": "code",
   "execution_count": null,
   "id": "bb12ac31",
   "metadata": {},
   "outputs": [],
   "source": [
    "fig = plt.figure(figsize=(10, 7))\n",
    "\n",
    "i = 1\n",
    "for elev in [30, 60]:\n",
    "    for azim in [-60, 0, 60]:\n",
    "\n",
    "        ax = fig.add_subplot(2, 3, i, projection=\"3d\", azim=azim, elev=elev)\n",
    "        i += 1\n",
    "        plt.xlabel(\"x\")\n",
    "        plt.ylabel(\"y\")\n",
    "        plt.title(\"elev={}, azim={}\".format(elev, azim))\n",
    "\n",
    "plt.tight_layout()\n",
    "plt.show()"
   ]
  },
  {
   "cell_type": "markdown",
   "id": "9e3af416",
   "metadata": {},
   "source": [
    "### plot_surface()"
   ]
  },
  {
   "cell_type": "code",
   "execution_count": null,
   "id": "f7e5add1",
   "metadata": {},
   "outputs": [],
   "source": [
    "#\n",
    "# Gráfica de la función\n",
    "#\n",
    "from matplotlib import cm\n",
    "\n",
    "X = np.linspace(start=-2.048, stop=2.048, num=50)\n",
    "Y = np.linspace(start=-0.1, stop=4.0, num=50)\n",
    "X, Y = np.meshgrid(X, Y)\n",
    "Z = f(X, Y)\n",
    "\n",
    "fig = plt.figure(figsize=(8, 8))\n",
    "ax = fig.add_subplot(projection = '3d')\n",
    "ax.plot_surface(\n",
    "    X,\n",
    "    Y,\n",
    "    Z,\n",
    "    cmap=cm.binary,\n",
    "    linewidth=1,\n",
    "    antialiased=False,\n",
    ")\n",
    "\n",
    "plt.xlabel(\"x\")\n",
    "plt.ylabel(\"y\")\n",
    "plt.show()"
   ]
  },
  {
   "cell_type": "markdown",
   "id": "a0d20cc8",
   "metadata": {},
   "source": [
    "### plot_wireframe()"
   ]
  },
  {
   "cell_type": "code",
   "execution_count": null,
   "id": "bce0da8c",
   "metadata": {},
   "outputs": [],
   "source": [
    "fig = plt.figure(figsize=(8, 8))\n",
    "ax = fig.add_subplot(projection = '3d')\n",
    "\n",
    "ax.plot_wireframe(\n",
    "    X,\n",
    "    Y,\n",
    "    Z,\n",
    "    color=\"black\",\n",
    "    linewidth=0.8,\n",
    "    alpha=1.0,\n",
    "    rstride=2,\n",
    "    cstride=2,\n",
    ")\n",
    "plt.xlabel(\"x\")\n",
    "plt.ylabel(\"y\")\n",
    "plt.show()"
   ]
  },
  {
   "cell_type": "markdown",
   "id": "e4edc2fa",
   "metadata": {},
   "source": [
    "### Combinación de plot_wireframe() y plot.suface() para mejorar la visualización"
   ]
  },
  {
   "cell_type": "code",
   "execution_count": null,
   "id": "ba69cc9a",
   "metadata": {},
   "outputs": [],
   "source": [
    "fig = plt.figure(figsize=(8, 8))\n",
    "ax = fig.add_subplot(projection = '3d')\n",
    "\n",
    "ax.plot_surface(\n",
    "    X,\n",
    "    Y,\n",
    "    Z,\n",
    "    cmap=cm.binary,\n",
    "    linewidth=1,\n",
    "    antialiased=False,\n",
    ")\n",
    "\n",
    "ax.plot_wireframe(\n",
    "    X,\n",
    "    Y,\n",
    "    Z,\n",
    "    color=\"black\",\n",
    "    linewidth=0.8,\n",
    "    alpha=1.0,\n",
    "    rstride=2,\n",
    "    cstride=2,\n",
    ")\n",
    "\n",
    "plt.xlabel(\"x\")\n",
    "plt.ylabel(\"y\")\n",
    "plt.show()"
   ]
  },
  {
   "cell_type": "markdown",
   "id": "72ac249a",
   "metadata": {},
   "source": [
    "### plt.contour()"
   ]
  },
  {
   "cell_type": "code",
   "execution_count": null,
   "id": "1cb76744",
   "metadata": {},
   "outputs": [],
   "source": [
    "#\n",
    "# Líneas de nivel con el mismo color\n",
    "#\n",
    "fig = plt.figure(figsize=(8, 8))\n",
    "\n",
    "plt.gca().contour(\n",
    "    X,\n",
    "    Y,\n",
    "    Z,\n",
    "    colors=\"gray\",\n",
    "    levels=20,\n",
    ")\n",
    "\n",
    "plt.xlabel(\"x\")\n",
    "plt.ylabel(\"y\")\n",
    "plt.show()"
   ]
  },
  {
   "cell_type": "code",
   "execution_count": null,
   "id": "c0780962",
   "metadata": {},
   "outputs": [],
   "source": [
    "#\n",
    "# Líneas de nivel con diferentes colores\n",
    "#\n",
    "fig = plt.figure(figsize=(8, 8))\n",
    "plt.gca().contour(\n",
    "    X,\n",
    "    Y,\n",
    "    Z,\n",
    "    cmap=cm.Greys,\n",
    "    levels=20,\n",
    ")\n",
    "\n",
    "plt.xlabel(\"x\")\n",
    "plt.ylabel(\"y\")\n",
    "plt.show()"
   ]
  },
  {
   "cell_type": "markdown",
   "id": "42150b05",
   "metadata": {},
   "source": [
    "### plt.contourf()"
   ]
  },
  {
   "cell_type": "code",
   "execution_count": null,
   "id": "784df843",
   "metadata": {},
   "outputs": [],
   "source": [
    "fig = plt.figure(figsize=(8, 8))\n",
    "\n",
    "plt.gca().contourf(\n",
    "    X,\n",
    "    Y,\n",
    "    Z,\n",
    "    cmap=cm.Greys,\n",
    "    levels=20,\n",
    ")\n",
    "\n",
    "plt.xlabel(\"x\")\n",
    "plt.ylabel(\"y\")\n",
    "plt.show()"
   ]
  },
  {
   "cell_type": "markdown",
   "id": "7e08e8a5",
   "metadata": {},
   "source": [
    "### Uso de contour() y contourf() para mejorar la visualización"
   ]
  },
  {
   "cell_type": "code",
   "execution_count": null,
   "id": "55815c3a",
   "metadata": {},
   "outputs": [],
   "source": [
    "fig = plt.figure(figsize=(8, 8))\n",
    "\n",
    "plt.gca().contourf(\n",
    "    X,\n",
    "    Y,\n",
    "    Z,\n",
    "    cmap=cm.Greys,\n",
    "    levels=20,\n",
    "    alpha=1.0,\n",
    ")\n",
    "\n",
    "plt.gca().contour(\n",
    "    X,\n",
    "    Y,\n",
    "    Z,\n",
    "    colors=\"gray\",\n",
    "    levels=20,\n",
    ")\n",
    "\n",
    "\n",
    "plt.xlabel(\"x\")\n",
    "plt.ylabel(\"y\")\n",
    "plt.show()"
   ]
  },
  {
   "cell_type": "markdown",
   "id": "148d556f",
   "metadata": {},
   "source": [
    "### Punto de mínima de la función"
   ]
  },
  {
   "cell_type": "code",
   "execution_count": null,
   "id": "11a497fc",
   "metadata": {},
   "outputs": [],
   "source": [
    "fig = plt.figure(figsize=(8, 8))\n",
    "\n",
    "plt.gca().contourf(\n",
    "    X,\n",
    "    Y,\n",
    "    Z,\n",
    "    cmap=cm.Greys,\n",
    "    levels=20,\n",
    "    alpha=1.0,\n",
    ")\n",
    "\n",
    "plt.gca().contour(\n",
    "    X,\n",
    "    Y,\n",
    "    Z,\n",
    "    colors=\"gray\",\n",
    "    levels=20,\n",
    ")\n",
    "\n",
    "plt.plot(\n",
    "    [1],\n",
    "    [1],\n",
    "    \"o\",\n",
    "    color=\"black\",\n",
    "    fillstyle=\"none\",\n",
    "    markersize=11,\n",
    "    markeredgewidth=2,\n",
    ")\n",
    "\n",
    "plt.plot(\n",
    "    [1],\n",
    "    [1],\n",
    "    \".\",\n",
    "    color=\"black\",\n",
    ")\n",
    "\n",
    "plt.xlabel(\"x\")\n",
    "plt.ylabel(\"y\")\n",
    "plt.show()"
   ]
  },
  {
   "cell_type": "code",
   "execution_count": null,
   "id": "55e0489e",
   "metadata": {},
   "outputs": [],
   "source": [
    "print('ok_')"
   ]
  }
 ],
 "metadata": {
  "kernelspec": {
   "display_name": "Python 3 (ipykernel)",
   "language": "python",
   "name": "python3"
  },
  "language_info": {
   "codemirror_mode": {
    "name": "ipython",
    "version": 3
   },
   "file_extension": ".py",
   "mimetype": "text/x-python",
   "name": "python",
   "nbconvert_exporter": "python",
   "pygments_lexer": "ipython3",
   "version": "3.11.5"
  }
 },
 "nbformat": 4,
 "nbformat_minor": 5
}
