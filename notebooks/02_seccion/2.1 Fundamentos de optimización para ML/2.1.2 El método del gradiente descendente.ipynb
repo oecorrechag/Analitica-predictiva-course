{
 "cells": [
  {
   "cell_type": "markdown",
   "id": "123449fc",
   "metadata": {},
   "source": [
    "# 2.1.2 El método del gradiente descendente\n",
    "\n",
    "Notas:\n",
    "- Gradiente descendente por que va encontra del signo de la derivada (gradiente)"
   ]
  },
  {
   "cell_type": "code",
   "execution_count": null,
   "id": "790ba2b7",
   "metadata": {},
   "outputs": [],
   "source": [
    "%load_ext autoreload\n",
    "%autoreload 2"
   ]
  },
  {
   "cell_type": "code",
   "execution_count": null,
   "id": "a55adc03",
   "metadata": {},
   "outputs": [],
   "source": [
    "import pandas as pd\n",
    "import numpy as np\n",
    "import matplotlib.pyplot as plt\n",
    "from matplotlib import cm\n",
    "\n",
    "pd.set_option('display.max_columns', None)\n",
    "pd.set_option('display.max_rows', None)\n",
    "import warnings\n",
    "warnings.filterwarnings(\"ignore\")"
   ]
  },
  {
   "cell_type": "markdown",
   "id": "104fb54e",
   "metadata": {},
   "source": [
    "## 2.1.2.1 Función de Rosenbrock\n",
    "\n",
    "$$ f(x,y) = 100 * (x^2 − y)^2 + (1 − x)^2 $$\n",
    "$$ x \\ \\epsilon [−2.048,2.048]  $$\n",
    "$$ y \\ \\epsilon [-1,4]  $$\n",
    "$$ f(1,1) = 0 $$"
   ]
  },
  {
   "cell_type": "code",
   "execution_count": null,
   "id": "ff09af4c",
   "metadata": {},
   "outputs": [],
   "source": [
    "#\n",
    "# Función\n",
    "#\n",
    "def f(x, y):\n",
    "    return 100 * (x ** 2 - y) ** 2 + (1 - x) ** 2"
   ]
  },
  {
   "cell_type": "code",
   "execution_count": null,
   "id": "66595e9d",
   "metadata": {},
   "outputs": [],
   "source": [
    "#\n",
    "# Gradiente\n",
    "#\n",
    "def g(x, y):\n",
    "    grad_x = 400 * x * (x ** 2 - y) - 2 * (1 - x)\n",
    "    grad_y = -200 * (x ** 2 - y)\n",
    "    return grad_x, grad_y\n"
   ]
  },
  {
   "cell_type": "code",
   "execution_count": null,
   "id": "ad01d628",
   "metadata": {},
   "outputs": [],
   "source": [
    "#\n",
    "# Función de mejora\n",
    "#\n",
    "def improve(x, y, mu):\n",
    "    grad_x, grad_y = g(x, y)\n",
    "    x = x - mu * grad_x\n",
    "    y = y - mu * grad_y\n",
    "    return x, y"
   ]
  },
  {
   "cell_type": "code",
   "execution_count": null,
   "id": "92cc4845",
   "metadata": {},
   "outputs": [],
   "source": [
    "#\n",
    "# Punto de inicio\n",
    "#\n",
    "x = -0.5\n",
    "y = +3.5\n",
    "\n",
    "history = {\"x\": [x], \"y\": [y], \"f\": [f(x, y)]}"
   ]
  },
  {
   "cell_type": "code",
   "execution_count": null,
   "id": "f0b95f02",
   "metadata": {},
   "outputs": [],
   "source": [
    "# for epoch in range(50):\n",
    "#     x, y = improve(x, y, mu=0.001)\n",
    "#     history[\"x\"].append(x)\n",
    "#     history[\"y\"].append(y)\n",
    "#     history[\"f\"].append(f(x, y))\n",
    "\n",
    "#\n",
    "# Ultimo resultado obtenido\n",
    "#\n",
    "# print(\"      x = {:6.5f}\\n      y = {:+6.5f}\\nf(x, y) = {:+6.5f}\".format(x, y, f(x, y)))"
   ]
  },
  {
   "cell_type": "code",
   "execution_count": null,
   "id": "a0b68faf",
   "metadata": {},
   "outputs": [],
   "source": [
    "def epocas(x, y, epocas, learning_rate):\n",
    "    \n",
    "    history = {\"x\": [x], \"y\": [y], \"f\": [f(x, y)]}\n",
    "    \n",
    "    for epoch in range(epocas):\n",
    "        x, y = improve(x, y, mu=learning_rate)\n",
    "        history[\"x\"].append(x)\n",
    "        history[\"y\"].append(y)\n",
    "        history[\"f\"].append(f(x, y))\n",
    "\n",
    "    #\n",
    "    # Ultimo resultado obtenido\n",
    "    #\n",
    "    # print(\"      x = {:6.5f}\\n      y = {:+6.5f}\\nf(x, y) = {:+6.5f}\".format(x, y, f(x, y)))\n",
    "    \n",
    "    return history"
   ]
  },
  {
   "cell_type": "code",
   "execution_count": null,
   "id": "eac13ca0",
   "metadata": {},
   "outputs": [],
   "source": [
    "history = epocas(-0.5, +3.5, 50, 0.001)"
   ]
  },
  {
   "cell_type": "code",
   "execution_count": null,
   "id": "d913b845",
   "metadata": {},
   "outputs": [],
   "source": [
    "def plot_contour():\n",
    "\n",
    "    X = np.linspace(start=-2.048, stop=2.048, num=50)\n",
    "    Y = np.linspace(start=-0.1, stop=4.0, num=50)\n",
    "    X, Y = np.meshgrid(X, Y)\n",
    "    Z = f(X, Y)\n",
    "\n",
    "    plt.subplots(figsize=(8, 8))\n",
    "    plt.gca().contourf(X, Y, Z, cmap=cm.Greys, levels=20, alpha=1.0)\n",
    "    plt.gca().contour(X, Y, Z, colors=\"gray\", levels=20)\n",
    "    plt.plot(\n",
    "        [1], [1], \"o\", color=\"black\", fillstyle=\"none\", markersize=11, markeredgewidth=2\n",
    "    )\n",
    "    plt.plot([1], [1], \".\", color=\"black\")\n",
    "    plt.xlabel(\"x\")\n",
    "    plt.ylabel(\"y\")\n",
    "\n",
    "\n",
    "plot_contour()\n",
    "plt.plot(history[\"x\"], history[\"y\"], \"o-\", color=\"k\")\n",
    "plt.show()"
   ]
  },
  {
   "cell_type": "code",
   "execution_count": null,
   "id": "ae7455a3",
   "metadata": {},
   "outputs": [],
   "source": [
    "plt.figure(figsize=(12, 8))\n",
    "plt.plot(history[\"f\"], \"o-k\")\n",
    "plt.xlabel(\"Iteraciones\")\n",
    "plt.ylabel(\"f(x, y)\")\n",
    "plt.grid()"
   ]
  },
  {
   "cell_type": "code",
   "execution_count": null,
   "id": "ac0cc1d4",
   "metadata": {},
   "outputs": [],
   "source": [
    "history = epocas(0, 4, 50, 0.001)"
   ]
  },
  {
   "cell_type": "code",
   "execution_count": null,
   "id": "88f79c1b",
   "metadata": {},
   "outputs": [],
   "source": [
    "plot_contour()\n",
    "plt.plot(history[\"x\"], history[\"y\"], \"o-\", color=\"k\")\n",
    "plt.show()"
   ]
  },
  {
   "cell_type": "code",
   "execution_count": null,
   "id": "8a76e0a5",
   "metadata": {},
   "outputs": [],
   "source": [
    "plt.figure(figsize=(12, 8))\n",
    "plt.plot(history[\"f\"], \"o-k\")\n",
    "plt.xlabel(\"Iteraciones\")\n",
    "plt.ylabel(\"f(x, y)\")\n",
    "plt.grid()"
   ]
  },
  {
   "cell_type": "code",
   "execution_count": null,
   "id": "990bf4b5",
   "metadata": {},
   "outputs": [],
   "source": [
    "print('ok_')"
   ]
  }
 ],
 "metadata": {
  "kernelspec": {
   "display_name": "Python 3 (ipykernel)",
   "language": "python",
   "name": "python3"
  },
  "language_info": {
   "codemirror_mode": {
    "name": "ipython",
    "version": 3
   },
   "file_extension": ".py",
   "mimetype": "text/x-python",
   "name": "python",
   "nbconvert_exporter": "python",
   "pygments_lexer": "ipython3",
   "version": "3.11.5"
  }
 },
 "nbformat": 4,
 "nbformat_minor": 5
}
