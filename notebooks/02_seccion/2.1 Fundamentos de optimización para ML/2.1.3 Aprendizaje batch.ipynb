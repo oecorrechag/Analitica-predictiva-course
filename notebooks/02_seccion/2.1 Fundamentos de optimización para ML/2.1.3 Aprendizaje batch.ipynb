{
 "cells": [
  {
   "cell_type": "markdown",
   "id": "123449fc",
   "metadata": {},
   "source": [
    "# 2.1.3 Aprendizaje batch"
   ]
  },
  {
   "cell_type": "code",
   "execution_count": null,
   "id": "790ba2b7",
   "metadata": {},
   "outputs": [],
   "source": [
    "%load_ext autoreload\n",
    "%autoreload 2"
   ]
  },
  {
   "cell_type": "code",
   "execution_count": null,
   "id": "a55adc03",
   "metadata": {},
   "outputs": [],
   "source": [
    "import pandas as pd\n",
    "import numpy as np\n",
    "import matplotlib.pyplot as plt\n",
    "from matplotlib import cm\n",
    "\n",
    "pd.set_option('display.max_columns', None)\n",
    "pd.set_option('display.max_rows', None)\n",
    "import warnings\n",
    "warnings.filterwarnings(\"ignore\")"
   ]
  },
  {
   "cell_type": "markdown",
   "id": "104fb54e",
   "metadata": {},
   "source": [
    "## 2.1.3.1 Definición del problema de regresión univariada\n",
    "\n",
    "Se desean encontra los parámetros w0 y w1 del siguiente modelo de regresión entre las variables x y y:\n",
    "\n",
    "$$ y_{i} = w_{i}x_{i} + w_{0} + e_{i} $$\n",
    "\n",
    "a partir de un conjunto de observaciones ${d_{i}, x_{i}}$, donde $d_{i}$ es el valor real (observado), $y_{i}$ es su aproximación usando el modelo de regresión descrito, y $e_{i}$ es el error aleatorio."
   ]
  },
  {
   "cell_type": "code",
   "execution_count": null,
   "id": "f235ddd1",
   "metadata": {},
   "outputs": [],
   "source": [
    "#\n",
    "# Datos del problema\n",
    "#\n",
    "x_sample = np.array(\n",
    "    [\n",
    "        0.1087,0.2698,0.3765,0.2146,0.9155,0.0246,0.0221,0.8632,0.6460,\n",
    "        0.2092,0.8567,0.1591,0.9647,0.6231,0.7460,0.3654,0.3065,0.6886,\n",
    "        0.4966,0.2008,0.2618,0.7607,0.1563,0.4424,0.7731,\n",
    "    ]\n",
    ")\n",
    "\n",
    "y_sample = np.array(\n",
    "    [\n",
    "        0.9519,1.1237,1.2360,1.0526,2.0743,0.7906,0.7603,2.0533,1.6887,\n",
    "        1.0563,2.0991,0.8953,2.1917,1.6266,1.8508,1.2828,1.2283,1.8722,\n",
    "        1.4657,1.0418,1.1097,1.7826,0.9711,1.4267,1.8248,\n",
    "    ]\n",
    ")"
   ]
  },
  {
   "cell_type": "markdown",
   "id": "f7291fd2",
   "metadata": {},
   "source": [
    "## 2.1.3.2 Función de pérdida\n",
    "\n",
    "<center>\n",
    "\n",
    "\\begin{align*}\n",
    "\n",
    "    SSE &= \\sum_{i}^{} e_i^2  \\\\\n",
    "    SSE &= \\sum_{i}^{} (d_i - y_i)^2 \\\\\n",
    "    SSE &= \\sum_{i}^{} (d_i - w_i - w_i x_i)^2\n",
    "    \n",
    "\\end{align*}\n",
    "\n",
    "</center>"
   ]
  },
  {
   "cell_type": "code",
   "execution_count": null,
   "id": "b532f38f",
   "metadata": {},
   "outputs": [],
   "source": [
    "#\n",
    "# Sumatoria del error cuadrático o pérdida cuadrática\n",
    "#\n",
    "def sse(w0, w1):\n",
    "    y_forecasts = [w0 + w1 * x_value for x_value in x_sample]\n",
    "    errors = [y_true - y_forecast for y_true, y_forecast in zip(y_sample, y_forecasts)]\n",
    "    squared_errors = [error ** 2 for error in errors]\n",
    "    return sum(squared_errors)"
   ]
  },
  {
   "cell_type": "markdown",
   "id": "9d9bb58b",
   "metadata": {},
   "source": [
    "## 2.1.3.3 Pronóstico del modelo para valores arbitrarios"
   ]
  },
  {
   "cell_type": "code",
   "execution_count": null,
   "id": "00352363",
   "metadata": {},
   "outputs": [],
   "source": [
    "def plot_forecast(w0, w1):\n",
    "\n",
    "    z_sample = np.linspace(min(x_sample), max(x_sample))\n",
    "    y_forecasts = w0 + w1 * z_sample\n",
    "\n",
    "    plt.scatter(x_sample, y_sample, color=\"tab:blue\", edgecolors=\"white\")\n",
    "    plt.plot(z_sample, y_forecasts, \"-\", color=\"tab:blue\", linewidth=3)\n",
    "    plt.title(\n",
    "        \"SSE=\" + str(round(sse(w0, w1), 4)),\n",
    "        fontsize=16,\n",
    "    )\n",
    "\n",
    "    plt.gca().spines[\"left\"].set_color(\"gray\")\n",
    "    plt.gca().spines[\"bottom\"].set_color(\"gray\")\n",
    "    plt.gca().spines[\"top\"].set_visible(False)\n",
    "    plt.gca().spines[\"right\"].set_visible(False)\n",
    "\n",
    "\n",
    "plt.figure(figsize=(12, 6))\n",
    "\n",
    "plt.subplot(1, 2, 1)\n",
    "plot_forecast(w0=0.8, w1=1)\n",
    "\n",
    "plt.subplot(1, 2, 2)\n",
    "plot_forecast(w0=1.0, w1=1.1)"
   ]
  },
  {
   "cell_type": "markdown",
   "id": "ee301f5d",
   "metadata": {},
   "source": [
    "## 2.1.3.4 Forma de la superficie de la función de pérdida"
   ]
  },
  {
   "cell_type": "code",
   "execution_count": null,
   "id": "e8eeb9f7",
   "metadata": {},
   "outputs": [],
   "source": [
    "def plot_surface():\n",
    "\n",
    "    W0 = np.linspace(-0.5, 3.0, 50)\n",
    "    W1 = np.linspace(-0.5, 3.0, 50)\n",
    "    W0, W1 = np.meshgrid(W0, W1)\n",
    "    F = sse(W0, W1)\n",
    "\n",
    "    #\n",
    "    # Superficie de error\n",
    "    #\n",
    "    fig = plt.figure(figsize=(9, 9))\n",
    "    ax = fig.add_subplot(projection = '3d', azim=-100, elev=25)\n",
    "    ax.plot_surface(W0, W1, F, cmap=cm.binary, linewidth=1, antialiased=False)\n",
    "    ax.plot_wireframe(W0, W1, F, color=\"black\", linewidth=0.8, alpha=1.0)\n",
    "\n",
    "    plt.xlabel(\"w0\")\n",
    "    plt.ylabel(\"w1\")\n",
    "\n",
    "\n",
    "plot_surface()\n",
    "plt.show()"
   ]
  },
  {
   "cell_type": "markdown",
   "id": "21772ab6",
   "metadata": {},
   "source": [
    "### Contorno de la función de pérdida"
   ]
  },
  {
   "cell_type": "code",
   "execution_count": null,
   "id": "c9a31c3b",
   "metadata": {},
   "outputs": [],
   "source": [
    "def plot_contour():\n",
    "\n",
    "    W0 = np.linspace(-0.5, 1.5, 100)\n",
    "    W1 = np.linspace(1.0, 3.0, 100)\n",
    "    W0, W1 = np.meshgrid(W0, W1)\n",
    "    F = sse(W0, W1)\n",
    "\n",
    "    levels = [0, 0.2, 0.5, 0.75, 1, 2, 3, 5, 10, 20, 30, 40, 50, 60]\n",
    "\n",
    "    _, ax = plt.subplots(figsize=(8, 8))\n",
    "    ax.set_aspect(\"equal\", \"box\")\n",
    "    ax.contourf(W0, W1, F, cmap=cm.Greys, levels=levels, alpha=0.8)\n",
    "    ax.contour(W0, W1, F, colors=\"gray\", levels=levels)\n",
    "\n",
    "    plt.plot(\n",
    "        [0.731],\n",
    "        [1.498],\n",
    "        \"o\",\n",
    "        color=\"black\",\n",
    "        fillstyle=\"none\",\n",
    "        markersize=11,\n",
    "        markeredgewidth=2,\n",
    "    )\n",
    "    plt.plot([0.731], [1.498], \".\", color=\"black\")\n",
    "\n",
    "    ax.set_xlabel(\"w0\")\n",
    "    ax.set_ylabel(\"w1\")\n",
    "    ax.grid()\n",
    "\n",
    "\n",
    "plot_contour()"
   ]
  },
  {
   "cell_type": "markdown",
   "id": "ea737443",
   "metadata": {},
   "source": [
    "## 2.1.3.5 Gradiente algebraico de la función de pérdida\n",
    "\n",
    "$$ SSE(w_0, w_1) = \\sum_{i}^{}(d_i - w_0 - w_1 x_1)^2 $$\n",
    "\n",
    "## 2.1.3.6 Codificación del gradiente\n",
    "\n",
    "$$ w_k = w_{k-1} - \\mu \\frac{\\delta}{\\delta_w} SEE(\\delta_{w-1}) $$"
   ]
  },
  {
   "cell_type": "code",
   "execution_count": null,
   "id": "5c00d7b4",
   "metadata": {},
   "outputs": [],
   "source": [
    "def gradient(w0, w1):\n",
    "\n",
    "    y_forecasts = [w0 + w1 * x_value for x_value in x_sample]\n",
    "\n",
    "    errors = [y_true - y_forecast for y_true, y_forecast in zip(y_sample, y_forecasts)]\n",
    "\n",
    "    gradient_w0 = -2 * sum(errors)\n",
    "    gradient_w1 = -2 * sum(\n",
    "        [error * x_value for error, x_value in zip(errors, x_sample)]\n",
    "    )\n",
    "\n",
    "    return gradient_w0, gradient_w1"
   ]
  },
  {
   "cell_type": "markdown",
   "id": "062d182b",
   "metadata": {},
   "source": [
    "## 2.1.3.7 Ecuación de mejora\n",
    "\n",
    "$$ w_k = w_{k-1} - \\mu \\frac{\\delta}{\\delta_w} SEE(\\delta_{w-1}) $$"
   ]
  },
  {
   "cell_type": "code",
   "execution_count": null,
   "id": "a2eef7d7",
   "metadata": {},
   "outputs": [],
   "source": [
    "def improve(w0, w1, mu):\n",
    "\n",
    "    gradient_w0, gradient_w1 = gradient(w0, w1)\n",
    "\n",
    "    w0 = w0 - mu * gradient_w0\n",
    "    w1 = w1 - mu * gradient_w1\n",
    "\n",
    "    return w0, w1"
   ]
  },
  {
   "cell_type": "markdown",
   "id": "032b0ed3",
   "metadata": {},
   "source": [
    "## 2.1.3.8 Proceso iterativo"
   ]
  },
  {
   "cell_type": "code",
   "execution_count": null,
   "id": "b72eb6cf",
   "metadata": {},
   "outputs": [],
   "source": [
    "#\n",
    "# Punto de inicio\n",
    "#\n",
    "w0 = 0.5\n",
    "w1 = 2.9\n",
    "\n",
    "history = {\n",
    "    \"w0\": [w0],\n",
    "    \"w1\": [w1],\n",
    "    \"sse\": [sse(w0, w1)],\n",
    "}\n",
    "\n",
    "mu = 0.03\n",
    "\n",
    "for epoch in range(20):\n",
    "\n",
    "    w0, w1 = improve(w0, w1, mu)\n",
    "\n",
    "    history[\"w0\"].append(w0)\n",
    "    history[\"w1\"].append(w1)\n",
    "    history[\"sse\"].append(sse(w0, w1))\n",
    "\n",
    "print(\" w0 = {:6.4f}\\n w1 = {:6.4f}\\nSSE = {:6.4f}\".format(w0, w1, sse(w0, w1)))\n",
    "\n",
    "plot_contour()\n",
    "plt.plot(history[\"w0\"], history[\"w1\"], marker=\"o\", color=\"black\")\n",
    "plt.show()"
   ]
  },
  {
   "cell_type": "code",
   "execution_count": null,
   "id": "45a2ced9",
   "metadata": {},
   "outputs": [],
   "source": [
    "plt.figure(figsize=(10, 6))\n",
    "plt.plot(history[\"sse\"], \"o-k\")\n",
    "plt.xlabel(\"Iteraciones\")\n",
    "plt.ylabel(\"SSE(w0, w1)\")\n",
    "plt.grid()"
   ]
  },
  {
   "cell_type": "code",
   "execution_count": null,
   "id": "7f59fc10",
   "metadata": {
    "scrolled": true
   },
   "outputs": [],
   "source": [
    "#\n",
    "# A continuación se grafica la recta encontrada.\n",
    "#\n",
    "plt.figure(figsize=(6, 6))\n",
    "plot_forecast(w0, w1)"
   ]
  },
  {
   "cell_type": "code",
   "execution_count": null,
   "id": "136a3a4b",
   "metadata": {},
   "outputs": [],
   "source": [
    "def epocas(w0, w1, epocas, learning_rate):\n",
    "    \n",
    "    history = { \"w0\": [w0], \"w1\": [w1], \"sse\": [sse(w0, w1)]}\n",
    "    \n",
    "    for epoch in range(epocas):\n",
    "        w0, w1 = improve(w0, w1, learning_rate)\n",
    "\n",
    "        history[\"w0\"].append(w0)\n",
    "        history[\"w1\"].append(w1)\n",
    "        history[\"sse\"].append(sse(w0, w1))\n",
    "\n",
    "    #\n",
    "    # Ultimo resultado obtenido\n",
    "    #\n",
    "    # print(\" w0 = {:6.4f}\\n w1 = {:6.4f}\\nSSE = {:6.4f}\".format(w0, w1, sse(w0, w1)))\n",
    "    \n",
    "    return history"
   ]
  },
  {
   "cell_type": "code",
   "execution_count": null,
   "id": "049928ec",
   "metadata": {},
   "outputs": [],
   "source": [
    "history = epocas(0.5, 2.9, 50, 0.02)"
   ]
  },
  {
   "cell_type": "code",
   "execution_count": null,
   "id": "98d4fd98",
   "metadata": {},
   "outputs": [],
   "source": [
    "plot_contour()\n",
    "plt.plot(history[\"w0\"], history[\"w1\"], marker=\"o\", color=\"black\")\n",
    "plt.show()"
   ]
  },
  {
   "cell_type": "code",
   "execution_count": null,
   "id": "5d043dd1",
   "metadata": {},
   "outputs": [],
   "source": [
    "plt.figure(figsize=(10, 6))\n",
    "plt.plot(history[\"sse\"], \"o-k\")\n",
    "plt.xlabel(\"Iteraciones\")\n",
    "plt.ylabel(\"SSE(w0, w1)\")\n",
    "plt.grid()"
   ]
  },
  {
   "cell_type": "code",
   "execution_count": null,
   "id": "cedbdfa5",
   "metadata": {},
   "outputs": [],
   "source": [
    "#\n",
    "# A continuación se grafica la recta encontrada.\n",
    "#\n",
    "plt.figure(figsize=(6, 6))\n",
    "plot_forecast(w0, w1)"
   ]
  },
  {
   "cell_type": "code",
   "execution_count": null,
   "id": "fd362174",
   "metadata": {},
   "outputs": [],
   "source": [
    "print('ok_')"
   ]
  }
 ],
 "metadata": {
  "kernelspec": {
   "display_name": "Python 3.11.0 64-bit",
   "language": "python",
   "name": "python3"
  },
  "language_info": {
   "codemirror_mode": {
    "name": "ipython",
    "version": 3
   },
   "file_extension": ".py",
   "mimetype": "text/x-python",
   "name": "python",
   "nbconvert_exporter": "python",
   "pygments_lexer": "ipython3",
   "version": "3.11.5"
  },
  "vscode": {
   "interpreter": {
    "hash": "5238573367df39f7286bb46f9ff5f08f63a01a80960060ce41e3c79b190280fa"
   }
  }
 },
 "nbformat": 4,
 "nbformat_minor": 5
}
