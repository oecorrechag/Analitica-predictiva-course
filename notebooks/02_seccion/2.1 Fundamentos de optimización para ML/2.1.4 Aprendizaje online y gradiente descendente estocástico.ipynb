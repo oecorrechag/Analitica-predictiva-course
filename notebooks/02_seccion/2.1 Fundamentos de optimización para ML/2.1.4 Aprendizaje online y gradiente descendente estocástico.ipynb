{
 "cells": [
  {
   "cell_type": "markdown",
   "id": "a2073571",
   "metadata": {},
   "source": [
    "# 2.1.4 Aprendizaje online y gradiente descendente estocástico"
   ]
  },
  {
   "cell_type": "code",
   "execution_count": null,
   "id": "5f76ea76",
   "metadata": {},
   "outputs": [],
   "source": [
    "%load_ext autoreload\n",
    "%autoreload 2"
   ]
  },
  {
   "cell_type": "code",
   "execution_count": null,
   "id": "adb90829",
   "metadata": {},
   "outputs": [],
   "source": [
    "import pandas as pd\n",
    "import numpy as np\n",
    "import matplotlib.pyplot as plt\n",
    "from matplotlib import cm\n",
    "\n",
    "pd.set_option('display.max_columns', None)\n",
    "pd.set_option('display.max_rows', None)\n",
    "import warnings\n",
    "warnings.filterwarnings(\"ignore\")"
   ]
  },
  {
   "cell_type": "markdown",
   "id": "0d816c05",
   "metadata": {},
   "source": [
    "## 2.1.4.1 Definición del problema de estimación de parámetros\n",
    "\n",
    "Se desean encontra los parámetros w0 y w1 del siguiente modelo de regresión entre las variables x y y:\n",
    "\n",
    "$$ y_{i} = w_{i}x_{i} + w_{0} + e_{i} $$\n",
    "\n",
    "a partir de un conjunto de observaciones ${d_{i}, x_{i}}$, donde $d_{i}$ es el valor real (observado), $y_{i}$ es su aproximación usando el modelo de regresión descrito, y $e_{i}$ es el error aleatorio."
   ]
  },
  {
   "cell_type": "code",
   "execution_count": null,
   "id": "013b4032",
   "metadata": {},
   "outputs": [],
   "source": [
    "#\n",
    "# Datos del problema\n",
    "#\n",
    "x_sample = [\n",
    "    0.6231,0.7460,0.1087,0.3654,0.3065,0.6886,\n",
    "    0.4966,0.2618,0.7607,0.4424,0.7731,\n",
    "]\n",
    "\n",
    "y_sample = [\n",
    "    1.6266,1.8508,0.9519,1.2828,1.2283,1.8722,\n",
    "    1.4657,1.1097,1.7826,1.4267,1.8248,\n",
    "]"
   ]
  },
  {
   "cell_type": "markdown",
   "id": "5140b09e",
   "metadata": {},
   "source": [
    "## 2.1.4.2 Función de pérdida\n",
    "\n",
    "$$ SSE(w_0, w_1) = \\sum_{i}^{} (d_i - y_i)^2 $$"
   ]
  },
  {
   "cell_type": "code",
   "execution_count": null,
   "id": "05148386",
   "metadata": {},
   "outputs": [],
   "source": [
    "#\n",
    "# Sumatoria del error cuadrático o pérdida cuadrática\n",
    "#\n",
    "def sse(w0, w1):\n",
    "    y_forecasts = [w0 + w1 * x_value for x_value in x_sample]\n",
    "    errors = [y_true - y_forecast for y_true, y_forecast in zip(y_sample, y_forecasts)]\n",
    "    squared_errors = [error ** 2 for error in errors]\n",
    "    return sum(squared_errors)"
   ]
  },
  {
   "cell_type": "markdown",
   "id": "71398075",
   "metadata": {},
   "source": [
    "## 2.1.4.3 Aprendizaje Batch\n",
    "\n",
    "De acuerdo con el método del gradiente\n",
    "\n",
    "<center>\n",
    "\n",
    "\\begin{align*}\n",
    "\n",
    "    w_k &= w_{k-1} - \\mu \\frac{\\delta}{\\delta_w} SEE^2(\\delta_{w-1})  \\\\\n",
    "    &= w_{k-1} - \\mu \\frac{\\delta}{\\delta_w} \\sum_{i}{} e_î^2\n",
    "    \n",
    "\\end{align*}\n",
    "\n",
    "</center>\n",
    "\n",
    "Donde w=[$ w_0, w_1 $]\n",
    "\n",
    "La ecuación anterior se puede reescribir como:\n",
    "\n",
    "$$ w_{k} = w_{k-1} - \\mu \\sum_{i}{} (\\frac{\\delta}{\\delta_w} e_î^2) $$"
   ]
  },
  {
   "cell_type": "markdown",
   "id": "f6900105",
   "metadata": {},
   "source": [
    "## 2.1.4.4 Aprendizaje online\n",
    "\n",
    "$$ w_{k} = w_{k-1} - \\mu (\\frac{\\delta}{\\delta_w} e_î^2) $$\n",
    "\n",
    "El proceso es el siguiente:\n",
    "\n",
    "- Se computa el gradiente instantaneo para el punto i\n",
    "- Se realiza la corrección del vector del parámetro $w_k$ con el gradiente en el punto $i$\n",
    "- Se pasa al siguiente punto $ i = i + 1 $ y se retorna al primer paso"
   ]
  },
  {
   "cell_type": "markdown",
   "id": "eace6f7e",
   "metadata": {},
   "source": [
    "## 2.1.4.5 Derivadas\n",
    "\n",
    "$$ \\frac{\\delta}{\\delta_{w0}} e_î^2 = -2e_î $$\n",
    "$$ \\frac{\\delta}{\\delta_{w1}} e_î^2 = -2e_îx_i $$"
   ]
  },
  {
   "cell_type": "code",
   "execution_count": null,
   "id": "c6624d67",
   "metadata": {},
   "outputs": [],
   "source": [
    "def gradient(w0, w1, x_value, y_value):\n",
    "\n",
    "    error = y_value - w0 - w1 * x_value\n",
    "    gradient_w0 = -2 * error\n",
    "    gradient_w1 = -2 * error * x_value\n",
    "\n",
    "    return gradient_w0, gradient_w1"
   ]
  },
  {
   "cell_type": "markdown",
   "id": "e981a5de",
   "metadata": {},
   "source": [
    "## 2.1.4.6 Ecuación de mejora\n",
    "\n",
    "$$ w_{k} = w_{k-1} - \\mu (\\frac{\\delta}{\\delta_w} e_î^2) $$"
   ]
  },
  {
   "cell_type": "code",
   "execution_count": null,
   "id": "d263d473",
   "metadata": {},
   "outputs": [],
   "source": [
    "def improve(w0, w1, mu, x_value, y_value):\n",
    "\n",
    "    gradient_w0, gradient_w1 = gradient(w0, w1, x_value, y_value)\n",
    "    w0 = w0 - mu * gradient_w0\n",
    "    w1 = w1 - mu * gradient_w1\n",
    "\n",
    "    return w0, w1"
   ]
  },
  {
   "cell_type": "markdown",
   "id": "9e2b1779",
   "metadata": {},
   "source": [
    "## 1.2.4.7 Proceso iterativo"
   ]
  },
  {
   "cell_type": "code",
   "execution_count": null,
   "id": "e4f94c1a",
   "metadata": {},
   "outputs": [],
   "source": [
    "def plot_contour():\n",
    "\n",
    "    W0 = np.linspace(0.0, 0.8, 50)\n",
    "    W1 = np.linspace(2.4, 3.2, 50)\n",
    "    W0, W1 = np.meshgrid(W0, W1)\n",
    "    F = sse(W0, W1)\n",
    "\n",
    "    levels = [0, 0.2, 0.5, 0.75, 1, 2, 3, 5, 10, 20, 40, 60]\n",
    "\n",
    "    fig, ax = plt.subplots(figsize=(8, 8))\n",
    "\n",
    "    ax.set_aspect(\"equal\", \"box\")\n",
    "    ax.contourf(W0, W1, F, cmap=cm.Greys, levels=levels, alpha=0.8)\n",
    "    ax.contour(W0, W1, F, colors=\"gray\", levels=levels)\n",
    "    ax.grid()\n",
    "    ax.set_xlabel(\"w0\")\n",
    "    ax.set_ylabel(\"w1\")"
   ]
  },
  {
   "cell_type": "code",
   "execution_count": null,
   "id": "83302fe1",
   "metadata": {},
   "outputs": [],
   "source": [
    "#\n",
    "# Punto de inicio\n",
    "#\n",
    "w0 = 0.5\n",
    "w1 = 3.0\n",
    "\n",
    "history = {\n",
    "    \"w0\": [w0],\n",
    "    \"w1\": [w1],\n",
    "    \"sse\": [sse(w0, w1)],\n",
    "}\n",
    "\n",
    "mu = 0.03\n",
    "\n",
    "for epoch in range(10):\n",
    "\n",
    "    for x_value, y_value in zip(x_sample, y_sample):\n",
    "\n",
    "        w0, w1 = improve(w0, w1, mu, x_value, y_value)\n",
    "\n",
    "        history[\"w0\"].append(w0)\n",
    "        history[\"w1\"].append(w1)\n",
    "        history[\"sse\"].append(sse(w0, w1))\n",
    "\n",
    "print(\" w0 = {:6.4f}\\n w1 = {:6.4f}\\nSSE = {:6.4f}\\n\".format(w0, w1, sse(w0, w1)))\n",
    "\n",
    "plot_contour()\n",
    "plt.plot(history[\"w0\"], history[\"w1\"], marker=\".\", color=\"black\")\n",
    "plt.show()"
   ]
  },
  {
   "cell_type": "code",
   "execution_count": null,
   "id": "ea10f5a7",
   "metadata": {},
   "outputs": [],
   "source": [
    "plt.figure(figsize=(10, 6))\n",
    "plt.plot(history[\"sse\"], \".-k\")\n",
    "plt.xlabel(\"Iteraciones\")\n",
    "plt.ylabel(\"SSE(w0, w1)\")\n",
    "plt.show()"
   ]
  },
  {
   "cell_type": "code",
   "execution_count": null,
   "id": "3bae1920",
   "metadata": {},
   "outputs": [],
   "source": [
    "def epocas(w0, w1, epocas, learning_rate):\n",
    "    \n",
    "    history = { \"w0\": [w0], \"w1\": [w1], \"sse\": [sse(w0, w1)]}\n",
    "    \n",
    "    for epoch in range(epocas):\n",
    "        for x_value, y_value in zip(x_sample, y_sample):\n",
    "            \n",
    "            w0, w1 = improve(w0, w1, learning_rate, x_value, y_value)\n",
    "\n",
    "            history[\"w0\"].append(w0)\n",
    "            history[\"w1\"].append(w1)\n",
    "            history[\"sse\"].append(sse(w0, w1))\n",
    "\n",
    "    #\n",
    "    # Ultimo resultado obtenido\n",
    "    #\n",
    "    # print(\" w0 = {:6.4f}\\n w1 = {:6.4f}\\nSSE = {:6.4f}\\n\".format(w0, w1, sse(w0, w1)))\n",
    "    \n",
    "    return history"
   ]
  },
  {
   "cell_type": "code",
   "execution_count": null,
   "id": "aae25bed",
   "metadata": {},
   "outputs": [],
   "source": [
    "history = epocas(0.5, 3.0, 10, 0.03)"
   ]
  },
  {
   "cell_type": "code",
   "execution_count": null,
   "id": "49b98c14",
   "metadata": {},
   "outputs": [],
   "source": [
    "plot_contour()\n",
    "plt.plot(history[\"w0\"], history[\"w1\"], marker=\".\", color=\"black\")\n",
    "plt.show()"
   ]
  },
  {
   "cell_type": "code",
   "execution_count": null,
   "id": "d6f57617",
   "metadata": {},
   "outputs": [],
   "source": [
    "plt.figure(figsize=(10, 6))\n",
    "plt.plot(history[\"sse\"], \".-k\")\n",
    "plt.xlabel(\"Iteraciones\")\n",
    "plt.ylabel(\"SSE(w0, w1)\")\n",
    "plt.show()"
   ]
  },
  {
   "cell_type": "code",
   "execution_count": null,
   "id": "2c3345c1",
   "metadata": {},
   "outputs": [],
   "source": [
    "print('ok_')"
   ]
  }
 ],
 "metadata": {
  "kernelspec": {
   "display_name": "Python 3 (ipykernel)",
   "language": "python",
   "name": "python3"
  },
  "language_info": {
   "codemirror_mode": {
    "name": "ipython",
    "version": 3
   },
   "file_extension": ".py",
   "mimetype": "text/x-python",
   "name": "python",
   "nbconvert_exporter": "python",
   "pygments_lexer": "ipython3",
   "version": "3.11.5"
  }
 },
 "nbformat": 4,
 "nbformat_minor": 5
}
