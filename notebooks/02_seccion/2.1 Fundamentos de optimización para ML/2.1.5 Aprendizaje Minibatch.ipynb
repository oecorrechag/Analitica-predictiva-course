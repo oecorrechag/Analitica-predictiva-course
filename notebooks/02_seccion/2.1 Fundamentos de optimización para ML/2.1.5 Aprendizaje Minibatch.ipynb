{
 "cells": [
  {
   "cell_type": "markdown",
   "id": "a2073571",
   "metadata": {},
   "source": [
    "# 2.1.5 Aprendizaje Minibatch"
   ]
  },
  {
   "cell_type": "code",
   "execution_count": null,
   "id": "5f76ea76",
   "metadata": {},
   "outputs": [],
   "source": [
    "%load_ext autoreload\n",
    "%autoreload 2"
   ]
  },
  {
   "cell_type": "code",
   "execution_count": null,
   "id": "adb90829",
   "metadata": {},
   "outputs": [],
   "source": [
    "import pandas as pd\n",
    "import numpy as np\n",
    "import matplotlib.pyplot as plt\n",
    "from matplotlib import cm\n",
    "\n",
    "pd.set_option('display.max_columns', None)\n",
    "pd.set_option('display.max_rows', None)\n",
    "import warnings\n",
    "warnings.filterwarnings(\"ignore\")"
   ]
  },
  {
   "cell_type": "markdown",
   "id": "0d816c05",
   "metadata": {},
   "source": [
    "## 2.1.5.1 Definición del problema de estimación de parámetros y función de pérdida\n",
    "\n",
    "Se desean encontra los parámetros w0 y w1 del siguiente modelo de regresión entre las variables x y y:\n",
    "\n",
    "$$ y_{i} = w_{i}x_{i} + w_{0} + e_{i} $$\n",
    "\n",
    "a partir de un conjunto de observaciones ${d_{i}, x_{i}}$, donde $d_{i}$ es el valor real (observado), $y_{i}$ es su aproximación usando el modelo de regresión descrito, y $e_{i}$ es el error aleatorio.\n",
    "\n",
    "- Error instantáneo:\n",
    "\n",
    "$$ e_{i} = d_{i} - y_{i} $$\n",
    "\n",
    "- Sumatoria del error cuadrático instantáneo:\n",
    "\n",
    "$$ SSE(w_0, w_1) = \\sum_{i}^{} (d_i - y_i)^2 $$"
   ]
  },
  {
   "cell_type": "code",
   "execution_count": null,
   "id": "7dd10b86",
   "metadata": {},
   "outputs": [],
   "source": [
    "#\n",
    "# Dataset\n",
    "#\n",
    "x_sample = [\n",
    "    0.1087,0.2698,0.3765,0.2146,0.9155,0.0246,\n",
    "    0.0221,0.8632,0.6460,0.2092,0.8567,0.1591,\n",
    "    0.9647,0.6231,0.7460,0.3654,0.3065,0.6886,\n",
    "    0.4966,0.2008,0.2618,0.7607,0.1563,0.4424,\n",
    "    0.7731,\n",
    "]\n",
    "\n",
    "y_sample = [\n",
    "    0.9519,1.1237,1.2360,1.0526,2.0743,0.7906,\n",
    "    0.7603,2.0533,1.6887,1.0563,2.0991,0.8953,\n",
    "    2.1917,1.6266,1.8508,1.2828,1.2283,1.8722,\n",
    "    1.4657,1.0418,1.1097,1.7826,0.9711,1.4267,\n",
    "    1.8248,\n",
    "]"
   ]
  },
  {
   "cell_type": "markdown",
   "id": "5165d9e9",
   "metadata": {},
   "source": [
    "## 2.1.5.2 Función de pérdida"
   ]
  },
  {
   "cell_type": "code",
   "execution_count": null,
   "id": "6ec85e35",
   "metadata": {},
   "outputs": [],
   "source": [
    "#\n",
    "# Sumatoria del error cuadrático o pérdida cuadrática\n",
    "#\n",
    "def sse(w0, w1):\n",
    "    y_forecasts = [w0 + w1 * x_value for x_value in x_sample]\n",
    "    errors = [y_true - y_forecast for y_true, y_forecast in zip(y_sample, y_forecasts)]\n",
    "    squared_errors = [error ** 2 for error in errors]\n",
    "    return sum(squared_errors)"
   ]
  },
  {
   "attachments": {
    "image-2.png": {
     "image/png": "[encoded data removed]"
    }
   },
   "cell_type": "markdown",
   "id": "9327e912",
   "metadata": {},
   "source": [
    "## 2.1.5.2 Método del gradiente\n",
    "\n",
    "- Aprendizaje Online:\n",
    "\n",
    "    $$ w_{k} = w_{k-1} - \\mu (\\frac{\\delta}{\\delta_w} e_î^2) $$\n",
    "    \n",
    "- Aprendizaje Batch:\n",
    "\n",
    "    $$ w_k = w_{k-1} - \\mu \\frac{\\delta}{\\delta_w} SEE(\\delta_{w-1}) $$  \n",
    "    \n",
    "    (revisar formula)\n",
    "\n",
    "    ![image-2.png](attachment:image-2.png)"
   ]
  },
  {
   "cell_type": "markdown",
   "id": "ec2d7325",
   "metadata": {},
   "source": [
    "## 2.1.5.3 Derivadas"
   ]
  },
  {
   "cell_type": "code",
   "execution_count": null,
   "id": "1310a06f",
   "metadata": {},
   "outputs": [],
   "source": [
    "#\n",
    "# Esta es el mismo computo que el empleado en el\n",
    "# método batch.\n",
    "#\n",
    "def gradient(w0, w1, indices):\n",
    "\n",
    "    x_batch = x_sample[indices]\n",
    "    y_batch = y_sample[indices]\n",
    "\n",
    "    y_forecasts = [w0 + w1 * x_value for x_value in x_batch]\n",
    "\n",
    "    errors = [y_true - y_forecast for y_true, y_forecast in zip(y_batch, y_forecasts)]\n",
    "\n",
    "    gradient_w0 = -2 * sum(errors)\n",
    "    gradient_w1 = -2 * sum([error * x_value for error, x_value in zip(errors, x_batch)])\n",
    "\n",
    "    return gradient_w0, gradient_w1"
   ]
  },
  {
   "cell_type": "markdown",
   "id": "55b154a4",
   "metadata": {},
   "source": [
    "## 2.1.5.4 Minibatch\n",
    "\n",
    "Para conjuntos de datos muy grandes el aprendizaje batch es muy costoso computacionalmente.\n",
    "\n",
    "- El conjunto de datos se divide en varios subconjuntos.\n",
    "- Se ordenan aleatoriamente los subconjuntos de datos y luego se recorren uno a uno, tal como en el caso del gradiente descendente estocástico.\n",
    "- Para el subconjunto actual, se computa el gradiente neto (tal como en el caso del aprendizaje batch) y se corrigen los parámetros.\n",
    "- Se repite nuevamente el proceso hasta que el algoritmo converga."
   ]
  },
  {
   "cell_type": "markdown",
   "id": "1681777d",
   "metadata": {},
   "source": [
    "## 2.1.5.5 Ecuación de mejora"
   ]
  },
  {
   "cell_type": "code",
   "execution_count": null,
   "id": "72195078",
   "metadata": {},
   "outputs": [],
   "source": [
    "def improve(w0, w1, mu, indices):\n",
    "\n",
    "    gradient_w0, gradient_w1 = gradient(w0, w1, indices)\n",
    "\n",
    "    w0 = w0 - mu * gradient_w0\n",
    "    w1 = w1 - mu * gradient_w1\n",
    "\n",
    "    return w0, w1"
   ]
  },
  {
   "cell_type": "markdown",
   "id": "569ea347",
   "metadata": {},
   "source": [
    "## 2.1.5.6 Proceso iterativo \n",
    "\n",
    "### Particionamiento de los grupos"
   ]
  },
  {
   "cell_type": "code",
   "execution_count": null,
   "id": "46d295e9",
   "metadata": {},
   "outputs": [],
   "source": [
    "#\n",
    "# Función auxililar para graficar el contorno\n",
    "#\n",
    "def plot_contour():\n",
    "\n",
    "    W0 = np.linspace(0.0, 2.0, 50)\n",
    "    W1 = np.linspace(1.5, 3.2, 50)\n",
    "    W0, W1 = np.meshgrid(W0, W1)\n",
    "    F = sse(W0, W1)\n",
    "\n",
    "    levels = [0, 0.2, 0.5, 0.75, 1, 2, 3, 5, 10, 20, 40, 60, 80, 100, 120]\n",
    "\n",
    "    fig, ax = plt.subplots(figsize=(8, 8))\n",
    "\n",
    "    ax.set_aspect(\"equal\", \"box\")\n",
    "    ax.contourf(W0, W1, F, cmap=cm.Greys, levels=levels, alpha=0.8)\n",
    "    ax.contour(W0, W1, F, colors=\"gray\", levels=levels)\n",
    "    ax.grid()\n",
    "    ax.set_xlabel(\"w0\")\n",
    "    ax.set_ylabel(\"w1\")"
   ]
  },
  {
   "cell_type": "code",
   "execution_count": null,
   "id": "b0cb4342",
   "metadata": {},
   "outputs": [],
   "source": [
    "n_batches = 5\n",
    "batch_indices = np.array_split(np.array(range(len(x_sample))), n_batches)\n",
    "batch_indices"
   ]
  },
  {
   "cell_type": "code",
   "execution_count": null,
   "id": "6c8fe647",
   "metadata": {},
   "outputs": [],
   "source": [
    "#\n",
    "# Punto de inicio\n",
    "#\n",
    "w0 = 0.5\n",
    "w1 = 3.0\n",
    "\n",
    "history = {\n",
    "    \"w0\": [w0],\n",
    "    \"w1\": [w1],\n",
    "    \"sse\": [sse(w0, w1)],\n",
    "}\n",
    "\n",
    "mu = 0.05\n",
    "\n",
    "x_sample = np.array(x_sample)\n",
    "y_sample = np.array(y_sample)\n",
    "\n",
    "for epoch in range(10):\n",
    "\n",
    "    for i_group in np.random.choice(n_batches, n_batches, replace=False):\n",
    "\n",
    "        indices = list(batch_indices[i_group])\n",
    "\n",
    "        w0, w1 = improve(w0, w1, mu, indices)\n",
    "\n",
    "        history[\"w0\"].append(w0)\n",
    "        history[\"w1\"].append(w1)\n",
    "        history[\"sse\"].append(sse(w0, w1))\n",
    "\n",
    "print(\" w0 = {:6.4f}\\n w1 = {:6.4f}\\nSSE = {:6.4f}\\n\".format(w0, w1, sse(w0, w1)))\n",
    "\n",
    "plot_contour()\n",
    "plt.plot(history[\"w0\"], history[\"w1\"], marker=\".\", color=\"black\")\n",
    "plt.show()"
   ]
  },
  {
   "cell_type": "code",
   "execution_count": null,
   "id": "06ccbfa9",
   "metadata": {},
   "outputs": [],
   "source": [
    "plt.figure(figsize=(10, 6))\n",
    "plt.plot(history[\"sse\"], \".-k\")\n",
    "plt.xlabel(\"Iteraciones\")\n",
    "plt.ylabel(\"SSE(w0, w1)\")\n",
    "plt.show()"
   ]
  },
  {
   "cell_type": "code",
   "execution_count": null,
   "id": "5a378037",
   "metadata": {},
   "outputs": [],
   "source": [
    "n_batches = 5\n",
    "batch_indices = np.array_split(np.array(range(len(x_sample))), n_batches)\n",
    "batch_indices"
   ]
  },
  {
   "cell_type": "code",
   "execution_count": null,
   "id": "1eaf9792",
   "metadata": {},
   "outputs": [],
   "source": [
    "def epocas(w0, w1, epocas, learning_rate, x_sample, y_sample):\n",
    "    \n",
    "    history = {\"w0\": [w0], \"w1\": [w1], \"sse\": [sse(w0, w1)]}\n",
    "    \n",
    "    x_sample = np.array(x_sample)\n",
    "    y_sample = np.array(y_sample)\n",
    "    \n",
    "    for epoch in range(epocas):\n",
    "        \n",
    "        for i_group in np.random.choice(n_batches, n_batches, replace=False):  ###\n",
    "            \n",
    "            indices = list(batch_indices[i_group])\n",
    "            w0, w1 = improve(w0, w1, learning_rate, indices)\n",
    "            history[\"w0\"].append(w0)\n",
    "            history[\"w1\"].append(w1)\n",
    "            history[\"sse\"].append(sse(w0, w1))\n",
    "    \n",
    "    #\n",
    "    # Ultimo resultado obtenido\n",
    "    #\n",
    "    print(\" w0 = {:6.4f}\\n w1 = {:6.4f}\\nSSE = {:6.4f}\\n\".format(w0, w1, sse(w0, w1)))\n",
    "    \n",
    "    return history"
   ]
  },
  {
   "cell_type": "code",
   "execution_count": null,
   "id": "38a535bb",
   "metadata": {},
   "outputs": [],
   "source": [
    "history = epocas(0.5, 3.0, 10, 0.05, x_sample, y_sample)"
   ]
  },
  {
   "cell_type": "code",
   "execution_count": null,
   "id": "4a1924e7",
   "metadata": {
    "scrolled": false
   },
   "outputs": [],
   "source": [
    "plot_contour()\n",
    "plt.plot(history[\"w0\"], history[\"w1\"], marker=\".\", color=\"black\")\n",
    "plt.show()"
   ]
  },
  {
   "cell_type": "code",
   "execution_count": null,
   "id": "ec7a960f",
   "metadata": {},
   "outputs": [],
   "source": [
    "plt.figure(figsize=(10, 6))\n",
    "plt.plot(history[\"sse\"], \".-k\")\n",
    "plt.xlabel(\"Iteraciones\")\n",
    "plt.ylabel(\"SSE(w0, w1)\")\n",
    "plt.show()"
   ]
  },
  {
   "cell_type": "code",
   "execution_count": null,
   "id": "2c3345c1",
   "metadata": {},
   "outputs": [],
   "source": [
    "print('ok_')"
   ]
  }
 ],
 "metadata": {
  "kernelspec": {
   "display_name": "Python 3 (ipykernel)",
   "language": "python",
   "name": "python3"
  },
  "language_info": {
   "codemirror_mode": {
    "name": "ipython",
    "version": 3
   },
   "file_extension": ".py",
   "mimetype": "text/x-python",
   "name": "python",
   "nbconvert_exporter": "python",
   "pygments_lexer": "ipython3",
   "version": "3.11.4"
  }
 },
 "nbformat": 4,
 "nbformat_minor": 5
}
