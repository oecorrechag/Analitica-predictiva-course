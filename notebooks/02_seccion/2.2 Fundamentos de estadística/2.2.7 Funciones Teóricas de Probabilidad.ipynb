{
 "cells": [
  {
   "cell_type": "markdown",
   "id": "6bfc8fc6",
   "metadata": {},
   "source": [
    "# 2.2.7 Funciones Teóricas de Probabilidad"
   ]
  },
  {
   "cell_type": "code",
   "execution_count": null,
   "id": "bbeefcb2",
   "metadata": {},
   "outputs": [],
   "source": [
    "%load_ext autoreload\n",
    "%autoreload 2"
   ]
  },
  {
   "cell_type": "code",
   "execution_count": null,
   "id": "dcce2c19",
   "metadata": {},
   "outputs": [],
   "source": [
    "import pandas as pd\n",
    "import numpy as np\n",
    "\n",
    "import math\n",
    "\n",
    "import matplotlib.pyplot as plt\n",
    "import seaborn as sns\n",
    "\n",
    "from scipy.stats import poisson, norm, lognorm, t, chi2, f, expon, weibull_min\n",
    "\n",
    "pd.set_option('display.max_columns', None)\n",
    "pd.set_option('display.max_rows', None)\n",
    "import warnings\n",
    "warnings.filterwarnings(\"ignore\")"
   ]
  },
  {
   "cell_type": "markdown",
   "id": "88342a20",
   "metadata": {},
   "source": [
    "Hasta ahora, los ejemplos presentados han sido resueltos a partir de la noción de probabilidad como frecuencia; es decir, la probabilidad ha sido calculada mediante el conteo de los eventos posibles en el universo. Sin embargo, esta aproximación no puede ser usada en todos los casos. Las funciones teóricas de probabilidad son funciones matemáticas que asocian una probabilidad específica a cada punto del dominio de la función y permiten representar muchas situaciones del mundo real. En este tutorial se presentan las principales funciones de probabilidad, las cuales serán usadas posteriormente dentro de la solución de muchos casos de aplicación en Analítica Predictiva."
   ]
  },
  {
   "cell_type": "markdown",
   "id": "39afb57b",
   "metadata": {},
   "source": [
    "## Definiciones básicas\n",
    "\n",
    "### Espacio muestral\n",
    "\n",
    "Es el conjunto $S$ de todos los posibles resultados de un experimento."
   ]
  },
  {
   "cell_type": "markdown",
   "id": "2c5a295a",
   "metadata": {},
   "source": [
    "### Función de probabilidad\n",
    "\n",
    "Dado un espacio muestral $S$ y un conjunto de eventos $A_i$ mutuamente exclusivos y colectivamente exhasutivos, una función de probabilidad es una función Pr cualquiera que:\n",
    "\n",
    "$$ Pr(A_i)≥0, ∀ A ∈S $$\n",
    "\n",
    "$$ Pr(S)=1 $$"
   ]
  },
  {
   "cell_type": "markdown",
   "id": "3cd715e6",
   "metadata": {},
   "source": [
    "### Variable aleatoria\n",
    "\n",
    "Una variable aleatoria $X$ es una función que mapea el espacio muestral en los números reales."
   ]
  },
  {
   "cell_type": "markdown",
   "id": "6de7644a",
   "metadata": {},
   "source": [
    "### Función de distribución acumulada de $X$ o $FX(x)$\n",
    "\n",
    "Es la función\n",
    "\n",
    "$$ F_X(x)=PrX(X≤x),∀x $$\n",
    "\n",
    "Tal que:\n",
    "\n",
    "$lim x→−∞ F_X(x)=0 y lim x→∞ F_X(x)=1$\n",
    "\n",
    "$F_X(x)$ es no una función no decreciente de x.\n",
    "\n",
    "$F_X(x)$ es continua por la derecha (existencia)."
   ]
  },
  {
   "cell_type": "markdown",
   "id": "df4ceaf1",
   "metadata": {},
   "source": [
    "### Función de masa de probabilidad\n",
    "\n",
    "La función de masa de probabilidad fX(s) de una variable aleatoria discreta X es dada por:\n",
    "\n",
    "$$ f_X(x)=Pr(X=x),∀x $$"
   ]
  },
  {
   "cell_type": "markdown",
   "id": "4cffe7f3",
   "metadata": {},
   "source": [
    "### Función de densidad de probabilidad\n",
    "\n",
    "La función fX(x) para una variable aleatoria continua X es una función que satisface con:\n",
    "\n",
    "$$ F_X(x)=\\int_{x}^{∞}f_X(t)dt,∀x $$"
   ]
  },
  {
   "cell_type": "markdown",
   "id": "a9da713f",
   "metadata": {},
   "source": [
    "### Valor esperado\n",
    "\n",
    "El valor esperado o media de una variable aleatoria $g(X)$, denotado como $Eg(X)$, es:\n",
    "\n",
    "$$\n",
    "\\begin{align}\n",
    "\n",
    "Eg(X)=\\begin{Bmatrix}\n",
    " \\int_{-\\infty}^{\\infty} g(x)fX(x), & Si X es continua \n",
    " \n",
    " \\\\ \n",
    " \n",
    " \\sum_{x \\varepsilon X}^{} g(x)fX(x)=g(x)Pr(X=x), & Si X es discreta\n",
    "\\end{Bmatrix}\n",
    "\n",
    "\\end{align}\n",
    "$$"
   ]
  },
  {
   "attachments": {
    "momentos-distribucion.jpg": {
     "image/jpeg": "[encoded data removed]"
    }
   },
   "cell_type": "markdown",
   "id": "e896bdcc",
   "metadata": {},
   "source": [
    "### Momentos de una distribución\n",
    "\n",
    "- El n-ésimo momento se define como:\n",
    "\n",
    "$$ M_n=E(x^n)=\\int_{}{}u^nf_X(t)dt $$\n",
    "\n",
    "- Media o valor esperado:\n",
    "\n",
    "$$ E(x)=\\mu_x=\\int_{}{}u⋅f_X(t)dt=M_1 $$\n",
    "\n",
    "- Varianza:\n",
    "\n",
    "$$ V(x)=\\sigma_x^2=E[(x−\\mu)^2]=M_2−M_1^2 $$\n",
    "\n",
    "- Simetría:\n",
    "\n",
    "$$ S_x=E[(x−\\mu)^3]=M_3−3M_2M_1+2M_1^3 $$\n",
    "\n",
    "- Curtosis:\n",
    "\n",
    "$$ K_x=E[(x−\\mu)^4]=M_4−4M_3M_1+6M_2M_1^2−3M_1^4 $$\n",
    "\n",
    "### Interpretación gráfica\n",
    "\n",
    "![momentos-distribucion.jpg](attachment:momentos-distribucion.jpg)"
   ]
  },
  {
   "cell_type": "markdown",
   "id": "aa2e38a6",
   "metadata": {},
   "source": [
    "## Principales distribuciones de probabilidad"
   ]
  },
  {
   "cell_type": "markdown",
   "metadata": {},
   "source": [
    "### Distribución de Bernoulli\n",
    "\n",
    "En esta distribución se tiene un experiemento en el cual hay dos y solo dos resultados posibles. Una variable aleatoria $X$ sigue una distribución de Bernoulli de orden $p$ si:\n",
    "\n",
    "$$\n",
    "\\begin{align}\n",
    "\n",
    "X=\\begin{Bmatrix}\n",
    " 1, & con probabilidad p \n",
    " \n",
    " \\\\ \n",
    " \n",
    " 0, & con probabilidad 1−p\n",
    "\\end{Bmatrix}\n",
    "\n",
    "\\end{align}\n",
    "$$\n",
    "\n",
    "con:\n",
    "\n",
    "$$ E(X)=1p+0(1−p)=p $$\n",
    "\n",
    "$$ Var(X)=(1−p)^2p+(0−p)^2(1−p)=p(1−p) $$"
   ]
  },
  {
   "cell_type": "code",
   "execution_count": null,
   "id": "272d953c",
   "metadata": {},
   "outputs": [],
   "source": [
    "#\n",
    "# Simulación de 5 tiradas de una moneda\n",
    "#\n",
    "np.random.seed(123456)\n",
    "\n",
    "random_numbers = np.random.random(size=5)\n",
    "display(random_numbers)\n",
    "heads = random_numbers < 0.5\n",
    "display(heads)"
   ]
  },
  {
   "cell_type": "markdown",
   "metadata": {},
   "source": [
    "### Distribución Binomial\n",
    "\n",
    "La distribución binomial se obtiene al considerar una secuencia de n experimentos independientes de Bernoulli y se obtienen exactamente $Y$ éxitos, es decir, ocurre $X=1$, y veces. En otras palabras, si se tiene una secuencia de n experimentos idénticos, cada uno con una probabilidad de éxito $p$, y se definen las variables aleatorias $X_1, …, X_n$ como:\n",
    "\n",
    "$$\n",
    "\\begin{align}\n",
    "\n",
    "X=\\begin{Bmatrix}\n",
    " 1, & con probabilidad p \n",
    " \n",
    " \\\\ \n",
    " \n",
    " 0, & con probabilidad 1−p\n",
    "\\end{Bmatrix}\n",
    "\n",
    "\\end{align}\n",
    "$$\n",
    "\n",
    "La variable aleatoria\n",
    "\n",
    "$$ Y=\\sum_{i=1}^nX_i $$\n",
    "\n",
    "sigue una distribución binomial $(n, p)$."
   ]
  },
  {
   "cell_type": "code",
   "execution_count": null,
   "id": "e59006fc",
   "metadata": {},
   "outputs": [],
   "source": [
    "#\n",
    "# Simulación del número de exitos en 5 tiradas de\n",
    "# una moneda\n",
    "#\n",
    "np.random.binomial(5, 0.5)"
   ]
  },
  {
   "cell_type": "code",
   "execution_count": null,
   "id": "cf13e2cf",
   "metadata": {},
   "outputs": [],
   "source": [
    "#\n",
    "# Simulación del número de éxitos en 5 tiradas de\n",
    "# una moneda repetido 10 veces.\n",
    "#\n",
    "np.random.binomial(5, 0.5, 10)"
   ]
  },
  {
   "cell_type": "code",
   "execution_count": null,
   "id": "10ae8404",
   "metadata": {},
   "outputs": [],
   "source": [
    "#\n",
    "# Función de densidad de probabilidad simulada\n",
    "#\n",
    "samples = np.random.binomial(60, 0.5, 10000)\n",
    "sns.histplot(samples, discrete=True, shrink=0.2, stat=\"density\")\n",
    "sns.despine(trim=True, offset=2)\n",
    "plt.show()"
   ]
  },
  {
   "cell_type": "markdown",
   "metadata": {},
   "source": [
    "### Distribución Uniforme Discreta\n",
    "\n",
    "Una variable aletoria $X$ tiene una distribución discreta uniforme $(1, N)$ si:\n",
    "\n",
    "$$ Pr(X=x|N)=\\frac{1}{N},x=1,...,N $$\n",
    "\n",
    "donde N es un entero.\n",
    "\n",
    "$$ E(X)=\\frac{N+1}{2} $$\n",
    "\n",
    "$$ Var(X)=\\frac{(N+1)(N−1)}{12} $$"
   ]
  },
  {
   "cell_type": "code",
   "execution_count": null,
   "id": "ad76e9a5",
   "metadata": {},
   "outputs": [],
   "source": [
    "# Especifica el rango de valores posibles y la cantidad de muestras que deseas generar\n",
    "min_value = 1\n",
    "max_value = 6  # Por ejemplo, para simular un dado de 6 caras\n",
    "num_samples = 10  # Cantidad de números aleatorios que deseas generar\n",
    "\n",
    "# Genera números aleatorios uniformes discretos\n",
    "uniform_discrete_samples = np.random.randint(min_value, max_value + 1, num_samples)\n",
    "uniform_discrete_samples"
   ]
  },
  {
   "cell_type": "code",
   "execution_count": null,
   "id": "c27390d8",
   "metadata": {},
   "outputs": [],
   "source": [
    "#\n",
    "# Función de densidad de probabilidad simulada\n",
    "#\n",
    "samples = np.random.randint(0, 10 + 1, 100000)\n",
    "sns.histplot(samples, discrete=True, shrink=0.2, stat=\"density\")\n",
    "sns.despine(trim=True, offset=2)\n",
    "plt.show()"
   ]
  },
  {
   "cell_type": "markdown",
   "metadata": {},
   "source": [
    "### Distribución Poisson\n",
    "\n",
    "Esta distribución se usa para modelar el número de ocurrencias de un evento en un intervalo de tiempo. Una variable X sigue una distribución de Poisson(λ), si:\n",
    "\n",
    "$$ P(X=x|λ)=\\frac{exp(−λ)∗λx}{x!},x=0,1,...$$\n",
    "\n",
    "con:\n",
    "\n",
    "$$ E(X)=Var(X)=λ $$"
   ]
  },
  {
   "cell_type": "code",
   "execution_count": null,
   "id": "8e2258b2",
   "metadata": {},
   "outputs": [],
   "source": [
    "# Parámetros de la distribución de Poisson\n",
    "lambda_parameter = 3  # Parámetro lambda que representa la tasa de ocurrencia de eventos\n",
    "\n",
    "# Genera números aleatorios que siguen una distribución de Poisson\n",
    "num_samples = 10  # Cantidad de muestras a generar\n",
    "poisson_samples = np.random.poisson(lambda_parameter, num_samples)\n",
    "poisson_samples"
   ]
  },
  {
   "cell_type": "code",
   "execution_count": null,
   "id": "63eb3238",
   "metadata": {},
   "outputs": [],
   "source": [
    "#\n",
    "# Función de densidad de probabilidad simulada\n",
    "#\n",
    "samples = np.random.poisson(lambda_parameter, 10000)\n",
    "sns.histplot(samples, discrete=True, shrink=0.2, stat=\"density\")\n",
    "sns.despine(trim=True, offset=2)\n",
    "plt.show()"
   ]
  },
  {
   "cell_type": "code",
   "execution_count": null,
   "id": "389c02c8",
   "metadata": {},
   "outputs": [],
   "source": [
    "# Nivel de confianza del intervalo\n",
    "confidence_level = 0.90\n",
    "\n",
    "# Crear una variable aleatoria con una distribución de Poisson\n",
    "rv = poisson(lambda_parameter)\n",
    "\n",
    "# Calcular los intervalos de confianza del 95%\n",
    "confidence_interval = rv.interval(confidence_level)\n",
    "\n",
    "# Definir valores x para graficar\n",
    "x = np.arange(0, int(confidence_interval[1]) + 1)\n",
    "\n",
    "# Calcular la PMF (función de masa de probabilidad) de la distribución de Poisson\n",
    "pmf = rv.pmf(x)\n",
    "\n",
    "# Graficar la PMF\n",
    "plt.bar(x, pmf, label='PMF', alpha=0.7, color='blue', width=0.5)\n",
    "\n",
    "# Etiquetas y título\n",
    "plt.xlabel('Número de Eventos')\n",
    "plt.ylabel('Probabilidad')\n",
    "plt.title(f'Distribución de Poisson con Intervalo de Confianza del {confidence_level * 100}%')\n",
    "\n",
    "# Mostrar la gráfica\n",
    "plt.legend()\n",
    "plt.grid(True)\n",
    "plt.show()\n",
    "\n",
    "# Imprimir el intervalo de confianza\n",
    "print(f\"Intervalo de confianza del {confidence_level * 100}%: ({confidence_interval[0]}, {confidence_interval[1]})\")"
   ]
  },
  {
   "cell_type": "markdown",
   "id": "009c2a30",
   "metadata": {},
   "source": [
    "### Distribución Normal\n",
    "\n",
    "La función de densidad de probabilidad de una distribución normal con media $μ$ y varianza $σ^2$ se define como:\n",
    "\n",
    "$$ f(x|μ,σ^2)=\\frac{1}{σ\\sqrt{2π}}exp{\\frac{−1(x−μ)^2}{2σ^2}} $$\n",
    "\n",
    "Para la distribución normal:\n",
    "\n",
    "$$ M1=μ, M2=σ^2, M3=0, M4=3σ^2 $$\n",
    "\n",
    "En la siguiente figura se observan diferentes distribuciones normales que varian en su media y varianza."
   ]
  },
  {
   "cell_type": "code",
   "execution_count": null,
   "id": "d31636bb",
   "metadata": {},
   "outputs": [],
   "source": [
    "plt.figure(figsize=(8, 6))\n",
    "x = np.linspace(-4, +4, 100)\n",
    "plt.plot(x, norm.pdf(x, loc=0.0, scale=math.sqrt(0.2)), \"r-\", lw=2, alpha=0.6, label=\"\")\n",
    "plt.plot(\n",
    "    x, norm.pdf(x, loc=-2.0, scale=math.sqrt(0.5)), \"b-\", lw=2, alpha=0.6, label=\"\"\n",
    ")\n",
    "plt.plot(x, norm.pdf(x, loc=0.0, scale=math.sqrt(1.0)), \"k-\", lw=2, alpha=0.6, label=\"\")\n",
    "plt.gca().spines[\"left\"].set_color(\"gray\")\n",
    "plt.gca().spines[\"bottom\"].set_color(\"gray\")\n",
    "plt.gca().spines[\"top\"].set_visible(False)\n",
    "plt.gca().spines[\"right\"].set_visible(False)\n",
    "plt.show()"
   ]
  },
  {
   "cell_type": "markdown",
   "id": "f0817ec7",
   "metadata": {},
   "source": [
    "#### Propiedades útiles:\n",
    "\n",
    "- Sean $x∼N(μx,σ^2x)$ y $y∼N(μy,σ^2y)$, entonces:\n",
    "\n",
    "$$ x+y∼N(\\mu x + \\mu y,\\sigma^2x+\\sigma^2y) $$\n",
    "\n",
    "- Sea $x∼N(\\mu x,\\sigma^2x)$ y los números reales arbitrarios $a$ y $b$, entonces:\n",
    "\n",
    "$$ ax+b∼N(a\\mu_x+b,a^2\\sigma_x^2) $$\n",
    "\n",
    "- Sean $x∼N(\\mu_x,\\sigma_x^2)$ y $ε∼N(0,1^2)$ , entonces:\n",
    "\n",
    "$$ x∼\\mu+\\sigma \\epsilon $$\n"
   ]
  },
  {
   "attachments": {
    "intervalos-confianza.jpg": {
     "image/jpeg": "[encoded data removed]"
    }
   },
   "cell_type": "markdown",
   "id": "22ece27b",
   "metadata": {},
   "source": [
    "### Distribución Normal Estándar\n",
    "\n",
    "La distribución normal estándar se obtiene al hacer $\\mu =0$ y $\\sigma=1$ en la distribución normal:\n",
    "\n",
    "$$ f(z)=\\frac{1}{\\sqrt{2π}}*exp{\\frac{−1z^2}{2}} $$\n",
    "\n",
    "**Intevalos de confianza**. Corresponden a los valores de x para los cuales el área central de la normal es igual al porcentaje especificado. En la imagen presentada a continuación se grafican los intervalos de confianza para $±3\\sigma$, $±2\\sigma$ y $±\\sigma$, que equivalen a áreas del 99.73%, 95.44% y 68.26% respectivamente.\n",
    "\n",
    "![intervalos-confianza.jpg](attachment:intervalos-confianza.jpg)\n",
    "\n",
    "Los valores del área para cada caso se calcularían asi:"
   ]
  },
  {
   "cell_type": "code",
   "execution_count": null,
   "id": "4118f009",
   "metadata": {},
   "outputs": [],
   "source": [
    "# para +/- 3 * sigma\n",
    "1.0 - 2 * norm.cdf(-3)"
   ]
  },
  {
   "cell_type": "code",
   "execution_count": null,
   "id": "908713ce",
   "metadata": {},
   "outputs": [],
   "source": [
    "# para +/- 2 * sigma\n",
    "1.0 - 2 * norm.cdf(-2)"
   ]
  },
  {
   "cell_type": "code",
   "execution_count": null,
   "id": "2fc0b597",
   "metadata": {},
   "outputs": [],
   "source": [
    "# para +/- 1 * sigma\n",
    "1.0 - 2 * norm.cdf(-1)"
   ]
  },
  {
   "cell_type": "markdown",
   "id": "5b06369d",
   "metadata": {},
   "source": [
    "### Distribución Lognormal\n",
    "\n",
    "La variable aleatoria x sigue una distribución lognormal si:\n",
    "\n",
    "$$ log(x)∼N(\\mu,\\sigma^2) $$"
   ]
  },
  {
   "cell_type": "code",
   "execution_count": null,
   "id": "30ed9013",
   "metadata": {},
   "outputs": [],
   "source": [
    "# Parámetros de la distribución log-normal\n",
    "mu = 1.0  # Media de la distribución log-normal en la escala logarítmica\n",
    "sigma = 0.5  # Desviación estándar de la distribución log-normal en la escala logarítmica\n",
    "num_samples = 10000  # Cantidad de muestras a generar\n",
    "samples = np.random.lognormal(mu, sigma, num_samples)\n",
    "\n",
    "#\n",
    "# Función de densidad de probabilidad simulada\n",
    "#\n",
    "sns.histplot(samples, discrete=True, shrink=0.2, stat=\"density\")\n",
    "sns.despine(trim=True, offset=2)\n",
    "plt.show()"
   ]
  },
  {
   "cell_type": "code",
   "execution_count": null,
   "id": "753afefc",
   "metadata": {},
   "outputs": [],
   "source": [
    "# Parámetros de la distribución log-normal\n",
    "mu = 1.0  # Media de la distribución log-normal en la escala logarítmica\n",
    "sigma = 1.0  # Desviación estándar de la distribución log-normal en la escala logarítmica\n",
    "num_samples = 10000  # Cantidad de muestras a generar\n",
    "samples = np.random.lognormal(mu, sigma, num_samples)\n",
    "\n",
    "#\n",
    "# Función de densidad de probabilidad simulada\n",
    "#\n",
    "sns.histplot(samples, discrete=True, shrink=0.2, stat=\"density\")\n",
    "sns.despine(trim=True, offset=2)\n",
    "plt.show()"
   ]
  },
  {
   "cell_type": "code",
   "execution_count": null,
   "id": "3b41451f",
   "metadata": {},
   "outputs": [],
   "source": [
    "# Parámetros de la distribución log-normal\n",
    "mu = 1.5  # Media de la distribución log-normal en la escala logarítmica\n",
    "sigma = 0.5  # Desviación estándar de la distribución log-normal en la escala logarítmica\n",
    "num_samples = 10000  # Cantidad de muestras a generar\n",
    "samples = np.random.lognormal(mu, sigma, num_samples)\n",
    "\n",
    "#\n",
    "# Función de densidad de probabilidad simulada\n",
    "#\n",
    "sns.histplot(samples, discrete=True, shrink=0.2, stat=\"density\")\n",
    "sns.despine(trim=True, offset=2)\n",
    "plt.show()"
   ]
  },
  {
   "cell_type": "code",
   "execution_count": null,
   "id": "9419bbcc",
   "metadata": {},
   "outputs": [],
   "source": [
    "confidence_level = 0.95\n",
    "\n",
    "# Parámetros de la distribución log-normal\n",
    "mu = 1.5  # Media en la escala logarítmica\n",
    "sigma = 0.5  # Desviación estándar en la escala logarítmica\n",
    "\n",
    "# Crear una variable aleatoria con una distribución log-normal\n",
    "rv = lognorm(s=sigma, scale=np.exp(mu))\n",
    "\n",
    "# Calcular los intervalos de confianza del 95%\n",
    "confidence_interval = rv.interval(confidence_level)\n",
    "print(f\"Intervalo de confianza del {confidence_level * 100}%: {confidence_interval}\")"
   ]
  },
  {
   "cell_type": "code",
   "execution_count": null,
   "id": "a82aa55c",
   "metadata": {},
   "outputs": [],
   "source": [
    "# Definir valores x para graficar\n",
    "x = np.linspace(0, 30, 1000)\n",
    "\n",
    "# Calcular la PDF de la distribución log-normal para los valores x\n",
    "pdf = rv.pdf(x)\n",
    "\n",
    "# Graficar la PDF\n",
    "plt.plot(x, pdf, 'b-', lw=2, label='PDF')\n",
    "\n",
    "# Rellenar la región de los intervalos de confianza del 95%\n",
    "plt.fill_between(x, 0, pdf, where=(x >= confidence_interval[0]) & (x <= confidence_interval[1]), alpha=0.2, color='green', label=f'Intervalo de Confianza {confidence_level * 100}%')\n",
    "\n",
    "# Etiquetas y leyenda\n",
    "plt.xlabel('Valor')\n",
    "plt.ylabel('Densidad de probabilidad')\n",
    "plt.title(f'Distribución Log-Normal con Intervalo de Confianza del {confidence_level * 100}%')\n",
    "plt.legend()\n",
    "plt.grid(True)\n",
    "\n",
    "# Mostrar la gráfica\n",
    "plt.show()"
   ]
  },
  {
   "cell_type": "markdown",
   "id": "cd25c3b0",
   "metadata": {},
   "source": [
    "### Distribución t de Student:\n",
    "\n",
    "Sean $x_i,...,x_n ∼ N(\\mu,\\sigma^2)$, entonces:\n",
    "\n",
    "$$ \\frac{M_1− \\mu_1}{\\sqrt{\\frac{1}{n}M2}} ∼ t_{n−1} $$\n",
    "\n",
    "Esta distribución tiene una forma similar a la distribución normal pero un poco más delgada y con colas más pesadas, haciéndose más similar a la distribución normal conforme n aumenta. Históricamente fue derivada como la aproximación a la distribución de probabilidades de la media de $n$ datos provenientes de una distribución con media $\\mu$ y varianza $\\sigma^2$.\n"
   ]
  },
  {
   "cell_type": "code",
   "execution_count": null,
   "id": "ff07220a",
   "metadata": {},
   "outputs": [],
   "source": [
    "# Grados de libertad de la distribución t\n",
    "degrees_of_freedom = 3  # Puedes ajustar este valor\n",
    "\n",
    "# Nivel de confianza del intervalo\n",
    "confidence_level = 0.95\n",
    "\n",
    "# Valores para la gráfica\n",
    "x = np.linspace(-4, 4, 1000)\n",
    "\n",
    "# Calcula la PDF de la distribución t\n",
    "pdf = t.pdf(x, df=degrees_of_freedom)\n",
    "\n",
    "# Calcula los valores críticos para el intervalo de confianza\n",
    "alpha = 1 - confidence_level\n",
    "critical_value = t.ppf(1 - alpha / 2, df=degrees_of_freedom)\n",
    "\n",
    "# Graficar la PDF\n",
    "plt.plot(x, pdf, 'b-', lw=2, label='PDF')\n",
    "\n",
    "# Rellenar la región correspondiente al intervalo de confianza del 95%\n",
    "plt.fill_between(x, 0, pdf, where=(x >= -critical_value) & (x <= critical_value), alpha=0.2, color='green', label=f'Intervalo de Confianza {confidence_level * 100}%')\n",
    "\n",
    "# Etiquetas y título\n",
    "plt.xlabel('Valor')\n",
    "plt.ylabel('Densidad de Probabilidad')\n",
    "plt.title(f'Distribución t de Student con Intervalo de Confianza del {confidence_level * 100}%')\n",
    "\n",
    "# Mostrar la gráfica\n",
    "plt.legend()\n",
    "plt.grid(True)\n",
    "plt.show()\n",
    "\n",
    "# Imprimir los valores críticos\n",
    "print(f\"Valores críticos para el intervalo de confianza del {confidence_level * 100}%: ±{critical_value:.3f}\")"
   ]
  },
  {
   "cell_type": "code",
   "execution_count": null,
   "id": "9c94c768",
   "metadata": {},
   "outputs": [],
   "source": [
    "# Grados de libertad de la distribución t\n",
    "degrees_of_freedom = 5  # Puedes ajustar este valor\n",
    "\n",
    "# Nivel de confianza del intervalo\n",
    "confidence_level = 0.95\n",
    "\n",
    "# Valores para la gráfica\n",
    "x = np.linspace(-4, 4, 1000)\n",
    "\n",
    "# Calcula la PDF de la distribución t\n",
    "pdf = t.pdf(x, df=degrees_of_freedom)\n",
    "\n",
    "# Calcula los valores críticos para el intervalo de confianza\n",
    "alpha = 1 - confidence_level\n",
    "critical_value = t.ppf(1 - alpha / 2, df=degrees_of_freedom)\n",
    "\n",
    "# Graficar la PDF\n",
    "plt.plot(x, pdf, 'b-', lw=2, label='PDF')\n",
    "\n",
    "# Rellenar la región correspondiente al intervalo de confianza del 95%\n",
    "plt.fill_between(x, 0, pdf, where=(x >= -critical_value) & (x <= critical_value), alpha=0.2, color='green', label=f'Intervalo de Confianza {confidence_level * 100}%')\n",
    "\n",
    "# Etiquetas y título\n",
    "plt.xlabel('Valor')\n",
    "plt.ylabel('Densidad de Probabilidad')\n",
    "plt.title(f'Distribución t de Student con Intervalo de Confianza del {confidence_level * 100}%')\n",
    "\n",
    "# Mostrar la gráfica\n",
    "plt.legend()\n",
    "plt.grid(True)\n",
    "plt.show()\n",
    "\n",
    "# Imprimir los valores críticos\n",
    "print(f\"Valores críticos para el intervalo de confianza del {confidence_level * 100}%: ±{critical_value:.3f}\")"
   ]
  },
  {
   "cell_type": "code",
   "execution_count": null,
   "id": "43693dbc",
   "metadata": {},
   "outputs": [],
   "source": [
    "# Grados de libertad de la distribución t\n",
    "degrees_of_freedom = 10  # Puedes ajustar este valor\n",
    "\n",
    "# Nivel de confianza del intervalo\n",
    "confidence_level = 0.95\n",
    "\n",
    "# Valores para la gráfica\n",
    "x = np.linspace(-4, 4, 1000)\n",
    "\n",
    "# Calcula la PDF de la distribución t\n",
    "pdf = t.pdf(x, df=degrees_of_freedom)\n",
    "\n",
    "# Calcula los valores críticos para el intervalo de confianza\n",
    "alpha = 1 - confidence_level\n",
    "critical_value = t.ppf(1 - alpha / 2, df=degrees_of_freedom)\n",
    "\n",
    "# Graficar la PDF\n",
    "plt.plot(x, pdf, 'b-', lw=2, label='PDF')\n",
    "\n",
    "# Rellenar la región correspondiente al intervalo de confianza del 95%\n",
    "plt.fill_between(x, 0, pdf, where=(x >= -critical_value) & (x <= critical_value), alpha=0.2, color='green', label=f'Intervalo de Confianza {confidence_level * 100}%')\n",
    "\n",
    "# Etiquetas y título\n",
    "plt.xlabel('Valor')\n",
    "plt.ylabel('Densidad de Probabilidad')\n",
    "plt.title(f'Distribución t de Student con Intervalo de Confianza del {confidence_level * 100}%')\n",
    "\n",
    "# Mostrar la gráfica\n",
    "plt.legend()\n",
    "plt.grid(True)\n",
    "plt.show()\n",
    "\n",
    "# Imprimir los valores críticos\n",
    "print(f\"Valores críticos para el intervalo de confianza del {confidence_level * 100}%: ±{critical_value:.3f}\")"
   ]
  },
  {
   "cell_type": "markdown",
   "id": "6ecdaac3",
   "metadata": {},
   "source": [
    "### Distribución Chi-cuadrada\n",
    "\n",
    "Sea $z_i∼N(0,1)$, para $i=1,...,n$, entonces:\n",
    "\n",
    "$$ z_1^2 + z_2^2 + … + z_n^2 ∼ χ_n^2 $$"
   ]
  },
  {
   "cell_type": "code",
   "execution_count": null,
   "id": "230c3548",
   "metadata": {},
   "outputs": [],
   "source": [
    "# Grados de libertad de la distribución chi-cuadrado\n",
    "degrees_of_freedom = 5  # Puedes ajustar este valor\n",
    "\n",
    "# Nivel de confianza del intervalo\n",
    "confidence_level = 0.95\n",
    "\n",
    "# Valores para la gráfica\n",
    "x = np.linspace(0, 20, 1000)\n",
    "\n",
    "# Calcula la PDF de la distribución chi-cuadrado\n",
    "pdf = chi2.pdf(x, df=degrees_of_freedom)\n",
    "\n",
    "# Calcula los valores críticos para el intervalo de confianza\n",
    "alpha = 1 - confidence_level\n",
    "lower_critical_value = chi2.ppf(alpha / 2, df=degrees_of_freedom)\n",
    "upper_critical_value = chi2.ppf(1 - alpha / 2, df=degrees_of_freedom)\n",
    "\n",
    "# Graficar la PDF\n",
    "plt.plot(x, pdf, 'b-', lw=2, label='PDF')\n",
    "\n",
    "# Rellenar la región correspondiente al intervalo de confianza del 95%\n",
    "plt.fill_between(x, 0, pdf, where=(x >= lower_critical_value) & (x <= upper_critical_value), alpha=0.2, color='green', label=f'Intervalo de Confianza {confidence_level * 100}%')\n",
    "\n",
    "# Etiquetas y título\n",
    "plt.xlabel('Valor')\n",
    "plt.ylabel('Densidad de Probabilidad')\n",
    "plt.title(f'Distribución Chi-cuadrado con Intervalo de Confianza del {confidence_level * 100}%')\n",
    "\n",
    "# Mostrar la gráfica\n",
    "plt.legend()\n",
    "plt.grid(True)\n",
    "plt.show()\n",
    "\n",
    "# Imprimir los valores críticos\n",
    "print(f\"Valores críticos para el intervalo de confianza del {confidence_level * 100}%: ({lower_critical_value:.3f}, {upper_critical_value:.3f})\")"
   ]
  },
  {
   "cell_type": "markdown",
   "id": "0eebbf53",
   "metadata": {},
   "source": [
    "### Distribución F\n",
    "\n",
    "Sean $x_i, y_j ∼ N(0,1)$, para $i=1,...,n$ y $j=1,...,m$, entonces:\n",
    "\n",
    "$$ \\frac {\\sum_{i=1}^nX_i^2 /n}{\\sum_{i=1}^m y_i^2} ∼ F_{n,m} $$"
   ]
  },
  {
   "cell_type": "code",
   "execution_count": null,
   "id": "9c10a483",
   "metadata": {},
   "outputs": [],
   "source": [
    "# Grados de libertad de la distribución F\n",
    "df1 = 5  # Grados de libertad del numerador\n",
    "df2 = 10  # Grados de libertad del denominador\n",
    "\n",
    "# Nivel de confianza del intervalo\n",
    "confidence_level = 0.95\n",
    "\n",
    "# Valores para la gráfica\n",
    "x = np.linspace(0, 5, 1000)\n",
    "\n",
    "# Calcula la PDF de la distribución F\n",
    "pdf = f.pdf(x, dfn=df1, dfd=df2)\n",
    "\n",
    "# Calcula los valores críticos para el intervalo de confianza\n",
    "alpha = 1 - confidence_level\n",
    "lower_critical_value = f.ppf(alpha / 2, dfn=df1, dfd=df2)\n",
    "upper_critical_value = f.ppf(1 - alpha / 2, dfn=df1, dfd=df2)\n",
    "\n",
    "# Graficar la PDF\n",
    "plt.plot(x, pdf, 'b-', lw=2, label='PDF')\n",
    "\n",
    "# Rellenar la región correspondiente al intervalo de confianza del 95%\n",
    "plt.fill_between(x, 0, pdf, where=(x >= lower_critical_value) & (x <= upper_critical_value), alpha=0.2, color='green', label=f'Intervalo de Confianza {confidence_level * 100}%')\n",
    "\n",
    "# Etiquetas y título\n",
    "plt.xlabel('Valor')\n",
    "plt.ylabel('Densidad de Probabilidad')\n",
    "plt.title(f'Distribución F con Intervalo de Confianza del {confidence_level * 100}%')\n",
    "\n",
    "# Mostrar la gráfica\n",
    "plt.legend()\n",
    "plt.grid(True)\n",
    "plt.show()\n",
    "\n",
    "# Imprimir los valores críticos\n",
    "print(f\"Valores críticos para el intervalo de confianza del {confidence_level * 100}%: ({lower_critical_value:.3f}, {upper_critical_value:.3f})\")"
   ]
  },
  {
   "cell_type": "markdown",
   "id": "22086d69",
   "metadata": {},
   "source": [
    "### Distribución Exponencial\n",
    "\n",
    "En esta distribución:\n",
    "    \n",
    "$$ f(X|\\beta)=\\frac{1}{\\beta}exp(\\frac{−x}{\\beta}) $$\n",
    "\n",
    "La cual es usada para modelar tiempos de vida.\n",
    "\n",
    "$$ E(X)=\\beta $$\n",
    "\n",
    "$$ Var(X)=\\beta^2 $$\n",
    "\n",
    "Ejemplo: El tiempo entre arrivos que siguen una distribución de Poisson sigue una distribución exponencial."
   ]
  },
  {
   "cell_type": "code",
   "execution_count": null,
   "id": "c04aeb39",
   "metadata": {},
   "outputs": [],
   "source": [
    "# Parámetro de la distribución exponencial (tasa de llegada de eventos)\n",
    "lambda_parameter = 0.5  # Puedes ajustar este valor\n",
    "\n",
    "# Nivel de confianza del intervalo\n",
    "confidence_level = 0.95\n",
    "\n",
    "# Valores para la gráfica\n",
    "x = np.linspace(0, 10, 1000)\n",
    "\n",
    "# Calcula la PDF de la distribución exponencial\n",
    "pdf = expon.pdf(x, scale=1 / lambda_parameter)\n",
    "\n",
    "# Calcula los valores críticos para el intervalo de confianza\n",
    "alpha = 1 - confidence_level\n",
    "lower_critical_value = expon.ppf(alpha / 2, scale=1 / lambda_parameter)\n",
    "upper_critical_value = expon.ppf(1 - alpha / 2, scale=1 / lambda_parameter)\n",
    "\n",
    "# Graficar la PDF\n",
    "plt.plot(x, pdf, 'b-', lw=2, label='PDF')\n",
    "\n",
    "# Rellenar la región correspondiente al intervalo de confianza del 95%\n",
    "plt.fill_between(x, 0, pdf, where=(x >= lower_critical_value) & (x <= upper_critical_value), alpha=0.2, color='green', label=f'Intervalo de Confianza {confidence_level * 100}%')\n",
    "\n",
    "# Etiquetas y título\n",
    "plt.xlabel('Valor')\n",
    "plt.ylabel('Densidad de Probabilidad')\n",
    "plt.title(f'Distribución Exponencial con Intervalo de Confianza del {confidence_level * 100}%')\n",
    "\n",
    "# Mostrar la gráfica\n",
    "plt.legend()\n",
    "plt.grid(True)\n",
    "plt.show()\n",
    "\n",
    "# Imprimir los valores críticos\n",
    "print(f\"Valores críticos para el intervalo de confianza del {confidence_level * 100}%: ({lower_critical_value:.3f}, {upper_critical_value:.3f})\")"
   ]
  },
  {
   "cell_type": "markdown",
   "id": "0b290a5d",
   "metadata": {},
   "source": [
    "### Distribución de Weibull\n",
    "\n",
    "La distribución de Weibull se usa para modelar la distribución de fallos en sistemas cuando la tasa de fallos es proporcional a una potencia del tiempo. Se define como:\n",
    "\n",
    "$$\n",
    "\\begin{align}\n",
    "\n",
    "f(X|λ,k)=\\begin{Bmatrix}\n",
    " \\frac{k}{λ} (\\frac{X}{λ})^{k−1} exp((−\\frac{x}{λ})^k), & x >= 0\n",
    " \n",
    " \\\\ \n",
    " \n",
    " 0, x < 0\n",
    "\\end{Bmatrix}\n",
    "\n",
    "\\end{align}\n",
    "$$\n",
    "\n",
    "- k<1 indica que la tasa de fallos decrece con el tiempo.\n",
    "- k=1 la tasa de fallos es constante en el tiempo.\n",
    "- k>1 indica que la tasa de fallos crece en el tiempo."
   ]
  },
  {
   "cell_type": "code",
   "execution_count": null,
   "id": "58a88f58",
   "metadata": {},
   "outputs": [],
   "source": [
    "# Parámetros de la distribución Weibull\n",
    "c = 2.0  # Parámetro de forma\n",
    "scale = 1.0  # Parámetro de escala\n",
    "\n",
    "# Nivel de confianza del intervalo\n",
    "confidence_level = 0.95\n",
    "\n",
    "# Valores para la gráfica\n",
    "x = np.linspace(0, 5, 1000)\n",
    "\n",
    "# Calcula la PDF de la distribución Weibull\n",
    "pdf = weibull_min.pdf(x, c, scale=scale)\n",
    "\n",
    "# Calcula los valores críticos para el intervalo de confianza\n",
    "alpha = 1 - confidence_level\n",
    "lower_critical_value = weibull_min.ppf(alpha / 2, c, scale=scale)\n",
    "upper_critical_value = weibull_min.ppf(1 - alpha / 2, c, scale=scale)\n",
    "\n",
    "# Graficar la PDF\n",
    "plt.plot(x, pdf, 'b-', lw=2, label='PDF')\n",
    "\n",
    "# Rellenar la región correspondiente al intervalo de confianza del 95%\n",
    "plt.fill_between(x, 0, pdf, where=(x >= lower_critical_value) & (x <= upper_critical_value), alpha=0.2, color='green', label=f'Intervalo de Confianza {confidence_level * 100}%')\n",
    "\n",
    "# Etiquetas y título\n",
    "plt.xlabel('Valor')\n",
    "plt.ylabel('Densidad de Probabilidad')\n",
    "plt.title(f'Distribución Weibull con Intervalo de Confianza del {confidence_level * 100}%')\n",
    "\n",
    "# Mostrar la gráfica\n",
    "plt.legend()\n",
    "plt.grid(True)\n",
    "plt.show()\n",
    "\n",
    "# Imprimir los valores críticos\n",
    "print(f\"Valores críticos para el intervalo de confianza del {confidence_level * 100}%: ({lower_critical_value:.3f}, {upper_critical_value:.3f})\")"
   ]
  },
  {
   "cell_type": "code",
   "execution_count": null,
   "id": "55e0489e",
   "metadata": {},
   "outputs": [],
   "source": [
    "print('ok_')"
   ]
  }
 ],
 "metadata": {
  "kernelspec": {
   "display_name": "Python 3 (ipykernel)",
   "language": "python",
   "name": "python3"
  },
  "language_info": {
   "codemirror_mode": {
    "name": "ipython",
    "version": 3
   },
   "file_extension": ".py",
   "mimetype": "text/x-python",
   "name": "python",
   "nbconvert_exporter": "python",
   "pygments_lexer": "ipython3",
   "version": "3.11.5"
  }
 },
 "nbformat": 4,
 "nbformat_minor": 5
}
