{
  "cells": [
    {
      "cell_type": "markdown",
      "id": "683f91bc-4e6d-44fc-ab4b-4b44f562a1b6",
      "metadata": {
        "id": "683f91bc-4e6d-44fc-ab4b-4b44f562a1b6"
      },
      "source": [
        "Taller Presencial --- Estimación de parámetros de un modelo multivariado\n",
        "==="
      ]
    },
    {
      "cell_type": "code",
      "execution_count": null,
      "id": "8d65bd8f-ea90-40af-a114-bd9abc2a7e18",
      "metadata": {
        "id": "8d65bd8f-ea90-40af-a114-bd9abc2a7e18"
      },
      "outputs": [],
      "source": [
        "#\n",
        "# Cargue los datos del dataset diabetes (disponible en scikit-learn)  a un dataframe de Pandas\n",
        "#\n",
        "import pandas as pd\n",
        "from sklearn.datasets import load_diabetes\n",
        "\n",
        "bunch = load_diabetes(\n",
        "    # -----------------------------------------------------\n",
        "    # If True, returns (data, target) instead of a Bunch\n",
        "    # object.\n",
        "    return_X_y=False,\n",
        ")\n",
        "\n",
        "diabetes = pd.DataFrame(\n",
        "    bunch.data,\n",
        "    columns=bunch.feature_names,\n",
        ")\n",
        "\n",
        "diabetes[\"target\"] = bunch.target\n",
        "\n",
        "diabetes.head()"
      ]
    },
    {
      "cell_type": "code",
      "execution_count": null,
      "id": "607a515e-2a6d-4013-9b36-80c760b73dc0",
      "metadata": {
        "id": "607a515e-2a6d-4013-9b36-80c760b73dc0"
      },
      "outputs": [],
      "source": [
        "#\n",
        "# En este taller debe estimar los parámetros de un modelo de regrsión no lineal\n",
        "# multivariada para este dataset usando aprendizaje batch. Complete la \n",
        "# siguiente función para que compute el error cuadrático medio.\n",
        "#\n",
        "def mean_squared_error(y_true, y_pred):\n",
        "    errors = [y_true_value - y_forecast for y_true_value, y_forecast in zip(y_true, y_pred)]\n",
        "    sum_squared_errors = sum([error ** 2 for error in errors])\n",
        "    mse = sum_squared_errors/len(y_true)\n",
        "    return mse"
      ]
    },
    {
      "cell_type": "code",
      "execution_count": null,
      "id": "21e3815f-e981-499b-b286-bcbb69b0a5c9",
      "metadata": {
        "id": "21e3815f-e981-499b-b286-bcbb69b0a5c9"
      },
      "outputs": [],
      "source": [
        "#\n",
        "# Complete el siguiente código para que compute el gradiente del intercepto y\n",
        "# de los coeficientes de las variables indpendientes.\n",
        "#\n",
        "def compute_gradient(X, y, intercept_, coef_):\n",
        "    pass\n",
        "\n"
      ]
    },
    {
      "cell_type": "code",
      "execution_count": null,
      "id": "130501e4-5d8e-4784-beaf-e419dba5515f",
      "metadata": {
        "id": "130501e4-5d8e-4784-beaf-e419dba5515f"
      },
      "outputs": [],
      "source": [
        "#\n",
        "# Complete el siguiente código para que realice una iteración del método del \n",
        "# gradiente descendente y retorne el intercepto y los coeficientes de mejorados\n",
        "#\n",
        "def improve(X, y, intercept_, coef_):\n",
        "    pass\n"
      ]
    },
    {
      "cell_type": "code",
      "execution_count": null,
      "id": "c77ca14e-1d86-4e73-b8bc-352c18e297ff",
      "metadata": {
        "id": "c77ca14e-1d86-4e73-b8bc-352c18e297ff"
      },
      "outputs": [],
      "source": [
        "#\n",
        "# Escriba el código necesario para estimar los parámetros de un modelo de \n",
        "# regresión lineal aplicado a los datos del dataset diabetes.\n",
        "#\n"
      ]
    }
  ],
  "metadata": {
    "colab": {
      "provenance": []
    },
    "kernelspec": {
      "display_name": "Python 3.11.0 64-bit",
      "language": "python",
      "name": "python3"
    },
    "language_info": {
      "codemirror_mode": {
        "name": "ipython",
        "version": 3
      },
      "file_extension": ".py",
      "mimetype": "text/x-python",
      "name": "python",
      "nbconvert_exporter": "python",
      "pygments_lexer": "ipython3",
      "version": "3.11.5"
    },
    "vscode": {
      "interpreter": {
        "hash": "5238573367df39f7286bb46f9ff5f08f63a01a80960060ce41e3c79b190280fa"
      }
    }
  },
  "nbformat": 4,
  "nbformat_minor": 5
}
