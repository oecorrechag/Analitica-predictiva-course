{
 "cells": [
  {
   "cell_type": "markdown",
   "id": "6bfc8fc6",
   "metadata": {},
   "source": [
    "# 2.3.10 La función make_blobs"
   ]
  },
  {
   "cell_type": "code",
   "execution_count": null,
   "id": "53b57b40",
   "metadata": {},
   "outputs": [],
   "source": [
    "%load_ext autoreload\n",
    "%autoreload 2"
   ]
  },
  {
   "cell_type": "code",
   "execution_count": null,
   "id": "5fb86f3c",
   "metadata": {},
   "outputs": [],
   "source": [
    "import pandas as pd\n",
    "import matplotlib.pyplot as plt\n",
    "from sklearn.datasets import make_blobs\n",
    "\n",
    "pd.set_option('display.max_columns', None)\n",
    "pd.set_option('display.max_rows', None)\n",
    "import warnings\n",
    "warnings.filterwarnings(\"ignore\")"
   ]
  },
  {
   "cell_type": "markdown",
   "id": "75423585",
   "metadata": {},
   "source": [
    "Link: https://scikit-learn.org/stable/modules/generated/sklearn.datasets.make_blobs.html#sklearn.datasets.make_blobs\n",
    "\n",
    "La función make_blobs de scikit-learn se usa para generar clusters de datos n-dimensionales, los cuales son usados para probar algoritmos de clustering y clasificación. En esta lección se describe el uso de esta función."
   ]
  },
  {
   "cell_type": "code",
   "execution_count": null,
   "id": "afec55af",
   "metadata": {},
   "outputs": [],
   "source": [
    "X, y = make_blobs(\n",
    "    # -------------------------------------------------------------------------\n",
    "    # If int, it is the total number of points equally divided among clusters.\n",
    "    # If array-like, each element of the sequence indicates the number of\n",
    "    # samples per cluster\n",
    "    n_samples=150,\n",
    "    # -------------------------------------------------------------------------\n",
    "    # The number of features for each sample.\n",
    "    n_features=2,\n",
    "    # -------------------------------------------------------------------------\n",
    "    # The number of centers to generate, or the fixed center locations.\n",
    "    centers=3,\n",
    "    # -------------------------------------------------------------------------\n",
    "    # The standard deviation of the clusters.\n",
    "    cluster_std=0.8,\n",
    "    # -------------------------------------------------------------------------\n",
    "    # The bounding box for each cluster center when centers are generated at\n",
    "    # random.\n",
    "    center_box=(-10, 10),\n",
    "    # -------------------------------------------------------------------------\n",
    "    # Shuffle the samples.\n",
    "    shuffle=False,\n",
    "    # -------------------------------------------------------------------------\n",
    "    # Determines random number generation for dataset creation.\n",
    "    random_state=12345,\n",
    ")\n",
    "\n",
    "\n",
    "plt.figure(figsize=(7, 7))\n",
    "\n",
    "plt.scatter(\n",
    "    X[:50, 0],\n",
    "    X[:50, 1],\n",
    "    color=\"tab:red\",\n",
    "    edgecolors=\"k\",\n",
    "    s=120,\n",
    "    alpha=0.9,\n",
    ")\n",
    "plt.scatter(\n",
    "    X[50:100, 0],\n",
    "    X[50:100, 1],\n",
    "    color=\"tab:blue\",\n",
    "    edgecolors=\"k\",\n",
    "    s=120,\n",
    "    alpha=0.9,\n",
    ")\n",
    "plt.scatter(\n",
    "    X[100:, 0],\n",
    "    X[100:, 1],\n",
    "    color=\"tab:green\",\n",
    "    edgecolors=\"k\",\n",
    "    s=120,\n",
    "    alpha=0.9,\n",
    ")\n",
    "\n",
    "plt.gca().spines[\"left\"].set_color(\"gray\")\n",
    "plt.gca().spines[\"bottom\"].set_color(\"gray\")\n",
    "plt.gca().spines[\"top\"].set_visible(False)\n",
    "plt.gca().spines[\"right\"].set_visible(False)\n",
    "plt.axis(\"equal\")\n",
    "plt.show()"
   ]
  },
  {
   "cell_type": "code",
   "execution_count": null,
   "id": "0f429c58",
   "metadata": {},
   "outputs": [],
   "source": [
    "X, y = make_blobs(\n",
    "    n_samples=[50, 30, 20],\n",
    "    n_features=2,\n",
    "    centers=[\n",
    "        [-8, -4],\n",
    "        [3, 0],\n",
    "        [-3, 7],\n",
    "    ],\n",
    "    cluster_std=2.5,\n",
    "    center_box=(-10, 10),\n",
    "    shuffle=False,\n",
    "    random_state=12345,\n",
    ")\n",
    "\n",
    "\n",
    "plt.figure(figsize=(9, 8))\n",
    "\n",
    "plt.scatter(\n",
    "    X[:50, 0],\n",
    "    X[:50, 1],\n",
    "    color=\"tab:red\",\n",
    "    edgecolors=\"k\",\n",
    "    s=120,\n",
    "    alpha=0.9,\n",
    ")\n",
    "plt.scatter(\n",
    "    X[50:80, 0],\n",
    "    X[50:80, 1],\n",
    "    color=\"tab:blue\",\n",
    "    edgecolors=\"k\",\n",
    "    s=120,\n",
    "    alpha=0.9,\n",
    ")\n",
    "plt.scatter(\n",
    "    X[80:, 0],\n",
    "    X[80:, 1],\n",
    "    color=\"tab:green\",\n",
    "    edgecolors=\"k\",\n",
    "    s=120,\n",
    "    alpha=0.9,\n",
    ")\n",
    "\n",
    "plt.gca().spines[\"left\"].set_color(\"gray\")\n",
    "plt.gca().spines[\"bottom\"].set_color(\"gray\")\n",
    "plt.gca().spines[\"top\"].set_visible(False)\n",
    "plt.gca().spines[\"right\"].set_visible(False)\n",
    "plt.axis(\"equal\")\n",
    "plt.show()"
   ]
  },
  {
   "cell_type": "code",
   "execution_count": null,
   "id": "922ab845",
   "metadata": {},
   "outputs": [],
   "source": [
    "print('ok_')"
   ]
  }
 ],
 "metadata": {
  "kernelspec": {
   "display_name": "Python 3 (ipykernel)",
   "language": "python",
   "name": "python3"
  },
  "language_info": {
   "codemirror_mode": {
    "name": "ipython",
    "version": 3
   },
   "file_extension": ".py",
   "mimetype": "text/x-python",
   "name": "python",
   "nbconvert_exporter": "python",
   "pygments_lexer": "ipython3",
   "version": "3.9.12"
  }
 },
 "nbformat": 4,
 "nbformat_minor": 5
}
