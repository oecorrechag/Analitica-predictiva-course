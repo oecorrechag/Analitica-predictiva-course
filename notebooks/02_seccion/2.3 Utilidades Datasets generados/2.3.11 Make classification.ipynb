{
 "cells": [
  {
   "cell_type": "markdown",
   "id": "6bfc8fc6",
   "metadata": {},
   "source": [
    "# 2.3.11 La función make_classification"
   ]
  },
  {
   "cell_type": "code",
   "execution_count": null,
   "id": "53b57b40",
   "metadata": {},
   "outputs": [],
   "source": [
    "%load_ext autoreload\n",
    "%autoreload 2"
   ]
  },
  {
   "cell_type": "code",
   "execution_count": null,
   "id": "5fb86f3c",
   "metadata": {},
   "outputs": [],
   "source": [
    "import pandas as pd\n",
    "import matplotlib.pyplot as plt\n",
    "from sklearn.datasets import make_classification\n",
    "\n",
    "pd.set_option('display.max_columns', None)\n",
    "pd.set_option('display.max_rows', None)\n",
    "import warnings\n",
    "warnings.filterwarnings(\"ignore\")"
   ]
  },
  {
   "cell_type": "markdown",
   "id": "75423585",
   "metadata": {},
   "source": [
    "Link: https://scikit-learn.org/stable/modules/generated/sklearn.datasets.make_classification.html#sklearn.datasets.make_classification\n",
    "\n",
    "Generación aleatoria de un problema de clasificación de n clases."
   ]
  },
  {
   "cell_type": "code",
   "execution_count": null,
   "id": "afec55af",
   "metadata": {},
   "outputs": [],
   "source": [
    "\n",
    "\n",
    "X, y = make_classification(\n",
    "    # -------------------------------------------------------------------------\n",
    "    # The number of samples.\n",
    "    n_samples=100,\n",
    "    # -------------------------------------------------------------------------\n",
    "    # The total number of features. These comprise n_informative informative\n",
    "    # features, n_redundant redundant features, n_repeated duplicated features\n",
    "    # and n_features-n_informative-n_redundant-n_repeated useless features\n",
    "    # drawn at random.\n",
    "    n_features=2,\n",
    "    # -------------------------------------------------------------------------\n",
    "    # The number of informative features.\n",
    "    n_informative=2,\n",
    "    # -------------------------------------------------------------------------\n",
    "    # The number of redundant features.\n",
    "    n_redundant=0,\n",
    "    # -------------------------------------------------------------------------\n",
    "    # The number of duplicated features, drawn randomly from the informative\n",
    "    # and the redundant features.\n",
    "    n_repeated=0,\n",
    "    # -------------------------------------------------------------------------\n",
    "    # The number of classes (or labels) of the classification problem\n",
    "    n_classes=2,\n",
    "    # -------------------------------------------------------------------------\n",
    "    # The number of clusters per class.\n",
    "    n_clusters_per_class=1,\n",
    "    # -------------------------------------------------------------------------\n",
    "    # The factor multiplying the hypercube size. Larger values spread out the\n",
    "    # clusters/classes and make the classification task easier.\n",
    "    class_sep=1.5,\n",
    "    # -------------------------------------------------------------------------\n",
    "    # Shuffle the samples.\n",
    "    shuffle=False,\n",
    "    # -------------------------------------------------------------------------\n",
    "    # Determines random number generation for dataset creation.\n",
    "    random_state=12346,\n",
    ")\n",
    "\n",
    "\n",
    "plt.figure(figsize=(8, 8))\n",
    "plt.scatter(\n",
    "    X[y == 0, 0],\n",
    "    X[y == 0, 1],\n",
    "    color=\"tab:red\",\n",
    "    edgecolors=\"k\",\n",
    "    s=120,\n",
    "    alpha=0.9,\n",
    ")\n",
    "plt.scatter(\n",
    "    X[y == 1, 0],\n",
    "    X[y == 1, 1],\n",
    "    color=\"tab:blue\",\n",
    "    edgecolors=\"k\",\n",
    "    s=120,\n",
    "    alpha=0.9,\n",
    ")\n",
    "\n",
    "\n",
    "plt.gca().spines[\"left\"].set_color(\"gray\")\n",
    "plt.gca().spines[\"bottom\"].set_color(\"gray\")\n",
    "plt.gca().spines[\"top\"].set_visible(False)\n",
    "plt.gca().spines[\"right\"].set_visible(False)\n",
    "plt.show()"
   ]
  },
  {
   "cell_type": "code",
   "execution_count": null,
   "id": "0f429c58",
   "metadata": {},
   "outputs": [],
   "source": [
    "X, y = make_classification(\n",
    "    n_samples=100,\n",
    "    n_features=2,\n",
    "    n_informative=2,\n",
    "    n_redundant=0,\n",
    "    n_repeated=0,\n",
    "    n_classes=2,\n",
    "    n_clusters_per_class=2,\n",
    "    class_sep=4.0,\n",
    "    shuffle=False,\n",
    "    random_state=12346,\n",
    ")\n",
    "\n",
    "\n",
    "plt.figure(figsize=(8, 8))\n",
    "plt.scatter(\n",
    "    X[y == 0, 0],\n",
    "    X[y == 0, 1],\n",
    "    color=\"tab:red\",\n",
    "    edgecolors=\"k\",\n",
    "    s=120,\n",
    "    alpha=0.9,\n",
    ")\n",
    "plt.scatter(\n",
    "    X[y == 1, 0],\n",
    "    X[y == 1, 1],\n",
    "    color=\"tab:blue\",\n",
    "    edgecolors=\"k\",\n",
    "    s=120,\n",
    "    alpha=0.9,\n",
    ")\n",
    "\n",
    "\n",
    "plt.gca().spines[\"left\"].set_color(\"gray\")\n",
    "plt.gca().spines[\"bottom\"].set_color(\"gray\")\n",
    "plt.gca().spines[\"top\"].set_visible(False)\n",
    "plt.gca().spines[\"right\"].set_visible(False)\n",
    "plt.show()"
   ]
  },
  {
   "cell_type": "code",
   "execution_count": null,
   "id": "922ab845",
   "metadata": {},
   "outputs": [],
   "source": [
    "print('ok_')"
   ]
  }
 ],
 "metadata": {
  "kernelspec": {
   "display_name": "Python 3 (ipykernel)",
   "language": "python",
   "name": "python3"
  },
  "language_info": {
   "codemirror_mode": {
    "name": "ipython",
    "version": 3
   },
   "file_extension": ".py",
   "mimetype": "text/x-python",
   "name": "python",
   "nbconvert_exporter": "python",
   "pygments_lexer": "ipython3",
   "version": "3.11.5"
  }
 },
 "nbformat": 4,
 "nbformat_minor": 5
}
