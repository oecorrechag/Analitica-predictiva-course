{
 "cells": [
  {
   "cell_type": "markdown",
   "id": "6bfc8fc6",
   "metadata": {},
   "source": [
    "# 2.3.13 Make moons"
   ]
  },
  {
   "cell_type": "code",
   "execution_count": null,
   "id": "53b57b40",
   "metadata": {},
   "outputs": [],
   "source": [
    "%load_ext autoreload\n",
    "%autoreload 2"
   ]
  },
  {
   "cell_type": "code",
   "execution_count": null,
   "id": "5fb86f3c",
   "metadata": {},
   "outputs": [],
   "source": [
    "import pandas as pd\n",
    "import matplotlib.pyplot as plt\n",
    "from sklearn.datasets import make_moons\n",
    "\n",
    "pd.set_option('display.max_columns', None)\n",
    "pd.set_option('display.max_rows', None)\n",
    "import warnings\n",
    "warnings.filterwarnings(\"ignore\")"
   ]
  },
  {
   "cell_type": "markdown",
   "id": "75423585",
   "metadata": {},
   "source": [
    "Link: https://scikit-learn.org/stable/modules/generated/sklearn.datasets.make_moons.html#sklearn.datasets.make_moons\n",
    "\n",
    "Esta función permite la creación de dos semicírculos concentricos con aspecto de luna, donde cada semicírculo representa una clase."
   ]
  },
  {
   "cell_type": "code",
   "execution_count": null,
   "id": "afec55af",
   "metadata": {},
   "outputs": [],
   "source": [
    "X, y = make_moons(\n",
    "    # -------------------------------------------------------------------------\n",
    "    # If int, the total number of points generated. If two-element tuple,\n",
    "    # number of points in each of two moons.\n",
    "    n_samples=100,\n",
    "    # -------------------------------------------------------------------------\n",
    "    # Shuffle the samples.\n",
    "    shuffle=False,\n",
    "    # -------------------------------------------------------------------------\n",
    "    # Standard deviation of Gaussian noise added to the data.\n",
    "    noise=0.0,\n",
    "    # -------------------------------------------------------------------------\n",
    "    # Determines random number generation for dataset shuffling and noise. Pass\n",
    "    # an int for reproducible output across multiple function calls.\n",
    "    # creation.\n",
    "    random_state=12346,\n",
    ")\n",
    "\n",
    "\n",
    "plt.figure(figsize=(7, 7))\n",
    "plt.scatter(\n",
    "    X[y == 0, 0],\n",
    "    X[y == 0, 1],\n",
    "    color=\"tab:red\",\n",
    "    edgecolors=\"k\",\n",
    "    s=120,\n",
    "    alpha=0.9,\n",
    ")\n",
    "plt.scatter(\n",
    "    X[y == 1, 0],\n",
    "    X[y == 1, 1],\n",
    "    color=\"tab:blue\",\n",
    "    edgecolors=\"k\",\n",
    "    s=120,\n",
    "    alpha=0.9,\n",
    ")\n",
    "\n",
    "\n",
    "plt.gca().spines[\"left\"].set_color(\"gray\")\n",
    "plt.gca().spines[\"bottom\"].set_color(\"gray\")\n",
    "plt.gca().spines[\"top\"].set_visible(False)\n",
    "plt.gca().spines[\"right\"].set_visible(False)\n",
    "plt.axis(\"equal\")\n",
    "plt.show()"
   ]
  },
  {
   "cell_type": "code",
   "execution_count": null,
   "id": "0f429c58",
   "metadata": {},
   "outputs": [],
   "source": [
    "X, y = make_moons(\n",
    "    n_samples=100,\n",
    "    shuffle=False,\n",
    "    noise=0.1,\n",
    "    # -------------------------------------------------------------------------\n",
    "    # Determines random number generation for dataset shuffling and noise. Pass\n",
    "    # an int for reproducible output across multiple function calls.\n",
    "    # creation.\n",
    "    random_state=12346,\n",
    ")\n",
    "\n",
    "\n",
    "plt.figure(figsize=(7, 7))\n",
    "plt.scatter(\n",
    "    X[y == 0, 0],\n",
    "    X[y == 0, 1],\n",
    "    color=\"tab:red\",\n",
    "    edgecolors=\"k\",\n",
    "    s=120,\n",
    "    alpha=0.9,\n",
    ")\n",
    "plt.scatter(\n",
    "    X[y == 1, 0],\n",
    "    X[y == 1, 1],\n",
    "    color=\"tab:blue\",\n",
    "    edgecolors=\"k\",\n",
    "    s=120,\n",
    "    alpha=0.9,\n",
    ")\n",
    "\n",
    "\n",
    "plt.gca().spines[\"left\"].set_color(\"gray\")\n",
    "plt.gca().spines[\"bottom\"].set_color(\"gray\")\n",
    "plt.gca().spines[\"top\"].set_visible(False)\n",
    "plt.gca().spines[\"right\"].set_visible(False)\n",
    "plt.axis(\"equal\")\n",
    "plt.show()"
   ]
  },
  {
   "cell_type": "code",
   "execution_count": null,
   "id": "922ab845",
   "metadata": {},
   "outputs": [],
   "source": [
    "print('ok_')"
   ]
  }
 ],
 "metadata": {
  "kernelspec": {
   "display_name": "Python 3 (ipykernel)",
   "language": "python",
   "name": "python3"
  },
  "language_info": {
   "codemirror_mode": {
    "name": "ipython",
    "version": 3
   },
   "file_extension": ".py",
   "mimetype": "text/x-python",
   "name": "python",
   "nbconvert_exporter": "python",
   "pygments_lexer": "ipython3",
   "version": "3.11.5"
  }
 },
 "nbformat": 4,
 "nbformat_minor": 5
}
