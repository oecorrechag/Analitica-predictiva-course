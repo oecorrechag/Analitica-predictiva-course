{
 "cells": [
  {
   "cell_type": "markdown",
   "id": "6bfc8fc6",
   "metadata": {},
   "source": [
    "# 2.3.15 Make exclusive or"
   ]
  },
  {
   "cell_type": "code",
   "execution_count": null,
   "id": "53b57b40",
   "metadata": {},
   "outputs": [],
   "source": [
    "%load_ext autoreload\n",
    "%autoreload 2"
   ]
  },
  {
   "cell_type": "code",
   "execution_count": null,
   "id": "5fb86f3c",
   "metadata": {},
   "outputs": [],
   "source": [
    "import pandas as pd\n",
    "import numpy as np\n",
    "import matplotlib.pyplot as plt\n",
    "from numpy.random import default_rng\n",
    "\n",
    "pd.set_option('display.max_columns', None)\n",
    "pd.set_option('display.max_rows', None)\n",
    "import warnings\n",
    "warnings.filterwarnings(\"ignore\")"
   ]
  },
  {
   "cell_type": "markdown",
   "id": "75423585",
   "metadata": {},
   "source": [
    "En esta lección se construye una función que genera una muestra aleatoria de datos en dos dimensiones cuya asignación de clases sigue la funcion lógica exclusive-or."
   ]
  },
  {
   "cell_type": "code",
   "execution_count": null,
   "id": "afec55af",
   "metadata": {},
   "outputs": [],
   "source": [
    "def make_exclusive_or(\n",
    "    n_samples=200,\n",
    "    noise=0,\n",
    "    shuffle=False,\n",
    "    random_state=None,\n",
    "):\n",
    "\n",
    "    if random_state is None:\n",
    "        rng = default_rng()\n",
    "    else:\n",
    "        rng = default_rng(12345)\n",
    "\n",
    "    x1 = rng.uniform(low=-0.9, high=0.9, size=n_samples)\n",
    "    x2 = rng.uniform(low=-0.9, high=0.9, size=n_samples)\n",
    "\n",
    "    x1 = x1 + np.where(x1 < 0, -0.1, +0.1)\n",
    "    x2 = x2 + np.where(x2 < 0, -0.1, +0.1)\n",
    "\n",
    "    X = np.column_stack((x1, x2))\n",
    "\n",
    "    y = np.sign(X[:, 0]) * np.sign(X[:, 1])\n",
    "\n",
    "    X[X[:, 0] < 0] = X[X[:, 0] < 0]\n",
    "\n",
    "    X = X + rng.normal(scale=noise, size=(n_samples, 2))\n",
    "    y = np.where(y < 0, 0, 1)\n",
    "    return X, y\n",
    "\n",
    "\n",
    "X, y = make_exclusive_or(\n",
    "    n_samples=300,\n",
    "    noise=0.0,\n",
    ")\n",
    "\n",
    "plt.figure(figsize=(7, 7))\n",
    "plt.scatter(\n",
    "    X[y == 0, 0],\n",
    "    X[y == 0, 1],\n",
    "    color=\"tab:blue\",\n",
    "    edgecolors=\"k\",\n",
    "    s=120,\n",
    "    alpha=0.9,\n",
    ")\n",
    "\n",
    "plt.scatter(\n",
    "    X[y == 1, 0],\n",
    "    X[y == 1, 1],\n",
    "    color=\"tab:red\",\n",
    "    edgecolors=\"k\",\n",
    "    s=120,\n",
    "    alpha=0.9,\n",
    ")\n",
    "\n",
    "plt.gca().spines[\"left\"].set_color(\"gray\")\n",
    "plt.gca().spines[\"bottom\"].set_color(\"gray\")\n",
    "plt.gca().spines[\"top\"].set_visible(False)\n",
    "plt.gca().spines[\"right\"].set_visible(False)"
   ]
  },
  {
   "cell_type": "code",
   "execution_count": null,
   "id": "0f429c58",
   "metadata": {},
   "outputs": [],
   "source": [
    "X, y = make_exclusive_or(\n",
    "    n_samples=300,\n",
    "    noise=0.1,\n",
    ")\n",
    "\n",
    "plt.figure(figsize=(7, 7))\n",
    "plt.scatter(\n",
    "    X[y == 0, 0],\n",
    "    X[y == 0, 1],\n",
    "    color=\"tab:blue\",\n",
    "    edgecolors=\"k\",\n",
    "    s=120,\n",
    "    alpha=0.9,\n",
    ")\n",
    "\n",
    "plt.scatter(\n",
    "    X[y == 1, 0],\n",
    "    X[y == 1, 1],\n",
    "    color=\"tab:red\",\n",
    "    edgecolors=\"k\",\n",
    "    s=120,\n",
    "    alpha=0.9,\n",
    ")\n",
    "\n",
    "plt.gca().spines[\"left\"].set_color(\"gray\")\n",
    "plt.gca().spines[\"bottom\"].set_color(\"gray\")\n",
    "plt.gca().spines[\"top\"].set_visible(False)\n",
    "plt.gca().spines[\"right\"].set_visible(False)"
   ]
  },
  {
   "cell_type": "code",
   "execution_count": null,
   "id": "922ab845",
   "metadata": {},
   "outputs": [],
   "source": [
    "print('ok_')"
   ]
  }
 ],
 "metadata": {
  "kernelspec": {
   "display_name": "Python 3 (ipykernel)",
   "language": "python",
   "name": "python3"
  },
  "language_info": {
   "codemirror_mode": {
    "name": "ipython",
    "version": 3
   },
   "file_extension": ".py",
   "mimetype": "text/x-python",
   "name": "python",
   "nbconvert_exporter": "python",
   "pygments_lexer": "ipython3",
   "version": "3.11.5"
  }
 },
 "nbformat": 4,
 "nbformat_minor": 5
}
