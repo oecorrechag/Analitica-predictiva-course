{
 "cells": [
  {
   "cell_type": "markdown",
   "metadata": {},
   "source": [
    "# 2.3.4 El dataset wine"
   ]
  },
  {
   "cell_type": "code",
   "execution_count": null,
   "metadata": {},
   "outputs": [],
   "source": [
    "%load_ext autoreload\n",
    "%autoreload 2"
   ]
  },
  {
   "cell_type": "code",
   "execution_count": null,
   "metadata": {},
   "outputs": [],
   "source": [
    "import pandas as pd\n",
    "from sklearn.datasets import load_wine\n",
    "\n",
    "pd.set_option('display.max_columns', None)\n",
    "pd.set_option('display.max_rows', None)\n",
    "import warnings\n",
    "warnings.filterwarnings(\"ignore\")"
   ]
  },
  {
   "cell_type": "markdown",
   "metadata": {},
   "source": [
    "Link: https://scikit-learn.org/stable/datasets/toy_dataset.html\n",
    "\n",
    "Este dataset contiene los resultados del análisis químico de vinos provenientes de la misma región de Italia provenientes de tres cultivadores diferentes. El dataset tiene 178 patrones y está conformado por las mediciones de 13 componentes que están en los tres tipos de vinos. Hay:\n",
    "\n",
    "- 59 muestras para el primer vino.\n",
    "- 71 muestras para el segundo vino.\n",
    "- 48 muestras para el tercer vino."
   ]
  },
  {
   "cell_type": "code",
   "execution_count": null,
   "metadata": {},
   "outputs": [],
   "source": [
    "bunch = load_wine(\n",
    "    # -----------------------------------------------------\n",
    "    # If True, returns (data, target) instead of a Bunch\n",
    "    # object.\n",
    "    return_X_y=False,\n",
    ")\n",
    "\n",
    "bunch.keys()"
   ]
  },
  {
   "cell_type": "code",
   "execution_count": null,
   "metadata": {},
   "outputs": [],
   "source": [
    "bunch.target"
   ]
  },
  {
   "cell_type": "code",
   "execution_count": null,
   "metadata": {},
   "outputs": [],
   "source": [
    "bunch.target_names"
   ]
  },
  {
   "cell_type": "code",
   "execution_count": null,
   "metadata": {},
   "outputs": [],
   "source": [
    "bunch.feature_names"
   ]
  },
  {
   "cell_type": "code",
   "execution_count": null,
   "metadata": {},
   "outputs": [],
   "source": [
    "X, y = load_wine(\n",
    "    # -----------------------------------------------------\n",
    "    # If True, returns (data, target) instead of a Bunch\n",
    "    # object.\n",
    "    return_X_y=True,\n",
    ")\n",
    "\n",
    "display(\n",
    "    X[:5, :],\n",
    "    y[:5],\n",
    ")"
   ]
  },
  {
   "cell_type": "code",
   "execution_count": null,
   "metadata": {},
   "outputs": [],
   "source": [
    "#\n",
    "# Carga a un dataframe de pandas\n",
    "#\n",
    "\n",
    "wine = pd.DataFrame(\n",
    "    bunch.data,\n",
    "    columns=bunch.feature_names,\n",
    ")\n",
    "\n",
    "wine[\"class\"] = bunch.target_names[bunch.target]\n",
    "\n",
    "wine.head()"
   ]
  },
  {
   "cell_type": "code",
   "execution_count": null,
   "metadata": {},
   "outputs": [],
   "source": [
    "print('ok_')"
   ]
  }
 ],
 "metadata": {
  "kernelspec": {
   "display_name": "Python 3",
   "language": "python",
   "name": "python3"
  },
  "language_info": {
   "codemirror_mode": {
    "name": "ipython",
    "version": 3
   },
   "file_extension": ".py",
   "mimetype": "text/x-python",
   "name": "python",
   "nbconvert_exporter": "python",
   "pygments_lexer": "ipython3",
   "version": "3.11.5"
  },
  "orig_nbformat": 4
 },
 "nbformat": 4,
 "nbformat_minor": 2
}
