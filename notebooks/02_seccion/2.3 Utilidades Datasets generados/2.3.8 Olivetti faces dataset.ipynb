{
 "cells": [
  {
   "cell_type": "markdown",
   "metadata": {},
   "source": [
    "# 2.3.8 Olivetti faces dataset"
   ]
  },
  {
   "cell_type": "code",
   "execution_count": null,
   "metadata": {},
   "outputs": [],
   "source": [
    "%load_ext autoreload\n",
    "%autoreload 2"
   ]
  },
  {
   "cell_type": "code",
   "execution_count": null,
   "metadata": {},
   "outputs": [],
   "source": [
    "import pandas as pd\n",
    "from sklearn.datasets import fetch_olivetti_faces\n",
    "import matplotlib.pyplot as plt\n",
    "\n",
    "pd.set_option('display.max_columns', None)\n",
    "pd.set_option('display.max_rows', None)\n",
    "import warnings\n",
    "warnings.filterwarnings(\"ignore\")"
   ]
  },
  {
   "cell_type": "markdown",
   "metadata": {},
   "source": [
    "Link: https://scikit-learn.org/stable/datasets/toy_dataset.html\n",
    "\n",
    "En este dataset, hay 10 imágenes diferentes para 40 sujetos distintos (400 imágenes). Para algunos de ellos, las imágenes fueron tomadas en diferentes momentos, variando la luz, las expresiones faciales (ojos abiertos/cerrados, con/sin sonrisa) y los detalles faciales (con/sin gafas). Todas las imágenes fueron tomadas sobre un fondo oscuro y homogéneo. Cada imágen está compuesta de 4.096 elementos que toman el valor entre 0 y 1.\n",
    "\n",
    "La variable de respuesta es un entero entre 0 y 39, el cual indica la identidad de la persona."
   ]
  },
  {
   "cell_type": "code",
   "execution_count": null,
   "metadata": {},
   "outputs": [],
   "source": [
    "bunch = fetch_olivetti_faces(\n",
    "    # -----------------------------------------------------\n",
    "    # Specify another download and cache folder for the\n",
    "    # datasets. By default all scikit-learn data is stored\n",
    "    # in ‘~/scikit_learn_data’ subfolders.\n",
    "    data_home=None,\n",
    "    # -----------------------------------------------------\n",
    "    # If True the order of the dataset is shuffled to avoid\n",
    "    # having images of the same person grouped.\n",
    "    shuffle=False,\n",
    "    # -----------------------------------------------------\n",
    "    # If True, returns (data, target) instead of a Bunch\n",
    "    # object.\n",
    "    return_X_y=False,\n",
    ")\n",
    "\n",
    "bunch.keys()"
   ]
  },
  {
   "cell_type": "code",
   "execution_count": null,
   "metadata": {},
   "outputs": [],
   "source": [
    "def print_faces(images, target, top_n):\n",
    "    fig = plt.figure(figsize=(12, 12))\n",
    "    fig.subplots_adjust(\n",
    "        left=0,\n",
    "        right=1,\n",
    "        bottom=0,\n",
    "        top=1,\n",
    "        hspace=0.05,\n",
    "        wspace=0.05,\n",
    "    )\n",
    "    for i in range(top_n):\n",
    "        p = fig.add_subplot(10, 10, i + 1, xticks=[], yticks=[])\n",
    "        p.imshow(images[i], cmap=plt.cm.bone)\n",
    "        p.text(0, 14, str(target[i]))\n",
    "        p.text(0, 60, str(i))\n",
    "\n",
    "print_faces(bunch.images, bunch.target, 100)"
   ]
  },
  {
   "cell_type": "code",
   "execution_count": null,
   "metadata": {},
   "outputs": [],
   "source": [
    "bunch.data[:5, :]"
   ]
  },
  {
   "cell_type": "code",
   "execution_count": null,
   "metadata": {},
   "outputs": [],
   "source": [
    "bunch.target"
   ]
  },
  {
   "cell_type": "code",
   "execution_count": null,
   "metadata": {},
   "outputs": [],
   "source": [
    "X, y = fetch_olivetti_faces(\n",
    "    # -----------------------------------------------------\n",
    "    # If True, returns (data, target) instead of a Bunch\n",
    "    # object.\n",
    "    return_X_y=True,\n",
    ")\n",
    "\n",
    "display(\n",
    "    X[:5, :],\n",
    "    y[:5],\n",
    ")"
   ]
  },
  {
   "cell_type": "code",
   "execution_count": null,
   "metadata": {},
   "outputs": [],
   "source": [
    "print('ok_')"
   ]
  }
 ],
 "metadata": {
  "kernelspec": {
   "display_name": "Python 3",
   "language": "python",
   "name": "python3"
  },
  "language_info": {
   "codemirror_mode": {
    "name": "ipython",
    "version": 3
   },
   "file_extension": ".py",
   "mimetype": "text/x-python",
   "name": "python",
   "nbconvert_exporter": "python",
   "pygments_lexer": "ipython3",
   "version": "3.11.5"
  },
  "orig_nbformat": 4
 },
 "nbformat": 4,
 "nbformat_minor": 2
}
