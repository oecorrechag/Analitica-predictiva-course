{
 "cells": [
  {
   "cell_type": "markdown",
   "metadata": {},
   "source": [
    "# 2.3.9 The 20newsgroups dataset"
   ]
  },
  {
   "cell_type": "code",
   "execution_count": null,
   "metadata": {},
   "outputs": [],
   "source": [
    "%load_ext autoreload\n",
    "%autoreload 2"
   ]
  },
  {
   "cell_type": "code",
   "execution_count": null,
   "metadata": {},
   "outputs": [],
   "source": [
    "import pandas as pd\n",
    "from sklearn.datasets import fetch_20newsgroups\n",
    "from sklearn.datasets import fetch_20newsgroups_vectorized\n",
    "\n",
    "pd.set_option('display.max_columns', None)\n",
    "pd.set_option('display.max_rows', None)\n",
    "import warnings\n",
    "warnings.filterwarnings(\"ignore\")"
   ]
  },
  {
   "cell_type": "markdown",
   "metadata": {},
   "source": [
    "Link: https://scikit-learn.org/stable/modules/generated/sklearn.datasets.fetch_20newsgroups.html#sklearn.datasets.fetch_20newsgroups\n",
    "\n",
    "Este dataset contiene la información de 18.846 mensages clasificados en 20 categorías. El dataset se encuentra dividido en un conjunto de entrenamiento y un conjunto de prueba. La partición de los dos conjuntos se baso en la fecha en la cual se publicó el mensaje únicamente."
   ]
  },
  {
   "cell_type": "code",
   "execution_count": null,
   "metadata": {},
   "outputs": [],
   "source": [
    "bunch = fetch_20newsgroups(\n",
    "    # -----------------------------------------------------\n",
    "    # Specify another download and cache folder for the\n",
    "    # datasets. By default all scikit-learn data is stored\n",
    "    # in ‘~/scikit_learn_data’ subfolders.\n",
    "    data_home=None,\n",
    "    # -----------------------------------------------------\n",
    "    # Select the dataset to load: ‘train’ for the training\n",
    "    # set, ‘test’ for the test set, ‘all’ for both, with\n",
    "    # shuffled ordering.\n",
    "    subset=\"all\",\n",
    "    # -----------------------------------------------------\n",
    "    # If None (default), load all the categories. If not\n",
    "    # None, list of category names to load (other\n",
    "    # categories ignored).\n",
    "    categories=None,\n",
    "    # -----------------------------------------------------\n",
    "    # Whether or not to shuffle the data\n",
    "    shuffle=False,\n",
    "    # -----------------------------------------------------\n",
    "    # Determines random number generation for dataset\n",
    "    # shuffling.\n",
    "    random_state=None,\n",
    "    # -----------------------------------------------------\n",
    "    # May contain any subset of (‘headers’, ‘footers’,\n",
    "    # ‘quotes’). Each of these are kinds of text that will\n",
    "    # be detected and removed from the newsgroup posts,\n",
    "    # preventing classifiers from overfitting on metadata.\n",
    "    #\n",
    "    # ‘headers’ removes newsgroup headers, ‘footers’ removes\n",
    "    # blocks at the ends of posts that look like signatures,\n",
    "    # and ‘quotes’ removes lines that appear to be quoting\n",
    "    # another post.\n",
    "    #\n",
    "    # ‘headers’ follows an exact standard; the other filters\n",
    "    # are not always correct.\n",
    "    remove=(),\n",
    "    # -----------------------------------------------------\n",
    "    # If True, returns (data, target) instead of a Bunch\n",
    "    # object.\n",
    "    return_X_y=False,\n",
    ")\n",
    "\n",
    "bunch.keys()"
   ]
  },
  {
   "cell_type": "code",
   "execution_count": null,
   "metadata": {},
   "outputs": [],
   "source": [
    "bunch.target_names"
   ]
  },
  {
   "cell_type": "code",
   "execution_count": null,
   "metadata": {},
   "outputs": [],
   "source": [
    "bunch.target[:5]"
   ]
  },
  {
   "cell_type": "code",
   "execution_count": null,
   "metadata": {},
   "outputs": [],
   "source": [
    "print(bunch.data[0])"
   ]
  },
  {
   "cell_type": "code",
   "execution_count": null,
   "metadata": {},
   "outputs": [],
   "source": [
    "X, y = fetch_20newsgroups(\n",
    "    # -----------------------------------------------------\n",
    "    # If True, returns (data, target) instead of a Bunch\n",
    "    # object.\n",
    "    return_X_y=True,\n",
    ")\n",
    "\n",
    "display(\n",
    "    X[:2],\n",
    "    y[:2],\n",
    ")"
   ]
  },
  {
   "cell_type": "code",
   "execution_count": null,
   "metadata": {},
   "outputs": [],
   "source": [
    "bunch = fetch_20newsgroups_vectorized(\n",
    "    # -----------------------------------------------------\n",
    "    # Specify another download and cache folder for the\n",
    "    # datasets. By default all scikit-learn data is stored\n",
    "    # in ‘~/scikit_learn_data’ subfolders.\n",
    "    data_home=None,\n",
    "    # -----------------------------------------------------\n",
    "    # Select the dataset to load: ‘train’ for the training\n",
    "    # set, ‘test’ for the test set, ‘all’ for both, with\n",
    "    # shuffled ordering.\n",
    "    subset=\"all\",\n",
    "    # -----------------------------------------------------\n",
    "    # May contain any subset of (‘headers’, ‘footers’,\n",
    "    # ‘quotes’). Each of these are kinds of text that will\n",
    "    # be detected and removed from the newsgroup posts,\n",
    "    # preventing classifiers from overfitting on metadata.\n",
    "    #\n",
    "    # ‘headers’ removes newsgroup headers, ‘footers’ removes\n",
    "    # blocks at the ends of posts that look like signatures,\n",
    "    # and ‘quotes’ removes lines that appear to be quoting\n",
    "    # another post.\n",
    "    #\n",
    "    # ‘headers’ follows an exact standard; the other filters\n",
    "    # are not always correct.\n",
    "    remove=(),\n",
    "    # -----------------------------------------------------\n",
    "    # If True, returns (data, target) instead of a Bunch\n",
    "    # object.\n",
    "    return_X_y=False,\n",
    ")"
   ]
  },
  {
   "cell_type": "code",
   "execution_count": null,
   "metadata": {},
   "outputs": [],
   "source": [
    "bunch.keys()"
   ]
  },
  {
   "cell_type": "code",
   "execution_count": null,
   "metadata": {},
   "outputs": [],
   "source": [
    "bunch.data.shape"
   ]
  },
  {
   "cell_type": "code",
   "execution_count": null,
   "metadata": {},
   "outputs": [],
   "source": [
    "bunch.target"
   ]
  },
  {
   "cell_type": "code",
   "execution_count": null,
   "metadata": {},
   "outputs": [],
   "source": [
    "print('ok_')"
   ]
  }
 ],
 "metadata": {
  "kernelspec": {
   "display_name": "Python 3",
   "language": "python",
   "name": "python3"
  },
  "language_info": {
   "codemirror_mode": {
    "name": "ipython",
    "version": 3
   },
   "file_extension": ".py",
   "mimetype": "text/x-python",
   "name": "python",
   "nbconvert_exporter": "python",
   "pygments_lexer": "ipython3",
   "version": "3.11.5"
  },
  "orig_nbformat": 4
 },
 "nbformat": 4,
 "nbformat_minor": 2
}
