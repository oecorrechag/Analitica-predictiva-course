{
 "cells": [
  {
   "cell_type": "markdown",
   "id": "6bfc8fc6",
   "metadata": {},
   "source": [
    "# 3.1.2 Conjuntos de entrenamiento y prueba"
   ]
  },
  {
   "cell_type": "code",
   "execution_count": null,
   "id": "53b57b40",
   "metadata": {},
   "outputs": [],
   "source": [
    "%load_ext autoreload\n",
    "%autoreload 2"
   ]
  },
  {
   "cell_type": "code",
   "execution_count": null,
   "id": "5fb86f3c",
   "metadata": {},
   "outputs": [],
   "source": [
    "import pandas as pd\n",
    "import numpy as np\n",
    "\n",
    "import matplotlib.pyplot as plt\n",
    "\n",
    "from sklearn.linear_model import LinearRegression\n",
    "from sklearn.pipeline import make_pipeline\n",
    "from sklearn.preprocessing import MinMaxScaler, PolynomialFeatures\n",
    "from sklearn.metrics import mean_squared_error\n",
    "\n",
    "pd.set_option('display.max_columns', None)\n",
    "pd.set_option('display.max_rows', None)\n",
    "import warnings\n",
    "warnings.filterwarnings(\"ignore\")"
   ]
  },
  {
   "cell_type": "markdown",
   "id": "8513e901",
   "metadata": {},
   "source": [
    "## 3.1.2.1 Generación de los datos del experimiento"
   ]
  },
  {
   "cell_type": "code",
   "execution_count": null,
   "id": "028a6daa",
   "metadata": {},
   "outputs": [],
   "source": [
    "#\n",
    "# Función a aproximar\n",
    "# (Proceso geneador de datos)\n",
    "#\n",
    "def f(x):\n",
    "    return 2 * np.abs(np.sin(x * np.pi / 4 + 0.75)) / (1 + 0.1 * x)\n",
    "\n",
    "#\n",
    "# Datos reales.\n",
    "# (No disponibles en la realidad)\n",
    "#\n",
    "x_real = np.linspace(0, 10, 100)\n",
    "x_real = x_real[:, np.newaxis]\n",
    "y_real = f(x_real)"
   ]
  },
  {
   "cell_type": "code",
   "execution_count": null,
   "id": "44f74ec7",
   "metadata": {},
   "outputs": [],
   "source": [
    "#\n",
    "# Muestra de datos.\n",
    "# (Información disponible en la realidad)\n",
    "#\n",
    "rng = np.random.default_rng(12345)\n",
    "\n",
    "x_sample = np.linspace(0, 10, 100)\n",
    "rng.shuffle(x_sample)\n",
    "x_sample = x_sample[:20]\n",
    "x_sample = np.sort(x_sample)\n",
    "\n",
    "y_sample = f(x_sample)\n",
    "X_sample = x_sample[:, np.newaxis]"
   ]
  },
  {
   "cell_type": "markdown",
   "id": "43c4534d",
   "metadata": {},
   "source": [
    "## 3.1.2.2 Muestras en entrenamiento y prueba\n",
    "\n",
    "- La generalización del modelo debe estimarse a partir de los datos disponibles.\n",
    "- Los datos disponibles se dividen en dos conjuntos: uno para ajuste de parámetros del modelo y otro para medir la generalización.\n",
    "- La totalidad de la información es usada para determinar el grado óptimo del polinómio y sus coeficientes.\n",
    "- Esta aproximación es usada en TensorFlow"
   ]
  },
  {
   "cell_type": "code",
   "execution_count": null,
   "id": "ce4c9ff1",
   "metadata": {},
   "outputs": [],
   "source": [
    "from sklearn.model_selection import train_test_split\n",
    "\n",
    "#\n",
    "# Se usan 20 ejemplos para entrenamiento del modelo y los 5 restantes\n",
    "# para medir la generalización.\n",
    "#\n",
    "X_train, X_test, y_train_true, y_test_true = train_test_split(\n",
    "    # --------------------------------------------------------------------------\n",
    "    # Los primeros train_size ejemplos son asignados al conjunto de\n",
    "    # entrenamiento. Del resto de la muestra, los primeros test_size son\n",
    "    # asignados a la muestra de prueba\n",
    "    X_sample,\n",
    "    y_sample,\n",
    "    # --------------------------------------------------------------------------\n",
    "    # Tamaño de la muestra de prueba.\n",
    "    # int: indica la cantidad de muestras\n",
    "    # float: indica el porcentaje y debe estar entre 0.0 y 1.0\n",
    "    test_size=5,\n",
    "    # --------------------------------------------------------------------------\n",
    "    # Tamaño de la muestra de entrenamiento.\n",
    "    # int: indica la cantidad de muestras\n",
    "    # float: indica el porcentaje y debe estar entre 0.0 y 1.0\n",
    "    train_size=None,\n",
    "    # --------------------------------------------------------------------------\n",
    "    # Semilla del generador aleatorio\n",
    "    random_state=12345,\n",
    "    # --------------------------------------------------------------------------\n",
    "    # Mezcla los ejemplos antes de hacer la partición\n",
    "    shuffle=True,\n",
    ")"
   ]
  },
  {
   "cell_type": "markdown",
   "id": "91efd430",
   "metadata": {},
   "source": [
    "## 3.1.2.3 Evaluación para la muestra de datos disponible"
   ]
  },
  {
   "cell_type": "code",
   "execution_count": null,
   "id": "ec8909e8",
   "metadata": {},
   "outputs": [],
   "source": [
    "degrees = list(range(1, 21))\n",
    "\n",
    "mse_train = []\n",
    "mse_test = []\n",
    "\n",
    "for i_degree, degree in enumerate(degrees):\n",
    "\n",
    "    model = make_pipeline(\n",
    "        PolynomialFeatures(degree, include_bias=False),\n",
    "        MinMaxScaler(),\n",
    "        LinearRegression(),\n",
    "    )\n",
    "    model.fit(X_train, y_train_true)\n",
    "\n",
    "    y_train_pred = model.predict(X_train)\n",
    "    y_test_pred = model.predict(X_test)\n",
    "\n",
    "    mse_train.append(mean_squared_error(y_train_true, y_train_pred))\n",
    "    mse_test.append(mean_squared_error(y_test_true, y_test_pred))\n",
    "\n",
    "\n",
    "df = pd.DataFrame(\n",
    "    {\n",
    "        \"Degree\": degrees,\n",
    "        \"MSE train\": mse_train,\n",
    "        \"MSE test\": mse_test,\n",
    "    }\n",
    ").sort_values(\"MSE test\", ascending=True)\n",
    "\n",
    "df"
   ]
  },
  {
   "cell_type": "code",
   "execution_count": null,
   "id": "42b9bbaf",
   "metadata": {},
   "outputs": [],
   "source": [
    "#\n",
    "# Grado óptimo del polinomio\n",
    "#\n",
    "df.Degree.iloc[0]"
   ]
  },
  {
   "cell_type": "markdown",
   "id": "332e4a38",
   "metadata": {},
   "source": [
    "## 3.1.2.4 Pronóstico con el mejor modelo encontrado"
   ]
  },
  {
   "cell_type": "code",
   "execution_count": null,
   "id": "a9fc86c9",
   "metadata": {},
   "outputs": [],
   "source": [
    "optimal_degree = df.Degree.iloc[0]\n",
    "\n",
    "model = make_pipeline(\n",
    "    PolynomialFeatures(optimal_degree, include_bias=False),\n",
    "    MinMaxScaler(),\n",
    "    LinearRegression(),\n",
    ")"
   ]
  },
  {
   "cell_type": "code",
   "execution_count": null,
   "id": "16bfe5ca",
   "metadata": {},
   "outputs": [],
   "source": [
    "#\n",
    "# Opción 1: Modelo óptimo entrenado solo con la muestra de\n",
    "#   entrenamiento.\n",
    "#\n",
    "model.fit(X_train, y_train_true)\n",
    "\n",
    "y_pred = model.predict(x_real)\n",
    "\n",
    "plt.figure(figsize=(5, 5))\n",
    "plt.plot(x_real, y_real, \"--\", color=\"tab:blue\", alpha=0.8, zorder=10)\n",
    "plt.plot(x_sample, y_sample, \"o\", color=\"tab:blue\", alpha=0.8, zorder=10)\n",
    "plt.plot(\n",
    "    X_test,\n",
    "    y_test_true,\n",
    "    \"o\",\n",
    "    color=\"tab:blue\",\n",
    "    alpha=1.0,\n",
    "    zorder=10,\n",
    "    markersize=11,\n",
    "    fillstyle=\"none\",\n",
    ")\n",
    "\n",
    "plt.plot(\n",
    "    x_real,\n",
    "    y_pred,\n",
    "    color=\"black\",\n",
    "    linewidth=2,\n",
    ")\n",
    "\n",
    "plt.xticks([], [])\n",
    "plt.yticks([], [])\n",
    "\n",
    "plt.gca().spines[\"left\"].set_color(\"gray\")\n",
    "plt.gca().spines[\"bottom\"].set_color(\"gray\")\n",
    "plt.gca().spines[\"top\"].set_visible(False)\n",
    "plt.gca().spines[\"right\"].set_visible(False)\n",
    "\n",
    "plt.show()"
   ]
  },
  {
   "cell_type": "code",
   "execution_count": null,
   "id": "5e42fa4f",
   "metadata": {},
   "outputs": [],
   "source": [
    "#\n",
    "# Opción 2: Modelo óptimo entrenado con la totalidad de\n",
    "#   la muestra.\n",
    "#\n",
    "model.fit(X_sample, y_sample)\n",
    "\n",
    "y_pred = model.predict(x_real)\n",
    "\n",
    "plt.figure(figsize=(5, 5))\n",
    "plt.plot(x_real, y_real, \"--\", color=\"tab:blue\", alpha=0.8, zorder=10)\n",
    "plt.plot(x_sample, y_sample, \"o\", color=\"tab:blue\", alpha=0.8, zorder=10)\n",
    "plt.plot(\n",
    "    X_test,\n",
    "    y_test_true,\n",
    "    \"o\",\n",
    "    color=\"tab:blue\",\n",
    "    alpha=1.0,\n",
    "    zorder=10,\n",
    "    markersize=11,\n",
    "    fillstyle=\"none\",\n",
    ")\n",
    "\n",
    "plt.plot(\n",
    "    x_real,\n",
    "    y_pred,\n",
    "    color=\"black\",\n",
    "    linewidth=2,\n",
    ")\n",
    "\n",
    "plt.xticks([], [])\n",
    "plt.yticks([], [])\n",
    "\n",
    "plt.gca().spines[\"left\"].set_color(\"gray\")\n",
    "plt.gca().spines[\"bottom\"].set_color(\"gray\")\n",
    "plt.gca().spines[\"top\"].set_visible(False)\n",
    "plt.gca().spines[\"right\"].set_visible(False)\n",
    "\n",
    "plt.show()"
   ]
  },
  {
   "cell_type": "code",
   "execution_count": null,
   "id": "55e0489e",
   "metadata": {},
   "outputs": [],
   "source": [
    "print('ok_')"
   ]
  }
 ],
 "metadata": {
  "kernelspec": {
   "display_name": "Python 3 (ipykernel)",
   "language": "python",
   "name": "python3"
  },
  "language_info": {
   "codemirror_mode": {
    "name": "ipython",
    "version": 3
   },
   "file_extension": ".py",
   "mimetype": "text/x-python",
   "name": "python",
   "nbconvert_exporter": "python",
   "pygments_lexer": "ipython3",
   "version": "3.11.5"
  },
  "vscode": {
   "interpreter": {
    "hash": "5238573367df39f7286bb46f9ff5f08f63a01a80960060ce41e3c79b190280fa"
   }
  }
 },
 "nbformat": 4,
 "nbformat_minor": 5
}
