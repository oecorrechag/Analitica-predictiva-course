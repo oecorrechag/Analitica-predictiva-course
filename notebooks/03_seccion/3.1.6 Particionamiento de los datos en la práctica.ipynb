{
 "cells": [
  {
   "cell_type": "markdown",
   "id": "abb15a35",
   "metadata": {},
   "source": [
    "# 3.1.6 Particionamiento de los datos en la práctica\n",
    "\n",
    "## 3.1.6.1 Escenario 1\n",
    "\n",
    "Se fijan a mano los valores de los hiperparámetros del modelo y se usan todos los datos disponibles para estimar los valores óptimos de los parámetros.\n",
    "\n",
    "- No se determina el valor óptimo de los hiperparámetros.\n",
    "- No se mide la generalización del modelo.\n",
    "- No se puede analizar el comportamiento del modelo ante datos nuevos nunca antes vistos.\n",
    "\n",
    "## 3.1.6.2 Escenario 2\n",
    "\n",
    "Los datos disponibles se dividen en dos conjuntos: uno para estimar los valores óptimos de los parámetros y el otro para medir la generalización.\n",
    "\n",
    "- Se tantean diferentes valores de los hiperparámetros del modelo y se escoge la óptima a partir de la generalización del modelo.\n",
    "- No se tiene en cuenta la aleatoridad de los resultados debido a la asignación de los datos a cada conjunto.\n",
    "- No se puede analizar el comportamiento del modelo ante datos nuevos nunca antes vistos.\n",
    "\n",
    "## 3.1.6.3 Escenario 3\n",
    "\n",
    "Los datos disponibles se dividen en dos conjuntos: uno de entrenamiento y otro de pronóstico.\n",
    "\n",
    "- El conjunto de entrenamiento se usa para estimar tanto el valor óptimo de los hiperparámetros usando validación cruzada, como de los parámetros para el modelo con configuración óptima.\n",
    "- La muestra de pronóstico se usa para evaluar el comportamiento del modelo ante datos nunca antes vistos, y es una aproximación a como se desempeñaría el modelo en productivo."
   ]
  },
  {
   "cell_type": "code",
   "execution_count": 7,
   "id": "55e0489e",
   "metadata": {},
   "outputs": [
    {
     "name": "stdout",
     "output_type": "stream",
     "text": [
      "ok_\n"
     ]
    }
   ],
   "source": [
    "print('ok_')"
   ]
  }
 ],
 "metadata": {
  "kernelspec": {
   "display_name": "Python 3 (ipykernel)",
   "language": "python",
   "name": "python3"
  },
  "language_info": {
   "codemirror_mode": {
    "name": "ipython",
    "version": 3
   },
   "file_extension": ".py",
   "mimetype": "text/x-python",
   "name": "python",
   "nbconvert_exporter": "python",
   "pygments_lexer": "ipython3",
   "version": "3.11.5"
  },
  "vscode": {
   "interpreter": {
    "hash": "5238573367df39f7286bb46f9ff5f08f63a01a80960060ce41e3c79b190280fa"
   }
  }
 },
 "nbformat": 4,
 "nbformat_minor": 5
}
