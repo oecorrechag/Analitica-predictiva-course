{
 "cells": [
  {
   "cell_type": "markdown",
   "id": "6bfc8fc6",
   "metadata": {},
   "source": [
    "# 3.2.1 Evaluación de métricas con cross_validate"
   ]
  },
  {
   "cell_type": "code",
   "execution_count": 1,
   "id": "53b57b40",
   "metadata": {},
   "outputs": [],
   "source": [
    "%load_ext autoreload\n",
    "%autoreload 2"
   ]
  },
  {
   "cell_type": "code",
   "execution_count": 2,
   "id": "5fb86f3c",
   "metadata": {},
   "outputs": [],
   "source": [
    "import pandas as pd\n",
    "import numpy as np\n",
    "\n",
    "from sklearn import datasets, linear_model\n",
    "from sklearn.model_selection import cross_validate\n",
    "\n",
    "pd.set_option('display.max_columns', None)\n",
    "pd.set_option('display.max_rows', None)\n",
    "import warnings\n",
    "warnings.filterwarnings(\"ignore\")"
   ]
  },
  {
   "cell_type": "markdown",
   "id": "80c6616c",
   "metadata": {},
   "source": [
    "Evalua las métricas indicadas para cada uno de los grupos de test generados cuando se usa un esquema de validación cruzada.\n",
    "\n",
    "- Permite muliples métricas para evaluación.\n",
    "- Retorna un diccionario conteniendo los tiempos de entrenamiento y scoring, y el resultado del test."
   ]
  },
  {
   "cell_type": "markdown",
   "id": "8513e901",
   "metadata": {},
   "source": [
    "## 3.2.1.1 Generación de los datos del experimiento"
   ]
  },
  {
   "cell_type": "code",
   "execution_count": 3,
   "id": "028a6daa",
   "metadata": {},
   "outputs": [],
   "source": [
    "diabetes = datasets.load_diabetes()\n",
    "X = diabetes.data[:150]\n",
    "y = diabetes.target[:150]\n",
    "\n",
    "estimator = linear_model.Lasso()"
   ]
  },
  {
   "cell_type": "code",
   "execution_count": 4,
   "id": "44f74ec7",
   "metadata": {},
   "outputs": [
    {
     "data": {
      "text/plain": [
       "['fit_time', 'score_time', 'test_score']"
      ]
     },
     "execution_count": 4,
     "metadata": {},
     "output_type": "execute_result"
    }
   ],
   "source": [
    "cv_results = cross_validate(\n",
    "    # -------------------------------------------------------------------------\n",
    "    # The object to use to fit the data. Must implement fit()\n",
    "    estimator=estimator,\n",
    "    # -------------------------------------------------------------------------\n",
    "    # The data to fit. Can be for example a list, or an array.\n",
    "    X=X,\n",
    "    # -------------------------------------------------------------------------\n",
    "    # The target variable to try to predict in the case of supervised learning.\n",
    "    y=y,\n",
    "    # -------------------------------------------------------------------------\n",
    "    # Group labels for the samples used while splitting the dataset into\n",
    "    # train/test set. Only used in conjunction with a “Group” cv instance\n",
    "    # (e.g., GroupKFold).\n",
    "    groups=None,\n",
    "    # -------------------------------------------------------------------------\n",
    "    # Strategy to evaluate the performance of the cross-validated model on the\n",
    "    # test set.\n",
    "    scoring=None,\n",
    "    # -------------------------------------------------------------------------\n",
    "    # Determines the cross-validation splitting strategy.\n",
    "    cv=3,\n",
    "    # -------------------------------------------------------------------------\n",
    "    # The verbosity level.\n",
    "    verbose=0,\n",
    "    # -------------------------------------------------------------------------\n",
    "    # Parameters to pass to the fit method of the estimator.\n",
    "    fit_params=None,\n",
    "    # -------------------------------------------------------------------------\n",
    "    # Whether to include train scores.\n",
    "    return_train_score=False,\n",
    "    # -------------------------------------------------------------------------\n",
    "    # Whether to return the estimators fitted on each split.\n",
    "    return_estimator=False,\n",
    "    # -------------------------------------------------------------------------\n",
    "    # Value to assign to the score if an error occurs in estimator fitting.\n",
    "    error_score=np.nan,\n",
    ")\n",
    "\n",
    "sorted(cv_results.keys())"
   ]
  },
  {
   "cell_type": "code",
   "execution_count": 5,
   "id": "e69f4b52",
   "metadata": {},
   "outputs": [
    {
     "data": {
      "text/plain": [
       "array([0.3315057 , 0.08022103, 0.03531816])"
      ]
     },
     "execution_count": 5,
     "metadata": {},
     "output_type": "execute_result"
    }
   ],
   "source": [
    "cv_results[\"test_score\"]"
   ]
  },
  {
   "cell_type": "code",
   "execution_count": 6,
   "id": "c02f19c0",
   "metadata": {},
   "outputs": [
    {
     "data": {
      "text/plain": [
       "array([-3635.52042005, -3573.35050281, -6114.77901585])"
      ]
     },
     "execution_count": 6,
     "metadata": {},
     "output_type": "execute_result"
    }
   ],
   "source": [
    "scores = cross_validate(\n",
    "    estimator,\n",
    "    X,\n",
    "    y,\n",
    "    cv=3,\n",
    "    scoring=(\"r2\", \"neg_mean_squared_error\"),\n",
    "    return_train_score=True,\n",
    ")\n",
    "\n",
    "scores[\"test_neg_mean_squared_error\"]"
   ]
  },
  {
   "cell_type": "code",
   "execution_count": 7,
   "id": "8cd62ffd",
   "metadata": {},
   "outputs": [
    {
     "data": {
      "text/plain": [
       "array([0.28009951, 0.3908844 , 0.22784907])"
      ]
     },
     "execution_count": 7,
     "metadata": {},
     "output_type": "execute_result"
    }
   ],
   "source": [
    "scores[\"train_r2\"]"
   ]
  },
  {
   "cell_type": "code",
   "execution_count": 8,
   "id": "33540ece",
   "metadata": {},
   "outputs": [
    {
     "data": {
      "text/plain": [
       "[Lasso(), Lasso(), Lasso()]"
      ]
     },
     "execution_count": 8,
     "metadata": {},
     "output_type": "execute_result"
    }
   ],
   "source": [
    "scores = cross_validate(\n",
    "    estimator,\n",
    "    X,\n",
    "    y,\n",
    "    cv=3,\n",
    "    scoring=(\"r2\", \"neg_mean_squared_error\"),\n",
    "    return_estimator=True,\n",
    ")\n",
    "\n",
    "scores['estimator']"
   ]
  },
  {
   "cell_type": "code",
   "execution_count": 9,
   "id": "55e0489e",
   "metadata": {},
   "outputs": [
    {
     "name": "stdout",
     "output_type": "stream",
     "text": [
      "ok_\n"
     ]
    }
   ],
   "source": [
    "print('ok_')"
   ]
  }
 ],
 "metadata": {
  "kernelspec": {
   "display_name": "Python 3 (ipykernel)",
   "language": "python",
   "name": "python3"
  },
  "language_info": {
   "codemirror_mode": {
    "name": "ipython",
    "version": 3
   },
   "file_extension": ".py",
   "mimetype": "text/x-python",
   "name": "python",
   "nbconvert_exporter": "python",
   "pygments_lexer": "ipython3",
   "version": "3.11.5"
  },
  "vscode": {
   "interpreter": {
    "hash": "5238573367df39f7286bb46f9ff5f08f63a01a80960060ce41e3c79b190280fa"
   }
  }
 },
 "nbformat": 4,
 "nbformat_minor": 5
}
