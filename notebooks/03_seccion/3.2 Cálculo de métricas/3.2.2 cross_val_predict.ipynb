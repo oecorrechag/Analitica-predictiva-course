{
 "cells": [
  {
   "cell_type": "markdown",
   "id": "6bfc8fc6",
   "metadata": {},
   "source": [
    "# 3.2.2 Generación de estimados por cada entrada con cross_val_predict"
   ]
  },
  {
   "cell_type": "code",
   "execution_count": null,
   "id": "53b57b40",
   "metadata": {},
   "outputs": [],
   "source": [
    "%load_ext autoreload\n",
    "%autoreload 2"
   ]
  },
  {
   "cell_type": "code",
   "execution_count": null,
   "id": "5fb86f3c",
   "metadata": {},
   "outputs": [],
   "source": [
    "import pandas as pd\n",
    "import numpy as np\n",
    "\n",
    "from sklearn import datasets, linear_model\n",
    "from sklearn.model_selection import cross_val_predict\n",
    "\n",
    "pd.set_option('display.max_columns', None)\n",
    "pd.set_option('display.max_rows', None)\n",
    "import warnings\n",
    "warnings.filterwarnings(\"ignore\")"
   ]
  },
  {
   "cell_type": "markdown",
   "id": "80c6616c",
   "metadata": {},
   "source": [
    "- Genera estimados usando validación cruzada para cada punto del dataset.\n",
    "- Cada muestra pertenece únicamente a un test set, y es pronosticada con estimador entrenado sobre el correspondiente fit test.\n",
    "- Los resultados no se deben usar con una métrica de evaluación para medir la generalización."
   ]
  },
  {
   "cell_type": "markdown",
   "id": "8513e901",
   "metadata": {},
   "source": [
    "## 3.2.2.1 Generación de los datos del experimiento"
   ]
  },
  {
   "cell_type": "code",
   "execution_count": null,
   "id": "1eff46d9",
   "metadata": {},
   "outputs": [],
   "source": [
    "diabetes = datasets.load_diabetes()\n",
    "X = diabetes.data[:150]\n",
    "y = diabetes.target[:150]\n",
    "\n",
    "lasso = linear_model.Lasso()"
   ]
  },
  {
   "cell_type": "code",
   "execution_count": null,
   "id": "028a6daa",
   "metadata": {},
   "outputs": [],
   "source": [
    "y_pred = cross_val_predict(\n",
    "    # -------------------------------------------------------------------------\n",
    "    # The object to use to fit the data. Must implement fit()\n",
    "    estimator=lasso,\n",
    "    # -------------------------------------------------------------------------\n",
    "    # The data to fit. Can be for example a list, or an array.\n",
    "    X=X,\n",
    "    # -------------------------------------------------------------------------\n",
    "    # The target variable to try to predict in the case of supervised learning.\n",
    "    y=y,\n",
    "    # -------------------------------------------------------------------------\n",
    "    # Group labels for the samples used while splitting the dataset into\n",
    "    # train/test set. Only used in conjunction with a “Group” cv instance\n",
    "    # (e.g., GroupKFold).\n",
    "    groups=None,\n",
    "    # -------------------------------------------------------------------------\n",
    "    # Determines the cross-validation splitting strategy.\n",
    "    cv=3,\n",
    "    # -------------------------------------------------------------------------\n",
    "    # The verbosity level.\n",
    "    verbose=0,\n",
    "    # -------------------------------------------------------------------------\n",
    "    # Parameters to pass to the fit method of the estimator.\n",
    "    fit_params=None,\n",
    "    # -------------------------------------------------------------------------\n",
    "    # The method to be invoked by estimator.\n",
    "    # * 'predict'\n",
    "    # * 'predict_proba'\n",
    "    # * 'predict_log_proba'\n",
    "    # * 'decision_function'\n",
    "    method='predict',\n",
    ")\n",
    "\n",
    "y_pred"
   ]
  },
  {
   "cell_type": "code",
   "execution_count": null,
   "id": "db529ad8",
   "metadata": {},
   "outputs": [],
   "source": [
    "print('ok_')"
   ]
  }
 ],
 "metadata": {
  "kernelspec": {
   "display_name": "Python 3 (ipykernel)",
   "language": "python",
   "name": "python3"
  },
  "language_info": {
   "codemirror_mode": {
    "name": "ipython",
    "version": 3
   },
   "file_extension": ".py",
   "mimetype": "text/x-python",
   "name": "python",
   "nbconvert_exporter": "python",
   "pygments_lexer": "ipython3",
   "version": "3.11.5"
  },
  "vscode": {
   "interpreter": {
    "hash": "5238573367df39f7286bb46f9ff5f08f63a01a80960060ce41e3c79b190280fa"
   }
  }
 },
 "nbformat": 4,
 "nbformat_minor": 5
}
