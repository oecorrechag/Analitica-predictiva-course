{
 "cells": [
  {
   "cell_type": "markdown",
   "id": "6bfc8fc6",
   "metadata": {},
   "source": [
    "# 3.2.4 Determinación del tamaño óptimo del dataset con learning_curve"
   ]
  },
  {
   "cell_type": "code",
   "execution_count": null,
   "id": "53b57b40",
   "metadata": {},
   "outputs": [],
   "source": [
    "%load_ext autoreload\n",
    "%autoreload 2"
   ]
  },
  {
   "cell_type": "code",
   "execution_count": null,
   "id": "5fb86f3c",
   "metadata": {},
   "outputs": [],
   "source": [
    "import pandas as pd\n",
    "import numpy as np\n",
    "\n",
    "import matplotlib.pyplot as plt\n",
    "\n",
    "from sklearn.datasets import load_digits\n",
    "from sklearn.model_selection import ShuffleSplit, learning_curve\n",
    "from sklearn.svm import SVC\n",
    "\n",
    "pd.set_option('display.max_columns', None)\n",
    "pd.set_option('display.max_rows', None)\n",
    "import warnings\n",
    "warnings.filterwarnings(\"ignore\")"
   ]
  },
  {
   "cell_type": "markdown",
   "id": "8513e901",
   "metadata": {},
   "source": [
    "## 3.2.4.1 Definición\n",
    "\n",
    "Esta función permite computar los scores para los conjuntos de entrenamiento y validación para diferentes tamaños del dataset de entrenamiento.\n",
    "\n",
    "- El dataset es dividido k veces en entrenamiento y validación.\n",
    "- Los subconjuntos del dataset de entrenamiento con diferentes tamaños son usados para entrenar el estimador.\n",
    "- Para cada tamaño, se computa el score para los conjuntos de entrenamiento y validación.\n",
    "- Los scores computados son promediados sobre las k corridas para cada tamaño del conjunto de entrenamiento.\n",
    "\n",
    "Esta curva permite determinar:\n",
    "\n",
    "- Si es beneficioso adicionar más patrones de entrenamiento para mejorar la generalización.\n",
    "- Comportamiento respeto al dilema bias-variance.\n",
    "- Tiempos requeridos de cómputo como función de la cantidad de patrones."
   ]
  },
  {
   "cell_type": "markdown",
   "id": "996bbd5d",
   "metadata": {},
   "source": [
    "## 3.2.4.2 Preparación - Parámetros de la corrida"
   ]
  },
  {
   "cell_type": "code",
   "execution_count": null,
   "id": "1eff46d9",
   "metadata": {},
   "outputs": [],
   "source": [
    "#\n",
    "# Preparación de los parámetros\n",
    "#\n",
    "X, y = load_digits(return_X_y=True)\n",
    "\n",
    "cv = ShuffleSplit(n_splits=100, test_size=0.2, random_state=0)\n",
    "\n",
    "train_sizes = np.linspace(0.1, 1.0, 5)"
   ]
  },
  {
   "cell_type": "markdown",
   "id": "c706e1b1",
   "metadata": {},
   "source": [
    "## 3.2.4.3 Cómputo de la curva de aprendizaje"
   ]
  },
  {
   "cell_type": "code",
   "execution_count": null,
   "id": "811ed0d1",
   "metadata": {},
   "outputs": [],
   "source": [
    "#\n",
    "# La función retorna los siguientes resultados:\n",
    "#\n",
    "#   train_sizes_abs: Numbers of training examples that has been used to\n",
    "#     generate the learning curve\n",
    "#\n",
    "#   train_scores: Scores on training sets.\n",
    "#\n",
    "#   test_scores: Scores on test set\n",
    "#\n",
    "#   fit_times: Times spent for fitting in seconds. Only present if\n",
    "#     return_times is True.\n",
    "#\n",
    "#   score_times: Times spent for scoring in seconds. Only present\n",
    "#     if return_times is True\n",
    "#\n",
    "train_sizes_abs, train_scores, test_scores, fit_times, score_times = learning_curve(\n",
    "    # -------------------------------------------------------------------------\n",
    "    # An object of that type which is cloned for each validation.\n",
    "    estimator=SVC(),\n",
    "    # -------------------------------------------------------------------------\n",
    "    # Training vector, where n_samples is the number of samples and n_features\n",
    "    # is the number of features.\n",
    "    X=X,\n",
    "    # -------------------------------------------------------------------------\n",
    "    # Target relative to X for classification or regression\n",
    "    y=y,\n",
    "    # -------------------------------------------------------------------------\n",
    "    # Determines the cross-validation splitting strategy\n",
    "    cv=cv,\n",
    "    # -------------------------------------------------------------------------\n",
    "    # Relative or absolute numbers of training examples that will be used to\n",
    "    # generate the learning curve.\n",
    "    train_sizes=train_sizes,\n",
    "    # -------------------------------------------------------------------------\n",
    "    # Whether to return the fit and score times.\n",
    "    return_times=True,\n",
    ")"
   ]
  },
  {
   "cell_type": "markdown",
   "id": "a240abdf",
   "metadata": {},
   "source": [
    "## 3.2.4.4 Resultados devueltos por la función"
   ]
  },
  {
   "cell_type": "code",
   "execution_count": null,
   "id": "8b707335",
   "metadata": {},
   "outputs": [],
   "source": [
    "display(\n",
    "    train_sizes.shape,\n",
    "    test_scores.shape,\n",
    "    train_scores.shape,\n",
    "    fit_times.shape,\n",
    "    score_times.shape,\n",
    ")"
   ]
  },
  {
   "cell_type": "code",
   "execution_count": null,
   "id": "364dc3a5",
   "metadata": {},
   "outputs": [],
   "source": [
    "#\n",
    "# Computa la media y la desviación estándar\n",
    "#\n",
    "def compute_mean_std(x):\n",
    "    return np.mean(x, axis=1), np.std(x, axis=1)\n",
    "\n",
    "\n",
    "train_scores_mean, train_scores_std = compute_mean_std(train_scores)\n",
    "test_scores_mean, test_scores_std = compute_mean_std(test_scores)\n",
    "fit_times_mean, fit_times_std = compute_mean_std(fit_times)\n",
    "score_times_mean, score_times_std = compute_mean_std(score_times)"
   ]
  },
  {
   "cell_type": "markdown",
   "id": "d5c100a5",
   "metadata": {},
   "source": [
    "## 3.2.4.5 Funciones auxiliares"
   ]
  },
  {
   "cell_type": "code",
   "execution_count": null,
   "id": "95567e68",
   "metadata": {},
   "outputs": [],
   "source": [
    "def plot_result(x, mean, std, color, label=None):\n",
    "    plt.fill_between(x, mean - std, mean + std, alpha=0.1, color=color)\n",
    "    plt.plot(x, mean, \"o-\", color=color, label=label)\n",
    "\n",
    "\n",
    "def format_plot():\n",
    "    plt.gca().grid()\n",
    "    plt.gca().spines[\"left\"].set_color(\"gray\")\n",
    "    plt.gca().spines[\"bottom\"].set_color(\"gray\")\n",
    "    plt.gca().spines[\"top\"].set_visible(False)\n",
    "    plt.gca().spines[\"right\"].set_visible(False)"
   ]
  },
  {
   "cell_type": "markdown",
   "id": "04921fb2",
   "metadata": {},
   "source": [
    "## 3.2.4.6 Gráfica train_scores vs train_sizes"
   ]
  },
  {
   "cell_type": "code",
   "execution_count": null,
   "id": "ba022e70",
   "metadata": {},
   "outputs": [],
   "source": [
    "plt.figure(figsize=(7, 7))\n",
    "\n",
    "plot_result(\n",
    "    x=train_sizes,\n",
    "    mean=train_scores_mean,\n",
    "    std=train_scores_std,\n",
    "    color=\"tab:orange\",\n",
    "    label=\"train_scores\",\n",
    ")\n",
    "\n",
    "plot_result(\n",
    "    x=train_sizes,\n",
    "    mean=test_scores_mean,\n",
    "    std=test_scores_std,\n",
    "    color=\"tab:green\",\n",
    "    label=\"test_scores\",\n",
    ")\n",
    "\n",
    "format_plot()\n",
    "plt.legend(loc=\"best\")\n",
    "plt.xlabel(\"train_sizes\")\n",
    "plt.ylabel(\"scores\")\n",
    "plt.show()"
   ]
  },
  {
   "cell_type": "markdown",
   "id": "575618f3",
   "metadata": {},
   "source": [
    "## 3.2.4.7 Gráfica fit_times vs train_sizes"
   ]
  },
  {
   "cell_type": "code",
   "execution_count": null,
   "id": "5e2347e3",
   "metadata": {},
   "outputs": [],
   "source": [
    "plt.figure(figsize=(7, 7))\n",
    "\n",
    "plot_result(\n",
    "    x=train_sizes,\n",
    "    mean=fit_times_mean,\n",
    "    std=fit_times_std,\n",
    "    color=\"tab:blue\",\n",
    ")\n",
    "\n",
    "\n",
    "format_plot()\n",
    "\n",
    "plt.xlabel(\"train_sizes\")\n",
    "plt.ylabel(\"fit_times\")\n",
    "plt.show()"
   ]
  },
  {
   "cell_type": "markdown",
   "id": "a5c20afe",
   "metadata": {},
   "source": [
    "## 3.2.4.8 Gráfica test_scores vs fit_times"
   ]
  },
  {
   "cell_type": "code",
   "execution_count": null,
   "id": "c82a4dc7",
   "metadata": {},
   "outputs": [],
   "source": [
    "plt.figure(figsize=(7, 7))\n",
    "\n",
    "plot_result(\n",
    "    x=fit_times_mean, mean=test_scores_mean, std=test_scores_std, color=\"tab:blue\"\n",
    ")\n",
    "\n",
    "format_plot()\n",
    "\n",
    "plt.xlabel(\"Fit times\")\n",
    "plt.ylabel(\"Test score\")\n",
    "plt.show()"
   ]
  },
  {
   "cell_type": "markdown",
   "id": "e7e7e18c",
   "metadata": {},
   "source": [
    "## 3.2.4.9 Gráfica score_times vs train_sizes"
   ]
  },
  {
   "cell_type": "code",
   "execution_count": null,
   "id": "e51be95b",
   "metadata": {},
   "outputs": [],
   "source": [
    "plt.figure(figsize=(7, 7))\n",
    "\n",
    "plot_result(x=train_sizes, mean=score_times_mean, std=score_times_std, color=\"tab:blue\")\n",
    "format_plot()\n",
    "\n",
    "plt.xlabel(\"Training examples\")\n",
    "plt.ylabel(\"score_times\")\n",
    "plt.show()"
   ]
  },
  {
   "cell_type": "markdown",
   "id": "a93bd3c8",
   "metadata": {},
   "source": [
    "## 3.2.4.10 Gráfica test_scores vs score_times"
   ]
  },
  {
   "cell_type": "code",
   "execution_count": null,
   "id": "13b7cb57",
   "metadata": {},
   "outputs": [],
   "source": [
    "plt.figure(figsize=(7, 7))\n",
    "\n",
    "plot_result(\n",
    "    x=score_times_mean,\n",
    "    mean=test_scores_mean,\n",
    "    std=test_scores_std,\n",
    "    color=\"tab:blue\",\n",
    ")\n",
    "\n",
    "\n",
    "format_plot()\n",
    "\n",
    "plt.xlabel(\"Score times\")\n",
    "plt.ylabel(\"Test scores\")\n",
    "plt.show()"
   ]
  },
  {
   "cell_type": "code",
   "execution_count": null,
   "id": "db529ad8",
   "metadata": {},
   "outputs": [],
   "source": [
    "print('ok_')"
   ]
  }
 ],
 "metadata": {
  "kernelspec": {
   "display_name": "Python 3 (ipykernel)",
   "language": "python",
   "name": "python3"
  },
  "language_info": {
   "codemirror_mode": {
    "name": "ipython",
    "version": 3
   },
   "file_extension": ".py",
   "mimetype": "text/x-python",
   "name": "python",
   "nbconvert_exporter": "python",
   "pygments_lexer": "ipython3",
   "version": "3.11.5"
  },
  "vscode": {
   "interpreter": {
    "hash": "5238573367df39f7286bb46f9ff5f08f63a01a80960060ce41e3c79b190280fa"
   }
  }
 },
 "nbformat": 4,
 "nbformat_minor": 5
}
