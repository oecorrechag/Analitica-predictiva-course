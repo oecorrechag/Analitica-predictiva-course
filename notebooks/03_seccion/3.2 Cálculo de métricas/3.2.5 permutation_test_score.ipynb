{
 "cells": [
  {
   "cell_type": "markdown",
   "id": "6bfc8fc6",
   "metadata": {},
   "source": [
    "# 3.2.5 Test de permutación de un score con permutation_test_score"
   ]
  },
  {
   "cell_type": "code",
   "execution_count": null,
   "id": "53b57b40",
   "metadata": {},
   "outputs": [],
   "source": [
    "%load_ext autoreload\n",
    "%autoreload 2"
   ]
  },
  {
   "cell_type": "code",
   "execution_count": null,
   "id": "5fb86f3c",
   "metadata": {},
   "outputs": [],
   "source": [
    "import pandas as pd\n",
    "import numpy as np\n",
    "\n",
    "import matplotlib.pyplot as plt\n",
    "\n",
    "from sklearn.datasets import load_iris\n",
    "from sklearn.model_selection import StratifiedKFold, permutation_test_score\n",
    "from sklearn.svm import SVC\n",
    "\n",
    "pd.set_option('display.max_columns', None)\n",
    "pd.set_option('display.max_rows', None)\n",
    "import warnings\n",
    "warnings.filterwarnings(\"ignore\")"
   ]
  },
  {
   "cell_type": "markdown",
   "id": "80c6616c",
   "metadata": {},
   "source": [
    "- Evalua la significancia de un score computado con validación cruzada usando permutaciones.\n",
    "- Se permuta la variable de salida para generar datos aleatorios y computar un valor p empírico en contra de la hipótesis nula de que las variables de entrada y la salida son independientes."
   ]
  },
  {
   "cell_type": "code",
   "execution_count": null,
   "id": "3dd36343",
   "metadata": {},
   "outputs": [],
   "source": [
    "iris = load_iris()\n",
    "X = iris.data\n",
    "y = iris.target"
   ]
  },
  {
   "cell_type": "markdown",
   "id": "8513e901",
   "metadata": {},
   "source": [
    "## 3.2.5.1 Experimento 1"
   ]
  },
  {
   "cell_type": "code",
   "execution_count": null,
   "id": "1eff46d9",
   "metadata": {},
   "outputs": [],
   "source": [
    "clf = SVC(kernel=\"linear\", random_state=7)\n",
    "cv = StratifiedKFold(2, shuffle=True, random_state=0)\n",
    "\n",
    "score, permutation_scores, pvalue = permutation_test_score(\n",
    "    # -------------------------------------------------------------------------\n",
    "    # The object to use to fit the data.\n",
    "    estimator=clf,\n",
    "    # -------------------------------------------------------------------------\n",
    "    # The data to fit.\n",
    "    X=X,\n",
    "    # -------------------------------------------------------------------------\n",
    "    # The target variable to try to predict in the case of supervised learning.\n",
    "    y=y,\n",
    "    # -------------------------------------------------------------------------\n",
    "    # Labels to constrain permutation within groups, i.e. y values are permuted\n",
    "    # among samples with the same group identifier. When not specified,\n",
    "    # y values are permuted among all samples.\n",
    "    groups=None,\n",
    "    # -------------------------------------------------------------------------\n",
    "    # Metric\n",
    "    scoring=\"accuracy\",\n",
    "    # -------------------------------------------------------------------------\n",
    "    # Determines the cross-validation splitting strategy.\n",
    "    cv=cv,\n",
    "    # -------------------------------------------------------------------------\n",
    "    # Number of times to permute y.\n",
    "    n_permutations=1000,\n",
    "    # -------------------------------------------------------------------------\n",
    "    # Pass an int for reproducible output for permutation of y values among\n",
    "    # samples.\n",
    "    random_state=0,\n",
    "    # -------------------------------------------------------------------------\n",
    "    # The verbosity level.\n",
    "    verbose=0,\n",
    "    # -------------------------------------------------------------------------\n",
    "    # Parameters to pass to the fit method of the estimator.\n",
    "    fit_params=None,\n",
    ")\n",
    "\n",
    "score"
   ]
  },
  {
   "cell_type": "code",
   "execution_count": null,
   "id": "6cdb5d61",
   "metadata": {},
   "outputs": [],
   "source": [
    "permutation_scores[:10]"
   ]
  },
  {
   "cell_type": "code",
   "execution_count": null,
   "id": "dec1ba1d",
   "metadata": {},
   "outputs": [],
   "source": [
    "pvalue"
   ]
  },
  {
   "cell_type": "code",
   "execution_count": null,
   "id": "1b772865",
   "metadata": {},
   "outputs": [],
   "source": [
    "fig, ax = plt.subplots()\n",
    "\n",
    "ax.hist(permutation_scores, bins=20, density=True)\n",
    "ax.axvline(score, ls=\"--\", color=\"r\")\n",
    "score_label = f\"Score on original\\ndata: {score:.2f}\\n(p-value: {pvalue:.3f})\"\n",
    "ax.text(0.7, 10, score_label, fontsize=12)\n",
    "ax.set_xlabel(\"Accuracy score\")\n",
    "ax.set_ylabel(\"Probability\")\n",
    "plt.show()"
   ]
  },
  {
   "cell_type": "markdown",
   "id": "ed36286b",
   "metadata": {},
   "source": [
    "## 3.2.5.2 Experimento 2"
   ]
  },
  {
   "cell_type": "code",
   "execution_count": null,
   "id": "715dbe76",
   "metadata": {},
   "outputs": [],
   "source": [
    "n_uncorrelated_features = 20\n",
    "rng = np.random.RandomState(seed=0)\n",
    "X_rand = rng.normal(size=(X.shape[0], n_uncorrelated_features))"
   ]
  },
  {
   "cell_type": "code",
   "execution_count": null,
   "id": "94688388",
   "metadata": {},
   "outputs": [],
   "source": [
    "score, permutation_scores, pvalue = permutation_test_score(\n",
    "    clf,\n",
    "    X_rand,\n",
    "    y,\n",
    "    scoring=\"accuracy\",\n",
    "    cv=cv,\n",
    "    n_permutations=1000,\n",
    ")\n",
    "\n",
    "score"
   ]
  },
  {
   "cell_type": "code",
   "execution_count": null,
   "id": "20d214ce",
   "metadata": {},
   "outputs": [],
   "source": [
    "permutation_scores[:10]"
   ]
  },
  {
   "cell_type": "code",
   "execution_count": null,
   "id": "9dcb9314",
   "metadata": {},
   "outputs": [],
   "source": [
    "pvalue"
   ]
  },
  {
   "cell_type": "code",
   "execution_count": null,
   "id": "51219fae",
   "metadata": {},
   "outputs": [],
   "source": [
    "fig, ax = plt.subplots()\n",
    "\n",
    "ax.hist(permutation_scores, bins=20, density=True)\n",
    "ax.axvline(score, ls=\"--\", color=\"r\")\n",
    "score_label = f\"Score on original\\ndata: {score:.2f}\\n(p-value: {pvalue:.3f})\"\n",
    "ax.text(0.7, 10, score_label, fontsize=12)\n",
    "ax.set_xlabel(\"Accuracy score\")\n",
    "ax.set_ylabel(\"Probability\")\n",
    "plt.show()"
   ]
  },
  {
   "cell_type": "code",
   "execution_count": null,
   "id": "db529ad8",
   "metadata": {},
   "outputs": [],
   "source": [
    "print('ok_')"
   ]
  }
 ],
 "metadata": {
  "kernelspec": {
   "display_name": "Python 3 (ipykernel)",
   "language": "python",
   "name": "python3"
  },
  "language_info": {
   "codemirror_mode": {
    "name": "ipython",
    "version": 3
   },
   "file_extension": ".py",
   "mimetype": "text/x-python",
   "name": "python",
   "nbconvert_exporter": "python",
   "pygments_lexer": "ipython3",
   "version": "3.11.5"
  },
  "vscode": {
   "interpreter": {
    "hash": "5238573367df39f7286bb46f9ff5f08f63a01a80960060ce41e3c79b190280fa"
   }
  }
 },
 "nbformat": 4,
 "nbformat_minor": 5
}
