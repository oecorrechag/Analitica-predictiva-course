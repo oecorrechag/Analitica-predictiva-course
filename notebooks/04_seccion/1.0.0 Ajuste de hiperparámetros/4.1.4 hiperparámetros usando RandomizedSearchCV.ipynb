{
 "cells": [
  {
   "cell_type": "markdown",
   "id": "6bfc8fc6",
   "metadata": {},
   "source": [
    "# 4.1.4 Búsqueda aleatoria de hiperparámetros usando RandomizedSearchCV"
   ]
  },
  {
   "cell_type": "code",
   "execution_count": 7,
   "id": "53b57b40",
   "metadata": {},
   "outputs": [
    {
     "name": "stdout",
     "output_type": "stream",
     "text": [
      "The autoreload extension is already loaded. To reload it, use:\n",
      "  %reload_ext autoreload\n"
     ]
    }
   ],
   "source": [
    "%load_ext autoreload\n",
    "%autoreload 2"
   ]
  },
  {
   "cell_type": "code",
   "execution_count": 8,
   "id": "5fb86f3c",
   "metadata": {},
   "outputs": [],
   "source": [
    "from sklearn.datasets import load_digits\n",
    "from sklearn.model_selection import train_test_split\n",
    "\n",
    "import scipy\n",
    "from sklearn.model_selection import RandomizedSearchCV\n",
    "from sklearn.svm import SVC\n",
    "\n",
    "import warnings\n",
    "warnings.filterwarnings(\"ignore\")"
   ]
  },
  {
   "cell_type": "markdown",
   "id": "28524fe2",
   "metadata": {},
   "source": [
    "## 4.1.4.1 Parametrización de la búsqueda"
   ]
  },
  {
   "cell_type": "code",
   "execution_count": 9,
   "id": "4c762bd1",
   "metadata": {},
   "outputs": [],
   "source": [
    "param_distributions = [\n",
    "    # -------------------------------------------------------------------------\n",
    "    # Selección aleatoria de valores para el primer modelo\n",
    "    {\n",
    "        \"kernel\": [\"rbf\"],\n",
    "        \"gamma\": scipy.stats.expon(scale=0.1),\n",
    "        \"C\": scipy.stats.expon(scale=100),\n",
    "    },\n",
    "    # -------------------------------------------------------------------------\n",
    "    # Selección aleatoria de valores para el segundo modelo\n",
    "    {\n",
    "        \"kernel\": [\"linear\"],\n",
    "        \"C\": [1, 10, 100],\n",
    "    },\n",
    "]\n",
    "\n",
    "randomizedSearchCV = RandomizedSearchCV(\n",
    "    # --------------------------------------------------------------------------\n",
    "    # This is assumed to implement the scikit-learn estimator interface.\n",
    "    estimator=SVC(),\n",
    "    # --------------------------------------------------------------------------\n",
    "    # Dictionary with parameters names (str) as keys and distributions or lists\n",
    "    # of parameters to try.\n",
    "    param_distributions=param_distributions,\n",
    "    # --------------------------------------------------------------------------\n",
    "    # Number of parameter settings that are sampled.\n",
    "    n_iter=10,\n",
    "    # --------------------------------------------------------------------------\n",
    "    # Determines the cross-validation splitting strategy.\n",
    "    cv=5,\n",
    "    # --------------------------------------------------------------------------\n",
    "    # Strategy to evaluate the performance of the cross-validated model on the\n",
    "    # test set.\n",
    "    scoring=\"accuracy\",\n",
    "    # --------------------------------------------------------------------------\n",
    "    # Refit an estimator using the best found parameters on the whole dataset.\n",
    "    refit=True,\n",
    "    # --------------------------------------------------------------------------\n",
    "    random_state=12345,\n",
    ")"
   ]
  },
  {
   "cell_type": "markdown",
   "id": "1c848696",
   "metadata": {},
   "source": [
    "## 4.1.4.2 Preparación de los datos  "
   ]
  },
  {
   "cell_type": "code",
   "execution_count": 10,
   "id": "10191504",
   "metadata": {},
   "outputs": [],
   "source": [
    "digits = load_digits()\n",
    "\n",
    "n_samples = len(digits.images)\n",
    "X = digits.images.reshape((n_samples, -1))\n",
    "y = digits.target\n",
    "\n",
    "X_train, X_test, y_train, y_test = train_test_split(\n",
    "    X,\n",
    "    y,\n",
    "    test_size=0.5,\n",
    "    random_state=0,\n",
    ")"
   ]
  },
  {
   "cell_type": "markdown",
   "id": "3a2bbe44",
   "metadata": {},
   "source": [
    "## 4.1.4.3 Realización de la búsqueda"
   ]
  },
  {
   "cell_type": "code",
   "execution_count": 11,
   "id": "ce6ef028",
   "metadata": {},
   "outputs": [
    {
     "data": {
      "text/html": [
       "<style>#sk-container-id-1 {color: black;background-color: white;}#sk-container-id-1 pre{padding: 0;}#sk-container-id-1 div.sk-toggleable {background-color: white;}#sk-container-id-1 label.sk-toggleable__label {cursor: pointer;display: block;width: 100%;margin-bottom: 0;padding: 0.3em;box-sizing: border-box;text-align: center;}#sk-container-id-1 label.sk-toggleable__label-arrow:before {content: \"▸\";float: left;margin-right: 0.25em;color: #696969;}#sk-container-id-1 label.sk-toggleable__label-arrow:hover:before {color: black;}#sk-container-id-1 div.sk-estimator:hover label.sk-toggleable__label-arrow:before {color: black;}#sk-container-id-1 div.sk-toggleable__content {max-height: 0;max-width: 0;overflow: hidden;text-align: left;background-color: #f0f8ff;}#sk-container-id-1 div.sk-toggleable__content pre {margin: 0.2em;color: black;border-radius: 0.25em;background-color: #f0f8ff;}#sk-container-id-1 input.sk-toggleable__control:checked~div.sk-toggleable__content {max-height: 200px;max-width: 100%;overflow: auto;}#sk-container-id-1 input.sk-toggleable__control:checked~label.sk-toggleable__label-arrow:before {content: \"▾\";}#sk-container-id-1 div.sk-estimator input.sk-toggleable__control:checked~label.sk-toggleable__label {background-color: #d4ebff;}#sk-container-id-1 div.sk-label input.sk-toggleable__control:checked~label.sk-toggleable__label {background-color: #d4ebff;}#sk-container-id-1 input.sk-hidden--visually {border: 0;clip: rect(1px 1px 1px 1px);clip: rect(1px, 1px, 1px, 1px);height: 1px;margin: -1px;overflow: hidden;padding: 0;position: absolute;width: 1px;}#sk-container-id-1 div.sk-estimator {font-family: monospace;background-color: #f0f8ff;border: 1px dotted black;border-radius: 0.25em;box-sizing: border-box;margin-bottom: 0.5em;}#sk-container-id-1 div.sk-estimator:hover {background-color: #d4ebff;}#sk-container-id-1 div.sk-parallel-item::after {content: \"\";width: 100%;border-bottom: 1px solid gray;flex-grow: 1;}#sk-container-id-1 div.sk-label:hover label.sk-toggleable__label {background-color: #d4ebff;}#sk-container-id-1 div.sk-serial::before {content: \"\";position: absolute;border-left: 1px solid gray;box-sizing: border-box;top: 0;bottom: 0;left: 50%;z-index: 0;}#sk-container-id-1 div.sk-serial {display: flex;flex-direction: column;align-items: center;background-color: white;padding-right: 0.2em;padding-left: 0.2em;position: relative;}#sk-container-id-1 div.sk-item {position: relative;z-index: 1;}#sk-container-id-1 div.sk-parallel {display: flex;align-items: stretch;justify-content: center;background-color: white;position: relative;}#sk-container-id-1 div.sk-item::before, #sk-container-id-1 div.sk-parallel-item::before {content: \"\";position: absolute;border-left: 1px solid gray;box-sizing: border-box;top: 0;bottom: 0;left: 50%;z-index: -1;}#sk-container-id-1 div.sk-parallel-item {display: flex;flex-direction: column;z-index: 1;position: relative;background-color: white;}#sk-container-id-1 div.sk-parallel-item:first-child::after {align-self: flex-end;width: 50%;}#sk-container-id-1 div.sk-parallel-item:last-child::after {align-self: flex-start;width: 50%;}#sk-container-id-1 div.sk-parallel-item:only-child::after {width: 0;}#sk-container-id-1 div.sk-dashed-wrapped {border: 1px dashed gray;margin: 0 0.4em 0.5em 0.4em;box-sizing: border-box;padding-bottom: 0.4em;background-color: white;}#sk-container-id-1 div.sk-label label {font-family: monospace;font-weight: bold;display: inline-block;line-height: 1.2em;}#sk-container-id-1 div.sk-label-container {text-align: center;}#sk-container-id-1 div.sk-container {/* jupyter's `normalize.less` sets `[hidden] { display: none; }` but bootstrap.min.css set `[hidden] { display: none !important; }` so we also need the `!important` here to be able to override the default hidden behavior on the sphinx rendered scikit-learn.org. See: https://github.com/scikit-learn/scikit-learn/issues/21755 */display: inline-block !important;position: relative;}#sk-container-id-1 div.sk-text-repr-fallback {display: none;}</style><div id=\"sk-container-id-1\" class=\"sk-top-container\"><div class=\"sk-text-repr-fallback\"><pre>RandomizedSearchCV(cv=5, estimator=SVC(),\n",
       "                   param_distributions=[{&#x27;C&#x27;: &lt;scipy.stats._distn_infrastructure.rv_continuous_frozen object at 0x7f7a3c3560d0&gt;,\n",
       "                                         &#x27;gamma&#x27;: &lt;scipy.stats._distn_infrastructure.rv_continuous_frozen object at 0x7f7a3c44d990&gt;,\n",
       "                                         &#x27;kernel&#x27;: [&#x27;rbf&#x27;]},\n",
       "                                        {&#x27;C&#x27;: [1, 10, 100],\n",
       "                                         &#x27;kernel&#x27;: [&#x27;linear&#x27;]}],\n",
       "                   random_state=12345, scoring=&#x27;accuracy&#x27;)</pre><b>In a Jupyter environment, please rerun this cell to show the HTML representation or trust the notebook. <br />On GitHub, the HTML representation is unable to render, please try loading this page with nbviewer.org.</b></div><div class=\"sk-container\" hidden><div class=\"sk-item sk-dashed-wrapped\"><div class=\"sk-label-container\"><div class=\"sk-label sk-toggleable\"><input class=\"sk-toggleable__control sk-hidden--visually\" id=\"sk-estimator-id-1\" type=\"checkbox\" ><label for=\"sk-estimator-id-1\" class=\"sk-toggleable__label sk-toggleable__label-arrow\">RandomizedSearchCV</label><div class=\"sk-toggleable__content\"><pre>RandomizedSearchCV(cv=5, estimator=SVC(),\n",
       "                   param_distributions=[{&#x27;C&#x27;: &lt;scipy.stats._distn_infrastructure.rv_continuous_frozen object at 0x7f7a3c3560d0&gt;,\n",
       "                                         &#x27;gamma&#x27;: &lt;scipy.stats._distn_infrastructure.rv_continuous_frozen object at 0x7f7a3c44d990&gt;,\n",
       "                                         &#x27;kernel&#x27;: [&#x27;rbf&#x27;]},\n",
       "                                        {&#x27;C&#x27;: [1, 10, 100],\n",
       "                                         &#x27;kernel&#x27;: [&#x27;linear&#x27;]}],\n",
       "                   random_state=12345, scoring=&#x27;accuracy&#x27;)</pre></div></div></div><div class=\"sk-parallel\"><div class=\"sk-parallel-item\"><div class=\"sk-item\"><div class=\"sk-label-container\"><div class=\"sk-label sk-toggleable\"><input class=\"sk-toggleable__control sk-hidden--visually\" id=\"sk-estimator-id-2\" type=\"checkbox\" ><label for=\"sk-estimator-id-2\" class=\"sk-toggleable__label sk-toggleable__label-arrow\">estimator: SVC</label><div class=\"sk-toggleable__content\"><pre>SVC()</pre></div></div></div><div class=\"sk-serial\"><div class=\"sk-item\"><div class=\"sk-estimator sk-toggleable\"><input class=\"sk-toggleable__control sk-hidden--visually\" id=\"sk-estimator-id-3\" type=\"checkbox\" ><label for=\"sk-estimator-id-3\" class=\"sk-toggleable__label sk-toggleable__label-arrow\">SVC</label><div class=\"sk-toggleable__content\"><pre>SVC()</pre></div></div></div></div></div></div></div></div></div></div>"
      ],
      "text/plain": [
       "RandomizedSearchCV(cv=5, estimator=SVC(),\n",
       "                   param_distributions=[{'C': <scipy.stats._distn_infrastructure.rv_continuous_frozen object at 0x7f7a3c3560d0>,\n",
       "                                         'gamma': <scipy.stats._distn_infrastructure.rv_continuous_frozen object at 0x7f7a3c44d990>,\n",
       "                                         'kernel': ['rbf']},\n",
       "                                        {'C': [1, 10, 100],\n",
       "                                         'kernel': ['linear']}],\n",
       "                   random_state=12345, scoring='accuracy')"
      ]
     },
     "execution_count": 11,
     "metadata": {},
     "output_type": "execute_result"
    }
   ],
   "source": [
    "randomizedSearchCV.fit(X_train, y_train)"
   ]
  },
  {
   "cell_type": "markdown",
   "id": "aa2817c9",
   "metadata": {},
   "source": [
    "## 4.1.4.4 Valores retornados"
   ]
  },
  {
   "cell_type": "code",
   "execution_count": 13,
   "id": "a0224d7e",
   "metadata": {},
   "outputs": [
    {
     "data": {
      "text/plain": [
       "{'mean_fit_time': array([0.1315886 , 0.01823463, 0.11291604, 0.10881763, 0.01460547,\n",
       "        0.07392693, 0.16717968, 0.01346097, 0.13881478, 0.01471157]),\n",
       " 'std_fit_time': array([0.01397431, 0.0071627 , 0.00611838, 0.00909313, 0.00161114,\n",
       "        0.0031472 , 0.02025033, 0.00088228, 0.06217673, 0.00059682]),\n",
       " 'mean_score_time': array([0.02008986, 0.00449457, 0.01933832, 0.02372823, 0.00394163,\n",
       "        0.01258116, 0.01796761, 0.00400629, 0.02312775, 0.00359197]),\n",
       " 'std_score_time': array([0.00350255, 0.00210363, 0.00492275, 0.0028163 , 0.00099783,\n",
       "        0.00107992, 0.00287154, 0.00136548, 0.00670272, 0.0003321 ]),\n",
       " 'param_C': masked_array(data=[220.8682396496381, 100, 83.86933864671792,\n",
       "                    61.97597554687909, 100, 222.88118074128667,\n",
       "                    11.254669304411362, 10, 81.28259452454746, 1],\n",
       "              mask=[False, False, False, False, False, False, False, False,\n",
       "                    False, False],\n",
       "        fill_value='?',\n",
       "             dtype=object),\n",
       " 'param_gamma': masked_array(data=[0.014007538087890578, --, 0.09052140627545172,\n",
       "                    0.2573582562354472, --, 0.0027155110061623483,\n",
       "                    0.03548248190035313, --, 0.18320769168351672, --],\n",
       "              mask=[False,  True, False, False,  True, False, False,  True,\n",
       "                    False,  True],\n",
       "        fill_value='?',\n",
       "             dtype=object),\n",
       " 'param_kernel': masked_array(data=['rbf', 'linear', 'rbf', 'rbf', 'linear', 'rbf', 'rbf',\n",
       "                    'linear', 'rbf', 'linear'],\n",
       "              mask=[False, False, False, False, False, False, False, False,\n",
       "                    False, False],\n",
       "        fill_value='?',\n",
       "             dtype=object),\n",
       " 'params': [{'C': 220.8682396496381,\n",
       "   'gamma': 0.014007538087890578,\n",
       "   'kernel': 'rbf'},\n",
       "  {'C': 100, 'kernel': 'linear'},\n",
       "  {'C': 83.86933864671792, 'gamma': 0.09052140627545172, 'kernel': 'rbf'},\n",
       "  {'C': 61.97597554687909, 'gamma': 0.2573582562354472, 'kernel': 'rbf'},\n",
       "  {'C': 100, 'kernel': 'linear'},\n",
       "  {'C': 222.88118074128667, 'gamma': 0.0027155110061623483, 'kernel': 'rbf'},\n",
       "  {'C': 11.254669304411362, 'gamma': 0.03548248190035313, 'kernel': 'rbf'},\n",
       "  {'C': 10, 'kernel': 'linear'},\n",
       "  {'C': 81.28259452454746, 'gamma': 0.18320769168351672, 'kernel': 'rbf'},\n",
       "  {'C': 1, 'kernel': 'linear'}],\n",
       " 'split0_test_score': array([0.30555556, 0.97222222, 0.11666667, 0.11666667, 0.97222222,\n",
       "        0.99444444, 0.11666667, 0.97222222, 0.11666667, 0.97222222]),\n",
       " 'split1_test_score': array([0.37777778, 0.97777778, 0.11666667, 0.11666667, 0.97777778,\n",
       "        0.98888889, 0.11666667, 0.97777778, 0.11666667, 0.97777778]),\n",
       " 'split2_test_score': array([0.34444444, 0.96111111, 0.11666667, 0.11666667, 0.96111111,\n",
       "        0.96111111, 0.13333333, 0.96111111, 0.11666667, 0.96111111]),\n",
       " 'split3_test_score': array([0.36871508, 0.97206704, 0.11731844, 0.11731844, 0.97206704,\n",
       "        0.97765363, 0.12290503, 0.97206704, 0.11731844, 0.97206704]),\n",
       " 'split4_test_score': array([0.33519553, 0.97765363, 0.11731844, 0.11731844, 0.97765363,\n",
       "        0.99441341, 0.12290503, 0.97765363, 0.11731844, 0.97765363]),\n",
       " 'mean_test_score': array([0.34633768, 0.97216636, 0.11692737, 0.11692737, 0.97216636,\n",
       "        0.9833023 , 0.12249534, 0.97216636, 0.11692737, 0.97216636]),\n",
       " 'std_test_score': array([0.02561305, 0.00606349, 0.0003193 , 0.0003193 , 0.00606349,\n",
       "        0.01267415, 0.00609499, 0.00606349, 0.0003193 , 0.00606349]),\n",
       " 'rank_test_score': array([6, 2, 8, 8, 2, 1, 7, 2, 8, 2], dtype=int32)}"
      ]
     },
     "execution_count": 13,
     "metadata": {},
     "output_type": "execute_result"
    }
   ],
   "source": [
    "randomizedSearchCV.cv_results_"
   ]
  },
  {
   "cell_type": "code",
   "execution_count": 14,
   "id": "01556367",
   "metadata": {},
   "outputs": [
    {
     "data": {
      "text/html": [
       "<style>#sk-container-id-2 {color: black;background-color: white;}#sk-container-id-2 pre{padding: 0;}#sk-container-id-2 div.sk-toggleable {background-color: white;}#sk-container-id-2 label.sk-toggleable__label {cursor: pointer;display: block;width: 100%;margin-bottom: 0;padding: 0.3em;box-sizing: border-box;text-align: center;}#sk-container-id-2 label.sk-toggleable__label-arrow:before {content: \"▸\";float: left;margin-right: 0.25em;color: #696969;}#sk-container-id-2 label.sk-toggleable__label-arrow:hover:before {color: black;}#sk-container-id-2 div.sk-estimator:hover label.sk-toggleable__label-arrow:before {color: black;}#sk-container-id-2 div.sk-toggleable__content {max-height: 0;max-width: 0;overflow: hidden;text-align: left;background-color: #f0f8ff;}#sk-container-id-2 div.sk-toggleable__content pre {margin: 0.2em;color: black;border-radius: 0.25em;background-color: #f0f8ff;}#sk-container-id-2 input.sk-toggleable__control:checked~div.sk-toggleable__content {max-height: 200px;max-width: 100%;overflow: auto;}#sk-container-id-2 input.sk-toggleable__control:checked~label.sk-toggleable__label-arrow:before {content: \"▾\";}#sk-container-id-2 div.sk-estimator input.sk-toggleable__control:checked~label.sk-toggleable__label {background-color: #d4ebff;}#sk-container-id-2 div.sk-label input.sk-toggleable__control:checked~label.sk-toggleable__label {background-color: #d4ebff;}#sk-container-id-2 input.sk-hidden--visually {border: 0;clip: rect(1px 1px 1px 1px);clip: rect(1px, 1px, 1px, 1px);height: 1px;margin: -1px;overflow: hidden;padding: 0;position: absolute;width: 1px;}#sk-container-id-2 div.sk-estimator {font-family: monospace;background-color: #f0f8ff;border: 1px dotted black;border-radius: 0.25em;box-sizing: border-box;margin-bottom: 0.5em;}#sk-container-id-2 div.sk-estimator:hover {background-color: #d4ebff;}#sk-container-id-2 div.sk-parallel-item::after {content: \"\";width: 100%;border-bottom: 1px solid gray;flex-grow: 1;}#sk-container-id-2 div.sk-label:hover label.sk-toggleable__label {background-color: #d4ebff;}#sk-container-id-2 div.sk-serial::before {content: \"\";position: absolute;border-left: 1px solid gray;box-sizing: border-box;top: 0;bottom: 0;left: 50%;z-index: 0;}#sk-container-id-2 div.sk-serial {display: flex;flex-direction: column;align-items: center;background-color: white;padding-right: 0.2em;padding-left: 0.2em;position: relative;}#sk-container-id-2 div.sk-item {position: relative;z-index: 1;}#sk-container-id-2 div.sk-parallel {display: flex;align-items: stretch;justify-content: center;background-color: white;position: relative;}#sk-container-id-2 div.sk-item::before, #sk-container-id-2 div.sk-parallel-item::before {content: \"\";position: absolute;border-left: 1px solid gray;box-sizing: border-box;top: 0;bottom: 0;left: 50%;z-index: -1;}#sk-container-id-2 div.sk-parallel-item {display: flex;flex-direction: column;z-index: 1;position: relative;background-color: white;}#sk-container-id-2 div.sk-parallel-item:first-child::after {align-self: flex-end;width: 50%;}#sk-container-id-2 div.sk-parallel-item:last-child::after {align-self: flex-start;width: 50%;}#sk-container-id-2 div.sk-parallel-item:only-child::after {width: 0;}#sk-container-id-2 div.sk-dashed-wrapped {border: 1px dashed gray;margin: 0 0.4em 0.5em 0.4em;box-sizing: border-box;padding-bottom: 0.4em;background-color: white;}#sk-container-id-2 div.sk-label label {font-family: monospace;font-weight: bold;display: inline-block;line-height: 1.2em;}#sk-container-id-2 div.sk-label-container {text-align: center;}#sk-container-id-2 div.sk-container {/* jupyter's `normalize.less` sets `[hidden] { display: none; }` but bootstrap.min.css set `[hidden] { display: none !important; }` so we also need the `!important` here to be able to override the default hidden behavior on the sphinx rendered scikit-learn.org. See: https://github.com/scikit-learn/scikit-learn/issues/21755 */display: inline-block !important;position: relative;}#sk-container-id-2 div.sk-text-repr-fallback {display: none;}</style><div id=\"sk-container-id-2\" class=\"sk-top-container\"><div class=\"sk-text-repr-fallback\"><pre>SVC(C=222.88118074128667, gamma=0.0027155110061623483)</pre><b>In a Jupyter environment, please rerun this cell to show the HTML representation or trust the notebook. <br />On GitHub, the HTML representation is unable to render, please try loading this page with nbviewer.org.</b></div><div class=\"sk-container\" hidden><div class=\"sk-item\"><div class=\"sk-estimator sk-toggleable\"><input class=\"sk-toggleable__control sk-hidden--visually\" id=\"sk-estimator-id-4\" type=\"checkbox\" checked><label for=\"sk-estimator-id-4\" class=\"sk-toggleable__label sk-toggleable__label-arrow\">SVC</label><div class=\"sk-toggleable__content\"><pre>SVC(C=222.88118074128667, gamma=0.0027155110061623483)</pre></div></div></div></div></div>"
      ],
      "text/plain": [
       "SVC(C=222.88118074128667, gamma=0.0027155110061623483)"
      ]
     },
     "execution_count": 14,
     "metadata": {},
     "output_type": "execute_result"
    }
   ],
   "source": [
    "#\n",
    "# Estimator that was chosen by the search, i.e. estimator which gave highest\n",
    "# score (or smallest loss if specified) on the left out data.\n",
    "#\n",
    "randomizedSearchCV.best_estimator_"
   ]
  },
  {
   "cell_type": "code",
   "execution_count": 15,
   "id": "6d651761",
   "metadata": {},
   "outputs": [
    {
     "data": {
      "text/plain": [
       "0.9833022967101179"
      ]
     },
     "execution_count": 15,
     "metadata": {},
     "output_type": "execute_result"
    }
   ],
   "source": [
    "randomizedSearchCV.best_score_"
   ]
  },
  {
   "cell_type": "code",
   "execution_count": 16,
   "id": "3d1f8aff",
   "metadata": {},
   "outputs": [
    {
     "data": {
      "text/plain": [
       "{'C': 222.88118074128667, 'gamma': 0.0027155110061623483, 'kernel': 'rbf'}"
      ]
     },
     "execution_count": 16,
     "metadata": {},
     "output_type": "execute_result"
    }
   ],
   "source": [
    "randomizedSearchCV.best_params_"
   ]
  },
  {
   "cell_type": "markdown",
   "id": "c56dd101",
   "metadata": {},
   "source": [
    "## 4.1.4.5 Pronóstico con el mejor modelo"
   ]
  },
  {
   "cell_type": "code",
   "execution_count": 17,
   "id": "07195fab",
   "metadata": {},
   "outputs": [
    {
     "data": {
      "text/plain": [
       "array([1, 4, 9, 0, 4, 1, 1, 5, 9, 1, 4, 2, 6, 3, 9, 7, 6, 4, 8, 6, 8, 7,\n",
       "       6, 0, 5, 9, 4, 7, 3, 4, 9, 4, 9, 7, 9, 1, 5, 6, 0, 0, 4, 3, 6, 1,\n",
       "       0, 9, 4, 8, 7, 5, 9, 8, 4, 5, 0, 1, 6, 0, 5, 5, 0, 4, 3, 2, 8, 7,\n",
       "       6, 3, 4, 2, 5, 8, 0, 6, 9, 4, 5, 4, 9, 7, 3, 3, 1, 4, 4, 2, 6, 8,\n",
       "       1, 1, 0, 3, 7, 4, 6, 7, 4, 0, 5, 2, 9, 2, 1, 9, 2, 3, 1, 7, 7, 4,\n",
       "       5, 6, 5, 6, 7, 8, 1, 4, 3, 4, 4, 3, 5, 3, 3, 4, 7, 9, 8, 0, 6, 1,\n",
       "       9, 0, 8, 4, 1, 2, 3, 9, 7, 8, 8, 8, 3, 7, 5, 7, 0, 1, 7, 8, 3, 8,\n",
       "       0, 4, 8, 6, 2, 3, 6, 7, 3, 7, 7, 1, 3, 5, 0, 9, 8, 5, 3, 1, 2, 0,\n",
       "       3, 6, 0, 3, 4, 1, 2, 3, 1, 0, 5, 8, 9, 3, 9, 6, 6, 8, 9, 0, 7, 8,\n",
       "       2, 0, 0, 7, 7, 4, 5, 3, 1, 8, 5, 9, 6, 2, 9, 7, 7, 9, 5, 4, 2, 6,\n",
       "       6, 1, 3, 4, 7, 2, 8, 0, 6, 1, 6, 6, 5, 8, 4, 3, 0, 5, 2, 9, 9, 7,\n",
       "       8, 0, 5, 0, 6, 3, 3, 5, 1, 5, 1, 7, 9, 6, 4, 5, 0, 1, 8, 7, 8, 8,\n",
       "       8, 9, 8, 7, 7, 2, 2, 2, 8, 0, 7, 8, 6, 8, 0, 4, 2, 2, 3, 7, 9, 0,\n",
       "       2, 0, 0, 2, 7, 1, 5, 6, 4, 0, 0, 5, 5, 3, 9, 6, 1, 6, 0, 6, 4, 0,\n",
       "       1, 8, 2, 2, 3, 7, 6, 1, 1, 2, 4, 7, 4, 9, 4, 3, 0, 4, 3, 1, 3, 0,\n",
       "       9, 4, 6, 0, 3, 2, 6, 2, 5, 6, 7, 8, 8, 4, 4, 6, 9, 4, 5, 4, 5, 7,\n",
       "       1, 9, 6, 8, 0, 4, 1, 9, 9, 7, 1, 8, 5, 0, 8, 7, 7, 2, 1, 3, 7, 4,\n",
       "       0, 6, 3, 1, 2, 9, 9, 2, 5, 7, 3, 0, 6, 1, 6, 1, 1, 2, 5, 5, 3, 2,\n",
       "       8, 5, 0, 9, 6, 9, 8, 4, 5, 8, 1, 6, 3, 0, 4, 6, 1, 8, 3, 4, 7, 1,\n",
       "       0, 7, 9, 2, 7, 2, 1, 6, 9, 3, 1, 3, 2, 4, 3, 4, 3, 3, 5, 4, 7, 3,\n",
       "       6, 7, 0, 0, 1, 1, 0, 2, 0, 7, 7, 4, 7, 2, 0, 1, 2, 4, 8, 1, 6, 0,\n",
       "       3, 4, 0, 6, 8, 4, 4, 9, 0, 8, 4, 6, 8, 7, 8, 2, 8, 1, 6, 6, 9, 5,\n",
       "       3, 8, 5, 1, 3, 3, 1, 8, 8, 3, 0, 4, 1, 7, 2, 7, 4, 0, 4, 2, 7, 7,\n",
       "       9, 1, 9, 0, 9, 3, 8, 6, 2, 5, 3, 3, 7, 2, 1, 0, 8, 7, 7, 3, 1, 2,\n",
       "       4, 5, 7, 7, 9, 1, 5, 5, 2, 8, 7, 9, 4, 7, 0, 2, 6, 1, 3, 1, 3, 7,\n",
       "       3, 6, 7, 1, 6, 6, 1, 0, 6, 9, 7, 7, 4, 4, 9, 1, 5, 1, 1, 7, 2, 6,\n",
       "       6, 4, 3, 1, 0, 5, 3, 9, 5, 8, 1, 7, 9, 9, 8, 2, 1, 0, 6, 6, 4, 4,\n",
       "       7, 8, 6, 5, 8, 8, 2, 2, 2, 9, 8, 8, 3, 6, 0, 4, 4, 7, 6, 6, 9, 0,\n",
       "       4, 6, 8, 5, 1, 9, 9, 3, 1, 6, 5, 9, 7, 3, 4, 4, 2, 4, 4, 9, 2, 9,\n",
       "       9, 7, 2, 3, 3, 3, 7, 2, 7, 8, 1, 0, 5, 6, 6, 8, 0, 7, 0, 4, 2, 6,\n",
       "       6, 8, 6, 4, 7, 7, 0, 3, 0, 7, 4, 0, 0, 2, 1, 8, 4, 2, 2, 9, 9, 3,\n",
       "       3, 4, 4, 2, 6, 3, 7, 2, 8, 4, 2, 9, 5, 1, 9, 0, 9, 7, 2, 6, 2, 1,\n",
       "       6, 9, 9, 3, 8, 3, 6, 2, 2, 4, 9, 3, 4, 6, 8, 6, 1, 7, 4, 1, 4, 7,\n",
       "       0, 1, 5, 6, 2, 7, 8, 4, 9, 0, 9, 0, 5, 2, 2, 4, 1, 8, 8, 7, 2, 9,\n",
       "       7, 0, 0, 6, 0, 5, 0, 5, 1, 0, 8, 6, 6, 0, 3, 4, 0, 3, 5, 6, 9, 8,\n",
       "       4, 8, 5, 2, 7, 5, 5, 1, 1, 8, 9, 0, 3, 4, 9, 2, 9, 3, 1, 7, 5, 4,\n",
       "       9, 5, 7, 7, 7, 0, 1, 9, 1, 9, 7, 1, 3, 9, 4, 9, 2, 5, 3, 5, 6, 2,\n",
       "       3, 0, 7, 3, 2, 5, 2, 6, 1, 7, 0, 2, 9, 4, 2, 0, 7, 4, 4, 9, 0, 4,\n",
       "       9, 6, 8, 2, 6, 4, 4, 9, 1, 2, 4, 7, 8, 8, 2, 2, 5, 9, 5, 4, 3, 1,\n",
       "       4, 7, 1, 5, 3, 8, 6, 5, 5, 2, 1, 0, 9, 1, 6, 9, 3, 7, 4, 5, 6, 3,\n",
       "       6, 5, 2, 7, 6, 3, 4, 1, 1, 4, 8, 4, 5, 3, 3, 7, 7, 8])"
      ]
     },
     "execution_count": 17,
     "metadata": {},
     "output_type": "execute_result"
    }
   ],
   "source": [
    "randomizedSearchCV.predict(X_train)"
   ]
  },
  {
   "cell_type": "code",
   "execution_count": 12,
   "id": "55e0489e",
   "metadata": {},
   "outputs": [
    {
     "name": "stdout",
     "output_type": "stream",
     "text": [
      "ok_\n"
     ]
    }
   ],
   "source": [
    "print('ok_')"
   ]
  }
 ],
 "metadata": {
  "kernelspec": {
   "display_name": "Python 3 (ipykernel)",
   "language": "python",
   "name": "python3"
  },
  "language_info": {
   "codemirror_mode": {
    "name": "ipython",
    "version": 3
   },
   "file_extension": ".py",
   "mimetype": "text/x-python",
   "name": "python",
   "nbconvert_exporter": "python",
   "pygments_lexer": "ipython3",
   "version": "3.11.5"
  },
  "vscode": {
   "interpreter": {
    "hash": "5238573367df39f7286bb46f9ff5f08f63a01a80960060ce41e3c79b190280fa"
   }
  }
 },
 "nbformat": 4,
 "nbformat_minor": 5
}
