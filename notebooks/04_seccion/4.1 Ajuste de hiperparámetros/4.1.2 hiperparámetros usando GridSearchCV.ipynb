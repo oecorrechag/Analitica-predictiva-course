{
 "cells": [
  {
   "cell_type": "markdown",
   "id": "6bfc8fc6",
   "metadata": {},
   "source": [
    "# 4.1.2 Búsqueda Exhaustiva de hiperparámetros usando GridSearchCV\n",
    "\n",
    "En muchos casos, los modelos contienen diferentes hiperparámetros que controlan su configuración y la estimación de los parámetros. Por ejemplo, en el ejemplo del ajuste del polinomio, el grado $n$ es un hiperparámetro. En este tutorial, se presenta como abordar el problema cuando hay más de un hiperparámetro que debe ser ajustado."
   ]
  },
  {
   "cell_type": "code",
   "execution_count": null,
   "id": "53b57b40",
   "metadata": {},
   "outputs": [],
   "source": [
    "%load_ext autoreload\n",
    "%autoreload 2"
   ]
  },
  {
   "cell_type": "code",
   "execution_count": null,
   "id": "5fb86f3c",
   "metadata": {},
   "outputs": [],
   "source": [
    "from sklearn.datasets import load_digits\n",
    "from sklearn.model_selection import train_test_split\n",
    "\n",
    "from sklearn.model_selection import GridSearchCV\n",
    "from sklearn.svm import SVC\n",
    "\n",
    "import warnings\n",
    "warnings.filterwarnings(\"ignore\")"
   ]
  },
  {
   "cell_type": "markdown",
   "id": "8e9f3e3a",
   "metadata": {},
   "source": [
    "## 4.1.2.1 Parametrización de la búsqueda"
   ]
  },
  {
   "cell_type": "code",
   "execution_count": null,
   "id": "4c762bd1",
   "metadata": {},
   "outputs": [],
   "source": [
    "#\n",
    "# Aca se usara una SVM. Dependiendo del tipo de kernel cambian los parámetros\n",
    "# que pueden ajustarse.\n",
    "#\n",
    "# La variable tuned_parameters es una lista de diccionarios que contiene los\n",
    "# valores que pueden ajustarse.\n",
    "#\n",
    "param_grid = [\n",
    "    # -------------------------------------------------------------------------\n",
    "    # Primera malla de parámetros\n",
    "    {\n",
    "        \"kernel\": [\"rbf\"],\n",
    "        \"gamma\": [1e-3, 1e-4],\n",
    "        \"C\": [1, 10, 100, 1000],\n",
    "    },\n",
    "    # -------------------------------------------------------------------------\n",
    "    # Segunda malla de parámetros\n",
    "    {\n",
    "        \"kernel\": [\"linear\"],\n",
    "        \"C\": [1, 10, 100, 1000],\n",
    "    },\n",
    "]\n",
    "\n",
    "gridSearchCV = GridSearchCV(\n",
    "    # --------------------------------------------------------------------------\n",
    "    # This is assumed to implement the scikit-learn estimator interface.\n",
    "    estimator=SVC(),\n",
    "    # --------------------------------------------------------------------------\n",
    "    # Dictionary with parameters names (str) as keys and lists of parameter\n",
    "    # settings to try as values, or a list of such dictionaries\n",
    "    param_grid=param_grid,\n",
    "    # --------------------------------------------------------------------------\n",
    "    # Determines the cross-validation splitting strategy.\n",
    "    cv=5,\n",
    "    # --------------------------------------------------------------------------\n",
    "    # Strategy to evaluate the performance of the cross-validated model on the\n",
    "    # test set.\n",
    "    scoring=\"accuracy\",\n",
    "    # --------------------------------------------------------------------------\n",
    "    # Refit an estimator using the best found parameters on the whole dataset.\n",
    "    refit=True,\n",
    "    # --------------------------------------------------------------------------\n",
    "    # If False, the cv_results_ attribute will not include training scores.\n",
    "    return_train_score=False,\n",
    ")"
   ]
  },
  {
   "cell_type": "markdown",
   "id": "a58da50f",
   "metadata": {},
   "source": [
    "## 4.1.2.2 Principales métricas disponibles para el scoring\n",
    "\n",
    "link: https://scikit-learn.org/stable/modules/model_evaluation.html#scoring-parameter\n",
    "\n",
    "- Clasificacion\n",
    "    - accuracy\n",
    "    - balanced_accuracy\n",
    "\n",
    "- Regresion\n",
    "    - neg_mean_absolute_error\n",
    "    - neg_mean_squared_error\n",
    "    - neg_root_mean_squared_error\n",
    "    - r2\n",
    "\n",
    "## 4.1.2.3 Preparación de los datos  "
   ]
  },
  {
   "cell_type": "code",
   "execution_count": null,
   "id": "65a34174",
   "metadata": {},
   "outputs": [],
   "source": [
    "digits = load_digits()\n",
    "\n",
    "n_samples = len(digits.images)\n",
    "X = digits.images.reshape((n_samples, -1))\n",
    "y = digits.target\n",
    "\n",
    "X_train, X_test, y_train, y_test = train_test_split(\n",
    "    X,\n",
    "    y,\n",
    "    test_size=0.5,\n",
    "    random_state=0,\n",
    ")"
   ]
  },
  {
   "cell_type": "markdown",
   "id": "11eee0b4",
   "metadata": {},
   "source": [
    "## 4.1.2.4 Realización de la búsqueda"
   ]
  },
  {
   "cell_type": "code",
   "execution_count": null,
   "id": "c4a012cf",
   "metadata": {},
   "outputs": [],
   "source": [
    "gridSearchCV.fit(X_train, y_train)"
   ]
  },
  {
   "cell_type": "markdown",
   "id": "9a00bed6",
   "metadata": {},
   "source": [
    "## 4.1.2.5 Valores retornados"
   ]
  },
  {
   "cell_type": "code",
   "execution_count": null,
   "id": "439b9898",
   "metadata": {},
   "outputs": [],
   "source": [
    "gridSearchCV.cv_results_"
   ]
  },
  {
   "cell_type": "code",
   "execution_count": null,
   "id": "f697ad28",
   "metadata": {},
   "outputs": [],
   "source": [
    "#\n",
    "# Estimator that was chosen by the search, i.e. estimator which gave highest\n",
    "# score (or smallest loss if specified) on the left out data.\n",
    "#\n",
    "gridSearchCV.best_estimator_"
   ]
  },
  {
   "cell_type": "code",
   "execution_count": null,
   "id": "5551e03b",
   "metadata": {},
   "outputs": [],
   "source": [
    "gridSearchCV.best_score_"
   ]
  },
  {
   "cell_type": "code",
   "execution_count": null,
   "id": "8679c06e",
   "metadata": {},
   "outputs": [],
   "source": [
    "gridSearchCV.best_params_"
   ]
  },
  {
   "cell_type": "markdown",
   "id": "0bacc03d",
   "metadata": {},
   "source": [
    "## 4.1.2.6 Pronóstico con el mejor modelo"
   ]
  },
  {
   "cell_type": "code",
   "execution_count": null,
   "id": "aca20981",
   "metadata": {},
   "outputs": [],
   "source": [
    "gridSearchCV.predict(X_train)"
   ]
  },
  {
   "cell_type": "code",
   "execution_count": null,
   "id": "55e0489e",
   "metadata": {},
   "outputs": [],
   "source": [
    "print('ok_')"
   ]
  }
 ],
 "metadata": {
  "kernelspec": {
   "display_name": "Python 3 (ipykernel)",
   "language": "python",
   "name": "python3"
  },
  "language_info": {
   "codemirror_mode": {
    "name": "ipython",
    "version": 3
   },
   "file_extension": ".py",
   "mimetype": "text/x-python",
   "name": "python",
   "nbconvert_exporter": "python",
   "pygments_lexer": "ipython3",
   "version": "3.11.5"
  },
  "vscode": {
   "interpreter": {
    "hash": "5238573367df39f7286bb46f9ff5f08f63a01a80960060ce41e3c79b190280fa"
   }
  }
 },
 "nbformat": 4,
 "nbformat_minor": 5
}
