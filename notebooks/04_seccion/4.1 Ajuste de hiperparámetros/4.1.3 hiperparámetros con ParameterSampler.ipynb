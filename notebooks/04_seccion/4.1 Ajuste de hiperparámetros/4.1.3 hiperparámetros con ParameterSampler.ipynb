{
 "cells": [
  {
   "cell_type": "markdown",
   "id": "6bfc8fc6",
   "metadata": {},
   "source": [
    "# 4.1.3 Muestreo de combinaciones de hiperparámetros con ParameterSampler"
   ]
  },
  {
   "cell_type": "code",
   "execution_count": null,
   "id": "53b57b40",
   "metadata": {},
   "outputs": [],
   "source": [
    "%load_ext autoreload\n",
    "%autoreload 2"
   ]
  },
  {
   "cell_type": "code",
   "execution_count": null,
   "id": "5fb86f3c",
   "metadata": {},
   "outputs": [],
   "source": [
    "import scipy\n",
    "from sklearn.model_selection import ParameterSampler\n",
    "\n",
    "import warnings\n",
    "warnings.filterwarnings(\"ignore\")"
   ]
  },
  {
   "cell_type": "code",
   "execution_count": null,
   "id": "4c762bd1",
   "metadata": {},
   "outputs": [],
   "source": [
    "param_distributions = [\n",
    "    # -------------------------------------------------------------------------\n",
    "    # Selección aleatoria de valores para el primer modelo\n",
    "    {\n",
    "        \"kernel\": [\"rbf\"],\n",
    "        \"gamma\": scipy.stats.expon(scale=0.1),\n",
    "        \"C\": scipy.stats.expon(scale=100),\n",
    "    },\n",
    "    # -------------------------------------------------------------------------\n",
    "    # Selección aleatoria de valores para el segundo modelo\n",
    "    {\n",
    "        \"kernel\": [\"linear\"],\n",
    "        \"C\": [1, 10, 100],\n",
    "    },\n",
    "]\n",
    "\n",
    "params = ParameterSampler(\n",
    "    # -------------------------------------------------------------------------\n",
    "    param_distributions=param_distributions,\n",
    "    n_iter=10,\n",
    "    random_state=12345,\n",
    ")\n",
    "\n",
    "result = [dict((k, v) for (k, v) in d.items()) for d in params]\n",
    "\n",
    "result"
   ]
  },
  {
   "cell_type": "code",
   "execution_count": null,
   "id": "55e0489e",
   "metadata": {},
   "outputs": [],
   "source": [
    "print('ok_')"
   ]
  }
 ],
 "metadata": {
  "kernelspec": {
   "display_name": "Python 3 (ipykernel)",
   "language": "python",
   "name": "python3"
  },
  "language_info": {
   "codemirror_mode": {
    "name": "ipython",
    "version": 3
   },
   "file_extension": ".py",
   "mimetype": "text/x-python",
   "name": "python",
   "nbconvert_exporter": "python",
   "pygments_lexer": "ipython3",
   "version": "3.11.5"
  },
  "vscode": {
   "interpreter": {
    "hash": "5238573367df39f7286bb46f9ff5f08f63a01a80960060ce41e3c79b190280fa"
   }
  }
 },
 "nbformat": 4,
 "nbformat_minor": 5
}
