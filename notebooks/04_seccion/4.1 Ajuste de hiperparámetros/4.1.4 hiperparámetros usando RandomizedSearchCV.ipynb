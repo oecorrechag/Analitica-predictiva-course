{
 "cells": [
  {
   "cell_type": "markdown",
   "id": "6bfc8fc6",
   "metadata": {},
   "source": [
    "# 4.1.4 Búsqueda aleatoria de hiperparámetros usando RandomizedSearchCV"
   ]
  },
  {
   "cell_type": "code",
   "execution_count": null,
   "id": "53b57b40",
   "metadata": {},
   "outputs": [],
   "source": [
    "%load_ext autoreload\n",
    "%autoreload 2"
   ]
  },
  {
   "cell_type": "code",
   "execution_count": null,
   "id": "5fb86f3c",
   "metadata": {},
   "outputs": [],
   "source": [
    "from sklearn.datasets import load_digits\n",
    "from sklearn.model_selection import train_test_split\n",
    "\n",
    "import scipy\n",
    "from sklearn.model_selection import RandomizedSearchCV\n",
    "from sklearn.svm import SVC\n",
    "\n",
    "import warnings\n",
    "warnings.filterwarnings(\"ignore\")"
   ]
  },
  {
   "cell_type": "markdown",
   "id": "28524fe2",
   "metadata": {},
   "source": [
    "## 4.1.4.1 Parametrización de la búsqueda"
   ]
  },
  {
   "cell_type": "code",
   "execution_count": null,
   "id": "4c762bd1",
   "metadata": {},
   "outputs": [],
   "source": [
    "param_distributions = [\n",
    "    # -------------------------------------------------------------------------\n",
    "    # Selección aleatoria de valores para el primer modelo\n",
    "    {\n",
    "        \"kernel\": [\"rbf\"],\n",
    "        \"gamma\": scipy.stats.expon(scale=0.1),\n",
    "        \"C\": scipy.stats.expon(scale=100),\n",
    "    },\n",
    "    # -------------------------------------------------------------------------\n",
    "    # Selección aleatoria de valores para el segundo modelo\n",
    "    {\n",
    "        \"kernel\": [\"linear\"],\n",
    "        \"C\": [1, 10, 100],\n",
    "    },\n",
    "]\n",
    "\n",
    "randomizedSearchCV = RandomizedSearchCV(\n",
    "    # --------------------------------------------------------------------------\n",
    "    # This is assumed to implement the scikit-learn estimator interface.\n",
    "    estimator=SVC(),\n",
    "    # --------------------------------------------------------------------------\n",
    "    # Dictionary with parameters names (str) as keys and distributions or lists\n",
    "    # of parameters to try.\n",
    "    param_distributions=param_distributions,\n",
    "    # --------------------------------------------------------------------------\n",
    "    # Number of parameter settings that are sampled.\n",
    "    n_iter=10,\n",
    "    # --------------------------------------------------------------------------\n",
    "    # Determines the cross-validation splitting strategy.\n",
    "    cv=5,\n",
    "    # --------------------------------------------------------------------------\n",
    "    # Strategy to evaluate the performance of the cross-validated model on the\n",
    "    # test set.\n",
    "    scoring=\"accuracy\",\n",
    "    # --------------------------------------------------------------------------\n",
    "    # Refit an estimator using the best found parameters on the whole dataset.\n",
    "    refit=True,\n",
    "    # --------------------------------------------------------------------------\n",
    "    random_state=12345,\n",
    ")"
   ]
  },
  {
   "cell_type": "markdown",
   "id": "1c848696",
   "metadata": {},
   "source": [
    "## 4.1.4.2 Preparación de los datos  "
   ]
  },
  {
   "cell_type": "code",
   "execution_count": null,
   "id": "10191504",
   "metadata": {},
   "outputs": [],
   "source": [
    "digits = load_digits()\n",
    "\n",
    "n_samples = len(digits.images)\n",
    "X = digits.images.reshape((n_samples, -1))\n",
    "y = digits.target\n",
    "\n",
    "X_train, X_test, y_train, y_test = train_test_split(\n",
    "    X,\n",
    "    y,\n",
    "    test_size=0.5,\n",
    "    random_state=0,\n",
    ")"
   ]
  },
  {
   "cell_type": "markdown",
   "id": "3a2bbe44",
   "metadata": {},
   "source": [
    "## 4.1.4.3 Realización de la búsqueda"
   ]
  },
  {
   "cell_type": "code",
   "execution_count": null,
   "id": "ce6ef028",
   "metadata": {},
   "outputs": [],
   "source": [
    "randomizedSearchCV.fit(X_train, y_train)"
   ]
  },
  {
   "cell_type": "markdown",
   "id": "aa2817c9",
   "metadata": {},
   "source": [
    "## 4.1.4.4 Valores retornados"
   ]
  },
  {
   "cell_type": "code",
   "execution_count": null,
   "id": "a0224d7e",
   "metadata": {},
   "outputs": [],
   "source": [
    "randomizedSearchCV.cv_results_"
   ]
  },
  {
   "cell_type": "code",
   "execution_count": null,
   "id": "01556367",
   "metadata": {},
   "outputs": [],
   "source": [
    "#\n",
    "# Estimator that was chosen by the search, i.e. estimator which gave highest\n",
    "# score (or smallest loss if specified) on the left out data.\n",
    "#\n",
    "randomizedSearchCV.best_estimator_"
   ]
  },
  {
   "cell_type": "code",
   "execution_count": null,
   "id": "6d651761",
   "metadata": {},
   "outputs": [],
   "source": [
    "randomizedSearchCV.best_score_"
   ]
  },
  {
   "cell_type": "code",
   "execution_count": null,
   "id": "3d1f8aff",
   "metadata": {},
   "outputs": [],
   "source": [
    "randomizedSearchCV.best_params_"
   ]
  },
  {
   "cell_type": "markdown",
   "id": "c56dd101",
   "metadata": {},
   "source": [
    "## 4.1.4.5 Pronóstico con el mejor modelo"
   ]
  },
  {
   "cell_type": "code",
   "execution_count": null,
   "id": "07195fab",
   "metadata": {},
   "outputs": [],
   "source": [
    "randomizedSearchCV.predict(X_train)"
   ]
  },
  {
   "cell_type": "code",
   "execution_count": null,
   "id": "55e0489e",
   "metadata": {},
   "outputs": [],
   "source": [
    "print('ok_')"
   ]
  }
 ],
 "metadata": {
  "kernelspec": {
   "display_name": "Python 3 (ipykernel)",
   "language": "python",
   "name": "python3"
  },
  "language_info": {
   "codemirror_mode": {
    "name": "ipython",
    "version": 3
   },
   "file_extension": ".py",
   "mimetype": "text/x-python",
   "name": "python",
   "nbconvert_exporter": "python",
   "pygments_lexer": "ipython3",
   "version": "3.11.5"
  },
  "vscode": {
   "interpreter": {
    "hash": "5238573367df39f7286bb46f9ff5f08f63a01a80960060ce41e3c79b190280fa"
   }
  }
 },
 "nbformat": 4,
 "nbformat_minor": 5
}
