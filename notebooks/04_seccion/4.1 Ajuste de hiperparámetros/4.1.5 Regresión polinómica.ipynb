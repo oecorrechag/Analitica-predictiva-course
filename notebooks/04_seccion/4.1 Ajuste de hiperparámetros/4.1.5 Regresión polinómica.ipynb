{
 "cells": [
  {
   "cell_type": "markdown",
   "id": "6bfc8fc6",
   "metadata": {},
   "source": [
    "# 4.1.5 Regresión polinómica"
   ]
  },
  {
   "cell_type": "code",
   "execution_count": null,
   "id": "53b57b40",
   "metadata": {},
   "outputs": [],
   "source": [
    "%load_ext autoreload\n",
    "%autoreload 2"
   ]
  },
  {
   "cell_type": "code",
   "execution_count": null,
   "id": "5fb86f3c",
   "metadata": {},
   "outputs": [],
   "source": [
    "import numpy as np\n",
    "\n",
    "import matplotlib.pyplot as plt\n",
    "\n",
    "from sklearn.linear_model import LinearRegression\n",
    "from sklearn.pipeline import make_pipeline\n",
    "from sklearn.preprocessing import MinMaxScaler, PolynomialFeatures\n",
    "from sklearn.model_selection import train_test_split\n",
    "from sklearn.model_selection import LeaveOneOut\n",
    "from sklearn.model_selection import GridSearchCV\n",
    "\n",
    "import warnings\n",
    "warnings.filterwarnings(\"ignore\")"
   ]
  },
  {
   "cell_type": "code",
   "execution_count": null,
   "id": "4c762bd1",
   "metadata": {},
   "outputs": [],
   "source": [
    "#\n",
    "# Función a aproximar\n",
    "# (Proceso geneador de datos)\n",
    "#\n",
    "def f(x):\n",
    "    return 2 * np.abs(np.sin(x * np.pi / 4 + 0.75)) / (1 + 0.1 * x)\n",
    "\n",
    "\n",
    "#\n",
    "# Datos reales.\n",
    "# (No disponibles en la realidad)\n",
    "#\n",
    "x_real = np.linspace(0, 10, 100)\n",
    "X_real = x_real[:, np.newaxis]\n",
    "y_real = f(x_real)"
   ]
  },
  {
   "cell_type": "code",
   "execution_count": null,
   "id": "271ba8a6",
   "metadata": {},
   "outputs": [],
   "source": [
    "#\n",
    "# Muestra de datos.\n",
    "# (Información disponible en la realidad)\n",
    "#\n",
    "rng = np.random.default_rng(12345)\n",
    "\n",
    "x_sample = x_real.copy()\n",
    "rng.shuffle(x_sample)\n",
    "x_sample = x_sample[:25]\n",
    "x_sample = np.sort(x_sample)\n",
    "\n",
    "y_sample = f(x_sample)\n",
    "X_sample = x_sample[:, np.newaxis]"
   ]
  },
  {
   "cell_type": "markdown",
   "id": "1965b073",
   "metadata": {},
   "source": [
    "## 4.1.5.1 Conjuntos de entrenamiento y test"
   ]
  },
  {
   "cell_type": "code",
   "execution_count": null,
   "id": "fe623fe5",
   "metadata": {},
   "outputs": [],
   "source": [
    "X_train, X_test, y_train_true, y_test_true = train_test_split(\n",
    "    X_sample,\n",
    "    y_sample,\n",
    "    test_size=5,\n",
    "    random_state=12345,\n",
    "    shuffle=True,\n",
    ")"
   ]
  },
  {
   "cell_type": "markdown",
   "id": "60f4e8c1",
   "metadata": {},
   "source": [
    "## 4.1.5.2 Especificación del modelo"
   ]
  },
  {
   "cell_type": "code",
   "execution_count": null,
   "id": "df571a77",
   "metadata": {},
   "outputs": [],
   "source": [
    "#\n",
    "# Define el modelo usando una tuberia\n",
    "#\n",
    "pipeline = make_pipeline(\n",
    "    PolynomialFeatures(include_bias=False),\n",
    "    MinMaxScaler(),\n",
    "    LinearRegression(),\n",
    ")\n",
    "\n",
    "print(pipeline)"
   ]
  },
  {
   "cell_type": "code",
   "execution_count": null,
   "id": "9ac1de89",
   "metadata": {},
   "outputs": [],
   "source": [
    "#\n",
    "# Esquema de validación cruzada\n",
    "#\n",
    "leaveOneOut = LeaveOneOut()\n",
    "\n",
    "leaveOneOut"
   ]
  },
  {
   "cell_type": "code",
   "execution_count": null,
   "id": "5e5294e1",
   "metadata": {},
   "outputs": [],
   "source": [
    "param_grid = [\n",
    "    {\n",
    "        \"polynomialfeatures__degree\": list(range(1, 24)),\n",
    "    },\n",
    "]\n",
    "\n",
    "gridSearchCV = GridSearchCV(\n",
    "    estimator=pipeline,\n",
    "    param_grid=param_grid,\n",
    "    cv=leaveOneOut,\n",
    "    scoring=\"neg_mean_squared_error\",\n",
    "    refit=True,\n",
    ")\n",
    "\n",
    "print(gridSearchCV)"
   ]
  },
  {
   "cell_type": "markdown",
   "id": "d77d2377",
   "metadata": {},
   "source": [
    "## 4.1.5.3 Búsqueda de hiperparámetros"
   ]
  },
  {
   "cell_type": "code",
   "execution_count": null,
   "id": "53546806",
   "metadata": {},
   "outputs": [],
   "source": [
    "gridSearchCV.fit(X_train, y_train_true)"
   ]
  },
  {
   "cell_type": "code",
   "execution_count": null,
   "id": "c4814a37",
   "metadata": {},
   "outputs": [],
   "source": [
    "gridSearchCV.best_params_"
   ]
  },
  {
   "cell_type": "markdown",
   "id": "b56424d5",
   "metadata": {},
   "source": [
    "## 4.1.5.4 Pronóstico"
   ]
  },
  {
   "cell_type": "code",
   "execution_count": null,
   "id": "429b084a",
   "metadata": {},
   "outputs": [],
   "source": [
    "y_pred = gridSearchCV.predict(X_real)"
   ]
  },
  {
   "cell_type": "markdown",
   "id": "875b7166",
   "metadata": {},
   "source": [
    "## 4.1.5.5 Visualización de resultados"
   ]
  },
  {
   "cell_type": "code",
   "execution_count": null,
   "id": "7a8aab4e",
   "metadata": {},
   "outputs": [],
   "source": [
    "plt.figure(figsize=(5, 5))\n",
    "\n",
    "plt.plot(x_real, y_real, \"--\", color=\"tab:blue\", alpha=0.8, zorder=10)\n",
    "plt.plot(x_sample, y_sample, \"o\", color=\"tab:blue\", alpha=0.8, zorder=10)\n",
    "\n",
    "plt.plot(\n",
    "    x_real,\n",
    "    y_pred,\n",
    "    color=\"black\",\n",
    "    linewidth=2,\n",
    ")\n",
    "\n",
    "plt.xticks([], [])\n",
    "plt.yticks([], [])\n",
    "\n",
    "plt.gca().spines[\"left\"].set_color(\"gray\")\n",
    "plt.gca().spines[\"bottom\"].set_color(\"gray\")\n",
    "plt.gca().spines[\"top\"].set_visible(False)\n",
    "plt.gca().spines[\"right\"].set_visible(False)\n",
    "\n",
    "plt.show()"
   ]
  },
  {
   "cell_type": "code",
   "execution_count": null,
   "id": "55e0489e",
   "metadata": {},
   "outputs": [],
   "source": [
    "print('ok_')"
   ]
  }
 ],
 "metadata": {
  "kernelspec": {
   "display_name": "Python 3 (ipykernel)",
   "language": "python",
   "name": "python3"
  },
  "language_info": {
   "codemirror_mode": {
    "name": "ipython",
    "version": 3
   },
   "file_extension": ".py",
   "mimetype": "text/x-python",
   "name": "python",
   "nbconvert_exporter": "python",
   "pygments_lexer": "ipython3",
   "version": "3.11.5"
  },
  "vscode": {
   "interpreter": {
    "hash": "5238573367df39f7286bb46f9ff5f08f63a01a80960060ce41e3c79b190280fa"
   }
  }
 },
 "nbformat": 4,
 "nbformat_minor": 5
}
