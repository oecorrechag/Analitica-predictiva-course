{
 "cells": [
  {
   "cell_type": "markdown",
   "id": "6bfc8fc6",
   "metadata": {},
   "source": [
    "# 4.2.1 APIs para medir la calidad de las predicciones de los modelos\n",
    "\n",
    "- Método score en estimadores.\n",
    "- Parámetro scoring en validación cruzada (GridSearchCV y cross_val_score)\n",
    "- Funciones que computan metricas disponibles en el módulo sklearn.metrics:\n",
    "    - Métricas de clasificación.\n",
    "    - Métricas de regresión.\n",
    "    - Métricas de agrupamiento."
   ]
  },
  {
   "cell_type": "code",
   "execution_count": 32,
   "id": "55e0489e",
   "metadata": {},
   "outputs": [
    {
     "name": "stdout",
     "output_type": "stream",
     "text": [
      "ok_\n"
     ]
    }
   ],
   "source": [
    "print('ok_')"
   ]
  }
 ],
 "metadata": {
  "kernelspec": {
   "display_name": "Python 3 (ipykernel)",
   "language": "python",
   "name": "python3"
  },
  "language_info": {
   "codemirror_mode": {
    "name": "ipython",
    "version": 3
   },
   "file_extension": ".py",
   "mimetype": "text/x-python",
   "name": "python",
   "nbconvert_exporter": "python",
   "pygments_lexer": "ipython3",
   "version": "3.11.5"
  },
  "vscode": {
   "interpreter": {
    "hash": "5238573367df39f7286bb46f9ff5f08f63a01a80960060ce41e3c79b190280fa"
   }
  }
 },
 "nbformat": 4,
 "nbformat_minor": 5
}
