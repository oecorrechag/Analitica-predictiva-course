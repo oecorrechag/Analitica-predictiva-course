{
 "cells": [
  {
   "cell_type": "markdown",
   "id": "6bfc8fc6",
   "metadata": {},
   "source": [
    "# 4.2.2 Valores predefinidos"
   ]
  },
  {
   "cell_type": "code",
   "execution_count": null,
   "id": "1d90735b",
   "metadata": {},
   "outputs": [],
   "source": [
    "%load_ext autoreload\n",
    "%autoreload 2"
   ]
  },
  {
   "cell_type": "code",
   "execution_count": null,
   "id": "9885dbd4",
   "metadata": {},
   "outputs": [],
   "source": [
    "from sklearn import datasets, svm\n",
    "from sklearn.model_selection import cross_val_score\n",
    "from sklearn.metrics import get_scorer_names\n",
    "\n",
    "import warnings\n",
    "warnings.filterwarnings(\"ignore\")"
   ]
  },
  {
   "cell_type": "markdown",
   "id": "4a5faf99",
   "metadata": {},
   "source": [
    "Estas métricas están disponibles en: https://scikit-learn.org/stable/modules/model_evaluation.html\n",
    "\n",
    "Listado de funciones disponibles:"
   ]
  },
  {
   "cell_type": "code",
   "execution_count": null,
   "id": "11ffa76e",
   "metadata": {},
   "outputs": [],
   "source": [
    "get_scorer_names()"
   ]
  },
  {
   "cell_type": "markdown",
   "id": "3568cc95",
   "metadata": {},
   "source": [
    "## 4.2.2.1 Ejemplo"
   ]
  },
  {
   "cell_type": "code",
   "execution_count": null,
   "id": "dce6dea1",
   "metadata": {},
   "outputs": [],
   "source": [
    "X, y = datasets.load_iris(return_X_y=True)\n",
    "clf = svm.SVC(random_state=0)\n",
    "cross_val_score(clf, X, y, cv=5, scoring=\"accuracy\")"
   ]
  },
  {
   "cell_type": "code",
   "execution_count": null,
   "id": "55e0489e",
   "metadata": {},
   "outputs": [],
   "source": [
    "print('ok_')"
   ]
  }
 ],
 "metadata": {
  "kernelspec": {
   "display_name": "Python 3 (ipykernel)",
   "language": "python",
   "name": "python3"
  },
  "language_info": {
   "codemirror_mode": {
    "name": "ipython",
    "version": 3
   },
   "file_extension": ".py",
   "mimetype": "text/x-python",
   "name": "python",
   "nbconvert_exporter": "python",
   "pygments_lexer": "ipython3",
   "version": "3.11.5"
  },
  "vscode": {
   "interpreter": {
    "hash": "5238573367df39f7286bb46f9ff5f08f63a01a80960060ce41e3c79b190280fa"
   }
  }
 },
 "nbformat": 4,
 "nbformat_minor": 5
}
