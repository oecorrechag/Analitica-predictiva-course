{
 "cells": [
  {
   "cell_type": "markdown",
   "id": "6bfc8fc6",
   "metadata": {},
   "source": [
    "# 4.2.3 Definición de estrategias de scoring"
   ]
  },
  {
   "cell_type": "code",
   "execution_count": 1,
   "id": "1d90735b",
   "metadata": {},
   "outputs": [],
   "source": [
    "%load_ext autoreload\n",
    "%autoreload 2"
   ]
  },
  {
   "cell_type": "code",
   "execution_count": 5,
   "id": "9885dbd4",
   "metadata": {},
   "outputs": [],
   "source": [
    "import numpy as np\n",
    "\n",
    "from sklearn.dummy import DummyClassifier\n",
    "from sklearn.metrics import fbeta_score, make_scorer\n",
    "from sklearn.model_selection import GridSearchCV\n",
    "from sklearn.svm import LinearSVC\n",
    "\n",
    "import warnings\n",
    "warnings.filterwarnings(\"ignore\")"
   ]
  },
  {
   "cell_type": "markdown",
   "id": "4a5faf99",
   "metadata": {},
   "source": [
    "## 4.2.3.1 Notación básica\n",
    "\n",
    "Funciones que terminan con un _score retornan un valor que se debe maximizar. <br>\n",
    "Funciones que terminan con un _error o _loss retornan un valor que se debe minimizar.\n",
    "\n",
    "## 4.2.3.2 Transformación de métricas a funciones de scoring con make_scorer"
   ]
  },
  {
   "cell_type": "code",
   "execution_count": 3,
   "id": "11ffa76e",
   "metadata": {},
   "outputs": [],
   "source": [
    "ftwo_scorer = make_scorer(\n",
    "    # -------------------------------------------------------------------------\n",
    "    # Score function (or loss function) with signature\n",
    "    # score_func(y, y_pred, **kwargs).\n",
    "    score_func=fbeta_score,\n",
    "    # -------------------------------------------------------------------------\n",
    "    # Whether score_func is a score function (default), meaning high is good,\n",
    "    # or a loss function, meaning low is good. In the latter case, the scorer\n",
    "    # object will sign-flip the outcome of the score_func.\n",
    "    greater_is_better=True,\n",
    "    # -------------------------------------------------------------------------\n",
    "    # Additional parameters to be passed to score_func\n",
    "    beta=2,\n",
    ")\n",
    "\n",
    "\n",
    "grid = GridSearchCV(\n",
    "    LinearSVC(),\n",
    "    param_grid={\"C\": [1, 10]},\n",
    "    scoring=ftwo_scorer,\n",
    "    cv=5,\n",
    ")"
   ]
  },
  {
   "cell_type": "code",
   "execution_count": 8,
   "id": "db395319",
   "metadata": {},
   "outputs": [
    {
     "name": "stdout",
     "output_type": "stream",
     "text": [
      "0.6931471805599453\n",
      "-0.6931471805599453\n"
     ]
    }
   ],
   "source": [
    "def my_custom_loss_func(y_true, y_pred):\n",
    "    diff = np.abs(y_true - y_pred).max()\n",
    "    return np.log1p(diff)\n",
    "\n",
    "#\n",
    "# score will negate the return value of my_custom_loss_func,\n",
    "# which will be np.log(2), 0.693, given the values for X\n",
    "# and y defined below.\n",
    "#\n",
    "score = make_scorer(my_custom_loss_func, greater_is_better=False)\n",
    "\n",
    "X = [[1], [1]]\n",
    "y = [0, 1]\n",
    "\n",
    "clf = DummyClassifier(\n",
    "    strategy=\"most_frequent\",\n",
    "    random_state=0,\n",
    ")\n",
    "\n",
    "clf = clf.fit(X, y)\n",
    "\n",
    "print(my_custom_loss_func(y, clf.predict(X)))\n",
    "print(score(clf, X, y))"
   ]
  },
  {
   "cell_type": "code",
   "execution_count": null,
   "id": "55e0489e",
   "metadata": {},
   "outputs": [
    {
     "name": "stdout",
     "output_type": "stream",
     "text": [
      "ok_\n"
     ]
    }
   ],
   "source": [
    "print('ok_')"
   ]
  }
 ],
 "metadata": {
  "kernelspec": {
   "display_name": "Python 3 (ipykernel)",
   "language": "python",
   "name": "python3"
  },
  "language_info": {
   "codemirror_mode": {
    "name": "ipython",
    "version": 3
   },
   "file_extension": ".py",
   "mimetype": "text/x-python",
   "name": "python",
   "nbconvert_exporter": "python",
   "pygments_lexer": "ipython3",
   "version": "3.11.5"
  },
  "vscode": {
   "interpreter": {
    "hash": "5238573367df39f7286bb46f9ff5f08f63a01a80960060ce41e3c79b190280fa"
   }
  }
 },
 "nbformat": 4,
 "nbformat_minor": 5
}
