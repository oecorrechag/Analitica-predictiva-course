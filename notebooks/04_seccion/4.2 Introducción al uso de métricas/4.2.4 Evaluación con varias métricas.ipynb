{
 "cells": [
  {
   "cell_type": "markdown",
   "id": "6bfc8fc6",
   "metadata": {},
   "source": [
    "# 4.2.4 Evaluación con varias métricas"
   ]
  },
  {
   "cell_type": "code",
   "execution_count": 7,
   "id": "1d90735b",
   "metadata": {},
   "outputs": [
    {
     "name": "stdout",
     "output_type": "stream",
     "text": [
      "The autoreload extension is already loaded. To reload it, use:\n",
      "  %reload_ext autoreload\n"
     ]
    }
   ],
   "source": [
    "%load_ext autoreload\n",
    "%autoreload 2"
   ]
  },
  {
   "cell_type": "code",
   "execution_count": 8,
   "id": "9885dbd4",
   "metadata": {},
   "outputs": [],
   "source": [
    "from sklearn.datasets import make_classification\n",
    "from sklearn.model_selection import cross_validate\n",
    "from sklearn.svm import LinearSVC\n",
    "from sklearn.metrics import confusion_matrix, accuracy_score, make_scorer\n",
    "\n",
    "import warnings\n",
    "warnings.filterwarnings(\"ignore\")"
   ]
  },
  {
   "cell_type": "markdown",
   "id": "4a5faf99",
   "metadata": {},
   "source": [
    "Scikit-learn permite la evaluación de varias métricas en GridSearchCV, RandomizedSearchCV y cross_validate."
   ]
  },
  {
   "cell_type": "code",
   "execution_count": 9,
   "id": "51cc2f98",
   "metadata": {},
   "outputs": [],
   "source": [
    "#\n",
    "# Como un iterable de strings\n",
    "#\n",
    "scoring = [\"accuracy\", \"precision\"]"
   ]
  },
  {
   "cell_type": "code",
   "execution_count": 10,
   "id": "db1e3a61",
   "metadata": {},
   "outputs": [],
   "source": [
    "#\n",
    "# Como un diccionario\n",
    "#\n",
    "scoring = {\n",
    "    \"accuracy\": make_scorer(accuracy_score),\n",
    "    \"prec\": \"precision\",\n",
    "}"
   ]
  },
  {
   "cell_type": "code",
   "execution_count": 11,
   "id": "a42d21ce",
   "metadata": {},
   "outputs": [
    {
     "name": "stdout",
     "output_type": "stream",
     "text": [
      "test_tp: [10  9  8  7  8]\n",
      "test_fn: [0 1 2 3 2]\n"
     ]
    }
   ],
   "source": [
    "#\n",
    "# Como una función\n",
    "#\n",
    "X, y = make_classification(n_classes=2, random_state=0)\n",
    "svm = LinearSVC(random_state=0)\n",
    "\n",
    "\n",
    "def confusion_matrix_scorer(clf, X, y):\n",
    "    y_pred = clf.predict(X)\n",
    "    cm = confusion_matrix(y, y_pred)\n",
    "    return {\n",
    "        \"tn\": cm[0, 0],\n",
    "        \"fp\": cm[0, 1],\n",
    "        \"fn\": cm[1, 0],\n",
    "        \"tp\": cm[1, 1],\n",
    "    }\n",
    "\n",
    "cv_results = cross_validate(\n",
    "    svm,\n",
    "    X,\n",
    "    y,\n",
    "    cv=5,\n",
    "    scoring=confusion_matrix_scorer,\n",
    ")\n",
    "\n",
    "print(\"test_tp:\", cv_results[\"test_tp\"])\n",
    "print(\"test_fn:\", cv_results[\"test_fn\"])"
   ]
  },
  {
   "cell_type": "code",
   "execution_count": 12,
   "id": "49b02c42",
   "metadata": {},
   "outputs": [
    {
     "data": {
      "text/plain": [
       "{'fit_time': array([0.00504589, 0.00452733, 0.00321698, 0.00334835, 0.00345278]),\n",
       " 'score_time': array([0.00239539, 0.01266074, 0.00161004, 0.01410842, 0.00580049]),\n",
       " 'test_tn': array([ 5,  9,  8,  6, 10]),\n",
       " 'test_fp': array([5, 1, 2, 4, 0]),\n",
       " 'test_fn': array([0, 1, 2, 3, 2]),\n",
       " 'test_tp': array([10,  9,  8,  7,  8])}"
      ]
     },
     "execution_count": 12,
     "metadata": {},
     "output_type": "execute_result"
    }
   ],
   "source": [
    "#\n",
    "# Nota\n",
    "#\n",
    "cv_results"
   ]
  },
  {
   "cell_type": "code",
   "execution_count": 13,
   "id": "55e0489e",
   "metadata": {},
   "outputs": [
    {
     "name": "stdout",
     "output_type": "stream",
     "text": [
      "ok_\n"
     ]
    }
   ],
   "source": [
    "print('ok_')"
   ]
  }
 ],
 "metadata": {
  "kernelspec": {
   "display_name": "Python 3 (ipykernel)",
   "language": "python",
   "name": "python3"
  },
  "language_info": {
   "codemirror_mode": {
    "name": "ipython",
    "version": 3
   },
   "file_extension": ".py",
   "mimetype": "text/x-python",
   "name": "python",
   "nbconvert_exporter": "python",
   "pygments_lexer": "ipython3",
   "version": "3.11.5"
  },
  "vscode": {
   "interpreter": {
    "hash": "5238573367df39f7286bb46f9ff5f08f63a01a80960060ce41e3c79b190280fa"
   }
  }
 },
 "nbformat": 4,
 "nbformat_minor": 5
}
