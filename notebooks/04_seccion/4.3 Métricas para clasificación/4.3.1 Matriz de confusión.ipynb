{
 "cells": [
  {
   "cell_type": "markdown",
   "id": "6bfc8fc6",
   "metadata": {},
   "source": [
    "# 4.3.1 Matriz de confusión"
   ]
  },
  {
   "cell_type": "code",
   "execution_count": null,
   "id": "1d90735b",
   "metadata": {},
   "outputs": [],
   "source": [
    "%load_ext autoreload\n",
    "%autoreload 2"
   ]
  },
  {
   "cell_type": "code",
   "execution_count": null,
   "id": "9885dbd4",
   "metadata": {},
   "outputs": [],
   "source": [
    "import pandas as pd\n",
    "import numpy as np\n",
    "\n",
    "import matplotlib.pyplot as plt\n",
    "\n",
    "from sklearn import datasets, svm\n",
    "from sklearn.model_selection import train_test_split\n",
    "from sklearn.metrics import confusion_matrix, ConfusionMatrixDisplay\n",
    "\n",
    "\n",
    "pd.set_option('display.max_columns', None)\n",
    "pd.set_option('display.max_rows', None)\n",
    "import warnings\n",
    "warnings.filterwarnings(\"ignore\")"
   ]
  },
  {
   "attachments": {
    "matrix.PNG": {
     "image/png": "[encoded data removed]"
    }
   },
   "cell_type": "markdown",
   "id": "4a5faf99",
   "metadata": {},
   "source": [
    "Es una matriz que permite visualizar el desempeño de un clasificador. <br>\n",
    "La organización típica es la presentada a continuación:\n",
    "\n",
    "![matrix.PNG](attachment:matrix.PNG)\n",
    "\n"
   ]
  },
  {
   "cell_type": "code",
   "execution_count": null,
   "id": "2967484f",
   "metadata": {},
   "outputs": [],
   "source": [
    "y_true = [1, 1, 1, 1, 0, 0, 0, 0, 0, 0, 0, 0, 0, 0, 0]\n",
    "y_pred = [1, 0, 0, 0, 1, 0, 0, 0, 0, 0, 0, 0, 0, 0, 0]\n",
    "\n",
    "#\n",
    "#         | Pronostico\n",
    "#         |   0    1\n",
    "# --------|-----------\n",
    "#       0 |  10    1\n",
    "# Real    |\n",
    "#       1 |   3    1\n",
    "#\n",
    "\n",
    "confusion_matrix(\n",
    "    # -------------------------------------------------------------------------\n",
    "    # Ground truth (correct) target values.\n",
    "    y_true=y_true,\n",
    "    # -------------------------------------------------------------------------\n",
    "    # Estimated targets as returned by a classifier.\n",
    "    y_pred=y_pred,\n",
    "    # -------------------------------------------------------------------------\n",
    "    # List of labels to index the matrix.\n",
    "    labels=None,\n",
    "    # -------------------------------------------------------------------------\n",
    "    # Normalizes confusion matrix over the true (rows), predicted (columns)\n",
    "    # conditions or all the population.\n",
    "    # 'true', 'pred', 'all'\n",
    "    normalize=None,\n",
    ")"
   ]
  },
  {
   "cell_type": "code",
   "execution_count": null,
   "id": "6892081b",
   "metadata": {},
   "outputs": [],
   "source": [
    "confusion_matrix(\n",
    "    y_true=y_true,\n",
    "    y_pred=y_pred,\n",
    "    labels=[1, 0],\n",
    "    normalize=None,\n",
    ")"
   ]
  },
  {
   "cell_type": "code",
   "execution_count": null,
   "id": "d49a0ea9",
   "metadata": {},
   "outputs": [],
   "source": [
    "pd.DataFrame(\n",
    "    confusion_matrix(\n",
    "        y_true=y_true,\n",
    "        y_pred=y_pred,\n",
    "        labels=[1, 0],\n",
    "        normalize=None,\n",
    "    ),\n",
    "    columns=[\"PP=1\", \"PF=0\"],\n",
    "    index=[\"P=1\", \"F=0\"],\n",
    ")\n",
    "\n",
    "#\n",
    "#          | Pronóstico\n",
    "#          |  PP    PN\n",
    "# ---------|------------\n",
    "#       P  |  TP    FN\n",
    "# Real     |\n",
    "#       N  |  FP    TN\n",
    "#"
   ]
  },
  {
   "cell_type": "code",
   "execution_count": null,
   "id": "dd11c1fc",
   "metadata": {},
   "outputs": [],
   "source": [
    "#\n",
    "# Extracción de los elementos de la matriz de confusión\n",
    "#\n",
    "tn, fp, fn, tp = confusion_matrix(\n",
    "    y_true=y_true,\n",
    "    y_pred=y_pred,\n",
    ").ravel()\n",
    "\n",
    "display(\n",
    "    tn,\n",
    "    fp,\n",
    "    fn,\n",
    "    tp,\n",
    ")"
   ]
  },
  {
   "cell_type": "markdown",
   "id": "a07d0558",
   "metadata": {},
   "source": [
    "## 4.3.1.1 Matriz de confusión para más de dos clases"
   ]
  },
  {
   "cell_type": "code",
   "execution_count": null,
   "id": "208e0558",
   "metadata": {},
   "outputs": [],
   "source": [
    "iris = datasets.load_iris()\n",
    "X = iris.data\n",
    "y = iris.target\n",
    "class_names = iris.target_names\n",
    "\n",
    "\n",
    "X_train, X_test, y_train, y_test = train_test_split(X, y, random_state=0)\n",
    "\n",
    "classifier = svm.SVC(kernel=\"linear\", C=0.01).fit(X_train, y_train)\n",
    "\n",
    "np.set_printoptions(precision=2)\n",
    "\n",
    "disp = ConfusionMatrixDisplay.from_estimator(\n",
    "    classifier,\n",
    "    X_test,\n",
    "    y_test,\n",
    "    display_labels=class_names,\n",
    "    cmap=plt.cm.Blues,\n",
    "    normalize=None,\n",
    ")\n",
    "print(disp.confusion_matrix)\n",
    "\n",
    "plt.show()"
   ]
  },
  {
   "cell_type": "markdown",
   "id": "571f86b2",
   "metadata": {},
   "source": [
    "## 4.3.1.2 Normalización"
   ]
  },
  {
   "cell_type": "code",
   "execution_count": null,
   "id": "9e486bca",
   "metadata": {},
   "outputs": [],
   "source": [
    "#\n",
    "# Normalización sobre las filas (true)\n",
    "#\n",
    "ConfusionMatrixDisplay.from_estimator(\n",
    "    classifier,\n",
    "    X_test,\n",
    "    y_test,\n",
    "    display_labels=class_names,\n",
    "    cmap=plt.cm.Blues,\n",
    "    normalize=\"true\",\n",
    ")\n",
    "plt.show()"
   ]
  },
  {
   "cell_type": "code",
   "execution_count": null,
   "id": "c9197463",
   "metadata": {},
   "outputs": [],
   "source": [
    "#\n",
    "# Normalización sobre las columnas (pred)\n",
    "#\n",
    "ConfusionMatrixDisplay.from_estimator(\n",
    "    classifier,\n",
    "    X_test,\n",
    "    y_test,\n",
    "    display_labels=class_names,\n",
    "    cmap=plt.cm.Blues,\n",
    "    normalize=\"pred\",\n",
    ")\n",
    "plt.show()"
   ]
  },
  {
   "cell_type": "code",
   "execution_count": null,
   "id": "a3d22b36",
   "metadata": {},
   "outputs": [],
   "source": [
    "#\n",
    "# Normalización sobre todos los datos\n",
    "#\n",
    "ConfusionMatrixDisplay.from_estimator(\n",
    "    classifier,\n",
    "    X_test,\n",
    "    y_test,\n",
    "    display_labels=class_names,\n",
    "    cmap=plt.cm.Blues,\n",
    "    normalize=\"all\",\n",
    ")\n",
    "plt.show()"
   ]
  },
  {
   "cell_type": "code",
   "execution_count": null,
   "id": "55e0489e",
   "metadata": {},
   "outputs": [],
   "source": [
    "print('ok_')"
   ]
  }
 ],
 "metadata": {
  "kernelspec": {
   "display_name": "Python 3 (ipykernel)",
   "language": "python",
   "name": "python3"
  },
  "language_info": {
   "codemirror_mode": {
    "name": "ipython",
    "version": 3
   },
   "file_extension": ".py",
   "mimetype": "text/x-python",
   "name": "python",
   "nbconvert_exporter": "python",
   "pygments_lexer": "ipython3",
   "version": "3.12.1"
  },
  "vscode": {
   "interpreter": {
    "hash": "5238573367df39f7286bb46f9ff5f08f63a01a80960060ce41e3c79b190280fa"
   }
  }
 },
 "nbformat": 4,
 "nbformat_minor": 5
}
