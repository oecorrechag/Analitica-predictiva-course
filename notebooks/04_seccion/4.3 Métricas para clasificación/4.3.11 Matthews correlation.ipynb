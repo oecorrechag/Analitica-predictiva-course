{
 "cells": [
  {
   "cell_type": "markdown",
   "id": "6bfc8fc6",
   "metadata": {},
   "source": [
    "# 4.3.11 Matthews correlation coefficient"
   ]
  },
  {
   "cell_type": "code",
   "execution_count": 2,
   "id": "1d90735b",
   "metadata": {},
   "outputs": [],
   "source": [
    "%load_ext autoreload\n",
    "%autoreload 2"
   ]
  },
  {
   "cell_type": "code",
   "execution_count": 3,
   "id": "9885dbd4",
   "metadata": {},
   "outputs": [],
   "source": [
    "from sklearn.metrics import matthews_corrcoef, accuracy_score\n",
    "\n",
    "import warnings\n",
    "warnings.filterwarnings(\"ignore\")"
   ]
  },
  {
   "cell_type": "markdown",
   "id": "1794033b",
   "metadata": {},
   "source": [
    "Es una medida de la calidad de la clasificación binaria que tiene en cuenta falsos positivos y falsos negativos que es robusta ante clases muy desbalanceadas.\n",
    "\n",
    "Varia entre −1 y +1.\n",
    "\n",
    "Interpretación:\n",
    "\n",
    "        +1  indica predicción perfecta.\n",
    "        0  indica predicción aleatoria promedio.\n",
    "        −1  indica predicción inversa.\n",
    "\n",
    "Se computa como:\n",
    "\n",
    "$$ MCC = \\frac{TP×TN−FP×FN}{\\sqrt{(TP+FP)(FP+TN)(TP+FN)(FN+TN)}} $$\n",
    "\n"
   ]
  },
  {
   "cell_type": "code",
   "execution_count": 27,
   "id": "c63a6446",
   "metadata": {},
   "outputs": [
    {
     "data": {
      "text/plain": [
       "0.7878787878787878"
      ]
     },
     "execution_count": 27,
     "metadata": {},
     "output_type": "execute_result"
    }
   ],
   "source": [
    "y_true = [+1, +1, +1, -1, -1, 1, -1, -1, 1, -1, 0, 1, 2, 3]\n",
    "y_pred = [+1, -1, +1, +1, -1, 1, -1, -1, 1, -1, 0, 1, 2, 3]\n",
    "\n",
    "#           |  y_pred\n",
    "#           |  +1  -1\n",
    "# ----------|-----------     |--------\n",
    "#        +1 |   2  1         | TP  FN\n",
    "# y_true    |                |\n",
    "#        -1 |   1  0         | FP  TN\n",
    "#\n",
    "#                        2 * 0 - 1 * 1                              -1\n",
    "#     MCC = --------------------------------------------- = -------------------\n",
    "#            sqrt((2 + 1) * (1 + 0) * (2 + 1) * (1 + 0))    sqrt(3 * 1 * 3 * 1)\n",
    "#\n",
    "#              -1          1\n",
    "#         = --------- = - ---\n",
    "#            sqrt(9)       3\n",
    "#\n",
    "matthews_corrcoef(\n",
    "    # -------------------------------------------------------------------------\n",
    "    # Ground truth (correct) target values.\n",
    "    y_true=y_true,\n",
    "    # -------------------------------------------------------------------------\n",
    "    # Estimated targets as returned by a classifier.\n",
    "    y_pred=y_pred,\n",
    "    # -------------------------------------------------------------------------\n",
    "    # Sample weights.\n",
    "    sample_weight=None,\n",
    ")"
   ]
  },
  {
   "cell_type": "code",
   "execution_count": 30,
   "id": "c7904835",
   "metadata": {},
   "outputs": [
    {
     "data": {
      "text/plain": [
       "0.8571428571428571"
      ]
     },
     "execution_count": 30,
     "metadata": {},
     "output_type": "execute_result"
    }
   ],
   "source": [
    "accuracy_score(\n",
    "    # -------------------------------------------------------------------------\n",
    "    # Ground truth (correct) labels.\n",
    "    y_true=y_true,\n",
    "    # -------------------------------------------------------------------------\n",
    "    # Predicted labels, as returned by a classifier.\n",
    "    y_pred=y_pred,\n",
    "    # -------------------------------------------------------------------------\n",
    "    # If False, return the number of correctly classified samples. Otherwise,\n",
    "    # return the fraction of correctly classified samples.\n",
    "    normalize=True,\n",
    "    # -------------------------------------------------------------------------\n",
    "    # Sample weights.\n",
    "    sample_weight=None,\n",
    ")"
   ]
  },
  {
   "cell_type": "code",
   "execution_count": 6,
   "id": "55e0489e",
   "metadata": {},
   "outputs": [
    {
     "name": "stdout",
     "output_type": "stream",
     "text": [
      "ok_\n"
     ]
    }
   ],
   "source": [
    "print('ok_')"
   ]
  }
 ],
 "metadata": {
  "kernelspec": {
   "display_name": "Python 3 (ipykernel)",
   "language": "python",
   "name": "python3"
  },
  "language_info": {
   "codemirror_mode": {
    "name": "ipython",
    "version": 3
   },
   "file_extension": ".py",
   "mimetype": "text/x-python",
   "name": "python",
   "nbconvert_exporter": "python",
   "pygments_lexer": "ipython3",
   "version": "3.11.5"
  },
  "vscode": {
   "interpreter": {
    "hash": "5238573367df39f7286bb46f9ff5f08f63a01a80960060ce41e3c79b190280fa"
   }
  }
 },
 "nbformat": 4,
 "nbformat_minor": 5
}
