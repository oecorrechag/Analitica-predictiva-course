{
 "cells": [
  {
   "cell_type": "markdown",
   "id": "6bfc8fc6",
   "metadata": {},
   "source": [
    "# 4.3.13 Zero one loss"
   ]
  },
  {
   "cell_type": "code",
   "execution_count": null,
   "id": "1d90735b",
   "metadata": {},
   "outputs": [],
   "source": [
    "%load_ext autoreload\n",
    "%autoreload 2"
   ]
  },
  {
   "cell_type": "code",
   "execution_count": null,
   "id": "9885dbd4",
   "metadata": {},
   "outputs": [],
   "source": [
    "from itertools import cycle\n",
    "import matplotlib.pyplot as plt\n",
    "import numpy as np\n",
    "from scipy import interp\n",
    "from sklearn import datasets, svm\n",
    "from sklearn.metrics import auc, roc_auc_score, roc_curve, zero_one_loss\n",
    "from sklearn.model_selection import train_test_split\n",
    "from sklearn.multiclass import OneVsRestClassifier\n",
    "from sklearn.preprocessing import label_binarize\n",
    "\n",
    "import warnings\n",
    "warnings.filterwarnings(\"ignore\")"
   ]
  },
  {
   "cell_type": "markdown",
   "id": "1794033b",
   "metadata": {},
   "source": [
    "Calcula la suma o el promedio de perdida de clasificación $0-1$ sobre $n_{samples}$\n",
    "\n",
    "Se computa como:\n",
    "\n",
    "$$ L_{0-1}(y, \\hat{y}) = \\frac{1}{n_{samples}} \\sum_{i=0}^{samples-1} 1(\\hat{y_i} \\not= y_i) = 1 - \\ accuracy(y, \\hat{y}) $$"
   ]
  },
  {
   "cell_type": "code",
   "execution_count": null,
   "id": "95419478",
   "metadata": {},
   "outputs": [],
   "source": [
    "y_pred = [1, 2, 3, 4]\n",
    "y_true = [2, 2, 3, 4]\n",
    "\n",
    "zero_one_loss(\n",
    "    # -------------------------------------------------------------------------\n",
    "    # Ground truth (correct) target values.\n",
    "    y_true=y_true,\n",
    "    # -------------------------------------------------------------------------\n",
    "    # Estimated targets as returned by a classifier.\n",
    "    y_pred=y_pred,\n",
    "    # -------------------------------------------------------------------------\n",
    "    # If False, return the number of misclassifications. Otherwise, return the\n",
    "    # fraction of misclassifications.\n",
    "    normalize=True,\n",
    "    # -------------------------------------------------------------------------\n",
    "    # Sample weights.\n",
    "    sample_weight=None,\n",
    "\n",
    ")"
   ]
  },
  {
   "cell_type": "code",
   "execution_count": null,
   "id": "02cfb8b5",
   "metadata": {},
   "outputs": [],
   "source": [
    "zero_one_loss(\n",
    "    y_true,\n",
    "    y_pred,\n",
    "    normalize=False,\n",
    ")"
   ]
  },
  {
   "cell_type": "code",
   "execution_count": null,
   "id": "55e0489e",
   "metadata": {},
   "outputs": [],
   "source": [
    "print('ok_')"
   ]
  }
 ],
 "metadata": {
  "kernelspec": {
   "display_name": "Python 3 (ipykernel)",
   "language": "python",
   "name": "python3"
  },
  "language_info": {
   "codemirror_mode": {
    "name": "ipython",
    "version": 3
   },
   "file_extension": ".py",
   "mimetype": "text/x-python",
   "name": "python",
   "nbconvert_exporter": "python",
   "pygments_lexer": "ipython3",
   "version": "3.11.5"
  },
  "vscode": {
   "interpreter": {
    "hash": "5238573367df39f7286bb46f9ff5f08f63a01a80960060ce41e3c79b190280fa"
   }
  }
 },
 "nbformat": 4,
 "nbformat_minor": 5
}
