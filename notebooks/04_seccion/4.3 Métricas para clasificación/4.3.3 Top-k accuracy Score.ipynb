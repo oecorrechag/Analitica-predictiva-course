{
 "cells": [
  {
   "cell_type": "markdown",
   "id": "6bfc8fc6",
   "metadata": {},
   "source": [
    "# 4.3.3 Top-k accuracy Score"
   ]
  },
  {
   "cell_type": "code",
   "execution_count": 4,
   "id": "1d90735b",
   "metadata": {},
   "outputs": [
    {
     "name": "stdout",
     "output_type": "stream",
     "text": [
      "The autoreload extension is already loaded. To reload it, use:\n",
      "  %reload_ext autoreload\n"
     ]
    }
   ],
   "source": [
    "%load_ext autoreload\n",
    "%autoreload 2"
   ]
  },
  {
   "cell_type": "code",
   "execution_count": 5,
   "id": "9885dbd4",
   "metadata": {},
   "outputs": [],
   "source": [
    "import numpy as np\n",
    "from sklearn.metrics import top_k_accuracy_score\n",
    "\n",
    "import warnings\n",
    "warnings.filterwarnings(\"ignore\")"
   ]
  },
  {
   "cell_type": "markdown",
   "id": "4a5faf99",
   "metadata": {},
   "source": [
    "Es una generalización de accuracy_score. <br>\n",
    "La predicción es correcta si la etiqueta verdadera es asociada con uno de los $k$ scores pronosticados más altos.\n",
    "\n",
    "$$ top-k \\ accuracy(y, \\hat{y}) = \\frac{1}{N} = \\sum_{i=0}^{N-1} \\sum_{j=1}^{k} 1(\\hat{f}_{i,j} = y_i) $$"
   ]
  },
  {
   "cell_type": "code",
   "execution_count": 6,
   "id": "065aff9f",
   "metadata": {},
   "outputs": [
    {
     "data": {
      "text/plain": [
       "0.75"
      ]
     },
     "execution_count": 6,
     "metadata": {},
     "output_type": "execute_result"
    }
   ],
   "source": [
    "y_true = np.array([0, 1, 2, 2])\n",
    "y_score = np.array(\n",
    "    [  #   0    1    2\n",
    "        [0.5, 0.2, 0.2],  # [0, 1]: 0 is in top 2\n",
    "        [0.3, 0.4, 0.2],  # [1, 0]: 1 is in top 2\n",
    "        [0.2, 0.4, 0.3],  # [1, 2]: 2 is in top 2\n",
    "        [0.7, 0.2, 0.1],  # [0, 1]: 2 isn't in top 2\n",
    "    ]\n",
    ")\n",
    "\n",
    "top_k_accuracy_score(\n",
    "    # -------------------------------------------------------------------------\n",
    "    # Ground truth (correct) labels.\n",
    "    y_true=y_true,\n",
    "    # -------------------------------------------------------------------------\n",
    "    # Target scores. These can be either probability estimates or\n",
    "    # non-thresholded decision values\n",
    "    y_score=y_score,\n",
    "    # -------------------------------------------------------------------------\n",
    "    # Number of most likely outcomes considered to find the correct label.\n",
    "    k=2,\n",
    "    # -------------------------------------------------------------------------\n",
    "    # If True, return the fraction of correctly classified samples. Otherwise,\n",
    "    # return the number of correctly classified samples.\n",
    "    normalize=True,\n",
    "    # -------------------------------------------------------------------------\n",
    "    # Sample weights.\n",
    "    sample_weight=None,\n",
    "    # -------------------------------------------------------------------------\n",
    "    # Multiclass only. List of labels that index the classes in y_score.\n",
    "    labels=None,\n",
    ")"
   ]
  },
  {
   "cell_type": "code",
   "execution_count": 7,
   "id": "c346c362",
   "metadata": {},
   "outputs": [
    {
     "data": {
      "text/plain": [
       "3"
      ]
     },
     "execution_count": 7,
     "metadata": {},
     "output_type": "execute_result"
    }
   ],
   "source": [
    "top_k_accuracy_score(\n",
    "    y_true,\n",
    "    y_score,\n",
    "    k=2,\n",
    "    normalize=False,\n",
    ")"
   ]
  },
  {
   "cell_type": "code",
   "execution_count": 8,
   "id": "55e0489e",
   "metadata": {},
   "outputs": [
    {
     "name": "stdout",
     "output_type": "stream",
     "text": [
      "ok_\n"
     ]
    }
   ],
   "source": [
    "print('ok_')"
   ]
  }
 ],
 "metadata": {
  "kernelspec": {
   "display_name": "Python 3 (ipykernel)",
   "language": "python",
   "name": "python3"
  },
  "language_info": {
   "codemirror_mode": {
    "name": "ipython",
    "version": 3
   },
   "file_extension": ".py",
   "mimetype": "text/x-python",
   "name": "python",
   "nbconvert_exporter": "python",
   "pygments_lexer": "ipython3",
   "version": "3.11.5"
  },
  "vscode": {
   "interpreter": {
    "hash": "5238573367df39f7286bb46f9ff5f08f63a01a80960060ce41e3c79b190280fa"
   }
  }
 },
 "nbformat": 4,
 "nbformat_minor": 5
}
