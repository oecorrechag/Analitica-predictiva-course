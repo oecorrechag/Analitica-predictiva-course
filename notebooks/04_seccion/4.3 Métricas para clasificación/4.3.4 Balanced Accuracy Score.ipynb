{
 "cells": [
  {
   "cell_type": "markdown",
   "id": "6bfc8fc6",
   "metadata": {},
   "source": [
    "# 4.3.4 Balanced Accuracy Score"
   ]
  },
  {
   "cell_type": "code",
   "execution_count": 2,
   "id": "1d90735b",
   "metadata": {},
   "outputs": [],
   "source": [
    "%load_ext autoreload\n",
    "%autoreload 2"
   ]
  },
  {
   "cell_type": "code",
   "execution_count": 3,
   "id": "9885dbd4",
   "metadata": {},
   "outputs": [],
   "source": [
    "import numpy as np\n",
    "from sklearn.metrics import accuracy_score, balanced_accuracy_score\n",
    "\n",
    "import warnings\n",
    "warnings.filterwarnings(\"ignore\")"
   ]
  },
  {
   "attachments": {
    "accurity.PNG": {
     "image/png": "[encoded data removed]"
    }
   },
   "cell_type": "markdown",
   "id": "4a5faf99",
   "metadata": {},
   "source": [
    "Esta métrica permite corregir cómputos erroneos sobre la precisión de un clasificador cuando las clases están imbalanceadas.\n",
    "Cuando la muestra está balanceada equivale a la métrica accuracy. <br>\n",
    "Esta medida es facilmente interpretada a partir de la matriz de confusión en el caso binario y es igual a:\n",
    "\n",
    "    - La media aritmética de la sensibilidad (True Positive Rate) y la especificidad (True Negative Rate).\n",
    "    - El area bajo la curva ROC con predicciones binarias en vez de scores.\n",
    "\n",
    "![accurity.PNG](attachment:accurity.PNG)\n",
    "\n",
    "$$ balanced_accuracy = \\frac{1}{2} (\\frac{TP}{P} + \\frac{TN}{N}) =  \\frac{1}{2} (\\frac{TP}{TP + FN} + \\frac{TN}{TN + FP}) = \\frac{1}{2} (TPR + TNR) $$\n",
    "\n",
    "\n"
   ]
  },
  {
   "cell_type": "code",
   "execution_count": 4,
   "id": "1659863a",
   "metadata": {},
   "outputs": [
    {
     "data": {
      "text/plain": [
       "0.8"
      ]
     },
     "execution_count": 4,
     "metadata": {},
     "output_type": "execute_result"
    }
   ],
   "source": [
    "y_true = [1, 1, 1, 0, 0, 0, 0, 0, 0, 0, 0, 0, 0, 0, 0]\n",
    "y_pred = [0, 0, 0, 0, 0, 0, 0, 0, 0, 0, 0, 0, 0, 0, 0]\n",
    "\n",
    "accuracy_score(\n",
    "    y_true,\n",
    "    y_pred,\n",
    ")"
   ]
  },
  {
   "cell_type": "markdown",
   "id": "ad36ee44",
   "metadata": {},
   "source": [
    "- La versión implementada equivale a accuracy_score con pesos balanceados por clase.\n",
    "- Si la precisión convencional está por encima del azar solo porque el clasificador aprovecha un conjunto de prueba desequilibrado, entonces la precisión equilibrada, según corresponda, se reducirá a:\n",
    "\n",
    "$$ \\frac{1}{N_{clases}} $$"
   ]
  },
  {
   "cell_type": "code",
   "execution_count": 6,
   "id": "a5c9c535",
   "metadata": {},
   "outputs": [
    {
     "data": {
      "text/plain": [
       "0.3333333333333333"
      ]
     },
     "execution_count": 6,
     "metadata": {},
     "output_type": "execute_result"
    }
   ],
   "source": [
    "y_true = [1, 2, 2, 0, 0, 0, 0, 0, 0, 0, 0, 0, 0, 0, 0]\n",
    "y_pred = [0, 0, 0, 0, 0, 0, 0, 0, 0, 0, 0, 0, 0, 0, 0]\n",
    "\n",
    "balanced_accuracy_score(\n",
    "    y_true=y_true,\n",
    "    y_pred=y_pred,\n",
    ")"
   ]
  },
  {
   "cell_type": "markdown",
   "id": "dc020c8f",
   "metadata": {},
   "source": [
    "Los scores van de 0 a 1 para adjusted=False."
   ]
  },
  {
   "cell_type": "code",
   "execution_count": 7,
   "id": "dc6ca2a3",
   "metadata": {},
   "outputs": [
    {
     "data": {
      "text/plain": [
       "0.0"
      ]
     },
     "execution_count": 7,
     "metadata": {},
     "output_type": "execute_result"
    }
   ],
   "source": [
    "y_true = [1, 2, 2, 0, 0, 0, 0, 0, 0, 0, 0, 0, 0, 0, 0]\n",
    "y_pred = [0, 0, 0, 1, 1, 1, 1, 1, 1, 1, 1, 1, 1, 1, 1]\n",
    "\n",
    "balanced_accuracy_score(\n",
    "    y_true=y_true,\n",
    "    y_pred=y_pred,\n",
    ")"
   ]
  },
  {
   "cell_type": "markdown",
   "id": "3670f76b",
   "metadata": {},
   "source": [
    "Los scores se reescalan al rango\n",
    "\n",
    "$$ \\frac{1}{1 - N_{clases}} $$\n",
    "\n",
    "y 1.0, con desempeño 0 para el scoring aleatorio"
   ]
  },
  {
   "cell_type": "code",
   "execution_count": 8,
   "id": "63c4770b",
   "metadata": {},
   "outputs": [
    {
     "data": {
      "text/plain": [
       "0.3333333333333333"
      ]
     },
     "execution_count": 8,
     "metadata": {},
     "output_type": "execute_result"
    }
   ],
   "source": [
    "y_true = [1, 1, 2, 2, 0, 0, 0, 0, 0, 0, 0, 0, 0, 0, 0]\n",
    "y_pred = [0, 0, 0, 0, 0, 0, 0, 0, 0, 0, 0, 0, 0, 0, 0]\n",
    "\n",
    "balanced_accuracy_score(\n",
    "    y_true=y_true,\n",
    "    y_pred=y_pred,\n",
    "    adjusted=False,\n",
    ")"
   ]
  },
  {
   "cell_type": "code",
   "execution_count": 9,
   "id": "b0a1cc0c",
   "metadata": {},
   "outputs": [
    {
     "data": {
      "text/plain": [
       "0.0"
      ]
     },
     "execution_count": 9,
     "metadata": {},
     "output_type": "execute_result"
    }
   ],
   "source": [
    "balanced_accuracy_score(\n",
    "    y_true=y_true,\n",
    "    y_pred=y_pred,\n",
    "    adjusted=True,\n",
    ")"
   ]
  },
  {
   "cell_type": "code",
   "execution_count": 10,
   "id": "df30ba8b",
   "metadata": {},
   "outputs": [
    {
     "data": {
      "text/plain": [
       "-0.49999999999999994"
      ]
     },
     "execution_count": 10,
     "metadata": {},
     "output_type": "execute_result"
    }
   ],
   "source": [
    "y_true = [1, 2, 2, 0, 0, 0, 0, 0, 0, 0, 0, 0, 0, 0, 0]\n",
    "y_pred = [0, 0, 0, 1, 1, 1, 1, 1, 1, 1, 1, 1, 1, 1, 1]\n",
    "\n",
    "balanced_accuracy_score(\n",
    "    y_true=y_true,\n",
    "    y_pred=y_pred,\n",
    "    adjusted=True,\n",
    ")"
   ]
  },
  {
   "cell_type": "markdown",
   "id": "a49af50d",
   "metadata": {},
   "source": [
    "Si $y_i$ es el valor verdadero de la $i-ésima$ muestra, y $w_i$ es su peso, entonces el peso de la $i-ésima$ muestra se ajusta como:\n",
    "\n",
    "$$ \\hat{w_i} = \\frac{w_i}{\\sum_{j}{} 1(\\hat{y_j}=y_i)w_j} $$\n",
    "\n",
    "Si $y^i$ es el valor pronósticado para la $i-ésima$ muestra, entonces la función de scoring es definida como:\n",
    "\n",
    "$$ balanced_accuracy =  \\frac{1}{\\sum_{}{} w_i}  1(\\hat{y_j}=y_i) \\hat{w_j} $$"
   ]
  },
  {
   "cell_type": "code",
   "execution_count": 5,
   "id": "55e0489e",
   "metadata": {},
   "outputs": [
    {
     "name": "stdout",
     "output_type": "stream",
     "text": [
      "ok_\n"
     ]
    }
   ],
   "source": [
    "print('ok_')"
   ]
  }
 ],
 "metadata": {
  "kernelspec": {
   "display_name": "Python 3 (ipykernel)",
   "language": "python",
   "name": "python3"
  },
  "language_info": {
   "codemirror_mode": {
    "name": "ipython",
    "version": 3
   },
   "file_extension": ".py",
   "mimetype": "text/x-python",
   "name": "python",
   "nbconvert_exporter": "python",
   "pygments_lexer": "ipython3",
   "version": "3.11.5"
  },
  "vscode": {
   "interpreter": {
    "hash": "5238573367df39f7286bb46f9ff5f08f63a01a80960060ce41e3c79b190280fa"
   }
  }
 },
 "nbformat": 4,
 "nbformat_minor": 5
}
