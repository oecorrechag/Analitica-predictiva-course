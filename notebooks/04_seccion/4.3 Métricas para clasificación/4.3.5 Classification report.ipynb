{
 "cells": [
  {
   "cell_type": "markdown",
   "id": "6bfc8fc6",
   "metadata": {},
   "source": [
    "# 4.3.5 Classification report"
   ]
  },
  {
   "cell_type": "code",
   "execution_count": null,
   "id": "1d90735b",
   "metadata": {},
   "outputs": [],
   "source": [
    "%load_ext autoreload\n",
    "%autoreload 2"
   ]
  },
  {
   "cell_type": "code",
   "execution_count": null,
   "id": "9885dbd4",
   "metadata": {},
   "outputs": [],
   "source": [
    "from sklearn.metrics import classification_report\n",
    "\n",
    "import warnings\n",
    "warnings.filterwarnings(\"ignore\")"
   ]
  },
  {
   "cell_type": "code",
   "execution_count": null,
   "id": "065aff9f",
   "metadata": {},
   "outputs": [],
   "source": [
    "y_true = [0, 1, 2, 2, 0]\n",
    "y_pred = [0, 0, 2, 1, 0]\n",
    "target_names = [\"class 0\", \"class 1\", \"class 2\"]\n",
    "\n",
    "\n",
    "text = classification_report(\n",
    "    # -------------------------------------------------------------------------\n",
    "    # Ground truth (correct) target values.\n",
    "    y_true=y_true,\n",
    "    # -------------------------------------------------------------------------\n",
    "    # Estimated targets as returned by a classifier.\n",
    "    y_pred=y_pred,\n",
    "    # -------------------------------------------------------------------------\n",
    "    # Optional list of label indices to include in the report.\n",
    "    labels=None,\n",
    "    # -------------------------------------------------------------------------\n",
    "    # Optional display names matching the labels (same order).\n",
    "    target_names=target_names,\n",
    "    # -------------------------------------------------------------------------\n",
    "    # Sample weights.\n",
    "    sample_weight=None,\n",
    "    # -------------------------------------------------------------------------\n",
    "    # Number of digits for formatting output floating point values.\n",
    "    digits=2,\n",
    "    # -------------------------------------------------------------------------\n",
    "    # If True, return output as dict.\n",
    "    output_dict=False,\n",
    ")\n",
    "\n",
    "#\n",
    "#           |  y_pred            y_true = [0, 1, 2, 2, 0]\n",
    "#           |  0  1  2           y_pred = [0, 0, 2, 1, 0]\n",
    "# ----------|-----------\n",
    "#         0 |  2  0  0\n",
    "# y_true  1 |  1  0  0\n",
    "#         2 |  0  1  1\n",
    "#\n",
    "#             precision:       recall:                      f1-score\n",
    "#           TP / (TP + FP)  TP / (TP + FN)  2 * (precision * recall) / (precision + reall)\n",
    "# class 0:    2/3 = 0.67      2/2 = 1.00       2 * 0.67 * 1.00 / (0.67 + 1.00) = 0.80\n",
    "# class 1:    0/1 = 0.00      0/1 = 0.00       2 * 0.00 * 0.00 / (0.00 + 0.00) = 0.00\n",
    "# class 2:    1/1 = 1.00      1/2 = 0.50       2 * 1.00 * 0.50 / (1.00 + 0.50) = 0.67\n",
    "#\n",
    "# accuracy = 3 / 5 = 0.60\n",
    "#\n",
    "#            macro avg                         weighted avg\n",
    "# Precision: (0.67 + 0.00 + 1.00) / 3 = 0.56   (0.67*2/5 + 0.00*1/5 + 1.00*2/5) = 0.67\n",
    "# Recall:    (1.00 + 0.00 + 0.50) / 3 = 0.50   (1.00*2/5 + 0.00*1/5 + 0.50*2/5) = 0.60\n",
    "# f1-score:  (0.80 + 0.00 + 0.67) / 3 = 0.49   (0.80*2/5 + 0.00*1/5 + 0.67*2/5) = 0.59\n",
    "#\n",
    "print(text)"
   ]
  },
  {
   "cell_type": "code",
   "execution_count": null,
   "id": "c346c362",
   "metadata": {},
   "outputs": [],
   "source": [
    "classification_report(\n",
    "    y_true=y_true,\n",
    "    y_pred=y_pred,\n",
    "    target_names=target_names,\n",
    "    output_dict=True,\n",
    ")"
   ]
  },
  {
   "cell_type": "code",
   "execution_count": null,
   "id": "55e0489e",
   "metadata": {},
   "outputs": [],
   "source": [
    "print('ok_')"
   ]
  }
 ],
 "metadata": {
  "kernelspec": {
   "display_name": "Python 3 (ipykernel)",
   "language": "python",
   "name": "python3"
  },
  "language_info": {
   "codemirror_mode": {
    "name": "ipython",
    "version": 3
   },
   "file_extension": ".py",
   "mimetype": "text/x-python",
   "name": "python",
   "nbconvert_exporter": "python",
   "pygments_lexer": "ipython3",
   "version": "3.11.5"
  },
  "vscode": {
   "interpreter": {
    "hash": "5238573367df39f7286bb46f9ff5f08f63a01a80960060ce41e3c79b190280fa"
   }
  }
 },
 "nbformat": 4,
 "nbformat_minor": 5
}
