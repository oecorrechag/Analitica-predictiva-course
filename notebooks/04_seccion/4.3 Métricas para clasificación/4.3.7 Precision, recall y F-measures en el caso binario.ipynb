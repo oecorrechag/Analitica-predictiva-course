{
 "cells": [
  {
   "cell_type": "markdown",
   "id": "6bfc8fc6",
   "metadata": {},
   "source": [
    "# 4.3.7 Precision, recall y F-measures en el caso binario"
   ]
  },
  {
   "cell_type": "code",
   "execution_count": null,
   "id": "1d90735b",
   "metadata": {},
   "outputs": [],
   "source": [
    "%load_ext autoreload\n",
    "%autoreload 2"
   ]
  },
  {
   "cell_type": "code",
   "execution_count": null,
   "id": "9885dbd4",
   "metadata": {},
   "outputs": [],
   "source": [
    "from sklearn.metrics import precision_score, recall_score, f1_score, fbeta_score\n",
    "\n",
    "import warnings\n",
    "warnings.filterwarnings(\"ignore\")"
   ]
  },
  {
   "attachments": {
    "accurity.PNG": {
     "image/png": "[encoded data removed]"
    }
   },
   "cell_type": "markdown",
   "id": "1794033b",
   "metadata": {},
   "source": [
    "## 4.3.7.1 Precision Score\n",
    "\n",
    "Es la habilidad que tiene el clasificador de no predecir como positiva una muestra que es negativa. \n",
    "\n",
    "Se define como:\n",
    "\n",
    "![accurity.PNG](attachment:accurity.PNG)\n",
    "\n",
    "$$ accuracy = \\frac{TP}{PP} = \\frac{TP}{TP+FP} $$"
   ]
  },
  {
   "cell_type": "code",
   "execution_count": null,
   "id": "29a79276",
   "metadata": {},
   "outputs": [],
   "source": [
    "y_true = [0, 1, 0, 1]\n",
    "y_pred = [0, 1, 0, 0]\n",
    "\n",
    "#          |  y_pred\n",
    "#          |  1    0\n",
    "# ----------------------\n",
    "#        1 |  1    1\n",
    "# y_true   |\n",
    "#        0 |  0    2\n",
    "#\n",
    "precision_score(\n",
    "    # -------------------------------------------------------------------------\n",
    "    # Ground truth (correct) labels.\n",
    "    y_true=y_true,\n",
    "    # -------------------------------------------------------------------------\n",
    "    # Predicted labels, as returned by a classifier.\n",
    "    y_pred=y_pred,\n",
    "    # -------------------------------------------------------------------------\n",
    "    # The set of labels to include when average != 'binary', and their order\n",
    "    # if average is None.\n",
    "    labels=None,\n",
    "    # -------------------------------------------------------------------------\n",
    "    # The class to report if average='binary' and the data is binary.\n",
    "    pos_label=1,\n",
    "    # -------------------------------------------------------------------------\n",
    "    # This parameter is required for multiclass/multilabel targets.\n",
    "    #   None:  the scores for each class are returned.\n",
    "    #   'binary': Only report results for the class specified by pos_label.\n",
    "    #   'micro': Calculate metrics globally by counting the total true\n",
    "    #     positives, false negatives and false positives.\n",
    "    #   'macro': Calculate metrics for each label, and find their unweighted\n",
    "    #     mean. This does not take label imbalance into account.\n",
    "    #   'weighted': Calculate metrics for each label, and find their average\n",
    "    #     weighted by support (the number of true instances for each label)\n",
    "    #   'samples': Calculate metrics for each instance, and find their\n",
    "    #     average (only meaningful for multilabel classification where this\n",
    "    #     differs from accuracy_score)\n",
    "    #\n",
    "    average=\"binary\",\n",
    "    # -------------------------------------------------------------------------\n",
    "    # Sample weights.\n",
    "    sample_weight=None,\n",
    "    # -------------------------------------------------------------------------\n",
    "    # Sets the value to return when there is a zero division. If set to “warn”,\n",
    "    # this acts as 0, but warnings are also raised.\n",
    "    zero_division=\"warn\",\n",
    ")"
   ]
  },
  {
   "attachments": {
    "accurity.PNG": {
     "image/png": "[encoded data removed]"
    }
   },
   "cell_type": "markdown",
   "id": "e0b8af9e",
   "metadata": {},
   "source": [
    "## 4.3.7.2 True Positive Rate / Recall Score\n",
    "\n",
    "Es el porcentaje de casos pronosticados como positivos del total de casos realmente positivos. También se interpreta como la habilidad del clasificador para encontrar todos los casos relevantes.\n",
    "\n",
    "![accurity.PNG](attachment:accurity.PNG)\n",
    "\n",
    "$$ recall \\ score = TPR = \\frac{TP}{P} = \\frac{TP}{TP+FN} $$"
   ]
  },
  {
   "cell_type": "code",
   "execution_count": null,
   "id": "d35ef825",
   "metadata": {},
   "outputs": [],
   "source": [
    "y_true = [0, 1, 0, 1]\n",
    "y_pred = [0, 1, 0, 0]\n",
    "\n",
    "#          |  y_pred\n",
    "#          |  1    0\n",
    "# ----------------------\n",
    "#        1 |  1    1\n",
    "# y_true   |\n",
    "#        0 |  0    2\n",
    "#\n",
    "\n",
    "recall_score(\n",
    "    # -------------------------------------------------------------------------\n",
    "    # Recibe los mismos parámetros que la función anterior\n",
    "    # -------------------------------------------------------------------------\n",
    "    y_true=y_true,\n",
    "    y_pred=y_pred,\n",
    "    labels=None,\n",
    "    pos_label=1,\n",
    "    average=\"binary\",\n",
    "    sample_weight=None,\n",
    "    zero_division=\"warn\",\n",
    ")"
   ]
  },
  {
   "attachments": {
    "accurity.PNG": {
     "image/png": "[encoded data removed]"
    },
    "f1.PNG": {
     "image/png": "[encoded data removed]"
    }
   },
   "cell_type": "markdown",
   "id": "4b19921e",
   "metadata": {},
   "source": [
    "## 4.3.7.3 True Negative Rate\n",
    "\n",
    "Es el porcentaje de casos pronósticados como negativos del total de casos realmente negativos.\n",
    "\n",
    "![accurity.PNG](attachment:accurity.PNG)\n",
    "\n",
    "$$ TNR = \\frac{TN}{N} = \\frac{TN}{TN+FP} $$\n",
    "\n",
    "## 4.3.7.4 F1 Score / Balanced F-Score / F-measure\n",
    "\n",
    "Puede ser interpretado como la media armónica de la precisión (precision_score) y la sensibilidad (recall):\n",
    "\n",
    "$$ F_1 = 2 * \\frac{precision \\ score × recall \\ score}{precision \\ score + recall \\ score} $$\n",
    "\n",
    "![accurity.PNG](attachment:accurity.PNG)\n",
    "\n",
    "$$ accuracy = \\frac{TP}{PP} = \\frac{TP}{TP+FP} $$\n",
    "\n",
    "$$ recall \\ score = TPR = \\frac{TP}{P} = \\frac{TP}{TP+FN} $$\n",
    "\n",
    "![f1.PNG](attachment:f1.PNG)"
   ]
  },
  {
   "cell_type": "code",
   "execution_count": null,
   "id": "34f5dbd5",
   "metadata": {},
   "outputs": [],
   "source": [
    "y_true = [0, 1, 0, 1]\n",
    "y_pred = [0, 1, 0, 0]\n",
    "\n",
    "f1_score(\n",
    "    # -------------------------------------------------------------------------\n",
    "    # Recibe los mismos parámetros que la función anterior\n",
    "    # -------------------------------------------------------------------------\n",
    "    y_true=y_true,\n",
    "    y_pred=y_pred,\n",
    "    labels=None,\n",
    "    pos_label=1,\n",
    "    average=\"binary\",\n",
    "    sample_weight=None,\n",
    "    zero_division=\"warn\",\n",
    ")"
   ]
  },
  {
   "attachments": {
    "fbeta.PNG": {
     "image/png": "[encoded data removed]"
    }
   },
   "cell_type": "markdown",
   "id": "05b5ca8f",
   "metadata": {},
   "source": [
    "## 4.3.7.5 F-beta Score\n",
    "\n",
    "Es la media armónica ponderada entre la precisión y la sensibilidad, la cual toma valores entre 0 (peor) y 1 (mejor). Para $β < 1$ favorece la precisión, mientras que para $β > 1$ favorece la sensibilidad.\n",
    "\n",
    "$$ F_\\beta = (1 + \\beta^2) * \\frac{precision * recall}{\\beta^2 \\ precision * recall} $$\n",
    "\n",
    "![accurity.PNG](attachment:accurity.PNG)\n",
    "\n",
    "$$ accuracy = \\frac{TP}{PP} = \\frac{TP}{TP+FP} $$\n",
    "\n",
    "$$ recall \\ score = TPR = \\frac{TP}{P} = \\frac{TP}{TP+FN} $$\n",
    "\n",
    "![fbeta.PNG](attachment:fbeta.PNG)"
   ]
  },
  {
   "cell_type": "code",
   "execution_count": null,
   "id": "6d123353",
   "metadata": {},
   "outputs": [],
   "source": [
    "display(\n",
    "    fbeta_score(y_true, y_pred, beta=0.5),\n",
    "    fbeta_score(y_true, y_pred, beta=1.2),\n",
    ")"
   ]
  },
  {
   "cell_type": "code",
   "execution_count": null,
   "id": "55e0489e",
   "metadata": {},
   "outputs": [],
   "source": [
    "print('ok_')"
   ]
  }
 ],
 "metadata": {
  "kernelspec": {
   "display_name": "Python 3 (ipykernel)",
   "language": "python",
   "name": "python3"
  },
  "language_info": {
   "codemirror_mode": {
    "name": "ipython",
    "version": 3
   },
   "file_extension": ".py",
   "mimetype": "text/x-python",
   "name": "python",
   "nbconvert_exporter": "python",
   "pygments_lexer": "ipython3",
   "version": "3.11.5"
  },
  "vscode": {
   "interpreter": {
    "hash": "5238573367df39f7286bb46f9ff5f08f63a01a80960060ce41e3c79b190280fa"
   }
  }
 },
 "nbformat": 4,
 "nbformat_minor": 5
}
