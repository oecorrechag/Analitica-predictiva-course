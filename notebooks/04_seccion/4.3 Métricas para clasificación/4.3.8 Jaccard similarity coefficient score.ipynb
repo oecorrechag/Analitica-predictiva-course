{
 "cells": [
  {
   "cell_type": "markdown",
   "id": "6bfc8fc6",
   "metadata": {},
   "source": [
    "# 4.3.8 Jaccard similarity coefficient score"
   ]
  },
  {
   "cell_type": "code",
   "execution_count": null,
   "id": "1d90735b",
   "metadata": {},
   "outputs": [],
   "source": [
    "%load_ext autoreload\n",
    "%autoreload 2"
   ]
  },
  {
   "cell_type": "code",
   "execution_count": null,
   "id": "9885dbd4",
   "metadata": {},
   "outputs": [],
   "source": [
    "import numpy as np\n",
    "from sklearn.metrics import jaccard_score\n",
    "\n",
    "import warnings\n",
    "warnings.filterwarnings(\"ignore\")"
   ]
  },
  {
   "cell_type": "markdown",
   "id": "1794033b",
   "metadata": {},
   "source": [
    "Esta función computa el promedio de los coeficientes de similaridad de Jaccard (o índice de Jaccard) entre pares de conjuntos de etiquetas.\n",
    "\n",
    "Se calcula como:\n",
    "\n",
    "$$ J(y, \\hat{y}) = \\frac{|y ∪ \\hat{y}|}{|y ∩ \\hat{y}|} $$\n",
    "\n",
    "donde:\n",
    "\n",
    "- y es el conjunto de etiquetas observadas.\n",
    "- $\\hat{y}$ es el conjunto de etiquedas pronosticadas.\n",
    "\n",
    "Esta medida se aplica a problemas binarios.\n",
    "\n",
    "Puede extenderse a problemas de múltiples etiquetas o múltiples clases usando el promedio.\n",
    "\n",
    "## 4.3.8.1 Caso base binario"
   ]
  },
  {
   "cell_type": "code",
   "execution_count": null,
   "id": "c63a6446",
   "metadata": {},
   "outputs": [],
   "source": [
    "y_true = [0, 1, 1]\n",
    "y_pred = [1, 1, 0]\n",
    "\n",
    "#           | y_pred\n",
    "#           | 1    0\n",
    "#   --------|--------  |---------\n",
    "#         1 | 1    1   | TP   FN             TP             1\n",
    "#   y_true  |          |            J = ------------ = ----------- = 0.33\n",
    "#         0 | 1    0   | FP   TN        TP + FN + FP    1 + 1 + 1\n",
    "#\n",
    "jaccard_score(\n",
    "    # -------------------------------------------------------------------------\n",
    "    # Recibe los mismos parámetros de las métricas anteriores\n",
    "    # -------------------------------------------------------------------------\n",
    "    y_true=y_true,\n",
    "    y_pred=y_pred,\n",
    "    labels=None,\n",
    "    pos_label=1,\n",
    "    average=\"binary\",\n",
    "    sample_weight=None,\n",
    "    zero_division=\"warn,\",\n",
    ")"
   ]
  },
  {
   "cell_type": "markdown",
   "id": "a040b755",
   "metadata": {},
   "source": [
    "## 4.3.8.2 Multiples etiquetas (average=“samples”)"
   ]
  },
  {
   "cell_type": "code",
   "execution_count": null,
   "id": "9f43481c",
   "metadata": {},
   "outputs": [],
   "source": [
    "y_true = np.array([[0, 1, 1], [1, 1, 0]])\n",
    "y_pred = np.array([[1, 1, 1], [1, 0, 0]])\n",
    "\n",
    "#                                | y_pred\n",
    "# y_true[0] = [0, 1, 1]          | 1    0\n",
    "# y_pred[0] = [1, 1, 1]  --------|--------  |---------\n",
    "#                              1 | 2    0   | TP   FN             2\n",
    "#                        y_true  |          |            J = ----------- = 2/3\n",
    "#                              0 | 1    0   | FP   TN         2 + 1 + 0\n",
    "#\n",
    "#                                | y_pred\n",
    "# y_true[1] = [1, 1, 0]          | 1    0\n",
    "# y_pred[1] = [1, 0, 0]  --------|--------  |---------\n",
    "#                              1 | 1    1   | TP   FN             1\n",
    "#                        y_true  |          |            J = ----------- = 1/2\n",
    "#                              0 | 0    1   | FP   TN         1 + 0 + 1\n",
    "#\n",
    "# (2/3 + 1/2) / 2 = (4/6 + 3/6) / 2 = 7/12 = 0.58333...\n",
    "#\n",
    "jaccard_score(y_true, y_pred, average=\"samples\")"
   ]
  },
  {
   "cell_type": "markdown",
   "id": "18baa1ce",
   "metadata": {},
   "source": [
    "## 4.3.8.3 Multiples etiquetas (average=None)"
   ]
  },
  {
   "cell_type": "code",
   "execution_count": null,
   "id": "8717474e",
   "metadata": {},
   "outputs": [],
   "source": [
    "#\n",
    "#                   A  B  C    A  B  C\n",
    "y_true = np.array([[0, 1, 1], [1, 1, 0]])\n",
    "y_pred = np.array([[1, 1, 1], [1, 0, 0]])\n",
    "#\n",
    "#             Patrones   Matriz de      Jaccard\n",
    "#                        confusion\n",
    "# Label A:      0 1         1 0         1 / (1 + 1 + 0) = 1/2\n",
    "#               1 1         1 0\n",
    "#\n",
    "# Label B:      1 1         1 1         1 / (1 + 0 + 1) = 1/2\n",
    "#               1 0         0 0\n",
    "#\n",
    "# Label C:      1 0         1 0         1 / (1 + 0 + 0) = 1\n",
    "#               1 0         0 1\n",
    "#\n",
    "jaccard_score(y_true, y_pred, average=None)"
   ]
  },
  {
   "cell_type": "markdown",
   "id": "78892881",
   "metadata": {},
   "source": [
    "## 4.3.8.4 Multiples etiquetas (average=“macro”)"
   ]
  },
  {
   "cell_type": "code",
   "execution_count": null,
   "id": "47362d43",
   "metadata": {},
   "outputs": [],
   "source": [
    "#\n",
    "#                   A  B  C    A  B  C\n",
    "y_true = np.array([[0, 1, 1], [1, 1, 0]])\n",
    "y_pred = np.array([[1, 1, 1], [1, 0, 0]])\n",
    "#\n",
    "#             Patrones   Matriz de      Jaccard\n",
    "#                        confusion\n",
    "# Label A:      0 1         1 0         1 / (1 + 1 + 0) = 1/2\n",
    "#               1 1         1 0\n",
    "#\n",
    "# Label B:      1 1         1 1         1 / (1 + 0 + 1) = 1/2\n",
    "#               1 0         0 0\n",
    "#\n",
    "# Label C:      1 0         1 0         1 / (1 + 0 + 0) = 1\n",
    "#               1 0         0 1\n",
    "#\n",
    "# macro -> (1/2 + 1/2 + 1) / 3 = 2/3\n",
    "#\n",
    "jaccard_score(y_true, y_pred, average=\"macro\")"
   ]
  },
  {
   "cell_type": "markdown",
   "id": "29f00855",
   "metadata": {},
   "source": [
    "## 4.3.8.5 Multiples etiquetas (average=“micro”)"
   ]
  },
  {
   "cell_type": "code",
   "execution_count": null,
   "id": "637e723c",
   "metadata": {},
   "outputs": [],
   "source": [
    "#\n",
    "#                   A  B  C    A  B  C\n",
    "y_true = np.array([[0, 1, 1], [1, 1, 0]])\n",
    "y_pred = np.array([[1, 1, 1], [1, 0, 0]])\n",
    "#\n",
    "#             Patrones   Matriz de     Num           Den\n",
    "#                        confusion\n",
    "# Label A:      0 1         1 0         1        (1 + 1 + 0) = 2\n",
    "#               1 1         1 0\n",
    "#\n",
    "# Label B:      1 1         1 1         1        (1 + 0 + 1) = 2\n",
    "#               1 0         0 0\n",
    "#\n",
    "# Label C:      1 0         1 0         1        (1 + 0 + 0) = 1\n",
    "#               1 0         0 1\n",
    "#                                   ---------      ----------\n",
    "#                        Jaccard = (1 + 1 + 1)  /  (2 + 2 + 1) = 3/5 = 0.6\n",
    "#\n",
    "jaccard_score(y_true, y_pred, average=\"micro\")"
   ]
  },
  {
   "cell_type": "markdown",
   "id": "fa5e50e9",
   "metadata": {},
   "source": [
    "## 4.3.8.6 Problemas multiclase (average=None)"
   ]
  },
  {
   "cell_type": "code",
   "execution_count": null,
   "id": "8b938948",
   "metadata": {},
   "outputs": [],
   "source": [
    "#\n",
    "# Clases: 0, 1, 2\n",
    "#\n",
    "y_pred = [0, 2, 1, 2]\n",
    "y_true = [0, 1, 2, 2]\n",
    "#\n",
    "#                           clase  matriz de  jaccard\n",
    "#           |  y_pred              confusion\n",
    "#           | 0  1  2       --------------------------------------\n",
    "# ----------|---------      0      1 0        1 / (1 + 0 + 0) = 1\n",
    "#         0 | 1  0  0              0 3\n",
    "# y_true  1 | 0  0  1\n",
    "#         2 | 0  1  1       1      0 1        0 / (0 + 1 + 1) = 0\n",
    "#                                  1 2\n",
    "#\n",
    "#                           2      1 1        1 / (1 + 1 + 1) = 1/3\n",
    "#                                  1 1\n",
    "#\n",
    "jaccard_score(y_true, y_pred, average=None)"
   ]
  },
  {
   "cell_type": "markdown",
   "id": "7095757e",
   "metadata": {},
   "source": [
    "## 4.3.8.7 Problemas multiclase (average=“macro”)"
   ]
  },
  {
   "cell_type": "code",
   "execution_count": null,
   "id": "ee2c7664",
   "metadata": {},
   "outputs": [],
   "source": [
    "#\n",
    "#                           clase  matriz de  jaccard\n",
    "#           |  y_pred              confusion\n",
    "#           | 0  1  2       --------------------------------------\n",
    "# ----------|---------      0      1 0        1 / (1 + 0 + 0) = 1\n",
    "#         0 | 1  0  0              0 3\n",
    "# y_true  1 | 0  0  1\n",
    "#         2 | 0  1  1       1      0 1        0 / (0 + 1 + 1) = 0\n",
    "#                                  1 2\n",
    "#\n",
    "#                           2      1 1        1 / (1 + 1 + 1) = 1/3\n",
    "#                                  1 1\n",
    "#\n",
    "# jaccard = (1 + 0 + 1/3) / 3 = 4/9 = 0.44...\n",
    "#\n",
    "jaccard_score(y_true, y_pred, average=\"macro\")"
   ]
  },
  {
   "cell_type": "code",
   "execution_count": null,
   "id": "40b6eaa9",
   "metadata": {},
   "outputs": [],
   "source": [
    "#\n",
    "#                           clase  matriz de  num  den\n",
    "#           |  y_pred              confusion\n",
    "#           | 0  1  2       --------------------------------------\n",
    "# ----------|---------      0      1 0        1    (1 + 0 + 0) = 1\n",
    "#         0 | 1  0  0              0 3\n",
    "# y_true  1 | 0  0  1\n",
    "#         2 | 0  1  1       1      0 1        0    (0 + 1 + 1) = 2\n",
    "#                                  1 2\n",
    "#\n",
    "#                           2      1 1        1    (1 + 1 + 1) = 3\n",
    "#                                  1 1\n",
    "#                                        --------------------------\n",
    "#                                         (1 + 0 + 1) / (1 + 2 + 3) = 2/6\n",
    "#\n",
    "jaccard_score(y_true, y_pred, average=\"micro\")"
   ]
  },
  {
   "cell_type": "code",
   "execution_count": null,
   "id": "55e0489e",
   "metadata": {},
   "outputs": [],
   "source": [
    "print('ok_')"
   ]
  }
 ],
 "metadata": {
  "kernelspec": {
   "display_name": "Python 3 (ipykernel)",
   "language": "python",
   "name": "python3"
  },
  "language_info": {
   "codemirror_mode": {
    "name": "ipython",
    "version": 3
   },
   "file_extension": ".py",
   "mimetype": "text/x-python",
   "name": "python",
   "nbconvert_exporter": "python",
   "pygments_lexer": "ipython3",
   "version": "3.11.5"
  },
  "vscode": {
   "interpreter": {
    "hash": "5238573367df39f7286bb46f9ff5f08f63a01a80960060ce41e3c79b190280fa"
   }
  }
 },
 "nbformat": 4,
 "nbformat_minor": 5
}
