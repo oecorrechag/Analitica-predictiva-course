{
 "cells": [
  {
   "cell_type": "markdown",
   "id": "6bfc8fc6",
   "metadata": {},
   "source": [
    "# 4.3.9 Hinge loss"
   ]
  },
  {
   "cell_type": "code",
   "execution_count": null,
   "id": "1d90735b",
   "metadata": {},
   "outputs": [],
   "source": [
    "%load_ext autoreload\n",
    "%autoreload 2"
   ]
  },
  {
   "cell_type": "code",
   "execution_count": null,
   "id": "9885dbd4",
   "metadata": {},
   "outputs": [],
   "source": [
    "from sklearn import svm\n",
    "from sklearn.metrics import hinge_loss\n",
    "\n",
    "import warnings\n",
    "warnings.filterwarnings(\"ignore\")"
   ]
  },
  {
   "cell_type": "markdown",
   "id": "1794033b",
   "metadata": {},
   "source": [
    "Computa la distancia promedio entre el modelo y los datos usando la función de pérdida de hinge.\n",
    "\n",
    "## 4.3.9.1 Caso binario\n",
    "\n",
    "Si $y_i$ es la clase verdadera en un problema de clasificación binario codificada como $y_i={−1,+1}$ para cada muestra $i$, y $w_i$ es la predicción de la decisión, esta función se define como:\n",
    "\n",
    "$$ L_{Hinge}(y,w) = \\frac{1}{n_{samples}}  \\sum_{i=0}^{n_{samples}-1} max\\{1 - w_i y_1, 0\\}$$"
   ]
  },
  {
   "cell_type": "code",
   "execution_count": null,
   "id": "c63a6446",
   "metadata": {},
   "outputs": [],
   "source": [
    "#   Train set         Test set\n",
    "#  ------------    --------------\n",
    "#   X     y         X      y_true\n",
    "#   [0]   -1        [-2]   -1\n",
    "#   [1]   +1        [3]    +1\n",
    "#                   [0.5]  +1\n",
    "X = [[0], [1]]\n",
    "y = [-1, 1]\n",
    "\n",
    "est = svm.LinearSVC(random_state=0)\n",
    "est.fit(X, y)"
   ]
  },
  {
   "cell_type": "code",
   "execution_count": null,
   "id": "d5f7dded",
   "metadata": {},
   "outputs": [],
   "source": [
    "pred_decision = est.decision_function([[-2], [3], [0.5]])\n",
    "pred_decision"
   ]
  },
  {
   "cell_type": "code",
   "execution_count": null,
   "id": "7758fff1",
   "metadata": {},
   "outputs": [],
   "source": [
    "#               decision   y_true\n",
    "#    max(1 - -2.18177944 *     -1, 0) = max(-1.181779, 0) = 0\n",
    "#    max(1 - +2.36355888 *     +1, 0) = max(-1.363558, 0) = 0\n",
    "#    max(1 - +0.09088972 *     +1, 0) = max(+0.909110, 0) = 0.909110\n",
    "#\n",
    "#   (0 + 0 + 0.909110) / 3 = 0.303036\n",
    "#\n",
    "hinge_loss([-1, 1, 1], pred_decision)"
   ]
  },
  {
   "cell_type": "markdown",
   "id": "f76318d6",
   "metadata": {},
   "source": [
    "## 4.3.9.2 Caso con múltiple clases\n",
    "\n",
    "Si $w_i,y_i$ es la predicción para la etiqueta verdadera $y_i$ de la $i-ésima$ muestra, y $\\hat{w_i},y_i = max\\{w_i,y_i|y_j \\not= y_i, 0\\}$ es el máximo de las decisiones pronosticadas para todas las otras etiquetas, entonces esta función se define como:\n",
    "\n",
    "\n"
   ]
  },
  {
   "cell_type": "code",
   "execution_count": null,
   "id": "cb684a6f",
   "metadata": {},
   "outputs": [],
   "source": [
    "X = [[0], [1], [2], [3]]\n",
    "Y = [0, 1, 2, 3]\n",
    "labels = [0, 1, 2, 3]\n",
    "est = svm.LinearSVC()\n",
    "est.fit(X, Y)"
   ]
  },
  {
   "cell_type": "code",
   "execution_count": null,
   "id": "4d33e237",
   "metadata": {},
   "outputs": [],
   "source": [
    "#                              y_true = [0,   2,   3]\n",
    "pred_decision = est.decision_function([[-1], [2], [3]])\n",
    "pred_decision"
   ]
  },
  {
   "cell_type": "code",
   "execution_count": null,
   "id": "64d50f27",
   "metadata": {},
   "outputs": [],
   "source": [
    "#\n",
    "# max(0, 1 - (+1.2727241) + max(+0.03420421, -0.68377149, -1.40167018))\n",
    "# max(0, 1 - (-0.3760998) + max(-1.45454482, -0.58120684, -0.17100248))\n",
    "# max(0, 1 - (+0.2392200) + max(-2.36363446, -0.78634386, -0.27354264))\n",
    "#\n",
    "# max(0, 1 - 1.2727241 + 0.03420421) = 0\n",
    "# max(0, 1 + 0.3760998 - 0.17100248) = 1.20509732\n",
    "# max(0, 1 - 0.2392200 - 0.27354264) = 0.48723736\n",
    "#\n",
    "# (0 + 1.20509732 + 0.48723736) / 3 = 0.56411154\n",
    "#\n",
    "y_true = [0, 2, 3]\n",
    "hinge_loss(y_true, pred_decision, labels=labels)"
   ]
  },
  {
   "cell_type": "code",
   "execution_count": null,
   "id": "55e0489e",
   "metadata": {},
   "outputs": [],
   "source": [
    "print('ok_')"
   ]
  }
 ],
 "metadata": {
  "kernelspec": {
   "display_name": "Python 3 (ipykernel)",
   "language": "python",
   "name": "python3"
  },
  "language_info": {
   "codemirror_mode": {
    "name": "ipython",
    "version": 3
   },
   "file_extension": ".py",
   "mimetype": "text/x-python",
   "name": "python",
   "nbconvert_exporter": "python",
   "pygments_lexer": "ipython3",
   "version": "3.11.5"
  },
  "vscode": {
   "interpreter": {
    "hash": "5238573367df39f7286bb46f9ff5f08f63a01a80960060ce41e3c79b190280fa"
   }
  }
 },
 "nbformat": 4,
 "nbformat_minor": 5
}
