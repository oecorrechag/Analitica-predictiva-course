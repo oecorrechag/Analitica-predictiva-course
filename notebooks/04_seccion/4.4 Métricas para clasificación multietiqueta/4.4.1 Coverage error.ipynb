{
 "cells": [
  {
   "cell_type": "markdown",
   "id": "6bfc8fc6",
   "metadata": {},
   "source": [
    "# 4.4.1 Coverage error"
   ]
  },
  {
   "cell_type": "code",
   "execution_count": 1,
   "id": "1d90735b",
   "metadata": {},
   "outputs": [],
   "source": [
    "%load_ext autoreload\n",
    "%autoreload 2"
   ]
  },
  {
   "cell_type": "code",
   "execution_count": 2,
   "id": "9885dbd4",
   "metadata": {},
   "outputs": [],
   "source": [
    "import numpy as np\n",
    "from sklearn.metrics import coverage_error\n",
    "\n",
    "import warnings\n",
    "warnings.filterwarnings(\"ignore\")"
   ]
  },
  {
   "cell_type": "markdown",
   "id": "4a5faf99",
   "metadata": {},
   "source": [
    "Calcula el promedio de etiquetas que han sido incluidas en la predicción, tal que todas las etiquetas verdaderas han sido pronosticadas. <br>\n",
    "Es util cuando se desea conocer cuantas etiquetas han sido pronosticadas en promedio sin perder ninguna de las verdaderas. <br>\n",
    "El mejor valor de la métrica es el número promedio de etiquetas verdaderas. <br>\n",
    "Se computa como:\n",
    "\n",
    "$$ coverage(y, \\hat{f}) = \\frac{1}{n_{samles}} \\sum_{i=0}^{n_{samples}-1} \\max_{j:y_{i,j}-1} rank_{i,j} $$\n",
    "\n",
    "donde:\n",
    "\n",
    "- $y \\ \\epsilon \\{0,1\\} \\ n_{samples} × n_{labels} $ es una matriz binaria de indicadores.\n",
    "- $ \\hat{f} \\ \\epsilon R^{n_{samples} × n_{labels}} $\n",
    "- $ rank_{i,j} = |\\{ k: \\hat{f_{i,k}} >=  \\hat{f_{i,j}} \\} $"
   ]
  },
  {
   "cell_type": "code",
   "execution_count": 3,
   "id": "2967484f",
   "metadata": {},
   "outputs": [
    {
     "data": {
      "text/plain": [
       "2.5"
      ]
     },
     "execution_count": 3,
     "metadata": {},
     "output_type": "execute_result"
    }
   ],
   "source": [
    "y_true = np.array(\n",
    "    [\n",
    "        # A B  C\n",
    "        [1, 0, 0],\n",
    "        [0, 0, 1],\n",
    "    ]\n",
    ")\n",
    "y_score = np.array(\n",
    "    [\n",
    "        #   A    B    C\n",
    "        [0.75, 0.5, 1.0],\n",
    "        [1.00, 0.2, 0.1],\n",
    "    ]\n",
    ")\n",
    "\n",
    "#\n",
    "#  [0.75, 0.5, 1.0]  ->  C, A*, B  ->  2\n",
    "#  [1.00, 0.2, 0.1]  ->  A, B, C*  ->  3\n",
    "#\n",
    "coverage_error(\n",
    "    # -------------------------------------------------------------------------\n",
    "    # True binary labels in binary indicator format.\n",
    "    y_true=y_true,\n",
    "    # -------------------------------------------------------------------------\n",
    "    # Target scores, can either be probability estimates of the positive class,\n",
    "    # confidence values, or non-thresholded measure of decisions\n",
    "    y_score=y_score,\n",
    "    # -------------------------------------------------------------------------\n",
    "    # Sample weights.\n",
    "    sample_weight=None,\n",
    ")"
   ]
  },
  {
   "cell_type": "code",
   "execution_count": 4,
   "id": "55e0489e",
   "metadata": {},
   "outputs": [
    {
     "name": "stdout",
     "output_type": "stream",
     "text": [
      "ok_\n"
     ]
    }
   ],
   "source": [
    "print('ok_')"
   ]
  }
 ],
 "metadata": {
  "kernelspec": {
   "display_name": "Python 3 (ipykernel)",
   "language": "python",
   "name": "python3"
  },
  "language_info": {
   "codemirror_mode": {
    "name": "ipython",
    "version": 3
   },
   "file_extension": ".py",
   "mimetype": "text/x-python",
   "name": "python",
   "nbconvert_exporter": "python",
   "pygments_lexer": "ipython3",
   "version": "3.11.5"
  },
  "vscode": {
   "interpreter": {
    "hash": "5238573367df39f7286bb46f9ff5f08f63a01a80960060ce41e3c79b190280fa"
   }
  }
 },
 "nbformat": 4,
 "nbformat_minor": 5
}
