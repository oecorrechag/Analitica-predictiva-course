{
 "cells": [
  {
   "cell_type": "markdown",
   "id": "6bfc8fc6",
   "metadata": {},
   "source": [
    "# 4.5.1 R2 Score o coeficiente de determinación"
   ]
  },
  {
   "cell_type": "code",
   "execution_count": 1,
   "id": "1d90735b",
   "metadata": {},
   "outputs": [],
   "source": [
    "%load_ext autoreload\n",
    "%autoreload 2"
   ]
  },
  {
   "cell_type": "code",
   "execution_count": 2,
   "id": "9885dbd4",
   "metadata": {},
   "outputs": [],
   "source": [
    "from sklearn.metrics import r2_score\n",
    "\n",
    "import warnings\n",
    "warnings.filterwarnings(\"ignore\")"
   ]
  },
  {
   "cell_type": "markdown",
   "id": "4a5faf99",
   "metadata": {},
   "source": [
    "Representa el porcentaje de la varianza de la variable de salida que es explicado por las variables independientes del modelo.\n",
    "\n",
    "Es un indicador de la bondad de ajuste.\n",
    "\n",
    "Se calcula como:\n",
    "\n",
    "$$ R^2 (y, \\hat{y}) = 1 - \\frac{\\sum_{s}^{s} (y_{i} - \\hat{y_{i}})^2 }{\\sum_{s}^{s} (y_{i} - \\bar{y_{i}})^2 } $$\n",
    "\n",
    "con: \n",
    "\n",
    "- $\\bar{y} = \\frac{1}{n} \\sum_{}^{} y_{i} $ \n",
    "- $ \\sum_{}^{} (y_{i} - \\hat{y_{i}})^2 = \\sum_{}^{} \\epsilon_i^2 $"
   ]
  },
  {
   "cell_type": "code",
   "execution_count": 3,
   "id": "157bb667",
   "metadata": {},
   "outputs": [
    {
     "data": {
      "text/plain": [
       "0.9486081370449679"
      ]
     },
     "execution_count": 3,
     "metadata": {},
     "output_type": "execute_result"
    }
   ],
   "source": [
    "y_true = [3.0, -0.5, 2, 7]\n",
    "y_pred = [2.5, +0.0, 2, 8]\n",
    "\n",
    "#\n",
    "#  y_true  y_pred   e^2  (y_true-y_mean)^2\n",
    "# -------------------------------------------\n",
    "#     3.0     2.5  0.25             0.0156\n",
    "#    -0.5     0.0  0.25            11.3906\n",
    "#     2.0     2.0  0.00             0.7656\n",
    "#     7.0     8.0  1.00            17.0156\n",
    "#                 ------         -----------\n",
    "#                  1.50            29.1875\n",
    "#\n",
    "# y_mean = 0.25 * (3.0 - 0.5 + 2.0 + 7.0) = 2.875\n",
    "#\n",
    "# r2 = 1.0 - 1.5 / 29.1875 = 0.9486\n",
    "#\n",
    "\n",
    "r2_score(\n",
    "    # -------------------------------------------------------------------------\n",
    "    # Ground truth (correct) target values.\n",
    "    y_true=y_true,\n",
    "    # -------------------------------------------------------------------------\n",
    "    # Estimated target values.\n",
    "    y_pred=y_pred,\n",
    "    # -------------------------------------------------------------------------\n",
    "    # Sample weights.\n",
    "    sample_weight=None,\n",
    "    # -------------------------------------------------------------------------\n",
    "    # Defines aggregating of multiple output scores.\n",
    "    # * 'raw_values': Returns a full set of scores in case of multioutput input.\n",
    "    # * 'uniform_average': Scores of all outputs are averaged with uniform\n",
    "    #      weight.\n",
    "    # * 'variance_weighted': Scores of all outputs are averaged, weighted by\n",
    "    #      the variances of each individual output.\n",
    "    multioutput=\"uniform_average\",\n",
    "    # -------------------------------------------------------------------------\n",
    "    # Flag indicating if NaN and -Inf scores resulting from constant data\n",
    "    # should be replaced with real numbers (1.0 if prediction is perfect, 0.0\n",
    "    # otherwise).\n",
    "    force_finite=True,\n",
    ")"
   ]
  },
  {
   "cell_type": "code",
   "execution_count": 4,
   "id": "8b5b28a7",
   "metadata": {},
   "outputs": [
    {
     "data": {
      "text/plain": [
       "array([0.96543779, 0.90816327])"
      ]
     },
     "execution_count": 4,
     "metadata": {},
     "output_type": "execute_result"
    }
   ],
   "source": [
    "y_true = [[0.5, 1], [-1, 1], [7, -6]]\n",
    "y_pred = [[0, 2], [-1, 2], [8, -5]]\n",
    "\n",
    "#\n",
    "# y_true_0 = [0.5, -1, 7]\n",
    "# y_pred_0 = [0, -1, 8]\n",
    "# r2_score(y_true_0, y_pred_0) = 0.9654\n",
    "#\n",
    "# y_true_1 = [1, 1, -6]\n",
    "# y_pred_1 = [2, 2, -5]\n",
    "# r2_score(y_true_1, y_pred_1) = 0.9081\n",
    "#\n",
    "r2_score(\n",
    "    y_true,\n",
    "    y_pred,\n",
    "    multioutput=\"raw_values\",\n",
    ")"
   ]
  },
  {
   "cell_type": "code",
   "execution_count": 5,
   "id": "ef9ef638",
   "metadata": {},
   "outputs": [
    {
     "data": {
      "text/plain": [
       "0.9382566585956417"
      ]
     },
     "execution_count": 5,
     "metadata": {},
     "output_type": "execute_result"
    }
   ],
   "source": [
    "y_true = [[0.5, 1], [-1, 1], [7, -6]]\n",
    "y_pred = [[0, 2], [-1, 2], [8, -5]]\n",
    "\n",
    "#\n",
    "# var(y_true_0) = 12.0556\n",
    "# var(y_true_1) = 10.8889\n",
    "#\n",
    "# r2 = 0.9654 * 12.0556 / (12.0556 + 10.8889) +\n",
    "#      0.9081 * 10.8889 / (12.0556 + 10.8889)\n",
    "#    = 0.9383\n",
    "#\n",
    "r2_score(\n",
    "    y_true,\n",
    "    y_pred,\n",
    "    multioutput=\"variance_weighted\",\n",
    ")"
   ]
  },
  {
   "cell_type": "code",
   "execution_count": 7,
   "id": "aab8e5e1",
   "metadata": {},
   "outputs": [
    {
     "data": {
      "text/plain": [
       "0.9368005266622779"
      ]
     },
     "execution_count": 7,
     "metadata": {},
     "output_type": "execute_result"
    }
   ],
   "source": [
    "y_true = [[0.5, 1], [-1, 1], [7, -6]]\n",
    "y_pred = [[0, 2], [-1, 2], [8, -5]]\n",
    "\n",
    "#\n",
    "# r2 = 0.5 * (0.9654 + 0.9081)\n",
    "#    = 0.9368\n",
    "#\n",
    "r2_score(\n",
    "    y_true,\n",
    "    y_pred,\n",
    "    multioutput=\"uniform_average\",\n",
    ")"
   ]
  },
  {
   "cell_type": "code",
   "execution_count": 8,
   "id": "f555f1c7",
   "metadata": {},
   "outputs": [
    {
     "data": {
      "text/plain": [
       "0.9253456221198156"
      ]
     },
     "execution_count": 8,
     "metadata": {},
     "output_type": "execute_result"
    }
   ],
   "source": [
    "#\n",
    "# r2 = 0.9654 * 0.3 + 0.9081 * 0.7\n",
    "#    = 0.9253\n",
    "#\n",
    "r2_score(\n",
    "    y_true,\n",
    "    y_pred,\n",
    "    multioutput=[0.3, 0.7],\n",
    ")"
   ]
  },
  {
   "cell_type": "code",
   "execution_count": 9,
   "id": "7f6177db",
   "metadata": {},
   "outputs": [
    {
     "data": {
      "text/plain": [
       "0.9368005266622779"
      ]
     },
     "execution_count": 9,
     "metadata": {},
     "output_type": "execute_result"
    }
   ],
   "source": [
    "r2_score(\n",
    "    y_true,\n",
    "    y_pred,\n",
    "    force_finite=False,\n",
    ")"
   ]
  },
  {
   "cell_type": "code",
   "execution_count": 10,
   "id": "ff14ca48",
   "metadata": {},
   "outputs": [
    {
     "data": {
      "text/plain": [
       "0.0"
      ]
     },
     "execution_count": 10,
     "metadata": {},
     "output_type": "execute_result"
    }
   ],
   "source": [
    "y_true = [-2, -2, -2]\n",
    "y_pred = [-2, -2, -2 + 1e-8]\n",
    "\n",
    "r2_score(\n",
    "    y_true,\n",
    "    y_pred,\n",
    ")"
   ]
  },
  {
   "cell_type": "code",
   "execution_count": 11,
   "id": "82649112",
   "metadata": {},
   "outputs": [
    {
     "data": {
      "text/plain": [
       "-inf"
      ]
     },
     "execution_count": 11,
     "metadata": {},
     "output_type": "execute_result"
    }
   ],
   "source": [
    "r2_score(\n",
    "    y_true,\n",
    "    y_pred,\n",
    "    force_finite=False,\n",
    ")"
   ]
  },
  {
   "cell_type": "code",
   "execution_count": 6,
   "id": "55e0489e",
   "metadata": {},
   "outputs": [
    {
     "name": "stdout",
     "output_type": "stream",
     "text": [
      "ok_\n"
     ]
    }
   ],
   "source": [
    "print('ok_')"
   ]
  }
 ],
 "metadata": {
  "kernelspec": {
   "display_name": "Python 3 (ipykernel)",
   "language": "python",
   "name": "python3"
  },
  "language_info": {
   "codemirror_mode": {
    "name": "ipython",
    "version": 3
   },
   "file_extension": ".py",
   "mimetype": "text/x-python",
   "name": "python",
   "nbconvert_exporter": "python",
   "pygments_lexer": "ipython3",
   "version": "3.11.5"
  },
  "vscode": {
   "interpreter": {
    "hash": "5238573367df39f7286bb46f9ff5f08f63a01a80960060ce41e3c79b190280fa"
   }
  }
 },
 "nbformat": 4,
 "nbformat_minor": 5
}
