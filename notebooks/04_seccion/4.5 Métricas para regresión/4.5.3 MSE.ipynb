{
 "cells": [
  {
   "cell_type": "markdown",
   "id": "6bfc8fc6",
   "metadata": {},
   "source": [
    "# 4.5.3 Mean squared error (MSE)"
   ]
  },
  {
   "cell_type": "code",
   "execution_count": null,
   "id": "1d90735b",
   "metadata": {},
   "outputs": [],
   "source": [
    "%load_ext autoreload\n",
    "%autoreload 2"
   ]
  },
  {
   "cell_type": "code",
   "execution_count": null,
   "id": "9885dbd4",
   "metadata": {},
   "outputs": [],
   "source": [
    "from sklearn.metrics import mean_squared_error\n",
    "\n",
    "import warnings\n",
    "warnings.filterwarnings(\"ignore\")"
   ]
  },
  {
   "cell_type": "markdown",
   "id": "4a5faf99",
   "metadata": {},
   "source": [
    "Corresponde al valor esperado del error o pérdida cuadrática.\n",
    "\n",
    "Se computa como:\n",
    "\n",
    "$$ MSE(y,\\hat{y}) = \\frac{1}{n_{samples}} \\sum_{i=0}^{n_{samples}-1} ( y_{i} - \\hat{y_{i}} )^2 = \\frac{1}{n_{samples}} \\sum_{i=0}^{n_{samples}-1} \\hat{\\epsilon_i^2}           $$"
   ]
  },
  {
   "cell_type": "code",
   "execution_count": null,
   "id": "252d3d4d",
   "metadata": {},
   "outputs": [],
   "source": [
    "y_true = [3.0, -0.5, 2, 7]\n",
    "y_pred = [2.5, +0.0, 2, 8]\n",
    "\n",
    "#\n",
    "# 1/4 * ((3.0-2.5)**2 + (-0.5-0)**2 + (2-2)**2 + (7-8)**2) = 0.375\n",
    "#\n",
    "mean_squared_error(\n",
    "    # -------------------------------------------------------------------------\n",
    "    # Ground truth (correct) target values.\n",
    "    y_true=y_true,\n",
    "    # -------------------------------------------------------------------------\n",
    "    # Estimated target values.\n",
    "    y_pred=y_pred,\n",
    "    # -------------------------------------------------------------------------\n",
    "    # Sample weights.\n",
    "    sample_weight=None,\n",
    "    # -------------------------------------------------------------------------\n",
    "    # Defines aggregating of multiple output scores.\n",
    "    # * 'raw_values': Returns a full set of scores in case of multioutput input.\n",
    "    # * 'uniform_average': Scores of all outputs are averaged with uniform\n",
    "    #      weight.\n",
    "    multioutput=\"uniform_average\",\n",
    "    # -------------------------------------------------------------------------\n",
    "    # If True returns MSE value, if False returns RMSE value.\n",
    "    squared=True,\n",
    ")"
   ]
  },
  {
   "cell_type": "code",
   "execution_count": null,
   "id": "d413d11c",
   "metadata": {},
   "outputs": [],
   "source": [
    "#\n",
    "# 0.612372 ^2 = 0.375\n",
    "#\n",
    "mean_squared_error(\n",
    "    y_true=y_true,\n",
    "    y_pred=y_pred,\n",
    "    squared=False,\n",
    ")"
   ]
  },
  {
   "cell_type": "code",
   "execution_count": null,
   "id": "1366a2c4",
   "metadata": {},
   "outputs": [],
   "source": [
    "y_true = [[0.5, 1], [-1, 1], [7, -6]]\n",
    "y_pred = [[0.0, 2], [-1, 2], [8, -5]]\n",
    "\n",
    "# 1/3 * ((0.5-0)**2 + (-1-(-1))**2 + (7-8)**2) = 0.41666667\n",
    "# 1/3 * ((1-2)**2 + (1-2)**2+(-5-(-6)**2)) = 1.0\n",
    "mean_squared_error(\n",
    "    y_true,\n",
    "    y_pred,\n",
    "    multioutput=\"raw_values\",\n",
    ")"
   ]
  },
  {
   "cell_type": "code",
   "execution_count": null,
   "id": "7cf73baf",
   "metadata": {},
   "outputs": [],
   "source": [
    "#\n",
    "# 0.5 * (0.41666667 + 1.0) = 0.708333\n",
    "#\n",
    "mean_squared_error(\n",
    "    y_true,\n",
    "    y_pred,\n",
    ")"
   ]
  },
  {
   "cell_type": "code",
   "execution_count": null,
   "id": "d3db6a1c",
   "metadata": {},
   "outputs": [],
   "source": [
    "#\n",
    "# 0.5 * (sqrt(0.41666667) + 1.0) = 0.822748\n",
    "#\n",
    "mean_squared_error(\n",
    "    y_true,\n",
    "    y_pred,\n",
    "    squared=False,\n",
    ")"
   ]
  },
  {
   "cell_type": "code",
   "execution_count": null,
   "id": "00d6fd05",
   "metadata": {},
   "outputs": [],
   "source": [
    "#\n",
    "# 0.3 * 0.41666667 + 0.7 * 1.0 = 0.825\n",
    "#\n",
    "mean_squared_error(\n",
    "    y_true,\n",
    "    y_pred,\n",
    "    multioutput=[0.3, 0.7],\n",
    ")"
   ]
  },
  {
   "cell_type": "code",
   "execution_count": null,
   "id": "55e0489e",
   "metadata": {},
   "outputs": [],
   "source": [
    "print('ok_')"
   ]
  }
 ],
 "metadata": {
  "kernelspec": {
   "display_name": "Python 3 (ipykernel)",
   "language": "python",
   "name": "python3"
  },
  "language_info": {
   "codemirror_mode": {
    "name": "ipython",
    "version": 3
   },
   "file_extension": ".py",
   "mimetype": "text/x-python",
   "name": "python",
   "nbconvert_exporter": "python",
   "pygments_lexer": "ipython3",
   "version": "3.11.5"
  },
  "vscode": {
   "interpreter": {
    "hash": "5238573367df39f7286bb46f9ff5f08f63a01a80960060ce41e3c79b190280fa"
   }
  }
 },
 "nbformat": 4,
 "nbformat_minor": 5
}
