{
 "cells": [
  {
   "cell_type": "markdown",
   "id": "6bfc8fc6",
   "metadata": {},
   "source": [
    "# 4.5.4 Mean squared logarithmic error"
   ]
  },
  {
   "cell_type": "code",
   "execution_count": 1,
   "id": "1d90735b",
   "metadata": {},
   "outputs": [],
   "source": [
    "%load_ext autoreload\n",
    "%autoreload 2"
   ]
  },
  {
   "cell_type": "code",
   "execution_count": 2,
   "id": "9885dbd4",
   "metadata": {},
   "outputs": [],
   "source": [
    "from sklearn.metrics import mean_squared_log_error\n",
    "\n",
    "import warnings\n",
    "warnings.filterwarnings(\"ignore\")"
   ]
  },
  {
   "cell_type": "markdown",
   "id": "4a5faf99",
   "metadata": {},
   "source": [
    "Corresponde al valor esperado del error o pérdida logaritmica al cuadrado.\n",
    "\n",
    "Esta métrica se usa para variables que tienen un comportamiento exponencial como poblaciones.\n",
    "\n",
    "La métrica penaliza más los estimados por debajo que por encima del valor real.\n",
    "\n",
    "Se computa como:\n",
    "\n",
    "$$ MSLE(y,\\hat{y}) = \\frac{1}{n_{samples}} \\sum_{i=0}^{n_{samples}-1}  ( log_e(1+y_i) - log_e(1+\\hat{y_i}))^2    $$"
   ]
  },
  {
   "cell_type": "code",
   "execution_count": 3,
   "id": "23677491",
   "metadata": {},
   "outputs": [
    {
     "data": {
      "text/plain": [
       "0.03973012298459379"
      ]
     },
     "execution_count": 3,
     "metadata": {},
     "output_type": "execute_result"
    }
   ],
   "source": [
    "y_true = [3.0, 5.0, 2.5, 7.0]\n",
    "y_pred = [2.5, 5.0, 4.0, 8.0]\n",
    "\n",
    "# 1/4 * ((log(1+3.0) - log(1+2.5))**2 +\n",
    "#        (log(1+5.0) - log(1+5.0))**2 +\n",
    "#        (log(1+2.5) - log(1+4.0))**2 +\n",
    "#        (log(1+7.0) - log(1+8.0))**2 ) = 0.039730\n",
    "#\n",
    "mean_squared_log_error(\n",
    "    # -------------------------------------------------------------------------\n",
    "    # Ground truth (correct) target values.\n",
    "    y_true=y_true,\n",
    "    # -------------------------------------------------------------------------\n",
    "    # Estimated target values.\n",
    "    y_pred=y_pred,\n",
    "    # -------------------------------------------------------------------------\n",
    "    # Sample weights.\n",
    "    sample_weight=None,\n",
    "    # -------------------------------------------------------------------------\n",
    "    # Defines aggregating of multiple output scores.\n",
    "    # * 'raw_values': Returns a full set of scores in case of multioutput input.\n",
    "    # * 'uniform_average': Scores of all outputs are averaged with uniform\n",
    "    #      weight.\n",
    "    multioutput=\"uniform_average\",\n",
    "    # -------------------------------------------------------------------------\n",
    "    # If True returns MSLE value, if False returns RMSLE value.\n",
    "    squared=True,\n",
    ")"
   ]
  },
  {
   "cell_type": "code",
   "execution_count": 4,
   "id": "04b93227",
   "metadata": {},
   "outputs": [
    {
     "data": {
      "text/plain": [
       "0.19932416558108"
      ]
     },
     "execution_count": 4,
     "metadata": {},
     "output_type": "execute_result"
    }
   ],
   "source": [
    "#\n",
    "# sqrt(0.039730) = 0.199324\n",
    "#\n",
    "mean_squared_log_error(\n",
    "    y_true,\n",
    "    y_pred,\n",
    "    squared=False,\n",
    ")"
   ]
  },
  {
   "cell_type": "code",
   "execution_count": 5,
   "id": "cb61c484",
   "metadata": {},
   "outputs": [
    {
     "data": {
      "text/plain": [
       "array([0.00462428, 0.08377444])"
      ]
     },
     "execution_count": 5,
     "metadata": {},
     "output_type": "execute_result"
    }
   ],
   "source": [
    "y_true = [[0.5, 1.0], [1.0, 2.0], [7.0, 6.0]]\n",
    "y_pred = [[0.5, 2.0], [1.0, 2.5], [8.0, 8.0]]\n",
    "\n",
    "# y_true = [0.5, 1.0, 7.0]\n",
    "# y_pred = [0.5, 1.0, 8.0]\n",
    "# mean_squared_log_error(y_true, y_pred) = 0.004624\n",
    "#\n",
    "# y_true = [1.0, 2.0, 6.0]\n",
    "# y_pred = [2.0, 2.5, 8.0]\n",
    "# mean_squared_log_error(y_true, y_pred) = 0.083774\n",
    "\n",
    "mean_squared_log_error(\n",
    "    y_true,\n",
    "    y_pred,\n",
    "    multioutput=\"raw_values\",\n",
    ")"
   ]
  },
  {
   "cell_type": "code",
   "execution_count": 6,
   "id": "6131110f",
   "metadata": {},
   "outputs": [
    {
     "data": {
      "text/plain": [
       "0.044199361889160516"
      ]
     },
     "execution_count": 6,
     "metadata": {},
     "output_type": "execute_result"
    }
   ],
   "source": [
    "#\n",
    "# 0.5 * (0.004624 + 0.083774) = 0.044199\n",
    "#\n",
    "mean_squared_log_error(\n",
    "    y_true,\n",
    "    y_pred,\n",
    ")"
   ]
  },
  {
   "cell_type": "code",
   "execution_count": 7,
   "id": "6ef80f88",
   "metadata": {},
   "outputs": [
    {
     "data": {
      "text/plain": [
       "0.06002939417970032"
      ]
     },
     "execution_count": 7,
     "metadata": {},
     "output_type": "execute_result"
    }
   ],
   "source": [
    "#\n",
    "# 0.3 * 0.004624 + 0.7 * 0.083774 = 0.060029\n",
    "#\n",
    "mean_squared_log_error(\n",
    "    y_true,\n",
    "    y_pred,\n",
    "    multioutput=[0.3, 0.7],\n",
    ")"
   ]
  },
  {
   "cell_type": "code",
   "execution_count": 8,
   "id": "55e0489e",
   "metadata": {},
   "outputs": [
    {
     "name": "stdout",
     "output_type": "stream",
     "text": [
      "ok_\n"
     ]
    }
   ],
   "source": [
    "print('ok_')"
   ]
  }
 ],
 "metadata": {
  "kernelspec": {
   "display_name": "Python 3 (ipykernel)",
   "language": "python",
   "name": "python3"
  },
  "language_info": {
   "codemirror_mode": {
    "name": "ipython",
    "version": 3
   },
   "file_extension": ".py",
   "mimetype": "text/x-python",
   "name": "python",
   "nbconvert_exporter": "python",
   "pygments_lexer": "ipython3",
   "version": "3.11.5"
  },
  "vscode": {
   "interpreter": {
    "hash": "5238573367df39f7286bb46f9ff5f08f63a01a80960060ce41e3c79b190280fa"
   }
  }
 },
 "nbformat": 4,
 "nbformat_minor": 5
}
