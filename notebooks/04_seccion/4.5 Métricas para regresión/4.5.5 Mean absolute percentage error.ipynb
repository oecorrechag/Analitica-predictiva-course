{
 "cells": [
  {
   "cell_type": "markdown",
   "id": "6bfc8fc6",
   "metadata": {},
   "source": [
    "# 4.5.5 Mean absolute percentage error"
   ]
  },
  {
   "cell_type": "code",
   "execution_count": null,
   "id": "1d90735b",
   "metadata": {},
   "outputs": [],
   "source": [
    "%load_ext autoreload\n",
    "%autoreload 2"
   ]
  },
  {
   "cell_type": "code",
   "execution_count": null,
   "id": "9885dbd4",
   "metadata": {},
   "outputs": [],
   "source": [
    "from sklearn.metrics import mean_absolute_percentage_error\n",
    "\n",
    "import warnings\n",
    "warnings.filterwarnings(\"ignore\")"
   ]
  },
  {
   "cell_type": "markdown",
   "id": "4a5faf99",
   "metadata": {},
   "source": [
    "También es conocido como la desviación porcentual media absoluta.\n",
    "\n",
    "Esta métrica es sensible a errores relativos.\n",
    "\n",
    "Se computa como:\n",
    "\n",
    "$$ MAPE(y,\\hat{y}) = \\frac{1}{n_{samples}} \\sum_{i=0}^{n_{samples}-1} \\frac{| y_{i} - \\hat{y_{i}}|}{max(\\epsilon_i |y_{i}|)} = \\frac{1}{n_{samples}} \\sum_{i=0}^{n_{samples}-1} \\frac{| \\hat{\\epsilon_i} |}{max(\\epsilon_i |y_{i}|)} $$"
   ]
  },
  {
   "cell_type": "code",
   "execution_count": null,
   "id": "a6807897",
   "metadata": {},
   "outputs": [],
   "source": [
    "y_true = [3.0, -0.5, 2, 7]\n",
    "y_pred = [2.5, +0.0, 2, 8]\n",
    "\n",
    "#\n",
    "#  1      0.5     0.5     0     1\n",
    "# --- * (----- + ----- + --- + ---) = 0.327380\n",
    "#  4      3.0     0.5     2     7\n",
    "#\n",
    "mean_absolute_percentage_error(\n",
    "    # -------------------------------------------------------------------------\n",
    "    # Ground truth (correct) target values.\n",
    "    y_true=y_true,\n",
    "    # -------------------------------------------------------------------------\n",
    "    # Estimated target values.\n",
    "    y_pred=y_pred,\n",
    "    # -------------------------------------------------------------------------\n",
    "    # Sample weights.\n",
    "    sample_weight=None,\n",
    "    # -------------------------------------------------------------------------\n",
    "    # Defines aggregating of multiple output scores.\n",
    "    # * 'raw_values': Returns a full set of scores in case of multioutput input.\n",
    "    # * 'uniform_average': Scores of all outputs are averaged with uniform\n",
    "    #      weight.\n",
    "    multioutput=\"uniform_average\",\n",
    ")"
   ]
  },
  {
   "cell_type": "code",
   "execution_count": null,
   "id": "409ce0cf",
   "metadata": {},
   "outputs": [],
   "source": [
    "y_true = [[0.5, 1], [-1, 1], [7, -6]]\n",
    "y_pred = [[0.0, 2], [-1, 2], [8, -5]]\n",
    "\n",
    "# y_true = [0.5, -1, 7]\n",
    "# y_pred = [0.0, -1, 8]\n",
    "# mean_absolute_percentage_error(y_true, y_pred) = 0.380952\n",
    "#\n",
    "# y_true = [1, 1, -6]\n",
    "# y_pred = [2, 2, -5]\n",
    "# mean_absolute_percentage_error(y_true, y_pred) = 0.722222\n",
    "#\n",
    "mean_absolute_percentage_error(\n",
    "    y_true,\n",
    "    y_pred,\n",
    "    multioutput=\"raw_values\",\n",
    ")"
   ]
  },
  {
   "cell_type": "code",
   "execution_count": null,
   "id": "5bbb62f5",
   "metadata": {},
   "outputs": [],
   "source": [
    "#\n",
    "# 0.5 * (0.380952 + 0.722222) = 0.5515873\n",
    "#\n",
    "mean_absolute_percentage_error(\n",
    "    y_true,\n",
    "    y_pred,\n",
    ")"
   ]
  },
  {
   "cell_type": "code",
   "execution_count": null,
   "id": "468036cb",
   "metadata": {},
   "outputs": [],
   "source": [
    "#\n",
    "# 0.3 * 0.380952 + 0.7 * 0.722222 = 0.619841\n",
    "#\n",
    "mean_absolute_percentage_error(\n",
    "    y_true,\n",
    "    y_pred,\n",
    "    multioutput=[0.3, 0.7],\n",
    ")"
   ]
  },
  {
   "cell_type": "code",
   "execution_count": null,
   "id": "3c2c8f8f",
   "metadata": {},
   "outputs": [],
   "source": [
    "# the value when some element of the y_true is zero is arbitrarily high because\n",
    "# of the division by epsilon\n",
    "y_true = [1.0, 0.0, 2.4, 7.0]\n",
    "y_pred = [1.2, 0.1, 2.4, 8.0]\n",
    "\n",
    "#\n",
    "#  1      0.2      0.1       0      1\n",
    "# --- * (----- + ------- + ----- + ---) = 112589990684262.48\n",
    "#  4      1.0     1e-15     2.4     7\n",
    "#\n",
    "mean_absolute_percentage_error(\n",
    "    y_true,\n",
    "    y_pred,\n",
    ")"
   ]
  },
  {
   "cell_type": "code",
   "execution_count": null,
   "id": "55e0489e",
   "metadata": {},
   "outputs": [],
   "source": [
    "print('ok_')"
   ]
  }
 ],
 "metadata": {
  "kernelspec": {
   "display_name": "Python 3 (ipykernel)",
   "language": "python",
   "name": "python3"
  },
  "language_info": {
   "codemirror_mode": {
    "name": "ipython",
    "version": 3
   },
   "file_extension": ".py",
   "mimetype": "text/x-python",
   "name": "python",
   "nbconvert_exporter": "python",
   "pygments_lexer": "ipython3",
   "version": "3.11.5"
  },
  "vscode": {
   "interpreter": {
    "hash": "5238573367df39f7286bb46f9ff5f08f63a01a80960060ce41e3c79b190280fa"
   }
  }
 },
 "nbformat": 4,
 "nbformat_minor": 5
}
