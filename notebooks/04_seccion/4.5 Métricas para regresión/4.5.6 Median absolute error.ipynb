{
 "cells": [
  {
   "cell_type": "markdown",
   "id": "6bfc8fc6",
   "metadata": {},
   "source": [
    "# 4.5.6 Median absolute error"
   ]
  },
  {
   "cell_type": "code",
   "execution_count": null,
   "id": "1d90735b",
   "metadata": {},
   "outputs": [],
   "source": [
    "%load_ext autoreload\n",
    "%autoreload 2"
   ]
  },
  {
   "cell_type": "code",
   "execution_count": null,
   "id": "9885dbd4",
   "metadata": {},
   "outputs": [],
   "source": [
    "from sklearn.metrics import median_absolute_error\n",
    "\n",
    "import warnings\n",
    "warnings.filterwarnings(\"ignore\")"
   ]
  },
  {
   "cell_type": "markdown",
   "id": "4a5faf99",
   "metadata": {},
   "source": [
    "Es robusto a outliers.\n",
    "\n",
    "Se computa como:\n",
    "\n",
    "$$ MedAE(y,\\hat{y}) = median (|y_{1} - \\hat{y_{1}}|, ... , |y_{n} - \\hat{y_{n}}|) = median (|\\epsilon_{1} - \\hat{\\epsilon_{1}}|, ... , |\\epsilon_{n} - \\hat{\\epsilon_{n}}|) $$"
   ]
  },
  {
   "cell_type": "code",
   "execution_count": null,
   "id": "a6807897",
   "metadata": {},
   "outputs": [],
   "source": [
    "y_true = [3.0, -0.5, 2, 7]\n",
    "y_pred = [2.5, +0.0, 2, 8]\n",
    "\n",
    "# median(0.5, 0.5, 0.0, 1.0) = 0.5\n",
    "\n",
    "median_absolute_error(\n",
    "    # -------------------------------------------------------------------------\n",
    "    # Ground truth (correct) target values.\n",
    "    y_true=y_true,\n",
    "    # -------------------------------------------------------------------------\n",
    "    # Estimated target values.\n",
    "    y_pred=y_pred,\n",
    "    # -------------------------------------------------------------------------\n",
    "    # Sample weights.\n",
    "    sample_weight=None,\n",
    "    # -------------------------------------------------------------------------\n",
    "    # Defines aggregating of multiple output scores.\n",
    "    # * 'raw_values': Returns a full set of scores in case of multioutput input.\n",
    "    # * 'uniform_average': Scores of all outputs are averaged with uniform\n",
    "    #      weight.\n",
    "    multioutput=\"uniform_average\",\n",
    ")"
   ]
  },
  {
   "cell_type": "code",
   "execution_count": null,
   "id": "1436f423",
   "metadata": {},
   "outputs": [],
   "source": [
    "y_true = [[0.5, 1], [-1, 1], [7, -6]]\n",
    "y_pred = [[0.0, 2], [-1, 2], [8, -5]]\n",
    "\n",
    "# median(0.5, 0.0, 1.0) = 0.5\n",
    "# median(1.0, 1.0, 1.0) = 1.0\n",
    "median_absolute_error(\n",
    "    y_true,\n",
    "    y_pred,\n",
    "    multioutput=\"raw_values\",\n",
    ")"
   ]
  },
  {
   "cell_type": "code",
   "execution_count": null,
   "id": "40187880",
   "metadata": {},
   "outputs": [],
   "source": [
    "#\n",
    "# 0.5 * (0.5 + 1.0) = 0.75\n",
    "#\n",
    "median_absolute_error(\n",
    "    y_true,\n",
    "    y_pred,\n",
    ")"
   ]
  },
  {
   "cell_type": "code",
   "execution_count": null,
   "id": "6a54bcdb",
   "metadata": {},
   "outputs": [],
   "source": [
    "#\n",
    "# 0.3 * 0.5 + 0.7 * 1.0 = 0.85\n",
    "#\n",
    "median_absolute_error(\n",
    "    y_true,\n",
    "    y_pred,\n",
    "    multioutput=[0.3, 0.7],\n",
    ")"
   ]
  },
  {
   "cell_type": "code",
   "execution_count": null,
   "id": "55e0489e",
   "metadata": {},
   "outputs": [],
   "source": [
    "print('ok_')"
   ]
  }
 ],
 "metadata": {
  "kernelspec": {
   "display_name": "Python 3 (ipykernel)",
   "language": "python",
   "name": "python3"
  },
  "language_info": {
   "codemirror_mode": {
    "name": "ipython",
    "version": 3
   },
   "file_extension": ".py",
   "mimetype": "text/x-python",
   "name": "python",
   "nbconvert_exporter": "python",
   "pygments_lexer": "ipython3",
   "version": "3.11.5"
  },
  "vscode": {
   "interpreter": {
    "hash": "5238573367df39f7286bb46f9ff5f08f63a01a80960060ce41e3c79b190280fa"
   }
  }
 },
 "nbformat": 4,
 "nbformat_minor": 5
}
