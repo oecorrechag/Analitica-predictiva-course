{
 "cells": [
  {
   "cell_type": "markdown",
   "id": "6bfc8fc6",
   "metadata": {},
   "source": [
    "# 4.5.8 Explained variance score"
   ]
  },
  {
   "cell_type": "code",
   "execution_count": null,
   "id": "1d90735b",
   "metadata": {},
   "outputs": [],
   "source": [
    "%load_ext autoreload\n",
    "%autoreload 2"
   ]
  },
  {
   "cell_type": "code",
   "execution_count": null,
   "id": "9885dbd4",
   "metadata": {},
   "outputs": [],
   "source": [
    "from sklearn.metrics import explained_variance_score\n",
    "\n",
    "import warnings\n",
    "warnings.filterwarnings(\"ignore\")"
   ]
  },
  {
   "cell_type": "markdown",
   "id": "4a5faf99",
   "metadata": {},
   "source": [
    "Se suele preferir R2 en vez de esta metrica, ya que esta no tiene en cuenta la desviación sistemática de las desviaciones.\n",
    "\n",
    "Se computa como:\n",
    "\n",
    "$$ explained \\ variance(y,\\hat{y}) = 1 - \\frac{Var\\{y,\\hat{y} \\}}{Var\\{y\\}} = 1 - \\frac{Var\\{\\hat{\\epsilon} \\}}{Var\\{y\\}} $$"
   ]
  },
  {
   "cell_type": "code",
   "execution_count": null,
   "id": "a6807897",
   "metadata": {},
   "outputs": [],
   "source": [
    "y_true = [3.0, -0.5, 2, 7]\n",
    "y_pred = [2.5, +0.0, 2, 8]\n",
    "\n",
    "# var(y_true) = 7.296875\n",
    "# var(y_pred) = 0.3125\n",
    "# 1 - 0.3125 / 7.296875 = 0.957173\n",
    "\n",
    "explained_variance_score(\n",
    "    # -------------------------------------------------------------------------\n",
    "    # Ground truth (correct) target values.\n",
    "    y_true=y_true,\n",
    "    # -------------------------------------------------------------------------\n",
    "    # Estimated target values.\n",
    "    y_pred=y_pred,\n",
    "    # -------------------------------------------------------------------------\n",
    "    # Sample weights.\n",
    "    sample_weight=None,\n",
    "    # -------------------------------------------------------------------------\n",
    "    # Defines aggregating of multiple output scores.\n",
    "    # * 'raw_values': Returns a full set of scores in case of multioutput input.\n",
    "    # * 'uniform_average': Scores of all outputs are averaged with uniform\n",
    "    #      weight.\n",
    "    # * 'variance_weighted': Scores of all outputs are averaged, weighted by\n",
    "    #      the variances of each individual output.\n",
    "    multioutput=\"uniform_average\",\n",
    "    # -------------------------------------------------------------------------\n",
    "    # Flag indicating if NaN and -Inf scores resulting from constant data\n",
    "    # should be replaced with real numbers (1.0 if prediction is perfect, 0.0\n",
    "    # otherwise).\n",
    "    force_finite=True,\n",
    ")"
   ]
  },
  {
   "cell_type": "code",
   "execution_count": null,
   "id": "f341a3d6",
   "metadata": {},
   "outputs": [],
   "source": [
    "y_true = [[0.5, 1], [-1, 1], [7, -6]]\n",
    "y_pred = [[0.0, 2], [-1, 2], [8, -5]]\n",
    "\n",
    "# y_true = [0.5, -1, 7]\n",
    "# y_pred = [0.0, -1, 8]\n",
    "# explained_variance_score(y_true, y_pred) = 0.967741\n",
    "#\n",
    "# y_true = [1, 1, -6]\n",
    "# y_pred = [2, 2, -5]\n",
    "# explained_variance_score(y_true, y_pred) = 1.\n",
    "\n",
    "explained_variance_score(\n",
    "    y_true,\n",
    "    y_pred,\n",
    "    multioutput=\"raw_values\",\n",
    ")"
   ]
  },
  {
   "cell_type": "code",
   "execution_count": null,
   "id": "ee61fc3d",
   "metadata": {},
   "outputs": [],
   "source": [
    "#\n",
    "# 0.5 * (0.967741 + 1.) = 0.983870\n",
    "#\n",
    "explained_variance_score(\n",
    "    y_true,\n",
    "    y_pred,\n",
    "    multioutput=\"uniform_average\",\n",
    ")"
   ]
  },
  {
   "cell_type": "code",
   "execution_count": null,
   "id": "26aefef9",
   "metadata": {},
   "outputs": [],
   "source": [
    "y_true = [-2, -2, -2]\n",
    "y_pred = [-2, -2, -2]\n",
    "\n",
    "explained_variance_score(\n",
    "    y_true,\n",
    "    y_pred,\n",
    "    # force_finite=True\n",
    ")"
   ]
  },
  {
   "cell_type": "code",
   "execution_count": null,
   "id": "3df470fb",
   "metadata": {},
   "outputs": [],
   "source": [
    "y_true = [-2, -2, -2]\n",
    "y_pred = [-2, -2, -2 + 1e-8]\n",
    "\n",
    "explained_variance_score(\n",
    "    y_true,\n",
    "    y_pred,\n",
    ")"
   ]
  },
  {
   "cell_type": "code",
   "execution_count": null,
   "id": "2286f32b",
   "metadata": {},
   "outputs": [],
   "source": [
    "explained_variance_score(\n",
    "    y_true,\n",
    "    y_pred,\n",
    "    force_finite=False,\n",
    ")"
   ]
  },
  {
   "cell_type": "code",
   "execution_count": null,
   "id": "55e0489e",
   "metadata": {},
   "outputs": [],
   "source": [
    "print('ok_')"
   ]
  }
 ],
 "metadata": {
  "kernelspec": {
   "display_name": "Python 3 (ipykernel)",
   "language": "python",
   "name": "python3"
  },
  "language_info": {
   "codemirror_mode": {
    "name": "ipython",
    "version": 3
   },
   "file_extension": ".py",
   "mimetype": "text/x-python",
   "name": "python",
   "nbconvert_exporter": "python",
   "pygments_lexer": "ipython3",
   "version": "3.11.5"
  },
  "vscode": {
   "interpreter": {
    "hash": "5238573367df39f7286bb46f9ff5f08f63a01a80960060ce41e3c79b190280fa"
   }
  }
 },
 "nbformat": 4,
 "nbformat_minor": 5
}
