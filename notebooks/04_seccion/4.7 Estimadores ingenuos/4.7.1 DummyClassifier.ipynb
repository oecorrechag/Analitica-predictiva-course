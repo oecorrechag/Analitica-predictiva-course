{
 "cells": [
  {
   "cell_type": "markdown",
   "id": "6bfc8fc6",
   "metadata": {},
   "source": [
    "# 4.7.1 DummyClassifier"
   ]
  },
  {
   "cell_type": "code",
   "execution_count": 1,
   "id": "1d90735b",
   "metadata": {},
   "outputs": [],
   "source": [
    "%load_ext autoreload\n",
    "%autoreload 2"
   ]
  },
  {
   "cell_type": "code",
   "execution_count": 2,
   "id": "9885dbd4",
   "metadata": {},
   "outputs": [],
   "source": [
    "from sklearn.datasets import load_iris\n",
    "from sklearn.model_selection import train_test_split\n",
    "\n",
    "from sklearn.svm import SVC\n",
    "\n",
    "from sklearn.dummy import DummyClassifier\n",
    "\n",
    "import warnings\n",
    "warnings.filterwarnings(\"ignore\")"
   ]
  },
  {
   "cell_type": "markdown",
   "id": "4a5faf99",
   "metadata": {},
   "source": [
    "Implementa modelos ingenuos para la evaluación de modelos de clasificación."
   ]
  },
  {
   "cell_type": "code",
   "execution_count": 3,
   "id": "a6807897",
   "metadata": {},
   "outputs": [],
   "source": [
    "#\n",
    "# Creación de un dataset imbalanceado\n",
    "#\n",
    "X, y = load_iris(return_X_y=True)\n",
    "\n",
    "y[y != 1] = -1\n",
    "\n",
    "X_train, X_test, y_train, y_test = train_test_split(\n",
    "    X,\n",
    "    y,\n",
    "    random_state=0,\n",
    ")"
   ]
  },
  {
   "cell_type": "code",
   "execution_count": 4,
   "id": "848756bc",
   "metadata": {},
   "outputs": [
    {
     "data": {
      "text/plain": [
       "0.631578947368421"
      ]
     },
     "execution_count": 4,
     "metadata": {},
     "output_type": "execute_result"
    }
   ],
   "source": [
    "#\n",
    "# Creación de un clasificador\n",
    "#\n",
    "clf = SVC(kernel=\"linear\", C=1).fit(X_train, y_train)\n",
    "clf.score(X_test, y_test)"
   ]
  },
  {
   "cell_type": "code",
   "execution_count": 5,
   "id": "d83e27d9",
   "metadata": {},
   "outputs": [
    {
     "data": {
      "text/plain": [
       "0.5789473684210527"
      ]
     },
     "execution_count": 5,
     "metadata": {},
     "output_type": "execute_result"
    }
   ],
   "source": [
    "#\n",
    "# Creación de un clasificador que pronostica la clase mas frecuente\n",
    "#\n",
    "dummy_clf = DummyClassifier(\n",
    "    # -------------------------------------------------------------------------\n",
    "    # Strategy to use to generate predictions.\n",
    "    # * 'most_frequent': the predict method always returns the most frequent\n",
    "    #   class label in the observed y argument passed to fit.\n",
    "    # * \"prior\": the predict method always returns the most frequent class\n",
    "    #   label in the observed y argument passed to fit (like “most_frequent”)\n",
    "    # * \"stratified\":  the predict_proba method randomly samples\n",
    "    #   one-hot vectors from a multinomial distribution parametrized by the\n",
    "    #   empirical class prior probabilities.\n",
    "    # * \"uniform\": generates predictions uniformly at random from the list of\n",
    "    #   unique classes observed in y, i.e. each class has equal probability.\n",
    "    # * \"constant\": always predicts a constant label that is provided by\n",
    "    # the user. This is useful for metrics that evaluate a non-majority class.\n",
    "    strategy=\"most_frequent\",\n",
    "    # -------------------------------------------------------------------------\n",
    "    # Controls the randomness to generate the predictions when\n",
    "    # strategy='stratified' or strategy='uniform'.\n",
    "    random_state=0,\n",
    "    # -------------------------------------------------------------------------\n",
    "    # The explicit constant as predicted by the “constant” strategy. This\n",
    "    # parameter is useful only for the “constant” strategy.\n",
    "    constant=None,\n",
    ")\n",
    "\n",
    "dummy_clf.fit(X_train, y_train)\n",
    "dummy_clf.score(X_test, y_test)"
   ]
  },
  {
   "cell_type": "code",
   "execution_count": 6,
   "id": "f1cd4ef5",
   "metadata": {},
   "outputs": [
    {
     "data": {
      "text/plain": [
       "0.9473684210526315"
      ]
     },
     "execution_count": 6,
     "metadata": {},
     "output_type": "execute_result"
    }
   ],
   "source": [
    "clf = SVC(kernel='rbf', C=1).fit(X_train, y_train)\n",
    "clf.score(X_test, y_test)"
   ]
  },
  {
   "cell_type": "code",
   "execution_count": 7,
   "id": "55e0489e",
   "metadata": {},
   "outputs": [
    {
     "name": "stdout",
     "output_type": "stream",
     "text": [
      "ok_\n"
     ]
    }
   ],
   "source": [
    "print('ok_')"
   ]
  }
 ],
 "metadata": {
  "kernelspec": {
   "display_name": "Python 3 (ipykernel)",
   "language": "python",
   "name": "python3"
  },
  "language_info": {
   "codemirror_mode": {
    "name": "ipython",
    "version": 3
   },
   "file_extension": ".py",
   "mimetype": "text/x-python",
   "name": "python",
   "nbconvert_exporter": "python",
   "pygments_lexer": "ipython3",
   "version": "3.11.5"
  },
  "vscode": {
   "interpreter": {
    "hash": "5238573367df39f7286bb46f9ff5f08f63a01a80960060ce41e3c79b190280fa"
   }
  }
 },
 "nbformat": 4,
 "nbformat_minor": 5
}
