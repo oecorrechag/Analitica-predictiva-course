{
 "cells": [
  {
   "cell_type": "markdown",
   "id": "6bfc8fc6",
   "metadata": {},
   "source": [
    "# 4.7.2 DummyRegressor"
   ]
  },
  {
   "cell_type": "code",
   "execution_count": null,
   "id": "1d90735b",
   "metadata": {},
   "outputs": [],
   "source": [
    "%load_ext autoreload\n",
    "%autoreload 2"
   ]
  },
  {
   "cell_type": "code",
   "execution_count": null,
   "id": "9885dbd4",
   "metadata": {},
   "outputs": [],
   "source": [
    "import numpy as np\n",
    "from sklearn.dummy import DummyRegressor\n",
    "\n",
    "import warnings\n",
    "warnings.filterwarnings(\"ignore\")"
   ]
  },
  {
   "cell_type": "markdown",
   "id": "4a5faf99",
   "metadata": {},
   "source": [
    "Crea un estimador que pronostica con reglas simples.\n",
    "\n",
    "Se usa como linea base de comparación con otros modelos."
   ]
  },
  {
   "cell_type": "code",
   "execution_count": null,
   "id": "a6807897",
   "metadata": {},
   "outputs": [],
   "source": [
    "X = np.array([1.0, 2.0, 3.0, 4.0])\n",
    "y = np.array([2.0, 3.0, 5.0, 10.0])\n",
    "\n",
    "dummy_regr = DummyRegressor(\n",
    "    # -------------------------------------------------------------------------\n",
    "    # Strategy to use to generate predictions.\n",
    "    # * \"mean\": always predicts the mean of the training set.\n",
    "    # * \"median\": always predicts the median of the training set.\n",
    "    # * \"quantile\": always predicts a specified quantile of the training set,\n",
    "    #   provided with the quantile parameter.\n",
    "    # * \"constant\": always predicts a constant value that is provided by the\n",
    "    #   user.\n",
    "    strategy=\"mean\",\n",
    "    # -------------------------------------------------------------------------\n",
    "    # The explicit constant as predicted by the “constant” strategy. This\n",
    "    # parameter is useful only for the “constant” strategy.\n",
    "    constant=None,\n",
    "    # -------------------------------------------------------------------------\n",
    "    # The quantile to predict using the “quantile” strategy. A quantile of 0.5\n",
    "    # corresponds to the median, while 0.0 to the minimum and 1.0 to the\n",
    "    # maximum.\n",
    "    quantile=None,\n",
    ")\n",
    "\n",
    "\n",
    "dummy_regr.fit(X, y)"
   ]
  },
  {
   "cell_type": "code",
   "execution_count": null,
   "id": "eae33e70",
   "metadata": {},
   "outputs": [],
   "source": [
    "dummy_regr.predict(X)"
   ]
  },
  {
   "cell_type": "code",
   "execution_count": null,
   "id": "6abc24c8",
   "metadata": {},
   "outputs": [],
   "source": [
    "dummy_regr.score(X, y)"
   ]
  },
  {
   "cell_type": "code",
   "execution_count": null,
   "id": "55e0489e",
   "metadata": {},
   "outputs": [],
   "source": [
    "print('ok_')"
   ]
  }
 ],
 "metadata": {
  "kernelspec": {
   "display_name": "Python 3 (ipykernel)",
   "language": "python",
   "name": "python3"
  },
  "language_info": {
   "codemirror_mode": {
    "name": "ipython",
    "version": 3
   },
   "file_extension": ".py",
   "mimetype": "text/x-python",
   "name": "python",
   "nbconvert_exporter": "python",
   "pygments_lexer": "ipython3",
   "version": "3.11.5"
  },
  "vscode": {
   "interpreter": {
    "hash": "5238573367df39f7286bb46f9ff5f08f63a01a80960060ce41e3c79b190280fa"
   }
  }
 },
 "nbformat": 4,
 "nbformat_minor": 5
}
