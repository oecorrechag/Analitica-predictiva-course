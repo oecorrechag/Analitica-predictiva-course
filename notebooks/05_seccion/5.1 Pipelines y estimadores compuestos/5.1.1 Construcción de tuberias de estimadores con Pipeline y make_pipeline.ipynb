{
 "cells": [
  {
   "attachments": {},
   "cell_type": "markdown",
   "id": "6bfc8fc6",
   "metadata": {},
   "source": [
    "# 5.1.1 Construcción de tuberias de estimadores"
   ]
  },
  {
   "cell_type": "code",
   "execution_count": null,
   "id": "53b57b40",
   "metadata": {},
   "outputs": [],
   "source": [
    "%load_ext autoreload\n",
    "%autoreload 2"
   ]
  },
  {
   "cell_type": "code",
   "execution_count": null,
   "id": "5fb86f3c",
   "metadata": {},
   "outputs": [],
   "source": [
    "from sklearn.datasets import load_digits\n",
    "\n",
    "from sklearn.decomposition import PCA\n",
    "from sklearn.pipeline import Pipeline, make_pipeline\n",
    "from sklearn.svm import SVC\n",
    "from sklearn.model_selection import GridSearchCV\n",
    "\n",
    "\n",
    "from sklearn.naive_bayes import MultinomialNB\n",
    "from sklearn.preprocessing import Binarizer\n",
    "\n",
    "import warnings\n",
    "warnings.filterwarnings(\"ignore\")"
   ]
  },
  {
   "attachments": {},
   "cell_type": "markdown",
   "id": "8513e901",
   "metadata": {},
   "source": [
    "## 5.1.1.1 Creación de un pipeline asignando nombres a las componentes\n",
    "\n",
    "https://scikit-learn.org/stable/modules/compose.html\n",
    "\n",
    "Es una matriz que permite visualizar el desempeño de un clasificador. La organización típica es la presentada a continuación:"
   ]
  },
  {
   "cell_type": "code",
   "execution_count": null,
   "id": "872e475a",
   "metadata": {},
   "outputs": [],
   "source": [
    "#\n",
    "# Creación de una tubería de estimadores\n",
    "# asignando un identificador\n",
    "#\n",
    "estimators = [\n",
    "    (\"reduce_dim\", PCA()),\n",
    "    (\"clf\", SVC()),\n",
    "]\n",
    "\n",
    "pipeline = Pipeline(\n",
    "    # -------------------------------------------------------------------------\n",
    "    # List of (name, transform) tuples (implementing fit/transform) that are\n",
    "    # chained, in the order in which they are chained, with the last object an\n",
    "    # estimator\n",
    "    steps=estimators,\n",
    "    # -------------------------------------------------------------------------\n",
    "    # If True, the time elapsed while fitting each step will be printed as it\n",
    "    # is completed.\n",
    "    verbose=False,\n",
    ")\n",
    "pipeline"
   ]
  },
  {
   "attachments": {},
   "cell_type": "markdown",
   "id": "2bcb93de",
   "metadata": {},
   "source": [
    "## 5.1.1.2 Creación de un pipeline usando make_pipeline"
   ]
  },
  {
   "cell_type": "code",
   "execution_count": null,
   "id": "12228f07",
   "metadata": {},
   "outputs": [],
   "source": [
    "#\n",
    "# Creación de una tubería con identificadores\n",
    "# por defecto para sus componentes\n",
    "#\n",
    "from sklearn.pipeline import make_pipeline\n",
    "\n",
    "make_pipeline(\n",
    "    # -------------------------------------------------------------------------\n",
    "    # List of the scikit-learn estimators that are chained together.\n",
    "    PCA(),\n",
    "    SVC(),\n",
    ")"
   ]
  },
  {
   "cell_type": "code",
   "execution_count": null,
   "id": "4db133e8",
   "metadata": {},
   "outputs": [],
   "source": [
    "#\n",
    "# Creación de una tubería con identificadores\n",
    "# por defecto para sus componentes\n",
    "#\n",
    "\n",
    "make_pipeline(\n",
    "    # -------------------------------------------------------------------------\n",
    "    # List of the scikit-learn estimators that are chained together.\n",
    "    # -------------------------------------------------------------------------\n",
    "    Binarizer(\n",
    "        # ---------------------------------------------------------------------\n",
    "        # Feature values below or equal to this are replaced by 0, above it\n",
    "        # by 1\n",
    "        threshold=0.0\n",
    "    ),\n",
    "    # -------------------------------------------------------------------------\n",
    "    MultinomialNB(\n",
    "        # ---------------------------------------------------------------------\n",
    "        # Additive (Laplace/Lidstone) smoothing parameter (0 for no smoothing).\n",
    "        alpha=1.0,\n",
    "    ),\n",
    ")"
   ]
  },
  {
   "attachments": {},
   "cell_type": "markdown",
   "id": "3bae8277",
   "metadata": {},
   "source": [
    "## 5.1.1.3 Acceso a las componentes del pipeline"
   ]
  },
  {
   "cell_type": "code",
   "execution_count": null,
   "id": "52bc1e77",
   "metadata": {},
   "outputs": [],
   "source": [
    "#\n",
    "# Acceso a la tupla mediante un índice\n",
    "#\n",
    "pipeline.steps[0]"
   ]
  },
  {
   "cell_type": "code",
   "execution_count": null,
   "id": "77ecdcc6",
   "metadata": {},
   "outputs": [],
   "source": [
    "#\n",
    "# Acceso al estimador mediante un índice\n",
    "#\n",
    "pipeline[0]"
   ]
  },
  {
   "cell_type": "code",
   "execution_count": null,
   "id": "548b211e",
   "metadata": {},
   "outputs": [],
   "source": [
    "#\n",
    "# Accesso al estimador usando su nombre\n",
    "#\n",
    "pipeline[\"reduce_dim\"]"
   ]
  },
  {
   "attachments": {},
   "cell_type": "markdown",
   "id": "3f7ffb1f",
   "metadata": {},
   "source": [
    "## 5.1.1.4 Actualización de los parámetros de los estimadores"
   ]
  },
  {
   "cell_type": "code",
   "execution_count": null,
   "id": "b442254e",
   "metadata": {},
   "outputs": [],
   "source": [
    "#\n",
    "# Actualización de los parámetros de un estimador\n",
    "# en la tubería\n",
    "#\n",
    "pipeline.set_params(clf__C=10)"
   ]
  },
  {
   "attachments": {},
   "cell_type": "markdown",
   "id": "c3c100de",
   "metadata": {},
   "source": [
    "## 5.1.1.5 Búsqueda de hiperparámetros óptimos con GridSearchCV"
   ]
  },
  {
   "cell_type": "code",
   "execution_count": null,
   "id": "e43ca681",
   "metadata": {},
   "outputs": [],
   "source": [
    "#\n",
    "# Especificación de una malla de valores de parámetros en la tubería para\n",
    "# buscar su combinación óptima\n",
    "#\n",
    "\n",
    "param_grid = dict(\n",
    "    reduce_dim__n_components=[2, 5, 10],\n",
    "    clf__C=[0.1, 10, 100],\n",
    ")\n",
    "\n",
    "grid_search = GridSearchCV(\n",
    "    # -------------------------------------------------------------------------\n",
    "    # esetimador/modelo\n",
    "    estimator=pipeline,\n",
    "    # -------------------------------------------------------------------------\n",
    "    # Dictionary with parameters names (str) as keys and lists of parameter\n",
    "    # settings to try as values\n",
    "    param_grid=param_grid,\n",
    ")"
   ]
  },
  {
   "cell_type": "markdown",
   "id": "ea24fa08",
   "metadata": {},
   "source": [
    "## 5.1.1.6 Creación de modelos fuera de la tubería de estimadores"
   ]
  },
  {
   "cell_type": "code",
   "execution_count": null,
   "id": "a5e097b7",
   "metadata": {},
   "outputs": [],
   "source": [
    "X_digits, y_digits = load_digits(return_X_y=True)\n",
    "\n",
    "pca = PCA()\n",
    "clf = SVC()\n",
    "\n",
    "pipeline = Pipeline(\n",
    "    [\n",
    "        (\"reduce_dim\", pca),\n",
    "        (\"clf\", clf),\n",
    "    ],\n",
    ")\n",
    "\n",
    "pipeline.fit(X_digits, y_digits)\n",
    "\n",
    "pca.components_"
   ]
  },
  {
   "cell_type": "code",
   "execution_count": null,
   "id": "6f2f003d",
   "metadata": {},
   "outputs": [],
   "source": [
    "print('ok_')"
   ]
  }
 ],
 "metadata": {
  "kernelspec": {
   "display_name": "Python 3 (ipykernel)",
   "language": "python",
   "name": "python3"
  },
  "language_info": {
   "codemirror_mode": {
    "name": "ipython",
    "version": 3
   },
   "file_extension": ".py",
   "mimetype": "text/x-python",
   "name": "python",
   "nbconvert_exporter": "python",
   "pygments_lexer": "ipython3",
   "version": "3.11.5"
  },
  "vscode": {
   "interpreter": {
    "hash": "5238573367df39f7286bb46f9ff5f08f63a01a80960060ce41e3c79b190280fa"
   }
  }
 },
 "nbformat": 4,
 "nbformat_minor": 5
}
