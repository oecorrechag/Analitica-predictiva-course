{
 "cells": [
  {
   "attachments": {},
   "cell_type": "markdown",
   "id": "6bfc8fc6",
   "metadata": {},
   "source": [
    "# 5.1.2 Transformación de la variable pronósticada en regresión con TransformedTargetRegressor"
   ]
  },
  {
   "cell_type": "code",
   "execution_count": null,
   "id": "53b57b40",
   "metadata": {},
   "outputs": [],
   "source": [
    "%load_ext autoreload\n",
    "%autoreload 2"
   ]
  },
  {
   "cell_type": "code",
   "execution_count": null,
   "id": "5fb86f3c",
   "metadata": {},
   "outputs": [],
   "source": [
    "import matplotlib.pyplot as plt\n",
    "import numpy as np\n",
    "from sklearn.datasets import make_regression\n",
    "from sklearn.compose import TransformedTargetRegressor\n",
    "from sklearn.linear_model import LinearRegression\n",
    "from sklearn.feature_selection import SelectKBest, f_regression\n",
    "from sklearn.model_selection import GridSearchCV\n",
    "from sklearn.pipeline import Pipeline\n",
    "\n",
    "from sklearn.preprocessing import QuantileTransformer\n",
    "\n",
    "import warnings\n",
    "warnings.filterwarnings(\"ignore\")"
   ]
  },
  {
   "attachments": {},
   "cell_type": "markdown",
   "id": "8513e901",
   "metadata": {},
   "source": [
    "## 5.1.2.1 Uso básico con funciones de usuario\n",
    "\n",
    "link: https://www.youtube.com/watch?v=Kn6RS1FT9fQ"
   ]
  },
  {
   "cell_type": "code",
   "execution_count": null,
   "id": "7a231371",
   "metadata": {},
   "outputs": [],
   "source": [
    "\n",
    "#\n",
    "# Generación de la muestra de datos\n",
    "#\n",
    "X, y = make_regression(\n",
    "    n_samples=300,\n",
    "    n_features=1,\n",
    "    n_targets=1,\n",
    "    bias=150,\n",
    "    noise=9.0,\n",
    "    shuffle=False,\n",
    "    random_state=123456,\n",
    ")\n",
    "\n",
    "argsort = np.argsort(X[:, 0])\n",
    "X = X[argsort]\n",
    "y = y[argsort]\n",
    "\n",
    "y = np.exp(0.01 * y)"
   ]
  },
  {
   "cell_type": "code",
   "execution_count": null,
   "id": "e9fe8fe9",
   "metadata": {},
   "outputs": [],
   "source": [
    "#\n",
    "# Definición de una transformación simple\n",
    "#\n",
    "def target_transformer(x):\n",
    "    return np.log(x)\n",
    "\n",
    "\n",
    "def inverse_target_transformer(x):\n",
    "    return np.exp(x)"
   ]
  },
  {
   "cell_type": "code",
   "execution_count": null,
   "id": "b38c3a6f",
   "metadata": {},
   "outputs": [],
   "source": [
    "linearRegression = LinearRegression()\n",
    "\n",
    "regressor = TransformedTargetRegressor(\n",
    "    # -------------------------------------------------------------------------\n",
    "    # Regressor object\n",
    "    regressor=linearRegression,\n",
    "    # -------------------------------------------------------------------------\n",
    "    # Function to apply to y before passing to fit.\n",
    "    func=target_transformer,\n",
    "    # -------------------------------------------------------------------------\n",
    "    # Function to apply to the prediction of the regressor.\n",
    "    inverse_func=inverse_target_transformer,\n",
    ")\n",
    "\n",
    "regressor.fit(X, y)\n",
    "\n",
    "y_pred = regressor.predict(X)"
   ]
  },
  {
   "cell_type": "code",
   "execution_count": null,
   "id": "d7fa88f4",
   "metadata": {},
   "outputs": [],
   "source": [
    "plt.figure(figsize=(7, 7))\n",
    "plt.scatter(\n",
    "    X[:, 0],\n",
    "    y,\n",
    "    color=\"tab:red\",\n",
    "    edgecolors=\"k\",\n",
    "    s=120,\n",
    "    alpha=0.7,\n",
    ")\n",
    "\n",
    "plt.plot(\n",
    "    X[:, 0],\n",
    "    y_pred,\n",
    "    color=\"k\",\n",
    "    linewidth=3,\n",
    ")\n",
    "\n",
    "\n",
    "plt.gca().spines[\"left\"].set_color(\"gray\")\n",
    "plt.gca().spines[\"bottom\"].set_color(\"gray\")\n",
    "plt.gca().spines[\"top\"].set_visible(False)\n",
    "plt.gca().spines[\"right\"].set_visible(False)\n",
    "plt.show()"
   ]
  },
  {
   "cell_type": "code",
   "execution_count": null,
   "id": "c4490139",
   "metadata": {},
   "outputs": [],
   "source": [
    "#\n",
    "# Fitted regressor.\n",
    "#\n",
    "regressor.regressor_"
   ]
  },
  {
   "cell_type": "markdown",
   "id": "98eb3848",
   "metadata": {},
   "source": [
    "## 5.1.2.2 Uso con pipelines"
   ]
  },
  {
   "cell_type": "code",
   "execution_count": null,
   "id": "2bdc6682",
   "metadata": {},
   "outputs": [],
   "source": [
    "#\n",
    "# Generación de la muestra de datos\n",
    "#\n",
    "X, y = make_regression(\n",
    "    n_samples=500,\n",
    "    n_features=5,\n",
    "    n_informative=1,\n",
    "    n_targets=1,\n",
    "    bias=400,\n",
    "    noise=7.0,\n",
    "    shuffle=False,\n",
    "    random_state=12345,\n",
    ")\n",
    "\n",
    "argsort = np.argsort(X[:, 0])\n",
    "X = X[argsort, :]\n",
    "y = y[argsort]\n",
    "\n",
    "y = np.exp(0.01 * y)"
   ]
  },
  {
   "cell_type": "code",
   "execution_count": null,
   "id": "d69c790c",
   "metadata": {},
   "outputs": [],
   "source": [
    "pipeline = Pipeline(\n",
    "    steps=[\n",
    "        (\"selectKBest\", SelectKBest(f_regression)),\n",
    "        (\"linearRegression\", LinearRegression()),\n",
    "    ]\n",
    ")\n",
    "\n",
    "\n",
    "transformedTargetRegressor = TransformedTargetRegressor(\n",
    "    regressor=pipeline,\n",
    "    func=target_transformer,\n",
    "    inverse_func=inverse_target_transformer,\n",
    ")\n",
    "\n",
    "param_grid = {\n",
    "    \"regressor__selectKBest__k\": [1, 2, 3, 4, 5],\n",
    "}\n",
    "\n",
    "\n",
    "gridSearchCV = GridSearchCV(\n",
    "    estimator=transformedTargetRegressor,\n",
    "    param_grid=param_grid,\n",
    "    cv=5,\n",
    "    scoring=\"neg_mean_squared_error\",\n",
    ")\n",
    "\n",
    "\n",
    "gridSearchCV.fit(X, y)\n",
    "\n",
    "y_pred = gridSearchCV.predict(X)\n",
    "\n",
    "plt.figure(figsize=(7, 7))\n",
    "plt.scatter(\n",
    "    X[:, 0],\n",
    "    y,\n",
    "    color=\"tab:red\",\n",
    "    edgecolors=\"k\",\n",
    "    s=120,\n",
    "    alpha=0.7,\n",
    ")\n",
    "\n",
    "plt.plot(\n",
    "    X[:, 0],\n",
    "    y_pred,\n",
    "    color=\"k\",\n",
    "    linewidth=3,\n",
    ")\n",
    "\n",
    "\n",
    "plt.gca().spines[\"left\"].set_color(\"gray\")\n",
    "plt.gca().spines[\"bottom\"].set_color(\"gray\")\n",
    "plt.gca().spines[\"top\"].set_visible(False)\n",
    "plt.gca().spines[\"right\"].set_visible(False)\n",
    "plt.show()"
   ]
  },
  {
   "cell_type": "code",
   "execution_count": null,
   "id": "8b2539c4",
   "metadata": {},
   "outputs": [],
   "source": [
    "gridSearchCV.best_params_"
   ]
  },
  {
   "attachments": {},
   "cell_type": "markdown",
   "id": "a193c983",
   "metadata": {},
   "source": [
    "## 5.1.2.3 Uso con transformadores"
   ]
  },
  {
   "cell_type": "code",
   "execution_count": null,
   "id": "d8878da7",
   "metadata": {},
   "outputs": [],
   "source": [
    "#\n",
    "# Realiza una transformación no lineal que mapea\n",
    "# los datos a una distribucion normal\n",
    "#\n",
    "quantileTransformer = QuantileTransformer(\n",
    "    n_quantiles=300,\n",
    "    output_distribution=\"normal\",\n",
    ")\n",
    "\n",
    "regressor = TransformedTargetRegressor(\n",
    "    # -------------------------------------------------------------------------\n",
    "    # Regressor object\n",
    "    regressor=linearRegression,\n",
    "    # -------------------------------------------------------------------------\n",
    "    # Estimator object\n",
    "    transformer=quantileTransformer,\n",
    ")\n",
    "\n",
    "regressor.fit(X, y)\n",
    "\n",
    "y_pred = regressor.predict(X)"
   ]
  },
  {
   "cell_type": "code",
   "execution_count": null,
   "id": "dd5c48ca",
   "metadata": {},
   "outputs": [],
   "source": [
    "plt.figure(figsize=(7, 7))\n",
    "plt.scatter(\n",
    "    X[:, 0],\n",
    "    y,\n",
    "    color=\"tab:red\",\n",
    "    edgecolors=\"k\",\n",
    "    s=120,\n",
    "    alpha=0.7,\n",
    ")\n",
    "\n",
    "plt.plot(\n",
    "    X[:, 0],\n",
    "    y_pred,\n",
    "    color=\"k\",\n",
    "    linewidth=3,\n",
    ")\n",
    "\n",
    "\n",
    "plt.gca().spines[\"left\"].set_color(\"gray\")\n",
    "plt.gca().spines[\"bottom\"].set_color(\"gray\")\n",
    "plt.gca().spines[\"top\"].set_visible(False)\n",
    "plt.gca().spines[\"right\"].set_visible(False)\n",
    "plt.show()"
   ]
  },
  {
   "cell_type": "code",
   "execution_count": null,
   "id": "6f2f003d",
   "metadata": {},
   "outputs": [],
   "source": [
    "print('ok_')"
   ]
  }
 ],
 "metadata": {
  "kernelspec": {
   "display_name": "Python 3 (ipykernel)",
   "language": "python",
   "name": "python3"
  },
  "language_info": {
   "codemirror_mode": {
    "name": "ipython",
    "version": 3
   },
   "file_extension": ".py",
   "mimetype": "text/x-python",
   "name": "python",
   "nbconvert_exporter": "python",
   "pygments_lexer": "ipython3",
   "version": "3.11.5"
  },
  "vscode": {
   "interpreter": {
    "hash": "5238573367df39f7286bb46f9ff5f08f63a01a80960060ce41e3c79b190280fa"
   }
  }
 },
 "nbformat": 4,
 "nbformat_minor": 5
}
