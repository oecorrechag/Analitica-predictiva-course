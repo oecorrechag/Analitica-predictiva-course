{
 "cells": [
  {
   "attachments": {},
   "cell_type": "markdown",
   "id": "6bfc8fc6",
   "metadata": {},
   "source": [
    "# 5.1.3 Transformación de datos heterogeneos con ColumnTransformer\n",
    "\n",
    "Permite transformar las columnas individualmente o por grupos. <br>\n",
    "Las columnas pueden ser especificadas por nombre o por tipo. <br>\n",
    "Se pueden indicar transformaciones por defecto.\n",
    "\n",
    "Links: \n",
    "\n",
    "https://www.youtube.com/watch?v=F1o4BIuhaf4\n",
    "\n",
    "https://scikit-learn.org/stable/modules/compose.html#columntransformer-for-heterogeneous-data"
   ]
  },
  {
   "cell_type": "code",
   "execution_count": null,
   "id": "53b57b40",
   "metadata": {},
   "outputs": [],
   "source": [
    "%load_ext autoreload\n",
    "%autoreload 2"
   ]
  },
  {
   "cell_type": "code",
   "execution_count": null,
   "id": "5fb86f3c",
   "metadata": {},
   "outputs": [],
   "source": [
    "import pandas as pd\n",
    "import numpy as np\n",
    "\n",
    "from sklearn.compose import ColumnTransformer\n",
    "from sklearn.compose import make_column_selector\n",
    "from sklearn.compose import make_column_transformer\n",
    "from sklearn.feature_extraction.text import CountVectorizer\n",
    "from sklearn.preprocessing import OneHotEncoder\n",
    "from sklearn.preprocessing import StandardScaler\n",
    "from sklearn.preprocessing import MinMaxScaler\n",
    "\n",
    "\n",
    "pd.set_option('display.max_columns', None)\n",
    "pd.set_option('display.max_rows', None)\n",
    "import warnings\n",
    "warnings.filterwarnings(\"ignore\")"
   ]
  },
  {
   "cell_type": "markdown",
   "id": "f9c46188",
   "metadata": {},
   "source": [
    "## 5.1.3.1 Dataset de prueba"
   ]
  },
  {
   "cell_type": "code",
   "execution_count": null,
   "id": "fe072b04",
   "metadata": {},
   "outputs": [],
   "source": [
    "#\n",
    "# Creación de un dataframe de prueba\n",
    "#\n",
    "X = pd.DataFrame(\n",
    "    {\n",
    "        \"city\": [\n",
    "            \"London\",\n",
    "            \"London\",\n",
    "            \"Paris\",\n",
    "            \"Sallisaw\",\n",
    "        ],\n",
    "        \"title\": [\n",
    "            \"His Last Bow\",\n",
    "            \"How Watson Learned the Trick\",\n",
    "            \"A Moveable Feast\",\n",
    "            \"The Grapes of Wrath\",\n",
    "        ],\n",
    "        \"expert_rating\": [\n",
    "            5,\n",
    "            3,\n",
    "            4,\n",
    "            5,\n",
    "        ],\n",
    "        \"user_rating\": [\n",
    "            4,\n",
    "            5,\n",
    "            4,\n",
    "            3,\n",
    "        ],\n",
    "    }\n",
    ")\n",
    "\n",
    "X"
   ]
  },
  {
   "attachments": {},
   "cell_type": "markdown",
   "id": "2e64ef0b",
   "metadata": {},
   "source": [
    "## 5.1.3.2 ColumnTransformer"
   ]
  },
  {
   "cell_type": "code",
   "execution_count": null,
   "id": "bcd035ac",
   "metadata": {},
   "outputs": [],
   "source": [
    "column_trans = ColumnTransformer(\n",
    "    # -------------------------------------------------------------------------\n",
    "    # List of (name, transformer, columns) tuples specifying the transformer\n",
    "    # objects to be applied to subsets of the data.\n",
    "    transformers=[\n",
    "        (\"categories\", OneHotEncoder(dtype=\"int\"), [\"city\"]),\n",
    "        (\"title_bow\", CountVectorizer(), \"title\"),\n",
    "    ],\n",
    "    # -------------------------------------------------------------------------\n",
    "    # By default, only the specified columns in transformers are transformed\n",
    "    # and combined in the output, and the non-specified columns are dropped.\n",
    "    # (default of 'drop'). By specifying remainder='passthrough', all remaining\n",
    "    # columns that were not specified in transformers will be automatically\n",
    "    # passed through.\n",
    "    remainder=\"drop\",\n",
    ")\n",
    "\n",
    "column_trans.fit(X)"
   ]
  },
  {
   "cell_type": "code",
   "execution_count": null,
   "id": "c87ae1b9",
   "metadata": {},
   "outputs": [],
   "source": [
    "#\n",
    "# Nombres de las columnas transformadas\n",
    "#\n",
    "column_trans.get_feature_names_out()"
   ]
  },
  {
   "cell_type": "code",
   "execution_count": null,
   "id": "d16937de",
   "metadata": {},
   "outputs": [],
   "source": [
    "#\n",
    "# X transformado\n",
    "#\n",
    "column_trans.transform(X).toarray()"
   ]
  },
  {
   "cell_type": "code",
   "execution_count": null,
   "id": "988d004d",
   "metadata": {},
   "outputs": [],
   "source": [
    "#\n",
    "# Visualización como un dataframe\n",
    "#\n",
    "pd.DataFrame(\n",
    "    column_trans.transform(X).toarray(),\n",
    "    columns=column_trans.get_feature_names_out(),\n",
    ")"
   ]
  },
  {
   "attachments": {},
   "cell_type": "markdown",
   "id": "e99aeca0",
   "metadata": {},
   "source": [
    "## 5.1.3.3 Selección de columnas basadas en su tipo"
   ]
  },
  {
   "cell_type": "code",
   "execution_count": null,
   "id": "54c41f39",
   "metadata": {},
   "outputs": [],
   "source": [
    "ct = ColumnTransformer(\n",
    "    [\n",
    "        (\"scale\", StandardScaler(), make_column_selector(dtype_include=np.number)),\n",
    "        (\n",
    "            \"onehot\",\n",
    "            OneHotEncoder(),\n",
    "            make_column_selector(pattern=\"city\", dtype_include=object),\n",
    "        ),\n",
    "    ]\n",
    ")\n",
    "ct.fit_transform(X)"
   ]
  },
  {
   "cell_type": "code",
   "execution_count": null,
   "id": "15a0e680",
   "metadata": {},
   "outputs": [],
   "source": [
    "pd.DataFrame(ct.transform(X), columns=ct.get_feature_names_out())"
   ]
  },
  {
   "attachments": {},
   "cell_type": "markdown",
   "id": "e710907a",
   "metadata": {},
   "source": [
    "## 5.1.3.4 Uso de “passthrough”"
   ]
  },
  {
   "cell_type": "code",
   "execution_count": null,
   "id": "59a06b7b",
   "metadata": {},
   "outputs": [],
   "source": [
    "#\n",
    "# Copia de las columnas no transformadas a la matriz\n",
    "# de salida\n",
    "#\n",
    "column_trans = ColumnTransformer(\n",
    "    [\n",
    "        (\"city_category\", OneHotEncoder(dtype=\"int\"), [\"city\"]),\n",
    "        (\"title_bow\", CountVectorizer(), \"title\"),\n",
    "    ],\n",
    "    remainder=\"passthrough\",\n",
    ")\n",
    "\n",
    "column_trans.fit_transform(X)"
   ]
  },
  {
   "attachments": {},
   "cell_type": "markdown",
   "id": "208c7d68",
   "metadata": {},
   "source": [
    "## 5.1.3.5 Aplicación de un transformdor por defecto"
   ]
  },
  {
   "cell_type": "code",
   "execution_count": null,
   "id": "323c9654",
   "metadata": {},
   "outputs": [],
   "source": [
    "column_trans = ColumnTransformer(\n",
    "    [\n",
    "        (\"city_category\", OneHotEncoder(), [\"city\"]),\n",
    "        (\"title_bow\", CountVectorizer(), \"title\"),\n",
    "    ],\n",
    "    remainder=MinMaxScaler(),\n",
    ")\n",
    "\n",
    "column_trans.fit_transform(X)[:, -2:]"
   ]
  },
  {
   "attachments": {},
   "cell_type": "markdown",
   "id": "cc3a7b55",
   "metadata": {},
   "source": [
    "## 5.1.3.6 Creación de un tranformador con make_column_transformer"
   ]
  },
  {
   "cell_type": "code",
   "execution_count": null,
   "id": "e221e741",
   "metadata": {},
   "outputs": [],
   "source": [
    "column_trans = make_column_transformer(\n",
    "    (OneHotEncoder(), [\"city\"]),\n",
    "    (CountVectorizer(), \"title\"),\n",
    "    remainder=MinMaxScaler(),\n",
    ")\n",
    "\n",
    "column_trans"
   ]
  },
  {
   "cell_type": "code",
   "execution_count": null,
   "id": "6f2f003d",
   "metadata": {},
   "outputs": [],
   "source": [
    "print('ok_')"
   ]
  }
 ],
 "metadata": {
  "kernelspec": {
   "display_name": "Python 3 (ipykernel)",
   "language": "python",
   "name": "python3"
  },
  "language_info": {
   "codemirror_mode": {
    "name": "ipython",
    "version": 3
   },
   "file_extension": ".py",
   "mimetype": "text/x-python",
   "name": "python",
   "nbconvert_exporter": "python",
   "pygments_lexer": "ipython3",
   "version": "3.11.5"
  },
  "vscode": {
   "interpreter": {
    "hash": "5238573367df39f7286bb46f9ff5f08f63a01a80960060ce41e3c79b190280fa"
   }
  }
 },
 "nbformat": 4,
 "nbformat_minor": 5
}
