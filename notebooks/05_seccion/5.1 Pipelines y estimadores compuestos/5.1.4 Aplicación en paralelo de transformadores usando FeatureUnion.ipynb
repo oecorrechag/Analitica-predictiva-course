{
 "cells": [
  {
   "attachments": {},
   "cell_type": "markdown",
   "id": "6bfc8fc6",
   "metadata": {},
   "source": [
    "# 5.1.4 Aplicación en paralelo de transformadores usando FeatureUnion"
   ]
  },
  {
   "cell_type": "code",
   "execution_count": 2,
   "id": "53b57b40",
   "metadata": {},
   "outputs": [
    {
     "name": "stdout",
     "output_type": "stream",
     "text": [
      "The autoreload extension is already loaded. To reload it, use:\n",
      "  %reload_ext autoreload\n"
     ]
    }
   ],
   "source": [
    "%load_ext autoreload\n",
    "%autoreload 2"
   ]
  },
  {
   "cell_type": "code",
   "execution_count": 3,
   "id": "5fb86f3c",
   "metadata": {},
   "outputs": [],
   "source": [
    "import pandas as pd\n",
    "import numpy as np\n",
    "\n",
    "import matplotlib.pyplot as plt\n",
    "import seaborn as sns\n",
    "\n",
    "from sklearn.datasets import load_iris\n",
    "from sklearn.decomposition import PCA\n",
    "from sklearn.feature_selection import SelectKBest\n",
    "from sklearn.model_selection import GridSearchCV\n",
    "from sklearn.pipeline import FeatureUnion, Pipeline\n",
    "from sklearn.svm import SVC\n",
    "\n",
    "pd.set_option('display.max_columns', None)\n",
    "pd.set_option('display.max_rows', None)\n",
    "import warnings\n",
    "warnings.filterwarnings(\"ignore\")"
   ]
  },
  {
   "cell_type": "code",
   "execution_count": 4,
   "id": "c3fcd2fc",
   "metadata": {},
   "outputs": [
    {
     "ename": "ModuleNotFoundError",
     "evalue": "No module named 'utils'",
     "output_type": "error",
     "traceback": [
      "\u001b[0;31m---------------------------------------------------------------------------\u001b[0m",
      "\u001b[0;31mModuleNotFoundError\u001b[0m                       Traceback (most recent call last)",
      "\u001b[1;32m/mnt/g/Mi unidad/proyectos/repositorios/university/analitica predictiva/notebooks/05_seccion/5.1 Pipelines y estimadores compuestos/5.1.4 Aplicación en paralelo de transformadores usando FeatureUnion.ipynb Cell 4\u001b[0m line \u001b[0;36m4\n\u001b[1;32m      <a href='vscode-notebook-cell://wsl%2Bubuntu-22.04/mnt/g/Mi%20unidad/proyectos/repositorios/university/analitica%20predictiva/notebooks/05_seccion/5.1%20Pipelines%20y%20estimadores%20compuestos/5.1.4%20Aplicaci%C3%B3n%20en%20paralelo%20de%20transformadores%20usando%20FeatureUnion.ipynb#W3sdnNjb2RlLXJlbW90ZQ%3D%3D?line=0'>1</a>\u001b[0m \u001b[39mimport\u001b[39;00m \u001b[39msys\u001b[39;00m\n\u001b[1;32m      <a href='vscode-notebook-cell://wsl%2Bubuntu-22.04/mnt/g/Mi%20unidad/proyectos/repositorios/university/analitica%20predictiva/notebooks/05_seccion/5.1%20Pipelines%20y%20estimadores%20compuestos/5.1.4%20Aplicaci%C3%B3n%20en%20paralelo%20de%20transformadores%20usando%20FeatureUnion.ipynb#W3sdnNjb2RlLXJlbW90ZQ%3D%3D?line=1'>2</a>\u001b[0m sys\u001b[39m.\u001b[39mpath\u001b[39m.\u001b[39mappend(\u001b[39m\"\u001b[39m\u001b[39m../../../../\u001b[39m\u001b[39m\"\u001b[39m) \n\u001b[0;32m----> <a href='vscode-notebook-cell://wsl%2Bubuntu-22.04/mnt/g/Mi%20unidad/proyectos/repositorios/university/analitica%20predictiva/notebooks/05_seccion/5.1%20Pipelines%20y%20estimadores%20compuestos/5.1.4%20Aplicaci%C3%B3n%20en%20paralelo%20de%20transformadores%20usando%20FeatureUnion.ipynb#W3sdnNjb2RlLXJlbW90ZQ%3D%3D?line=3'>4</a>\u001b[0m \u001b[39mimport\u001b[39;00m \u001b[39mutils\u001b[39;00m\u001b[39m.\u001b[39;00m\u001b[39mpaths\u001b[39;00m \u001b[39mas\u001b[39;00m \u001b[39mpath\u001b[39;00m\n\u001b[1;32m      <a href='vscode-notebook-cell://wsl%2Bubuntu-22.04/mnt/g/Mi%20unidad/proyectos/repositorios/university/analitica%20predictiva/notebooks/05_seccion/5.1%20Pipelines%20y%20estimadores%20compuestos/5.1.4%20Aplicaci%C3%B3n%20en%20paralelo%20de%20transformadores%20usando%20FeatureUnion.ipynb#W3sdnNjb2RlLXJlbW90ZQ%3D%3D?line=4'>5</a>\u001b[0m \u001b[39mfrom\u001b[39;00m \u001b[39mutils\u001b[39;00m\u001b[39m.\u001b[39;00m\u001b[39mpaths2\u001b[39;00m \u001b[39mimport\u001b[39;00m direcciones\n",
      "\u001b[0;31mModuleNotFoundError\u001b[0m: No module named 'utils'"
     ]
    }
   ],
   "source": [
    "import sys\n",
    "sys.path.append(\"../../../../\") \n",
    "\n",
    "import utils.paths as path\n",
    "from utils.paths2 import direcciones"
   ]
  },
  {
   "attachments": {},
   "cell_type": "markdown",
   "id": "8513e901",
   "metadata": {},
   "source": [
    "- Permite unir una lista de transformadores en un nuevo transformador que combina sus salidas.\n",
    "- Durante el proceso de entrenamiento, cada uno de los transformadores es entrenado independientemente.\n",
    "- Los transformadores son aplicados en paralelo al set de datos, y las salidas son concatenadas lado a lado en una matriz.\n",
    "- La combinación de FeatureUnion y Pipeline permite crear modelos complejos.\n",
    "\n",
    "links: \n",
    "\n",
    "https://www.youtube.com/watch?v=F3J5-uTnhKQ\n",
    "\n",
    "https://scikit-learn.org/stable/auto_examples/compose/plot_feature_union.html#sphx-glr-auto-examples-compose-plot-feature-union-py"
   ]
  },
  {
   "cell_type": "code",
   "execution_count": null,
   "id": "7a231371",
   "metadata": {},
   "outputs": [
    {
     "data": {
      "text/plain": [
       "(150, 3)"
      ]
     },
     "execution_count": 6,
     "metadata": {},
     "output_type": "execute_result"
    }
   ],
   "source": [
    "iris = load_iris()\n",
    "\n",
    "X, y = iris.data, iris.target\n",
    "\n",
    "#\n",
    "# Crea un PCA que extrae unicamente dos (2) componentes\n",
    "#\n",
    "pca = PCA(n_components=2)\n",
    "\n",
    "#\n",
    "# Crea un transformador que selecciona únicamente la mejor característica\n",
    "#\n",
    "selection = SelectKBest(k=1)\n",
    "\n",
    "#\n",
    "# Crea la unión\n",
    "#\n",
    "combined_features = FeatureUnion(\n",
    "    [\n",
    "        (\"pca\", pca),\n",
    "        (\"univ_select\", selection),\n",
    "    ]\n",
    ")\n",
    "\n",
    "#\n",
    "# Crea un nuevo vector de variables independientes que usando FeatureUnion\n",
    "#\n",
    "X_features = combined_features.fit(X, y).transform(X)\n",
    "X_features.shape"
   ]
  },
  {
   "cell_type": "code",
   "execution_count": null,
   "id": "bcd035ac",
   "metadata": {},
   "outputs": [
    {
     "data": {
      "text/plain": [
       "{'features__pca__n_components': 3, 'features__univ_select__k': 1, 'svm__C': 10}"
      ]
     },
     "execution_count": 7,
     "metadata": {},
     "output_type": "execute_result"
    }
   ],
   "source": [
    "#\n",
    "# Crea el modelo de regresión\n",
    "#\n",
    "svm = SVC(kernel=\"linear\")\n",
    "\n",
    "#\n",
    "# Crea un pipeline\n",
    "#\n",
    "pipeline = Pipeline(\n",
    "    [\n",
    "        (\"features\", combined_features),\n",
    "        (\"svm\", svm),\n",
    "    ]\n",
    ")\n",
    "\n",
    "#\n",
    "# Búsqueda de la mejor combinación de hiperparámetros usando GridSearchCV\n",
    "#\n",
    "param_grid = dict(\n",
    "    features__pca__n_components=[1, 2, 3],\n",
    "    features__univ_select__k=[1, 2],\n",
    "    svm__C=[0.1, 1, 10],\n",
    ")\n",
    "\n",
    "gridSearchCV = GridSearchCV(\n",
    "    pipeline,\n",
    "    param_grid=param_grid,\n",
    ")\n",
    "\n",
    "gridSearchCV.fit(X, y)\n",
    "\n",
    "gridSearchCV.best_params_"
   ]
  },
  {
   "cell_type": "code",
   "execution_count": null,
   "id": "6f2f003d",
   "metadata": {},
   "outputs": [],
   "source": [
    "print('ok_')"
   ]
  }
 ],
 "metadata": {
  "kernelspec": {
   "display_name": "Python 3 (ipykernel)",
   "language": "python",
   "name": "python3"
  },
  "language_info": {
   "codemirror_mode": {
    "name": "ipython",
    "version": 3
   },
   "file_extension": ".py",
   "mimetype": "text/x-python",
   "name": "python",
   "nbconvert_exporter": "python",
   "pygments_lexer": "ipython3",
   "version": "3.11.5"
  },
  "vscode": {
   "interpreter": {
    "hash": "5238573367df39f7286bb46f9ff5f08f63a01a80960060ce41e3c79b190280fa"
   }
  }
 },
 "nbformat": 4,
 "nbformat_minor": 5
}
