{
 "cells": [
  {
   "attachments": {},
   "cell_type": "markdown",
   "id": "6bfc8fc6",
   "metadata": {},
   "source": [
    "# 5.1.5 Creación de transformadores personalizados con FunctionTransformer"
   ]
  },
  {
   "cell_type": "code",
   "execution_count": null,
   "id": "53b57b40",
   "metadata": {},
   "outputs": [],
   "source": [
    "%load_ext autoreload\n",
    "%autoreload 2"
   ]
  },
  {
   "cell_type": "code",
   "execution_count": null,
   "id": "5fb86f3c",
   "metadata": {},
   "outputs": [],
   "source": [
    "import numpy as np\n",
    "from sklearn.preprocessing import FunctionTransformer\n",
    "\n",
    "import warnings\n",
    "warnings.filterwarnings(\"ignore\")"
   ]
  },
  {
   "attachments": {},
   "cell_type": "markdown",
   "id": "8513e901",
   "metadata": {},
   "source": [
    "## 5.1.5.1 Funciones comunes usadas para la transformación de datos en modelos de regresión"
   ]
  },
  {
   "cell_type": "code",
   "execution_count": null,
   "id": "159e8757",
   "metadata": {},
   "outputs": [],
   "source": [
    "transformer = FunctionTransformer(\n",
    "    # -------------------------------------------------------------------------\n",
    "    # The callable to use for the transformation.\n",
    "    func=np.log1p, # log_e(1+x)\n",
    "    # -------------------------------------------------------------------------\n",
    "    # The callable to use for the inverse transformation\n",
    "    inverse_func=None,\n",
    "    # -------------------------------------------------------------------------\n",
    "    # Dictionary of additional keyword arguments to pass to func.\n",
    "    kw_args=None,\n",
    "    # -------------------------------------------------------------------------\n",
    "    # Dictionary of additional keyword arguments to pass to inverse_func.\n",
    "    inv_kw_args=None,\n",
    ")\n",
    "X = np.array([[0, 1], [2, 3], [4, 5]])\n",
    "transformer.transform(X)"
   ]
  },
  {
   "cell_type": "markdown",
   "id": "14cb9fe4",
   "metadata": {},
   "source": [
    "- Logaritmo (natural):\n",
    "\n",
    "$$ w = log(z) $$\n",
    "\n",
    "- Logaritmo base 10: \n",
    "\n",
    "$$ w = log_{10}(z) $$\n",
    "\n",
    "- Logística:\n",
    "\n",
    "$$ w = log[\\frac{c*z}{1-c*z}] $$\n",
    "\n",
    "con \n",
    "\n",
    "$ c = (1 - 10^{-6}) * 10^{-ceil(log_{10}(max(z)))} $ \n",
    "\n",
    "- Raíz cuadrada:\n",
    "\n",
    "$$ w = Z^{1/2} $$\n",
    "\n",
    "- Raíz cúbica:\n",
    "\n",
    "$$ w = Z^{1/3} $$\n",
    "\n",
    "- Box-Cox:\n",
    "\n",
    "$$ w : \\frac{z^{\\lambda} - 1}{log z}, \\lambda \\not =  0 $$ \n",
    "\n",
    "$$ or $$\n",
    "\n",
    "$$ w : log z, \\lambda = 0 $$"
   ]
  },
  {
   "cell_type": "markdown",
   "id": "7e5ddcd1",
   "metadata": {},
   "source": [
    "## 5.1.5.2 Implementación de la transformación de Box-Cox"
   ]
  },
  {
   "cell_type": "code",
   "execution_count": null,
   "id": "19021a4a",
   "metadata": {},
   "outputs": [],
   "source": [
    "def box_cox(x, lambda_=0):\n",
    "    if lambda_ == 0:\n",
    "        return np.log(x)\n",
    "    return (np.power(x, lambda_) - 1) / lambda_\n",
    "\n",
    "\n",
    "def inverse_box_cox(x, lambda_=0):\n",
    "    if lambda_ == 0:\n",
    "        return np.exp(x)\n",
    "    return np.power(lambda_ * x + 1, 1 / lambda_)\n",
    "\n",
    "\n",
    "transformer = FunctionTransformer(\n",
    "    func=box_cox,\n",
    "    inverse_func=inverse_box_cox,\n",
    "    kw_args=dict(lambda_=1.),\n",
    "    inv_kw_args=dict(lambda_=1),\n",
    ")\n",
    "\n",
    "X = np.array([[1, 2], [3, 4], [5, 6]])\n",
    "print(X)\n",
    "\n",
    "X_transf = transformer.transform(X)\n",
    "X_transf"
   ]
  },
  {
   "cell_type": "code",
   "execution_count": null,
   "id": "6f2f003d",
   "metadata": {},
   "outputs": [],
   "source": [
    "print('ok_')"
   ]
  }
 ],
 "metadata": {
  "kernelspec": {
   "display_name": "Python 3 (ipykernel)",
   "language": "python",
   "name": "python3"
  },
  "language_info": {
   "codemirror_mode": {
    "name": "ipython",
    "version": 3
   },
   "file_extension": ".py",
   "mimetype": "text/x-python",
   "name": "python",
   "nbconvert_exporter": "python",
   "pygments_lexer": "ipython3",
   "version": "3.11.5"
  },
  "vscode": {
   "interpreter": {
    "hash": "5238573367df39f7286bb46f9ff5f08f63a01a80960060ce41e3c79b190280fa"
   }
  }
 },
 "nbformat": 4,
 "nbformat_minor": 5
}
