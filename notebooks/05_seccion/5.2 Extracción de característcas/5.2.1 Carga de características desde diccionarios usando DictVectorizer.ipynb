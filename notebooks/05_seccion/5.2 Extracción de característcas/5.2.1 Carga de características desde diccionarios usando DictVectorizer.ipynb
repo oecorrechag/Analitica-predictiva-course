{
 "cells": [
  {
   "attachments": {},
   "cell_type": "markdown",
   "id": "6bfc8fc6",
   "metadata": {},
   "source": [
    "# 5.2.1 Carga de características desde diccionarios usando DictVectorizer"
   ]
  },
  {
   "cell_type": "code",
   "execution_count": null,
   "id": "53b57b40",
   "metadata": {},
   "outputs": [],
   "source": [
    "%load_ext autoreload\n",
    "%autoreload 2"
   ]
  },
  {
   "cell_type": "code",
   "execution_count": null,
   "id": "5fb86f3c",
   "metadata": {},
   "outputs": [],
   "source": [
    "import pandas as pd\n",
    "from sklearn.feature_extraction import DictVectorizer\n",
    "\n",
    "import warnings\n",
    "warnings.filterwarnings(\"ignore\")"
   ]
  },
  {
   "attachments": {},
   "cell_type": "markdown",
   "id": "8513e901",
   "metadata": {},
   "source": [
    "La clase DictVectorizer permite convertir vectores de características representados como diccionarios a matrices que pueden ser usadas por los estimadores de sklearn.\n",
    "\n",
    "Note que esta es una representación en formato JSON.\n",
    "\n"
   ]
  },
  {
   "cell_type": "code",
   "execution_count": null,
   "id": "2121cb61",
   "metadata": {},
   "outputs": [],
   "source": [
    "#\n",
    "# Cada diccionario representa una fila del dataset\n",
    "#\n",
    "measurements = [\n",
    "    {\"city\": \"Dubai\", \"temperature\": 33.0},\n",
    "    {\"city\": \"London\", \"temperature\": 12.0},\n",
    "    {\"city\": \"San Francisco\", \"temperature\": 18.0},\n",
    "]\n",
    "\n",
    "measurements"
   ]
  },
  {
   "cell_type": "code",
   "execution_count": null,
   "id": "47469b31",
   "metadata": {},
   "outputs": [],
   "source": [
    "#\n",
    "# Creación de una instancia\n",
    "#\n",
    "dictVectorizer = DictVectorizer(\n",
    "    # -------------------------------------------------------------------------\n",
    "    # Separator string used when constructing new features for one-hot coding.\n",
    "    separator=\"=\",\n",
    "    # -------------------------------------------------------------------------\n",
    "    # Whether feature_names_ and vocabulary_ should be sorted when fitting.\n",
    "    sort=True,\n",
    ")\n",
    "\n",
    "#\n",
    "# Entrenamiento\n",
    "#\n",
    "dictVectorizer.fit(measurements)\n",
    "\n",
    "#\n",
    "# Transformación\n",
    "#\n",
    "X = dictVectorizer.transform(measurements).toarray()\n",
    "X"
   ]
  },
  {
   "cell_type": "code",
   "execution_count": null,
   "id": "1ce69f9b",
   "metadata": {},
   "outputs": [],
   "source": [
    "#\n",
    "# Fit-Transform\n",
    "#\n",
    "dictVectorizer.fit_transform(measurements).toarray()"
   ]
  },
  {
   "cell_type": "code",
   "execution_count": null,
   "id": "2df7be03",
   "metadata": {},
   "outputs": [],
   "source": [
    "#\n",
    "# Nombres de las columnas\n",
    "#\n",
    "dictVectorizer.get_feature_names_out()"
   ]
  },
  {
   "cell_type": "code",
   "execution_count": null,
   "id": "74ec3175",
   "metadata": {},
   "outputs": [],
   "source": [
    "pd.DataFrame(\n",
    "    dictVectorizer.fit_transform(measurements).toarray(),\n",
    "    columns=dictVectorizer.get_feature_names_out(),\n",
    ")"
   ]
  },
  {
   "cell_type": "code",
   "execution_count": null,
   "id": "a949f5ba",
   "metadata": {},
   "outputs": [],
   "source": [
    "#\n",
    "# Transformación inversa\n",
    "#\n",
    "dictVectorizer.inverse_transform(X)"
   ]
  },
  {
   "cell_type": "code",
   "execution_count": null,
   "id": "6f2f003d",
   "metadata": {},
   "outputs": [],
   "source": [
    "print('ok_')"
   ]
  }
 ],
 "metadata": {
  "kernelspec": {
   "display_name": "Python 3 (ipykernel)",
   "language": "python",
   "name": "python3"
  },
  "language_info": {
   "codemirror_mode": {
    "name": "ipython",
    "version": 3
   },
   "file_extension": ".py",
   "mimetype": "text/x-python",
   "name": "python",
   "nbconvert_exporter": "python",
   "pygments_lexer": "ipython3",
   "version": "3.11.5"
  },
  "vscode": {
   "interpreter": {
    "hash": "5238573367df39f7286bb46f9ff5f08f63a01a80960060ce41e3c79b190280fa"
   }
  }
 },
 "nbformat": 4,
 "nbformat_minor": 5
}
