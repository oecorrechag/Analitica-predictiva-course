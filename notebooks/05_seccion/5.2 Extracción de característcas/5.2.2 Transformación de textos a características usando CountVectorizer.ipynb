{
 "cells": [
  {
   "attachments": {},
   "cell_type": "markdown",
   "id": "6bfc8fc6",
   "metadata": {},
   "source": [
    "# 5.2.2 Transformación de textos a características usando CountVectorizer"
   ]
  },
  {
   "cell_type": "code",
   "execution_count": null,
   "id": "53b57b40",
   "metadata": {},
   "outputs": [],
   "source": [
    "%load_ext autoreload\n",
    "%autoreload 2"
   ]
  },
  {
   "cell_type": "code",
   "execution_count": null,
   "id": "5fb86f3c",
   "metadata": {},
   "outputs": [],
   "source": [
    "import pandas as pd\n",
    "from sklearn.feature_extraction.text import CountVectorizer\n",
    "\n",
    "pd.set_option(\"display.notebook_repr_html\", False)\n",
    "\n",
    "import warnings\n",
    "warnings.filterwarnings(\"ignore\")"
   ]
  },
  {
   "attachments": {
    "corpus.PNG": {
     "image/png": "[encoded data removed]"
    }
   },
   "cell_type": "markdown",
   "id": "8513e901",
   "metadata": {},
   "source": [
    "Permite convertir un array de strigs a una matriz documento-término\n",
    "\n",
    "![corpus.PNG](attachment:corpus.PNG)\n",
    "\n",
    "## 5.2.2.1 Creación del corpus"
   ]
  },
  {
   "cell_type": "code",
   "execution_count": null,
   "id": "2e0608f4",
   "metadata": {},
   "outputs": [],
   "source": [
    "corpus = [\n",
    "    \"This is the first document.\",\n",
    "    \"This is the second second document.\",\n",
    "    \"And the third one.\",\n",
    "    \"Is this the first document?\",\n",
    "]"
   ]
  },
  {
   "cell_type": "markdown",
   "id": "54b9e32c",
   "metadata": {},
   "source": [
    "## 5.2.2.2 Creación del transformador"
   ]
  },
  {
   "cell_type": "code",
   "execution_count": null,
   "id": "864b3b87",
   "metadata": {},
   "outputs": [],
   "source": [
    "vectorizer = CountVectorizer(\n",
    "    # -------------------------------------------------------------------------\n",
    "    # Convert all characters to lowercase before tokenizing.\n",
    "    lowercase=True,\n",
    "    # -------------------------------------------------------------------------\n",
    "    # Override the preprocessing (strip_accents and lowercase) stage\n",
    "    preprocessor=None,\n",
    "    # -------------------------------------------------------------------------\n",
    "    # Override the string tokenization step while preserving the preprocessing\n",
    "    # and n-grams generation steps. Only applies if analyzer == 'word'.\n",
    "    tokenizer=None,\n",
    "    # -------------------------------------------------------------------------\n",
    "    # If ‘english’, a built-in stop word list for English is used.\n",
    "    stop_words=None,\n",
    "    # -------------------------------------------------------------------------\n",
    "    # {‘ascii’, ‘unicode’}\n",
    "    # Remove accents and perform other character normalization during the\n",
    "    # preprocessing step. ‘ascii’ is a fast method that only works on\n",
    "    # characters that have a direct ASCII mapping. ‘unicode’ is a slightly\n",
    "    # slower method that works on any characters.\n",
    "    strip_accents=None,\n",
    "    # -------------------------------------------------------------------------\n",
    "    # {‘word’, ‘char’, ‘char_wb’}\n",
    "    # Whether the feature should be made of word n-gram or character n-grams.\n",
    "    analyzer=\"word\",\n",
    "    # -------------------------------------------------------------------------\n",
    "    # Regular expression denoting what constitutes a “token”, only used if\n",
    "    # analyzer == 'word'. The default regexp select tokens of 2 or more\n",
    "    # alphanumeric characters (punctuation is completely ignored and always\n",
    "    # treated as a token separator).\n",
    "    token_pattern=r\"(?u)\\b\\w\\w+\\b\",\n",
    "    # -------------------------------------------------------------------------\n",
    "    # When building the vocabulary ignore terms that have a document frequency\n",
    "    # strictly higher than the given threshold (corpus-specific stop words). If\n",
    "    # float, the parameter represents a proportion of documents, integer\n",
    "    # absolute counts. This parameter is ignored if vocabulary is not None.\n",
    "    max_df=1.0,\n",
    "    # -------------------------------------------------------------------------\n",
    "    # When building the vocabulary ignore terms that have a document frequency\n",
    "    # strictly lower than the given threshold. This value is also called\n",
    "    # cut-off in the literature. If float, the parameter represents a\n",
    "    # proportion of documents, integer absolute counts.\n",
    "    min_df=1,\n",
    "    # -------------------------------------------------------------------------\n",
    "    # If not None, build a vocabulary that only consider the top max_features\n",
    "    # ordered by term frequency across the corpus.\n",
    "    max_features=None,\n",
    "    # -------------------------------------------------------------------------\n",
    "    # If True, all non zero counts are set to 1. This is useful for discrete\n",
    "    # probabilistic models that model binary events rather than integer counts.\n",
    "    binary=False,\n",
    ")"
   ]
  },
  {
   "cell_type": "markdown",
   "id": "33dd8aaf",
   "metadata": {},
   "source": [
    "## 5.2.2.3 Creación de la matriz documento-termino"
   ]
  },
  {
   "cell_type": "code",
   "execution_count": null,
   "id": "f657e093",
   "metadata": {},
   "outputs": [],
   "source": [
    "vectorizer.fit(corpus)\n",
    "X = vectorizer.transform(corpus)\n",
    "\n",
    "pd.DataFrame(\n",
    "    X.toarray(),\n",
    "    columns=vectorizer.get_feature_names_out(),\n",
    ")"
   ]
  },
  {
   "cell_type": "markdown",
   "id": "4b27faf2",
   "metadata": {},
   "source": [
    "## 5.2.2.4 Transformación de un texto nuevo"
   ]
  },
  {
   "cell_type": "code",
   "execution_count": null,
   "id": "4fe7137c",
   "metadata": {},
   "outputs": [],
   "source": [
    "vectorizer.transform([\"Something completely new.\"]).toarray()"
   ]
  },
  {
   "cell_type": "markdown",
   "id": "a0f135ef",
   "metadata": {},
   "source": [
    "## 5.2.2.5 Construcción de un analizador"
   ]
  },
  {
   "cell_type": "code",
   "execution_count": null,
   "id": "35d2986b",
   "metadata": {},
   "outputs": [],
   "source": [
    "analyze = vectorizer.build_analyzer()\n",
    "analyze(\"This is a completely new text document to analyze.\")"
   ]
  },
  {
   "cell_type": "markdown",
   "id": "47aa5d0c",
   "metadata": {},
   "source": [
    "## 5.2.2.6 Posición (columna) del token en la matriz"
   ]
  },
  {
   "cell_type": "code",
   "execution_count": null,
   "id": "73a33a47",
   "metadata": {},
   "outputs": [],
   "source": [
    "vectorizer.vocabulary_.get(\"document\")"
   ]
  },
  {
   "cell_type": "markdown",
   "id": "be9f0a4b",
   "metadata": {},
   "source": [
    "## 5.2.2.7 Reconocimiento de bigramas"
   ]
  },
  {
   "cell_type": "code",
   "execution_count": null,
   "id": "6b11da84",
   "metadata": {},
   "outputs": [],
   "source": [
    "bigram_vectorizer = CountVectorizer(\n",
    "    ngram_range=(1, 2),\n",
    "    token_pattern=r\"\\b\\w+\\b\",\n",
    "    min_df=1,\n",
    ")\n",
    "\n",
    "analyze = bigram_vectorizer.build_analyzer()\n",
    "\n",
    "analyze(\"Bi-grams are cool!\")"
   ]
  },
  {
   "cell_type": "code",
   "execution_count": null,
   "id": "fb747adc",
   "metadata": {},
   "outputs": [],
   "source": [
    "bigram_vectorizer.fit(corpus)\n",
    "\n",
    "X_2 = bigram_vectorizer.transform(corpus)\n",
    "\n",
    "pd.DataFrame(\n",
    "    X_2.toarray(),\n",
    "    columns=bigram_vectorizer.get_feature_names_out(),\n",
    ")"
   ]
  },
  {
   "cell_type": "markdown",
   "id": "5c2c4c98",
   "metadata": {},
   "source": [
    "## 5.2.2.8 Extracción de una columna de la matriz documento-término"
   ]
  },
  {
   "cell_type": "code",
   "execution_count": null,
   "id": "b3129f5e",
   "metadata": {},
   "outputs": [],
   "source": [
    "feature_index = bigram_vectorizer.vocabulary_.get(\"is this\")\n",
    "\n",
    "X_2[:, feature_index].toarray()"
   ]
  },
  {
   "cell_type": "code",
   "execution_count": null,
   "id": "6f2f003d",
   "metadata": {},
   "outputs": [],
   "source": [
    "print('ok_')"
   ]
  }
 ],
 "metadata": {
  "kernelspec": {
   "display_name": "Python 3 (ipykernel)",
   "language": "python",
   "name": "python3"
  },
  "language_info": {
   "codemirror_mode": {
    "name": "ipython",
    "version": 3
   },
   "file_extension": ".py",
   "mimetype": "text/x-python",
   "name": "python",
   "nbconvert_exporter": "python",
   "pygments_lexer": "ipython3",
   "version": "3.11.5"
  },
  "vscode": {
   "interpreter": {
    "hash": "5238573367df39f7286bb46f9ff5f08f63a01a80960060ce41e3c79b190280fa"
   }
  }
 },
 "nbformat": 4,
 "nbformat_minor": 5
}
