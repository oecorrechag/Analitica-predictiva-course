{
 "cells": [
  {
   "attachments": {},
   "cell_type": "markdown",
   "id": "6bfc8fc6",
   "metadata": {},
   "source": [
    "# 5.2.3 Representación TF-IDF"
   ]
  },
  {
   "cell_type": "code",
   "execution_count": null,
   "id": "53b57b40",
   "metadata": {},
   "outputs": [],
   "source": [
    "%load_ext autoreload\n",
    "%autoreload 2"
   ]
  },
  {
   "cell_type": "code",
   "execution_count": null,
   "id": "5fb86f3c",
   "metadata": {},
   "outputs": [],
   "source": [
    "import numpy as np\n",
    "from sklearn.feature_extraction.text import TfidfTransformer\n",
    "\n",
    "import warnings\n",
    "warnings.filterwarnings(\"ignore\")"
   ]
  },
  {
   "cell_type": "markdown",
   "id": "8513e901",
   "metadata": {},
   "source": [
    "En una matriz documento-término, las cantidades representan la ocurrencia de un token en cada uno de los documentos.\n",
    "\n",
    "Las palabras como artículos, verbos ser/estar, conectores, etc. son palabras muy comunes en los textos (tienen frecuencias altas en una matriz documento-término) y tienen poca utilidad para extraer información valiosa de un documento. Adicionalmente, distorcionan y obscurecen términos interesantes que serían de mucha más utilidad.\n",
    "\n",
    "La representación TF-IDF (term-frequency inverse document-frequency) recomputa los valores de la matriz como:\n",
    "\n",
    "$$ tf-idf(t,d) = tf(t,d) x idf(t) $$\n",
    "\n",
    "- $t$ representa el término.\n",
    "- $d$ representa el documento.\n",
    "\n",
    "La transformación también pondera la frecuencia de cada token respecto a su frecuencia en el documento y la cantidad de tokens en dicho documento.\n",
    "\n",
    "Para explicar esta representación considere la siguiente matriz documento-termino:"
   ]
  },
  {
   "cell_type": "code",
   "execution_count": null,
   "id": "2e0608f4",
   "metadata": {},
   "outputs": [],
   "source": [
    "#\n",
    "# tf: term-frequency\n",
    "#\n",
    "tf = np.array(\n",
    "    [\n",
    "        [3, 0, 1],\n",
    "        [2, 0, 0],\n",
    "        [3, 0, 0],\n",
    "        [4, 0, 0],\n",
    "        [3, 2, 0],\n",
    "        [3, 0, 2],\n",
    "    ]\n",
    ")\n",
    "\n",
    "tf"
   ]
  },
  {
   "cell_type": "markdown",
   "id": "7274c840",
   "metadata": {},
   "source": [
    "Ahora se crea el transformador:"
   ]
  },
  {
   "cell_type": "code",
   "execution_count": null,
   "id": "8863a778",
   "metadata": {},
   "outputs": [],
   "source": [
    "transformer = TfidfTransformer(\n",
    "    # -------------------------------------------------------------\n",
    "    # Each output row will have unit norm.\n",
    "    # \"l1\", \"l2\"\n",
    "    norm=\"l1\",\n",
    "    # -------------------------------------------------------------\n",
    "    # Enable inverse-document-frequency reweighting.\n",
    "    use_idf=True,\n",
    "    # -------------------------------------------------------------\n",
    "    # Smooth idf weights by adding one to document frequencies, as\n",
    "    # if an extra document was seen containing every term in the\n",
    "    # collection exactly once. Prevents zero divisions.\n",
    "    smooth_idf=False,\n",
    "    # -------------------------------------------------------------\n",
    "    # Apply sublinear tf scaling, i.e. replace tf with 1 + log(tf).\n",
    "    sublinear_tf=False,\n",
    ")\n",
    "\n",
    "transformer.fit_transform(tf).toarray()"
   ]
  },
  {
   "cell_type": "markdown",
   "id": "7621177a",
   "metadata": {},
   "source": [
    "## 5.2.3.1 Caso 1\n",
    "\n",
    "* norm=\"l1\"\n",
    "\n",
    "* use_idf=False"
   ]
  },
  {
   "cell_type": "code",
   "execution_count": null,
   "id": "47cb4d02",
   "metadata": {},
   "outputs": [],
   "source": [
    "#\n",
    "# term-frequency\n",
    "#\n",
    "tf"
   ]
  },
  {
   "cell_type": "code",
   "execution_count": null,
   "id": "04ff2b90",
   "metadata": {},
   "outputs": [],
   "source": [
    "#\n",
    "# norma \"l1\" de cada fila\n",
    "#\n",
    "row_norm = np.tile(tf.sum(axis=1).reshape(-1, 1), (1, 3))\n",
    "row_norm"
   ]
  },
  {
   "cell_type": "code",
   "execution_count": null,
   "id": "f48d9958",
   "metadata": {},
   "outputs": [],
   "source": [
    "tf / row_norm"
   ]
  },
  {
   "cell_type": "code",
   "execution_count": null,
   "id": "83f3d67b",
   "metadata": {},
   "outputs": [],
   "source": [
    "#\n",
    "# Verificación\n",
    "#\n",
    "TfidfTransformer(\n",
    "    norm=\"l1\",\n",
    "    use_idf=False,\n",
    "    smooth_idf=False,\n",
    "    sublinear_tf=False,\n",
    ").fit_transform(tf).toarray()"
   ]
  },
  {
   "cell_type": "markdown",
   "id": "abb7ab44",
   "metadata": {},
   "source": [
    "## 5.2.3.2 Caso 2\n",
    "\n",
    "* norm=\"l2\"\n",
    "\n",
    "* use_idf=False"
   ]
  },
  {
   "cell_type": "code",
   "execution_count": null,
   "id": "11a1d2b7",
   "metadata": {},
   "outputs": [],
   "source": [
    "#\n",
    "# term-frequency\n",
    "#\n",
    "tf"
   ]
  },
  {
   "cell_type": "code",
   "execution_count": null,
   "id": "5c52da47",
   "metadata": {},
   "outputs": [],
   "source": [
    "#\n",
    "# norma \"l2\" de cada fila\n",
    "#\n",
    "row_norm = np.tile(np.sqrt(np.power(tf, 2).sum(axis=1).reshape(-1, 1)), (1, 3))\n",
    "row_norm"
   ]
  },
  {
   "cell_type": "code",
   "execution_count": null,
   "id": "508c1fb5",
   "metadata": {},
   "outputs": [],
   "source": [
    "tf / row_norm"
   ]
  },
  {
   "cell_type": "code",
   "execution_count": null,
   "id": "27754a00",
   "metadata": {},
   "outputs": [],
   "source": [
    "#\n",
    "# Verificación\n",
    "#\n",
    "TfidfTransformer(\n",
    "    norm=\"l2\",\n",
    "    use_idf=False,\n",
    "    smooth_idf=False,\n",
    "    sublinear_tf=False,\n",
    ").fit_transform(tf).toarray()"
   ]
  },
  {
   "cell_type": "markdown",
   "id": "0d04a60b",
   "metadata": {},
   "source": [
    "## 5.2.3.3 Caso 3\n",
    "\n",
    "* norm=\"l2\"\n",
    "\n",
    "* use_idf=True\n",
    "\n",
    "* smooth_idf=False\n",
    "\n",
    "* sublinear_tf=False"
   ]
  },
  {
   "cell_type": "code",
   "execution_count": null,
   "id": "1beba230",
   "metadata": {},
   "outputs": [],
   "source": [
    "#\n",
    "# número de documentos = 6\n",
    "#\n",
    "n = tf.shape[0]"
   ]
  },
  {
   "cell_type": "code",
   "execution_count": null,
   "id": "18054a4f",
   "metadata": {},
   "outputs": [],
   "source": [
    "#\n",
    "# Cuenta los documentos en que aparece un término\n",
    "#\n",
    "df = np.where(tf > 0, 1, 0)\n",
    "df = df.sum(axis=0)\n",
    "df"
   ]
  },
  {
   "cell_type": "code",
   "execution_count": null,
   "id": "634a5a38",
   "metadata": {},
   "outputs": [],
   "source": [
    "#\n",
    "# Computa idf(t). Para smooth_idf=False\n",
    "#\n",
    "#                  n\n",
    "#   idf(t) = log ---- + 1\n",
    "#                 df\n",
    "#\n",
    "idf = np.log(n / df) + 1\n",
    "idf = np.tile(idf, (6, 1))\n",
    "idf"
   ]
  },
  {
   "cell_type": "code",
   "execution_count": null,
   "id": "face8521",
   "metadata": {},
   "outputs": [],
   "source": [
    "tf_idf_raw = tf * idf\n",
    "tf_idf_raw"
   ]
  },
  {
   "cell_type": "code",
   "execution_count": null,
   "id": "bea2ec7f",
   "metadata": {},
   "outputs": [],
   "source": [
    "row_norm = np.tile(np.sqrt(np.power(tf_idf_raw, 2).sum(axis=1).reshape(-1, 1)), (1, 3))\n",
    "row_norm"
   ]
  },
  {
   "cell_type": "code",
   "execution_count": null,
   "id": "1ec04812",
   "metadata": {},
   "outputs": [],
   "source": [
    "tf_idf = tf_idf_raw / row_norm\n",
    "tf_idf"
   ]
  },
  {
   "cell_type": "code",
   "execution_count": null,
   "id": "ba98edd3",
   "metadata": {},
   "outputs": [],
   "source": [
    "#\n",
    "# Verificación\n",
    "#\n",
    "TfidfTransformer(\n",
    "    norm=\"l2\",\n",
    "    use_idf=True,\n",
    "    smooth_idf=False,\n",
    "    sublinear_tf=False,\n",
    ").fit_transform(tf).toarray()"
   ]
  },
  {
   "cell_type": "markdown",
   "id": "f80c53ab",
   "metadata": {},
   "source": [
    "## 5.2.3.4 Caso 4\n",
    "\n",
    "* norm=\"l2\"\n",
    "\n",
    "* use_idf=True\n",
    "\n",
    "* smooth_idf=True\n",
    "\n",
    "* sublinear_tf=False"
   ]
  },
  {
   "cell_type": "code",
   "execution_count": null,
   "id": "cd1def07",
   "metadata": {},
   "outputs": [],
   "source": [
    "#\n",
    "# Computa idf(t). Para smooth_idf=True. Equivale\n",
    "# a un documento que tiene todos los terminos\n",
    "#\n",
    "#                  1+n\n",
    "#   idf(t) = log ------ + 1\n",
    "#                 1+df\n",
    "#\n",
    "idf = np.log((1 + n) / (1 + df)) + 1\n",
    "idf = np.tile(idf, (6, 1))\n",
    "idf"
   ]
  },
  {
   "cell_type": "code",
   "execution_count": null,
   "id": "d16f99de",
   "metadata": {},
   "outputs": [],
   "source": [
    "tf_idf_raw = tf * idf\n",
    "tf_idf_raw"
   ]
  },
  {
   "cell_type": "code",
   "execution_count": null,
   "id": "bef880bc",
   "metadata": {},
   "outputs": [],
   "source": [
    "row_norm = np.tile(np.sqrt(np.power(tf_idf_raw, 2).sum(axis=1).reshape(-1, 1)), (1, 3))\n",
    "row_norm"
   ]
  },
  {
   "cell_type": "code",
   "execution_count": null,
   "id": "e0af6630",
   "metadata": {},
   "outputs": [],
   "source": [
    "tf_idf = tf_idf_raw / row_norm\n",
    "tf_idf"
   ]
  },
  {
   "cell_type": "code",
   "execution_count": null,
   "id": "552310c7",
   "metadata": {},
   "outputs": [],
   "source": [
    "#\n",
    "# Verificación\n",
    "#\n",
    "TfidfTransformer(\n",
    "    norm=\"l2\",\n",
    "    use_idf=True,\n",
    "    smooth_idf=True,\n",
    "    sublinear_tf=False,\n",
    ").fit_transform(tf).toarray()"
   ]
  },
  {
   "cell_type": "markdown",
   "id": "12244b0e",
   "metadata": {},
   "source": [
    "## 5.2.3.5 Caso 5\n",
    "\n",
    "* norm=\"l2\"\n",
    "\n",
    "* use_idf=True\n",
    "\n",
    "* smooth_idf=True\n",
    "\n",
    "* sublinear_tf=True"
   ]
  },
  {
   "cell_type": "code",
   "execution_count": null,
   "id": "71eebf6f",
   "metadata": {},
   "outputs": [],
   "source": [
    "#\n",
    "# Computa idf(t). Para smooth_idf=True. Equivale\n",
    "# a un documento que tiene todos los terminos\n",
    "#\n",
    "#                  1+n\n",
    "#   idf(t) = log ------ + 1\n",
    "#                 1+df\n",
    "#\n",
    "idf = np.log((1 + n) / (1 + df)) + 1\n",
    "idf = np.tile(idf, (6, 1))\n",
    "idf"
   ]
  },
  {
   "cell_type": "code",
   "execution_count": null,
   "id": "70d1be99",
   "metadata": {},
   "outputs": [],
   "source": [
    "#\n",
    "# Cuando sublinear_tf=True, reemplaza tf por 1 + log(tf)\n",
    "#\n",
    "mylog = lambda x: 1 + np.log(x) if x > 0 else 0\n",
    "\n",
    "tf_idf_raw = np.vectorize(mylog)(tf) * idf\n",
    "tf_idf_raw"
   ]
  },
  {
   "cell_type": "code",
   "execution_count": null,
   "id": "e57ef5b8",
   "metadata": {},
   "outputs": [],
   "source": [
    "row_norm = np.tile(np.sqrt(np.power(tf_idf_raw, 2).sum(axis=1).reshape(-1, 1)), (1, 3))\n",
    "row_norm"
   ]
  },
  {
   "cell_type": "code",
   "execution_count": null,
   "id": "2051eea5",
   "metadata": {},
   "outputs": [],
   "source": [
    "tf_idf = tf_idf_raw / row_norm\n",
    "tf_idf"
   ]
  },
  {
   "cell_type": "code",
   "execution_count": null,
   "id": "e1058616",
   "metadata": {},
   "outputs": [],
   "source": [
    "#\n",
    "# Verificación\n",
    "#\n",
    "TfidfTransformer(\n",
    "    norm=\"l2\",\n",
    "    use_idf=True,\n",
    "    smooth_idf=True,\n",
    "    sublinear_tf=True,\n",
    ").fit_transform(tf).toarray()"
   ]
  },
  {
   "cell_type": "code",
   "execution_count": null,
   "id": "6f2f003d",
   "metadata": {},
   "outputs": [],
   "source": [
    "print('ok_')"
   ]
  }
 ],
 "metadata": {
  "kernelspec": {
   "display_name": "Python 3 (ipykernel)",
   "language": "python",
   "name": "python3"
  },
  "language_info": {
   "codemirror_mode": {
    "name": "ipython",
    "version": 3
   },
   "file_extension": ".py",
   "mimetype": "text/x-python",
   "name": "python",
   "nbconvert_exporter": "python",
   "pygments_lexer": "ipython3",
   "version": "3.11.5"
  },
  "vscode": {
   "interpreter": {
    "hash": "5238573367df39f7286bb46f9ff5f08f63a01a80960060ce41e3c79b190280fa"
   }
  }
 },
 "nbformat": 4,
 "nbformat_minor": 5
}
