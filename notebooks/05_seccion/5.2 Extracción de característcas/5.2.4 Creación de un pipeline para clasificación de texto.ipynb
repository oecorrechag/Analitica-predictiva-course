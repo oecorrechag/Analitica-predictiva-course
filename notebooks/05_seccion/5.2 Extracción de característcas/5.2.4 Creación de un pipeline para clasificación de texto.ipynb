{
 "cells": [
  {
   "attachments": {},
   "cell_type": "markdown",
   "id": "6bfc8fc6",
   "metadata": {},
   "source": [
    "# 5.2.4 Creación de un pipeline para clasificación de texto"
   ]
  },
  {
   "cell_type": "code",
   "execution_count": null,
   "id": "53b57b40",
   "metadata": {},
   "outputs": [],
   "source": [
    "%load_ext autoreload\n",
    "%autoreload 2"
   ]
  },
  {
   "cell_type": "code",
   "execution_count": null,
   "id": "5fb86f3c",
   "metadata": {},
   "outputs": [],
   "source": [
    "from sklearn.feature_extraction.text import CountVectorizer, TfidfTransformer\n",
    "from sklearn.linear_model import SGDClassifier\n",
    "from sklearn.pipeline import Pipeline\n",
    "from sklearn.datasets import fetch_20newsgroups\n",
    "from sklearn.model_selection import GridSearchCV\n",
    "from sklearn.metrics import confusion_matrix, ConfusionMatrixDisplay\n",
    "\n",
    "import warnings\n",
    "warnings.filterwarnings(\"ignore\")"
   ]
  },
  {
   "cell_type": "markdown",
   "id": "8513e901",
   "metadata": {},
   "source": [
    "## 5.2.4.1 Preparación de datos"
   ]
  },
  {
   "cell_type": "code",
   "execution_count": null,
   "id": "cbeedd62",
   "metadata": {},
   "outputs": [],
   "source": [
    "X_train, y_train = fetch_20newsgroups(\n",
    "    subset=\"train\",\n",
    "    return_X_y=True,\n",
    ")\n",
    "\n",
    "X_test, y_test = fetch_20newsgroups(\n",
    "    subset=\"test\",\n",
    "    return_X_y=True,\n",
    ")"
   ]
  },
  {
   "cell_type": "markdown",
   "id": "ec919f8b",
   "metadata": {},
   "source": [
    "## 5.2.4.2 Especificación del pipeline"
   ]
  },
  {
   "cell_type": "code",
   "execution_count": null,
   "id": "7b20cded",
   "metadata": {},
   "outputs": [],
   "source": [
    "pipeline = Pipeline(\n",
    "    [\n",
    "        # ---------------------------------------------------------------------\n",
    "        # Convert a collection of text documents to a matrix of token counts.\n",
    "        (\"countVectorizer\", CountVectorizer()),\n",
    "        # ---------------------------------------------------------------------\n",
    "        # Transform a count matrix to a normalized tf or tf-idf representation.\n",
    "        (\"tfidfTransformer\", TfidfTransformer()),\n",
    "        # ---------------------------------------------------------------------\n",
    "        # Linear classifiers (SVM, logistic regression, etc.) with SGD training.\n",
    "        (\"sgdClassifier\", SGDClassifier()),\n",
    "    ]\n",
    ")"
   ]
  },
  {
   "cell_type": "markdown",
   "id": "e6d48720",
   "metadata": {},
   "source": [
    "## 5.2.4.3 Búsqueda de hiperparámetros óptimos"
   ]
  },
  {
   "cell_type": "code",
   "execution_count": null,
   "id": "af3d7cf5",
   "metadata": {},
   "outputs": [],
   "source": [
    "param_grid = {\n",
    "    \"countVectorizer__max_df\": (0.5, 0.75, 1.0),\n",
    "    \"sgdClassifier__max_iter\": (20,),\n",
    "    \"sgdClassifier__alpha\": (0.00001, 0.000001),\n",
    "    \"sgdClassifier__penalty\": (\"l2\", \"elasticnet\"),\n",
    "}\n",
    "\n",
    "gridSearchCV = GridSearchCV(\n",
    "    pipeline,\n",
    "    param_grid,\n",
    "    n_jobs=-1,\n",
    ")\n",
    "\n",
    "gridSearchCV.fit(X_train, y_train)"
   ]
  },
  {
   "cell_type": "code",
   "execution_count": null,
   "id": "5b09fb07",
   "metadata": {},
   "outputs": [],
   "source": [
    "gridSearchCV.best_score_"
   ]
  },
  {
   "cell_type": "code",
   "execution_count": null,
   "id": "687335e0",
   "metadata": {},
   "outputs": [],
   "source": [
    "best_parameters = gridSearchCV.best_estimator_.get_params()\n",
    "for param_name in sorted(param_grid.keys()):\n",
    "    print(\"{:>30s}: {:s}\".format(param_name, repr(best_parameters[param_name])))"
   ]
  },
  {
   "cell_type": "markdown",
   "id": "22fbfde4",
   "metadata": {},
   "source": [
    "## 5.2.4.4 Evaluación"
   ]
  },
  {
   "cell_type": "code",
   "execution_count": null,
   "id": "4da0fedd",
   "metadata": {},
   "outputs": [],
   "source": [
    "y_pred = gridSearchCV.predict(X_test)\n",
    "\n",
    "cm = confusion_matrix(\n",
    "    y_true=y_test,\n",
    "    y_pred=y_pred,\n",
    ")\n",
    "\n",
    "ConfusionMatrixDisplay(confusion_matrix=cm, display_labels=range(20)).plot()"
   ]
  },
  {
   "cell_type": "code",
   "execution_count": null,
   "id": "6f2f003d",
   "metadata": {},
   "outputs": [],
   "source": [
    "print('ok_')"
   ]
  }
 ],
 "metadata": {
  "kernelspec": {
   "display_name": "Python 3 (ipykernel)",
   "language": "python",
   "name": "python3"
  },
  "language_info": {
   "codemirror_mode": {
    "name": "ipython",
    "version": 3
   },
   "file_extension": ".py",
   "mimetype": "text/x-python",
   "name": "python",
   "nbconvert_exporter": "python",
   "pygments_lexer": "ipython3",
   "version": "3.11.5"
  },
  "vscode": {
   "interpreter": {
    "hash": "5238573367df39f7286bb46f9ff5f08f63a01a80960060ce41e3c79b190280fa"
   }
  }
 },
 "nbformat": 4,
 "nbformat_minor": 5
}
