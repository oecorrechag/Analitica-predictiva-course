{
 "cells": [
  {
   "attachments": {},
   "cell_type": "markdown",
   "id": "6bfc8fc6",
   "metadata": {},
   "source": [
    "# 5.3.10 KBinsDiscretizer"
   ]
  },
  {
   "cell_type": "code",
   "execution_count": 1,
   "id": "53b57b40",
   "metadata": {},
   "outputs": [],
   "source": [
    "%load_ext autoreload\n",
    "%autoreload 2"
   ]
  },
  {
   "cell_type": "code",
   "execution_count": 2,
   "id": "897af6a7",
   "metadata": {},
   "outputs": [],
   "source": [
    "import pandas as pd\n",
    "import numpy as np\n",
    "from sklearn.preprocessing import KBinsDiscretizer"
   ]
  },
  {
   "cell_type": "code",
   "execution_count": 3,
   "id": "5fb86f3c",
   "metadata": {},
   "outputs": [
    {
     "data": {
      "text/plain": [
       "array([[ 0.,  4., 12.],\n",
       "       [ 1.,  5., 15.],\n",
       "       [ 2.,  6., 14.],\n",
       "       [ 3.,  3., 11.],\n",
       "       [ 4.,  7., 11.],\n",
       "       [ 5.,  3., 13.],\n",
       "       [ 6.,  7., 11.],\n",
       "       [ 7.,  6., 14.],\n",
       "       [ 8.,  3., 18.],\n",
       "       [ 9.,  2., 13.],\n",
       "       [10.,  1., 14.]])"
      ]
     },
     "execution_count": 3,
     "metadata": {},
     "output_type": "execute_result"
    }
   ],
   "source": [
    "X = np.array(\n",
    "    [\n",
    "        [0.0, 4.0, 12],\n",
    "        [1.0, 5.0, 15],\n",
    "        [2.0, 6.0, 14],\n",
    "        [3.0, 3.0, 11],\n",
    "        [4.0, 7.0, 11],\n",
    "        [5.0, 3.0, 13],\n",
    "        [6.0, 7.0, 11],\n",
    "        [7.0, 6.0, 14],\n",
    "        [8.0, 3.0, 18],\n",
    "        [9.0, 2.0, 13],\n",
    "        [10.0, 1.0, 14],\n",
    "    ]\n",
    ")\n",
    "X"
   ]
  },
  {
   "cell_type": "code",
   "execution_count": 4,
   "id": "6d759620",
   "metadata": {},
   "outputs": [
    {
     "data": {
      "text/plain": [
       "array([[0., 1., 0.],\n",
       "       [0., 1., 1.],\n",
       "       [0., 1., 1.],\n",
       "       [0., 0., 0.],\n",
       "       [1., 1., 0.],\n",
       "       [1., 0., 1.],\n",
       "       [1., 1., 0.],\n",
       "       [2., 1., 1.],\n",
       "       [2., 0., 1.],\n",
       "       [2., 0., 1.],\n",
       "       [2., 0., 1.]])"
      ]
     },
     "execution_count": 4,
     "metadata": {},
     "output_type": "execute_result"
    }
   ],
   "source": [
    "kBinsDiscretizer = KBinsDiscretizer(\n",
    "    # -------------------------------------------------------------------------\n",
    "    # The number of bins to produce. Raises ValueError if n_bins < 2.\n",
    "    n_bins=[3, 2, 2],\n",
    "    # -------------------------------------------------------------------------\n",
    "    # Method used to encode the transformed result.\n",
    "    # - 'onehot'\n",
    "    # - 'onehot-dense'\n",
    "    # - 'ordinal'\n",
    "    encode=\"ordinal\",\n",
    "    # -------------------------------------------------------------------------\n",
    "    # Strategy used to define the widths of the bins.\n",
    "    # - 'uniform': All bins in each feature have identical widths.\n",
    "    # - 'quantile': All bins in each feature have the same number of points.\n",
    "    # - 'kmeans': Values in each bin have the same nearest center of a 1D\n",
    "    #   k-means cluster.\n",
    "    strategy=\"quantile\",\n",
    "    # -------------------------------------------------------------------------\n",
    "    # The desired data-type for the output.\n",
    "    # - np.float32\n",
    "    # - np.float64\n",
    "    # dtype=None,\n",
    ")\n",
    "\n",
    "\n",
    "kBinsDiscretizer.fit(X)\n",
    "\n",
    "kBinsDiscretizer.transform(X)"
   ]
  },
  {
   "cell_type": "code",
   "execution_count": 5,
   "id": "9b5d4263",
   "metadata": {},
   "outputs": [
    {
     "data": {
      "text/plain": [
       "array([array([ 0.        ,  3.33333333,  6.66666667, 10.        ]),\n",
       "       array([1., 4., 7.]), array([11., 13., 18.])], dtype=object)"
      ]
     },
     "execution_count": 5,
     "metadata": {},
     "output_type": "execute_result"
    }
   ],
   "source": [
    "kBinsDiscretizer.bin_edges_"
   ]
  },
  {
   "cell_type": "code",
   "execution_count": 6,
   "id": "6684ebfa",
   "metadata": {},
   "outputs": [
    {
     "data": {
      "text/plain": [
       "array([3, 2, 2])"
      ]
     },
     "execution_count": 6,
     "metadata": {},
     "output_type": "execute_result"
    }
   ],
   "source": [
    "kBinsDiscretizer.n_bins_"
   ]
  },
  {
   "cell_type": "code",
   "execution_count": 7,
   "id": "6f2f003d",
   "metadata": {},
   "outputs": [
    {
     "name": "stdout",
     "output_type": "stream",
     "text": [
      "ok_\n"
     ]
    }
   ],
   "source": [
    "print('ok_')"
   ]
  }
 ],
 "metadata": {
  "kernelspec": {
   "display_name": "Python 3 (ipykernel)",
   "language": "python",
   "name": "python3"
  },
  "language_info": {
   "codemirror_mode": {
    "name": "ipython",
    "version": 3
   },
   "file_extension": ".py",
   "mimetype": "text/x-python",
   "name": "python",
   "nbconvert_exporter": "python",
   "pygments_lexer": "ipython3",
   "version": "3.11.5"
  },
  "vscode": {
   "interpreter": {
    "hash": "5238573367df39f7286bb46f9ff5f08f63a01a80960060ce41e3c79b190280fa"
   }
  }
 },
 "nbformat": 4,
 "nbformat_minor": 5
}
