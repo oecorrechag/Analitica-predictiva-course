{
 "cells": [
  {
   "attachments": {},
   "cell_type": "markdown",
   "id": "6bfc8fc6",
   "metadata": {},
   "source": [
    "# 5.3.12 PolynomialFeatures"
   ]
  },
  {
   "cell_type": "code",
   "execution_count": null,
   "id": "53b57b40",
   "metadata": {},
   "outputs": [],
   "source": [
    "%load_ext autoreload\n",
    "%autoreload 2"
   ]
  },
  {
   "cell_type": "code",
   "execution_count": null,
   "id": "897af6a7",
   "metadata": {},
   "outputs": [],
   "source": [
    "import numpy as np\n",
    "from sklearn.preprocessing import PolynomialFeatures"
   ]
  },
  {
   "cell_type": "code",
   "execution_count": null,
   "id": "5fb86f3c",
   "metadata": {},
   "outputs": [],
   "source": [
    "X = np.arange(6).reshape(3, 2)\n",
    "X"
   ]
  },
  {
   "cell_type": "code",
   "execution_count": null,
   "id": "6d759620",
   "metadata": {},
   "outputs": [],
   "source": [
    "polynomialFeatures = PolynomialFeatures(\n",
    "    # -------------------------------------------------------------------------\n",
    "    # If a single int is given, it specifies the maximal degree of the\n",
    "    # polynomial features. If a tuple (min_degree, max_degree) is passed, then\n",
    "    # min_degree is the minimum and max_degree is the maximum polynomial degree\n",
    "    # of the generated features.\n",
    "    degree=2,\n",
    "    # -------------------------------------------------------------------------\n",
    "    # If true, only interaction features are produced: features that are\n",
    "    # products of at most degree distinct input features, i.e. terms with power\n",
    "    # of 2 or higher of the same input feature are excluded:\n",
    "    #\n",
    "    # - included: x[0], x[1], x[0] * x[1], etc.\n",
    "    # - excluded: x[0] ** 2, x[0] ** 2 * x[1], etc.\n",
    "    #\n",
    "    interaction_only=False,\n",
    "    # -------------------------------------------------------------------------\n",
    "    # f True (default), then include a bias column, the feature in which all\n",
    "    # polynomial powers are zero\n",
    "    include_bias=True,\n",
    ")\n",
    "\n",
    "polynomialFeatures.fit(X)\n",
    "\n",
    "polynomialFeatures.transform(X)"
   ]
  },
  {
   "cell_type": "code",
   "execution_count": null,
   "id": "9b5d4263",
   "metadata": {},
   "outputs": [],
   "source": [
    "#\n",
    "# powers_[i, j] is the exponent of the jth input in the ith output.\n",
    "#\n",
    "polynomialFeatures.powers_"
   ]
  },
  {
   "cell_type": "code",
   "execution_count": null,
   "id": "6f2f003d",
   "metadata": {},
   "outputs": [],
   "source": [
    "print('ok_')"
   ]
  }
 ],
 "metadata": {
  "kernelspec": {
   "display_name": "Python 3 (ipykernel)",
   "language": "python",
   "name": "python3"
  },
  "language_info": {
   "codemirror_mode": {
    "name": "ipython",
    "version": 3
   },
   "file_extension": ".py",
   "mimetype": "text/x-python",
   "name": "python",
   "nbconvert_exporter": "python",
   "pygments_lexer": "ipython3",
   "version": "3.11.5"
  },
  "vscode": {
   "interpreter": {
    "hash": "5238573367df39f7286bb46f9ff5f08f63a01a80960060ce41e3c79b190280fa"
   }
  }
 },
 "nbformat": 4,
 "nbformat_minor": 5
}
