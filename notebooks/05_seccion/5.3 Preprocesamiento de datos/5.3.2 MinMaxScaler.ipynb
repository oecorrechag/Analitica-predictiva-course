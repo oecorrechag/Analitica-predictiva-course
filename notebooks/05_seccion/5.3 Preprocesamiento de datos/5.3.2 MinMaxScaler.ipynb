{
 "cells": [
  {
   "attachments": {},
   "cell_type": "markdown",
   "id": "6bfc8fc6",
   "metadata": {},
   "source": [
    "# 5.3.2 MinMaxScaler"
   ]
  },
  {
   "cell_type": "code",
   "execution_count": null,
   "id": "53b57b40",
   "metadata": {},
   "outputs": [],
   "source": [
    "%load_ext autoreload\n",
    "%autoreload 2"
   ]
  },
  {
   "cell_type": "code",
   "execution_count": null,
   "id": "5fb86f3c",
   "metadata": {},
   "outputs": [],
   "source": [
    "import seaborn as sns\n",
    "from sklearn.preprocessing import MinMaxScaler\n",
    "\n",
    "import warnings\n",
    "warnings.filterwarnings(\"ignore\")"
   ]
  },
  {
   "attachments": {},
   "cell_type": "markdown",
   "id": "8513e901",
   "metadata": {},
   "source": [
    "En el escalado lineal se lleva cada columna al rango 0-1 con:\n",
    "\n",
    "$$ x_{*} = \\frac{x - min(x)}{max(x) - min(x)} $$\n",
    "\n",
    "Es una alternativa al StandarScaler.\n",
    "\n",
    "Permite robustes ante desviaciones estándar muy pequeñas."
   ]
  },
  {
   "cell_type": "code",
   "execution_count": null,
   "id": "2121cb61",
   "metadata": {},
   "outputs": [],
   "source": [
    "penguins = sns.load_dataset(\"penguins\")\n",
    "\n",
    "data = penguins[[\"flipper_length_mm\"]]\n",
    "data = data.rename(columns={\"flipper_length_mm\": \"original\"})"
   ]
  },
  {
   "cell_type": "code",
   "execution_count": null,
   "id": "f80924f0",
   "metadata": {},
   "outputs": [],
   "source": [
    "minMaxScaler = MinMaxScaler(\n",
    "    # -------------------------------------------------------------------------\n",
    "    # Desired range of transformed data.\n",
    "    feature_range=(0, 1),\n",
    "    # -------------------------------------------------------------------------\n",
    "    # Set to True to clip transformed values of held-out data to provided\n",
    "    # feature range.\n",
    "    # clip=False,\n",
    ")\n",
    "minMaxScaler.fit(data)\n",
    "\n",
    "data[\"transformed\"] = minMaxScaler.transform(data)"
   ]
  },
  {
   "cell_type": "code",
   "execution_count": null,
   "id": "56fcb31b",
   "metadata": {},
   "outputs": [],
   "source": [
    "g = sns.jointplot(x=\"original\", y=\"transformed\", data=data, kind=\"scatter\")\n",
    "g.fig.set_figwidth(3)\n",
    "g.fig.set_figheight(3)"
   ]
  },
  {
   "cell_type": "code",
   "execution_count": null,
   "id": "0b0f11c0",
   "metadata": {},
   "outputs": [],
   "source": [
    "display(\n",
    "    minMaxScaler.min_,\n",
    "    minMaxScaler.scale_,\n",
    "    minMaxScaler.data_min_,\n",
    "    minMaxScaler.data_max_,\n",
    "    minMaxScaler.data_range_,\n",
    ")"
   ]
  },
  {
   "cell_type": "code",
   "execution_count": null,
   "id": "6f2f003d",
   "metadata": {},
   "outputs": [],
   "source": [
    "print('ok_')"
   ]
  }
 ],
 "metadata": {
  "kernelspec": {
   "display_name": "Python 3 (ipykernel)",
   "language": "python",
   "name": "python3"
  },
  "language_info": {
   "codemirror_mode": {
    "name": "ipython",
    "version": 3
   },
   "file_extension": ".py",
   "mimetype": "text/x-python",
   "name": "python",
   "nbconvert_exporter": "python",
   "pygments_lexer": "ipython3",
   "version": "3.11.5"
  },
  "vscode": {
   "interpreter": {
    "hash": "5238573367df39f7286bb46f9ff5f08f63a01a80960060ce41e3c79b190280fa"
   }
  }
 },
 "nbformat": 4,
 "nbformat_minor": 5
}
