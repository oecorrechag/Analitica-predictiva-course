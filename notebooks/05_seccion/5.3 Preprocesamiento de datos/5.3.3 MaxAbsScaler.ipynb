{
 "cells": [
  {
   "attachments": {},
   "cell_type": "markdown",
   "id": "6bfc8fc6",
   "metadata": {},
   "source": [
    "# 5.3.3 MaxAbsScaler"
   ]
  },
  {
   "cell_type": "code",
   "execution_count": null,
   "id": "53b57b40",
   "metadata": {},
   "outputs": [],
   "source": [
    "%load_ext autoreload\n",
    "%autoreload 2"
   ]
  },
  {
   "cell_type": "code",
   "execution_count": null,
   "id": "5fb86f3c",
   "metadata": {},
   "outputs": [],
   "source": [
    "import seaborn as sns\n",
    "from sklearn.preprocessing import MaxAbsScaler\n",
    "\n",
    "import warnings\n",
    "warnings.filterwarnings(\"ignore\")"
   ]
  },
  {
   "attachments": {},
   "cell_type": "markdown",
   "id": "8513e901",
   "metadata": {},
   "source": [
    "Escala los valores dividiendo cada columna por su valor máximo absoluto.\n",
    "\n",
    "Los valores de cada característica son mapeados al intervalo $[−1,+1]$."
   ]
  },
  {
   "cell_type": "code",
   "execution_count": null,
   "id": "2121cb61",
   "metadata": {},
   "outputs": [],
   "source": [
    "penguins = sns.load_dataset(\"penguins\")\n",
    "\n",
    "data = penguins[[\"flipper_length_mm\"]]\n",
    "data = data.rename(columns={\"flipper_length_mm\": \"original\"})"
   ]
  },
  {
   "cell_type": "code",
   "execution_count": null,
   "id": "88168a9a",
   "metadata": {},
   "outputs": [],
   "source": [
    "maxAbsScaler = MaxAbsScaler()\n",
    "maxAbsScaler.fit(data)\n",
    "\n",
    "data[\"transformed\"] = maxAbsScaler.transform(data)"
   ]
  },
  {
   "cell_type": "code",
   "execution_count": null,
   "id": "f80924f0",
   "metadata": {},
   "outputs": [],
   "source": [
    "g = sns.jointplot(x=\"original\", y=\"transformed\", data=data, kind=\"scatter\")\n",
    "g.fig.set_figwidth(3)\n",
    "g.fig.set_figheight(3)"
   ]
  },
  {
   "cell_type": "code",
   "execution_count": null,
   "id": "0b0f11c0",
   "metadata": {},
   "outputs": [],
   "source": [
    "display(\n",
    "    maxAbsScaler.scale_,\n",
    "    maxAbsScaler.max_abs_\n",
    ")"
   ]
  },
  {
   "cell_type": "code",
   "execution_count": null,
   "id": "6f2f003d",
   "metadata": {},
   "outputs": [],
   "source": [
    "print('ok_')"
   ]
  }
 ],
 "metadata": {
  "kernelspec": {
   "display_name": "Python 3 (ipykernel)",
   "language": "python",
   "name": "python3"
  },
  "language_info": {
   "codemirror_mode": {
    "name": "ipython",
    "version": 3
   },
   "file_extension": ".py",
   "mimetype": "text/x-python",
   "name": "python",
   "nbconvert_exporter": "python",
   "pygments_lexer": "ipython3",
   "version": "3.11.5"
  },
  "vscode": {
   "interpreter": {
    "hash": "5238573367df39f7286bb46f9ff5f08f63a01a80960060ce41e3c79b190280fa"
   }
  }
 },
 "nbformat": 4,
 "nbformat_minor": 5
}
