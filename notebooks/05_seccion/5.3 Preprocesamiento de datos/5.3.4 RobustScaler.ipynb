{
 "cells": [
  {
   "attachments": {},
   "cell_type": "markdown",
   "id": "6bfc8fc6",
   "metadata": {},
   "source": [
    "# 5.3.4 RobustScaler"
   ]
  },
  {
   "cell_type": "code",
   "execution_count": null,
   "id": "53b57b40",
   "metadata": {},
   "outputs": [],
   "source": [
    "%load_ext autoreload\n",
    "%autoreload 2"
   ]
  },
  {
   "cell_type": "code",
   "execution_count": null,
   "id": "5fb86f3c",
   "metadata": {},
   "outputs": [],
   "source": [
    "import seaborn as sns\n",
    "from sklearn.preprocessing import RobustScaler\n",
    "\n",
    "import warnings\n",
    "warnings.filterwarnings(\"ignore\")"
   ]
  },
  {
   "attachments": {},
   "cell_type": "markdown",
   "id": "8513e901",
   "metadata": {},
   "source": [
    "Remueve la mediana y escala los datos de acuerdo con el rango intercuartil.\n",
    "\n",
    "Es un método de escalamiento robusto a outliers."
   ]
  },
  {
   "cell_type": "code",
   "execution_count": null,
   "id": "2121cb61",
   "metadata": {},
   "outputs": [],
   "source": [
    "penguins = sns.load_dataset(\"penguins\")\n",
    "\n",
    "data = penguins[[\"flipper_length_mm\"]]\n",
    "data = data.rename(columns={\"flipper_length_mm\": \"original\"})"
   ]
  },
  {
   "cell_type": "code",
   "execution_count": null,
   "id": "88168a9a",
   "metadata": {},
   "outputs": [],
   "source": [
    "robustScaler = RobustScaler(\n",
    "    # -------------------------------------------------------------------------\n",
    "    # If True, center the data before scaling.\n",
    "    with_centering=True,\n",
    "    # -------------------------------------------------------------------------\n",
    "    # If True, scale the data to interquartile range.\n",
    "    with_scaling=True,\n",
    "    # -------------------------------------------------------------------------\n",
    "    # Quantile range used to calculate scale_.\n",
    "    quantile_range=(0.25, 0.75),\n",
    "    # -------------------------------------------------------------------------\n",
    "    # If True, scale data so that normally distributed features have a variance\n",
    "    # of 1.\n",
    "    unit_variance=False,\n",
    ")\n",
    "\n",
    "robustScaler.fit(data[[\"original\"]])\n",
    "\n",
    "data[\"transformed\"] = robustScaler.transform(data[[\"original\"]])"
   ]
  },
  {
   "cell_type": "code",
   "execution_count": null,
   "id": "b31e196c",
   "metadata": {},
   "outputs": [],
   "source": [
    "g = sns.jointplot(x=\"original\", y=\"transformed\", data=data, kind=\"scatter\")\n",
    "g.fig.set_figwidth(3)\n",
    "g.fig.set_figheight(3)"
   ]
  },
  {
   "cell_type": "code",
   "execution_count": null,
   "id": "6f2f003d",
   "metadata": {},
   "outputs": [],
   "source": [
    "print('ok_')"
   ]
  }
 ],
 "metadata": {
  "kernelspec": {
   "display_name": "Python 3 (ipykernel)",
   "language": "python",
   "name": "python3"
  },
  "language_info": {
   "codemirror_mode": {
    "name": "ipython",
    "version": 3
   },
   "file_extension": ".py",
   "mimetype": "text/x-python",
   "name": "python",
   "nbconvert_exporter": "python",
   "pygments_lexer": "ipython3",
   "version": "3.11.5"
  },
  "vscode": {
   "interpreter": {
    "hash": "5238573367df39f7286bb46f9ff5f08f63a01a80960060ce41e3c79b190280fa"
   }
  }
 },
 "nbformat": 4,
 "nbformat_minor": 5
}
