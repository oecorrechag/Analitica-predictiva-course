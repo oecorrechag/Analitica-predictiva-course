{
 "cells": [
  {
   "attachments": {},
   "cell_type": "markdown",
   "id": "6bfc8fc6",
   "metadata": {},
   "source": [
    "# 5.3.5 QuantileTransformer"
   ]
  },
  {
   "cell_type": "code",
   "execution_count": null,
   "id": "53b57b40",
   "metadata": {},
   "outputs": [],
   "source": [
    "%load_ext autoreload\n",
    "%autoreload 2"
   ]
  },
  {
   "cell_type": "code",
   "execution_count": null,
   "id": "5fb86f3c",
   "metadata": {},
   "outputs": [],
   "source": [
    "import seaborn as sns\n",
    "from sklearn.preprocessing import QuantileTransformer\n",
    "\n",
    "import warnings\n",
    "warnings.filterwarnings(\"ignore\")"
   ]
  },
  {
   "attachments": {},
   "cell_type": "markdown",
   "id": "8513e901",
   "metadata": {},
   "source": [
    "Este método transforma las características para que sigan una distribución normal o uniforme.\n",
    "\n",
    "Tiende a dispersar los valores más frecuentes.\n",
    "\n",
    "Reduce el impacto de los outliers.\n",
    "\n",
    "Se aplica a cada columna del dataset de forma independiente.\n",
    "\n",
    "Cada columna es transformada usando la siguiente fórmula:\n",
    "\n",
    "$$ G^{−1}(F(X)) $$\n",
    "\n",
    "donde $F$ es la distribución acumulada de la características y $G−1$ es la función cuartil de la distribución deseada $G.$"
   ]
  },
  {
   "cell_type": "code",
   "execution_count": null,
   "id": "2121cb61",
   "metadata": {},
   "outputs": [],
   "source": [
    "penguins = sns.load_dataset(\"penguins\")\n",
    "\n",
    "data = penguins[[\"flipper_length_mm\"]]\n",
    "data = data.rename(columns={\"flipper_length_mm\": \"original\"})"
   ]
  },
  {
   "cell_type": "code",
   "execution_count": null,
   "id": "88168a9a",
   "metadata": {},
   "outputs": [],
   "source": [
    "quantileTransformer_uniform = QuantileTransformer(\n",
    "    # -------------------------------------------------------------------------\n",
    "    # Number of quantiles to be computed\n",
    "    n_quantiles=100,\n",
    "    # -------------------------------------------------------------------------\n",
    "    # 'uniform' / 'normal'\n",
    "    output_distribution=\"uniform\",\n",
    "    # -------------------------------------------------------------------------\n",
    "    # Maximum number of samples used to estimate the quantiles for\n",
    "    # computational efficiency.\n",
    "    subsample=100000,\n",
    "    # -------------------------------------------------------------------------\n",
    "    # Determines random number generation for subsampling and smoothing noise.\n",
    "    random_state=None,\n",
    ")\n",
    "quantileTransformer_uniform.fit(data[[\"original\"]])\n",
    "\n",
    "data[\"transformed_uniform\"] = quantileTransformer_uniform.transform(data[[\"original\"]])"
   ]
  },
  {
   "cell_type": "code",
   "execution_count": null,
   "id": "0606cecf",
   "metadata": {},
   "outputs": [],
   "source": [
    "quantileTransformer_normal = QuantileTransformer(\n",
    "    n_quantiles=100,\n",
    "    output_distribution=\"normal\",\n",
    ")\n",
    "\n",
    "quantileTransformer_normal.fit(data[[\"original\"]])\n",
    "\n",
    "data[\"transformed_normal\"] = quantileTransformer_normal.transform(data[[\"original\"]])"
   ]
  },
  {
   "cell_type": "code",
   "execution_count": null,
   "id": "b31e196c",
   "metadata": {},
   "outputs": [],
   "source": [
    "g = sns.jointplot(x=\"original\", y=\"transformed_uniform\", data=data, kind=\"scatter\")\n",
    "g.fig.set_figwidth(3)\n",
    "g.fig.set_figheight(3)"
   ]
  },
  {
   "cell_type": "code",
   "execution_count": null,
   "id": "83110b81",
   "metadata": {},
   "outputs": [],
   "source": [
    "g = sns.jointplot(x=\"original\", y=\"transformed_normal\", data=data, kind=\"scatter\")\n",
    "g.fig.set_figwidth(3)\n",
    "g.fig.set_figheight(3)"
   ]
  },
  {
   "cell_type": "code",
   "execution_count": null,
   "id": "60fafe1a",
   "metadata": {},
   "outputs": [],
   "source": [
    "quantileTransformer_normal.n_quantiles_"
   ]
  },
  {
   "cell_type": "code",
   "execution_count": null,
   "id": "7da13767",
   "metadata": {},
   "outputs": [],
   "source": [
    "quantileTransformer_normal.quantiles_"
   ]
  },
  {
   "cell_type": "code",
   "execution_count": null,
   "id": "b38c9001",
   "metadata": {},
   "outputs": [],
   "source": [
    "quantileTransformer_normal.references_"
   ]
  },
  {
   "cell_type": "code",
   "execution_count": null,
   "id": "6f2f003d",
   "metadata": {},
   "outputs": [],
   "source": [
    "print('ok_')"
   ]
  }
 ],
 "metadata": {
  "kernelspec": {
   "display_name": "Python 3 (ipykernel)",
   "language": "python",
   "name": "python3"
  },
  "language_info": {
   "codemirror_mode": {
    "name": "ipython",
    "version": 3
   },
   "file_extension": ".py",
   "mimetype": "text/x-python",
   "name": "python",
   "nbconvert_exporter": "python",
   "pygments_lexer": "ipython3",
   "version": "3.11.5"
  },
  "vscode": {
   "interpreter": {
    "hash": "5238573367df39f7286bb46f9ff5f08f63a01a80960060ce41e3c79b190280fa"
   }
  }
 },
 "nbformat": 4,
 "nbformat_minor": 5
}
