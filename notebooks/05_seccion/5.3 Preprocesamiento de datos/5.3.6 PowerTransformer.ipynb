{
 "cells": [
  {
   "attachments": {},
   "cell_type": "markdown",
   "id": "6bfc8fc6",
   "metadata": {},
   "source": [
    "# 5.3.6 PowerTransformer"
   ]
  },
  {
   "cell_type": "code",
   "execution_count": null,
   "id": "53b57b40",
   "metadata": {},
   "outputs": [],
   "source": [
    "%load_ext autoreload\n",
    "%autoreload 2"
   ]
  },
  {
   "cell_type": "code",
   "execution_count": null,
   "id": "5fb86f3c",
   "metadata": {},
   "outputs": [],
   "source": [
    "import seaborn as sns\n",
    "from sklearn.preprocessing import PowerTransformer\n",
    "\n",
    "import warnings\n",
    "warnings.filterwarnings(\"ignore\")"
   ]
  },
  {
   "attachments": {
    "PowerTransformer.PNG": {
     "image/png": "[encoded data removed]"
    }
   },
   "cell_type": "markdown",
   "id": "8513e901",
   "metadata": {},
   "source": [
    "Aplica transformaciones de potencias para llevar la distribución de los datos a una que sea lo más cercana posible a una distribución normal.\n",
    "\n",
    "Implementa una familia de transformaciones monotónicas paramétricas.\n",
    "\n",
    "Es útil para datos heterocedásticos o en situaciones donde la normalidad es deseada.\n",
    "\n",
    "**Transformación de Yeo-Johnson**\n",
    "\n",
    "![PowerTransformer.PNG](attachment:PowerTransformer.PNG)\n",
    "\n",
    "Admite datos positivos y negativos.\n",
    "\n",
    "**Transformación de Box-Cox**\n",
    "\n",
    "$$ x_i^{(\\lambda)} = \\frac{x_i^{(\\lambda)} - 1}{\\lambda}, si \\ \\lambda \\not= 0 $$\n",
    "\n",
    "$$ x_i^{(\\lambda)} = ln(x_i), si \\ \\lambda = 0 $$\n",
    "\n",
    "Requiere datos estrictamente positivos."
   ]
  },
  {
   "cell_type": "code",
   "execution_count": null,
   "id": "2121cb61",
   "metadata": {},
   "outputs": [],
   "source": [
    "penguins = sns.load_dataset(\"penguins\")\n",
    "\n",
    "data = penguins[[\"flipper_length_mm\"]]\n",
    "data = data.rename(columns={\"flipper_length_mm\": \"original\"})"
   ]
  },
  {
   "cell_type": "code",
   "execution_count": null,
   "id": "88168a9a",
   "metadata": {},
   "outputs": [],
   "source": [
    "powerTransformer_boxcox = PowerTransformer(\n",
    "    # -------------------------------------------------------------------------\n",
    "    # The power transform method. 'box-cox' / 'yeo-johnson'\n",
    "    method=\"box-cox\",\n",
    "    # -------------------------------------------------------------------------\n",
    "    # Set to True to apply zero-mean, unit-variance normalization to the\n",
    "    # transformed output.\n",
    "    standardize=True,\n",
    ")\n",
    "powerTransformer_boxcox.fit(data[[\"original\"]])\n",
    "\n",
    "data[\"box-cox\"] = powerTransformer_boxcox.transform(data[[\"original\"]])"
   ]
  },
  {
   "cell_type": "code",
   "execution_count": null,
   "id": "b31e196c",
   "metadata": {},
   "outputs": [],
   "source": [
    "powerTransformer_yeojohnson = PowerTransformer(\n",
    "    method=\"yeo-johnson\",\n",
    "    standardize=True,\n",
    ")\n",
    "powerTransformer_yeojohnson.fit(data[[\"original\"]])\n",
    "\n",
    "data[\"yeo-johnson\"] = powerTransformer_yeojohnson.transform(data[[\"original\"]])"
   ]
  },
  {
   "cell_type": "code",
   "execution_count": null,
   "id": "642d9e89",
   "metadata": {},
   "outputs": [],
   "source": [
    "g = sns.jointplot(x=\"original\", y=\"box-cox\", data=data, kind=\"scatter\")\n",
    "g.fig.set_figwidth(3)\n",
    "g.fig.set_figheight(3)"
   ]
  },
  {
   "cell_type": "code",
   "execution_count": null,
   "id": "9a28d3e1",
   "metadata": {},
   "outputs": [],
   "source": [
    "g = sns.jointplot(x=\"original\", y=\"yeo-johnson\", data=data, kind=\"scatter\")\n",
    "g.fig.set_figwidth(3)\n",
    "g.fig.set_figheight(3)"
   ]
  },
  {
   "cell_type": "code",
   "execution_count": null,
   "id": "bf9384a8",
   "metadata": {},
   "outputs": [],
   "source": [
    "display(\n",
    "    powerTransformer_boxcox.lambdas_,\n",
    "    powerTransformer_yeojohnson.lambdas_,\n",
    ")"
   ]
  },
  {
   "cell_type": "code",
   "execution_count": null,
   "id": "6f2f003d",
   "metadata": {},
   "outputs": [],
   "source": [
    "print('ok_')"
   ]
  }
 ],
 "metadata": {
  "kernelspec": {
   "display_name": "Python 3 (ipykernel)",
   "language": "python",
   "name": "python3"
  },
  "language_info": {
   "codemirror_mode": {
    "name": "ipython",
    "version": 3
   },
   "file_extension": ".py",
   "mimetype": "text/x-python",
   "name": "python",
   "nbconvert_exporter": "python",
   "pygments_lexer": "ipython3",
   "version": "3.11.5"
  },
  "vscode": {
   "interpreter": {
    "hash": "5238573367df39f7286bb46f9ff5f08f63a01a80960060ce41e3c79b190280fa"
   }
  }
 },
 "nbformat": 4,
 "nbformat_minor": 5
}
