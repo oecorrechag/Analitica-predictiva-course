{
 "cells": [
  {
   "attachments": {},
   "cell_type": "markdown",
   "id": "6bfc8fc6",
   "metadata": {},
   "source": [
    "# 5.3.7 Normalizer"
   ]
  },
  {
   "cell_type": "code",
   "execution_count": null,
   "id": "53b57b40",
   "metadata": {},
   "outputs": [],
   "source": [
    "%load_ext autoreload\n",
    "%autoreload 2"
   ]
  },
  {
   "cell_type": "code",
   "execution_count": null,
   "id": "5fb86f3c",
   "metadata": {},
   "outputs": [],
   "source": [
    "import numpy as np\n",
    "import seaborn as sns\n",
    "from sklearn.preprocessing import Normalizer\n",
    "\n",
    "import warnings\n",
    "warnings.filterwarnings(\"ignore\")"
   ]
  },
  {
   "cell_type": "markdown",
   "id": "8513e901",
   "metadata": {},
   "source": [
    "Este transformador se aplica comunmente a procesamiento de texto y clustering.\n",
    "\n",
    "Normaliza cada muestra individualmente para que su norma sea unitaria.\n",
    "\n",
    "La norma puede ser: $l2, l1, max$."
   ]
  },
  {
   "cell_type": "code",
   "execution_count": null,
   "id": "2121cb61",
   "metadata": {},
   "outputs": [],
   "source": [
    "penguins = sns.load_dataset(\"penguins\")\n",
    "\n",
    "data = penguins[[\"flipper_length_mm\", \"body_mass_g\"]]\n",
    "data = data.rename(columns={\"flipper_length_mm\": \"original\"})\n",
    "data = data.dropna()\n",
    "data.head()"
   ]
  },
  {
   "cell_type": "code",
   "execution_count": null,
   "id": "88168a9a",
   "metadata": {},
   "outputs": [],
   "source": [
    "normalizer_l2_norm = Normalizer(\n",
    "    # -------------------------------------------------------------------------\n",
    "    # The norm to use to normalize each non zero sample. If norm=’max’ is used,\n",
    "    # values will be rescaled by the maximum of the absolute values.\n",
    "    # 'l1', 'l2', 'max'\n",
    "    norm=\"l2\",\n",
    ")\n",
    "normalizer_l2_norm.fit(data)\n",
    "tf_l2_norm = normalizer_l2_norm.transform(data)\n",
    "tf_l2_norm"
   ]
  },
  {
   "cell_type": "code",
   "execution_count": null,
   "id": "b31e196c",
   "metadata": {},
   "outputs": [],
   "source": [
    "#\n",
    "# Verificación\n",
    "#\n",
    "np.square(tf_l2_norm).sum(axis=1)"
   ]
  },
  {
   "cell_type": "code",
   "execution_count": null,
   "id": "642d9e89",
   "metadata": {},
   "outputs": [],
   "source": [
    "normalizer_max_norm = Normalizer(\n",
    "    norm=\"max\",\n",
    ")\n",
    "normalizer_max_norm.fit(data)\n",
    "\n",
    "tf_max_norm = normalizer_max_norm.transform(data)\n",
    "tf_max_norm"
   ]
  },
  {
   "cell_type": "code",
   "execution_count": null,
   "id": "6f2f003d",
   "metadata": {},
   "outputs": [],
   "source": [
    "print('ok_')"
   ]
  }
 ],
 "metadata": {
  "kernelspec": {
   "display_name": "Python 3 (ipykernel)",
   "language": "python",
   "name": "python3"
  },
  "language_info": {
   "codemirror_mode": {
    "name": "ipython",
    "version": 3
   },
   "file_extension": ".py",
   "mimetype": "text/x-python",
   "name": "python",
   "nbconvert_exporter": "python",
   "pygments_lexer": "ipython3",
   "version": "3.11.5"
  },
  "vscode": {
   "interpreter": {
    "hash": "5238573367df39f7286bb46f9ff5f08f63a01a80960060ce41e3c79b190280fa"
   }
  }
 },
 "nbformat": 4,
 "nbformat_minor": 5
}
