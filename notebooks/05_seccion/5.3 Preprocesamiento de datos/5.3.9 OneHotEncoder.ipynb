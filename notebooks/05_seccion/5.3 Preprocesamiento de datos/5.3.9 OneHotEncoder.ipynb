{
 "cells": [
  {
   "attachments": {},
   "cell_type": "markdown",
   "id": "6bfc8fc6",
   "metadata": {},
   "source": [
    "# 5.3.9 OneHotEncoder"
   ]
  },
  {
   "cell_type": "code",
   "execution_count": 1,
   "id": "53b57b40",
   "metadata": {},
   "outputs": [],
   "source": [
    "%load_ext autoreload\n",
    "%autoreload 2"
   ]
  },
  {
   "cell_type": "code",
   "execution_count": 2,
   "id": "897af6a7",
   "metadata": {},
   "outputs": [],
   "source": [
    "import pandas as pd\n",
    "import numpy as np\n",
    "from sklearn.preprocessing import OneHotEncoder"
   ]
  },
  {
   "cell_type": "code",
   "execution_count": 3,
   "id": "5fb86f3c",
   "metadata": {},
   "outputs": [
    {
     "data": {
      "text/html": [
       "<div>\n",
       "<style scoped>\n",
       "    .dataframe tbody tr th:only-of-type {\n",
       "        vertical-align: middle;\n",
       "    }\n",
       "\n",
       "    .dataframe tbody tr th {\n",
       "        vertical-align: top;\n",
       "    }\n",
       "\n",
       "    .dataframe thead th {\n",
       "        text-align: right;\n",
       "    }\n",
       "</style>\n",
       "<table border=\"1\" class=\"dataframe\">\n",
       "  <thead>\n",
       "    <tr style=\"text-align: right;\">\n",
       "      <th></th>\n",
       "      <th>sex</th>\n",
       "      <th>from</th>\n",
       "      <th>uses</th>\n",
       "    </tr>\n",
       "  </thead>\n",
       "  <tbody>\n",
       "    <tr>\n",
       "      <th>0</th>\n",
       "      <td>male</td>\n",
       "      <td>from US</td>\n",
       "      <td>uses Safari</td>\n",
       "    </tr>\n",
       "    <tr>\n",
       "      <th>1</th>\n",
       "      <td>female</td>\n",
       "      <td>from Europe</td>\n",
       "      <td>uses Firefox</td>\n",
       "    </tr>\n",
       "  </tbody>\n",
       "</table>\n",
       "</div>"
      ],
      "text/plain": [
       "      sex         from          uses\n",
       "0    male      from US   uses Safari\n",
       "1  female  from Europe  uses Firefox"
      ]
     },
     "execution_count": 3,
     "metadata": {},
     "output_type": "execute_result"
    }
   ],
   "source": [
    "X = [\n",
    "    [\"male\", \"from US\", \"uses Safari\"],\n",
    "    [\"female\", \"from Europe\", \"uses Firefox\"],\n",
    "]\n",
    "\n",
    "df = pd.DataFrame(X, columns=[\"sex\", \"from\", \"uses\"])\n",
    "df"
   ]
  },
  {
   "cell_type": "code",
   "execution_count": 4,
   "id": "6d759620",
   "metadata": {},
   "outputs": [
    {
     "data": {
      "text/html": [
       "<div>\n",
       "<style scoped>\n",
       "    .dataframe tbody tr th:only-of-type {\n",
       "        vertical-align: middle;\n",
       "    }\n",
       "\n",
       "    .dataframe tbody tr th {\n",
       "        vertical-align: top;\n",
       "    }\n",
       "\n",
       "    .dataframe thead th {\n",
       "        text-align: right;\n",
       "    }\n",
       "</style>\n",
       "<table border=\"1\" class=\"dataframe\">\n",
       "  <thead>\n",
       "    <tr style=\"text-align: right;\">\n",
       "      <th></th>\n",
       "      <th>sex_female</th>\n",
       "      <th>sex_male</th>\n",
       "      <th>from_from Europe</th>\n",
       "      <th>from_from US</th>\n",
       "      <th>uses_uses Firefox</th>\n",
       "      <th>uses_uses Safari</th>\n",
       "    </tr>\n",
       "  </thead>\n",
       "  <tbody>\n",
       "    <tr>\n",
       "      <th>0</th>\n",
       "      <td>False</td>\n",
       "      <td>True</td>\n",
       "      <td>False</td>\n",
       "      <td>True</td>\n",
       "      <td>False</td>\n",
       "      <td>True</td>\n",
       "    </tr>\n",
       "    <tr>\n",
       "      <th>1</th>\n",
       "      <td>True</td>\n",
       "      <td>False</td>\n",
       "      <td>True</td>\n",
       "      <td>False</td>\n",
       "      <td>True</td>\n",
       "      <td>False</td>\n",
       "    </tr>\n",
       "  </tbody>\n",
       "</table>\n",
       "</div>"
      ],
      "text/plain": [
       "   sex_female  sex_male  from_from Europe  from_from US  uses_uses Firefox  \\\n",
       "0       False      True             False          True              False   \n",
       "1        True     False              True         False               True   \n",
       "\n",
       "   uses_uses Safari  \n",
       "0              True  \n",
       "1             False  "
      ]
     },
     "execution_count": 4,
     "metadata": {},
     "output_type": "execute_result"
    }
   ],
   "source": [
    "#\n",
    "# No se debe usar\n",
    "#\n",
    "pd.get_dummies(df)"
   ]
  },
  {
   "cell_type": "code",
   "execution_count": 5,
   "id": "d090adf0",
   "metadata": {},
   "outputs": [
    {
     "data": {
      "text/plain": [
       "array([[0., 1., 0., 1., 0., 1.],\n",
       "       [1., 0., 1., 0., 1., 0.]])"
      ]
     },
     "execution_count": 5,
     "metadata": {},
     "output_type": "execute_result"
    }
   ],
   "source": [
    "#\n",
    "# Con sklearn\n",
    "#\n",
    "oneHotEncoder = OneHotEncoder(\n",
    "    # -------------------------------------------------------------------------\n",
    "    # Categories (unique values) per feature:\n",
    "    # - ‘auto’ : Determine categories automatically from the training data.\n",
    "    # - list : categories[i] holds the categories expected in the ith column.\n",
    "    # The passed categories should not mix strings and numeric values within a\n",
    "    # single feature, and should be sorted in case of numeric values.\n",
    "    categories=\"auto\",\n",
    "    # -------------------------------------------------------------------------\n",
    "    # Specifies a methodology to use to drop one of the categories per feature.\n",
    "    # - None: retain all features (the default).\n",
    "    # - ‘first’ : drop the first category in each feature. If only one category\n",
    "    #   is present, the feature will be dropped entirely.\n",
    "    # - ‘if_binary’ : drop the first category in each feature with two\n",
    "    #   categories. Features with 1 or more than 2 categories are left intact.\n",
    "    # - array : drop[i] is the category in feature X[:, i] that should be\n",
    "    # dropped.\n",
    "    drop=None,\n",
    "    # -------------------------------------------------------------------------\n",
    "    # Desired dtype of output.\n",
    "    dtype=np.float64,\n",
    "    # -------------------------------------------------------------------------\n",
    "    # Whether to raise an error or ignore if an unknown categorical feature is\n",
    "    # present during transform (default is to raise).\n",
    "    # - 'error'\n",
    "    # - 'ignore'\n",
    "    handle_unknown=\"error\",\n",
    ")\n",
    "\n",
    "oneHotEncoder.fit(X)\n",
    "\n",
    "oneHotEncoder.transform(df.values).toarray()"
   ]
  },
  {
   "cell_type": "code",
   "execution_count": 6,
   "id": "9b5d4263",
   "metadata": {},
   "outputs": [
    {
     "data": {
      "text/plain": [
       "[array(['female', 'male'], dtype=object),\n",
       " array(['from Europe', 'from US'], dtype=object),\n",
       " array(['uses Firefox', 'uses Safari'], dtype=object)]"
      ]
     },
     "execution_count": 6,
     "metadata": {},
     "output_type": "execute_result"
    }
   ],
   "source": [
    "oneHotEncoder.categories_"
   ]
  },
  {
   "cell_type": "code",
   "execution_count": 7,
   "id": "6f2f003d",
   "metadata": {},
   "outputs": [
    {
     "name": "stdout",
     "output_type": "stream",
     "text": [
      "ok_\n"
     ]
    }
   ],
   "source": [
    "print('ok_')"
   ]
  }
 ],
 "metadata": {
  "kernelspec": {
   "display_name": "Python 3 (ipykernel)",
   "language": "python",
   "name": "python3"
  },
  "language_info": {
   "codemirror_mode": {
    "name": "ipython",
    "version": 3
   },
   "file_extension": ".py",
   "mimetype": "text/x-python",
   "name": "python",
   "nbconvert_exporter": "python",
   "pygments_lexer": "ipython3",
   "version": "3.11.5"
  },
  "vscode": {
   "interpreter": {
    "hash": "5238573367df39f7286bb46f9ff5f08f63a01a80960060ce41e3c79b190280fa"
   }
  }
 },
 "nbformat": 4,
 "nbformat_minor": 5
}
