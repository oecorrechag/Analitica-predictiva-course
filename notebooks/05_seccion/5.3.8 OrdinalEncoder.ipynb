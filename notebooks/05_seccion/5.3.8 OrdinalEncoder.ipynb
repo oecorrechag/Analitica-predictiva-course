{
 "cells": [
  {
   "attachments": {},
   "cell_type": "markdown",
   "id": "6bfc8fc6",
   "metadata": {},
   "source": [
    "# 5.3.8 OrdinalEncoder"
   ]
  },
  {
   "cell_type": "code",
   "execution_count": 1,
   "id": "53b57b40",
   "metadata": {},
   "outputs": [],
   "source": [
    "%load_ext autoreload\n",
    "%autoreload 2"
   ]
  },
  {
   "cell_type": "code",
   "execution_count": 2,
   "id": "897af6a7",
   "metadata": {},
   "outputs": [],
   "source": [
    "import pandas as pd\n",
    "import numpy as np\n",
    "from sklearn.preprocessing import OrdinalEncoder"
   ]
  },
  {
   "cell_type": "code",
   "execution_count": 3,
   "id": "5fb86f3c",
   "metadata": {},
   "outputs": [
    {
     "data": {
      "text/html": [
       "<div>\n",
       "<style scoped>\n",
       "    .dataframe tbody tr th:only-of-type {\n",
       "        vertical-align: middle;\n",
       "    }\n",
       "\n",
       "    .dataframe tbody tr th {\n",
       "        vertical-align: top;\n",
       "    }\n",
       "\n",
       "    .dataframe thead th {\n",
       "        text-align: right;\n",
       "    }\n",
       "</style>\n",
       "<table border=\"1\" class=\"dataframe\">\n",
       "  <thead>\n",
       "    <tr style=\"text-align: right;\">\n",
       "      <th></th>\n",
       "      <th>sex</th>\n",
       "      <th>from</th>\n",
       "      <th>uses</th>\n",
       "    </tr>\n",
       "  </thead>\n",
       "  <tbody>\n",
       "    <tr>\n",
       "      <th>0</th>\n",
       "      <td>male</td>\n",
       "      <td>from US</td>\n",
       "      <td>uses Safari</td>\n",
       "    </tr>\n",
       "    <tr>\n",
       "      <th>1</th>\n",
       "      <td>female</td>\n",
       "      <td>from Europe</td>\n",
       "      <td>uses Firefox</td>\n",
       "    </tr>\n",
       "    <tr>\n",
       "      <th>2</th>\n",
       "      <td>non_binary</td>\n",
       "      <td>from America</td>\n",
       "      <td>uses Chrome</td>\n",
       "    </tr>\n",
       "  </tbody>\n",
       "</table>\n",
       "</div>"
      ],
      "text/plain": [
       "          sex          from          uses\n",
       "0        male       from US   uses Safari\n",
       "1      female   from Europe  uses Firefox\n",
       "2  non_binary  from America   uses Chrome"
      ]
     },
     "execution_count": 3,
     "metadata": {},
     "output_type": "execute_result"
    }
   ],
   "source": [
    "X = [\n",
    "    [\"male\", \"from US\", \"uses Safari\"],\n",
    "    [\"female\", \"from Europe\", \"uses Firefox\"],\n",
    "    [\"non_binary\", \"from America\", \"uses Chrome\"],\n",
    "]\n",
    "\n",
    "df = pd.DataFrame(X, columns=[\"sex\", \"from\", \"uses\"])\n",
    "df"
   ]
  },
  {
   "cell_type": "code",
   "execution_count": 4,
   "id": "d090adf0",
   "metadata": {},
   "outputs": [
    {
     "data": {
      "text/plain": [
       "array([[1., 2., 2.],\n",
       "       [0., 1., 1.],\n",
       "       [2., 0., 0.]])"
      ]
     },
     "execution_count": 4,
     "metadata": {},
     "output_type": "execute_result"
    }
   ],
   "source": [
    "ordinalEncoder = OrdinalEncoder(\n",
    "    # -------------------------------------------------------------------------\n",
    "    # Categories (unique values) per feature:\n",
    "    # - ‘auto’ : Determine categories automatically from the training data.\n",
    "    # - list : categories[i] holds the categories expected in the ith column.\n",
    "    categories=\"auto\",\n",
    "    # -------------------------------------------------------------------------\n",
    "    # Desired dtype of output.\n",
    "    dtype=np.float64,\n",
    "    # -------------------------------------------------------------------------\n",
    "    # When set to ‘error’ an error will be raised in case an unknown\n",
    "    # categorical feature is present during transform.\n",
    "    # handle_unknown=\"error\",\n",
    "    # -------------------------------------------------------------------------\n",
    "    # When the parameter handle_unknown is set to ‘use_encoded_value’, this\n",
    "    # parameter is required and will set the encoded value of unknown\n",
    "    # categories.\n",
    "    # unknown_value=None,\n",
    ")\n",
    "\n",
    "ordinalEncoder.fit(X)\n",
    "encoder = ordinalEncoder.transform(X)\n",
    "encoder"
   ]
  },
  {
   "cell_type": "code",
   "execution_count": 5,
   "id": "9b5d4263",
   "metadata": {},
   "outputs": [
    {
     "data": {
      "text/plain": [
       "[array(['female', 'male', 'non_binary'], dtype=object),\n",
       " array(['from America', 'from Europe', 'from US'], dtype=object),\n",
       " array(['uses Chrome', 'uses Firefox', 'uses Safari'], dtype=object)]"
      ]
     },
     "execution_count": 5,
     "metadata": {},
     "output_type": "execute_result"
    }
   ],
   "source": [
    "ordinalEncoder.categories_"
   ]
  },
  {
   "cell_type": "code",
   "execution_count": 6,
   "id": "7273162d",
   "metadata": {},
   "outputs": [
    {
     "data": {
      "text/plain": [
       "array([['male', 'from US', 'uses Safari'],\n",
       "       ['female', 'from Europe', 'uses Firefox'],\n",
       "       ['non_binary', 'from America', 'uses Chrome']], dtype=object)"
      ]
     },
     "execution_count": 6,
     "metadata": {},
     "output_type": "execute_result"
    }
   ],
   "source": [
    "original_data = ordinalEncoder.inverse_transform(encoder)\n",
    "original_data"
   ]
  },
  {
   "cell_type": "code",
   "execution_count": 7,
   "id": "6f2f003d",
   "metadata": {},
   "outputs": [
    {
     "name": "stdout",
     "output_type": "stream",
     "text": [
      "ok_\n"
     ]
    }
   ],
   "source": [
    "print('ok_')"
   ]
  }
 ],
 "metadata": {
  "kernelspec": {
   "display_name": "Python 3 (ipykernel)",
   "language": "python",
   "name": "python3"
  },
  "language_info": {
   "codemirror_mode": {
    "name": "ipython",
    "version": 3
   },
   "file_extension": ".py",
   "mimetype": "text/x-python",
   "name": "python",
   "nbconvert_exporter": "python",
   "pygments_lexer": "ipython3",
   "version": "3.11.5"
  },
  "vscode": {
   "interpreter": {
    "hash": "5238573367df39f7286bb46f9ff5f08f63a01a80960060ce41e3c79b190280fa"
   }
  }
 },
 "nbformat": 4,
 "nbformat_minor": 5
}
