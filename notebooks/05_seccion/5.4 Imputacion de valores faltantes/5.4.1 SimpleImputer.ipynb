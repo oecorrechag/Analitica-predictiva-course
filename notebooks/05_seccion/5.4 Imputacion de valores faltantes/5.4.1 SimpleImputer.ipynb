{
 "cells": [
  {
   "attachments": {},
   "cell_type": "markdown",
   "id": "6bfc8fc6",
   "metadata": {},
   "source": [
    "# 5.4.1 SimpleImputer"
   ]
  },
  {
   "cell_type": "code",
   "execution_count": 2,
   "id": "53b57b40",
   "metadata": {},
   "outputs": [],
   "source": [
    "%load_ext autoreload\n",
    "%autoreload 2"
   ]
  },
  {
   "cell_type": "code",
   "execution_count": 4,
   "id": "5fb86f3c",
   "metadata": {},
   "outputs": [],
   "source": [
    "import numpy as np\n",
    "from sklearn.impute import SimpleImputer\n",
    "\n",
    "import warnings\n",
    "warnings.filterwarnings(\"ignore\")"
   ]
  },
  {
   "attachments": {},
   "cell_type": "markdown",
   "id": "8513e901",
   "metadata": {},
   "source": [
    "Imputador univariado que usa el completado de valores faltantes con estrategias simples.\n",
    "\n",
    "Permite reemplazar los valores faltantes con un estadistico descriptivo (media, mediana, valor más frecuente o constante)."
   ]
  },
  {
   "cell_type": "code",
   "execution_count": 3,
   "id": "2121cb61",
   "metadata": {},
   "outputs": [],
   "source": [
    "X_train = [\n",
    "    [1, 2],\n",
    "    [np.nan, 3],\n",
    "    [7, 6],\n",
    "]\n",
    "\n",
    "X_test = [\n",
    "    [np.nan, 2],\n",
    "    [6, np.nan],\n",
    "    [7, 6],\n",
    "    [4, np.nan],\n",
    "]"
   ]
  },
  {
   "cell_type": "code",
   "execution_count": 5,
   "id": "f80924f0",
   "metadata": {},
   "outputs": [
    {
     "data": {
      "text/plain": [
       "array([[4.        , 2.        ],\n",
       "       [6.        , 3.66666667],\n",
       "       [7.        , 6.        ],\n",
       "       [4.        , 3.66666667]])"
      ]
     },
     "execution_count": 5,
     "metadata": {},
     "output_type": "execute_result"
    }
   ],
   "source": [
    "simpleImputer = SimpleImputer(\n",
    "    # -------------------------------------------------------------------------\n",
    "    # The placeholder for the missing values.\n",
    "    missing_values=np.nan,\n",
    "    # -------------------------------------------------------------------------\n",
    "    # The imputation strategy.\n",
    "    # - If “mean”, then replace missing values using the mean along each column\n",
    "    # - If “median”, then replace missing values using the median along each\n",
    "    #   column.\n",
    "    # - If “most_frequent”, then replace missing using the most frequent value\n",
    "    #   along each column.\n",
    "    # - If “constant”, then replace missing values with fill_value.\n",
    "    strategy=\"mean\",\n",
    "    # -------------------------------------------------------------------------\n",
    "    # When strategy == “constant”, fill_value is used to replace all\n",
    "    # occurrences of missing_values.\n",
    "    fill_value=None,\n",
    ")\n",
    "\n",
    "simpleImputer.fit(X_train)\n",
    "\n",
    "simpleImputer.transform(X_test)"
   ]
  },
  {
   "cell_type": "code",
   "execution_count": 6,
   "id": "56fcb31b",
   "metadata": {},
   "outputs": [
    {
     "data": {
      "text/plain": [
       "array([4.        , 3.66666667])"
      ]
     },
     "execution_count": 6,
     "metadata": {},
     "output_type": "execute_result"
    }
   ],
   "source": [
    "simpleImputer.statistics_"
   ]
  },
  {
   "cell_type": "code",
   "execution_count": null,
   "id": "6f2f003d",
   "metadata": {},
   "outputs": [],
   "source": [
    "print('ok_')"
   ]
  }
 ],
 "metadata": {
  "kernelspec": {
   "display_name": "Python 3 (ipykernel)",
   "language": "python",
   "name": "python3"
  },
  "language_info": {
   "codemirror_mode": {
    "name": "ipython",
    "version": 3
   },
   "file_extension": ".py",
   "mimetype": "text/x-python",
   "name": "python",
   "nbconvert_exporter": "python",
   "pygments_lexer": "ipython3",
   "version": "3.11.5"
  },
  "vscode": {
   "interpreter": {
    "hash": "5238573367df39f7286bb46f9ff5f08f63a01a80960060ce41e3c79b190280fa"
   }
  }
 },
 "nbformat": 4,
 "nbformat_minor": 5
}
