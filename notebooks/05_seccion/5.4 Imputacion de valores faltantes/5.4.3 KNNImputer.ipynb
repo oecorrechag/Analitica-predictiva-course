{
 "cells": [
  {
   "attachments": {},
   "cell_type": "markdown",
   "id": "6bfc8fc6",
   "metadata": {},
   "source": [
    "# 5.4.3 KNNImputer"
   ]
  },
  {
   "cell_type": "code",
   "execution_count": null,
   "id": "53b57b40",
   "metadata": {},
   "outputs": [],
   "source": [
    "%load_ext autoreload\n",
    "%autoreload 2"
   ]
  },
  {
   "cell_type": "code",
   "execution_count": null,
   "id": "5fb86f3c",
   "metadata": {},
   "outputs": [],
   "source": [
    "import numpy as np\n",
    "from sklearn.impute import KNNImputer\n",
    "\n",
    "import warnings\n",
    "warnings.filterwarnings(\"ignore\")"
   ]
  },
  {
   "attachments": {},
   "cell_type": "markdown",
   "id": "8513e901",
   "metadata": {},
   "source": [
    "Completa valores faltantes usando la metodología k-NN.\n",
    "\n",
    "Cada valor faltante es imputado usando la media de los n vecinos más cercanos en el dataset de entrenamiento."
   ]
  },
  {
   "cell_type": "code",
   "execution_count": null,
   "id": "2121cb61",
   "metadata": {},
   "outputs": [],
   "source": [
    "X_train = [\n",
    "    [1, 2, np.nan],\n",
    "    [3, 4, 3],\n",
    "    [np.nan, 6, 5],\n",
    "    [8, 8, 7],\n",
    "]"
   ]
  },
  {
   "cell_type": "code",
   "execution_count": null,
   "id": "f80924f0",
   "metadata": {},
   "outputs": [],
   "source": [
    "knnImputer = KNNImputer(\n",
    "    # -------------------------------------------------------------------------\n",
    "    # The placeholder for the missing values.\n",
    "    missing_values=np.nan,\n",
    "    # -------------------------------------------------------------------------\n",
    "    # Number of neighboring samples to use for imputation.\n",
    "    n_neighbors=2,\n",
    "    # -------------------------------------------------------------------------\n",
    "    # Weight function used in prediction.\n",
    "    # - 'uniform' : uniform weights. All points in each neighborhood are\n",
    "    #   weighted equally.\n",
    "    # - 'distance' : weight points by the inverse of their distance. in this\n",
    "    # case, closer neighbors of a query point will have a greater influence\n",
    "    # than neighbors which are further away.\n",
    "    weights=\"uniform\",\n",
    "    # -------------------------------------------------------------------------\n",
    "    # Distance metric for searching neighbors.\n",
    "    # - 'nan_euclidean'\n",
    "    # - user defined.\n",
    "    metric=\"nan_euclidean\",\n",
    ")\n",
    "\n",
    "knnImputer.fit(X_train)\n",
    "\n",
    "knnImputer.transform(X_train)"
   ]
  },
  {
   "cell_type": "code",
   "execution_count": null,
   "id": "6f2f003d",
   "metadata": {},
   "outputs": [],
   "source": [
    "print('ok_')"
   ]
  }
 ],
 "metadata": {
  "kernelspec": {
   "display_name": "Python 3 (ipykernel)",
   "language": "python",
   "name": "python3"
  },
  "language_info": {
   "codemirror_mode": {
    "name": "ipython",
    "version": 3
   },
   "file_extension": ".py",
   "mimetype": "text/x-python",
   "name": "python",
   "nbconvert_exporter": "python",
   "pygments_lexer": "ipython3",
   "version": "3.11.5"
  },
  "vscode": {
   "interpreter": {
    "hash": "5238573367df39f7286bb46f9ff5f08f63a01a80960060ce41e3c79b190280fa"
   }
  }
 },
 "nbformat": 4,
 "nbformat_minor": 5
}
