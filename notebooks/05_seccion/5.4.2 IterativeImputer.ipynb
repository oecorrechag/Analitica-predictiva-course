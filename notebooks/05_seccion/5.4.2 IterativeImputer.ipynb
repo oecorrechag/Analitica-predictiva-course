{
 "cells": [
  {
   "attachments": {},
   "cell_type": "markdown",
   "id": "6bfc8fc6",
   "metadata": {},
   "source": [
    "# 5.4.2 IterativeImputer"
   ]
  },
  {
   "cell_type": "code",
   "execution_count": null,
   "id": "53b57b40",
   "metadata": {},
   "outputs": [],
   "source": [
    "%load_ext autoreload\n",
    "%autoreload 2"
   ]
  },
  {
   "cell_type": "code",
   "execution_count": null,
   "id": "5fb86f3c",
   "metadata": {},
   "outputs": [],
   "source": [
    "import numpy as np\n",
    "from sklearn.experimental import enable_iterative_imputer\n",
    "from sklearn.impute import IterativeImputer\n",
    "from sklearn.linear_model import LinearRegression\n",
    "\n",
    "import warnings\n",
    "warnings.filterwarnings(\"ignore\")"
   ]
  },
  {
   "attachments": {},
   "cell_type": "markdown",
   "id": "8513e901",
   "metadata": {},
   "source": [
    "Imputador multivariado que estima cada característica de las otras.\n",
    "\n",
    "Para cada paso, una columna es designada como $y$ y las demás columnas como $X$. Entonces, un regresor es ajustado para $(X, y)$.\n",
    "\n",
    "El regresor obtenido para cada característica es usado para imputar los valores faltantes.\n",
    "\n",
    "El proceso es realizado de forma iterativa en $max \\ iter$ rondas de imputación."
   ]
  },
  {
   "cell_type": "code",
   "execution_count": null,
   "id": "2121cb61",
   "metadata": {},
   "outputs": [],
   "source": [
    "X_train = [\n",
    "    [1, 2],\n",
    "    [3, 6],\n",
    "    [4, 8],\n",
    "    [np.nan, 3],\n",
    "    [7, np.nan],\n",
    "]\n",
    "\n",
    "X_test = [\n",
    "    [np.nan, 2],\n",
    "    [6, np.nan],\n",
    "    [np.nan, 6],\n",
    "]"
   ]
  },
  {
   "cell_type": "code",
   "execution_count": null,
   "id": "f80924f0",
   "metadata": {},
   "outputs": [],
   "source": [
    "iterativeImputer = IterativeImputer(\n",
    "    # -------------------------------------------------------------------------\n",
    "    # The estimator to use at each step of the round-robin imputation\n",
    "    estimator=LinearRegression(),\n",
    "    # -------------------------------------------------------------------------\n",
    "    # The placeholder for the missing values.\n",
    "    missing_values=np.nan,\n",
    "    # -------------------------------------------------------------------------\n",
    "    # Whether to sample from the (Gaussian) predictive posterior of the fitted\n",
    "    # estimator for each imputation.\n",
    "    sample_posterior=False,\n",
    "    # -------------------------------------------------------------------------\n",
    "    # Maximum number of imputation rounds to perform before returning the\n",
    "    # imputations computed during the final round.  A round is a single\n",
    "    # imputation of each feature with missing values.\n",
    "    max_iter=10,\n",
    "    # -------------------------------------------------------------------------\n",
    "    # Number of other features to use to estimate the missing values of each\n",
    "    # feature column. Nearness between features is measured using the absolute\n",
    "    # correlation coefficient between each feature pair (after initial\n",
    "    # imputation).\n",
    "    n_nearest_features=None,\n",
    "    # -------------------------------------------------------------------------\n",
    "    # Which strategy to use to initialize the missing values.\n",
    "    # - \"mean\"\n",
    "    # - \"median\"\n",
    "    # - \"most_frequent\"\n",
    "    # - \"constant\"\n",
    "    init_strategy=\"mean\",\n",
    "    # -------------------------------------------------------------------------\n",
    "    # The order in which the features will be imputed. Possible values:\n",
    "    # - \"ascending\": From features with fewest missing values to most.\n",
    "    # - \"decending\": From features with most missing values to fewest.\n",
    "    # - \"roman\": Left to right.\n",
    "    # - \"arabic\": Right to left.\n",
    "    # - \"random\": A random order for each round.\n",
    "    imputation_order=\"ascending\",\n",
    "    # -------------------------------------------------------------------------\n",
    "    # If True then features with missing values during transform which did not\n",
    "    # have any missing values during fit will be imputed with the initial\n",
    "    # imputation method only.\n",
    "    skip_complete=False,\n",
    "    # -------------------------------------------------------------------------\n",
    "    # Minimum possible imputed value.\n",
    "    min_value=-np.inf,\n",
    "    # -------------------------------------------------------------------------\n",
    "    # Maximum possible imputed value.\n",
    "    max_value=np.inf,\n",
    "    # -------------------------------------------------------------------------\n",
    "    # The seed of the pseudo random number generator to use.\n",
    "    random_state=None,\n",
    ")\n",
    "\n",
    "iterativeImputer.fit(X_train)\n",
    "\n",
    "iterativeImputer.transform(X_test)"
   ]
  },
  {
   "cell_type": "code",
   "execution_count": null,
   "id": "6f2f003d",
   "metadata": {},
   "outputs": [],
   "source": [
    "print('ok_')"
   ]
  }
 ],
 "metadata": {
  "kernelspec": {
   "display_name": "Python 3 (ipykernel)",
   "language": "python",
   "name": "python3"
  },
  "language_info": {
   "codemirror_mode": {
    "name": "ipython",
    "version": 3
   },
   "file_extension": ".py",
   "mimetype": "text/x-python",
   "name": "python",
   "nbconvert_exporter": "python",
   "pygments_lexer": "ipython3",
   "version": "3.11.5"
  },
  "vscode": {
   "interpreter": {
    "hash": "5238573367df39f7286bb46f9ff5f08f63a01a80960060ce41e3c79b190280fa"
   }
  }
 },
 "nbformat": 4,
 "nbformat_minor": 5
}
