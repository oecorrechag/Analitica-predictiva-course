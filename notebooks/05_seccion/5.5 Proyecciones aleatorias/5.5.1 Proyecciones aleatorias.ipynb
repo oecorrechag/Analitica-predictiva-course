{
 "cells": [
  {
   "attachments": {},
   "cell_type": "markdown",
   "id": "6bfc8fc6",
   "metadata": {},
   "source": [
    "# 5.5.1 Proyecciones aleatorias"
   ]
  },
  {
   "cell_type": "code",
   "execution_count": null,
   "id": "53b57b40",
   "metadata": {},
   "outputs": [],
   "source": [
    "%load_ext autoreload\n",
    "%autoreload 2"
   ]
  },
  {
   "cell_type": "code",
   "execution_count": null,
   "id": "5fb86f3c",
   "metadata": {},
   "outputs": [],
   "source": [
    "import numpy as np\n",
    "from sklearn.random_projection import GaussianRandomProjection\n",
    "\n",
    "import warnings\n",
    "warnings.filterwarnings(\"ignore\")"
   ]
  },
  {
   "attachments": {},
   "cell_type": "markdown",
   "id": "8513e901",
   "metadata": {},
   "source": [
    "Son métodos eficientes para reducir la dimensionalidad de los datos que intentan conservar al máximo las propiedades de estos.\n",
    "\n",
    "La proyección gaussiana aleatoria reduce el espacio original de caracaterísticas con una matriz generada aleatoriamente, cuyos elementos son muestreados de una distribución normal:\n",
    "\n",
    "$$ N(0, \\frac{1}{n_{components}}) $$"
   ]
  },
  {
   "cell_type": "code",
   "execution_count": null,
   "id": "2121cb61",
   "metadata": {},
   "outputs": [],
   "source": [
    "X = np.random.rand(100, 10000)\n",
    "\n",
    "gaussianRandomProjection = GaussianRandomProjection(\n",
    "    # -----------------------------------------------------\n",
    "    # Dimensionality of the target projection space.\n",
    "    #   int\n",
    "    #   'auto'\n",
    "    n_components=\"auto\",\n",
    "    # -----------------------------------------------------\n",
    "    # Semilla del generador de aleatorios\n",
    "    # None\n",
    "    # int\n",
    "    random_state=1234,\n",
    ")\n",
    "\n",
    "X_new = gaussianRandomProjection.fit_transform(X)\n",
    "X_new.shape"
   ]
  },
  {
   "cell_type": "code",
   "execution_count": null,
   "id": "f80924f0",
   "metadata": {},
   "outputs": [],
   "source": [
    "#\n",
    "# Número de componentes\n",
    "#\n",
    "gaussianRandomProjection.n_components_"
   ]
  },
  {
   "cell_type": "code",
   "execution_count": null,
   "id": "56fcb31b",
   "metadata": {},
   "outputs": [],
   "source": [
    "g = sns.jointplot(x=\"original\", y=\"transformed\", data=data, kind=\"scatter\")\n",
    "g.fig.set_figwidth(3)\n",
    "g.fig.set_figheight(3)"
   ]
  },
  {
   "cell_type": "code",
   "execution_count": null,
   "id": "9e984abe",
   "metadata": {},
   "outputs": [],
   "source": [
    "#\n",
    "# Componentes\n",
    "#\n",
    "gaussianRandomProjection.components_.shape"
   ]
  },
  {
   "cell_type": "markdown",
   "metadata": {},
   "source": [
    "En la proyección aleatoria dispersa se reduce la dimensionalidad de la muestra de datos usando una matriz aleatoria dispersa. Esta alternativa es más eficiente que la anterior. Los elementos de la matriz son muestreados de:\n"
   ]
  },
  {
   "cell_type": "code",
   "execution_count": null,
   "id": "a2088421",
   "metadata": {},
   "outputs": [],
   "source": []
  },
  {
   "cell_type": "code",
   "execution_count": null,
   "id": "6f2f003d",
   "metadata": {},
   "outputs": [],
   "source": [
    "print('ok_')"
   ]
  }
 ],
 "metadata": {
  "kernelspec": {
   "display_name": "Python 3 (ipykernel)",
   "language": "python",
   "name": "python3"
  },
  "language_info": {
   "codemirror_mode": {
    "name": "ipython",
    "version": 3
   },
   "file_extension": ".py",
   "mimetype": "text/x-python",
   "name": "python",
   "nbconvert_exporter": "python",
   "pygments_lexer": "ipython3",
   "version": "3.11.5"
  },
  "vscode": {
   "interpreter": {
    "hash": "5238573367df39f7286bb46f9ff5f08f63a01a80960060ce41e3c79b190280fa"
   }
  }
 },
 "nbformat": 4,
 "nbformat_minor": 5
}
