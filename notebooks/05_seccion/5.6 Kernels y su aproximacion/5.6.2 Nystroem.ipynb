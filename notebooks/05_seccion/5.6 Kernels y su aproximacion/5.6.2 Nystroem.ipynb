{
 "cells": [
  {
   "attachments": {},
   "cell_type": "markdown",
   "id": "6bfc8fc6",
   "metadata": {},
   "source": [
    "# 5.6.2 Nystroem"
   ]
  },
  {
   "cell_type": "code",
   "execution_count": null,
   "id": "53b57b40",
   "metadata": {},
   "outputs": [],
   "source": [
    "%load_ext autoreload\n",
    "%autoreload 2"
   ]
  },
  {
   "cell_type": "code",
   "execution_count": null,
   "id": "5fb86f3c",
   "metadata": {},
   "outputs": [],
   "source": [
    "import numpy as np\n",
    "from sklearn.datasets import load_digits\n",
    "from sklearn.kernel_approximation import Nystroem\n",
    "from sklearn.svm import LinearSVC\n",
    "\n",
    "import warnings\n",
    "warnings.filterwarnings(\"ignore\")"
   ]
  },
  {
   "cell_type": "markdown",
   "id": "8513e901",
   "metadata": {},
   "source": [
    "Video: https://www.youtube.com/watch?v=Ys5B-t5KiGo\n",
    "\n",
    "Se sabe que un kernel es una función que computa:\n",
    "\n",
    "$$ k(x,x_i) = < \\phi(x) , \\phi(x_i) > $$\n",
    "\n",
    "donde $<,>$ representa el producto interno entre matrices.\n",
    "\n",
    "Para datasets de gran tamaño es preferible reemplazar el cálculo exacto de un kernel por un método de aproximación.\n",
    "\n",
    "Nystroem aproxima un kernel mediante el muestreo de un subconjunto de los datos, con el fin de no generar una matriz de $n×n$, donde $n$ es la cantidad de ejemplos.\n",
    "\n",
    "Los métodos de aproximación permiten la transformación no lineal de las variables de entrada; las transformaciones obtenidas pueden servir de base para modelos lineales y otros algoritmos, por ejemplo, la combinación con un estimador SGDClassifier.\n"
   ]
  },
  {
   "cell_type": "code",
   "execution_count": null,
   "metadata": {},
   "outputs": [],
   "source": [
    "X, y = load_digits(\n",
    "    n_class=9,\n",
    "    return_X_y=True,\n",
    ")\n",
    "\n",
    "data = X / 16.0\n",
    "\n",
    "linearSVC = LinearSVC()\n",
    "\n",
    "nystroem = Nystroem(\n",
    "    # -------------------------------------------------------------------------\n",
    "    # Kernel map to be approximated.\n",
    "    kernel=\"rbf\",\n",
    "    # -------------------------------------------------------------------------\n",
    "    # Gamma parameter for the RBF, laplacian, polynomial, exponential chi2 and\n",
    "    # sigmoid kernels.\n",
    "    gamma=0.2,\n",
    "    # -------------------------------------------------------------------------\n",
    "    # Zero coefficient for polynomial and sigmoid kernels. Ignored by other\n",
    "    # kernels\n",
    "    coef0=None,\n",
    "    # -------------------------------------------------------------------------\n",
    "    # Degree of the polynomial kernel. Ignored by other kernels.\n",
    "    degree=None,\n",
    "    # -------------------------------------------------------------------------\n",
    "    # Number of features to construct. How many data points will be used to\n",
    "    # construct the mapping.\n",
    "    n_components=300,\n",
    "    # -------------------------------------------------------------------------\n",
    "    # Pseudo-random number generator to control the uniform sampling without\n",
    "    # replacement of n_components of the training data to construct the basis\n",
    "    # kernel.\n",
    "    random_state=1,\n",
    ")\n",
    "\n",
    "\n",
    "data_transformed = nystroem.fit_transform(data)\n",
    "\n",
    "linearSVC.fit(data_transformed, y)\n",
    "\n",
    "linearSVC.score(data_transformed, y)"
   ]
  },
  {
   "cell_type": "code",
   "execution_count": null,
   "metadata": {},
   "outputs": [],
   "source": [
    "#\n",
    "# Dimensiones del dataset\n",
    "#\n",
    "data.shape"
   ]
  },
  {
   "cell_type": "code",
   "execution_count": null,
   "metadata": {},
   "outputs": [],
   "source": [
    "#\n",
    "# Dimensiones del dataset transformado\n",
    "#\n",
    "data_transformed.shape"
   ]
  },
  {
   "cell_type": "code",
   "execution_count": null,
   "metadata": {},
   "outputs": [],
   "source": [
    "#\n",
    "# Subset of training points used to construct the feature map.\n",
    "#\n",
    "nystroem.components_"
   ]
  },
  {
   "cell_type": "code",
   "execution_count": null,
   "metadata": {},
   "outputs": [],
   "source": [
    "nystroem.component_indices_.shape"
   ]
  },
  {
   "cell_type": "code",
   "execution_count": null,
   "metadata": {},
   "outputs": [],
   "source": [
    "#\n",
    "# Patrones en el espacio original de los datos\n",
    "#\n",
    "data[nystroem.component_indices_, :]"
   ]
  },
  {
   "cell_type": "code",
   "execution_count": null,
   "metadata": {},
   "outputs": [],
   "source": [
    "nystroem.component_indices_.shape"
   ]
  },
  {
   "cell_type": "code",
   "execution_count": null,
   "metadata": {},
   "outputs": [],
   "source": [
    "#\n",
    "# Normalization matrix needed for embedding.\n",
    "#\n",
    "nystroem.normalization_"
   ]
  },
  {
   "cell_type": "code",
   "execution_count": null,
   "metadata": {},
   "outputs": [],
   "source": [
    "nystroem.normalization_.shape"
   ]
  },
  {
   "cell_type": "code",
   "execution_count": null,
   "id": "6f2f003d",
   "metadata": {},
   "outputs": [
    {
     "name": "stdout",
     "output_type": "stream",
     "text": [
      "ok_\n"
     ]
    }
   ],
   "source": [
    "print('ok_')"
   ]
  }
 ],
 "metadata": {
  "kernelspec": {
   "display_name": "Python 3 (ipykernel)",
   "language": "python",
   "name": "python3"
  },
  "language_info": {
   "codemirror_mode": {
    "name": "ipython",
    "version": 3
   },
   "file_extension": ".py",
   "mimetype": "text/x-python",
   "name": "python",
   "nbconvert_exporter": "python",
   "pygments_lexer": "ipython3",
   "version": "3.11.5"
  },
  "vscode": {
   "interpreter": {
    "hash": "5238573367df39f7286bb46f9ff5f08f63a01a80960060ce41e3c79b190280fa"
   }
  }
 },
 "nbformat": 4,
 "nbformat_minor": 5
}
