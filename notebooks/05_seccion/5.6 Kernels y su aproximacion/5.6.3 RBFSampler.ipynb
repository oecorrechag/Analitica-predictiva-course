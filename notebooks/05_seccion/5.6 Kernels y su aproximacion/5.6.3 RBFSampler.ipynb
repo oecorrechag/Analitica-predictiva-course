{
 "cells": [
  {
   "attachments": {},
   "cell_type": "markdown",
   "id": "6bfc8fc6",
   "metadata": {},
   "source": [
    "# 5.6.3 RBFSampler"
   ]
  },
  {
   "cell_type": "code",
   "execution_count": 1,
   "id": "53b57b40",
   "metadata": {},
   "outputs": [],
   "source": [
    "%load_ext autoreload\n",
    "%autoreload 2"
   ]
  },
  {
   "cell_type": "code",
   "execution_count": 2,
   "id": "5fb86f3c",
   "metadata": {},
   "outputs": [],
   "source": [
    "from sklearn.kernel_approximation import RBFSampler\n",
    "from sklearn.linear_model import SGDClassifier\n",
    "\n",
    "import warnings\n",
    "warnings.filterwarnings(\"ignore\")"
   ]
  },
  {
   "cell_type": "markdown",
   "id": "8513e901",
   "metadata": {},
   "source": [
    "Kernel:\n",
    "\n",
    "$$ f(x)=exp(−\\gamma⋅x^2) $$"
   ]
  },
  {
   "cell_type": "code",
   "execution_count": 3,
   "metadata": {},
   "outputs": [
    {
     "data": {
      "text/plain": [
       "(4, 100)"
      ]
     },
     "execution_count": 3,
     "metadata": {},
     "output_type": "execute_result"
    }
   ],
   "source": [
    "X = [\n",
    "    [0, 0],\n",
    "    [1, 1],\n",
    "    [1, 0],\n",
    "    [0, 1],\n",
    "]\n",
    "\n",
    "y = [\n",
    "    0,\n",
    "    0,\n",
    "    1,\n",
    "    1,\n",
    "]\n",
    "\n",
    "rbfSampler = RBFSampler(\n",
    "    # -------------------------------------------------------------------------\n",
    "    # Parameter of RBF kernel: exp(-gamma * x^2).\n",
    "    gamma=1,\n",
    "    # -------------------------------------------------------------------------\n",
    "    # Number of Monte Carlo samples per original feature.\n",
    "    n_components=100,\n",
    "    # -------------------------------------------------------------------------\n",
    "    # Pseudo-random number generator to control the generation of the random\n",
    "    # weights and random offset when fitting the training data.\n",
    "    random_state=1,\n",
    ")\n",
    "\n",
    "X_features = rbfSampler.fit_transform(X)\n",
    "\n",
    "X_features.shape"
   ]
  },
  {
   "cell_type": "code",
   "execution_count": 4,
   "metadata": {},
   "outputs": [
    {
     "data": {
      "text/plain": [
       "1.0"
      ]
     },
     "execution_count": 4,
     "metadata": {},
     "output_type": "execute_result"
    }
   ],
   "source": [
    "sgdClassifier = SGDClassifier(max_iter=100, tol=1e-3)\n",
    "\n",
    "sgdClassifier.fit(X_features, y)\n",
    "\n",
    "sgdClassifier.score(X_features, y)"
   ]
  },
  {
   "cell_type": "code",
   "execution_count": 5,
   "id": "6f2f003d",
   "metadata": {},
   "outputs": [
    {
     "name": "stdout",
     "output_type": "stream",
     "text": [
      "ok_\n"
     ]
    }
   ],
   "source": [
    "print('ok_')"
   ]
  }
 ],
 "metadata": {
  "kernelspec": {
   "display_name": "Python 3 (ipykernel)",
   "language": "python",
   "name": "python3"
  },
  "language_info": {
   "codemirror_mode": {
    "name": "ipython",
    "version": 3
   },
   "file_extension": ".py",
   "mimetype": "text/x-python",
   "name": "python",
   "nbconvert_exporter": "python",
   "pygments_lexer": "ipython3",
   "version": "3.11.5"
  },
  "vscode": {
   "interpreter": {
    "hash": "5238573367df39f7286bb46f9ff5f08f63a01a80960060ce41e3c79b190280fa"
   }
  }
 },
 "nbformat": 4,
 "nbformat_minor": 5
}
