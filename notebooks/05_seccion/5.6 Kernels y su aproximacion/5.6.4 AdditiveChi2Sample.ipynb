{
 "cells": [
  {
   "attachments": {},
   "cell_type": "markdown",
   "id": "6bfc8fc6",
   "metadata": {},
   "source": [
    "# 5.6.4 AdditiveChi2Sample"
   ]
  },
  {
   "cell_type": "code",
   "execution_count": 1,
   "id": "53b57b40",
   "metadata": {},
   "outputs": [],
   "source": [
    "%load_ext autoreload\n",
    "%autoreload 2"
   ]
  },
  {
   "cell_type": "code",
   "execution_count": 2,
   "id": "5fb86f3c",
   "metadata": {},
   "outputs": [],
   "source": [
    "from sklearn.datasets import load_digits\n",
    "from sklearn.kernel_approximation import AdditiveChi2Sampler\n",
    "from sklearn.linear_model import SGDClassifier\n",
    "\n",
    "import warnings\n",
    "warnings.filterwarnings(\"ignore\")"
   ]
  },
  {
   "cell_type": "markdown",
   "id": "8513e901",
   "metadata": {},
   "source": [
    "Kernel:\n",
    "\n",
    "$$ k(x,y)= \\sum_{i}^{} \\frac{2x_iy_i}{x_i+y_i} $$\n",
    "\n",
    "Permite el muestreo de un kernel chi2 aditivo.\n",
    "\n",
    "Realiza un muestreo de la transformada de Fourier del kernel a intervalos regulares.\n",
    "\n",
    "Cada entrada en el espacio original es transformada en $2 * sample \\ steps - 1 \\ características$."
   ]
  },
  {
   "cell_type": "code",
   "execution_count": 3,
   "metadata": {},
   "outputs": [
    {
     "data": {
      "text/plain": [
       "(1797, 192)"
      ]
     },
     "execution_count": 3,
     "metadata": {},
     "output_type": "execute_result"
    }
   ],
   "source": [
    "X, y = load_digits(return_X_y=True)\n",
    "\n",
    "chi2sampler = AdditiveChi2Sampler(\n",
    "    # -------------------------------------------------------------------------\n",
    "    # Gives the number of (complex) sampling points. 2n+1 points for dimension.\n",
    "    # Typical values = {1, 2, 3}\n",
    "    sample_steps=2,\n",
    "    # -------------------------------------------------------------------------\n",
    "    # Sampling interval. Must be specified when sample_steps not in {1,2,3}.\n",
    "    sample_interval=None,\n",
    ")\n",
    "\n",
    "X_transformed = chi2sampler.fit_transform(X, y)\n",
    "\n",
    "X_transformed.shape"
   ]
  },
  {
   "cell_type": "code",
   "execution_count": 4,
   "metadata": {},
   "outputs": [
    {
     "data": {
      "text/plain": [
       "0.9821925431274346"
      ]
     },
     "execution_count": 4,
     "metadata": {},
     "output_type": "execute_result"
    }
   ],
   "source": [
    "clf = SGDClassifier(\n",
    "    max_iter=100,\n",
    "    random_state=0,\n",
    "    tol=1e-3,\n",
    ")\n",
    "\n",
    "clf.fit(X_transformed, y)\n",
    "\n",
    "clf.score(X_transformed, y)"
   ]
  },
  {
   "cell_type": "code",
   "execution_count": 5,
   "id": "6f2f003d",
   "metadata": {},
   "outputs": [
    {
     "name": "stdout",
     "output_type": "stream",
     "text": [
      "ok_\n"
     ]
    }
   ],
   "source": [
    "print('ok_')"
   ]
  }
 ],
 "metadata": {
  "kernelspec": {
   "display_name": "Python 3 (ipykernel)",
   "language": "python",
   "name": "python3"
  },
  "language_info": {
   "codemirror_mode": {
    "name": "ipython",
    "version": 3
   },
   "file_extension": ".py",
   "mimetype": "text/x-python",
   "name": "python",
   "nbconvert_exporter": "python",
   "pygments_lexer": "ipython3",
   "version": "3.11.5"
  },
  "vscode": {
   "interpreter": {
    "hash": "5238573367df39f7286bb46f9ff5f08f63a01a80960060ce41e3c79b190280fa"
   }
  }
 },
 "nbformat": 4,
 "nbformat_minor": 5
}
