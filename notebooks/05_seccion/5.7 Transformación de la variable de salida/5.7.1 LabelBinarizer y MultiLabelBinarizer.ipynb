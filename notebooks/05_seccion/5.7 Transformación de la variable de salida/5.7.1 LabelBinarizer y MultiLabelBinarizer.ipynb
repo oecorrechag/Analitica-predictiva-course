{
 "cells": [
  {
   "attachments": {},
   "cell_type": "markdown",
   "id": "6bfc8fc6",
   "metadata": {},
   "source": [
    "# 5.7.1 LabelBinarizer y MultiLabelBinarizer"
   ]
  },
  {
   "cell_type": "code",
   "execution_count": null,
   "id": "53b57b40",
   "metadata": {},
   "outputs": [],
   "source": [
    "%load_ext autoreload\n",
    "%autoreload 2"
   ]
  },
  {
   "cell_type": "code",
   "execution_count": null,
   "id": "5fb86f3c",
   "metadata": {},
   "outputs": [],
   "source": [
    "from sklearn.preprocessing import LabelBinarizer, MultiLabelBinarizer\n",
    "\n",
    "import warnings\n",
    "warnings.filterwarnings(\"ignore\")"
   ]
  },
  {
   "cell_type": "markdown",
   "id": "8513e901",
   "metadata": {},
   "source": [
    "Son utilidades que ayudan a crear un indicador a partir una lista de clases posibles."
   ]
  },
  {
   "cell_type": "code",
   "execution_count": null,
   "metadata": {},
   "outputs": [],
   "source": [
    "y = [1, 2, 6, 4, 2]\n",
    "\n",
    "# clases: 1  2  4  6\n",
    "# ---------------------\n",
    "# array([[1, 0, 0, 0],\n",
    "#        [0, 1, 0, 0],\n",
    "#        [0, 0, 0, 1],\n",
    "#        [0, 0, 1, 0],\n",
    "#        [0, 1, 0, 0]])\n",
    "\n",
    "labelBinarizer = LabelBinarizer(\n",
    "    # -------------------------------------------------------------------------\n",
    "    # Value with which negative labels must be encoded.\n",
    "    neg_label=0,\n",
    "    # -------------------------------------------------------------------------\n",
    "    # Value with which positive labels must be encoded.\n",
    "    pos_label=1,\n",
    "    # -------------------------------------------------------------------------\n",
    "    # True if the returned array from transform is desired to be in sparse CSR\n",
    "    # format.\n",
    "    sparse_output=False,\n",
    ")\n",
    "\n",
    "labelBinarizer.fit(y)\n",
    "\n",
    "labelBinarizer.classes_"
   ]
  },
  {
   "cell_type": "code",
   "execution_count": null,
   "metadata": {},
   "outputs": [],
   "source": [
    "labelBinarizer.transform(y)"
   ]
  },
  {
   "cell_type": "code",
   "execution_count": null,
   "metadata": {},
   "outputs": [],
   "source": [
    "labelBinarizer.transform([1, 6])"
   ]
  },
  {
   "cell_type": "code",
   "execution_count": null,
   "metadata": {},
   "outputs": [],
   "source": [
    "y = [\n",
    "    [2, 3, 4],\n",
    "    [2],\n",
    "    [0, 1, 3],\n",
    "    [0, 1, 2, 3, 4],\n",
    "    [0, 1, 2],\n",
    "]\n",
    "\n",
    "multiLabelBinarizer = MultiLabelBinarizer(\n",
    "    # -------------------------------------------------------------------------\n",
    "    # Indicates an ordering for the class labels. All entries should be unique\n",
    "    # (cannot contain duplicate classes).\n",
    "    classes=None,\n",
    "    # -------------------------------------------------------------------------\n",
    "    # True if the returned array from transform is desired to be in sparse CSR\n",
    "    # format.\n",
    "    sparse_output=False,\n",
    ")\n",
    "\n",
    "multiLabelBinarizer.fit(y)\n",
    "\n",
    "multiLabelBinarizer.classes_"
   ]
  },
  {
   "cell_type": "code",
   "execution_count": null,
   "metadata": {},
   "outputs": [],
   "source": [
    "multiLabelBinarizer.transform(y)"
   ]
  },
  {
   "cell_type": "code",
   "execution_count": null,
   "id": "6f2f003d",
   "metadata": {},
   "outputs": [],
   "source": [
    "print('ok_')"
   ]
  }
 ],
 "metadata": {
  "kernelspec": {
   "display_name": "Python 3 (ipykernel)",
   "language": "python",
   "name": "python3"
  },
  "language_info": {
   "codemirror_mode": {
    "name": "ipython",
    "version": 3
   },
   "file_extension": ".py",
   "mimetype": "text/x-python",
   "name": "python",
   "nbconvert_exporter": "python",
   "pygments_lexer": "ipython3",
   "version": "3.11.5"
  },
  "vscode": {
   "interpreter": {
    "hash": "5238573367df39f7286bb46f9ff5f08f63a01a80960060ce41e3c79b190280fa"
   }
  }
 },
 "nbformat": 4,
 "nbformat_minor": 5
}
