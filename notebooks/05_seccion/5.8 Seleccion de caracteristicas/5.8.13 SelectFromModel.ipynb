{
 "cells": [
  {
   "attachments": {},
   "cell_type": "markdown",
   "id": "6bfc8fc6",
   "metadata": {},
   "source": [
    "# 5.8.13 Reducción de dimensionalidad usando SelectFromModel"
   ]
  },
  {
   "cell_type": "code",
   "execution_count": 4,
   "id": "53b57b40",
   "metadata": {},
   "outputs": [
    {
     "name": "stdout",
     "output_type": "stream",
     "text": [
      "The autoreload extension is already loaded. To reload it, use:\n",
      "  %reload_ext autoreload\n"
     ]
    }
   ],
   "source": [
    "%load_ext autoreload\n",
    "%autoreload 2"
   ]
  },
  {
   "cell_type": "code",
   "execution_count": 5,
   "id": "5fb86f3c",
   "metadata": {},
   "outputs": [],
   "source": [
    "from sklearn.datasets import load_iris\n",
    "from sklearn.feature_selection import SelectFromModel\n",
    "from sklearn.svm import LinearSVC\n",
    "from sklearn.ensemble import ExtraTreesClassifier\n",
    "\n",
    "import warnings\n",
    "warnings.filterwarnings(\"ignore\")"
   ]
  },
  {
   "cell_type": "markdown",
   "id": "8513e901",
   "metadata": {},
   "source": [
    "## 5.8.13.1 Modelos lineales\n",
    "Los modelos lineales penalizados con una norma L1 tienen a hacer muchos de los coeficientes de las características iguales a cero, por lo que pueden ser usados para la reducción de la dimensionalidad de los datos (selección de variables). Se recomiendan los siguientes tipos de modelos:\n",
    "- Lasso()\n",
    "- LogisticRegress()\n",
    "- LinearSVC()"
   ]
  },
  {
   "cell_type": "code",
   "execution_count": 6,
   "metadata": {},
   "outputs": [
    {
     "data": {
      "text/plain": [
       "(150, 4)"
      ]
     },
     "execution_count": 6,
     "metadata": {},
     "output_type": "execute_result"
    }
   ],
   "source": [
    "X, y = load_iris(return_X_y=True)\n",
    "X.shape"
   ]
  },
  {
   "cell_type": "code",
   "execution_count": 7,
   "metadata": {},
   "outputs": [
    {
     "data": {
      "text/plain": [
       "(150, 3)"
      ]
     },
     "execution_count": 7,
     "metadata": {},
     "output_type": "execute_result"
    }
   ],
   "source": [
    "#\n",
    "# Crea y entrena un estimador\n",
    "#\n",
    "linearSVC = LinearSVC(\n",
    "    C=0.01,\n",
    "    penalty=\"l1\",\n",
    "    dual=False,\n",
    "    max_iter=10000,\n",
    ")\n",
    "\n",
    "linearSVC.fit(X, y)\n",
    "\n",
    "#\n",
    "# Selector\n",
    "#\n",
    "model = SelectFromModel(\n",
    "    # -------------------------------------------------------------------------\n",
    "    # The base estimator from which the transformer is built. This can be both\n",
    "    # a fitted (if prefit is set to True) or a non-fitted estimator.\n",
    "    estimator=linearSVC,\n",
    "    # -------------------------------------------------------------------------\n",
    "    # The threshold value to use for feature selection. Features whose\n",
    "    # importance is greater or equal are kept while the others are discarded.\n",
    "    # * float.\n",
    "    # * \"median\": the threshold value is the median of feature importances.\n",
    "    # * \"mean\": the threshold value is the mean of feature importances.\n",
    "    # * \"1.25*mean\": a scaling factor\n",
    "    # * None: if penality is L1, then threshold is 1e-5, otherwise \"mean\"\n",
    "    threshold=None,\n",
    "    # -------------------------------------------------------------------------\n",
    "    # Whether a prefit model is expected to be passed into the constructor\n",
    "    # directly or not.\n",
    "    prefit=True,\n",
    "    # -------------------------------------------------------------------------\n",
    "    # Order of the norm used to filter the vectors of coefficients below\n",
    "    # threshold in the case where the coef_ attribute of the estimator is of\n",
    "    # dimension 2.\n",
    "    norm_order=1,\n",
    "    # -------------------------------------------------------------------------\n",
    "    # The maximum number of features to select.\n",
    "    max_features=None,\n",
    ")\n",
    "\n",
    "X_new = model.transform(X)\n",
    "X_new.shape"
   ]
  },
  {
   "cell_type": "markdown",
   "metadata": {},
   "source": [
    "## 5.8.13.2 Usando árboles"
   ]
  },
  {
   "cell_type": "code",
   "execution_count": 8,
   "metadata": {},
   "outputs": [
    {
     "data": {
      "text/plain": [
       "array([0.09715395, 0.05691274, 0.42543948, 0.42049383])"
      ]
     },
     "execution_count": 8,
     "metadata": {},
     "output_type": "execute_result"
    }
   ],
   "source": [
    "treeClassifier = ExtraTreesClassifier(n_estimators=50)\n",
    "treeClassifier = treeClassifier.fit(X, y)\n",
    "treeClassifier.feature_importances_"
   ]
  },
  {
   "cell_type": "code",
   "execution_count": 9,
   "metadata": {},
   "outputs": [
    {
     "data": {
      "text/plain": [
       "(150, 2)"
      ]
     },
     "execution_count": 9,
     "metadata": {},
     "output_type": "execute_result"
    }
   ],
   "source": [
    "model = SelectFromModel(\n",
    "    estimator=treeClassifier,\n",
    "    prefit=True,\n",
    ")\n",
    "\n",
    "X_new = model.transform(X)\n",
    "X_new.shape"
   ]
  },
  {
   "cell_type": "code",
   "execution_count": 10,
   "id": "6f2f003d",
   "metadata": {},
   "outputs": [
    {
     "name": "stdout",
     "output_type": "stream",
     "text": [
      "ok_\n"
     ]
    }
   ],
   "source": [
    "print('ok_')"
   ]
  }
 ],
 "metadata": {
  "kernelspec": {
   "display_name": "Python 3 (ipykernel)",
   "language": "python",
   "name": "python3"
  },
  "language_info": {
   "codemirror_mode": {
    "name": "ipython",
    "version": 3
   },
   "file_extension": ".py",
   "mimetype": "text/x-python",
   "name": "python",
   "nbconvert_exporter": "python",
   "pygments_lexer": "ipython3",
   "version": "3.11.5"
  },
  "vscode": {
   "interpreter": {
    "hash": "5238573367df39f7286bb46f9ff5f08f63a01a80960060ce41e3c79b190280fa"
   }
  }
 },
 "nbformat": 4,
 "nbformat_minor": 5
}
