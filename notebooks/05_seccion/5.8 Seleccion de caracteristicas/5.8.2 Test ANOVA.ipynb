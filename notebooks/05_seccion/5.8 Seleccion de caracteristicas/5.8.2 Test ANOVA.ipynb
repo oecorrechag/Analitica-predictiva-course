{
 "cells": [
  {
   "attachments": {},
   "cell_type": "markdown",
   "id": "6bfc8fc6",
   "metadata": {},
   "source": [
    "# 5.8.2 Test ANOVA de una vía (f_regression) para problemas de regresión"
   ]
  },
  {
   "cell_type": "code",
   "execution_count": null,
   "id": "53b57b40",
   "metadata": {},
   "outputs": [],
   "source": [
    "%load_ext autoreload\n",
    "%autoreload 2"
   ]
  },
  {
   "cell_type": "code",
   "execution_count": 1,
   "id": "5fb86f3c",
   "metadata": {},
   "outputs": [],
   "source": [
    "import numpy as np\n",
    "from sklearn.datasets import make_regression\n",
    "\n",
    "import warnings\n",
    "warnings.filterwarnings(\"ignore\")"
   ]
  },
  {
   "cell_type": "markdown",
   "id": "8513e901",
   "metadata": {},
   "source": [
    "A capacidad explicativa de las variables independientes en modelos de regresión puede realizarse a traves del uso del estadístico F y su respectivos valores críticos.\n",
    "\n",
    "Se debe calcular la correlación cruzada entre cada regresor y la variable explicada:\n",
    "\n",
    "$$ cross - corr(x_i,y) = \\frac{ \\frac{1}{n} \\sum_{i}^{} (x_i − \\bar{x}) ∗ (y − \\bar{y}) } {std(x_i)∗std(y)} $$\n",
    "\n",
    "El estadístico F se calcula en este caso como:\n",
    "\n",
    "$$ F_{statistic} = \\frac{cross - corr(x_i,y)^2}{1 - cross - corr(x_i,y)^2}  * (n-2) $$\n",
    "\n",
    "donde $n$ es la cantidad de patrones del dataset.\n",
    "\n",
    "El estadístico sigue una distribución $F(1,n−2)$.\n",
    "\n",
    "links: https://scikit-learn.org/stable/modules/generated/sklearn.feature_selection.f_regression.html#sklearn.feature_selection.f_regression"
   ]
  },
  {
   "cell_type": "code",
   "execution_count": 5,
   "metadata": {},
   "outputs": [],
   "source": [
    "X, y = make_regression(\n",
    "    n_samples=30,\n",
    "    n_features=2,\n",
    "    n_informative=1,\n",
    "    noise=12,\n",
    "    random_state=123,\n",
    ")"
   ]
  },
  {
   "cell_type": "code",
   "execution_count": 6,
   "metadata": {},
   "outputs": [],
   "source": [
    "#\n",
    "# Cómputo de las medias y las desviaciones estándar\n",
    "#\n",
    "y_mean = np.mean(y)\n",
    "y_std = np.std(y)\n",
    "\n",
    "x0 = X[:, 0].reshape(-1)\n",
    "x0_mean = np.mean(x0)\n",
    "x0_std = np.std(x0)\n",
    "\n",
    "x1 = X[:, 1].reshape(-1)\n",
    "x1_mean = np.mean(x1)\n",
    "x1_std = np.std(x1)"
   ]
  },
  {
   "cell_type": "code",
   "execution_count": 7,
   "metadata": {},
   "outputs": [],
   "source": [
    "#\n",
    "# Coeficientes de correlación\n",
    "#\n",
    "corr_coeff_x0 = np.mean((x0 - x0_mean) * (y - y_mean)) / (x0_std * y_std)\n",
    "corr_coeff_x1 = np.mean((x1 - x1_mean) * (y - y_mean)) / (x1_std * y_std)\n",
    "\n",
    "squared_corr_coeff_x0 = corr_coeff_x0 ** 2\n",
    "squared_corr_coeff_x1 = corr_coeff_x1 ** 2"
   ]
  },
  {
   "cell_type": "code",
   "execution_count": 8,
   "metadata": {},
   "outputs": [
    {
     "data": {
      "text/plain": [
       "2325.283260155656"
      ]
     },
     "metadata": {},
     "output_type": "display_data"
    },
    {
     "data": {
      "text/plain": [
       "1.4326568685428067"
      ]
     },
     "metadata": {},
     "output_type": "display_data"
    }
   ],
   "source": [
    "#\n",
    "# Cálculo de los estadísticos F\n",
    "#\n",
    "f_statistic_x0 = squared_corr_coeff_x0 / (1 - squared_corr_coeff_x0) * (len(X) - 2)\n",
    "f_statistic_x1 = squared_corr_coeff_x1 / (1 - squared_corr_coeff_x1) * (len(X) - 2)\n",
    "\n",
    "display(\n",
    "    f_statistic_x0,\n",
    "    f_statistic_x1,\n",
    ")"
   ]
  },
  {
   "cell_type": "code",
   "execution_count": 9,
   "metadata": {},
   "outputs": [
    {
     "data": {
      "text/plain": [
       "1.1102230246251565e-16"
      ]
     },
     "metadata": {},
     "output_type": "display_data"
    },
    {
     "data": {
      "text/plain": [
       "0.2413675068071277"
      ]
     },
     "metadata": {},
     "output_type": "display_data"
    }
   ],
   "source": [
    "#\n",
    "# Cálculo de los valores críticos\n",
    "#\n",
    "from scipy.stats import f\n",
    "\n",
    "display(\n",
    "    1 - f.cdf(f_statistic_x0, 1, len(X) - 2),\n",
    "    1 - f.cdf(f_statistic_x1, 1, len(X) - 2),\n",
    ")"
   ]
  },
  {
   "cell_type": "code",
   "execution_count": 10,
   "metadata": {},
   "outputs": [
    {
     "data": {
      "text/plain": [
       "2325.2832601555683"
      ]
     },
     "metadata": {},
     "output_type": "display_data"
    },
    {
     "data": {
      "text/plain": [
       "1.4326568685428058"
      ]
     },
     "metadata": {},
     "output_type": "display_data"
    },
    {
     "data": {
      "text/plain": [
       "1.7127059787182625e-28"
      ]
     },
     "metadata": {},
     "output_type": "display_data"
    },
    {
     "data": {
      "text/plain": [
       "0.24136750680712935"
      ]
     },
     "metadata": {},
     "output_type": "display_data"
    }
   ],
   "source": [
    "#\n",
    "# --- Verificación ------------------------------------------------------------\n",
    "#\n",
    "from sklearn.feature_selection import f_regression\n",
    "\n",
    "f_statistic, p_values = f_regression(X, y)\n",
    "\n",
    "display(\n",
    "    f_statistic[0],\n",
    "    f_statistic[1],\n",
    "    p_values[0],\n",
    "    p_values[1],\n",
    ")"
   ]
  },
  {
   "cell_type": "code",
   "execution_count": null,
   "id": "6f2f003d",
   "metadata": {},
   "outputs": [],
   "source": [
    "print('ok_')"
   ]
  }
 ],
 "metadata": {
  "kernelspec": {
   "display_name": "Python 3 (ipykernel)",
   "language": "python",
   "name": "python3"
  },
  "language_info": {
   "codemirror_mode": {
    "name": "ipython",
    "version": 3
   },
   "file_extension": ".py",
   "mimetype": "text/x-python",
   "name": "python",
   "nbconvert_exporter": "python",
   "pygments_lexer": "ipython3",
   "version": "3.11.5"
  },
  "vscode": {
   "interpreter": {
    "hash": "5238573367df39f7286bb46f9ff5f08f63a01a80960060ce41e3c79b190280fa"
   }
  }
 },
 "nbformat": 4,
 "nbformat_minor": 5
}
