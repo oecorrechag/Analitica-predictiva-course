{
 "cells": [
  {
   "attachments": {},
   "cell_type": "markdown",
   "id": "6bfc8fc6",
   "metadata": {},
   "source": [
    "# 5.8.3 Test ANOVA de una vía (f_classif) para problemas de clasificación"
   ]
  },
  {
   "cell_type": "code",
   "execution_count": null,
   "id": "53b57b40",
   "metadata": {},
   "outputs": [],
   "source": [
    "%load_ext autoreload\n",
    "%autoreload 2"
   ]
  },
  {
   "cell_type": "code",
   "execution_count": null,
   "id": "5fb86f3c",
   "metadata": {},
   "outputs": [],
   "source": [
    "import numpy as np\n",
    "import matplotlib.pyplot as plt\n",
    "from sklearn.datasets import make_blobs\n",
    "from scipy.stats import f\n",
    "\n",
    "import warnings\n",
    "warnings.filterwarnings(\"ignore\")"
   ]
  },
  {
   "cell_type": "markdown",
   "id": "8513e901",
   "metadata": {},
   "source": [
    "link: https://www.youtube.com/watch?v=l_orN0tUBe0&list=PLEFpZ3YehTnCx0mS5OhPWb75RIxryBzws&index=3\n",
    "\n",
    "links: https://scikit-learn.org/stable/modules/generated/sklearn.feature_selection.f_classif.html#sklearn.feature_selection.f_classif\n",
    "\n",
    "## 5.8.3.1 Datos de prueba"
   ]
  },
  {
   "cell_type": "code",
   "execution_count": null,
   "metadata": {},
   "outputs": [],
   "source": [
    "X, y = make_blobs(\n",
    "    n_samples=150,\n",
    "    n_features=2,\n",
    "    centers=3,\n",
    "    cluster_std=0.8,\n",
    "    shuffle=False,\n",
    "    random_state=12345,\n",
    ")\n",
    "\n",
    "#\n",
    "# Note que x0 y x1 son significativas, mientras que x2 es una variable\n",
    "# aleatoria no explicativa\n",
    "#\n",
    "X = np.hstack((X, 2 * np.random.random((X.shape[0], 1))))\n",
    "X.shape"
   ]
  },
  {
   "cell_type": "markdown",
   "metadata": {},
   "source": [
    "## 5.8.3.2 Metodología\n",
    "\n",
    "En este caso, se realiza una prueba de hipótesis para cada variable independiente del dataset.\n",
    "\n",
    "La hipótesis nula es que los grupos (cada clase presente en el dataset) tienen la misma media poblacional para la característica analizada (La variable no es significativa para construir un clasificador).\n",
    "\n",
    "$$ H_{0}:\\mu_{0} = \\mu_{1} = ⋯ = \\mu_{k} $$\n",
    "\n",
    "mientras que la hipótesis alternativa es que alguna de las medias es significativamente diferente de las otras (la variable es significativa). Sin embargo, la prueba no indica cual de las medias es diferente.\n",
    "\n",
    "Para el siguiente ejemplo se realiza una prueba para cada una de las tres columnas del datset.\n",
    "\n",
    "En la siguiente figura se grafican las tres clases para las variables $x_1$(significativa) y $x_2$ (no significativa), y las respectivas medias para cada clase. Como se puede observar, las medias de los tres grupos son claramente diferentes para $x_1$, y no lo son para $x_2$. En esta metodología, el grado de diferecia se mide a través del valor crítico."
   ]
  },
  {
   "cell_type": "code",
   "execution_count": null,
   "metadata": {},
   "outputs": [],
   "source": [
    "plt.scatter(X[:50, 1], X[:50, 2], color=\"tab:red\", edgecolors=\"k\", s=120, alpha=0.9)\n",
    "plt.scatter(X[50:100, 1], X[50:100, 2], color=\"tab:blue\", edgecolors=\"k\", s=120, alpha=0.9)\n",
    "plt.scatter(X[100:, 1], X[100:, 2], color=\"tab:green\", edgecolors=\"k\", s=120, alpha=0.9)\n",
    "\n",
    "x1_0_mean = X[:50, 1].mean()\n",
    "x2_0_mean = X[:50, 2].mean()\n",
    "\n",
    "x1_1_mean = X[50:100, 1].mean()\n",
    "x2_1_mean = X[50:100, 2].mean()\n",
    "\n",
    "x1_2_mean = X[100:, 1].mean()\n",
    "x2_2_mean = X[100:, 2].mean()\n",
    "\n",
    "plt.xlabel(\"x1\")\n",
    "plt.ylabel(\"x2\")\n",
    "\n",
    "plt.axvline(x1_0_mean, color=\"tab:red\", linestyle=\"--\")\n",
    "plt.axhline(x2_0_mean, color=\"tab:red\", linestyle=\"--\")\n",
    "\n",
    "plt.axvline(x1_1_mean, color=\"tab:blue\", linestyle=\"--\")\n",
    "plt.axhline(x2_1_mean, color=\"tab:blue\", linestyle=\"--\")\n",
    "\n",
    "plt.axvline(x1_2_mean, color=\"tab:green\", linestyle=\"--\")\n",
    "plt.axhline(x2_2_mean, color=\"tab:green\", linestyle=\"--\")\n",
    "\n",
    "plt.gca().spines[\"left\"].set_color(\"gray\")\n",
    "plt.gca().spines[\"bottom\"].set_color(\"gray\")\n",
    "plt.gca().spines[\"top\"].set_visible(False)\n",
    "plt.gca().spines[\"right\"].set_visible(False)\n",
    "plt.axis(\"equal\")\n",
    "plt.show()"
   ]
  },
  {
   "cell_type": "markdown",
   "metadata": {},
   "source": [
    "## 5.8.3.3 Supuestos\n",
    "\n",
    "La variable dependiente es normalmente distribuida en cada grupo (pero aca la variable dependiente es el grupo, alerta!!!).\n",
    "\n",
    "Las observaciones son independienes.\n",
    "\n",
    "## 5.8.3.4 Realización de la prueba"
   ]
  },
  {
   "cell_type": "code",
   "execution_count": null,
   "metadata": {},
   "outputs": [],
   "source": [
    "def one_way_anova(x0, x1, x2, n_classes):\n",
    "\n",
    "    n_samples = len(x0) + len(x1) + len(x2)\n",
    "\n",
    "    n0 = len(x0)\n",
    "    n1 = len(x1)\n",
    "    n2 = len(x2)\n",
    "\n",
    "    # sum(x^2) per group\n",
    "    sum_of_squares_x0 = sum(np.power(x0, 2))\n",
    "    sum_of_squares_x1 = sum(np.power(x1, 2))\n",
    "    sum_of_squares_x2 = sum(np.power(x2, 2))\n",
    "\n",
    "    # sum(x^2) over all data\n",
    "    sum_of_squares_all = sum_of_squares_x0 + sum_of_squares_x1 + sum_of_squares_x2\n",
    "\n",
    "    # sum(x) per group\n",
    "    sum_x0 = sum(x0)\n",
    "    sum_x1 = sum(x1)\n",
    "    sum_x2 = sum(x2)\n",
    "\n",
    "    # (sum(x)  over all data) ^ 2\n",
    "    square_of_sum_all = np.power(sum_x0 + sum_x1 + sum_x2, 2)\n",
    "\n",
    "    square_of_sum_x0 = sum_x0 ** 2\n",
    "    square_of_sum_x1 = sum_x1 ** 2\n",
    "    square_of_sum_x2 = sum_x2 ** 2\n",
    "    sstot = sum_of_squares_all - square_of_sum_all / float(n_samples)\n",
    "\n",
    "    # Between-group sum of squared differences\n",
    "    sb = square_of_sum_x0 / n0 + square_of_sum_x1 / n1 + square_of_sum_x2 / n2\n",
    "    sb = sb - square_of_sum_all / float(n_samples)\n",
    "\n",
    "    # Between-group degress of freedom\n",
    "    dfbn = n_classes - 1\n",
    "\n",
    "    # Between-group mean square value\n",
    "    msb = sb / dfbn\n",
    "\n",
    "    # within-group sum of squares\n",
    "    sw = sstot - sb\n",
    "\n",
    "    # between\n",
    "    dfwn = n_samples - n_classes\n",
    "\n",
    "    # within-group mean square value (MSw)\n",
    "    msw = sw / float(dfwn)\n",
    "\n",
    "    f_statistic = msb / msw\n",
    "    p_value = 1 - f.cdf(f_statistic, dfbn, dfwn)\n",
    "\n",
    "    print(f_statistic, p_value)\n",
    "\n",
    "\n",
    "#\n",
    "# Cómputo de la prueba para cada una de las características del dataset\n",
    "#\n",
    "one_way_anova(\n",
    "    x0=X[y == 0, 0].reshape(-1),\n",
    "    x1=X[y == 1, 0].reshape(-1),\n",
    "    x2=X[y == 2, 0].reshape(-1),\n",
    "    n_classes=3,\n",
    ")\n",
    "\n",
    "one_way_anova(\n",
    "    x0=X[y == 0, 1].reshape(-1),\n",
    "    x1=X[y == 1, 1].reshape(-1),\n",
    "    x2=X[y == 2, 1].reshape(-1),\n",
    "    n_classes=3,\n",
    ")\n",
    "\n",
    "one_way_anova(\n",
    "    x0=X[y == 0, 2].reshape(-1),\n",
    "    x1=X[y == 1, 2].reshape(-1),\n",
    "    x2=X[y == 2, 2].reshape(-1),\n",
    "    n_classes=3,\n",
    ")\n",
    "\n",
    "#\n",
    "# La última característica no es relevante\n",
    "#"
   ]
  },
  {
   "cell_type": "code",
   "execution_count": null,
   "metadata": {},
   "outputs": [],
   "source": [
    "#\n",
    "# --- Verificación ------------------------------------------------------------\n",
    "#\n",
    "from sklearn.feature_selection import f_classif\n",
    "\n",
    "f_statistic, p_values = f_classif(X, y)\n",
    "\n",
    "print(f_statistic[0], p_values[0])\n",
    "print(f_statistic[1], p_values[1])\n",
    "print(f_statistic[2], p_values[2])"
   ]
  },
  {
   "cell_type": "code",
   "execution_count": null,
   "id": "6f2f003d",
   "metadata": {},
   "outputs": [],
   "source": [
    "print('ok_')"
   ]
  }
 ],
 "metadata": {
  "kernelspec": {
   "display_name": "Python 3 (ipykernel)",
   "language": "python",
   "name": "python3"
  },
  "language_info": {
   "codemirror_mode": {
    "name": "ipython",
    "version": 3
   },
   "file_extension": ".py",
   "mimetype": "text/x-python",
   "name": "python",
   "nbconvert_exporter": "python",
   "pygments_lexer": "ipython3",
   "version": "3.11.5"
  },
  "vscode": {
   "interpreter": {
    "hash": "5238573367df39f7286bb46f9ff5f08f63a01a80960060ce41e3c79b190280fa"
   }
  }
 },
 "nbformat": 4,
 "nbformat_minor": 5
}
