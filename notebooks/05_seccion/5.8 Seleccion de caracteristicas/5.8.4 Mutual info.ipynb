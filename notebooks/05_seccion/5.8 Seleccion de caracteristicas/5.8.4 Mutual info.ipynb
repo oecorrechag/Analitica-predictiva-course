{
 "cells": [
  {
   "attachments": {},
   "cell_type": "markdown",
   "id": "6bfc8fc6",
   "metadata": {},
   "source": [
    "# 5.8.4 Estimación de la Información Mutua (mutual_info_classif y mutual_info_regression) entre variables"
   ]
  },
  {
   "cell_type": "code",
   "execution_count": 13,
   "id": "53b57b40",
   "metadata": {},
   "outputs": [
    {
     "name": "stdout",
     "output_type": "stream",
     "text": [
      "The autoreload extension is already loaded. To reload it, use:\n",
      "  %reload_ext autoreload\n"
     ]
    }
   ],
   "source": [
    "%load_ext autoreload\n",
    "%autoreload 2"
   ]
  },
  {
   "cell_type": "code",
   "execution_count": 14,
   "id": "5fb86f3c",
   "metadata": {},
   "outputs": [],
   "source": [
    "import numpy as np\n",
    "from sklearn.datasets import make_blobs, make_regression\n",
    "from sklearn.feature_selection import mutual_info_classif, mutual_info_regression\n",
    "\n",
    "import warnings\n",
    "warnings.filterwarnings(\"ignore\")"
   ]
  },
  {
   "cell_type": "markdown",
   "id": "8513e901",
   "metadata": {},
   "source": [
    "link: https://www.youtube.com/watch?v=l_orN0tUBe0&list=PLEFpZ3YehTnCx0mS5OhPWb75RIxryBzws&index=5\n",
    "\n",
    "Las funciones **mutual_info_classif** y **mutual_info_regression** estiman la información mutua entre cada una de las variables explicativas y la variable dependiente.\n",
    "\n",
    "La información mutua es una medida de la dependencia mutua entre dos variables aleatorias.\n",
    "\n",
    "En el caso de variables discretas, la información mutua se calcula como:\n",
    "\n",
    "$$ I(x,y) = \\sum_{x}^{} \\sum_{y}^{}  Prob(x,y) log \\frac{Prob(x,y)}{Prob(x) * Prob(y)} $$\n",
    "\n",
    "donde:\n",
    "\n",
    "$ Prob(x,y) $ es la probabilidad conjunta de $x$ y $y$.\n",
    "\n",
    "$ Prob(x) $ y $ Prob(y) $ son las probabilidades marginales.\n",
    "\n",
    "Esta métrica se basa en la divergencia de Kullback-Leibler, la cual es una medida entre la diferencia entre dos distribuciones de probabilidad.\n",
    "\n",
    "En este caso se parte del supuesto de que si no hay relación entre $x$ y $y$, ambas variables son independientes, y por tanto, $Prob(x,y)=Prob(x)×Prob(y)$, tal que $I(x,y)=0$.\n",
    "\n",
    "## 5.8.4.1 Clasificación\n",
    "\n",
    "links: https://scikit-learn.org/stable/modules/generated/sklearn.feature_selection.mutual_info_classif.html#sklearn.feature_selection.mutual_info_classif\n"
   ]
  },
  {
   "cell_type": "code",
   "execution_count": 15,
   "metadata": {},
   "outputs": [
    {
     "data": {
      "text/plain": [
       "(150, 3)"
      ]
     },
     "execution_count": 15,
     "metadata": {},
     "output_type": "execute_result"
    }
   ],
   "source": [
    "X, y = make_blobs(\n",
    "    n_samples=150,\n",
    "    n_features=2,\n",
    "    centers=3,\n",
    "    cluster_std=0.8,\n",
    "    shuffle=False,\n",
    "    random_state=12345,\n",
    ")\n",
    "\n",
    "#\n",
    "# Note que x0 y x1 son significativas, mientras que x2 es una variable\n",
    "# aleatoria no explicativa\n",
    "#\n",
    "X = np.hstack((X, 2 * np.random.random((X.shape[0], 1))))\n",
    "X.shape"
   ]
  },
  {
   "cell_type": "code",
   "execution_count": 16,
   "metadata": {},
   "outputs": [
    {
     "data": {
      "text/plain": [
       "array([1.10530858, 0.9911345 , 0.        ])"
      ]
     },
     "execution_count": 16,
     "metadata": {},
     "output_type": "execute_result"
    }
   ],
   "source": [
    "mutual_info = mutual_info_classif(\n",
    "    # -------------------------------------------------------------------------\n",
    "    # Feature matrix.\n",
    "    X=X,\n",
    "    # -------------------------------------------------------------------------\n",
    "    # Target vector.\n",
    "    y=y,\n",
    "    # -------------------------------------------------------------------------\n",
    "    # Number of neighbors to use for MI estimation for continuous variables.\n",
    "    n_neighbors=3,\n",
    "    # -------------------------------------------------------------------------\n",
    "    # If bool, then determines whether to consider all features discrete or\n",
    "    # continuous.\n",
    "    discrete_features=\"auto\",\n",
    "    # -------------------------------------------------------------------------\n",
    "    # Determines random number generation for adding small noise to continuous\n",
    "    # variables in order to remove repeated values.\n",
    "    random_state=None,\n",
    ")\n",
    "\n",
    "mutual_info"
   ]
  },
  {
   "cell_type": "markdown",
   "metadata": {},
   "source": [
    "## 5.8.4.2 Regresión"
   ]
  },
  {
   "cell_type": "code",
   "execution_count": 17,
   "metadata": {},
   "outputs": [],
   "source": [
    "X, y = make_regression(\n",
    "    n_samples=300,\n",
    "    n_features=4,\n",
    "    n_informative=2,\n",
    "    bias=0.0,\n",
    "    tail_strength=0.9,\n",
    "    noise=12.0,\n",
    "    shuffle=False,\n",
    "    coef=False,\n",
    "    random_state=0,\n",
    ")"
   ]
  },
  {
   "cell_type": "code",
   "execution_count": 18,
   "metadata": {},
   "outputs": [
    {
     "data": {
      "text/plain": [
       "array([0.07191495, 0.63637812, 0.        , 0.09702994])"
      ]
     },
     "execution_count": 18,
     "metadata": {},
     "output_type": "execute_result"
    }
   ],
   "source": [
    "mutual_info = mutual_info_regression(\n",
    "    # -------------------------------------------------------------------------\n",
    "    # Feature matrix.\n",
    "    X=X,\n",
    "    # -------------------------------------------------------------------------\n",
    "    # Target vector.\n",
    "    y=y,\n",
    "    # -------------------------------------------------------------------------\n",
    "    # If bool, then determines whether to consider all features discrete or\n",
    "    # continuous.\n",
    "    discrete_features=\"auto\",\n",
    "    # -------------------------------------------------------------------------\n",
    "    # Number of neighbors to use for MI estimation for continuous variables.\n",
    "    n_neighbors=3,\n",
    "    # -------------------------------------------------------------------------\n",
    "    # Determines random number generation for adding small noise to continuous\n",
    "    # variables in order to remove repeated values.\n",
    "    random_state=None,\n",
    ")\n",
    "\n",
    "mutual_info"
   ]
  },
  {
   "cell_type": "code",
   "execution_count": 19,
   "id": "6f2f003d",
   "metadata": {},
   "outputs": [
    {
     "name": "stdout",
     "output_type": "stream",
     "text": [
      "ok_\n"
     ]
    }
   ],
   "source": [
    "print('ok_')"
   ]
  }
 ],
 "metadata": {
  "kernelspec": {
   "display_name": "Python 3 (ipykernel)",
   "language": "python",
   "name": "python3"
  },
  "language_info": {
   "codemirror_mode": {
    "name": "ipython",
    "version": 3
   },
   "file_extension": ".py",
   "mimetype": "text/x-python",
   "name": "python",
   "nbconvert_exporter": "python",
   "pygments_lexer": "ipython3",
   "version": "3.11.5"
  },
  "vscode": {
   "interpreter": {
    "hash": "5238573367df39f7286bb46f9ff5f08f63a01a80960060ce41e3c79b190280fa"
   }
  }
 },
 "nbformat": 4,
 "nbformat_minor": 5
}
