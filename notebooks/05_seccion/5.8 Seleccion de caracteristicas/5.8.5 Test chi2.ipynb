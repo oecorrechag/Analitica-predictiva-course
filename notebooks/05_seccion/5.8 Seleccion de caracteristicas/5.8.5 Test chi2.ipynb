{
 "cells": [
  {
   "attachments": {},
   "cell_type": "markdown",
   "id": "6bfc8fc6",
   "metadata": {},
   "source": [
    "# 5.8.5 Test chi2 para problemas de clasificación"
   ]
  },
  {
   "cell_type": "code",
   "execution_count": 1,
   "id": "53b57b40",
   "metadata": {},
   "outputs": [],
   "source": [
    "%load_ext autoreload\n",
    "%autoreload 2"
   ]
  },
  {
   "cell_type": "code",
   "execution_count": 13,
   "id": "5fb86f3c",
   "metadata": {},
   "outputs": [],
   "source": [
    "import numpy as np\n",
    "from scipy.stats import chisquare\n",
    "from sklearn.datasets import make_blobs\n",
    "from sklearn.preprocessing import LabelBinarizer\n",
    "from sklearn.feature_selection import chi2\n",
    "\n",
    "import warnings\n",
    "warnings.filterwarnings(\"ignore\")"
   ]
  },
  {
   "cell_type": "markdown",
   "id": "8513e901",
   "metadata": {},
   "source": [
    "En esta prueba, la hipótesis nula es que no hay una diferencia estadísticamente significativa entre la frecuencia observada y la frecuencia esperada en una o más categorías.\n",
    "\n",
    "Se tienen $n$ observaciones en una muestra aleatoria, que están clasificadas en $k$ clases mutuamente exclusivas, cada una con una probabilidad $p_i$.\n",
    "\n",
    "$$ \\sum_{i}^{k} p_i = 1 $$\n",
    "\n",
    "Cada clase tiene un número observado $z_i$, con $i=1,...,k$. Este es asimilable a la cantidad de observaciones de la clase y se usa para determinar la frecuencia observada de cada clase.\n",
    "\n",
    "El número esperado para cada clase es $m_i=n∗p_i$ (la cantidad de observaciones por la probabilidad de cada clase).\n",
    "\n",
    "El estadístico\n",
    "\n",
    "$$ \\sum_{i=1}^{k} \\frac{(z_i - m_i)^2}{m_i} = \\sum_{i=i}^{k} \\frac{z_i^2}{m_i} - n $$\n",
    "\n",
    "sigue una distribución $\\chi ^2$"
   ]
  },
  {
   "cell_type": "code",
   "execution_count": 3,
   "metadata": {},
   "outputs": [
    {
     "data": {
      "text/plain": [
       "(150, 4)"
      ]
     },
     "execution_count": 3,
     "metadata": {},
     "output_type": "execute_result"
    }
   ],
   "source": [
    "#\n",
    "# Datos de ejemplo\n",
    "#\n",
    "X, y = make_blobs(\n",
    "    n_samples=150,\n",
    "    n_features=2,\n",
    "    centers=3,\n",
    "    cluster_std=0.8,\n",
    "    shuffle=False,\n",
    "    random_state=12345,\n",
    ")\n",
    "\n",
    "#\n",
    "# Note que x0 y x1 son significativas, mientras que x2 es una variable\n",
    "# aleatoria no explicativa\n",
    "#\n",
    "X = np.hstack((X, 2 * np.random.random((X.shape[0], 2))))\n",
    "\n",
    "#\n",
    "# Esta parte garantiza que todos los valores de X son positivos\n",
    "#\n",
    "x_min = np.where(X < 0, X, 0).min()\n",
    "X = X - x_min + 1\n",
    "X.shape"
   ]
  },
  {
   "cell_type": "code",
   "execution_count": 6,
   "metadata": {},
   "outputs": [
    {
     "data": {
      "text/plain": [
       "array([[1, 0, 0],\n",
       "       [1, 0, 0],\n",
       "       [1, 0, 0],\n",
       "       [1, 0, 0],\n",
       "       [1, 0, 0]])"
      ]
     },
     "execution_count": 6,
     "metadata": {},
     "output_type": "execute_result"
    }
   ],
   "source": [
    "#\n",
    "# Transformación tipo one-hot-encoder para las clases de y. Cada columna\n",
    "# representa pertenece/no pertenece a la clase.\n",
    "#\n",
    "Y = LabelBinarizer().fit_transform(y)\n",
    "\n",
    "Y[:5, :]"
   ]
  },
  {
   "cell_type": "code",
   "execution_count": 7,
   "metadata": {},
   "outputs": [
    {
     "data": {
      "text/plain": [
       "array([[881.83302613, 274.30036282, 506.86038868, 500.42437957],\n",
       "       [140.43480966, 159.1087139 , 507.35557676, 508.31891864],\n",
       "       [514.41956328, 549.23014322, 508.4739892 , 504.5328405 ]])"
      ]
     },
     "execution_count": 7,
     "metadata": {},
     "output_type": "execute_result"
    }
   ],
   "source": [
    "#\n",
    "# Computa la frecuencia observada en características continuas como\n",
    "# la sumatoria de X para los x que pertenecen a la misma clase\n",
    "#\n",
    "observed = np.dot(Y.T, X)\n",
    "observed"
   ]
  },
  {
   "cell_type": "code",
   "execution_count": 8,
   "metadata": {},
   "outputs": [
    {
     "data": {
      "text/plain": [
       "array([[1536.68739907,  982.63921993, 1522.68995464, 1513.2761387 ]])"
      ]
     },
     "execution_count": 8,
     "metadata": {},
     "output_type": "execute_result"
    }
   ],
   "source": [
    "#\n",
    "# Calcula la suma de cada feature para aproximar la frecuencia esperada\n",
    "#\n",
    "sum_x = X.sum(axis=0).reshape(1, -1)\n",
    "sum_x"
   ]
  },
  {
   "cell_type": "code",
   "execution_count": 9,
   "metadata": {},
   "outputs": [
    {
     "data": {
      "text/plain": [
       "array([[0.33333333, 0.33333333, 0.33333333]])"
      ]
     },
     "execution_count": 9,
     "metadata": {},
     "output_type": "execute_result"
    }
   ],
   "source": [
    "#\n",
    "# Probabilidad para cada una de las clases\n",
    "#\n",
    "class_prob = Y.mean(axis=0).reshape(1, -1)\n",
    "class_prob"
   ]
  },
  {
   "cell_type": "code",
   "execution_count": 10,
   "metadata": {},
   "outputs": [
    {
     "data": {
      "text/plain": [
       "array([[512.22913302, 327.54640664, 507.56331821, 504.42537957],\n",
       "       [512.22913302, 327.54640664, 507.56331821, 504.42537957],\n",
       "       [512.22913302, 327.54640664, 507.56331821, 504.42537957]])"
      ]
     },
     "execution_count": 10,
     "metadata": {},
     "output_type": "execute_result"
    }
   ],
   "source": [
    "#\n",
    "# La probabilidad esperada para cada clase es computada como la suma sobre cada\n",
    "# feature para una clase\n",
    "#\n",
    "expected = np.dot(class_prob.T, sum_x)\n",
    "expected"
   ]
  },
  {
   "cell_type": "code",
   "execution_count": 12,
   "metadata": {},
   "outputs": [
    {
     "data": {
      "text/plain": [
       "array([5.36562325e+02, 2.45308985e+02, 2.69244847e-03, 6.18113137e-02])"
      ]
     },
     "metadata": {},
     "output_type": "display_data"
    },
    {
     "data": {
      "text/plain": [
       "array([3.06882045e-117, 5.39300358e-054, 9.98654682e-001, 9.69567041e-001])"
      ]
     },
     "metadata": {},
     "output_type": "display_data"
    }
   ],
   "source": [
    "chisq, p = chisquare(\n",
    "    # -------------------------------------------------------------------------\n",
    "    # Observed frequencies in each category.\n",
    "    f_obs=observed,\n",
    "    # -------------------------------------------------------------------------\n",
    "    # Expected frequencies in each category.\n",
    "    f_exp=expected,\n",
    "    # -------------------------------------------------------------------------\n",
    "    # “Delta degrees of freedom”: adjustment to the degrees of freedom for the\n",
    "    # p-value.\n",
    "    ddof=0,\n",
    "    # -------------------------------------------------------------------------\n",
    "    # The axis of the broadcast result of f_obs and f_exp along which to apply\n",
    "    # the test. If axis is None, all values in f_obs are treated as a single\n",
    "    # data set.\n",
    "    axis=0,\n",
    ")\n",
    "\n",
    "display(\n",
    "    chisq,\n",
    "    p,\n",
    ")"
   ]
  },
  {
   "cell_type": "code",
   "execution_count": 14,
   "metadata": {},
   "outputs": [
    {
     "data": {
      "text/plain": [
       "array([5.36562325e+02, 2.45308985e+02, 2.69244847e-03, 6.18113137e-02])"
      ]
     },
     "metadata": {},
     "output_type": "display_data"
    },
    {
     "data": {
      "text/plain": [
       "array([3.06882045e-117, 5.39300358e-054, 9.98654682e-001, 9.69567041e-001])"
      ]
     },
     "metadata": {},
     "output_type": "display_data"
    }
   ],
   "source": [
    "#\n",
    "# --- Verificación ------------------------------------------------------------\n",
    "#\n",
    "\n",
    "\n",
    "chi2_statistics, p_values = chi2(\n",
    "    # -------------------------------------------------------------------------\n",
    "    # Sample vectors\n",
    "    X,\n",
    "    # -------------------------------------------------------------------------\n",
    "    # Target vector (class labels).\n",
    "    y,\n",
    ")\n",
    "\n",
    "display(\n",
    "    chi2_statistics,\n",
    "    p_values,\n",
    ")"
   ]
  },
  {
   "cell_type": "code",
   "execution_count": 4,
   "id": "6f2f003d",
   "metadata": {},
   "outputs": [
    {
     "name": "stdout",
     "output_type": "stream",
     "text": [
      "ok_\n"
     ]
    }
   ],
   "source": [
    "print('ok_')"
   ]
  }
 ],
 "metadata": {
  "kernelspec": {
   "display_name": "Python 3 (ipykernel)",
   "language": "python",
   "name": "python3"
  },
  "language_info": {
   "codemirror_mode": {
    "name": "ipython",
    "version": 3
   },
   "file_extension": ".py",
   "mimetype": "text/x-python",
   "name": "python",
   "nbconvert_exporter": "python",
   "pygments_lexer": "ipython3",
   "version": "3.11.5"
  },
  "vscode": {
   "interpreter": {
    "hash": "5238573367df39f7286bb46f9ff5f08f63a01a80960060ce41e3c79b190280fa"
   }
  }
 },
 "nbformat": 4,
 "nbformat_minor": 5
}
