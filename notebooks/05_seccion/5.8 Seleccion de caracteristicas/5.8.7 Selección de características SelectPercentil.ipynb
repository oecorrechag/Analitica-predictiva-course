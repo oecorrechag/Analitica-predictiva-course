{
 "cells": [
  {
   "attachments": {},
   "cell_type": "markdown",
   "id": "6bfc8fc6",
   "metadata": {},
   "source": [
    "# 5.8.7 Selección de características con scores más altos usando SelectPercentil"
   ]
  },
  {
   "cell_type": "code",
   "execution_count": 1,
   "id": "53b57b40",
   "metadata": {},
   "outputs": [],
   "source": [
    "%load_ext autoreload\n",
    "%autoreload 2"
   ]
  },
  {
   "cell_type": "code",
   "execution_count": 2,
   "id": "5fb86f3c",
   "metadata": {},
   "outputs": [],
   "source": [
    "from sklearn.datasets import load_digits\n",
    "from sklearn.feature_selection import SelectPercentile, chi2\n",
    "\n",
    "import warnings\n",
    "warnings.filterwarnings(\"ignore\")"
   ]
  },
  {
   "cell_type": "markdown",
   "id": "8513e901",
   "metadata": {},
   "source": [
    "Esta metodología permite seleccionar las variables independientes que están en el percentil de scores más altos. <br>\n",
    "Esta es una metodología que permite realizar la selección independiente de cada característica. Es decir, no se tienen en cuenta interacciones entre características. <br>\n",
    "Para seleccionar las características se debe especificar una función que tome X y y, y retorne los scores y los valores críticos asociados. <br>\n",
    "Las disponibles funciones para computar la importancia de cada variable independiente son:<br>\n",
    "\n",
    "- f_classif()\n",
    "- f_regression()\n",
    "- mutual_info_classif()\n",
    "- mutual_info_regression()\n",
    "- chi2() (únicamente para clasificación)"
   ]
  },
  {
   "cell_type": "code",
   "execution_count": 3,
   "metadata": {},
   "outputs": [
    {
     "data": {
      "text/plain": [
       "(1797, 64)"
      ]
     },
     "execution_count": 3,
     "metadata": {},
     "output_type": "execute_result"
    }
   ],
   "source": [
    "X, y = load_digits(return_X_y=True)\n",
    "X.shape"
   ]
  },
  {
   "cell_type": "code",
   "execution_count": 4,
   "metadata": {},
   "outputs": [
    {
     "data": {
      "text/plain": [
       "(1797, 7)"
      ]
     },
     "execution_count": 4,
     "metadata": {},
     "output_type": "execute_result"
    }
   ],
   "source": [
    "selectPercentile = SelectPercentile(\n",
    "    # -------------------------------------------------------------------------\n",
    "    # Function taking two arrays X and y, and returning a pair of arrays\n",
    "    # (scores, pvalues) or a single array with scores.\n",
    "    score_func=chi2,\n",
    "    # -------------------------------------------------------------------------\n",
    "    # Percent of features to keep.\n",
    "    percentile=10,\n",
    ")\n",
    "\n",
    "selectPercentile.fit(X, y)\n",
    "X_new = selectPercentile.transform(X)\n",
    "\n",
    "X_new.shape"
   ]
  },
  {
   "cell_type": "code",
   "execution_count": 5,
   "metadata": {},
   "outputs": [
    {
     "data": {
      "text/plain": [
       "array([          nan,  811.90700411, 3501.28249552,  698.9252572 ,\n",
       "        438.52969882, 3879.81925999, 3969.45823205, 1193.5608181 ,\n",
       "         24.79521396, 2953.83108764, 2583.65198939,  388.24205944,\n",
       "        824.69094853, 3676.48924765, 1983.5796061 ,  597.24198237,\n",
       "          8.95886124, 1924.21690377, 2409.27140681, 3556.31594594,\n",
       "       4871.94194551, 4782.19921618, 2155.17378998,  376.76583333,\n",
       "          7.90090158, 2471.82418401, 4515.48149826, 2986.64314847,\n",
       "       3724.09567634, 3208.64686641, 5138.07412439,   35.71270718,\n",
       "                 nan, 5688.25079535, 5262.46646904, 3165.0605867 ,\n",
       "       3231.63943369, 2532.99695611, 3288.81403655,           nan,\n",
       "        142.85082873, 3863.85787901, 6416.0867248 , 5448.25154235,\n",
       "       4079.73153383, 2134.02540236, 4486.34097862,  313.53898127,\n",
       "         70.39927392,  449.72327313, 2801.97224468, 1527.54519627,\n",
       "       1653.15892311, 3073.99803898, 5251.21748723,  683.88227339,\n",
       "          9.15254237,  851.06791492, 3800.2473108 ,  730.92975659,\n",
       "       1859.53966338, 4379.2250408 , 5059.00551511, 2281.32864013])"
      ]
     },
     "execution_count": 5,
     "metadata": {},
     "output_type": "execute_result"
    }
   ],
   "source": [
    "selectPercentile.scores_"
   ]
  },
  {
   "cell_type": "code",
   "execution_count": 6,
   "metadata": {},
   "outputs": [
    {
     "data": {
      "text/plain": [
       "array([            nan, 5.81310493e-169, 0.00000000e+000, 1.17740541e-144,\n",
       "       8.11314242e-089, 0.00000000e+000, 0.00000000e+000, 2.97727113e-251,\n",
       "       3.20626273e-003, 0.00000000e+000, 0.00000000e+000, 4.41344943e-078,\n",
       "       1.02825052e-171, 0.00000000e+000, 0.00000000e+000, 8.18335060e-123,\n",
       "       4.41080315e-001, 0.00000000e+000, 0.00000000e+000, 0.00000000e+000,\n",
       "       0.00000000e+000, 0.00000000e+000, 0.00000000e+000, 1.23435651e-075,\n",
       "       5.44163062e-001, 0.00000000e+000, 0.00000000e+000, 0.00000000e+000,\n",
       "       0.00000000e+000, 0.00000000e+000, 0.00000000e+000, 4.45801029e-005,\n",
       "                   nan, 0.00000000e+000, 0.00000000e+000, 0.00000000e+000,\n",
       "       0.00000000e+000, 0.00000000e+000, 0.00000000e+000,             nan,\n",
       "       2.65875300e-026, 0.00000000e+000, 0.00000000e+000, 0.00000000e+000,\n",
       "       0.00000000e+000, 0.00000000e+000, 0.00000000e+000, 3.49452723e-062,\n",
       "       1.27145348e-011, 3.28604761e-091, 0.00000000e+000, 0.00000000e+000,\n",
       "       0.00000000e+000, 0.00000000e+000, 0.00000000e+000, 2.01600539e-141,\n",
       "       4.23314114e-001, 2.14859356e-177, 0.00000000e+000, 1.54562173e-151,\n",
       "       0.00000000e+000, 0.00000000e+000, 0.00000000e+000, 0.00000000e+000])"
      ]
     },
     "execution_count": 6,
     "metadata": {},
     "output_type": "execute_result"
    }
   ],
   "source": [
    "selectPercentile.pvalues_"
   ]
  },
  {
   "cell_type": "code",
   "execution_count": 7,
   "id": "6f2f003d",
   "metadata": {},
   "outputs": [
    {
     "name": "stdout",
     "output_type": "stream",
     "text": [
      "ok_\n"
     ]
    }
   ],
   "source": [
    "print('ok_')"
   ]
  }
 ],
 "metadata": {
  "kernelspec": {
   "display_name": "Python 3 (ipykernel)",
   "language": "python",
   "name": "python3"
  },
  "language_info": {
   "codemirror_mode": {
    "name": "ipython",
    "version": 3
   },
   "file_extension": ".py",
   "mimetype": "text/x-python",
   "name": "python",
   "nbconvert_exporter": "python",
   "pygments_lexer": "ipython3",
   "version": "3.11.5"
  },
  "vscode": {
   "interpreter": {
    "hash": "5238573367df39f7286bb46f9ff5f08f63a01a80960060ce41e3c79b190280fa"
   }
  }
 },
 "nbformat": 4,
 "nbformat_minor": 5
}
