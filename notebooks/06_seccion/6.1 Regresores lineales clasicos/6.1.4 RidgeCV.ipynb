{
 "cells": [
  {
   "attachments": {},
   "cell_type": "markdown",
   "id": "6bfc8fc6",
   "metadata": {},
   "source": [
    "# 6.1.4 RidgeCV"
   ]
  },
  {
   "cell_type": "code",
   "execution_count": 1,
   "id": "53b57b40",
   "metadata": {},
   "outputs": [],
   "source": [
    "%load_ext autoreload\n",
    "%autoreload 2"
   ]
  },
  {
   "cell_type": "code",
   "execution_count": 2,
   "id": "5fb86f3c",
   "metadata": {},
   "outputs": [],
   "source": [
    "import matplotlib.pyplot as plt\n",
    "import numpy as np\n",
    "from sklearn.datasets import load_diabetes\n",
    "from sklearn.linear_model import RidgeCV\n",
    "\n",
    "import warnings\n",
    "warnings.filterwarnings(\"ignore\")"
   ]
  },
  {
   "cell_type": "markdown",
   "id": "8513e901",
   "metadata": {},
   "source": [
    "Implementa la regresión Ridge con validación cruzada.\n",
    "\n",
    "Por defecto usa leave-on-out cross-validation."
   ]
  },
  {
   "cell_type": "code",
   "execution_count": 11,
   "metadata": {},
   "outputs": [],
   "source": [
    "X, y = load_diabetes(return_X_y=True)"
   ]
  },
  {
   "cell_type": "code",
   "execution_count": 24,
   "metadata": {},
   "outputs": [
    {
     "data": {
      "text/plain": [
       "0.516627803029865"
      ]
     },
     "execution_count": 24,
     "metadata": {},
     "output_type": "execute_result"
    }
   ],
   "source": [
    "ridgeClassifierCV = RidgeCV(\n",
    "    # ---------------------------------------------------------------------\n",
    "    # Regularization strength; must be a positive float. Regularization\n",
    "    # improves the conditioning of the problem and reduces the variance of\n",
    "    # the estimates. Larger values specify stronger regularization. Alpha\n",
    "    # corresponds to 1 / (2C) in other linear models such as\n",
    "    # LogisticRegression or LinearSVC.\n",
    "    # alphas=(0.1, 1.0, 10.0),\n",
    "    alphas=[1e-3, 1e-2, 1e-1, 1],\n",
    "    # ---------------------------------------------------------------------\n",
    "    # Whether to fit the intercept for this model.\n",
    "    fit_intercept=True,\n",
    "    # ---------------------------------------------------------------------\n",
    "    # A string (see model evaluation documentation) or a scorer callable\n",
    "    # object / function with signature scorer(estimator, X, y).\n",
    "    scoring=None,\n",
    "    # ---------------------------------------------------------------------\n",
    "    # Determines the cross-validation splitting strategy. Possible inputs\n",
    "    # for cv are:\n",
    "    # * None, to use the efficient Leave-One-Out cross-validation\n",
    "    # * integer, to specify the number of folds.\n",
    "    # * CV splitter\n",
    "    # * An iterable yielding (train, test) splits as arrays of indices.\n",
    "    cv=None,\n",
    "    # ---------------------------------------------------------------------\n",
    "    # Flag indicating which strategy to use when performing Leave-One-Out\n",
    "    # Cross-Validation.\n",
    "    # * 'auto' : use 'svd' if n_samples > n_features, otherwise use 'eigen'\n",
    "    # * 'svd'\n",
    "    # * 'eigen' : force computation via eigendecomposition of X.X^T\n",
    "    gcv_mode='auto',\n",
    "    # ---------------------------------------------------------------------\n",
    "    # Flag indicating if the cross-validation values corresponding to each\n",
    "    # alpha should be stored in the cv_values_ attribute (see below). This\n",
    "    # flag is only compatible with cv=None (i.e. using Leave-One-Out\n",
    "    # Cross-Validation).\n",
    "    store_cv_values=False,\n",
    "    # ---------------------------------------------------------------------\n",
    "    # Flag indicating whether to optimize the alpha value (picked from the\n",
    "    # alphas parameter list) for each target separately (for multi-output\n",
    "    # settings: multiple prediction targets). When set to True, after\n",
    "    # fitting, the alpha_ attribute will contain a value for each target.\n",
    "    # When set to False, a single alpha is used for all targets.\n",
    "    alpha_per_target=False,\n",
    ")\n",
    "\n",
    "ridgeClassifierCV.fit(X, y)\n",
    "\n",
    "ridgeClassifierCV.score(X, y)"
   ]
  },
  {
   "cell_type": "code",
   "execution_count": 25,
   "metadata": {},
   "outputs": [
    {
     "data": {
      "text/plain": [
       "0.01"
      ]
     },
     "execution_count": 25,
     "metadata": {},
     "output_type": "execute_result"
    }
   ],
   "source": [
    "ridgeClassifierCV.alpha_"
   ]
  },
  {
   "cell_type": "code",
   "execution_count": 26,
   "metadata": {},
   "outputs": [
    {
     "data": {
      "text/plain": [
       "array([  -7.19753448, -234.54976419,  520.58860098,  320.51713055,\n",
       "       -380.6071353 ,  150.48467052,  -78.58927534,  130.31252148,\n",
       "        592.34795865,   71.13484405])"
      ]
     },
     "execution_count": 26,
     "metadata": {},
     "output_type": "execute_result"
    }
   ],
   "source": [
    "ridgeClassifierCV.coef_"
   ]
  },
  {
   "cell_type": "code",
   "execution_count": 13,
   "metadata": {},
   "outputs": [
    {
     "data": {
      "text/plain": [
       "152.133484162896"
      ]
     },
     "execution_count": 13,
     "metadata": {},
     "output_type": "execute_result"
    }
   ],
   "source": [
    "ridgeClassifierCV.intercept_"
   ]
  },
  {
   "cell_type": "code",
   "execution_count": null,
   "id": "6f2f003d",
   "metadata": {},
   "outputs": [
    {
     "name": "stdout",
     "output_type": "stream",
     "text": [
      "ok_\n"
     ]
    }
   ],
   "source": [
    "print('ok_')"
   ]
  }
 ],
 "metadata": {
  "kernelspec": {
   "display_name": "Python 3 (ipykernel)",
   "language": "python",
   "name": "python3"
  },
  "language_info": {
   "codemirror_mode": {
    "name": "ipython",
    "version": 3
   },
   "file_extension": ".py",
   "mimetype": "text/x-python",
   "name": "python",
   "nbconvert_exporter": "python",
   "pygments_lexer": "ipython3",
   "version": "3.11.5"
  },
  "vscode": {
   "interpreter": {
    "hash": "5238573367df39f7286bb46f9ff5f08f63a01a80960060ce41e3c79b190280fa"
   }
  }
 },
 "nbformat": 4,
 "nbformat_minor": 5
}
