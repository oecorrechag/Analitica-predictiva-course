{
 "cells": [
  {
   "attachments": {},
   "cell_type": "markdown",
   "id": "6bfc8fc6",
   "metadata": {},
   "source": [
    "# 6.2.7 RidgeClassifierCV"
   ]
  },
  {
   "cell_type": "code",
   "execution_count": 1,
   "id": "53b57b40",
   "metadata": {},
   "outputs": [],
   "source": [
    "%load_ext autoreload\n",
    "%autoreload 2"
   ]
  },
  {
   "cell_type": "code",
   "execution_count": 2,
   "id": "5fb86f3c",
   "metadata": {},
   "outputs": [],
   "source": [
    "from sklearn.datasets import load_breast_cancer\n",
    "from sklearn.linear_model import RidgeClassifierCV\n",
    "\n",
    "import warnings\n",
    "warnings.filterwarnings(\"ignore\")"
   ]
  },
  {
   "cell_type": "markdown",
   "metadata": {},
   "source": [
    "Implementa un clasificador usando regresión Ridge con validación cruzada. <br>\n",
    "Primero convierte $y$ en $\\{−1, 1\\}$, y luego resuelve el problema usando regresión. <br>\n",
    "Por defecto usa leave-one-out cross-validation."
   ]
  },
  {
   "cell_type": "code",
   "execution_count": 3,
   "metadata": {},
   "outputs": [],
   "source": [
    "X, y = load_breast_cancer(return_X_y=True)"
   ]
  },
  {
   "cell_type": "code",
   "execution_count": 4,
   "metadata": {},
   "outputs": [
    {
     "data": {
      "text/plain": [
       "0.9630931458699473"
      ]
     },
     "execution_count": 4,
     "metadata": {},
     "output_type": "execute_result"
    }
   ],
   "source": [
    "\n",
    "\n",
    "ridgeClassifierCV = RidgeClassifierCV(\n",
    "    # ---------------------------------------------------------------------\n",
    "    # Regularization strength; must be a positive float. Regularization\n",
    "    # improves the conditioning of the problem and reduces the variance of\n",
    "    # the estimates. Larger values specify stronger regularization. Alpha\n",
    "    # corresponds to 1 / (2C) in other linear models such as\n",
    "    # LogisticRegression or LinearSVC.\n",
    "    # alphas=(0.1, 1.0, 10.0),\n",
    "    alphas=[1e-3, 1e-2, 1e-1, 1],\n",
    "    # ---------------------------------------------------------------------\n",
    "    # Whether to fit the intercept for this model.\n",
    "    fit_intercept=True,\n",
    "    # ---------------------------------------------------------------------\n",
    "    # A string (see model evaluation documentation) or a scorer callable\n",
    "    # object / function with signature scorer(estimator, X, y).\n",
    "    scoring=None,\n",
    "    # ---------------------------------------------------------------------\n",
    "    # Determines the cross-validation splitting strategy. Possible inputs\n",
    "    # for cv are:\n",
    "    # * None, to use the efficient Leave-One-Out cross-validation\n",
    "    # * integer, to specify the number of folds.\n",
    "    # * CV splitter\n",
    "    # * An iterable yielding (train, test) splits as arrays of indices.\n",
    "    cv=None,\n",
    "    # ---------------------------------------------------------------------\n",
    "    # Weights associated with classes in the form {class_label: weight}\n",
    "    class_weight=None,\n",
    "    # ---------------------------------------------------------------------\n",
    "    # Flag indicating if the cross-validation values corresponding to each\n",
    "    # alpha should be stored in the cv_values_ attribute (see below). This\n",
    "    # flag is only compatible with cv=None (i.e. using Leave-One-Out\n",
    "    # Cross-Validation).\n",
    "    store_cv_values=False,\n",
    ")\n",
    "\n",
    "ridgeClassifierCV.fit(X, y)\n",
    "\n",
    "ridgeClassifierCV.score(X, y)"
   ]
  },
  {
   "cell_type": "code",
   "execution_count": 5,
   "metadata": {},
   "outputs": [
    {
     "data": {
      "text/plain": [
       "0.01"
      ]
     },
     "execution_count": 5,
     "metadata": {},
     "output_type": "execute_result"
    }
   ],
   "source": [
    "ridgeClassifierCV.alpha_"
   ]
  },
  {
   "cell_type": "code",
   "execution_count": 6,
   "metadata": {},
   "outputs": [
    {
     "data": {
      "text/plain": [
       "array([[ 2.70962810e-01, -1.99904472e-02, -2.68869779e-02,\n",
       "        -5.52130035e-04,  7.51784333e-01,  6.70081562e+00,\n",
       "        -2.24514478e+00, -3.78660924e+00, -2.34922271e-01,\n",
       "         3.05972457e-01, -9.50391185e-01, -3.25337487e-02,\n",
       "         7.39111511e-03,  3.34830405e-03, -5.15606649e+00,\n",
       "        -1.39236707e+00,  4.94530386e+00, -4.00371830e+00,\n",
       "        -2.54634379e+00, -1.35630031e-02, -3.49442568e-01,\n",
       "        -5.24646089e-03,  7.11490982e-03,  1.75379868e-03,\n",
       "        -4.16225726e+00, -5.32987896e-02, -6.21848378e-01,\n",
       "        -2.48894530e+00, -9.96733111e-01, -4.46615638e+00]])"
      ]
     },
     "execution_count": 6,
     "metadata": {},
     "output_type": "execute_result"
    }
   ],
   "source": [
    "ridgeClassifierCV.coef_"
   ]
  },
  {
   "cell_type": "code",
   "execution_count": 7,
   "metadata": {},
   "outputs": [
    {
     "data": {
      "text/plain": [
       "array([4.76061939])"
      ]
     },
     "execution_count": 7,
     "metadata": {},
     "output_type": "execute_result"
    }
   ],
   "source": [
    "ridgeClassifierCV.intercept_"
   ]
  },
  {
   "cell_type": "code",
   "execution_count": 8,
   "id": "6f2f003d",
   "metadata": {},
   "outputs": [
    {
     "name": "stdout",
     "output_type": "stream",
     "text": [
      "ok_\n"
     ]
    }
   ],
   "source": [
    "print('ok_')"
   ]
  }
 ],
 "metadata": {
  "kernelspec": {
   "display_name": "Python 3 (ipykernel)",
   "language": "python",
   "name": "python3"
  },
  "language_info": {
   "codemirror_mode": {
    "name": "ipython",
    "version": 3
   },
   "file_extension": ".py",
   "mimetype": "text/x-python",
   "name": "python",
   "nbconvert_exporter": "python",
   "pygments_lexer": "ipython3",
   "version": "3.11.5"
  },
  "vscode": {
   "interpreter": {
    "hash": "5238573367df39f7286bb46f9ff5f08f63a01a80960060ce41e3c79b190280fa"
   }
  }
 },
 "nbformat": 4,
 "nbformat_minor": 5
}
