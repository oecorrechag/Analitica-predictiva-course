{
 "cells": [
  {
   "attachments": {},
   "cell_type": "markdown",
   "id": "6bfc8fc6",
   "metadata": {},
   "source": [
    "# 6.3.1 Elastic-Net"
   ]
  },
  {
   "cell_type": "code",
   "execution_count": 1,
   "id": "53b57b40",
   "metadata": {},
   "outputs": [],
   "source": [
    "%load_ext autoreload\n",
    "%autoreload 2"
   ]
  },
  {
   "cell_type": "code",
   "execution_count": 2,
   "id": "5fb86f3c",
   "metadata": {},
   "outputs": [],
   "source": [
    "from sklearn.datasets import load_diabetes\n",
    "from sklearn.linear_model import ElasticNet\n",
    "\n",
    "import warnings\n",
    "warnings.filterwarnings(\"ignore\")"
   ]
  },
  {
   "cell_type": "markdown",
   "metadata": {},
   "source": [
    "Es un modelo de regresión lineal que combina los regularizadores **L1** y **L2**.<br>\n",
    "Para la estimación de los parámetros se minimiza la función objetivo:\n",
    "\n",
    "$$ min_{w} \\frac{1}{2n} ||X_w − y||^2_2 + \\alpha ∗ l1 \\ ratio ∗ ||w||_1 + 0.5 ∗ \\alpha ∗ (1 − l1 \\ ratio) ∗ ||w||^2_2 $$"
   ]
  },
  {
   "cell_type": "code",
   "execution_count": 3,
   "metadata": {},
   "outputs": [],
   "source": [
    "X, y = load_diabetes(return_X_y=True)"
   ]
  },
  {
   "cell_type": "code",
   "execution_count": 4,
   "metadata": {},
   "outputs": [
    {
     "data": {
      "text/plain": [
       "0.008834748998299613"
      ]
     },
     "execution_count": 4,
     "metadata": {},
     "output_type": "execute_result"
    }
   ],
   "source": [
    "elasticNet = ElasticNet(\n",
    "    # --------------------------------------------------------------------------\n",
    "    # Constant that multiplies the penalty terms. alpha = 0 is equivalent to an\n",
    "    # ordinary least square, solved by the LinearRegression object.\n",
    "    alpha=1.0,\n",
    "    # --------------------------------------------------------------------------\n",
    "    # The ElasticNet mixing parameter, with 0 <= l1_ratio <= 1. For l1_ratio = 0\n",
    "    # the penalty is an L2 penalty. For l1_ratio = 1 it is an L1 penalty. For\n",
    "    # 0 < l1_ratio < 1, the penalty is a combination of L1 and L2.\n",
    "    l1_ratio=0.5,\n",
    "    # ---------------------------------------------------------------------\n",
    "    # Whether to fit the intercept for this model.\n",
    "    fit_intercept=True,\n",
    "    # ---------------------------------------------------------------------\n",
    "    # Maximum number of iterations.\n",
    "    max_iter=1000,\n",
    "    # --------------------------------------------------------------------------\n",
    "    # The tolerance for the optimization\n",
    "    tol=1e-4,\n",
    "    # --------------------------------------------------------------------------\n",
    "    # When set to True, reuse the solution of the previous call to fit as\n",
    "    # initialization, otherwise, just erase the previous solution.\n",
    "    warm_start=False,\n",
    "    # --------------------------------------------------------------------------\n",
    "    # When set to True, forces the coefficients to be positive.\n",
    "    positive=False,\n",
    "    # --------------------------------------------------------------------------\n",
    "    # The seed of the pseudo random number generator that selects a random\n",
    "    # feature to update. Used when selection == ‘random’. Pass an int for\n",
    "    # reproducible output across multiple function calls.\n",
    "    random_state=None,\n",
    "    # --------------------------------------------------------------------------\n",
    "    # If set to ‘random’, a random coefficient is updated every iteration rather\n",
    "    # than looping over features sequentially by default. This (setting to\n",
    "    # ‘random’) often leads to significantly faster convergence especially when\n",
    "    # tol is higher than 1e-4.\n",
    "    selection='cyclic',\n",
    ")\n",
    "\n",
    "elasticNet.fit(X, y)\n",
    "\n",
    "elasticNet.score(X, y)"
   ]
  },
  {
   "cell_type": "code",
   "execution_count": 5,
   "metadata": {},
   "outputs": [
    {
     "data": {
      "text/plain": [
       "array([152.47026911, 151.30027724, 152.28156137, 152.18914366,\n",
       "       151.86848678, 151.33155287, 151.55248058, 152.26126753,\n",
       "       152.27687719, 152.37436142])"
      ]
     },
     "execution_count": 5,
     "metadata": {},
     "output_type": "execute_result"
    }
   ],
   "source": [
    "elasticNet.predict(X)[0:10]"
   ]
  },
  {
   "cell_type": "code",
   "execution_count": 6,
   "metadata": {},
   "outputs": [
    {
     "data": {
      "text/plain": [
       "array([ 0.35901793,  0.        ,  3.25976736,  2.20434042,  0.52864562,\n",
       "        0.25093515, -1.86136322,  2.11445407,  3.10583468,  1.76985102])"
      ]
     },
     "execution_count": 6,
     "metadata": {},
     "output_type": "execute_result"
    }
   ],
   "source": [
    "elasticNet.coef_"
   ]
  },
  {
   "cell_type": "code",
   "execution_count": 7,
   "metadata": {},
   "outputs": [
    {
     "data": {
      "text/plain": [
       "152.13348416289594"
      ]
     },
     "execution_count": 7,
     "metadata": {},
     "output_type": "execute_result"
    }
   ],
   "source": [
    "elasticNet.intercept_"
   ]
  },
  {
   "cell_type": "code",
   "execution_count": 8,
   "id": "6f2f003d",
   "metadata": {},
   "outputs": [
    {
     "name": "stdout",
     "output_type": "stream",
     "text": [
      "ok_\n"
     ]
    }
   ],
   "source": [
    "print('ok_')"
   ]
  }
 ],
 "metadata": {
  "kernelspec": {
   "display_name": "Python 3 (ipykernel)",
   "language": "python",
   "name": "python3"
  },
  "language_info": {
   "codemirror_mode": {
    "name": "ipython",
    "version": 3
   },
   "file_extension": ".py",
   "mimetype": "text/x-python",
   "name": "python",
   "nbconvert_exporter": "python",
   "pygments_lexer": "ipython3",
   "version": "3.11.5"
  },
  "vscode": {
   "interpreter": {
    "hash": "5238573367df39f7286bb46f9ff5f08f63a01a80960060ce41e3c79b190280fa"
   }
  }
 },
 "nbformat": 4,
 "nbformat_minor": 5
}
