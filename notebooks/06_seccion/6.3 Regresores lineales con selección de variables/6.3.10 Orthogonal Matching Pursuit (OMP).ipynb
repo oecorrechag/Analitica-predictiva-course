{
 "cells": [
  {
   "attachments": {},
   "cell_type": "markdown",
   "id": "6bfc8fc6",
   "metadata": {},
   "source": [
    "# 6.3.10 Orthogonal Matching Pursuit (OMP)"
   ]
  },
  {
   "cell_type": "code",
   "execution_count": 6,
   "id": "53b57b40",
   "metadata": {},
   "outputs": [
    {
     "name": "stdout",
     "output_type": "stream",
     "text": [
      "The autoreload extension is already loaded. To reload it, use:\n",
      "  %reload_ext autoreload\n"
     ]
    }
   ],
   "source": [
    "%load_ext autoreload\n",
    "%autoreload 2"
   ]
  },
  {
   "cell_type": "code",
   "execution_count": 7,
   "id": "5fb86f3c",
   "metadata": {},
   "outputs": [],
   "source": [
    "from sklearn.datasets import load_diabetes\n",
    "from sklearn.linear_model import OrthogonalMatchingPursuit\n",
    "\n",
    "import warnings\n",
    "warnings.filterwarnings(\"ignore\")"
   ]
  },
  {
   "cell_type": "markdown",
   "metadata": {},
   "source": [
    "Ajusta un modelo de regresión lineal con restricciones sobre la cantidad de coeficientes diferentes de cero (norma $||w||_0$). <br>\n",
    "Para la estimación de los parámetros se minimiza la función objetivo:\n",
    "\n",
    "$$ min_{w}||X_w − y||^2_2 $$\n",
    "\n",
    "sujeto a:\n",
    "\n",
    "$$ ||w||_0 \\leq n_{non \\ zero \\ coefs} $$\n",
    "\n",
    "Alternativamente, en el algorimto puede especificarse un error en vez de la cantidad de coeficientes diferentes de cero. En este caso la función objetivo es:\n",
    "\n",
    "$$ min_w||w||_0 $$\n",
    "\n",
    "sujeto a:\n",
    "\n",
    "$$ ||X_w − y||^2_2 \\leq tol $$"
   ]
  },
  {
   "cell_type": "code",
   "execution_count": 8,
   "metadata": {},
   "outputs": [],
   "source": [
    "X, y = load_diabetes(return_X_y=True)"
   ]
  },
  {
   "cell_type": "code",
   "execution_count": 9,
   "metadata": {},
   "outputs": [
    {
     "data": {
      "text/plain": [
       "0.3439237602253802"
      ]
     },
     "execution_count": 9,
     "metadata": {},
     "output_type": "execute_result"
    }
   ],
   "source": [
    "omp = OrthogonalMatchingPursuit(\n",
    "    # --------------------------------------------------------------------------\n",
    "    # Desired number of non-zero entries in the solution. If None (by default)\n",
    "    # this value is set to 10% of n_features.\n",
    "    n_nonzero_coefs=None,\n",
    "    # --------------------------------------------------------------------------\n",
    "    # Maximum norm of the residual. If not None, overrides n_nonzero_coefs.\n",
    "    tol=None,\n",
    "    # --------------------------------------------------------------------------\n",
    "    # Whether to calculate the intercept for this model. If set to false, no\n",
    "    # intercept will be used in calculations (i.e. data is expected to be\n",
    "    # centered).\n",
    "    fit_intercept=True,\n",
    ")\n",
    "\n",
    "omp.fit(X, y)\n",
    "\n",
    "omp.score(X, y)"
   ]
  },
  {
   "cell_type": "code",
   "execution_count": 10,
   "metadata": {},
   "outputs": [
    {
     "data": {
      "text/plain": [
       "array([210.71003806, 103.26219543, 194.33703347, 141.12476855,\n",
       "       117.58857445, 113.4953233 , 107.35544658, 150.33458363,\n",
       "       210.71003806, 189.22046954])"
      ]
     },
     "execution_count": 10,
     "metadata": {},
     "output_type": "execute_result"
    }
   ],
   "source": [
    "omp.predict(X)[0:10]"
   ]
  },
  {
   "cell_type": "code",
   "execution_count": 11,
   "metadata": {},
   "outputs": [
    {
     "data": {
      "text/plain": [
       "array([  0.        ,   0.        , 949.43526038,   0.        ,\n",
       "         0.        ,   0.        ,   0.        ,   0.        ,\n",
       "         0.        ,   0.        ])"
      ]
     },
     "execution_count": 11,
     "metadata": {},
     "output_type": "execute_result"
    }
   ],
   "source": [
    "omp.coef_"
   ]
  },
  {
   "cell_type": "code",
   "execution_count": 12,
   "metadata": {},
   "outputs": [
    {
     "data": {
      "text/plain": [
       "152.13348416289617"
      ]
     },
     "execution_count": 12,
     "metadata": {},
     "output_type": "execute_result"
    }
   ],
   "source": [
    "omp.intercept_"
   ]
  },
  {
   "cell_type": "code",
   "execution_count": 13,
   "metadata": {},
   "outputs": [
    {
     "data": {
      "text/plain": [
       "1"
      ]
     },
     "execution_count": 13,
     "metadata": {},
     "output_type": "execute_result"
    }
   ],
   "source": [
    "omp.n_nonzero_coefs_"
   ]
  },
  {
   "cell_type": "code",
   "execution_count": 14,
   "id": "6f2f003d",
   "metadata": {},
   "outputs": [
    {
     "name": "stdout",
     "output_type": "stream",
     "text": [
      "ok_\n"
     ]
    }
   ],
   "source": [
    "print('ok_')"
   ]
  }
 ],
 "metadata": {
  "kernelspec": {
   "display_name": "Python 3 (ipykernel)",
   "language": "python",
   "name": "python3"
  },
  "language_info": {
   "codemirror_mode": {
    "name": "ipython",
    "version": 3
   },
   "file_extension": ".py",
   "mimetype": "text/x-python",
   "name": "python",
   "nbconvert_exporter": "python",
   "pygments_lexer": "ipython3",
   "version": "3.11.5"
  },
  "vscode": {
   "interpreter": {
    "hash": "5238573367df39f7286bb46f9ff5f08f63a01a80960060ce41e3c79b190280fa"
   }
  }
 },
 "nbformat": 4,
 "nbformat_minor": 5
}
