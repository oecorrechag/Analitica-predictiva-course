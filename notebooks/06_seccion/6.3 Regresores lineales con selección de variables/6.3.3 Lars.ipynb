{
 "cells": [
  {
   "attachments": {},
   "cell_type": "markdown",
   "id": "6bfc8fc6",
   "metadata": {},
   "source": [
    "# 6.3.2 ElasticNetCV"
   ]
  },
  {
   "cell_type": "code",
   "execution_count": 1,
   "id": "53b57b40",
   "metadata": {},
   "outputs": [],
   "source": [
    "%load_ext autoreload\n",
    "%autoreload 2"
   ]
  },
  {
   "cell_type": "code",
   "execution_count": 2,
   "id": "5fb86f3c",
   "metadata": {},
   "outputs": [],
   "source": [
    "from sklearn.datasets import load_diabetes\n",
    "from sklearn.linear_model import Lars\n",
    "\n",
    "import warnings\n",
    "warnings.filterwarnings(\"ignore\")"
   ]
  },
  {
   "cell_type": "markdown",
   "metadata": {},
   "source": [
    "Es numericamente eficiente cuando el número de características es significativamente mayor que el número de muestras. <br>\n",
    "Opera de una forma similar a selección de variables hacia adelante (forward). <br>\n",
    "En cada paso, encuentra la característica más correlacionada con $y$. <br>\n",
    "Cuando hay varias características con la misma correlación, continua en una dirección equiángular entre características. <br>\n",
    "Es computacionalmente tan rápido como la selección de variables hacia adelante y tiene el mismo orden de complejidad del método de mínimos cuadrados ordinarios. <br>\n",
    "Es facilmente modificable para producir soluciones para otros estimadores, i.e., Lasso. <br>\n",
    "Puede ser muy sensible a la presencia de outliers."
   ]
  },
  {
   "cell_type": "code",
   "execution_count": 3,
   "metadata": {},
   "outputs": [],
   "source": [
    "X, y = load_diabetes(return_X_y=True)"
   ]
  },
  {
   "cell_type": "code",
   "execution_count": 4,
   "metadata": {},
   "outputs": [
    {
     "data": {
      "text/plain": [
       "0.5177484222203498"
      ]
     },
     "execution_count": 4,
     "metadata": {},
     "output_type": "execute_result"
    }
   ],
   "source": [
    "lars = Lars(\n",
    "    # ---------------------------------------------------------------------\n",
    "    # Whether to fit the intercept for this model.\n",
    "    fit_intercept=True,\n",
    "    # ---------------------------------------------------------------------\n",
    "    # Target number of non-zero coefficients. Use np.inf for no limit.\n",
    "    n_nonzero_coefs=500,\n",
    "    # ---------------------------------------------------------------------\n",
    "    # If True the full path is stored in the coef_path_ attribute. If you\n",
    "    # compute the solution for a large problem or many targets, setting\n",
    "    # fit_path to False will lead to a speedup, especially with a small\n",
    "    # alpha.\n",
    "    fit_path=True,\n",
    "    # ---------------------------------------------------------------------\n",
    "    # Upper bound on a uniform noise parameter to be added to the y values,\n",
    "    # to satisfy the model’s assumption of one-at-a-time computations.\n",
    "    # Might help with stability.\n",
    "    jitter=None,\n",
    "    # --------------------------------------------------------------------------\n",
    "    # Determines random number generation for jittering. Pass an int for\n",
    "    # reproducible output across multiple function calls. Ignored if jitter\n",
    "    # is None.\n",
    "    random_state=None,\n",
    ")\n",
    "\n",
    "lars.fit(X, y)\n",
    "\n",
    "lars.score(X, y)"
   ]
  },
  {
   "cell_type": "code",
   "execution_count": 5,
   "metadata": {},
   "outputs": [
    {
     "data": {
      "text/plain": [
       "array([206.11667725,  68.07103297, 176.88279035, 166.91445843,\n",
       "       128.46225834, 106.35191443,  73.89134662, 118.85423042,\n",
       "       158.80889721, 213.58462442])"
      ]
     },
     "execution_count": 5,
     "metadata": {},
     "output_type": "execute_result"
    }
   ],
   "source": [
    "lars.predict(X)[0:10]"
   ]
  },
  {
   "cell_type": "code",
   "execution_count": 6,
   "metadata": {},
   "outputs": [
    {
     "data": {
      "text/plain": [
       "array([ -10.0098663 , -239.81564367,  519.84592005,  324.3846455 ,\n",
       "       -792.17563855,  476.73902101,  101.04326794,  177.06323767,\n",
       "        751.27369956,   67.62669218])"
      ]
     },
     "execution_count": 6,
     "metadata": {},
     "output_type": "execute_result"
    }
   ],
   "source": [
    "lars.coef_"
   ]
  },
  {
   "cell_type": "code",
   "execution_count": 7,
   "metadata": {},
   "outputs": [
    {
     "data": {
      "text/plain": [
       "152.13348416289597"
      ]
     },
     "execution_count": 7,
     "metadata": {},
     "output_type": "execute_result"
    }
   ],
   "source": [
    "lars.intercept_"
   ]
  },
  {
   "cell_type": "code",
   "execution_count": 8,
   "id": "6f2f003d",
   "metadata": {},
   "outputs": [
    {
     "name": "stdout",
     "output_type": "stream",
     "text": [
      "ok_\n"
     ]
    }
   ],
   "source": [
    "print('ok_')"
   ]
  }
 ],
 "metadata": {
  "kernelspec": {
   "display_name": "Python 3 (ipykernel)",
   "language": "python",
   "name": "python3"
  },
  "language_info": {
   "codemirror_mode": {
    "name": "ipython",
    "version": 3
   },
   "file_extension": ".py",
   "mimetype": "text/x-python",
   "name": "python",
   "nbconvert_exporter": "python",
   "pygments_lexer": "ipython3",
   "version": "3.11.5"
  },
  "vscode": {
   "interpreter": {
    "hash": "5238573367df39f7286bb46f9ff5f08f63a01a80960060ce41e3c79b190280fa"
   }
  }
 },
 "nbformat": 4,
 "nbformat_minor": 5
}
