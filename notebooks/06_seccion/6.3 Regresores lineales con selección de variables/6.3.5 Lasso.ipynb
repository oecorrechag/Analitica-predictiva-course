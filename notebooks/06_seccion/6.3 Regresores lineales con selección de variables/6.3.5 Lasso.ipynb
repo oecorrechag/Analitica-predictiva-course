{
 "cells": [
  {
   "attachments": {},
   "cell_type": "markdown",
   "id": "6bfc8fc6",
   "metadata": {},
   "source": [
    "# 6.3.5 Lasso"
   ]
  },
  {
   "cell_type": "code",
   "execution_count": 1,
   "id": "53b57b40",
   "metadata": {},
   "outputs": [],
   "source": [
    "%load_ext autoreload\n",
    "%autoreload 2"
   ]
  },
  {
   "cell_type": "code",
   "execution_count": 2,
   "id": "5fb86f3c",
   "metadata": {},
   "outputs": [],
   "source": [
    "from sklearn.datasets import load_diabetes\n",
    "from sklearn.linear_model import Lasso\n",
    "\n",
    "import warnings\n",
    "warnings.filterwarnings(\"ignore\")"
   ]
  },
  {
   "cell_type": "markdown",
   "metadata": {},
   "source": [
    "## 6.3.5.1 Modelo de regresión lineal con penalización L1. \n",
    "\n",
    "Para la estimación de los parámetros se minimiza la función objetivo:\n",
    "\n",
    "$$ min_{w} \\frac{1}{2n} ||X_w − y||^2_2 + \\alpha ||w||_1 $$\n",
    "\n",
    "Tiende a preferir soluciones con pocos coeficientes diferentes de cero, reduciendo el número de características sobre las cuales la solución es dependiente. <br>\n",
    "Bajo ciertas condiciones, puede recuperar el conjunto exacto de coeficientes diferentes de cero. <br>\n",
    "La implementación de sklearn usa el algoritmo de coordenadas descendentes para estimar los parámetros del modelo."
   ]
  },
  {
   "cell_type": "code",
   "execution_count": 3,
   "metadata": {},
   "outputs": [],
   "source": [
    "X, y = load_diabetes(return_X_y=True)"
   ]
  },
  {
   "cell_type": "code",
   "execution_count": 4,
   "metadata": {},
   "outputs": [],
   "source": [
    "lasso = Lasso(\n",
    "    # --------------------------------------------------------------------------\n",
    "    # Constant that multiplies the L1 term, controlling regularization strength.\n",
    "    # alpha must be a non-negative float i.e. in [0, inf). When alpha = 0, the\n",
    "    # objective is equivalent to ordinary least squares, solved by the\n",
    "    # LinearRegression object.\n",
    "    alpha=1.0,\n",
    "    # ---------------------------------------------------------------------\n",
    "    # Whether to fit the intercept for this model.\n",
    "    fit_intercept=True,\n",
    "    # ---------------------------------------------------------------------\n",
    "    # Maximum number of iterations.\n",
    "    max_iter=1000,\n",
    "    # --------------------------------------------------------------------------\n",
    "    # The tolerance for the optimization\n",
    "    tol=1e-4,\n",
    "    # --------------------------------------------------------------------------\n",
    "    # When set to True, reuse the solution of the previous call to fit as\n",
    "    # initialization, otherwise, just erase the previous solution.\n",
    "    warm_start=False,\n",
    "    # --------------------------------------------------------------------------\n",
    "    # When set to True, forces the coefficients to be positive.\n",
    "    positive=False,\n",
    "    # --------------------------------------------------------------------------\n",
    "    # The seed of the pseudo random number generator that selects a random\n",
    "    # feature to update. Used when selection == ‘random’. Pass an int for\n",
    "    # reproducible output across multiple function calls.\n",
    "    random_state=None,\n",
    "    # --------------------------------------------------------------------------\n",
    "    # If set to ‘random’, a random coefficient is updated every iteration rather\n",
    "    # than looping over features sequentially by default. This (setting to\n",
    "    # ‘random’) often leads to significantly faster convergence especially when\n",
    "    # tol is higher than 1e-4.\n",
    "    selection='cyclic',\n",
    ")"
   ]
  },
  {
   "cell_type": "code",
   "execution_count": 5,
   "metadata": {},
   "outputs": [
    {
     "data": {
      "text/plain": [
       "0.357378738231628"
      ]
     },
     "execution_count": 5,
     "metadata": {},
     "output_type": "execute_result"
    }
   ],
   "source": [
    "lasso.fit(X, y)\n",
    "\n",
    "lasso.score(X, y)"
   ]
  },
  {
   "cell_type": "code",
   "execution_count": 6,
   "metadata": {},
   "outputs": [
    {
     "data": {
      "text/plain": [
       "array([  0.        ,  -0.        , 367.70385976,   6.29885756,\n",
       "         0.        ,   0.        ,  -0.        ,   0.        ,\n",
       "       307.6054181 ,   0.        ])"
      ]
     },
     "execution_count": 6,
     "metadata": {},
     "output_type": "execute_result"
    }
   ],
   "source": [
    "lasso.coef_"
   ]
  },
  {
   "cell_type": "code",
   "execution_count": 7,
   "metadata": {},
   "outputs": [
    {
     "data": {
      "text/plain": [
       "152.133484162896"
      ]
     },
     "execution_count": 7,
     "metadata": {},
     "output_type": "execute_result"
    }
   ],
   "source": [
    "lasso.intercept_"
   ]
  },
  {
   "cell_type": "code",
   "execution_count": 8,
   "id": "6f2f003d",
   "metadata": {},
   "outputs": [
    {
     "name": "stdout",
     "output_type": "stream",
     "text": [
      "ok_\n"
     ]
    }
   ],
   "source": [
    "print('ok_')"
   ]
  }
 ],
 "metadata": {
  "kernelspec": {
   "display_name": "Python 3 (ipykernel)",
   "language": "python",
   "name": "python3"
  },
  "language_info": {
   "codemirror_mode": {
    "name": "ipython",
    "version": 3
   },
   "file_extension": ".py",
   "mimetype": "text/x-python",
   "name": "python",
   "nbconvert_exporter": "python",
   "pygments_lexer": "ipython3",
   "version": "3.11.5"
  },
  "vscode": {
   "interpreter": {
    "hash": "5238573367df39f7286bb46f9ff5f08f63a01a80960060ce41e3c79b190280fa"
   }
  }
 },
 "nbformat": 4,
 "nbformat_minor": 5
}
