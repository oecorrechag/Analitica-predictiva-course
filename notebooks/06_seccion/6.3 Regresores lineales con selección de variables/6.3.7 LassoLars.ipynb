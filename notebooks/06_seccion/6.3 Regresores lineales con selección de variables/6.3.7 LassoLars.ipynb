{
 "cells": [
  {
   "attachments": {},
   "cell_type": "markdown",
   "id": "6bfc8fc6",
   "metadata": {},
   "source": [
    "# 6.3.7 LassoLars"
   ]
  },
  {
   "cell_type": "code",
   "execution_count": 1,
   "id": "53b57b40",
   "metadata": {},
   "outputs": [],
   "source": [
    "%load_ext autoreload\n",
    "%autoreload 2"
   ]
  },
  {
   "cell_type": "code",
   "execution_count": 2,
   "id": "5fb86f3c",
   "metadata": {},
   "outputs": [],
   "source": [
    "from sklearn.datasets import load_diabetes\n",
    "from sklearn.linear_model import LassoLars\n",
    "\n",
    "import warnings\n",
    "warnings.filterwarnings(\"ignore\")"
   ]
  },
  {
   "cell_type": "markdown",
   "metadata": {},
   "source": [
    "Modelo Lasso ajustado con el algoritmo LARS. <br>\n",
    "Para la estimación de los parámetros se minimiza la función objetivo:\n",
    "\n",
    "$$ min_{w} \\frac{1}{2n} ||X_w − y||^2_2 + \\alpha ||w||_1 $$"
   ]
  },
  {
   "cell_type": "code",
   "execution_count": 3,
   "metadata": {},
   "outputs": [],
   "source": [
    "X, y = load_diabetes(return_X_y=True)"
   ]
  },
  {
   "cell_type": "code",
   "execution_count": 4,
   "metadata": {},
   "outputs": [
    {
     "data": {
      "text/plain": [
       "0.3573805394842746"
      ]
     },
     "execution_count": 4,
     "metadata": {},
     "output_type": "execute_result"
    }
   ],
   "source": [
    "lassoLars = LassoLars(\n",
    "    # --------------------------------------------------------------------------\n",
    "    # Constant that multiplies the L1 term, controlling regularization strength.\n",
    "    # alpha must be a non-negative float i.e. in [0, inf). When alpha = 0, the\n",
    "    # objective is equivalent to ordinary least squares, solved by the\n",
    "    # LinearRegression object.\n",
    "    alpha=1.0,\n",
    "    # ---------------------------------------------------------------------\n",
    "    # Whether to fit the intercept for this model.\n",
    "    fit_intercept=True,\n",
    "    # ---------------------------------------------------------------------\n",
    "    # Maximum number of iterations.\n",
    "    max_iter=1000,\n",
    "    # ---------------------------------------------------------------------\n",
    "    # If True the full path is stored in the coef_path_ attribute. If you\n",
    "    # compute the solution for a large problem or many targets, setting\n",
    "    # fit_path to False will lead to a speedup, especially with a small\n",
    "    # alpha.\n",
    "    fit_path=True,\n",
    "    # --------------------------------------------------------------------------\n",
    "    # When set to True, forces the coefficients to be positive.\n",
    "    positive=False,\n",
    "    # ---------------------------------------------------------------------\n",
    "    # Upper bound on a uniform noise parameter to be added to the y values,\n",
    "    # to satisfy the model’s assumption of one-at-a-time computations.\n",
    "    # Might help with stability.\n",
    "    jitter=None,\n",
    "    # --------------------------------------------------------------------------\n",
    "    # Determines random number generation for jittering. Pass an int for\n",
    "    # reproducible output across multiple function calls. Ignored if jitter\n",
    "    # is None.\n",
    "    random_state=None,\n",
    ")\n",
    "\n",
    "lassoLars.fit(X, y)\n",
    "\n",
    "lassoLars.score(X, y)"
   ]
  },
  {
   "cell_type": "code",
   "execution_count": 5,
   "metadata": {},
   "outputs": [
    {
     "data": {
      "text/plain": [
       "array([  0.        ,   0.        , 367.70162582,   6.30970264,\n",
       "         0.        ,   0.        ,   0.        ,   0.        ,\n",
       "       307.60214746,   0.        ])"
      ]
     },
     "execution_count": 5,
     "metadata": {},
     "output_type": "execute_result"
    }
   ],
   "source": [
    "lassoLars.coef_"
   ]
  },
  {
   "cell_type": "code",
   "execution_count": 6,
   "metadata": {},
   "outputs": [
    {
     "data": {
      "text/plain": [
       "152.133484162896"
      ]
     },
     "execution_count": 6,
     "metadata": {},
     "output_type": "execute_result"
    }
   ],
   "source": [
    "lassoLars.intercept_"
   ]
  },
  {
   "cell_type": "code",
   "execution_count": 7,
   "id": "6f2f003d",
   "metadata": {},
   "outputs": [
    {
     "name": "stdout",
     "output_type": "stream",
     "text": [
      "ok_\n"
     ]
    }
   ],
   "source": [
    "print('ok_')"
   ]
  }
 ],
 "metadata": {
  "kernelspec": {
   "display_name": "Python 3 (ipykernel)",
   "language": "python",
   "name": "python3"
  },
  "language_info": {
   "codemirror_mode": {
    "name": "ipython",
    "version": 3
   },
   "file_extension": ".py",
   "mimetype": "text/x-python",
   "name": "python",
   "nbconvert_exporter": "python",
   "pygments_lexer": "ipython3",
   "version": "3.11.5"
  },
  "vscode": {
   "interpreter": {
    "hash": "5238573367df39f7286bb46f9ff5f08f63a01a80960060ce41e3c79b190280fa"
   }
  }
 },
 "nbformat": 4,
 "nbformat_minor": 5
}
