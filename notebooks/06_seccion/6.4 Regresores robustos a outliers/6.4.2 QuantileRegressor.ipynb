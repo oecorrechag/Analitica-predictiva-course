{
 "cells": [
  {
   "attachments": {},
   "cell_type": "markdown",
   "id": "6bfc8fc6",
   "metadata": {},
   "source": [
    "# 6.4.2 QuantileRegressor"
   ]
  },
  {
   "cell_type": "code",
   "execution_count": 1,
   "id": "53b57b40",
   "metadata": {},
   "outputs": [],
   "source": [
    "%load_ext autoreload\n",
    "%autoreload 2"
   ]
  },
  {
   "cell_type": "code",
   "execution_count": 2,
   "id": "5fb86f3c",
   "metadata": {},
   "outputs": [],
   "source": [
    "import numpy as np\n",
    "from sklearn.linear_model import QuantileRegressor\n",
    "\n",
    "\n",
    "import warnings\n",
    "warnings.filterwarnings(\"ignore\")"
   ]
  },
  {
   "cell_type": "markdown",
   "id": "8513e901",
   "metadata": {},
   "source": [
    "Este regresor estima la mediana u otros cuartiles de $y$ condicionales sobre $X$, mientras que los mínimos cuadrados ordinarios (OLS) estima la media condicional. <br>\n",
    "Este modelo lineal da la predicción $\\hat{y}(w, X) = Xw $ para el q-ésimo cuartial, con $q \\ \\epsilon \\ (0,1)$. <br>\n",
    "Los coeficientes son obtenidos con la siguiente función objetivo:\n",
    "\n",
    "$$ min_w \\frac{1}{n_{samples}} \\sum_{i}^{} PB_q (y_i − X_i w) + \\alpha ∗ ||w||_1 $$ \n",
    "\n",
    "$PB$ se define como:\n",
    "\n",
    "$$  \n",
    "PB_q(t) = q_{max}(t,0) + (1−q)_{max}(−t,0) =\n",
    "\\begin{cases}\n",
    "    t & \\text{si} t > 0 \\\\\n",
    "    0 & \\text{si} t = 0 \\\\\n",
    "    (q-1)t & \\text{si} t < 0\n",
    "\\end{cases}\n",
    "$$\n",
    "\n",
    "Es un regresor robusto a outliers. <br>\n",
    "Se usa para pronosticar los intervalos en vez de la media (predicción puntual), ya que en muchos casos, los intervalos son calculados suponiendo que el error sigue una distribución normal con media cero y varianza constante. <br>\n",
    "Permite pronosticar intervalos para errores con varianza no constante o que no siguen una distribución normal."
   ]
  },
  {
   "cell_type": "code",
   "execution_count": 3,
   "metadata": {},
   "outputs": [],
   "source": [
    "n_samples, n_features = 10, 2\n",
    "rng = np.random.RandomState(0)\n",
    "\n",
    "y = rng.randn(n_samples)\n",
    "X = rng.randn(n_samples, n_features)"
   ]
  },
  {
   "cell_type": "code",
   "execution_count": 4,
   "metadata": {},
   "outputs": [
    {
     "data": {
      "text/html": [
       "<style>#sk-container-id-1 {color: black;background-color: white;}#sk-container-id-1 pre{padding: 0;}#sk-container-id-1 div.sk-toggleable {background-color: white;}#sk-container-id-1 label.sk-toggleable__label {cursor: pointer;display: block;width: 100%;margin-bottom: 0;padding: 0.3em;box-sizing: border-box;text-align: center;}#sk-container-id-1 label.sk-toggleable__label-arrow:before {content: \"▸\";float: left;margin-right: 0.25em;color: #696969;}#sk-container-id-1 label.sk-toggleable__label-arrow:hover:before {color: black;}#sk-container-id-1 div.sk-estimator:hover label.sk-toggleable__label-arrow:before {color: black;}#sk-container-id-1 div.sk-toggleable__content {max-height: 0;max-width: 0;overflow: hidden;text-align: left;background-color: #f0f8ff;}#sk-container-id-1 div.sk-toggleable__content pre {margin: 0.2em;color: black;border-radius: 0.25em;background-color: #f0f8ff;}#sk-container-id-1 input.sk-toggleable__control:checked~div.sk-toggleable__content {max-height: 200px;max-width: 100%;overflow: auto;}#sk-container-id-1 input.sk-toggleable__control:checked~label.sk-toggleable__label-arrow:before {content: \"▾\";}#sk-container-id-1 div.sk-estimator input.sk-toggleable__control:checked~label.sk-toggleable__label {background-color: #d4ebff;}#sk-container-id-1 div.sk-label input.sk-toggleable__control:checked~label.sk-toggleable__label {background-color: #d4ebff;}#sk-container-id-1 input.sk-hidden--visually {border: 0;clip: rect(1px 1px 1px 1px);clip: rect(1px, 1px, 1px, 1px);height: 1px;margin: -1px;overflow: hidden;padding: 0;position: absolute;width: 1px;}#sk-container-id-1 div.sk-estimator {font-family: monospace;background-color: #f0f8ff;border: 1px dotted black;border-radius: 0.25em;box-sizing: border-box;margin-bottom: 0.5em;}#sk-container-id-1 div.sk-estimator:hover {background-color: #d4ebff;}#sk-container-id-1 div.sk-parallel-item::after {content: \"\";width: 100%;border-bottom: 1px solid gray;flex-grow: 1;}#sk-container-id-1 div.sk-label:hover label.sk-toggleable__label {background-color: #d4ebff;}#sk-container-id-1 div.sk-serial::before {content: \"\";position: absolute;border-left: 1px solid gray;box-sizing: border-box;top: 0;bottom: 0;left: 50%;z-index: 0;}#sk-container-id-1 div.sk-serial {display: flex;flex-direction: column;align-items: center;background-color: white;padding-right: 0.2em;padding-left: 0.2em;position: relative;}#sk-container-id-1 div.sk-item {position: relative;z-index: 1;}#sk-container-id-1 div.sk-parallel {display: flex;align-items: stretch;justify-content: center;background-color: white;position: relative;}#sk-container-id-1 div.sk-item::before, #sk-container-id-1 div.sk-parallel-item::before {content: \"\";position: absolute;border-left: 1px solid gray;box-sizing: border-box;top: 0;bottom: 0;left: 50%;z-index: -1;}#sk-container-id-1 div.sk-parallel-item {display: flex;flex-direction: column;z-index: 1;position: relative;background-color: white;}#sk-container-id-1 div.sk-parallel-item:first-child::after {align-self: flex-end;width: 50%;}#sk-container-id-1 div.sk-parallel-item:last-child::after {align-self: flex-start;width: 50%;}#sk-container-id-1 div.sk-parallel-item:only-child::after {width: 0;}#sk-container-id-1 div.sk-dashed-wrapped {border: 1px dashed gray;margin: 0 0.4em 0.5em 0.4em;box-sizing: border-box;padding-bottom: 0.4em;background-color: white;}#sk-container-id-1 div.sk-label label {font-family: monospace;font-weight: bold;display: inline-block;line-height: 1.2em;}#sk-container-id-1 div.sk-label-container {text-align: center;}#sk-container-id-1 div.sk-container {/* jupyter's `normalize.less` sets `[hidden] { display: none; }` but bootstrap.min.css set `[hidden] { display: none !important; }` so we also need the `!important` here to be able to override the default hidden behavior on the sphinx rendered scikit-learn.org. See: https://github.com/scikit-learn/scikit-learn/issues/21755 */display: inline-block !important;position: relative;}#sk-container-id-1 div.sk-text-repr-fallback {display: none;}</style><div id=\"sk-container-id-1\" class=\"sk-top-container\"><div class=\"sk-text-repr-fallback\"><pre>QuantileRegressor(solver=&#x27;interior-point&#x27;)</pre><b>In a Jupyter environment, please rerun this cell to show the HTML representation or trust the notebook. <br />On GitHub, the HTML representation is unable to render, please try loading this page with nbviewer.org.</b></div><div class=\"sk-container\" hidden><div class=\"sk-item\"><div class=\"sk-estimator sk-toggleable\"><input class=\"sk-toggleable__control sk-hidden--visually\" id=\"sk-estimator-id-1\" type=\"checkbox\" checked><label for=\"sk-estimator-id-1\" class=\"sk-toggleable__label sk-toggleable__label-arrow\">QuantileRegressor</label><div class=\"sk-toggleable__content\"><pre>QuantileRegressor(solver=&#x27;interior-point&#x27;)</pre></div></div></div></div></div>"
      ],
      "text/plain": [
       "QuantileRegressor(solver='interior-point')"
      ]
     },
     "execution_count": 4,
     "metadata": {},
     "output_type": "execute_result"
    }
   ],
   "source": [
    "estimator = QuantileRegressor(\n",
    "    # -------------------------------------------------------------------------\n",
    "    # The quantile that the model tries to predict. It must be strictly between\n",
    "    # 0 and 1. If 0.5 (default), the model predicts the 50% quantile, i.e. the\n",
    "    # median.\n",
    "    quantile=0.5,\n",
    "    # -------------------------------------------------------------------------\n",
    "    # Regularization constant that multiplies the L1 penalty term.\n",
    "    alpha=1.0,\n",
    "    # -------------------------------------------------------------------------\n",
    "    # Whether or not to fit the intercept.\n",
    "    fit_intercept=True,\n",
    "    # -------------------------------------------------------------------------\n",
    "    # Method used by scipy.optimize.linprog to solve the linear programming\n",
    "    # formulation.\n",
    "    # * 'highs-ds'\n",
    "    # * 'highs-ipm'\n",
    "    # * 'highs'\n",
    "    # * 'interior-point'\n",
    "    # * 'revised simplex'\n",
    "    solver='interior-point',\n",
    "    # -------------------------------------------------------------------------\n",
    "    # Additional parameters passed to scipy.optimize.linprog as options. If\n",
    "    # None and if solver='interior-point', then {\"lstsq\": True} is passed to\n",
    "    # scipy.optimize.linprog for the sake of stability.\n",
    "    solver_options=None,\n",
    ")\n",
    "estimator.fit(X, y)"
   ]
  },
  {
   "cell_type": "code",
   "execution_count": 5,
   "metadata": {},
   "outputs": [
    {
     "data": {
      "text/plain": [
       "array([ 4.45409994e-14, -1.83417568e-13])"
      ]
     },
     "execution_count": 5,
     "metadata": {},
     "output_type": "execute_result"
    }
   ],
   "source": [
    "estimator.coef_"
   ]
  },
  {
   "cell_type": "code",
   "execution_count": 6,
   "metadata": {},
   "outputs": [
    {
     "data": {
      "text/plain": [
       "0.7194722439589483"
      ]
     },
     "execution_count": 6,
     "metadata": {},
     "output_type": "execute_result"
    }
   ],
   "source": [
    "estimator.intercept_"
   ]
  },
  {
   "cell_type": "code",
   "execution_count": 7,
   "id": "6f2f003d",
   "metadata": {},
   "outputs": [
    {
     "name": "stdout",
     "output_type": "stream",
     "text": [
      "ok_\n"
     ]
    }
   ],
   "source": [
    "print('ok_')"
   ]
  }
 ],
 "metadata": {
  "kernelspec": {
   "display_name": "Python 3 (ipykernel)",
   "language": "python",
   "name": "python3"
  },
  "language_info": {
   "codemirror_mode": {
    "name": "ipython",
    "version": 3
   },
   "file_extension": ".py",
   "mimetype": "text/x-python",
   "name": "python",
   "nbconvert_exporter": "python",
   "pygments_lexer": "ipython3",
   "version": "3.11.5"
  },
  "vscode": {
   "interpreter": {
    "hash": "5238573367df39f7286bb46f9ff5f08f63a01a80960060ce41e3c79b190280fa"
   }
  }
 },
 "nbformat": 4,
 "nbformat_minor": 5
}
