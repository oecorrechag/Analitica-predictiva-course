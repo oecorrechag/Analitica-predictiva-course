{
 "cells": [
  {
   "attachments": {},
   "cell_type": "markdown",
   "id": "6bfc8fc6",
   "metadata": {},
   "source": [
    "# 6.5.4 NuSVC: Nu-Support Vector Classification"
   ]
  },
  {
   "cell_type": "code",
   "execution_count": 1,
   "id": "53b57b40",
   "metadata": {},
   "outputs": [],
   "source": [
    "%load_ext autoreload\n",
    "%autoreload 2"
   ]
  },
  {
   "cell_type": "code",
   "execution_count": 2,
   "id": "5fb86f3c",
   "metadata": {},
   "outputs": [],
   "source": [
    "import numpy as np\n",
    "\n",
    "import warnings\n",
    "warnings.filterwarnings(\"ignore\")"
   ]
  },
  {
   "cell_type": "markdown",
   "id": "8513e901",
   "metadata": {},
   "source": [
    "Es una reparametrización matematicamente equivalente de la C-SVC. <br>\n",
    "\n",
    "El parámetro $ν$ reemplaza a $C$ y controla el número de vectors de soporte."
   ]
  },
  {
   "cell_type": "code",
   "execution_count": 3,
   "metadata": {},
   "outputs": [],
   "source": [
    "X = np.array([[-1, -1], [-2, -1], [1, 1], [2, 1]])\n",
    "y = np.array([1, 1, 2, 2])"
   ]
  },
  {
   "cell_type": "code",
   "execution_count": 4,
   "metadata": {},
   "outputs": [
    {
     "data": {
      "text/plain": [
       "array([1, 1, 2, 2])"
      ]
     },
     "execution_count": 4,
     "metadata": {},
     "output_type": "execute_result"
    }
   ],
   "source": [
    "from sklearn.svm import NuSVC\n",
    "\n",
    "nuSVC = NuSVC(\n",
    "    # ----------------------------------------------------------------------------\n",
    "    # An upper bound on the fraction of margin errors (see User Guide) and a\n",
    "    # lower bound of the fraction of support vectors. Should be in the interval\n",
    "    # (0, 1].\n",
    "    nu=0.5,\n",
    "    # ----------------------------------------------------------------------------\n",
    "    # Specifies the kernel type to be used in the algorithm. If none is given,\n",
    "    # ‘rbf’ will be used.\n",
    "    # * 'linear'\n",
    "    # * 'poly'\n",
    "    # * rbf'\n",
    "    # * 'sigmoid'\n",
    "    kernel=\"rbf\",\n",
    "    # ----------------------------------------------------------------------------\n",
    "    # Degree of the polynomial kernel function (‘poly’). Must be non-negative.\n",
    "    # Ignored by all other kernels.\n",
    "    degree=3,\n",
    "    # ----------------------------------------------------------------------------\n",
    "    # Kernel coefficient for ‘rbf’, ‘poly’ and ‘sigmoid’.\n",
    "    # * if gamma='scale' (default) is passed then it uses\n",
    "    #   1 / (n_features * X.var()) as value of gamma,\n",
    "    # * if ‘auto’, uses 1 / n_features\n",
    "    # * if float, must be non-negative.\n",
    "    gamma=\"scale\",\n",
    "    # ----------------------------------------------------------------------------\n",
    "    # Independent term in kernel function. It is only significant in ‘poly’ and\n",
    "    # ‘sigmoid’.\n",
    "    coef0=0.0,\n",
    "    # ----------------------------------------------------------------------------\n",
    "    # Whether to enable probability estimates. This must be enabled prior to\n",
    "    # calling fit, will slow down that method as it internally uses 5-fold\n",
    "    # cross-validation, and predict_proba may be inconsistent with predict.\n",
    "    probability=False,\n",
    "    # ----------------------------------------------------------------------------\n",
    "    # Tolerance for stopping criterion.\n",
    "    tol=1e-3,\n",
    "    # ----------------------------------------------------------------------------\n",
    "    # Set the parameter C of class i to class_weight[i]*C for SVC. If not given,\n",
    "    #  all classes are supposed to have weight one. The “balanced” mode uses the\n",
    "    # values of y to automatically adjust weights inversely proportional to\n",
    "    # class frequencies as n_samples / (n_classes * np.bincount(y)).\n",
    "    class_weight=None,\n",
    "    # ----------------------------------------------------------------------------\n",
    "    # Hard limit on iterations within solver, or -1 for no limit.\n",
    "    max_iter=-1,\n",
    "    # ----------------------------------------------------------------------------\n",
    "    # Whether to return a one-vs-rest (‘ovr’) decision function of shape\n",
    "    # (n_samples, n_classes) as all other classifiers, or the original\n",
    "    # one-vs-one (‘ovo’) decision function of libsvm which has shape\n",
    "    # (n_samples, n_classes * (n_classes - 1) / 2). However, one-vs-one (‘ovo’)\n",
    "    # is always used as multi-class strategy. The parameter is ignored for\n",
    "    # binary classification.\n",
    "    decision_function_shape=\"ovr\",\n",
    "    # ----------------------------------------------------------------------------\n",
    "    # Controls the pseudo random number generation for shuffling the data for\n",
    "    # probability estimates. Ignored when probability is False. Pass an int for\n",
    "    # reproducible output across multiple function calls.\n",
    "    random_state=None,\n",
    ")\n",
    "\n",
    "nuSVC.fit(X, y)\n",
    "nuSVC.predict(X)"
   ]
  },
  {
   "cell_type": "code",
   "execution_count": 5,
   "metadata": {},
   "outputs": [
    {
     "data": {
      "text/plain": [
       "array([[-0.73537894, -0.46684045,  0.73597922,  0.46624018]])"
      ]
     },
     "execution_count": 5,
     "metadata": {},
     "output_type": "execute_result"
    }
   ],
   "source": [
    "nuSVC.dual_coef_"
   ]
  },
  {
   "cell_type": "code",
   "execution_count": 6,
   "metadata": {},
   "outputs": [
    {
     "data": {
      "text/plain": [
       "array([-1.47673101e-05])"
      ]
     },
     "execution_count": 6,
     "metadata": {},
     "output_type": "execute_result"
    }
   ],
   "source": [
    "nuSVC.intercept_"
   ]
  },
  {
   "cell_type": "code",
   "execution_count": 7,
   "metadata": {},
   "outputs": [
    {
     "data": {
      "text/plain": [
       "array([0, 1, 2, 3], dtype=int32)"
      ]
     },
     "execution_count": 7,
     "metadata": {},
     "output_type": "execute_result"
    }
   ],
   "source": [
    "nuSVC.support_"
   ]
  },
  {
   "cell_type": "code",
   "execution_count": 8,
   "metadata": {},
   "outputs": [
    {
     "data": {
      "text/plain": [
       "array([[-1., -1.],\n",
       "       [-2., -1.],\n",
       "       [ 1.,  1.],\n",
       "       [ 2.,  1.]])"
      ]
     },
     "execution_count": 8,
     "metadata": {},
     "output_type": "execute_result"
    }
   ],
   "source": [
    "nuSVC.support_vectors_"
   ]
  },
  {
   "cell_type": "code",
   "execution_count": 9,
   "metadata": {},
   "outputs": [
    {
     "data": {
      "text/plain": [
       "array([2, 2], dtype=int32)"
      ]
     },
     "execution_count": 9,
     "metadata": {},
     "output_type": "execute_result"
    }
   ],
   "source": [
    "# Number of support vectors for each class.\n",
    "nuSVC.n_support_"
   ]
  },
  {
   "cell_type": "code",
   "execution_count": 10,
   "id": "6f2f003d",
   "metadata": {},
   "outputs": [
    {
     "name": "stdout",
     "output_type": "stream",
     "text": [
      "ok_\n"
     ]
    }
   ],
   "source": [
    "print('ok_')"
   ]
  }
 ],
 "metadata": {
  "kernelspec": {
   "display_name": "Python 3 (ipykernel)",
   "language": "python",
   "name": "python3"
  },
  "language_info": {
   "codemirror_mode": {
    "name": "ipython",
    "version": 3
   },
   "file_extension": ".py",
   "mimetype": "text/x-python",
   "name": "python",
   "nbconvert_exporter": "python",
   "pygments_lexer": "ipython3",
   "version": "3.11.5"
  },
  "vscode": {
   "interpreter": {
    "hash": "5238573367df39f7286bb46f9ff5f08f63a01a80960060ce41e3c79b190280fa"
   }
  }
 },
 "nbformat": 4,
 "nbformat_minor": 5
}
