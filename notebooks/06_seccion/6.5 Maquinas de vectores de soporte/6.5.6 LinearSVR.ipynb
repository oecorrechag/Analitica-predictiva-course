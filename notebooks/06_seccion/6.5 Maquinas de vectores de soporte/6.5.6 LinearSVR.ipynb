{
 "cells": [
  {
   "attachments": {},
   "cell_type": "markdown",
   "id": "6bfc8fc6",
   "metadata": {},
   "source": [
    "# 6.5.6 LinearSVR"
   ]
  },
  {
   "cell_type": "code",
   "execution_count": 1,
   "id": "53b57b40",
   "metadata": {},
   "outputs": [],
   "source": [
    "%load_ext autoreload\n",
    "%autoreload 2"
   ]
  },
  {
   "cell_type": "code",
   "execution_count": 2,
   "id": "5fb86f3c",
   "metadata": {},
   "outputs": [],
   "source": [
    "from sklearn.datasets import make_regression\n",
    "from sklearn.svm import LinearSVR\n",
    "\n",
    "import warnings\n",
    "warnings.filterwarnings(\"ignore\")"
   ]
  },
  {
   "cell_type": "markdown",
   "id": "8513e901",
   "metadata": {},
   "source": [
    "Corresponde al modelo SVR con kernel lineal. <br>\n",
    "Se obtiene al reformular el problema primal como:\n",
    "\n",
    "$$ min_{w,b} \\frac{1}{2} w^T w + C \\sum_{i=1}^{n} max(0 | y_i - (w^T \\phi(x_i) + b) | \\epsilon) $$\n",
    "\n",
    "Se usa la función de error $\\epsilon$-insensitiva"
   ]
  },
  {
   "cell_type": "code",
   "execution_count": 3,
   "metadata": {},
   "outputs": [],
   "source": [
    "X, y = make_regression(n_features=4, random_state=0)"
   ]
  },
  {
   "cell_type": "code",
   "execution_count": 4,
   "metadata": {},
   "outputs": [
    {
     "data": {
      "text/plain": [
       "array([ -30.52806559,   -0.55507713,  -77.48068334,  -13.07762824,\n",
       "         18.41159978,  -30.18600808,   34.66819134,  -80.23040566,\n",
       "        -32.20020625,   59.53393485,  -83.59469837,   67.79520805,\n",
       "        -49.80807491,  -23.77433551, -112.02965678,  -43.89042229,\n",
       "        -87.24302323, -110.64002629,    8.34601977,   -5.00551056,\n",
       "         20.88178536,   84.88215649,   98.04266288,   73.59063929,\n",
       "        -72.29231858,  -25.07287394,  200.84716965,  -54.28512178,\n",
       "         28.52759472,   50.36024945,   81.90162818,   -7.19090702,\n",
       "         -3.416984  ,   83.16669534,  -99.51022445,   55.31864121,\n",
       "         -3.75982912,   89.73181966, -137.38795735, -208.7971442 ,\n",
       "         67.20567245,  -19.82645704,   70.14966748,   62.20473545,\n",
       "        -80.84950923,  -30.69966583,   88.96293589, -157.49328092,\n",
       "        -43.97231684,   63.34567278,  -90.02640335,   39.41625313,\n",
       "         98.71044588,  212.20582955, -104.71825169,  -51.0126865 ,\n",
       "         37.62377981,  -49.09278255,  -53.30882029,   45.68842377,\n",
       "         17.63019631,   73.61771996,  202.85716607,   23.3576264 ,\n",
       "         62.37025416,   60.66668289, -163.80138418,   50.41112616,\n",
       "         65.02625553,  -33.9019353 ,   84.95853567,  -24.64007602,\n",
       "       -179.02117585,  -19.78766296,  -43.28970946,  110.1081873 ,\n",
       "        -53.04764607,  -13.50182064,  -59.6900476 ,  -69.87013571,\n",
       "        -21.84658273,  -10.43727376,  -65.86945078,  -68.80248457,\n",
       "        -36.77966489,  -13.66695735,   13.49928143,   88.74015208,\n",
       "       -143.73561157,   99.0317568 ,  -83.03441356,   69.34857839,\n",
       "       -101.56595027,  -27.1943291 ,  154.06396648, -179.00635548,\n",
       "        -15.72027819,  -14.07028853,   31.00169267,  -83.05025119])"
      ]
     },
     "execution_count": 4,
     "metadata": {},
     "output_type": "execute_result"
    }
   ],
   "source": [
    "linearSVR = LinearSVR(\n",
    "    # --------------------------------------------------------------------------\n",
    "    # Epsilon parameter in the epsilon-insensitive loss function. Note that the\n",
    "    # value of this parameter depends on the scale of the target variable y. If\n",
    "    # unsure, set epsilon=0.\n",
    "    epsilon=0.0,\n",
    "    # --------------------------------------------------------------------------\n",
    "    # Tolerance for stopping criterion.\n",
    "    tol=1e-3,\n",
    "    # --------------------------------------------------------------------------\n",
    "    # Regularization parameter. The strength of the regularization is inversely\n",
    "    # proportional to C. Must be strictly positive.\n",
    "    # penalty.\n",
    "    C=1,\n",
    "    # --------------------------------------------------------------------------\n",
    "    # Specifies the loss function. The epsilon-insensitive loss (standard SVR)\n",
    "    # is the L1 loss, while the squared epsilon-insensitive loss\n",
    "    # (‘squared_epsilon_insensitive’) is the L2 loss.\n",
    "    loss='epsilon_insensitive',\n",
    "    # --------------------------------------------------------------------------\n",
    "    # hether to calculate the intercept for this model. If set to false, no\n",
    "    # intercept will be used in calculations\n",
    "    fit_intercept=True,\n",
    "    # --------------------------------------------------------------------------\n",
    "    # When self.fit_intercept is True, instance vector x becomes\n",
    "    # [x, self.intercept_scaling], i.e. a “synthetic” feature with constant\n",
    "    # value equals to intercept_scaling is appended to the instance vector. The\n",
    "    # intercept becomes intercept_scaling * synthetic feature weight Note! the\n",
    "    # synthetic feature weight is subject to l1/l2 regularization as all other\n",
    "    # features. To lessen the effect of regularization on synthetic feature\n",
    "    # weight (and therefore on the intercept) intercept_scaling has to be\n",
    "    # increased.\n",
    "    intercept_scaling=1.0,\n",
    "    # --------------------------------------------------------------------------\n",
    "    # Select the algorithm to either solve the dual or primal optimization\n",
    "    # problem. Prefer dual=False when n_samples > n_features.\n",
    "    dual=True,\n",
    "    # --------------------------------------------------------------------------\n",
    "    # Controls the pseudo random number generation for shuffling the data. Pass\n",
    "    # an int for reproducible output across multiple function calls\n",
    "    random_state=None,\n",
    "    # --------------------------------------------------------------------------\n",
    "    # The maximum number of iterations to be run.\n",
    "    max_iter=1000,\n",
    ")\n",
    "\n",
    "linearSVR.fit(X, y)\n",
    "linearSVR.predict(X)"
   ]
  },
  {
   "cell_type": "code",
   "execution_count": 5,
   "metadata": {},
   "outputs": [
    {
     "data": {
      "text/plain": [
       "0.8992368175347106"
      ]
     },
     "execution_count": 5,
     "metadata": {},
     "output_type": "execute_result"
    }
   ],
   "source": [
    "linearSVR.score(X, y)"
   ]
  },
  {
   "cell_type": "code",
   "execution_count": 6,
   "metadata": {},
   "outputs": [
    {
     "data": {
      "text/plain": [
       "array([16.36757798, 26.9241378 , 42.34544021, 60.44469362])"
      ]
     },
     "execution_count": 6,
     "metadata": {},
     "output_type": "execute_result"
    }
   ],
   "source": [
    "linearSVR.coef_"
   ]
  },
  {
   "cell_type": "code",
   "execution_count": 7,
   "metadata": {},
   "outputs": [
    {
     "data": {
      "text/plain": [
       "array([-4.33651624])"
      ]
     },
     "execution_count": 7,
     "metadata": {},
     "output_type": "execute_result"
    }
   ],
   "source": [
    "linearSVR.intercept_"
   ]
  },
  {
   "cell_type": "code",
   "execution_count": 8,
   "id": "6f2f003d",
   "metadata": {},
   "outputs": [
    {
     "name": "stdout",
     "output_type": "stream",
     "text": [
      "ok_\n"
     ]
    }
   ],
   "source": [
    "print('ok_')"
   ]
  }
 ],
 "metadata": {
  "kernelspec": {
   "display_name": "Python 3 (ipykernel)",
   "language": "python",
   "name": "python3"
  },
  "language_info": {
   "codemirror_mode": {
    "name": "ipython",
    "version": 3
   },
   "file_extension": ".py",
   "mimetype": "text/x-python",
   "name": "python",
   "nbconvert_exporter": "python",
   "pygments_lexer": "ipython3",
   "version": "3.11.5"
  },
  "vscode": {
   "interpreter": {
    "hash": "5238573367df39f7286bb46f9ff5f08f63a01a80960060ce41e3c79b190280fa"
   }
  }
 },
 "nbformat": 4,
 "nbformat_minor": 5
}
