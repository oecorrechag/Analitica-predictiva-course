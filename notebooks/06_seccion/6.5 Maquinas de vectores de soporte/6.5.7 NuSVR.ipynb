{
 "cells": [
  {
   "attachments": {},
   "cell_type": "markdown",
   "id": "6bfc8fc6",
   "metadata": {},
   "source": [
    "# 6.5.7 NuSVR: Nu-Support Vector Regression"
   ]
  },
  {
   "cell_type": "code",
   "execution_count": 5,
   "id": "53b57b40",
   "metadata": {},
   "outputs": [
    {
     "name": "stdout",
     "output_type": "stream",
     "text": [
      "The autoreload extension is already loaded. To reload it, use:\n",
      "  %reload_ext autoreload\n"
     ]
    }
   ],
   "source": [
    "%load_ext autoreload\n",
    "%autoreload 2"
   ]
  },
  {
   "cell_type": "code",
   "execution_count": 6,
   "id": "5fb86f3c",
   "metadata": {},
   "outputs": [],
   "source": [
    "import numpy as np\n",
    "from sklearn.svm import NuSVR\n",
    "\n",
    "import warnings\n",
    "warnings.filterwarnings(\"ignore\")"
   ]
  },
  {
   "cell_type": "markdown",
   "id": "8513e901",
   "metadata": {},
   "source": [
    "Es similar a NuSVC. <br>\n",
    "Para regresión, usa un parámetro nu que controla el número de vectores de soporte. <br>\n",
    "Mientras que NuSVC reemplaza el parámetro C, NuSVR reemplaza el parámetro epsilon del modelo epsilon-SVR."
   ]
  },
  {
   "cell_type": "code",
   "execution_count": 7,
   "metadata": {},
   "outputs": [],
   "source": [
    "n_samples, n_features = 10, 5\n",
    "np.random.seed(0)\n",
    "y = np.random.randn(n_samples)\n",
    "X = np.random.randn(n_samples, n_features)"
   ]
  },
  {
   "cell_type": "code",
   "execution_count": 8,
   "metadata": {},
   "outputs": [
    {
     "data": {
      "text/plain": [
       "array([1.14053108, 1.02412027, 1.10907372, 1.61648827, 1.22006777,\n",
       "       0.71194418, 1.16836156, 0.47260591, 0.64168051, 0.72338921])"
      ]
     },
     "execution_count": 8,
     "metadata": {},
     "output_type": "execute_result"
    }
   ],
   "source": [
    "nuSVR = NuSVR(\n",
    "    # ----------------------------------------------------------------------------\n",
    "    # An upper bound on the fraction of margin errors and a\n",
    "    # lower bound of the fraction of support vectors. Should be in the interval\n",
    "    # (0, 1].\n",
    "    nu=0.5,\n",
    "    # ----------------------------------------------------------------------------\n",
    "    # Specifies the kernel type to be used in the algorithm. If none is given,\n",
    "    # ‘rbf’ will be used.\n",
    "    # * 'linear'\n",
    "    # * 'poly'\n",
    "    # * rbf'\n",
    "    # * 'sigmoid'\n",
    "    kernel=\"rbf\",\n",
    "    # ----------------------------------------------------------------------------\n",
    "    # Degree of the polynomial kernel function (‘poly’). Must be non-negative.\n",
    "    # Ignored by all other kernels.\n",
    "    degree=3,\n",
    "    # ----------------------------------------------------------------------------\n",
    "    # Kernel coefficient for ‘rbf’, ‘poly’ and ‘sigmoid’.\n",
    "    # * if gamma='scale' (default) is passed then it uses\n",
    "    #   1 / (n_features * X.var()) as value of gamma,\n",
    "    # * if ‘auto’, uses 1 / n_features\n",
    "    # * if float, must be non-negative.\n",
    "    gamma=\"scale\",\n",
    "    # ----------------------------------------------------------------------------\n",
    "    # Independent term in kernel function. It is only significant in ‘poly’ and\n",
    "    # ‘sigmoid’.\n",
    "    coef0=0.0,\n",
    "    # ----------------------------------------------------------------------------\n",
    "    # Tolerance for stopping criterion.\n",
    "    tol=1e-3,\n",
    "    # ----------------------------------------------------------------------------\n",
    "    # Hard limit on iterations within solver, or -1 for no limit.\n",
    "    max_iter=-1,\n",
    ")\n",
    "\n",
    "nuSVR.fit(X, y)\n",
    "nuSVR.predict(X)"
   ]
  },
  {
   "cell_type": "code",
   "execution_count": 10,
   "metadata": {},
   "outputs": [
    {
     "data": {
      "text/plain": [
       "0.4068511281330819"
      ]
     },
     "execution_count": 10,
     "metadata": {},
     "output_type": "execute_result"
    }
   ],
   "source": [
    "nuSVR.score(X, y)"
   ]
  },
  {
   "cell_type": "code",
   "execution_count": 9,
   "id": "6f2f003d",
   "metadata": {},
   "outputs": [
    {
     "name": "stdout",
     "output_type": "stream",
     "text": [
      "ok_\n"
     ]
    }
   ],
   "source": [
    "print('ok_')"
   ]
  }
 ],
 "metadata": {
  "kernelspec": {
   "display_name": "Python 3 (ipykernel)",
   "language": "python",
   "name": "python3"
  },
  "language_info": {
   "codemirror_mode": {
    "name": "ipython",
    "version": 3
   },
   "file_extension": ".py",
   "mimetype": "text/x-python",
   "name": "python",
   "nbconvert_exporter": "python",
   "pygments_lexer": "ipython3",
   "version": "3.11.5"
  },
  "vscode": {
   "interpreter": {
    "hash": "5238573367df39f7286bb46f9ff5f08f63a01a80960060ce41e3c79b190280fa"
   }
  }
 },
 "nbformat": 4,
 "nbformat_minor": 5
}
