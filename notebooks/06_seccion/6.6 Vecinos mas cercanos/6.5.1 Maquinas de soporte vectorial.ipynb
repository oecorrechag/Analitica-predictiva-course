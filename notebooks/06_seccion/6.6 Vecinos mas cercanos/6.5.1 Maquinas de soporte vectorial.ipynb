{
 "cells": [
  {
   "attachments": {},
   "cell_type": "markdown",
   "id": "6bfc8fc6",
   "metadata": {},
   "source": [
    "# 6.5.1 Máquinas de soporte vectorial (SVM)"
   ]
  },
  {
   "cell_type": "code",
   "execution_count": 1,
   "id": "53b57b40",
   "metadata": {},
   "outputs": [],
   "source": [
    "%load_ext autoreload\n",
    "%autoreload 2"
   ]
  },
  {
   "cell_type": "code",
   "execution_count": 2,
   "id": "5fb86f3c",
   "metadata": {},
   "outputs": [],
   "source": [
    "import numpy as np\n",
    "from sklearn.metrics.pairwise import linear_kernel\n",
    "\n",
    "import warnings\n",
    "warnings.filterwarnings(\"ignore\")"
   ]
  },
  {
   "cell_type": "markdown",
   "id": "8513e901",
   "metadata": {},
   "source": [
    "Son un conjunto de métodos para aprendizaje supervizado usados para regresión, clasificación y detección de outliers. <br>\n",
    "Son efectivos en espacios altamente dimensionales, inclusive cuando el número de dimensiones es mayor que el número de muestras. <br>\n",
    "Usan un subconjunto de puntos de entrenamiento en la función de decisión (llamados vectores de soporte), por lo que también son eficientes en el uso de la memoria. <br>\n",
    "No entregan estimados de probabilidad, los cuales deben ser calculados usando 5-fold cross-validation. <br>\n",
    "Construyen un hiperplano o conjunto de hiperplanos en un espacio altamente dimensional. <br>\n",
    "Una máquina de soporte vectorial es un modelo matemático de la siguiente forma:\n",
    "\n",
    "$$ y = w_0 + \\sum_{d}^{} w_d * k(x,x_d) $$\n",
    "\n",
    "donde:\n",
    "\n",
    "- $w_0$ es una constante.\n",
    "- $x$ es el vector de variables independientes (valor para el cual se desea calcular la salida $y$).\n",
    "- $w_d$ son los coeficientes del modelo\n",
    "- $x_d$ son los vectores de soporte.\n",
    "- $k()$ es una función de núcleo (kernel function).\n",
    "- $d = 1, ... , D$ es un índice que itera sobre el conjunto de vectores de soporte.\n",
    "\n",
    "Los funciones kernel $k()$ son las siguientes:\n",
    "\n",
    "- Lineal:\n",
    "\n",
    "$$ k(x,z) = \\sum_{i}^{} x_i * z_i $$\n",
    "\n",
    "- Polinomial:\n",
    "\n",
    "$$ k(x,z) = 1 + \\left(\\sum_{i}^{} x_i * z_i \\right)^d $$\n",
    "\n",
    "donde el grado $d$ del polinomio debe ser especificado por el modelador.\n",
    "\n",
    "- RBF:\n",
    "\n",
    "$$ k(x,z) = \\exp(− \\gamma * ||x−z||_2) $$\n",
    "\n",
    "con $\\gamma>0$.\n",
    "\n",
    "- Sigmoid:\n",
    "\n",
    "$$ k(x,z) = \\tanh \\left(r + \\gamma \\sum_{i}^{} x_i * y_i \\right) $$"
   ]
  },
  {
   "cell_type": "code",
   "execution_count": 3,
   "metadata": {},
   "outputs": [],
   "source": [
    "# Sea una SVM con kernels lineales:\n",
    "#\n",
    "# y = 0.3 + 0.4 * k(x, [1, 2]) + 0.5 * k(x, [3, 4]) + 0.6 * k(x, [5, 6])\n",
    "#\n",
    "\n",
    "# Los vectores de soporte son:\n",
    "xd = np.array(\n",
    "    [\n",
    "        [1, 2],\n",
    "        [3, 4],\n",
    "        [5, 6],\n",
    "    ]\n",
    ")\n",
    "\n",
    "# El punto x  donde se desea evaluar la SVM es:\n",
    "x = [[0.1, 0.2]]"
   ]
  },
  {
   "cell_type": "code",
   "execution_count": 4,
   "metadata": {},
   "outputs": [
    {
     "data": {
      "text/plain": [
       "array([[0.5],\n",
       "       [1.1],\n",
       "       [1.7]])"
      ]
     },
     "execution_count": 4,
     "metadata": {},
     "output_type": "execute_result"
    }
   ],
   "source": [
    "# linear kernel: f(x, y) = x^T y\n",
    "# 1 * 0.1 + 2 * 0.2 = 0.5\n",
    "# 3 * 0.1 + 4 * 0.2 = 1.1\n",
    "# 5 * 0.1 + 6 * 0.2 = 1.7\n",
    "\n",
    "linear_kernel(xd, x)"
   ]
  },
  {
   "cell_type": "code",
   "execution_count": 6,
   "metadata": {},
   "outputs": [
    {
     "data": {
      "text/plain": [
       "2.0700000000000003"
      ]
     },
     "execution_count": 6,
     "metadata": {},
     "output_type": "execute_result"
    }
   ],
   "source": [
    "# La salida de la SVM será:\n",
    "\n",
    "0.3 + 0.4 * 0.5 + 0.5 * 1.1 + 0.6 * 1.7"
   ]
  },
  {
   "cell_type": "code",
   "execution_count": 5,
   "id": "6f2f003d",
   "metadata": {},
   "outputs": [
    {
     "name": "stdout",
     "output_type": "stream",
     "text": [
      "ok_\n"
     ]
    }
   ],
   "source": [
    "print('ok_')"
   ]
  }
 ],
 "metadata": {
  "kernelspec": {
   "display_name": "Python 3 (ipykernel)",
   "language": "python",
   "name": "python3"
  },
  "language_info": {
   "codemirror_mode": {
    "name": "ipython",
    "version": 3
   },
   "file_extension": ".py",
   "mimetype": "text/x-python",
   "name": "python",
   "nbconvert_exporter": "python",
   "pygments_lexer": "ipython3",
   "version": "3.11.5"
  },
  "vscode": {
   "interpreter": {
    "hash": "5238573367df39f7286bb46f9ff5f08f63a01a80960060ce41e3c79b190280fa"
   }
  }
 },
 "nbformat": 4,
 "nbformat_minor": 5
}
