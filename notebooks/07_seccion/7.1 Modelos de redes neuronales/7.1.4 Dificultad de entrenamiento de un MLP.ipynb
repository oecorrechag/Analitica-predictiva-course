{
 "cells": [
  {
   "cell_type": "markdown",
   "metadata": {},
   "source": [
    "# 7.1.4 Dificultad de entrenamiento de un MLP"
   ]
  },
  {
   "cell_type": "markdown",
   "metadata": {},
   "source": [
    "link: https://youtu.be/2yKOSTeDj8I?si=TfS7hZIYaVPNJTnN\n",
    "\n",
    "En sklearn, los parámetros del modelo son obtenidos minimizando el suma de errores cuadrados (SSE):\n",
    "\n",
    "$$ min_w ||e||_2^2 $$\n",
    "\n",
    "utilizando el algoritmo de gradiente descendente (o alguna variación de este).\n",
    "\n",
    "**Dificultad 1:** La forma de la superficie del SSE es irregular y no convexa con muchos puntos de mínima local. El algoritmo de gradiente descendente puede quedar atrapado en los mínimos locales.\n",
    "\n",
    "**Dificultad 2:** Es sensible al preprocesamiento de los datos.\n",
    "\n",
    "**Dificultad 3:** Una misma configuración de red neuronal puede tener multiples puntos de mínima local con el mismo valor del SSE.\n",
    "\n",
    "Considere un modelo con una entrada y dos neuronas ocultas con la siguiente notación:\n",
    "\n",
    "$b$ peso de la neurona bias de la capa de salida.  <br>\n",
    "$b_h {h=1, 2}$ peso de las neuronas bias de la capa oculta. <br>\n",
    "$w_{ih}$ {i=1; h=1,2} pesos de la capa de entrada a la capa oculta. <br>\n",
    "$m_h {h=1,2}$ pesos de las neuronas ocultas a la capa de salida.\n",
    "\n",
    "El algoritmo de optimización opera sobre un vector que agrupa los parámetros del modelo:\n",
    "\n",
    "$[b, b_1, b_2, w_{11}, w_{12}, m_{1}, m_{2}]$\n",
    "\n",
    "Si se intercambian las posiciones de las dos neuronas ocultas, incluyendo los pesos que entran y salen de cada una de ellas, se obtiene un nuevo vector que tiene el mismo SSE del modelo original:\n",
    "\n",
    "$[b, b_2, b_1, w_{12}, w_{11}, m_2, m_1]$\n",
    "\n",
    "**Dificultad 4:** A medida que se agregan neuronas a la capa oculta, el SSE deberia disminuir para el conjunto de datos de entrenamiento, hasta ser arbitrariamente cercano a cero, pero esto no pasa en la realidad."
   ]
  },
  {
   "cell_type": "code",
   "execution_count": 3,
   "metadata": {},
   "outputs": [
    {
     "name": "stdout",
     "output_type": "stream",
     "text": [
      "ok_\n"
     ]
    }
   ],
   "source": [
    "print('ok_')"
   ]
  }
 ],
 "metadata": {
  "kernelspec": {
   "display_name": "Python 3",
   "language": "python",
   "name": "python3"
  },
  "language_info": {
   "codemirror_mode": {
    "name": "ipython",
    "version": 3
   },
   "file_extension": ".py",
   "mimetype": "text/x-python",
   "name": "python",
   "nbconvert_exporter": "python",
   "pygments_lexer": "ipython3",
   "version": "3.12.1"
  }
 },
 "nbformat": 4,
 "nbformat_minor": 2
}
