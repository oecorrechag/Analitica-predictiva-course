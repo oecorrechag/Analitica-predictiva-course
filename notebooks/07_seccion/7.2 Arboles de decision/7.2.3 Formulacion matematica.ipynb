{
 "cells": [
  {
   "cell_type": "markdown",
   "metadata": {},
   "source": [
    "# 7.2.3 Formulación matemática"
   ]
  },
  {
   "cell_type": "markdown",
   "metadata": {},
   "source": [
    "Un arbol de decisión particiona el espacio de las características, tal que ejemplos pertenecientes a la misma clase o valores similares de la variable dependiente son agrupados en los nodos terminales.\n",
    "\n",
    "La calidad de una posible partición se mide con el indice de Gini.\n",
    "\n",
    "En clasificación, la **impureza de Gini** mide la probabilidad de que un elemento escogido aleatoriamente de la muestra de datos, le sea asignada una clase incorrecta, de acuerdo con la distribución de clases en el conjunto de datos; esto es, se desea maximizar la probabilidad de que el patrón sea clasificado correctamente. Por tanto, se desea minimizar la probabilidad de asignar una clase errónea.\n",
    "\n",
    "Si se tienen $J$ clases, y si se denota como $p_i$ la probabilidad de ocurrencia de la clase $i$, con $i \\ \\epsilon \\ {1,...,J}$, la probabilidad de que a un elemento de la clase $i$ se le asigne otra clase es:\n",
    "\n",
    "$$ p_i * \\sum_{k \\neq i}^{} p_k $$\n",
    "\n",
    "Ya que la función de impureza es computada sobre todas las clases, entonces:\n",
    "\n",
    "$$ G = \\sum_{i = 1}^{J} \\left(p_i * \\sum_{k \\neq i}^{} p_k \\right) = \\sum_{i = 1}^{J} p_i * (1 − p_i) = \\sum_{i = 1}^{J} (p_i − p_2^i) = \\left(\\sum_{i = 1}^{J} p_i \\right) - \\left(\\sum_{i = 1}^{J} p_i^2 \\right)  $$\n",
    "\n",
    "$$ G = 1 - \\sum_{i = 1}^{J} p_i^2 $$\n",
    "\n",
    "En términos prácticos, el siguiente nodo a particionar es el que genera la máxima reducción del índice de Gini.\n",
    "\n",
    "La entropia se basa en el concepto de ganancia de información, y en términos prácticos, se selecciona el nodo a particionar, como aquel que generare la máxima ganancia de información."
   ]
  },
  {
   "cell_type": "code",
   "execution_count": 1,
   "metadata": {},
   "outputs": [
    {
     "name": "stdout",
     "output_type": "stream",
     "text": [
      "ok_\n"
     ]
    }
   ],
   "source": [
    "print('ok_')"
   ]
  }
 ],
 "metadata": {
  "kernelspec": {
   "display_name": "Python 3",
   "language": "python",
   "name": "python3"
  },
  "language_info": {
   "codemirror_mode": {
    "name": "ipython",
    "version": 3
   },
   "file_extension": ".py",
   "mimetype": "text/x-python",
   "name": "python",
   "nbconvert_exporter": "python",
   "pygments_lexer": "ipython3",
   "version": "3.12.1"
  }
 },
 "nbformat": 4,
 "nbformat_minor": 2
}
