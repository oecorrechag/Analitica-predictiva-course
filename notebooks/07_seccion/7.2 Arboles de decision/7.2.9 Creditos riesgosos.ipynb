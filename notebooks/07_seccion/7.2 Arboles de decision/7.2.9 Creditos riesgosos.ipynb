{
 "cells": [
  {
   "cell_type": "markdown",
   "metadata": {},
   "source": [
    "# 7.2.9 Identificación de créditos riesgosos usando árboles de decisión"
   ]
  },
  {
   "cell_type": "code",
   "execution_count": 2,
   "metadata": {},
   "outputs": [],
   "source": [
    "%load_ext autoreload\n",
    "%autoreload 2"
   ]
  },
  {
   "cell_type": "code",
   "execution_count": 3,
   "metadata": {},
   "outputs": [],
   "source": [
    "from ucimlrepo import fetch_ucirepo \n",
    "from sklearn.preprocessing import LabelEncoder\n",
    "from sklearn.tree import DecisionTreeClassifier\n",
    "from sklearn.model_selection import train_test_split\n",
    "from sklearn.metrics import confusion_matrix, accuracy_score, classification_report\n",
    "\n",
    "import warnings\n",
    "warnings.filterwarnings(\"ignore\")"
   ]
  },
  {
   "cell_type": "markdown",
   "metadata": {},
   "source": [
    "link: https://youtu.be/1dLQmi6CyzA?si=jDxi0vXQ8d5ZC-Wc\n",
    "\n",
    "data: https://archive.ics.uci.edu/dataset/144/statlog+german+credit+data\n",
    "\n",
    "En el tutorial anterior se discutieron los fundamentos del uso de árboles de clasificación. En este tutorial, se presenta la identificación de créditos potencialmente riesgosos en una identidad crediticia.\n",
    "\n",
    "## 7.2.9.1 Descripción del problema\n",
    "\n",
    "Las entidades financieras desean mejorar sus procedimientos de aprobación de créditos con el fin de disminuir los riesgos de no pago de la deuda, lo que acarrea pérdidas a la entidad. El problema real consiste en poder decidir si se aprueba o no un crédito particular con base en información que puede ser fácilmente recolectada por teléfono o en la web.\n",
    "\n",
    "Se tiene una muestra de 1000 observaciones. Cada registro contiene 20 atributos que recopilan información tanto sobre el crédito como sobre la salud financiera del solicitante. La información fue recolectada por una firma alemana y se puede descargar de **UCI**.\n",
    "\n",
    "Los atributos y sus valores son los siguientes:\n",
    "\n",
    "```\n",
    "\n",
    "Attribute 1:  (qualitative)\n",
    "         Status of existing checking account\n",
    "         A11 :      ... <    0 DM\n",
    "         A12 : 0 <= ... <  200 DM\n",
    "         A13 :      ... >= 200 DM /\n",
    "               salary assignments for at least 1 year\n",
    "         A14 : no checking account\n",
    "\n",
    "Attribute 2:  (numerical)\n",
    "         Duration in month\n",
    "\n",
    "Attribute 3:  (qualitative)\n",
    "         Credit history\n",
    "         A30 : no credits taken/\n",
    "               all credits paid back duly\n",
    "         A31 : all credits at this bank paid back duly\n",
    "         A32 : existing credits paid back duly till now\n",
    "         A33 : delay in paying off in the past\n",
    "         A34 : critical account/\n",
    "               other credits existing (not at this bank)\n",
    "\n",
    "Attribute 4:  (qualitative)\n",
    "         Purpose\n",
    "         A40 : car (new)\n",
    "         A41 : car (used)\n",
    "         A42 : furniture/equipment\n",
    "         A43 : radio/television\n",
    "         A44 : domestic appliances\n",
    "         A45 : repairs\n",
    "         A46 : education\n",
    "         A47 : (vacation - does not exist?)\n",
    "         A48 : retraining\n",
    "         A49 : business\n",
    "         A410 : others\n",
    "\n",
    "Attribute 5:  (numerical)\n",
    "         Credit amount\n",
    "\n",
    "Attribute 6:  (qualitative)\n",
    "         Savings account/bonds\n",
    "         A61 :          ... <  100 DM\n",
    "         A62 :   100 <= ... <  500 DM\n",
    "         A63 :   500 <= ... < 1000 DM\n",
    "         A64 :          .. >= 1000 DM\n",
    "         A65 :   unknown/ no savings account\n",
    "\n",
    "Attribute 7:  (qualitative)\n",
    "         Present employment since\n",
    "         A71 : unemployed\n",
    "         A72 :       ... < 1 year\n",
    "         A73 : 1  <= ... < 4 years\n",
    "         A74 : 4  <= ... < 7 years\n",
    "         A75 :       .. >= 7 years\n",
    "\n",
    "Attribute 8:  (numerical)\n",
    "         Installment rate in percentage of disposable income\n",
    "\n",
    "Attribute 9:  (qualitative)\n",
    "         Personal status and sex\n",
    "         A91 : male   : divorced/separated\n",
    "         A92 : female : divorced/separated/married\n",
    "         A93 : male   : single\n",
    "         A94 : male   : married/widowed\n",
    "         A95 : female : single\n",
    "\n",
    "Attribute 10: (qualitative)\n",
    "         Other debtors / guarantors\n",
    "         A101 : none\n",
    "         A102 : co-applicant\n",
    "         A103 : guarantor\n",
    "\n",
    "Attribute 11: (numerical)\n",
    "         Present residence since\n",
    "\n",
    "Attribute 12: (qualitative)\n",
    "         Property\n",
    "         A121 : real estate\n",
    "         A122 : if not A121 : building society savings agreement/\n",
    "                  life insurance\n",
    "         A123 : if not A121/A122 : car or other, not in attribute 6\n",
    "         A124 : unknown / no property\n",
    "\n",
    "Attribute 13: (numerical)\n",
    "         Age in years\n",
    "\n",
    "Attribute 14: (qualitative)\n",
    "         Other installment plans\n",
    "         A141 : bank\n",
    "         A142 : stores\n",
    "         A143 : none\n",
    "\n",
    "Attribute 15: (qualitative)\n",
    "         Housing\n",
    "         A151 : rent\n",
    "         A152 : own\n",
    "         A153 : for free\n",
    "\n",
    "Attribute 16: (numerical)\n",
    "         Number of existing credits at this bank\n",
    "\n",
    "Attribute 17: (qualitative)\n",
    "         Job\n",
    "         A171 : unemployed/ unskilled  - non-resident\n",
    "         A172 : unskilled - resident\n",
    "         A173 : skilled employee / official\n",
    "         A174 : management/ self-employed/\n",
    "                highly qualified employee/ officer\n",
    "\n",
    "Attribute 18: (numerical)\n",
    "         Number of people being liable to provide maintenance for\n",
    "\n",
    "Attribute 19: (qualitative)\n",
    "         Telephone\n",
    "         A191 : none\n",
    "         A192 : yes, registered under the customers name\n",
    "\n",
    "Attribute 20: (qualitative)\n",
    "         foreign worker\n",
    "         A201 : yes\n",
    "         A202 : no\n",
    "\n",
    "```\n",
    "\n",
    "## 7.2.9.2 Carga de datos"
   ]
  },
  {
   "cell_type": "code",
   "execution_count": 4,
   "metadata": {},
   "outputs": [
    {
     "name": "stdout",
     "output_type": "stream",
     "text": [
      "           name     role         type     demographic  \\\n",
      "0    Attribute1  Feature  Categorical            None   \n",
      "1    Attribute2  Feature      Integer            None   \n",
      "2    Attribute3  Feature  Categorical            None   \n",
      "3    Attribute4  Feature  Categorical            None   \n",
      "4    Attribute5  Feature      Integer            None   \n",
      "5    Attribute6  Feature  Categorical            None   \n",
      "6    Attribute7  Feature  Categorical           Other   \n",
      "7    Attribute8  Feature      Integer            None   \n",
      "8    Attribute9  Feature  Categorical  Marital Status   \n",
      "9   Attribute10  Feature  Categorical            None   \n",
      "10  Attribute11  Feature      Integer            None   \n",
      "11  Attribute12  Feature  Categorical            None   \n",
      "12  Attribute13  Feature      Integer             Age   \n",
      "13  Attribute14  Feature  Categorical            None   \n",
      "14  Attribute15  Feature  Categorical           Other   \n",
      "15  Attribute16  Feature      Integer            None   \n",
      "16  Attribute17  Feature  Categorical      Occupation   \n",
      "17  Attribute18  Feature      Integer            None   \n",
      "18  Attribute19  Feature       Binary            None   \n",
      "19  Attribute20  Feature       Binary           Other   \n",
      "20        class   Target       Binary            None   \n",
      "\n",
      "                                          description   units missing_values  \n",
      "0                 Status of existing checking account    None             no  \n",
      "1                                            Duration  months             no  \n",
      "2                                      Credit history    None             no  \n",
      "3                                             Purpose    None             no  \n",
      "4                                       Credit amount    None             no  \n",
      "5                               Savings account/bonds    None             no  \n",
      "6                            Present employment since    None             no  \n",
      "7   Installment rate in percentage of disposable i...    None             no  \n",
      "8                             Personal status and sex    None             no  \n",
      "9                          Other debtors / guarantors    None             no  \n",
      "10                            Present residence since    None             no  \n",
      "11                                           Property    None             no  \n",
      "12                                                Age   years             no  \n",
      "13                            Other installment plans    None             no  \n",
      "14                                            Housing    None             no  \n",
      "15            Number of existing credits at this bank    None             no  \n",
      "16                                                Job    None             no  \n",
      "17  Number of people being liable to provide maint...    None             no  \n",
      "18                                          Telephone    None             no  \n",
      "19                                     foreign worker    None             no  \n",
      "20                                  1 = Good, 2 = Bad    None             no  \n"
     ]
    }
   ],
   "source": [
    "columns = ['checking_balance','months_loan_duration','credit_history','purpose','amount','savings_balance',\n",
    "'employment_length','installment_rate','personal_status','other_debtors','residence_history',\n",
    "'property','age','installment_plan','housing','existing_credits','dependents','telephone',\n",
    "'foreign_worker','job']\n",
    "\n",
    "# fetch dataset \n",
    "statlog_german_credit_data = fetch_ucirepo(id=144) \n",
    "\n",
    "# data (as pandas dataframes) \n",
    "X = statlog_german_credit_data.data.features \n",
    "y = statlog_german_credit_data.data.targets\n",
    "\n",
    "X.columns = columns\n",
    "y.columns = ['default']\n",
    "\n",
    "# # metadata \n",
    "# print(statlog_german_credit_data.metadata) \n",
    "  \n",
    "# variable information \n",
    "print(statlog_german_credit_data.variables) "
   ]
  },
  {
   "cell_type": "code",
   "execution_count": 5,
   "metadata": {},
   "outputs": [
    {
     "data": {
      "text/html": [
       "<div>\n",
       "<style scoped>\n",
       "    .dataframe tbody tr th:only-of-type {\n",
       "        vertical-align: middle;\n",
       "    }\n",
       "\n",
       "    .dataframe tbody tr th {\n",
       "        vertical-align: top;\n",
       "    }\n",
       "\n",
       "    .dataframe thead th {\n",
       "        text-align: right;\n",
       "    }\n",
       "</style>\n",
       "<table border=\"1\" class=\"dataframe\">\n",
       "  <thead>\n",
       "    <tr style=\"text-align: right;\">\n",
       "      <th></th>\n",
       "      <th>checking_balance</th>\n",
       "      <th>months_loan_duration</th>\n",
       "      <th>credit_history</th>\n",
       "      <th>purpose</th>\n",
       "      <th>amount</th>\n",
       "      <th>savings_balance</th>\n",
       "      <th>employment_length</th>\n",
       "      <th>installment_rate</th>\n",
       "      <th>personal_status</th>\n",
       "      <th>other_debtors</th>\n",
       "      <th>residence_history</th>\n",
       "      <th>property</th>\n",
       "      <th>age</th>\n",
       "      <th>installment_plan</th>\n",
       "      <th>housing</th>\n",
       "      <th>existing_credits</th>\n",
       "      <th>dependents</th>\n",
       "      <th>telephone</th>\n",
       "      <th>foreign_worker</th>\n",
       "      <th>job</th>\n",
       "    </tr>\n",
       "  </thead>\n",
       "  <tbody>\n",
       "    <tr>\n",
       "      <th>0</th>\n",
       "      <td>A11</td>\n",
       "      <td>6</td>\n",
       "      <td>A34</td>\n",
       "      <td>A43</td>\n",
       "      <td>1169</td>\n",
       "      <td>A65</td>\n",
       "      <td>A75</td>\n",
       "      <td>4</td>\n",
       "      <td>A93</td>\n",
       "      <td>A101</td>\n",
       "      <td>4</td>\n",
       "      <td>A121</td>\n",
       "      <td>67</td>\n",
       "      <td>A143</td>\n",
       "      <td>A152</td>\n",
       "      <td>2</td>\n",
       "      <td>A173</td>\n",
       "      <td>1</td>\n",
       "      <td>A192</td>\n",
       "      <td>A201</td>\n",
       "    </tr>\n",
       "    <tr>\n",
       "      <th>1</th>\n",
       "      <td>A12</td>\n",
       "      <td>48</td>\n",
       "      <td>A32</td>\n",
       "      <td>A43</td>\n",
       "      <td>5951</td>\n",
       "      <td>A61</td>\n",
       "      <td>A73</td>\n",
       "      <td>2</td>\n",
       "      <td>A92</td>\n",
       "      <td>A101</td>\n",
       "      <td>2</td>\n",
       "      <td>A121</td>\n",
       "      <td>22</td>\n",
       "      <td>A143</td>\n",
       "      <td>A152</td>\n",
       "      <td>1</td>\n",
       "      <td>A173</td>\n",
       "      <td>1</td>\n",
       "      <td>A191</td>\n",
       "      <td>A201</td>\n",
       "    </tr>\n",
       "    <tr>\n",
       "      <th>2</th>\n",
       "      <td>A14</td>\n",
       "      <td>12</td>\n",
       "      <td>A34</td>\n",
       "      <td>A46</td>\n",
       "      <td>2096</td>\n",
       "      <td>A61</td>\n",
       "      <td>A74</td>\n",
       "      <td>2</td>\n",
       "      <td>A93</td>\n",
       "      <td>A101</td>\n",
       "      <td>3</td>\n",
       "      <td>A121</td>\n",
       "      <td>49</td>\n",
       "      <td>A143</td>\n",
       "      <td>A152</td>\n",
       "      <td>1</td>\n",
       "      <td>A172</td>\n",
       "      <td>2</td>\n",
       "      <td>A191</td>\n",
       "      <td>A201</td>\n",
       "    </tr>\n",
       "    <tr>\n",
       "      <th>3</th>\n",
       "      <td>A11</td>\n",
       "      <td>42</td>\n",
       "      <td>A32</td>\n",
       "      <td>A42</td>\n",
       "      <td>7882</td>\n",
       "      <td>A61</td>\n",
       "      <td>A74</td>\n",
       "      <td>2</td>\n",
       "      <td>A93</td>\n",
       "      <td>A103</td>\n",
       "      <td>4</td>\n",
       "      <td>A122</td>\n",
       "      <td>45</td>\n",
       "      <td>A143</td>\n",
       "      <td>A153</td>\n",
       "      <td>1</td>\n",
       "      <td>A173</td>\n",
       "      <td>2</td>\n",
       "      <td>A191</td>\n",
       "      <td>A201</td>\n",
       "    </tr>\n",
       "    <tr>\n",
       "      <th>4</th>\n",
       "      <td>A11</td>\n",
       "      <td>24</td>\n",
       "      <td>A33</td>\n",
       "      <td>A40</td>\n",
       "      <td>4870</td>\n",
       "      <td>A61</td>\n",
       "      <td>A73</td>\n",
       "      <td>3</td>\n",
       "      <td>A93</td>\n",
       "      <td>A101</td>\n",
       "      <td>4</td>\n",
       "      <td>A124</td>\n",
       "      <td>53</td>\n",
       "      <td>A143</td>\n",
       "      <td>A153</td>\n",
       "      <td>2</td>\n",
       "      <td>A173</td>\n",
       "      <td>2</td>\n",
       "      <td>A191</td>\n",
       "      <td>A201</td>\n",
       "    </tr>\n",
       "  </tbody>\n",
       "</table>\n",
       "</div>"
      ],
      "text/plain": [
       "  checking_balance  months_loan_duration credit_history purpose  amount  \\\n",
       "0              A11                     6            A34     A43    1169   \n",
       "1              A12                    48            A32     A43    5951   \n",
       "2              A14                    12            A34     A46    2096   \n",
       "3              A11                    42            A32     A42    7882   \n",
       "4              A11                    24            A33     A40    4870   \n",
       "\n",
       "  savings_balance employment_length  installment_rate personal_status  \\\n",
       "0             A65               A75                 4             A93   \n",
       "1             A61               A73                 2             A92   \n",
       "2             A61               A74                 2             A93   \n",
       "3             A61               A74                 2             A93   \n",
       "4             A61               A73                 3             A93   \n",
       "\n",
       "  other_debtors  residence_history property  age installment_plan housing  \\\n",
       "0          A101                  4     A121   67             A143    A152   \n",
       "1          A101                  2     A121   22             A143    A152   \n",
       "2          A101                  3     A121   49             A143    A152   \n",
       "3          A103                  4     A122   45             A143    A153   \n",
       "4          A101                  4     A124   53             A143    A153   \n",
       "\n",
       "   existing_credits dependents  telephone foreign_worker   job  \n",
       "0                 2       A173          1           A192  A201  \n",
       "1                 1       A173          1           A191  A201  \n",
       "2                 1       A172          2           A191  A201  \n",
       "3                 1       A173          2           A191  A201  \n",
       "4                 2       A173          2           A191  A201  "
      ]
     },
     "execution_count": 5,
     "metadata": {},
     "output_type": "execute_result"
    }
   ],
   "source": [
    "#\n",
    "# Contenido del archivo\n",
    "#\n",
    "X.head()"
   ]
  },
  {
   "cell_type": "code",
   "execution_count": 6,
   "metadata": {},
   "outputs": [
    {
     "data": {
      "text/plain": [
       "checking_balance        object\n",
       "months_loan_duration     int64\n",
       "credit_history          object\n",
       "purpose                 object\n",
       "amount                   int64\n",
       "savings_balance         object\n",
       "employment_length       object\n",
       "installment_rate         int64\n",
       "personal_status         object\n",
       "other_debtors           object\n",
       "residence_history        int64\n",
       "property                object\n",
       "age                      int64\n",
       "installment_plan        object\n",
       "housing                 object\n",
       "existing_credits         int64\n",
       "dependents              object\n",
       "telephone                int64\n",
       "foreign_worker          object\n",
       "job                     object\n",
       "dtype: object"
      ]
     },
     "execution_count": 6,
     "metadata": {},
     "output_type": "execute_result"
    }
   ],
   "source": [
    "#\n",
    "# Se verifican los tipos de datos de las columnas\n",
    "#\n",
    "X.dtypes"
   ]
  },
  {
   "cell_type": "markdown",
   "metadata": {},
   "source": [
    "## 7.2.9.3 Análisis Exploratorio"
   ]
  },
  {
   "cell_type": "code",
   "execution_count": 7,
   "metadata": {},
   "outputs": [
    {
     "data": {
      "text/plain": [
       "checking_balance\n",
       "A14    394\n",
       "A11    274\n",
       "A12    269\n",
       "A13     63\n",
       "Name: count, dtype: int64"
      ]
     },
     "execution_count": 7,
     "metadata": {},
     "output_type": "execute_result"
    }
   ],
   "source": [
    "#\n",
    "# Algunas de las columnas son numéricas y\n",
    "# las otras son factores.\n",
    "# DM corresponde a Deutsche Marks\n",
    "# se verifican algunos valores versus el code book.\n",
    "#\n",
    "X.checking_balance.value_counts()"
   ]
  },
  {
   "cell_type": "code",
   "execution_count": 8,
   "metadata": {},
   "outputs": [
    {
     "data": {
      "text/plain": [
       "savings_balance\n",
       "A61    603\n",
       "A65    183\n",
       "A62    103\n",
       "A63     63\n",
       "A64     48\n",
       "Name: count, dtype: int64"
      ]
     },
     "execution_count": 8,
     "metadata": {},
     "output_type": "execute_result"
    }
   ],
   "source": [
    "X.savings_balance.value_counts()"
   ]
  },
  {
   "cell_type": "code",
   "execution_count": 9,
   "metadata": {},
   "outputs": [
    {
     "data": {
      "text/plain": [
       "count     1000.000000\n",
       "mean      3271.258000\n",
       "std       2822.736876\n",
       "min        250.000000\n",
       "25%       1365.500000\n",
       "50%       2319.500000\n",
       "75%       3972.250000\n",
       "max      18424.000000\n",
       "Name: amount, dtype: float64"
      ]
     },
     "execution_count": 9,
     "metadata": {},
     "output_type": "execute_result"
    }
   ],
   "source": [
    "#\n",
    "# El monto del préstamo va desde 250 DM hasta 18.424 DM\n",
    "#\n",
    "X.amount.describe()"
   ]
  },
  {
   "cell_type": "code",
   "execution_count": 10,
   "metadata": {},
   "outputs": [
    {
     "data": {
      "text/plain": [
       "count    1000.000000\n",
       "mean       20.903000\n",
       "std        12.058814\n",
       "min         4.000000\n",
       "25%        12.000000\n",
       "50%        18.000000\n",
       "75%        24.000000\n",
       "max        72.000000\n",
       "Name: months_loan_duration, dtype: float64"
      ]
     },
     "execution_count": 10,
     "metadata": {},
     "output_type": "execute_result"
    }
   ],
   "source": [
    "#\n",
    "# La duración del préstamo va desde 4 hasta 72 meses\n",
    "#\n",
    "X.months_loan_duration.describe()"
   ]
  },
  {
   "cell_type": "code",
   "execution_count": 11,
   "metadata": {},
   "outputs": [
    {
     "data": {
      "text/plain": [
       "default\n",
       "1    700\n",
       "2    300\n",
       "Name: count, dtype: int64"
      ]
     },
     "execution_count": 11,
     "metadata": {},
     "output_type": "execute_result"
    }
   ],
   "source": [
    "#\n",
    "# La columna default indica si hubo problemas\n",
    "# en el pago del préstamo (1- pago, 2- no pago)\n",
    "# esta es la columna que se desea pronosticar\n",
    "# 1-si, 2-no\n",
    "#\n",
    "y.default.value_counts()"
   ]
  },
  {
   "cell_type": "markdown",
   "metadata": {},
   "source": [
    "## 7.2.9.4 Preprocesamiento"
   ]
  },
  {
   "cell_type": "code",
   "execution_count": 12,
   "metadata": {},
   "outputs": [],
   "source": [
    "#\n",
    "# Se construye un codificador para transformar\n",
    "# los strings a enteros (similar a factores en R)\n",
    "#\n",
    "enc = LabelEncoder()\n",
    "\n",
    "#\n",
    "# Se aplica el codificador a las columnas\n",
    "# del dataset\n",
    "#\n",
    "columns = [\n",
    "    \"checking_balance\",\n",
    "    \"credit_history\",\n",
    "    \"purpose\",\n",
    "    \"savings_balance\",\n",
    "    \"employment_length\",\n",
    "    \"personal_status\",\n",
    "    \"other_debtors\",\n",
    "    \"property\",\n",
    "    \"installment_plan\",\n",
    "    \"housing\",\n",
    "    \"dependents\",\n",
    "    \"telephone\",\n",
    "    \"foreign_worker\",\n",
    "    \"job\",\n",
    "]\n",
    "\n",
    "for column in columns:\n",
    "    X[column] = enc.fit_transform(X[column])"
   ]
  },
  {
   "cell_type": "markdown",
   "metadata": {},
   "source": [
    "## 7.2.9.5 Entrenamiento del modelo"
   ]
  },
  {
   "cell_type": "code",
   "execution_count": 13,
   "metadata": {},
   "outputs": [
    {
     "data": {
      "text/plain": [
       "array([[53, 18],\n",
       "       [15, 14]], dtype=int64)"
      ]
     },
     "execution_count": 13,
     "metadata": {},
     "output_type": "execute_result"
    }
   ],
   "source": [
    "#\n",
    "#  Se usa el 90% de los datos para entrenamiento\n",
    "#  y el 10% restante para prueba\n",
    "\n",
    "# Dividir los datos en conjuntos de entrenamiento y prueba\n",
    "X_train, X_test, y_train_true, y_test_true = train_test_split(X, y, test_size=0.1, random_state=42)\n",
    "\n",
    "#\n",
    "# Se construye el arbol\n",
    "#\n",
    "clf = DecisionTreeClassifier()\n",
    "\n",
    "#\n",
    "# Se entrena para los datos de prueba\n",
    "#\n",
    "clf.fit(X_train, y_train_true)\n",
    "\n",
    "#\n",
    "# Se pronostica para la muestra de prueba\n",
    "#\n",
    "y_test_pred = clf.predict(X_test)\n",
    "\n",
    "#\n",
    "# Métricas de desempeño\n",
    "#\n",
    "confusion_matrix(y_test_true, y_test_pred)"
   ]
  },
  {
   "cell_type": "code",
   "execution_count": 14,
   "metadata": {},
   "outputs": [
    {
     "name": "stdout",
     "output_type": "stream",
     "text": [
      "Accuracy: 0.67\n",
      "\n",
      "Classification Report:\n",
      "              precision    recall  f1-score   support\n",
      "\n",
      "           1       0.78      0.75      0.76        71\n",
      "           2       0.44      0.48      0.46        29\n",
      "\n",
      "    accuracy                           0.67       100\n",
      "   macro avg       0.61      0.61      0.61       100\n",
      "weighted avg       0.68      0.67      0.67       100\n",
      "\n"
     ]
    }
   ],
   "source": [
    "# Calcular la precisión\n",
    "accuracy = accuracy_score(y_test_true, y_test_pred)\n",
    "print(f'Accuracy: {accuracy:.2f}')\n",
    "\n",
    "# Imprimir el informe de clasificación\n",
    "print('\\nClassification Report:')\n",
    "print(classification_report(y_test_true, y_test_pred))"
   ]
  },
  {
   "cell_type": "code",
   "execution_count": 15,
   "metadata": {},
   "outputs": [
    {
     "name": "stdout",
     "output_type": "stream",
     "text": [
      "ok_\n"
     ]
    }
   ],
   "source": [
    "print('ok_')"
   ]
  }
 ],
 "metadata": {
  "kernelspec": {
   "display_name": "Python 3",
   "language": "python",
   "name": "python3"
  },
  "language_info": {
   "codemirror_mode": {
    "name": "ipython",
    "version": 3
   },
   "file_extension": ".py",
   "mimetype": "text/x-python",
   "name": "python",
   "nbconvert_exporter": "python",
   "pygments_lexer": "ipython3",
   "version": "3.12.1"
  }
 },
 "nbformat": 4,
 "nbformat_minor": 2
}
