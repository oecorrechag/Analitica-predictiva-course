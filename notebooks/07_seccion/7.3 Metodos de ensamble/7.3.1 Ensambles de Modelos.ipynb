{
 "cells": [
  {
   "cell_type": "markdown",
   "metadata": {},
   "source": [
    "# 7.3.1 Ensambles de Modelos"
   ]
  },
  {
   "cell_type": "code",
   "execution_count": 15,
   "metadata": {},
   "outputs": [
    {
     "name": "stdout",
     "output_type": "stream",
     "text": [
      "The autoreload extension is already loaded. To reload it, use:\n",
      "  %reload_ext autoreload\n"
     ]
    }
   ],
   "source": [
    "%load_ext autoreload\n",
    "%autoreload 2"
   ]
  },
  {
   "cell_type": "code",
   "execution_count": 25,
   "metadata": {},
   "outputs": [],
   "source": [
    "from ucimlrepo import fetch_ucirepo \n",
    "from sklearn.preprocessing import LabelEncoder\n",
    "from sklearn.ensemble import AdaBoostClassifier, GradientBoostingClassifier, RandomForestClassifier\n",
    "from sklearn.model_selection import train_test_split\n",
    "from sklearn.metrics import confusion_matrix, accuracy_score, recall_score, classification_report\n",
    "\n",
    "import warnings\n",
    "warnings.filterwarnings(\"ignore\")"
   ]
  },
  {
   "attachments": {
    "combiner.jpg": {
     "image/jpeg": "[encoded data removed]"
    }
   },
   "cell_type": "markdown",
   "metadata": {},
   "source": [
    "Link: https://youtu.be/oQYYx9ZMync?si=Iq_Fal0BeHRtBwyC\n",
    "\n",
    "La idea de combinar los resultados de varios modelos no es nueva; esta es conocida en la literatura de redes neuronales como ensambles de modelos, y en estadística como combinación de pronósticos. En esta lección se presentan los fundamentos de esta metodología y algunos de los modelos derivados a partir de esta idea.\n",
    "\n",
    "## 7.3.1.1 Definición\n",
    "\n",
    "Un ensamble es un tipo de modelo que permite la combinación de varios modelos de predicción para obtener un solo pronóstico basado en los pronósticos individuales de cada modelo. En la figura siguiente se presenta un esquema ilustrativo.\n",
    "\n",
    "![combiner.jpg](attachment:combiner.jpg)\n",
    "\n",
    "La clave de la operación de esta metodología se basa en la diversidad, la cual puede obtenerse de diferentes formas:\n",
    "\n",
    "- Variando los datos de entrenamiento: se usa el mismo modelo en todos los casos, pero para cada uno de ellos se usa una muestra de entrenamiento obtenida por boostraping; así cada modelo tiene parámetros diferentes ya que fue estimado sobre una muestra diferente.\n",
    "\n",
    "- Variando la configuración del modelo: se usan exactamente los mismos datos de entrenamiento, pero sobre diferentes modelos obtenidos variando su configuración; por ejemplo, el mismo modelo pero con diferente configuración (entradas usadas, complejidad, etc). Inclusive se pueden utilizar distintos modelos.\n",
    "\n",
    "- Una combinación de los dos anteriores.\n",
    "\n",
    "El combinador es un mecanismo que obtiene un único pronóstico a partir de los pronósticos individuales de cada modelo. Para problemas de clasificación, la conbinación se hace por votación. En problemas de regresión, mediante promedio simple, promedio combinado o, inclusive, regresión.\n",
    "\n",
    "Diferentes metodologías se han desarrollado sobre este concepto.\n",
    "\n",
    "## 7.3.1.2 Bagging (Bootstrap aggregation)\n",
    "\n",
    "En esta metodología, la diversidad se obtiene al entrenar un mismo modelo sobre diferentes conjuntos de entrenamiento usando bootstraping. La combinación se hace por votación para problemas de clasificación y por promedio para problemas numéricos.\n",
    "\n",
    "## 7.3.1.3 AdaBoosting (Adaptive Boosting)\n",
    "\n",
    "En este caso, los conjuntos de dato son diseñados especificamente para generar modelos complementarios. De forma simplificada, el algoritmo procede de la siguiente forma:\n",
    "\n",
    "- Paso 1: Se construye un clasificador sobre todos los datos de entrenamiento.\n",
    "- Paso 2: Se construye un nuevo conjunto de datos con los ejemplos mal clasificados (o una porción de ellos).\n",
    "- Paso 3: se construye un nuevo clasificador con los datos obtenidos en el paso 2.\n",
    "- Paso 4: Se retorna al Paso 2.\n",
    "\n",
    "El proceso itera hasta que se alcanza una precisión requerida o el número máximo de clasificadores permitidos en el ensamble. La ponderación se realiza dando más peso a los modelos con mejor desempeño, de tal forma, que el desempeño es, al menos, similar al del mejor clasificador obtenido.\n",
    "\n",
    "## 7.3.1.4 Random forest\n",
    "\n",
    "En este método se combinan el bagging con la selección aleatoria de caracteríticas para aumetar la diversidad. La salida del modelo se obtiene por votación. Cada ejemplo que no es considerado durante el entrenamiento es usado como parte del conjunto de prueba."
   ]
  },
  {
   "cell_type": "markdown",
   "metadata": {},
   "source": [
    "## 7.3.1.5 Carga y preparación"
   ]
  },
  {
   "cell_type": "code",
   "execution_count": 17,
   "metadata": {},
   "outputs": [],
   "source": [
    "columns = ['checking_balance','months_loan_duration','credit_history','purpose','amount','savings_balance',\n",
    "'employment_length','installment_rate','personal_status','other_debtors','residence_history',\n",
    "'property','age','installment_plan','housing','existing_credits','dependents','telephone',\n",
    "'foreign_worker','job']\n",
    "\n",
    "# fetch dataset \n",
    "statlog_german_credit_data = fetch_ucirepo(id=144) \n",
    "\n",
    "# data (as pandas dataframes) \n",
    "X = statlog_german_credit_data.data.features \n",
    "y = statlog_german_credit_data.data.targets\n",
    "\n",
    "X.columns = columns\n",
    "y.columns = ['default']"
   ]
  },
  {
   "cell_type": "code",
   "execution_count": 18,
   "metadata": {},
   "outputs": [],
   "source": [
    "#\n",
    "# Se construye un codificador para transformar\n",
    "# los strings a enteros (similar a factores en R)\n",
    "#\n",
    "enc = LabelEncoder()\n",
    "\n",
    "#\n",
    "# Se aplica el codificador a las columnas\n",
    "# del dataset\n",
    "#\n",
    "columns = [\n",
    "    \"checking_balance\",\n",
    "    \"credit_history\",\n",
    "    \"purpose\",\n",
    "    \"savings_balance\",\n",
    "    \"employment_length\",\n",
    "    \"personal_status\",\n",
    "    \"other_debtors\",\n",
    "    \"property\",\n",
    "    \"installment_plan\",\n",
    "    \"housing\",\n",
    "    \"dependents\",\n",
    "    \"telephone\",\n",
    "    \"foreign_worker\",\n",
    "    \"job\",\n",
    "]\n",
    "\n",
    "for column in columns:\n",
    "    X[column] = enc.fit_transform(X[column])"
   ]
  },
  {
   "cell_type": "code",
   "execution_count": 19,
   "metadata": {},
   "outputs": [],
   "source": [
    "# Dividir los datos en conjuntos de entrenamiento y prueba\n",
    "X_train, X_test, y_train, y_test = train_test_split(X, y, test_size=0.1, random_state=42)"
   ]
  },
  {
   "cell_type": "markdown",
   "metadata": {},
   "source": [
    "## 7.3.1.6 Construcción de modelos y métricas de desempeño"
   ]
  },
  {
   "cell_type": "code",
   "execution_count": 20,
   "metadata": {},
   "outputs": [],
   "source": [
    "#\n",
    "# Bagging\n",
    "#\n",
    "\n",
    "y_test_pred_GradientBoosting = (\n",
    "    GradientBoostingClassifier(n_estimators=10)\n",
    "    .fit(X_train, y_train)\n",
    "    .predict(X_test)\n",
    ")\n",
    "\n",
    "#\n",
    "# AdaBoosting\n",
    "#\n",
    "\n",
    "y_test_pred_AdaBoost = (\n",
    "    AdaBoostClassifier(n_estimators=10).fit(X_train, y_train).predict(X_test)\n",
    ")\n",
    "\n",
    "#\n",
    "# Random Forest\n",
    "#\n",
    "\n",
    "y_test_pred_RandomForest = (\n",
    "    RandomForestClassifier(n_estimators=10).fit(X_train, y_train).predict(X_test)\n",
    ")"
   ]
  },
  {
   "cell_type": "code",
   "execution_count": 26,
   "metadata": {},
   "outputs": [
    {
     "name": "stdout",
     "output_type": "stream",
     "text": [
      "Accuracy: 0.76\n",
      "Recall: 0.97\n",
      "\n",
      "Classification Report:\n",
      "              precision    recall  f1-score   support\n",
      "\n",
      "           1       0.76      0.97      0.85        71\n",
      "           2       0.78      0.24      0.37        29\n",
      "\n",
      "    accuracy                           0.76       100\n",
      "   macro avg       0.77      0.61      0.61       100\n",
      "weighted avg       0.76      0.76      0.71       100\n",
      "\n"
     ]
    },
    {
     "data": {
      "text/plain": [
       "array([[69,  2],\n",
       "       [22,  7]], dtype=int64)"
      ]
     },
     "execution_count": 26,
     "metadata": {},
     "output_type": "execute_result"
    }
   ],
   "source": [
    "# Calcular la precisión\n",
    "accuracy = accuracy_score(y_test, y_test_pred_GradientBoosting)\n",
    "print(f'Accuracy: {accuracy:.2f}')\n",
    "\n",
    "# Calcular la sensibilidad (recall)\n",
    "recall = recall_score(y_test, y_test_pred_GradientBoosting)\n",
    "print(f'Recall: {recall:.2f}')\n",
    "\n",
    "# Imprimir el informe de clasificación\n",
    "print('\\nClassification Report:')\n",
    "print(classification_report(y_test, y_test_pred_GradientBoosting))\n",
    "\n",
    "confusion_matrix(y_test, y_test_pred_GradientBoosting)"
   ]
  },
  {
   "cell_type": "code",
   "execution_count": 29,
   "metadata": {},
   "outputs": [
    {
     "name": "stdout",
     "output_type": "stream",
     "text": [
      "Accuracy: 0.75\n",
      "Recall: 0.86\n",
      "\n",
      "Classification Report:\n",
      "              precision    recall  f1-score   support\n",
      "\n",
      "           1       0.80      0.86      0.83        71\n",
      "           2       0.58      0.48      0.53        29\n",
      "\n",
      "    accuracy                           0.75       100\n",
      "   macro avg       0.69      0.67      0.68       100\n",
      "weighted avg       0.74      0.75      0.74       100\n",
      "\n"
     ]
    },
    {
     "data": {
      "text/plain": [
       "array([[61, 10],\n",
       "       [15, 14]], dtype=int64)"
      ]
     },
     "execution_count": 29,
     "metadata": {},
     "output_type": "execute_result"
    }
   ],
   "source": [
    "# Calcular la precisión\n",
    "accuracy = accuracy_score(y_test, y_test_pred_AdaBoost)\n",
    "print(f'Accuracy: {accuracy:.2f}')\n",
    "\n",
    "# Calcular la sensibilidad (recall)\n",
    "recall = recall_score(y_test, y_test_pred_AdaBoost)\n",
    "print(f'Recall: {recall:.2f}')\n",
    "\n",
    "# Imprimir el informe de clasificación\n",
    "print('\\nClassification Report:')\n",
    "print(classification_report(y_test, y_test_pred_AdaBoost))\n",
    "\n",
    "confusion_matrix(y_test, y_test_pred_AdaBoost)"
   ]
  },
  {
   "cell_type": "code",
   "execution_count": 30,
   "metadata": {},
   "outputs": [
    {
     "name": "stdout",
     "output_type": "stream",
     "text": [
      "Accuracy: 0.79\n",
      "Recall: 0.86\n",
      "\n",
      "Classification Report:\n",
      "              precision    recall  f1-score   support\n",
      "\n",
      "           1       0.85      0.86      0.85        71\n",
      "           2       0.64      0.62      0.63        29\n",
      "\n",
      "    accuracy                           0.79       100\n",
      "   macro avg       0.75      0.74      0.74       100\n",
      "weighted avg       0.79      0.79      0.79       100\n",
      "\n"
     ]
    },
    {
     "data": {
      "text/plain": [
       "array([[61, 10],\n",
       "       [11, 18]], dtype=int64)"
      ]
     },
     "execution_count": 30,
     "metadata": {},
     "output_type": "execute_result"
    }
   ],
   "source": [
    "# Calcular la precisión\n",
    "accuracy = accuracy_score(y_test, y_test_pred_RandomForest)\n",
    "print(f'Accuracy: {accuracy:.2f}')\n",
    "\n",
    "# Calcular la sensibilidad (recall)\n",
    "recall = recall_score(y_test, y_test_pred_RandomForest)\n",
    "print(f'Recall: {recall:.2f}')\n",
    "\n",
    "# Imprimir el informe de clasificación\n",
    "print('\\nClassification Report:')\n",
    "print(classification_report(y_test, y_test_pred_RandomForest))\n",
    "\n",
    "confusion_matrix(y_test, y_test_pred_RandomForest)"
   ]
  },
  {
   "cell_type": "code",
   "execution_count": 24,
   "metadata": {},
   "outputs": [
    {
     "name": "stdout",
     "output_type": "stream",
     "text": [
      "ok_\n"
     ]
    }
   ],
   "source": [
    "print('ok_')"
   ]
  }
 ],
 "metadata": {
  "kernelspec": {
   "display_name": "Python 3",
   "language": "python",
   "name": "python3"
  },
  "language_info": {
   "codemirror_mode": {
    "name": "ipython",
    "version": 3
   },
   "file_extension": ".py",
   "mimetype": "text/x-python",
   "name": "python",
   "nbconvert_exporter": "python",
   "pygments_lexer": "ipython3",
   "version": "3.12.1"
  }
 },
 "nbformat": 4,
 "nbformat_minor": 2
}
