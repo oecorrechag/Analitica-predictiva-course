{
 "cells": [
  {
   "cell_type": "markdown",
   "metadata": {},
   "source": [
    "# 7.3.2 Visualización del ajuste de boosted trees en regresion"
   ]
  },
  {
   "cell_type": "code",
   "execution_count": null,
   "metadata": {},
   "outputs": [],
   "source": [
    "%load_ext autoreload\n",
    "%autoreload 2"
   ]
  },
  {
   "cell_type": "code",
   "execution_count": null,
   "metadata": {},
   "outputs": [],
   "source": [
    "import numpy as np\n",
    "import pandas as pd\n",
    "import matplotlib.pyplot as plt\n",
    "import plotly.graph_objects as go\n",
    "from scipy.interpolate import griddata\n",
    "from sklearn.linear_model import LinearRegression\n",
    "from sklearn.ensemble import GradientBoostingRegressor\n",
    "from sklearn.metrics import mean_squared_error\n",
    "\n",
    "import warnings\n",
    "warnings.filterwarnings(\"ignore\")"
   ]
  },
  {
   "cell_type": "markdown",
   "metadata": {},
   "source": [
    "Link: https://youtu.be/jucweMJNkwA?si=8aRWYDPwa_rh5PB5\n",
    "\n",
    "Links: https://blog.tensorflow.org/2019/03/how-to-train-boosted-trees-models-in-tensorflow.html\n",
    "\n",
    "Los ensambles de árboles de regresión permiten aproximar relaciones muy complejas entre las variables de entrada y las variables de salida. En esta lección se presenta un ejemplo de regresión usando scikit-learn, el cual fue adaptado de la documentación de TensorFlow."
   ]
  },
  {
   "cell_type": "markdown",
   "metadata": {},
   "source": [
    "## 7.3.2.1 Datasets"
   ]
  },
  {
   "cell_type": "code",
   "execution_count": null,
   "metadata": {},
   "outputs": [],
   "source": [
    "#\n",
    "# Datos para entrenamiento\n",
    "#\n",
    "npts = 5000\n",
    "np.random.seed(0)\n",
    "\n",
    "x = np.random.uniform(-2, 2, npts)\n",
    "y = np.random.uniform(-2, 2, npts)\n",
    "z = x * np.exp(-(x ** 2) - y ** 2)\n",
    "\n",
    "df = pd.DataFrame(\n",
    "    {\n",
    "        \"x\": x,\n",
    "        \"y\": y,\n",
    "        \"z\": z,\n",
    "    }\n",
    ")\n",
    "\n",
    "NUM_EXAMPLES = len(z)"
   ]
  },
  {
   "cell_type": "code",
   "execution_count": null,
   "metadata": {},
   "outputs": [],
   "source": [
    "#\n",
    "# Datos para pronóstico\n",
    "#\n",
    "\n",
    "xi = (np.linspace(-2.0, 2.0, 200),)\n",
    "yi = (np.linspace(-2.1, 2.1, 210),)\n",
    "xi, yi = np.meshgrid(xi, yi)\n",
    "\n",
    "df_predict = pd.DataFrame(\n",
    "    {\n",
    "        \"x\": xi.flatten(),\n",
    "        \"y\": yi.flatten(),\n",
    "    }\n",
    ")\n",
    "\n",
    "predict_shape = xi.shape"
   ]
  },
  {
   "cell_type": "markdown",
   "metadata": {},
   "source": [
    "## 7.3.2.2 Grafica de contorno"
   ]
  },
  {
   "cell_type": "code",
   "execution_count": null,
   "metadata": {},
   "outputs": [],
   "source": [
    "def plot_contour(x, y, z, **kwargs):\n",
    "\n",
    "    plt.figure(figsize=(10, 8))\n",
    "\n",
    "    CS = plt.contour(x, y, z, 15, linewidths=1.0, colors=\"k\")\n",
    "\n",
    "    CS = plt.contourf(x, y, z, 15, cmap=\"RdBu_r\")\n",
    "\n",
    "    plt.colorbar()\n",
    "    plt.xlim(-2, 2)\n",
    "    plt.ylim(-2, 2)"
   ]
  },
  {
   "cell_type": "code",
   "execution_count": null,
   "metadata": {},
   "outputs": [],
   "source": [
    "zi = griddata(df[[\"x\", \"y\"]].values, df.z, (xi, yi), method=\"linear\")\n",
    "\n",
    "plot_contour(xi, yi, zi)\n",
    "plt.scatter(df.x, df.y, marker=\".\")\n",
    "plt.title(\"Contour on training data\");"
   ]
  },
  {
   "cell_type": "markdown",
   "metadata": {},
   "source": [
    "## 7.3.2.3 Regresión lineal"
   ]
  },
  {
   "cell_type": "code",
   "execution_count": null,
   "metadata": {},
   "outputs": [],
   "source": [
    "linearRegression = LinearRegression(fit_intercept=True, n_jobs=-1)\n",
    "\n",
    "linearRegression.fit(df[[\"x\", \"y\"]].values, df.z)\n",
    "\n",
    "plot_contour(\n",
    "    xi,\n",
    "    yi,\n",
    "    linearRegression.predict(df_predict[[\"x\", \"y\"]].values).reshape(predict_shape),\n",
    ")"
   ]
  },
  {
   "cell_type": "markdown",
   "metadata": {},
   "source": [
    "## 7.3.2.4 Gradient Boosting Regressor"
   ]
  },
  {
   "cell_type": "code",
   "execution_count": null,
   "metadata": {},
   "outputs": [],
   "source": [
    "def create_gbt(n_estimators):\n",
    "\n",
    "    gradientBoostingRegressor = GradientBoostingRegressor(\n",
    "        loss=\"squared_error\",\n",
    "        learning_rate=0.1,\n",
    "        n_estimators=n_estimators,\n",
    "        subsample=1.0,\n",
    "        criterion=\"friedman_mse\",\n",
    "        min_samples_split=2,\n",
    "        min_samples_leaf=1,\n",
    "        min_weight_fraction_leaf=0.0,\n",
    "        max_depth=6,\n",
    "        min_impurity_decrease=0.0,\n",
    "        init=None,\n",
    "        random_state=12345,\n",
    "        max_features=None,\n",
    "        alpha=0.9,\n",
    "        verbose=0,\n",
    "        max_leaf_nodes=None,\n",
    "        warm_start=False,\n",
    "        # presort=\"auto\",\n",
    "        validation_fraction=0.1,\n",
    "        n_iter_no_change=None,\n",
    "        tol=0.0001,\n",
    "    )\n",
    "\n",
    "    gradientBoostingRegressor.fit(df[[\"x\", \"y\"]].values, df.z)\n",
    "\n",
    "    plot_contour(\n",
    "        xi,\n",
    "        yi,\n",
    "        gradientBoostingRegressor.predict(df_predict[[\"x\", \"y\"]].values).reshape(\n",
    "            predict_shape\n",
    "        ),\n",
    "    )\n",
    "\n",
    "    plt.text(-2.0, 2.1, \"# trees: {}\".format(n_estimators), size=20);"
   ]
  },
  {
   "cell_type": "code",
   "execution_count": null,
   "metadata": {},
   "outputs": [],
   "source": [
    "create_gbt(1)"
   ]
  },
  {
   "cell_type": "code",
   "execution_count": null,
   "metadata": {},
   "outputs": [],
   "source": [
    "create_gbt(5)"
   ]
  },
  {
   "cell_type": "code",
   "execution_count": null,
   "metadata": {},
   "outputs": [],
   "source": [
    "create_gbt(10)"
   ]
  },
  {
   "cell_type": "code",
   "execution_count": null,
   "metadata": {},
   "outputs": [],
   "source": [
    "create_gbt(20)"
   ]
  },
  {
   "cell_type": "code",
   "execution_count": null,
   "metadata": {},
   "outputs": [],
   "source": [
    "create_gbt(50)"
   ]
  },
  {
   "cell_type": "markdown",
   "metadata": {},
   "source": [
    "## 7.3.2.5 Parte 2"
   ]
  },
  {
   "cell_type": "code",
   "execution_count": null,
   "metadata": {},
   "outputs": [],
   "source": [
    "def create_gbt2(n_estimators):\n",
    "\n",
    "    gradientBoostingRegressor = GradientBoostingRegressor(\n",
    "        loss=\"squared_error\",\n",
    "        learning_rate=0.1,\n",
    "        n_estimators=n_estimators,\n",
    "        subsample=1.0,\n",
    "        criterion=\"friedman_mse\",\n",
    "        min_samples_split=2,\n",
    "        min_samples_leaf=1,\n",
    "        min_weight_fraction_leaf=0.0,\n",
    "        max_depth=6,\n",
    "        min_impurity_decrease=0.0,\n",
    "        init=None,\n",
    "        random_state=12345,\n",
    "        max_features=None,\n",
    "        alpha=0.9,\n",
    "        verbose=0,\n",
    "        max_leaf_nodes=None,\n",
    "        warm_start=False,\n",
    "        # presort=\"auto\",\n",
    "        validation_fraction=0.1,\n",
    "        n_iter_no_change=None,\n",
    "        tol=0.0001,\n",
    "    )\n",
    "\n",
    "    gradientBoostingRegressor.fit(df[[\"x\", \"y\"]].values, df.z)\n",
    "\n",
    "    y_pred = gradientBoostingRegressor.predict(df[[\"x\", \"y\"]].values)\n",
    "    df['predicciones'] = y_pred\n",
    "\n",
    "    return df"
   ]
  },
  {
   "cell_type": "code",
   "execution_count": null,
   "metadata": {},
   "outputs": [],
   "source": [
    "df2 = create_gbt2(2)\n",
    "df2.head()"
   ]
  },
  {
   "cell_type": "code",
   "execution_count": null,
   "metadata": {},
   "outputs": [],
   "source": []
  },
  {
   "cell_type": "code",
   "execution_count": null,
   "metadata": {},
   "outputs": [],
   "source": []
  },
  {
   "cell_type": "code",
   "execution_count": null,
   "metadata": {},
   "outputs": [],
   "source": [
    "mse = mean_squared_error(df['z'], df['predicciones'])\n",
    "print(f'Mean Squared Error on the test set: {mse}')"
   ]
  },
  {
   "cell_type": "code",
   "execution_count": null,
   "metadata": {},
   "outputs": [],
   "source": [
    "plt.plot(df['z'], df['predicciones'], marker='o', linestyle='-', color='b', label='Datos de ejemplo')\n",
    "\n",
    "# Personalizar el gráfico\n",
    "plt.title('Gráfico de dos variables')\n",
    "plt.xlabel('Variable X')\n",
    "plt.ylabel('Variable Y')\n",
    "plt.legend()  # Agregar la leyenda\n",
    "\n",
    "# Mostrar el gráfico\n",
    "plt.show()"
   ]
  },
  {
   "cell_type": "code",
   "execution_count": null,
   "metadata": {},
   "outputs": [],
   "source": []
  },
  {
   "cell_type": "markdown",
   "metadata": {},
   "source": [
    "## 7.3.2.6 Parte 3"
   ]
  },
  {
   "cell_type": "code",
   "execution_count": null,
   "metadata": {},
   "outputs": [],
   "source": [
    "import numpy as np\n",
    "import pandas as pd\n",
    "import tensorflow as tf\n",
    "tf.enable_eager_execution()\n",
    "\n",
    "# Load dataset.\n",
    "dftrain = pd.read_csv('https://storage.googleapis.com/tf-datasets/titanic/train.csv')\n",
    "dfeval = pd.read_csv('https://storage.googleapis.com/tf-datasets/titanic/eval.csv')\n",
    "y_train = dftrain.pop('survived')\n",
    "y_eval = dfeval.pop('survived')"
   ]
  },
  {
   "cell_type": "code",
   "execution_count": null,
   "metadata": {},
   "outputs": [],
   "source": []
  },
  {
   "cell_type": "code",
   "execution_count": null,
   "metadata": {},
   "outputs": [],
   "source": [
    "print('ok_')"
   ]
  }
 ],
 "metadata": {
  "kernelspec": {
   "display_name": "Python 3",
   "language": "python",
   "name": "python3"
  },
  "language_info": {
   "codemirror_mode": {
    "name": "ipython",
    "version": 3
   },
   "file_extension": ".py",
   "mimetype": "text/x-python",
   "name": "python",
   "nbconvert_exporter": "python",
   "pygments_lexer": "ipython3",
   "version": "3.12.1"
  }
 },
 "nbformat": 4,
 "nbformat_minor": 2
}
