{
 "cells": [
  {
   "cell_type": "markdown",
   "metadata": {},
   "source": [
    "# 7.7.2 MiniBatchKMeans"
   ]
  },
  {
   "cell_type": "code",
   "execution_count": 1,
   "metadata": {},
   "outputs": [],
   "source": [
    "%load_ext autoreload\n",
    "%autoreload 2"
   ]
  },
  {
   "cell_type": "code",
   "execution_count": 2,
   "metadata": {},
   "outputs": [],
   "source": [
    "from sklearn.datasets import make_blobs\n",
    "from sklearn.cluster import MiniBatchKMeans\n",
    "\n",
    "import warnings\n",
    "warnings.filterwarnings(\"ignore\")"
   ]
  },
  {
   "cell_type": "markdown",
   "metadata": {},
   "source": [
    "Esta es una variación del algoritmo KMeans el cual usa batches de datos para reducir el tiempo de cómputo del algoritmo.\n",
    "\n",
    "- Se generan los centros de los clusters.\n",
    "- Se extraen $b$ muestras del dataset para formar un mini batch.\n",
    "- Se actualizan los centros de los clusters a medida que se asignan las muestras (mecanismo online)."
   ]
  },
  {
   "cell_type": "code",
   "execution_count": 3,
   "metadata": {},
   "outputs": [],
   "source": [
    "X, y = make_blobs(\n",
    "    n_samples=90,\n",
    "    n_features=2,\n",
    "    centers=[\n",
    "        [8, -8],\n",
    "        [7, 8],\n",
    "        [-6, -1],\n",
    "    ],\n",
    "    cluster_std=2.0,\n",
    "    shuffle=False,\n",
    "    random_state=5,\n",
    ")"
   ]
  },
  {
   "cell_type": "code",
   "execution_count": 4,
   "metadata": {},
   "outputs": [
    {
     "data": {
      "text/plain": [
       "array([[ 6.70256759,  8.32709288],\n",
       "       [-5.85075936, -1.17348052],\n",
       "       [ 8.05189289, -7.40388817]])"
      ]
     },
     "execution_count": 4,
     "metadata": {},
     "output_type": "execute_result"
    }
   ],
   "source": [
    "batchKMeans = MiniBatchKMeans(\n",
    "    # -------------------------------------------------------------------------\n",
    "    # The number of clusters\n",
    "    n_clusters=3,\n",
    "    # -------------------------------------------------------------------------\n",
    "    # Method for initialization\n",
    "    init='k-means++',\n",
    "    # -------------------------------------------------------------------------\n",
    "    # Maximum number of iterations over the complete dataset before stopping\n",
    "    # independently of any early stopping criterion heuristics.\n",
    "    max_iter=100,\n",
    "    # -------------------------------------------------------------------------\n",
    "    # Size of the mini batches.\n",
    "    batch_size=1024,\n",
    "    # -------------------------------------------------------------------------\n",
    "    # Verbosity mode.\n",
    "    verbose=0,\n",
    "    # -------------------------------------------------------------------------\n",
    "    # Compute label assignment and inertia for the complete dataset once the\n",
    "    # minibatch optimization has converged in fit.\n",
    "    compute_labels=True,\n",
    "    # -------------------------------------------------------------------------\n",
    "    # Determines random number generation for centroid initialization and\n",
    "    # random reassignment.\n",
    "    random_state=None,\n",
    "    # -------------------------------------------------------------------------\n",
    "    # Control early stopping based on the consecutive number of mini batches\n",
    "    # that does not yield an improvement on the smoothed inertia.\n",
    "    max_no_improvement=10,\n",
    "    # -------------------------------------------------------------------------\n",
    "    # Number of samples to randomly sample for speeding up the initialization\n",
    "    init_size=None,\n",
    "    # -------------------------------------------------------------------------\n",
    "    # Number of random initializations that are tried.\n",
    "    n_init=3,\n",
    ")\n",
    "\n",
    "\n",
    "batchKMeans.fit(X)\n",
    "\n",
    "batchKMeans.cluster_centers_"
   ]
  },
  {
   "cell_type": "code",
   "execution_count": 5,
   "metadata": {},
   "outputs": [
    {
     "data": {
      "text/plain": [
       "array([2, 2, 2, 2, 2, 2, 2, 2, 2, 2, 2, 2, 2, 2, 2, 2, 2, 2, 2, 2, 2, 2,\n",
       "       2, 2, 2, 2, 2, 2, 2, 2, 0, 0, 0, 0, 0, 0, 0, 0, 0, 0, 0, 0, 0, 0,\n",
       "       0, 0, 0, 0, 0, 0, 0, 0, 0, 0, 0, 0, 0, 0, 0, 0, 1, 1, 1, 1, 1, 1,\n",
       "       1, 1, 1, 1, 1, 1, 1, 1, 1, 1, 1, 1, 1, 1, 1, 1, 1, 1, 1, 1, 1, 1,\n",
       "       1, 1])"
      ]
     },
     "execution_count": 5,
     "metadata": {},
     "output_type": "execute_result"
    }
   ],
   "source": [
    "batchKMeans.labels_"
   ]
  },
  {
   "cell_type": "code",
   "execution_count": 6,
   "metadata": {},
   "outputs": [
    {
     "name": "stdout",
     "output_type": "stream",
     "text": [
      "ok_\n"
     ]
    }
   ],
   "source": [
    "print('ok_')"
   ]
  }
 ],
 "metadata": {
  "kernelspec": {
   "display_name": "Python 3",
   "language": "python",
   "name": "python3"
  },
  "language_info": {
   "codemirror_mode": {
    "name": "ipython",
    "version": 3
   },
   "file_extension": ".py",
   "mimetype": "text/x-python",
   "name": "python",
   "nbconvert_exporter": "python",
   "pygments_lexer": "ipython3",
   "version": "3.12.1"
  }
 },
 "nbformat": 4,
 "nbformat_minor": 2
}
