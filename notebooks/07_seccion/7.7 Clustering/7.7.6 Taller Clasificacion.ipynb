{
 "cells": [
  {
   "cell_type": "markdown",
   "metadata": {},
   "source": [
    "# 7.7.6 Taller: Clasificación"
   ]
  },
  {
   "cell_type": "code",
   "execution_count": 5,
   "metadata": {},
   "outputs": [
    {
     "name": "stdout",
     "output_type": "stream",
     "text": [
      "The autoreload extension is already loaded. To reload it, use:\n",
      "  %reload_ext autoreload\n"
     ]
    }
   ],
   "source": [
    "%load_ext autoreload\n",
    "%autoreload 2"
   ]
  },
  {
   "cell_type": "code",
   "execution_count": 6,
   "metadata": {},
   "outputs": [],
   "source": [
    "import pandas as pd\n",
    "import numpy as np\n",
    "from sklearn.preprocessing import MinMaxScaler\n",
    "from sklearn.cluster import KMeans\n",
    "\n",
    "import warnings\n",
    "warnings.filterwarnings(\"ignore\")"
   ]
  },
  {
   "cell_type": "code",
   "execution_count": 7,
   "metadata": {},
   "outputs": [],
   "source": [
    "import sys\n",
    "sys.path.append(\"../../../../../\") \n",
    "\n",
    "from utils.paths import make_dir_line\n",
    "\n",
    "modality = 'u'\n",
    "project = 'Analitica predictiva'\n",
    "data = make_dir_line(modality, project)\n",
    "\n",
    "raw = data('raw')"
   ]
  },
  {
   "cell_type": "markdown",
   "metadata": {},
   "source": [
    "\n",
    "\n",
    "## 7.7.6.1 Descripción del problema\n",
    "\n",
    "\n",
    "\n",
    "## 7.7.6.2 Carga de los datos"
   ]
  },
  {
   "cell_type": "code",
   "execution_count": 8,
   "metadata": {},
   "outputs": [
    {
     "data": {
      "text/html": [
       "<div>\n",
       "<style scoped>\n",
       "    .dataframe tbody tr th:only-of-type {\n",
       "        vertical-align: middle;\n",
       "    }\n",
       "\n",
       "    .dataframe tbody tr th {\n",
       "        vertical-align: top;\n",
       "    }\n",
       "\n",
       "    .dataframe thead th {\n",
       "        text-align: right;\n",
       "    }\n",
       "</style>\n",
       "<table border=\"1\" class=\"dataframe\">\n",
       "  <thead>\n",
       "    <tr style=\"text-align: right;\">\n",
       "      <th></th>\n",
       "      <th>Fecha</th>\n",
       "      <th>H01</th>\n",
       "      <th>H02</th>\n",
       "      <th>H03</th>\n",
       "      <th>H04</th>\n",
       "      <th>H05</th>\n",
       "      <th>H06</th>\n",
       "      <th>H07</th>\n",
       "      <th>H08</th>\n",
       "      <th>H09</th>\n",
       "      <th>...</th>\n",
       "      <th>H15</th>\n",
       "      <th>H16</th>\n",
       "      <th>H17</th>\n",
       "      <th>H18</th>\n",
       "      <th>H19</th>\n",
       "      <th>H20</th>\n",
       "      <th>H21</th>\n",
       "      <th>H22</th>\n",
       "      <th>H23</th>\n",
       "      <th>H24</th>\n",
       "    </tr>\n",
       "  </thead>\n",
       "  <tbody>\n",
       "    <tr>\n",
       "      <th>0</th>\n",
       "      <td>2017-01-01</td>\n",
       "      <td>6090271.96</td>\n",
       "      <td>5887031.28</td>\n",
       "      <td>5708693.89</td>\n",
       "      <td>5538133.02</td>\n",
       "      <td>5389774.53</td>\n",
       "      <td>5288199.94</td>\n",
       "      <td>4851217.85</td>\n",
       "      <td>4876162.18</td>\n",
       "      <td>5073813.27</td>\n",
       "      <td>...</td>\n",
       "      <td>5745568.87</td>\n",
       "      <td>5647807.40</td>\n",
       "      <td>5609297.84</td>\n",
       "      <td>5690105.56</td>\n",
       "      <td>6761038.26</td>\n",
       "      <td>7077861.59</td>\n",
       "      <td>6979468.90</td>\n",
       "      <td>6695312.12</td>\n",
       "      <td>6289107.72</td>\n",
       "      <td>5794545.98</td>\n",
       "    </tr>\n",
       "    <tr>\n",
       "      <th>1</th>\n",
       "      <td>2017-01-02</td>\n",
       "      <td>5557603.42</td>\n",
       "      <td>5361012.17</td>\n",
       "      <td>5239119.86</td>\n",
       "      <td>5163721.70</td>\n",
       "      <td>5249539.75</td>\n",
       "      <td>5438852.95</td>\n",
       "      <td>5566947.57</td>\n",
       "      <td>6055220.80</td>\n",
       "      <td>6588005.66</td>\n",
       "      <td>...</td>\n",
       "      <td>7610559.73</td>\n",
       "      <td>7584026.97</td>\n",
       "      <td>7421194.49</td>\n",
       "      <td>7317194.26</td>\n",
       "      <td>8182697.67</td>\n",
       "      <td>8482127.69</td>\n",
       "      <td>8251009.75</td>\n",
       "      <td>7836278.95</td>\n",
       "      <td>7221234.85</td>\n",
       "      <td>6660691.64</td>\n",
       "    </tr>\n",
       "    <tr>\n",
       "      <th>2</th>\n",
       "      <td>2017-01-03</td>\n",
       "      <td>6160676.02</td>\n",
       "      <td>5924880.04</td>\n",
       "      <td>5764416.93</td>\n",
       "      <td>5685832.28</td>\n",
       "      <td>5778222.13</td>\n",
       "      <td>5985840.29</td>\n",
       "      <td>6083907.36</td>\n",
       "      <td>6545100.21</td>\n",
       "      <td>7092804.54</td>\n",
       "      <td>...</td>\n",
       "      <td>8148614.93</td>\n",
       "      <td>8117168.00</td>\n",
       "      <td>7930900.03</td>\n",
       "      <td>7783762.28</td>\n",
       "      <td>8653467.38</td>\n",
       "      <td>8835882.88</td>\n",
       "      <td>8562448.23</td>\n",
       "      <td>8095841.79</td>\n",
       "      <td>7443299.51</td>\n",
       "      <td>6840297.15</td>\n",
       "    </tr>\n",
       "    <tr>\n",
       "      <th>3</th>\n",
       "      <td>2017-01-04</td>\n",
       "      <td>6321851.20</td>\n",
       "      <td>6092135.24</td>\n",
       "      <td>5905390.85</td>\n",
       "      <td>5827867.82</td>\n",
       "      <td>5925730.02</td>\n",
       "      <td>6182279.89</td>\n",
       "      <td>6276759.96</td>\n",
       "      <td>6737660.53</td>\n",
       "      <td>7256819.19</td>\n",
       "      <td>...</td>\n",
       "      <td>8164513.51</td>\n",
       "      <td>8132006.92</td>\n",
       "      <td>7962749.39</td>\n",
       "      <td>7841533.59</td>\n",
       "      <td>8700506.07</td>\n",
       "      <td>8860255.66</td>\n",
       "      <td>8611085.76</td>\n",
       "      <td>8147451.75</td>\n",
       "      <td>7471240.82</td>\n",
       "      <td>6838250.32</td>\n",
       "    </tr>\n",
       "    <tr>\n",
       "      <th>4</th>\n",
       "      <td>2017-01-05</td>\n",
       "      <td>6395397.96</td>\n",
       "      <td>6162409.22</td>\n",
       "      <td>6001153.67</td>\n",
       "      <td>5918673.26</td>\n",
       "      <td>6005924.21</td>\n",
       "      <td>6225027.53</td>\n",
       "      <td>6322923.78</td>\n",
       "      <td>6739120.44</td>\n",
       "      <td>7307847.42</td>\n",
       "      <td>...</td>\n",
       "      <td>8144209.65</td>\n",
       "      <td>8136193.07</td>\n",
       "      <td>8022918.36</td>\n",
       "      <td>7927405.07</td>\n",
       "      <td>8718181.89</td>\n",
       "      <td>8832234.87</td>\n",
       "      <td>8579992.47</td>\n",
       "      <td>8063978.64</td>\n",
       "      <td>7406615.66</td>\n",
       "      <td>6829864.57</td>\n",
       "    </tr>\n",
       "    <tr>\n",
       "      <th>5</th>\n",
       "      <td>2017-01-06</td>\n",
       "      <td>6381819.62</td>\n",
       "      <td>6131392.34</td>\n",
       "      <td>5995648.54</td>\n",
       "      <td>5926665.13</td>\n",
       "      <td>6016864.72</td>\n",
       "      <td>6294425.78</td>\n",
       "      <td>6434787.53</td>\n",
       "      <td>6882054.00</td>\n",
       "      <td>7365946.07</td>\n",
       "      <td>...</td>\n",
       "      <td>8240411.86</td>\n",
       "      <td>8173415.39</td>\n",
       "      <td>7996806.30</td>\n",
       "      <td>7822605.04</td>\n",
       "      <td>8675548.79</td>\n",
       "      <td>8846841.24</td>\n",
       "      <td>8592264.60</td>\n",
       "      <td>8136250.38</td>\n",
       "      <td>7518243.88</td>\n",
       "      <td>6921639.21</td>\n",
       "    </tr>\n",
       "    <tr>\n",
       "      <th>6</th>\n",
       "      <td>2017-01-07</td>\n",
       "      <td>6525895.31</td>\n",
       "      <td>6240836.72</td>\n",
       "      <td>6090880.04</td>\n",
       "      <td>5990958.51</td>\n",
       "      <td>6031128.61</td>\n",
       "      <td>6153095.75</td>\n",
       "      <td>6153441.16</td>\n",
       "      <td>6494933.30</td>\n",
       "      <td>7032859.86</td>\n",
       "      <td>...</td>\n",
       "      <td>7541365.53</td>\n",
       "      <td>7431992.46</td>\n",
       "      <td>7301062.46</td>\n",
       "      <td>7354996.31</td>\n",
       "      <td>8254006.56</td>\n",
       "      <td>8462231.18</td>\n",
       "      <td>8247014.72</td>\n",
       "      <td>7846633.93</td>\n",
       "      <td>7263016.84</td>\n",
       "      <td>6748022.10</td>\n",
       "    </tr>\n",
       "    <tr>\n",
       "      <th>7</th>\n",
       "      <td>2017-01-08</td>\n",
       "      <td>6326836.49</td>\n",
       "      <td>6094599.00</td>\n",
       "      <td>5894932.99</td>\n",
       "      <td>5767066.60</td>\n",
       "      <td>5723343.19</td>\n",
       "      <td>5732869.09</td>\n",
       "      <td>5517452.94</td>\n",
       "      <td>5695553.38</td>\n",
       "      <td>6006775.90</td>\n",
       "      <td>...</td>\n",
       "      <td>6530022.48</td>\n",
       "      <td>6424695.70</td>\n",
       "      <td>6390754.63</td>\n",
       "      <td>6548894.08</td>\n",
       "      <td>7552952.28</td>\n",
       "      <td>7754913.10</td>\n",
       "      <td>7563722.46</td>\n",
       "      <td>7188256.16</td>\n",
       "      <td>6705884.31</td>\n",
       "      <td>6238894.75</td>\n",
       "    </tr>\n",
       "    <tr>\n",
       "      <th>8</th>\n",
       "      <td>2017-01-09</td>\n",
       "      <td>5917367.06</td>\n",
       "      <td>5725053.67</td>\n",
       "      <td>5567058.06</td>\n",
       "      <td>5496669.03</td>\n",
       "      <td>5532239.19</td>\n",
       "      <td>5566907.36</td>\n",
       "      <td>5397204.37</td>\n",
       "      <td>5600906.11</td>\n",
       "      <td>5965768.21</td>\n",
       "      <td>...</td>\n",
       "      <td>6659606.88</td>\n",
       "      <td>6544740.37</td>\n",
       "      <td>6509866.66</td>\n",
       "      <td>6712253.52</td>\n",
       "      <td>7703462.32</td>\n",
       "      <td>7979736.68</td>\n",
       "      <td>7716144.47</td>\n",
       "      <td>7297017.51</td>\n",
       "      <td>6795361.42</td>\n",
       "      <td>6321478.25</td>\n",
       "    </tr>\n",
       "    <tr>\n",
       "      <th>9</th>\n",
       "      <td>2017-01-10</td>\n",
       "      <td>5956092.23</td>\n",
       "      <td>5712085.93</td>\n",
       "      <td>5606050.44</td>\n",
       "      <td>5595323.09</td>\n",
       "      <td>5770049.55</td>\n",
       "      <td>6103857.89</td>\n",
       "      <td>6296790.66</td>\n",
       "      <td>6776968.47</td>\n",
       "      <td>7381221.79</td>\n",
       "      <td>...</td>\n",
       "      <td>8317358.60</td>\n",
       "      <td>8286351.48</td>\n",
       "      <td>8191637.05</td>\n",
       "      <td>8053310.11</td>\n",
       "      <td>8803188.92</td>\n",
       "      <td>8925547.21</td>\n",
       "      <td>8563960.40</td>\n",
       "      <td>8036507.99</td>\n",
       "      <td>7340419.13</td>\n",
       "      <td>6664161.76</td>\n",
       "    </tr>\n",
       "  </tbody>\n",
       "</table>\n",
       "<p>10 rows × 25 columns</p>\n",
       "</div>"
      ],
      "text/plain": [
       "        Fecha         H01         H02         H03         H04         H05  \\\n",
       "0  2017-01-01  6090271.96  5887031.28  5708693.89  5538133.02  5389774.53   \n",
       "1  2017-01-02  5557603.42  5361012.17  5239119.86  5163721.70  5249539.75   \n",
       "2  2017-01-03  6160676.02  5924880.04  5764416.93  5685832.28  5778222.13   \n",
       "3  2017-01-04  6321851.20  6092135.24  5905390.85  5827867.82  5925730.02   \n",
       "4  2017-01-05  6395397.96  6162409.22  6001153.67  5918673.26  6005924.21   \n",
       "5  2017-01-06  6381819.62  6131392.34  5995648.54  5926665.13  6016864.72   \n",
       "6  2017-01-07  6525895.31  6240836.72  6090880.04  5990958.51  6031128.61   \n",
       "7  2017-01-08  6326836.49  6094599.00  5894932.99  5767066.60  5723343.19   \n",
       "8  2017-01-09  5917367.06  5725053.67  5567058.06  5496669.03  5532239.19   \n",
       "9  2017-01-10  5956092.23  5712085.93  5606050.44  5595323.09  5770049.55   \n",
       "\n",
       "          H06         H07         H08         H09  ...         H15  \\\n",
       "0  5288199.94  4851217.85  4876162.18  5073813.27  ...  5745568.87   \n",
       "1  5438852.95  5566947.57  6055220.80  6588005.66  ...  7610559.73   \n",
       "2  5985840.29  6083907.36  6545100.21  7092804.54  ...  8148614.93   \n",
       "3  6182279.89  6276759.96  6737660.53  7256819.19  ...  8164513.51   \n",
       "4  6225027.53  6322923.78  6739120.44  7307847.42  ...  8144209.65   \n",
       "5  6294425.78  6434787.53  6882054.00  7365946.07  ...  8240411.86   \n",
       "6  6153095.75  6153441.16  6494933.30  7032859.86  ...  7541365.53   \n",
       "7  5732869.09  5517452.94  5695553.38  6006775.90  ...  6530022.48   \n",
       "8  5566907.36  5397204.37  5600906.11  5965768.21  ...  6659606.88   \n",
       "9  6103857.89  6296790.66  6776968.47  7381221.79  ...  8317358.60   \n",
       "\n",
       "          H16         H17         H18         H19         H20         H21  \\\n",
       "0  5647807.40  5609297.84  5690105.56  6761038.26  7077861.59  6979468.90   \n",
       "1  7584026.97  7421194.49  7317194.26  8182697.67  8482127.69  8251009.75   \n",
       "2  8117168.00  7930900.03  7783762.28  8653467.38  8835882.88  8562448.23   \n",
       "3  8132006.92  7962749.39  7841533.59  8700506.07  8860255.66  8611085.76   \n",
       "4  8136193.07  8022918.36  7927405.07  8718181.89  8832234.87  8579992.47   \n",
       "5  8173415.39  7996806.30  7822605.04  8675548.79  8846841.24  8592264.60   \n",
       "6  7431992.46  7301062.46  7354996.31  8254006.56  8462231.18  8247014.72   \n",
       "7  6424695.70  6390754.63  6548894.08  7552952.28  7754913.10  7563722.46   \n",
       "8  6544740.37  6509866.66  6712253.52  7703462.32  7979736.68  7716144.47   \n",
       "9  8286351.48  8191637.05  8053310.11  8803188.92  8925547.21  8563960.40   \n",
       "\n",
       "          H22         H23         H24  \n",
       "0  6695312.12  6289107.72  5794545.98  \n",
       "1  7836278.95  7221234.85  6660691.64  \n",
       "2  8095841.79  7443299.51  6840297.15  \n",
       "3  8147451.75  7471240.82  6838250.32  \n",
       "4  8063978.64  7406615.66  6829864.57  \n",
       "5  8136250.38  7518243.88  6921639.21  \n",
       "6  7846633.93  7263016.84  6748022.10  \n",
       "7  7188256.16  6705884.31  6238894.75  \n",
       "8  7297017.51  6795361.42  6321478.25  \n",
       "9  8036507.99  7340419.13  6664161.76  \n",
       "\n",
       "[10 rows x 25 columns]"
      ]
     },
     "execution_count": 8,
     "metadata": {},
     "output_type": "execute_result"
    }
   ],
   "source": [
    "df = pd.read_excel(\n",
    "    raw / \"demanda_comercial.xlsx\",\n",
    "    sheet_name=\"DemandaComercial\",\n",
    ")\n",
    "\n",
    "df.head(10)"
   ]
  },
  {
   "cell_type": "markdown",
   "metadata": {},
   "source": [
    "## 7.7.5.3 Análisis exploratorio"
   ]
  },
  {
   "cell_type": "code",
   "execution_count": 10,
   "metadata": {},
   "outputs": [
    {
     "data": {
      "text/plain": [
       "30000"
      ]
     },
     "execution_count": 10,
     "metadata": {},
     "output_type": "execute_result"
    }
   ],
   "source": [
    "#\n",
    "# Número de registros\n",
    "#\n",
    "len(df)"
   ]
  },
  {
   "cell_type": "code",
   "execution_count": 11,
   "metadata": {},
   "outputs": [
    {
     "data": {
      "text/plain": [
       "gender\n",
       "F    22054\n",
       "M     5222\n",
       "Name: count, dtype: int64"
      ]
     },
     "execution_count": 11,
     "metadata": {},
     "output_type": "execute_result"
    }
   ],
   "source": [
    "#\n",
    "# Valores diferentes de NA\n",
    "#\n",
    "df.gender.value_counts()"
   ]
  },
  {
   "cell_type": "code",
   "execution_count": 12,
   "metadata": {},
   "outputs": [
    {
     "data": {
      "text/plain": [
       "2724"
      ]
     },
     "execution_count": 12,
     "metadata": {},
     "output_type": "execute_result"
    }
   ],
   "source": [
    "#\n",
    "# Número de registros con NA\n",
    "#\n",
    "df.gender.isna().sum()"
   ]
  },
  {
   "cell_type": "code",
   "execution_count": 14,
   "metadata": {},
   "outputs": [
    {
     "data": {
      "text/plain": [
       "count    24914.000000\n",
       "mean        17.993950\n",
       "std          7.858054\n",
       "min          3.086000\n",
       "25%         16.312000\n",
       "50%         17.287000\n",
       "75%         18.259000\n",
       "max        106.927000\n",
       "Name: age, dtype: float64"
      ]
     },
     "execution_count": 14,
     "metadata": {},
     "output_type": "execute_result"
    }
   ],
   "source": [
    "#\n",
    "# Se analizan los rangos de las variables\n",
    "# para determinar si hay datos por fuera de sus\n",
    "# rangos válidos. La variable `edad` contiene\n",
    "# datos por fuera de la población de interés\n",
    "#\n",
    "df.age.describe()"
   ]
  },
  {
   "cell_type": "code",
   "execution_count": 15,
   "metadata": {},
   "outputs": [
    {
     "data": {
      "text/plain": [
       "5086"
      ]
     },
     "execution_count": 15,
     "metadata": {},
     "output_type": "execute_result"
    }
   ],
   "source": [
    "# cantidad de nulos en la columna age\n",
    "df.age.isnull().sum()"
   ]
  },
  {
   "cell_type": "code",
   "execution_count": 17,
   "metadata": {},
   "outputs": [
    {
     "data": {
      "text/plain": [
       "count    24477.000000\n",
       "mean        17.252429\n",
       "std          1.157465\n",
       "min         13.027000\n",
       "25%         16.304000\n",
       "50%         17.265000\n",
       "75%         18.220000\n",
       "max         19.995000\n",
       "Name: age, dtype: float64"
      ]
     },
     "execution_count": 17,
     "metadata": {},
     "output_type": "execute_result"
    }
   ],
   "source": [
    "#\n",
    "# Se seleccionan las personas entre 13 y 20 años y\n",
    "# se descartan las demás observaciones\n",
    "#\n",
    "df['age'] = df['age'].map(lambda x: np.nan if x <  13 else x)\n",
    "df['age'] = df['age'].map(lambda x: np.nan if x >= 20 else x)\n",
    "\n",
    "#\n",
    "# Se verifica la variable edad en los registros de las\n",
    "# personas en la población de interés.\n",
    "#\n",
    "df.age.describe()"
   ]
  },
  {
   "cell_type": "code",
   "execution_count": 19,
   "metadata": {},
   "outputs": [
    {
     "data": {
      "text/plain": [
       "5523"
      ]
     },
     "execution_count": 19,
     "metadata": {},
     "output_type": "execute_result"
    }
   ],
   "source": [
    "# cantidad de nulos en la columna age\n",
    "df.age.isnull().sum()"
   ]
  },
  {
   "cell_type": "code",
   "execution_count": 23,
   "metadata": {},
   "outputs": [
    {
     "data": {
      "text/plain": [
       "17.252428933284307"
      ]
     },
     "execution_count": 23,
     "metadata": {},
     "output_type": "execute_result"
    }
   ],
   "source": [
    "#\n",
    "# Edad sin tener en cuenta los datos faltantes\n",
    "#\n",
    "df.age.mean()"
   ]
  },
  {
   "cell_type": "code",
   "execution_count": 18,
   "metadata": {},
   "outputs": [
    {
     "data": {
      "text/plain": [
       "gender\n",
       "F    22054\n",
       "M     5222\n",
       "Name: count, dtype: int64"
      ]
     },
     "execution_count": 18,
     "metadata": {},
     "output_type": "execute_result"
    }
   ],
   "source": [
    "#\n",
    "# Se crean nuevas variables numéricas a partir\n",
    "# de información categórica\n",
    "#\n",
    "df['female'] = df['gender'].map(lambda x: 1 if x == 'F' else 0)\n",
    "df['no_gender'] = df['gender'].map(lambda x: 1 if pd.isnull(x) else 0)\n",
    "\n",
    "# Cantidad de hombres y mujeres en la muestra.\n",
    "df.gender.value_counts()"
   ]
  },
  {
   "cell_type": "code",
   "execution_count": 20,
   "metadata": {},
   "outputs": [
    {
     "data": {
      "text/plain": [
       "2724"
      ]
     },
     "execution_count": 20,
     "metadata": {},
     "output_type": "execute_result"
    }
   ],
   "source": [
    "#\n",
    "# Número de registros con NA\n",
    "#\n",
    "df.gender.isna().sum()"
   ]
  },
  {
   "cell_type": "code",
   "execution_count": 21,
   "metadata": {},
   "outputs": [
    {
     "data": {
      "text/plain": [
       "female\n",
       "1    22054\n",
       "0     7946\n",
       "Name: count, dtype: int64"
      ]
     },
     "execution_count": 21,
     "metadata": {},
     "output_type": "execute_result"
    }
   ],
   "source": [
    "#\n",
    "# Cantidad de hombres y mujeres en la muestra\n",
    "# 0=Male, 1=Female\n",
    "#\n",
    "df.female.value_counts()"
   ]
  },
  {
   "cell_type": "code",
   "execution_count": 22,
   "metadata": {},
   "outputs": [
    {
     "data": {
      "text/plain": [
       "no_gender\n",
       "0    27276\n",
       "1     2724\n",
       "Name: count, dtype: int64"
      ]
     },
     "execution_count": 22,
     "metadata": {},
     "output_type": "execute_result"
    }
   ],
   "source": [
    "#\n",
    "# Cantidad de patrones para los que se\n",
    "# conoce y no se conoce el genero\n",
    "#\n",
    "df.no_gender.value_counts()"
   ]
  },
  {
   "cell_type": "code",
   "execution_count": 24,
   "metadata": {},
   "outputs": [
    {
     "data": {
      "text/plain": [
       "gradyear\n",
       "2006    18.655858\n",
       "2007    17.706172\n",
       "2008    16.767701\n",
       "2009    15.819573\n",
       "Name: age, dtype: float64"
      ]
     },
     "execution_count": 24,
     "metadata": {},
     "output_type": "execute_result"
    }
   ],
   "source": [
    "#\n",
    "# Se calcula una tabla para determinar\n",
    "# la edad promedio por año de graduación\n",
    "#\n",
    "df.groupby(\"gradyear\")['age'].mean()"
   ]
  },
  {
   "cell_type": "code",
   "execution_count": 25,
   "metadata": {},
   "outputs": [
    {
     "data": {
      "text/plain": [
       "count    30000.000000\n",
       "mean        17.237326\n",
       "std          1.141821\n",
       "min         13.027000\n",
       "25%         16.282000\n",
       "50%         17.238000\n",
       "75%         18.212000\n",
       "max         19.995000\n",
       "Name: age, dtype: float64"
      ]
     },
     "execution_count": 25,
     "metadata": {},
     "output_type": "execute_result"
    }
   ],
   "source": [
    "#\n",
    "# Los valores faltantes se llenan con el promedio\n",
    "# de acuerdo con el año de graduación\n",
    "#\n",
    "ave_age = df.groupby(\"gradyear\")['age'].mean()\n",
    "df.age = [x if not pd.isnull(x) else ave_age[y] for x, y in zip(df.age, df.gradyear)]\n",
    "df.age.describe()"
   ]
  },
  {
   "cell_type": "markdown",
   "metadata": {},
   "source": [
    "## 7.7.5.4 Entrenamiento del modelo"
   ]
  },
  {
   "cell_type": "code",
   "execution_count": 26,
   "metadata": {},
   "outputs": [
    {
     "data": {
      "text/html": [
       "<div>\n",
       "<style scoped>\n",
       "    .dataframe tbody tr th:only-of-type {\n",
       "        vertical-align: middle;\n",
       "    }\n",
       "\n",
       "    .dataframe tbody tr th {\n",
       "        vertical-align: top;\n",
       "    }\n",
       "\n",
       "    .dataframe thead th {\n",
       "        text-align: right;\n",
       "    }\n",
       "</style>\n",
       "<table border=\"1\" class=\"dataframe\">\n",
       "  <thead>\n",
       "    <tr style=\"text-align: right;\">\n",
       "      <th></th>\n",
       "      <th>basketball</th>\n",
       "      <th>football</th>\n",
       "      <th>soccer</th>\n",
       "      <th>softball</th>\n",
       "      <th>volleyball</th>\n",
       "      <th>swimming</th>\n",
       "      <th>cheerleading</th>\n",
       "      <th>baseball</th>\n",
       "      <th>tennis</th>\n",
       "      <th>sports</th>\n",
       "      <th>...</th>\n",
       "      <th>shopping</th>\n",
       "      <th>clothes</th>\n",
       "      <th>hollister</th>\n",
       "      <th>abercrombie</th>\n",
       "      <th>die</th>\n",
       "      <th>death</th>\n",
       "      <th>drunk</th>\n",
       "      <th>drugs</th>\n",
       "      <th>female</th>\n",
       "      <th>no_gender</th>\n",
       "    </tr>\n",
       "  </thead>\n",
       "  <tbody>\n",
       "    <tr>\n",
       "      <th>0</th>\n",
       "      <td>0</td>\n",
       "      <td>0</td>\n",
       "      <td>0</td>\n",
       "      <td>0</td>\n",
       "      <td>0</td>\n",
       "      <td>0</td>\n",
       "      <td>0</td>\n",
       "      <td>0</td>\n",
       "      <td>0</td>\n",
       "      <td>0</td>\n",
       "      <td>...</td>\n",
       "      <td>0</td>\n",
       "      <td>0</td>\n",
       "      <td>0</td>\n",
       "      <td>0</td>\n",
       "      <td>0</td>\n",
       "      <td>0</td>\n",
       "      <td>0</td>\n",
       "      <td>0</td>\n",
       "      <td>0</td>\n",
       "      <td>0</td>\n",
       "    </tr>\n",
       "    <tr>\n",
       "      <th>1</th>\n",
       "      <td>0</td>\n",
       "      <td>1</td>\n",
       "      <td>0</td>\n",
       "      <td>0</td>\n",
       "      <td>0</td>\n",
       "      <td>0</td>\n",
       "      <td>0</td>\n",
       "      <td>0</td>\n",
       "      <td>0</td>\n",
       "      <td>0</td>\n",
       "      <td>...</td>\n",
       "      <td>0</td>\n",
       "      <td>0</td>\n",
       "      <td>0</td>\n",
       "      <td>0</td>\n",
       "      <td>0</td>\n",
       "      <td>0</td>\n",
       "      <td>0</td>\n",
       "      <td>0</td>\n",
       "      <td>1</td>\n",
       "      <td>0</td>\n",
       "    </tr>\n",
       "    <tr>\n",
       "      <th>2</th>\n",
       "      <td>0</td>\n",
       "      <td>1</td>\n",
       "      <td>0</td>\n",
       "      <td>0</td>\n",
       "      <td>0</td>\n",
       "      <td>0</td>\n",
       "      <td>0</td>\n",
       "      <td>0</td>\n",
       "      <td>0</td>\n",
       "      <td>0</td>\n",
       "      <td>...</td>\n",
       "      <td>0</td>\n",
       "      <td>0</td>\n",
       "      <td>0</td>\n",
       "      <td>0</td>\n",
       "      <td>0</td>\n",
       "      <td>1</td>\n",
       "      <td>0</td>\n",
       "      <td>0</td>\n",
       "      <td>0</td>\n",
       "      <td>0</td>\n",
       "    </tr>\n",
       "    <tr>\n",
       "      <th>3</th>\n",
       "      <td>0</td>\n",
       "      <td>0</td>\n",
       "      <td>0</td>\n",
       "      <td>0</td>\n",
       "      <td>0</td>\n",
       "      <td>0</td>\n",
       "      <td>0</td>\n",
       "      <td>0</td>\n",
       "      <td>0</td>\n",
       "      <td>0</td>\n",
       "      <td>...</td>\n",
       "      <td>0</td>\n",
       "      <td>0</td>\n",
       "      <td>0</td>\n",
       "      <td>0</td>\n",
       "      <td>0</td>\n",
       "      <td>0</td>\n",
       "      <td>0</td>\n",
       "      <td>0</td>\n",
       "      <td>1</td>\n",
       "      <td>0</td>\n",
       "    </tr>\n",
       "    <tr>\n",
       "      <th>4</th>\n",
       "      <td>0</td>\n",
       "      <td>0</td>\n",
       "      <td>0</td>\n",
       "      <td>0</td>\n",
       "      <td>0</td>\n",
       "      <td>0</td>\n",
       "      <td>0</td>\n",
       "      <td>0</td>\n",
       "      <td>0</td>\n",
       "      <td>0</td>\n",
       "      <td>...</td>\n",
       "      <td>2</td>\n",
       "      <td>0</td>\n",
       "      <td>0</td>\n",
       "      <td>0</td>\n",
       "      <td>0</td>\n",
       "      <td>0</td>\n",
       "      <td>1</td>\n",
       "      <td>1</td>\n",
       "      <td>0</td>\n",
       "      <td>1</td>\n",
       "    </tr>\n",
       "  </tbody>\n",
       "</table>\n",
       "<p>5 rows × 38 columns</p>\n",
       "</div>"
      ],
      "text/plain": [
       "   basketball  football  soccer  softball  volleyball  swimming  cheerleading  \\\n",
       "0           0         0       0         0           0         0             0   \n",
       "1           0         1       0         0           0         0             0   \n",
       "2           0         1       0         0           0         0             0   \n",
       "3           0         0       0         0           0         0             0   \n",
       "4           0         0       0         0           0         0             0   \n",
       "\n",
       "   baseball  tennis  sports  ...  shopping  clothes  hollister  abercrombie  \\\n",
       "0         0       0       0  ...         0        0          0            0   \n",
       "1         0       0       0  ...         0        0          0            0   \n",
       "2         0       0       0  ...         0        0          0            0   \n",
       "3         0       0       0  ...         0        0          0            0   \n",
       "4         0       0       0  ...         2        0          0            0   \n",
       "\n",
       "   die  death  drunk  drugs  female  no_gender  \n",
       "0    0      0      0      0       0          0  \n",
       "1    0      0      0      0       1          0  \n",
       "2    0      1      0      0       0          0  \n",
       "3    0      0      0      0       1          0  \n",
       "4    0      0      1      1       0          1  \n",
       "\n",
       "[5 rows x 38 columns]"
      ]
     },
     "execution_count": 26,
     "metadata": {},
     "output_type": "execute_result"
    }
   ],
   "source": [
    "#\n",
    "# Se separa la información de las palabras relacionadas\n",
    "# con los intereses del resto de la información\n",
    "##\n",
    "interests = df.iloc[:,4:].copy()\n",
    "interests.head()"
   ]
  },
  {
   "cell_type": "code",
   "execution_count": 28,
   "metadata": {},
   "outputs": [
    {
     "data": {
      "text/plain": [
       "array([[0.        , 0.        , 0.        , ..., 0.        , 0.        ,\n",
       "        0.        ],\n",
       "       [0.        , 0.06666667, 0.        , ..., 0.        , 1.        ,\n",
       "        0.        ],\n",
       "       [0.        , 0.06666667, 0.        , ..., 0.        , 0.        ,\n",
       "        0.        ],\n",
       "       ...,\n",
       "       [0.        , 0.06666667, 0.        , ..., 0.        , 0.        ,\n",
       "        0.        ],\n",
       "       [0.        , 0.        , 0.        , ..., 0.        , 0.        ,\n",
       "        0.        ],\n",
       "       [0.08333333, 0.        , 0.        , ..., 0.        , 1.        ,\n",
       "        0.        ]])"
      ]
     },
     "execution_count": 28,
     "metadata": {},
     "output_type": "execute_result"
    }
   ],
   "source": [
    "#\n",
    "# Se escala para eliminar problemas asociados\n",
    "# a la medida de los datos.\n",
    "#\n",
    "scaler = MinMaxScaler()\n",
    "interests_z = scaler.fit_transform(interests)\n",
    "interests_z"
   ]
  },
  {
   "cell_type": "code",
   "execution_count": 30,
   "metadata": {},
   "outputs": [],
   "source": [
    "#\n",
    "# Se usa el algoritmo para determinar los centros de 5 grupos\n",
    "#\n",
    "df_clusters = KMeans(n_clusters=5, random_state=1).fit(interests_z)"
   ]
  },
  {
   "cell_type": "markdown",
   "metadata": {},
   "source": [
    "## 7.7.5.5 Evaluación del modelo"
   ]
  },
  {
   "cell_type": "code",
   "execution_count": 31,
   "metadata": {},
   "outputs": [
    {
     "data": {
      "text/plain": [
       "0\n",
       "3    16463\n",
       "0     5222\n",
       "4     3111\n",
       "2     2724\n",
       "1     2480\n",
       "Name: count, dtype: int64"
      ]
     },
     "execution_count": 31,
     "metadata": {},
     "output_type": "execute_result"
    }
   ],
   "source": [
    "#\n",
    "# Número de patrones asignados a cada cluster\n",
    "#\n",
    "(pd.DataFrame(df_clusters.predict(interests_z)))[0].value_counts()"
   ]
  },
  {
   "cell_type": "code",
   "execution_count": 32,
   "metadata": {},
   "outputs": [
    {
     "data": {
      "text/plain": [
       "array([[ 1.31415167e-02,  2.98991446e-02,  7.78047293e-03,\n",
       "         5.40698853e-04,  2.47578924e-03,  2.57595038e-03,\n",
       "         9.57487553e-04,  1.69714669e-02,  6.88114388e-03,\n",
       "         1.66443253e-02,  3.95761522e-03,  1.40767468e-03,\n",
       "         4.57466275e-03,  5.18958254e-03,  2.26850897e-03,\n",
       "         6.85561088e-03,  5.32130961e-03,  4.45666934e-03,\n",
       "         1.08196093e-02,  1.20461053e-02,  5.41283470e-03,\n",
       "         4.44796490e-03,  4.16826248e-03,  2.48946764e-03,\n",
       "         4.88059871e-03,  3.42567769e-03,  7.43736509e-05,\n",
       "         1.13302694e-02,  4.43926047e-03,  9.02432018e-03,\n",
       "         3.63845270e-03,  2.84852547e-03,  8.10382647e-03,\n",
       "         7.44104612e-03,  9.40731520e-03,  3.44695519e-03,\n",
       "        -1.18793864e-14, -1.30451205e-15],\n",
       "       [ 1.71845574e-02,  2.30024213e-02,  1.04176008e-02,\n",
       "         1.66642928e-02,  1.43837196e-02,  7.12072691e-03,\n",
       "         1.07613667e-02,  7.91969330e-03,  7.37153619e-03,\n",
       "         1.93704600e-02,  3.37637880e-02,  4.74703708e-03,\n",
       "         1.30257376e-02,  2.31234867e-02,  1.36431365e-02,\n",
       "         2.38902341e-02,  6.87871451e-03,  4.54912319e-03,\n",
       "         1.86642454e-02,  1.92935931e-02,  7.94331893e-03,\n",
       "         8.82309781e-03,  3.96825397e-03,  2.97160467e-03,\n",
       "         3.24695155e-02,  2.29127433e-02,  1.00579287e-03,\n",
       "         3.54788808e-02,  4.68486316e-02,  1.67271994e-01,\n",
       "         1.61420500e-02,  1.24092010e-02,  1.41976667e-02,\n",
       "         1.32883662e-02,  2.13882163e-02,  1.01140032e-02,\n",
       "         1.00000000e+00, -1.05471187e-15],\n",
       "       [ 7.20447871e-03,  9.83847283e-03,  6.56713983e-03,\n",
       "         5.29066252e-03,  7.23725614e-03,  3.31580693e-03,\n",
       "         9.87110458e-03,  3.78579295e-03,  5.33529124e-03,\n",
       "         6.36319139e-03,  1.40316528e-02,  1.23013113e-03,\n",
       "         5.91450481e-03,  7.92951542e-03,  2.73918446e-03,\n",
       "         1.17229564e-02,  2.99247986e-03,  2.20264317e-03,\n",
       "         8.48935389e-03,  7.60436333e-03,  4.66086730e-03,\n",
       "         3.89634228e-03,  3.20606951e-03,  1.36830864e-03,\n",
       "         8.08628011e-03,  8.89215206e-03,  1.82992272e-04,\n",
       "         1.79882526e-02,  2.30943799e-02,  1.40877386e-02,\n",
       "         7.05661609e-03,  5.00183554e-03,  7.22533707e-03,\n",
       "         5.03461296e-03,  7.70925110e-03,  2.06497797e-03,\n",
       "        -6.32827124e-15,  1.00000000e+00],\n",
       "       [ 8.72410861e-03,  1.05408087e-02,  7.37456159e-03,\n",
       "         1.06727742e-02,  1.02133789e-02,  3.81304705e-03,\n",
       "         6.02023393e-03,  3.16998724e-03,  4.80268886e-03,\n",
       "         9.02022718e-03,  1.55095264e-02,  1.35870868e-03,\n",
       "         7.69064637e-03,  1.05387839e-02,  2.55584785e-03,\n",
       "         1.29968212e-02,  4.11114731e-03,  3.69423445e-03,\n",
       "         1.03850301e-02,  9.58281630e-03,  5.62212003e-03,\n",
       "         4.90355784e-03,  3.46028468e-03,  1.70630560e-03,\n",
       "         8.62868578e-03,  8.98310690e-03,  2.19192291e-04,\n",
       "         1.26951345e-02,  1.69305274e-02, -1.22471477e-15,\n",
       "         3.51630255e-03,  2.96877847e-03,  7.29459449e-03,\n",
       "         7.46696054e-03,  8.62540242e-03,  2.73719857e-03,\n",
       "         1.00000000e+00, -1.45716772e-15],\n",
       "       [ 1.91803191e-02,  2.92750830e-02,  1.34204233e-02,\n",
       "         1.61372612e-02,  2.25781286e-02,  8.72511735e-03,\n",
       "         6.35328551e-02,  8.35207196e-03,  8.63047435e-03,\n",
       "         1.57939822e-02,  4.50440804e-02,  3.29968835e-03,\n",
       "         1.17071778e-02,  3.22197237e-02,  7.67253947e-03,\n",
       "         2.70692794e-02,  4.98398699e-03,  3.00791403e-03,\n",
       "         1.57454626e-02,  1.87692166e-02,  7.54695499e-03,\n",
       "         1.05276991e-02,  4.74354856e-03,  1.92740122e-03,\n",
       "         2.33198184e-02,  3.95474176e-02,  6.70955675e-04,\n",
       "         7.65606596e-02,  1.54776159e-01,  1.82701574e-02,\n",
       "         3.10882678e-02,  2.69033087e-02,  1.08489326e-02,\n",
       "         1.16791336e-02,  2.07998715e-02,  6.28413106e-03,\n",
       "         1.00000000e+00, -1.16573418e-15]])"
      ]
     },
     "execution_count": 32,
     "metadata": {},
     "output_type": "execute_result"
    }
   ],
   "source": [
    "#\n",
    "# Frecuencia de las palabras en cada cluster\n",
    "#\n",
    "df_clusters.cluster_centers_"
   ]
  },
  {
   "cell_type": "markdown",
   "metadata": {},
   "source": [
    "Actividad.— Haga un heatmap para la interpretación de los grupos.\n",
    "\n",
    "Actividad.— Cuál de los clusters anteriores tiene más interés en los deportes?\n",
    "\n",
    "Actividad.— Cuál es el cluster de las princesas?\n",
    "\n",
    "Actividad.— Cuál cluster representa las personas que no hablan o no han posteado sobre sus intereses?\n",
    "\n",
    "## 7.7.5.6 Análisis del modelo"
   ]
  },
  {
   "cell_type": "code",
   "execution_count": 33,
   "metadata": {},
   "outputs": [
    {
     "data": {
      "text/html": [
       "<div>\n",
       "<style scoped>\n",
       "    .dataframe tbody tr th:only-of-type {\n",
       "        vertical-align: middle;\n",
       "    }\n",
       "\n",
       "    .dataframe tbody tr th {\n",
       "        vertical-align: top;\n",
       "    }\n",
       "\n",
       "    .dataframe thead th {\n",
       "        text-align: right;\n",
       "    }\n",
       "</style>\n",
       "<table border=\"1\" class=\"dataframe\">\n",
       "  <thead>\n",
       "    <tr style=\"text-align: right;\">\n",
       "      <th></th>\n",
       "      <th>cluster</th>\n",
       "      <th>gender</th>\n",
       "      <th>age</th>\n",
       "      <th>friends</th>\n",
       "    </tr>\n",
       "  </thead>\n",
       "  <tbody>\n",
       "    <tr>\n",
       "      <th>0</th>\n",
       "      <td>0</td>\n",
       "      <td>M</td>\n",
       "      <td>18.982</td>\n",
       "      <td>7</td>\n",
       "    </tr>\n",
       "    <tr>\n",
       "      <th>1</th>\n",
       "      <td>4</td>\n",
       "      <td>F</td>\n",
       "      <td>18.801</td>\n",
       "      <td>0</td>\n",
       "    </tr>\n",
       "    <tr>\n",
       "      <th>2</th>\n",
       "      <td>0</td>\n",
       "      <td>M</td>\n",
       "      <td>18.335</td>\n",
       "      <td>69</td>\n",
       "    </tr>\n",
       "    <tr>\n",
       "      <th>3</th>\n",
       "      <td>3</td>\n",
       "      <td>F</td>\n",
       "      <td>18.875</td>\n",
       "      <td>0</td>\n",
       "    </tr>\n",
       "    <tr>\n",
       "      <th>4</th>\n",
       "      <td>2</td>\n",
       "      <td>NaN</td>\n",
       "      <td>18.995</td>\n",
       "      <td>10</td>\n",
       "    </tr>\n",
       "  </tbody>\n",
       "</table>\n",
       "</div>"
      ],
      "text/plain": [
       "   cluster gender     age  friends\n",
       "0        0      M  18.982        7\n",
       "1        4      F  18.801        0\n",
       "2        0      M  18.335       69\n",
       "3        3      F  18.875        0\n",
       "4        2    NaN  18.995       10"
      ]
     },
     "execution_count": 33,
     "metadata": {},
     "output_type": "execute_result"
    }
   ],
   "source": [
    "#\n",
    "# Se asigna a cada ejemplo de los datos\n",
    "# el cluster al que pertenece\n",
    "#\n",
    "df[\"cluster\"] = df_clusters.predict(interests_z).tolist()\n",
    "\n",
    "#\n",
    "# clusters a los que pertenecen los primeros cinco patrones\n",
    "#\n",
    "df[[\"cluster\", \"gender\", \"age\", \"friends\"]].head(5)"
   ]
  },
  {
   "cell_type": "code",
   "execution_count": 34,
   "metadata": {},
   "outputs": [
    {
     "data": {
      "text/plain": [
       "cluster\n",
       "0    17.432631\n",
       "1    17.071663\n",
       "2    17.269795\n",
       "3    17.229713\n",
       "4    17.053415\n",
       "Name: age, dtype: float64"
      ]
     },
     "execution_count": 34,
     "metadata": {},
     "output_type": "execute_result"
    }
   ],
   "source": [
    "#\n",
    "# Características demográficas de los clusters.\n",
    "# Edad por cluster.\n",
    "#\n",
    "df.groupby(\"cluster\")['age'].mean()"
   ]
  },
  {
   "cell_type": "code",
   "execution_count": 35,
   "metadata": {},
   "outputs": [
    {
     "data": {
      "text/plain": [
       "cluster\n",
       "0    0.0\n",
       "1    1.0\n",
       "2    0.0\n",
       "3    1.0\n",
       "4    1.0\n",
       "Name: female, dtype: float64"
      ]
     },
     "execution_count": 35,
     "metadata": {},
     "output_type": "execute_result"
    }
   ],
   "source": [
    "#\n",
    "# Promedio de mujeres por cluster\n",
    "#\n",
    "\n",
    "#\n",
    "# cluster   female\n",
    "#       1 0.8381171\n",
    "#       2 0.7250000\n",
    "#       3 0.8378198\n",
    "#       4 0.8027079\n",
    "#       5 0.6994515\n",
    "#\n",
    "df.groupby(\"cluster\")['female'].mean()"
   ]
  },
  {
   "cell_type": "code",
   "execution_count": 36,
   "metadata": {},
   "outputs": [
    {
     "name": "stdout",
     "output_type": "stream",
     "text": [
      "0\n",
      "2480\n",
      "0\n",
      "16463\n",
      "3111\n"
     ]
    }
   ],
   "source": [
    "for a,b in df.groupby(\"cluster\"):\n",
    "    print(b['female'].sum())"
   ]
  },
  {
   "cell_type": "code",
   "execution_count": 37,
   "metadata": {},
   "outputs": [
    {
     "data": {
      "text/plain": [
       "cluster\n",
       "0    24.926465\n",
       "1    33.369758\n",
       "2    26.139134\n",
       "3    30.261374\n",
       "4    39.558020\n",
       "Name: friends, dtype: float64"
      ]
     },
     "execution_count": 37,
     "metadata": {},
     "output_type": "execute_result"
    }
   ],
   "source": [
    "#\n",
    "# Cantidad promedio de amigos por cluster\n",
    "#\n",
    "df.groupby(\"cluster\")['friends'].mean()"
   ]
  },
  {
   "cell_type": "markdown",
   "metadata": {},
   "source": [
    "Actividad.— Al analizar las distintas variables presentadas, qué puede inferir de cada cluster?\n",
    "\n",
    "Actividad.— Repita este ejercicio usando clustering jerárquico."
   ]
  },
  {
   "cell_type": "code",
   "execution_count": 8,
   "metadata": {},
   "outputs": [
    {
     "name": "stdout",
     "output_type": "stream",
     "text": [
      "ok_\n"
     ]
    }
   ],
   "source": [
    "print('ok_')"
   ]
  }
 ],
 "metadata": {
  "kernelspec": {
   "display_name": "Python 3",
   "language": "python",
   "name": "python3"
  },
  "language_info": {
   "codemirror_mode": {
    "name": "ipython",
    "version": 3
   },
   "file_extension": ".py",
   "mimetype": "text/x-python",
   "name": "python",
   "nbconvert_exporter": "python",
   "pygments_lexer": "ipython3",
   "version": "3.12.1"
  }
 },
 "nbformat": 4,
 "nbformat_minor": 2
}
